{
 "cells": [
  {
   "attachments": {},
   "cell_type": "markdown",
   "metadata": {},
   "source": [
    "# Codes for MACS 30122 Final Project"
   ]
  },
  {
   "cell_type": "code",
   "execution_count": 2,
   "metadata": {},
   "outputs": [],
   "source": [
    "# import libraries\n",
    "import requests\n",
    "from bs4 import BeautifulSoup\n",
    "from selenium import webdriver\n",
    "from selenium.webdriver.chrome.service import Service\n",
    "import winsound\n",
    "\n",
    "import recordlinkage\n",
    "from recordlinkage.index import Full\n",
    "\n",
    "import csv\n",
    "import pandas as pd\n",
    "import numpy as np\n",
    "import re\n",
    "import math\n",
    "import sqlite3\n",
    "import time\n",
    "import random\n",
    "\n",
    "import plotly.express as px\n",
    "import plotly.graph_objects as go\n",
    "import networkx as nx\n",
    "import plotly.figure_factory as ff\n",
    "\n",
    "from bertopic import BERTopic\n",
    "from umap import UMAP\n",
    "import nltk\n",
    "from nltk.corpus import stopwords\n",
    "nltk.download('stopwords')\n",
    "from nltk.tokenize import word_tokenize\n",
    "from nltk.stem import WordNetLemmatizer"
   ]
  },
  {
   "attachments": {},
   "cell_type": "markdown",
   "metadata": {},
   "source": [
    "## 1. Data Scraping and Wrangling"
   ]
  },
  {
   "attachments": {},
   "cell_type": "markdown",
   "metadata": {},
   "source": [
    "### 1.1 Article Scraping"
   ]
  },
  {
   "attachments": {},
   "cell_type": "markdown",
   "metadata": {},
   "source": [
    "- 3 Main Sources of Aritcles: 1): Offcial Websites 2): econpapers.repec.org 3): ideas.repec.org\n",
    "- Store every journal (20 in total) separately in a csv file.\n",
    "- Take the example of ideas.repec.org (using requests): "
   ]
  },
  {
   "cell_type": "code",
   "execution_count": null,
   "metadata": {},
   "outputs": [],
   "source": [
    "# Functions to scrape ideas.repec.org\n",
    "\n",
    "def find_url_list(start_url, page_number):\n",
    "    '''\n",
    "    Get the papers url list for all the journal database/\n",
    "\n",
    "    Inputs:\n",
    "        start_url(str): The url of the first page of the journal database.\n",
    "        page_number(int): The number of pages of the journal database.\n",
    "\n",
    "    Outputs:\n",
    "        Volume(DataFrame): A DataFrame record the title and url for all\\\n",
    "            papers of a specified journal.\n",
    "    '''\n",
    "    Volume = {}\n",
    "    Volume = read_one_page(start_url)\n",
    "\n",
    "    for i in range(2, page_number):\n",
    "        url = start_url[:-5]\n",
    "        page = \"{}.html\".format(i)\n",
    "        url = url + page\n",
    "        Volume_one_page = read_one_page(start_url)\n",
    "        Volume[\"Title\"].extend(Volume_one_page[\"Title\"])\n",
    "        Volume[\"Link\"].extend(Volume_one_page[\"Link\"])\n",
    "\n",
    "    Volume = pd.DataFrame(data=Volume)\n",
    "    return Volume\n",
    "\n",
    "\n",
    "def read_one_page(url):\n",
    "    '''\n",
    "    Crawl the paper title and paper url in one page of the journal database.\n",
    "\n",
    "    Inputs:\n",
    "        url(str): The url of one page of the journal database.\n",
    "\n",
    "    Outputs:\n",
    "        Volume(Dictionary): The dict record the title and url for each paper.\n",
    "    '''\n",
    "    \n",
    "    Volume = {\"Title\":[],\"Link\":[]}\n",
    "    # Read the journal database page and find all the paper links.\n",
    "    response = requests.get(url)\n",
    "    soup = BeautifulSoup(response.text,\"html\")\n",
    "    papers = soup.find_all(\"li\", class_ = \"list-group-item downgate\")\n",
    "    papers.extend(soup.find_all(\"li\", class_ = \"list-group-item downfree\"))\n",
    "    papers.extend(soup.find_all(\"li\", class_ = \"list-group-item downnone\"))\n",
    "    # Record all the papers title and link in Volume.\n",
    "    for paper in papers:\n",
    "        title = paper.a.text\n",
    "        href = paper.a.get(\"href\")\n",
    "        Volume[\"Title\"].append(title)\n",
    "        Volume[\"Link\"].append(\"https://ideas.repec.org\" + href)\n",
    "    \n",
    "    return Volume\n",
    "\n",
    "\n",
    "def crawl_all_url(Volume, start = None, end = None, sleep_time = 0.5):\n",
    "    '''\n",
    "    Crawl all the paper informations recorded in the Volume.\n",
    "\n",
    "    Inputs:\n",
    "        Volume(DataFrame): A DataFrame record the title and url for all\\\n",
    "            papers of a specified journal.\n",
    "        start(int): The start Volume index of the paper we want to start to crawl.\n",
    "        end(int): The end Volume index of the paper we want to end the crawl.\n",
    "        sleep_time(int): The seelp time for the crawl for each papaer.\n",
    "\n",
    "    Outputs:\n",
    "        df(DataFrame): The DataFrame record all the crawl information for all\\\n",
    "            papers in the journal.\n",
    "    '''\n",
    "\n",
    "    df = pd.DataFrame({\"journal\":[], \"title\":[],\"authors\":[],\"abstract\":[],\\\n",
    "                       \"cite\":[], \"JEL\":[],\"url\":[],\"vol\":[], \"doi\":[], \"year\":[]})\n",
    "    count = start\n",
    "    # Iterate over all volumes\n",
    "    for _, row in Volume.iloc[start: end].iterrows():\n",
    "        title, link = row[\"Title\"], row[\"Link\"]\n",
    "        print(count, \"Currently at\", title, \"link =\", link)\n",
    "\n",
    "        # Iterate over articles of the volumes\n",
    "        article = obtain_articles_infos(link)\n",
    "        df = pd.concat([df, article],ignore_index=True)\n",
    "        time.sleep(sleep_time)\n",
    "        count += 1\n",
    "    \n",
    "    return df\n",
    "\n",
    "\n",
    "def obtain_articles_infos(url):\n",
    "    '''\n",
    "    Obtain and record the article's journal name, title, authors, abstract,\\\n",
    "        cite, url, vol, publish time and the doi on the page of a single url.\n",
    "        (This code is designed for The Economic Journal in ideas.repec.org\\\n",
    "        database as an example, we also crawl the other journals in other databases)\n",
    "    \n",
    "        \n",
    "    Inputs:\n",
    "        url(str): The string of the URL we want to crawl.\n",
    "\n",
    "    Outputs:\n",
    "        info(DataFrame): The DataFrame with all the recorded information we\\\n",
    "                         said above.\n",
    "    '''\n",
    "    \n",
    "    # Define the structure of the DataFrame.\n",
    "    info = {\"journal\":[], \"title\":[],\"authors\":[],\"abstract\":[], \"cite\":[],\\\n",
    "            \"JEL\":[],\"url\":[],\"vol\":[], \"doi\":[], \"year\":[]}\n",
    "    journal = \"The Economic Journal\"\n",
    "\n",
    "    # Request the url and get the soup.\n",
    "    response = requests.get(url)\n",
    "    soup = BeautifulSoup(response.text,\"html\")\n",
    "\n",
    "    # Crawl the title of the journal\n",
    "    title = soup.find(\"h1\").text\n",
    "    \n",
    "    # ideas.repec.org have three type of keyword in cite and vol, try each keyword.\n",
    "    try:\n",
    "        cite = soup.find(\"li\", class_=\"list-group-item downgate\").text\n",
    "    except:\n",
    "        try:\n",
    "            cite = soup.find(\"li\", class_=\"list-group-item downfree\").text\n",
    "        except:\n",
    "            try:\n",
    "                cite = soup.find(\"li\", class_=\"list-group-item downnone\").text\n",
    "            except:\n",
    "                cite = \"N\\A\"\n",
    "                vol = \"N\\A\"\n",
    "\n",
    "    # If we crawl the cite successfully, clean and record cite and vol.\n",
    "    if cite != \"N\\A\":\n",
    "        vol = re.split(r\"vol.\", cite)[1]\n",
    "        cite = re.sub('(\\t|\\n)',\" \",cite)\n",
    "        cite = re.sub('\\s+',\" \",cite).strip()\n",
    "        vol = re.sub('(\\t|\\n)',\" \",vol)\n",
    "        vol = re.sub('\\s+',\" \",vol).strip()\n",
    "        vol.strip(\".\")\n",
    "\n",
    "    # Crawl, clean and record the author names.\n",
    "    try:\n",
    "        authors = soup.find_all(\"li\", class_=\"authorname\")\n",
    "        authors = [author.text for author in authors]\n",
    "    except:\n",
    "        authors = []        \n",
    "\n",
    "    # Crawl, clean and record the Abstract.\n",
    "    try:\n",
    "        abstract = soup.find(\"div\", id=\"abstract-body\").text\n",
    "    except:\n",
    "        abstract = \"N\\A\"\n",
    "\n",
    "    # Crawl, clean and record the doi.\n",
    "    try:\n",
    "        doi = soup.find(\"div\", id=\"biblio-body\").text\n",
    "        [doi] = re.findall(r\"DOI:...+\", doi)\n",
    "        doi = re.sub(r\"DOI:\",\"\", doi)\n",
    "    except:\n",
    "        doi = \"N\\A\"\n",
    "\n",
    "    # If there no \"doi\" in ideas.repec.org, record the url of the offical website.\n",
    "    if doi == \"N\\A\":\n",
    "        try:\n",
    "            doi = soup.find(\"span\", style=\"word-break:break-all\").text\n",
    "        except:\n",
    "            doi = \"N\\A\"\n",
    "\n",
    "    # Crawl, clean and record the publish time.\n",
    "    try:\n",
    "        year = soup.find(\"i\", style=\"word-break:break-all\").text\n",
    "        [year] = re.findall(r\"y:....\", year)\n",
    "        year = re.sub(\"y:\",\"\",year)\n",
    "    except:\n",
    "        year = \"N\\A\"\n",
    "\n",
    "    # Only journals in AEA(American Economic Association) have JEL.\n",
    "    jel = \"N\\A\"\n",
    "\n",
    "    # Make all the information into DataFrame.\n",
    "    info[\"journal\"].append(journal)\n",
    "    info[\"title\"].append(title)\n",
    "    info[\"authors\"].append(authors)\n",
    "    info[\"abstract\"].append(abstract)\n",
    "    info[\"cite\"].append(cite)\n",
    "    info[\"JEL\"].append(jel)\n",
    "    info[\"url\"].append(url)\n",
    "    info[\"vol\"].append(vol)\n",
    "    info[\"doi\"].append(doi)\n",
    "    info[\"year\"].append(year)\n",
    "    info = pd.DataFrame(info)\n",
    "\n",
    "    return info\n",
    "\n"
   ]
  },
  {
   "cell_type": "code",
   "execution_count": null,
   "metadata": {},
   "outputs": [],
   "source": [
    "# implementation\n",
    "# Get the url for all the papers in one journal.\n",
    "Volume = find_url_list(\"https://ideas.repec.org/s/ecj/econjl.html\", 18)\n",
    "\n",
    "# Crawl the information of a certain papers in the journal. (the first 10 papers)\n",
    "df = crawl_all_url(Volume, start = 0, end = 10, sleep_time = 0.5)\n",
    "\n",
    "# Write the DataFrame to .csv\n",
    "df.to_csv(\"The Economic Journal_test.csv\", encoding=\"utf-8\")"
   ]
  },
  {
   "attachments": {},
   "cell_type": "markdown",
   "metadata": {},
   "source": [
    "### 1.2 Article_author Link Scraping (Selenium)"
   ]
  },
  {
   "attachments": {},
   "cell_type": "markdown",
   "metadata": {},
   "source": [
    "- We scrape Google Scholars by searching for article doi and get for the authors.\n",
    "- We generate/update a file containing article_links.\n",
    "- We use Google userid as *authorid* and doi as *aritlceid*.\n",
    "- Besides, we also download the Google Scholars profiles locally as html during this process."
   ]
  },
  {
   "cell_type": "code",
   "execution_count": null,
   "metadata": {},
   "outputs": [],
   "source": [
    "# open chrome service\n",
    "chromedriver_path = \"D:/chromedriver.exe\"\n",
    "s = Service(chromedriver_path)\n",
    "driver = webdriver.Chrome(service=s)"
   ]
  },
  {
   "cell_type": "code",
   "execution_count": null,
   "metadata": {},
   "outputs": [],
   "source": [
    "# initialize ids to record\n",
    "authorids = []\n",
    "articleids = []\n",
    "\n",
    "# get existing author_article links\n",
    "base_url = \"https://scholar.google.com/scholar?hl=zh-CN&q=\"\n",
    "start_idx = 0\n",
    "existing_doi = list(pd.read_csv(\"author_article.csv\", encoding = \"utf-8-sig\")[\"doi\"])\n",
    "\n",
    "for i, doi in enumerate(df[\"doi\"][start_idx:]):\n",
    "\n",
    "    # scrape if this article has not been scraped yet\n",
    "    if (\"10.\" == doi[:3]) and (doi not in existing_doi) and (\"issue\" not in doi):\n",
    "        try:\n",
    "            driver.get(base_url+doi)\n",
    "            driver.refresh()\n",
    "            soup = bs4.BeautifulSoup(driver.page_source, \"html.parser\")\n",
    "\n",
    "            # get author links\n",
    "            authordiv = soup.find(\"div\", \"gs_a\")\n",
    "            authorlinks = [\"https://scholar.google.com/\"+tag.get(\"href\") for tag in authordiv.find_all(\"a\")]\n",
    "\n",
    "            # open author links to download profiles locally\n",
    "            if authorlinks != []:\n",
    "                for link in authorlinks:\n",
    "                    # get authorid\n",
    "                    authorid = link.split(\"user=\")[1].split(\"&\")[0]\n",
    "                    driver.get(link)\n",
    "                    driver.refresh()\n",
    "                    soup = bs4.BeautifulSoup(driver.page_source, \"html.parser\")\n",
    "\n",
    "                    # save to html, use authorid as filename\n",
    "                    with open(\"data/authors/html/\"+authorid+\".html\", \"w\", encoding = \"utf-8-sig\") as file:\n",
    "                        file.write(str(soup))\n",
    "                    file.close()\n",
    "\n",
    "                    # append authorid\n",
    "                    authorids.append(authorid)\n",
    "\n",
    "                    # append articleid\n",
    "                    articleids.append(doi)\n",
    "                    print(str(i+start_idx)+\",\"+authorid+\",\"+doi)\n",
    "                    time.sleep(random.randrange(1,10))     # random sleep for some time\n",
    "            else:\n",
    "                time.sleep(random.randrange(1,10))\n",
    "\n",
    "        # no article is found\n",
    "        except:\n",
    "            # not blocked then go to next doi\n",
    "            try:\n",
    "                time.sleep(random.randrange(1,10))\n",
    "                res = soup.find(\"div\", id = \"gs_res_ccl_top\").text\n",
    "\n",
    "            # get blocked, stop process and save to files\n",
    "            except:\n",
    "                with open(\"author_article.csv\", \"a\", newline=\"\") as file:\n",
    "                    writer = csv.writer(file)\n",
    "                    for j in range(len(authorids)):\n",
    "                        writer.writerow([authorids[j],articleids[j]])\n",
    "                file.close()\n",
    "                print(\"Blocked!!!\")         # print block information\n",
    "                winsound.Beep(2500,1000)    # produce sound notification\n",
    "                break"
   ]
  },
  {
   "attachments": {},
   "cell_type": "markdown",
   "metadata": {},
   "source": [
    "### 1.3 Author Information Scraping"
   ]
  },
  {
   "attachments": {},
   "cell_type": "markdown",
   "metadata": {},
   "source": [
    "- This step does not require use of requests or selenium since we have downloaded author profiles locally before.\n",
    "- We scrape directly from local html files and save the following variables:\n",
    "- *name, google userid, emailsuffix, miscellaneous information about titles, positions, h-index, citations for every year since 1980*"
   ]
  },
  {
   "cell_type": "code",
   "execution_count": null,
   "metadata": {},
   "outputs": [],
   "source": [
    "# get existing author records\n",
    "authordic = pd.read_csv(\"author.csv\", encoding = \"utf-8-sig\").to_dict(\"list\")\n",
    "\n",
    "# get author html files locally\n",
    "files = os.listdir(\"data/authors/html/\")\n",
    "\n",
    "\n",
    "for i, file in enumerate(files):\n",
    "\n",
    "    # if the local file has not been scraped, scrape it\n",
    "    if file.replace(\".html\",\"\") not in authordic[\"authorid\"]:\n",
    "        print(i,file)\n",
    "        with open(\"data/authors/html/\"+file, encoding = \"utf-8-sig\") as f:\n",
    "            content = f.read()\n",
    "            soup = BeautifulSoup(content, 'html.parser')\n",
    "        f.close()\n",
    "\n",
    "        # authorid\n",
    "        authorid = file.replace(\".html\",\"\")\n",
    "        # name\n",
    "        name = soup.find('div', id=\"gsc_prf_in\").text\n",
    "        # emailsuffix\n",
    "        emailsuffix = re.findall(\"[a-zA-Z0-9._-]+\", soup.find('div', id=\"gsc_prf_ivh\").text)[0]\n",
    "        # misc\n",
    "        misc = soup.find('div',class_=\"gsc_prf_il\").text\n",
    "        # index\n",
    "        indexspan = soup.find(\"table\").find_all(\"td\")\n",
    "        for i,s in enumerate(indexspan):\n",
    "            if s.text == \"Citations\":\n",
    "                t2302cite = indexspan[i+1].text\n",
    "                s18t2302cite = indexspan[i+2].text\n",
    "            elif s.text == \"h-index\":\n",
    "                t2302hindex = indexspan[i+1].text\n",
    "                s18t2302hindex = indexspan[i+2].text\n",
    "            elif s.text == \"i10-index\":\n",
    "                t2302i10index = indexspan[i+1].text\n",
    "                s18t2302i10index = indexspan[i+2].text\n",
    "\n",
    "        # citations\n",
    "        try:\n",
    "            yeartags = soup.find(\"div\", class_=\"gsc_md_hist_b\").find_all(\"span\", class_= \"gsc_g_t\")\n",
    "            years = dict([(str(len(yeartags)-i), \"cite\"+tag.text) for i, tag in enumerate(yeartags)])\n",
    "            cites = dict([(tag.get(\"style\").split(\":\")[-1], tag.text) for tag in soup.find(\"div\", class_=\"gsc_md_hist_b\").find_all(\"a\", class_= \"gsc_g_a\")])\n",
    "\n",
    "            yearcitedic = {}\n",
    "            for idx in years.keys():\n",
    "                try:\n",
    "                    yearcitedic[years[idx]] = cites[idx]\n",
    "                except:\n",
    "                    yearcitedic[years[idx]] = 0\n",
    "\n",
    "            for i in range(2024-1980):\n",
    "                if \"cite\"+str(1980+i) not in yearcitedic.keys():\n",
    "                    authordic[\"cite\"+str(1980+i)].append(\"\")\n",
    "                else:\n",
    "                    authordic[\"cite\"+str(1980+i)].append(yearcitedic[\"cite\"+str(1980+i)])  # append citations number\n",
    "\n",
    "        # no yearly citations info is found\n",
    "        except:\n",
    "            for i in range(2024-1980):\n",
    "                authordic[\"cite\"+str(1980+i)].append(\"\")\n",
    "\n",
    "        # append other info\n",
    "        authordic[\"authorid\"].append(authorid)\n",
    "        authordic[\"authorname\"].append(name)\n",
    "        authordic[\"misc\"].append(misc)\n",
    "        authordic[\"emailsuffix\"].append(emailsuffix.lower())\n",
    "        authordic[\"t2302cite\"].append(t2302cite)\n",
    "        authordic[\"s18t2302cite\"].append(s18t2302cite)\n",
    "        authordic[\"t2302hindex\"].append(t2302hindex)\n",
    "        authordic[\"s18t2302hindex\"].append(s18t2302hindex)\n",
    "        authordic[\"t2302i10index\"].append(t2302i10index)\n",
    "        authordic[\"s18t2302i10index\"].append(s18t2302i10index)\n",
    "        authordic[\"affiliationid\"].append(\"\")   # set affiliationid empty for now, later update with email_affiliation.csv\n",
    "\n",
    "# save data to local\n",
    "df = pd.DataFrame(authordic)\n",
    "df.to_csv(\"author.csv\", index = False, encoding = \"utf-8-sig\")\n",
    "df.to_csv(\"author_no_header.csv\", index = False, header = False, encoding = \"utf-8-sig\")"
   ]
  },
  {
   "attachments": {},
   "cell_type": "markdown",
   "metadata": {},
   "source": [
    "### 1.4 Affiliation Scraping (Selenium)"
   ]
  },
  {
   "attachments": {},
   "cell_type": "markdown",
   "metadata": {},
   "source": [
    "- When we get the author.csv, we want to match these author records to their current affiliations.\n",
    "- The miscellaneous information line about title, position, institution is too messy to use.\n",
    "- The solution is we search their emailsuffix in Google Scholar to obtain the standard affiliation names.\n",
    "- Actually, each institution will have only one main email suffix and different versions of subemail suffix.\n",
    "- Thus we need to record the subemail-affliationid links as well.\n",
    "- We also get the affiliation dataset containining, *name, affiliationid, main email suffix*.\n",
    "- The affiliation id is generated by first letters of words in school name + . + emailsuffix."
   ]
  },
  {
   "cell_type": "code",
   "execution_count": null,
   "metadata": {},
   "outputs": [],
   "source": [
    "# load existing email_affiliation links and author file\n",
    "df_email = pd.read_csv(\"email_affiliation.csv\", encoding = \"utf-8-sig\").replace(np.NaN,\"\")\n",
    "emaildict = df_email.to_dict(\"list\")\n",
    "df_au = pd.read_csv(\"author.csv\", encoding = \"utf-8-sig\")\n",
    "\n",
    "# set base url and start_idx\n",
    "base_url = \"https://scholar.google.com/scholar?hl=zh-CN&q=\"\n",
    "start_idx = 1\n",
    "\n",
    "for i, e in enumerate(sorted(df_au[\"emailsuffix\"].unique())[start_idx:]):\n",
    "\n",
    "    # scrape if the subemail is not recorded\n",
    "    if e not in emaildict[\"subemail\"]:\n",
    "        driver.get(base_url+e)\n",
    "        driver.refresh()\n",
    "        soup = BeautifulSoup(driver.page_source, \"html.parser\")\n",
    "        h3 = soup.find(\"div\", class_ = \"gs_r\").h3\n",
    "\n",
    "        # get name and main email suffix\n",
    "        div = soup.find(\"div\", class_ = \"gs_r\").div\n",
    "        name = div.a.text\n",
    "        email = div.span.text.replace(\" - \", \"\")\n",
    "        time.sleep(random.randrange(5,10))\n",
    "                \n",
    "        # generate affiliation id\n",
    "        affid = \"\".join([w[0] for w in name.lower().split(\" \")])+\".\"+email\n",
    "\n",
    "        # append to emaildictt\n",
    "        emaildict[\"name\"].append(name)\n",
    "        emaildict[\"email\"].append(email)\n",
    "        emaildict[\"subemail\"].append(e)\n",
    "        emaildict[\"affiliationid\"].append(affid)\n",
    "\n",
    "        # monitor process\n",
    "        print(i+start_idx, e, name, email, affid)"
   ]
  },
  {
   "attachments": {},
   "cell_type": "markdown",
   "metadata": {},
   "source": [
    "### 1.5 Match Affiliation with Its Economic Research Rank"
   ]
  },
  {
   "attachments": {},
   "cell_type": "markdown",
   "metadata": {},
   "source": [
    "- We match affiliations with their economic research rank (if any) evaluated by ideas.repec.org based on the last 10 years' performance.\n",
    "- We use record_linkage to compute the string simiarity scores of names in our dataset and in the rank file.\n",
    "- We select the highest matched string in the rank file for each institution in our dataset.\n",
    "- We use 0.9 as a threshold for a correct match.\n",
    "- For records below 0.9 and above 0.8, we do eyeballing to select correct matches."
   ]
  },
  {
   "cell_type": "code",
   "execution_count": 3,
   "metadata": {},
   "outputs": [
    {
     "name": "stdout",
     "output_type": "stream",
     "text": [
      "WARNING:recordlinkage:indexing - performance warning - A full index can result in large number of record pairs.\n"
     ]
    },
    {
     "data": {
      "text/html": [
       "<div>\n",
       "<style scoped>\n",
       "    .dataframe tbody tr th:only-of-type {\n",
       "        vertical-align: middle;\n",
       "    }\n",
       "\n",
       "    .dataframe tbody tr th {\n",
       "        vertical-align: top;\n",
       "    }\n",
       "\n",
       "    .dataframe thead th {\n",
       "        text-align: right;\n",
       "    }\n",
       "</style>\n",
       "<table border=\"1\" class=\"dataframe\">\n",
       "  <thead>\n",
       "    <tr style=\"text-align: right;\">\n",
       "      <th></th>\n",
       "      <th>affiliationid</th>\n",
       "      <th>name</th>\n",
       "      <th>email</th>\n",
       "      <th>match_score</th>\n",
       "      <th>univer_ins</th>\n",
       "      <th>Rank</th>\n",
       "    </tr>\n",
       "  </thead>\n",
       "  <tbody>\n",
       "    <tr>\n",
       "      <th>0</th>\n",
       "      <td>au.aalto.fi</td>\n",
       "      <td>Aalto University</td>\n",
       "      <td>aalto.fi</td>\n",
       "      <td>0.796296</td>\n",
       "      <td>Carleton University</td>\n",
       "      <td>309</td>\n",
       "    </tr>\n",
       "    <tr>\n",
       "      <th>1</th>\n",
       "      <td>kriot.kth.se</td>\n",
       "      <td>KTH Royal Institute of Technology</td>\n",
       "      <td>kth.se</td>\n",
       "      <td>0.747008</td>\n",
       "      <td>Beijing Institute of Technology</td>\n",
       "      <td>78</td>\n",
       "    </tr>\n",
       "    <tr>\n",
       "      <th>2</th>\n",
       "      <td>uocla.ucla.edu</td>\n",
       "      <td>University of California, Los Angeles</td>\n",
       "      <td>ucla.edu</td>\n",
       "      <td>0.933333</td>\n",
       "      <td>University of California-Davis</td>\n",
       "      <td>39</td>\n",
       "    </tr>\n",
       "    <tr>\n",
       "      <th>3</th>\n",
       "      <td>aei.aei.org</td>\n",
       "      <td>American Enterprise Institute</td>\n",
       "      <td>aei.org</td>\n",
       "      <td>0.759988</td>\n",
       "      <td>Economic and Social Research Institute</td>\n",
       "      <td>212</td>\n",
       "    </tr>\n",
       "    <tr>\n",
       "      <th>4</th>\n",
       "      <td>miot.mit.edu</td>\n",
       "      <td>Massachusetts Institute of Technology</td>\n",
       "      <td>mit.edu</td>\n",
       "      <td>1.000000</td>\n",
       "      <td>Massachusetts Institute of Technology</td>\n",
       "      <td>8</td>\n",
       "    </tr>\n",
       "    <tr>\n",
       "      <th>5</th>\n",
       "      <td>ciot.caltech.edu</td>\n",
       "      <td>California Institute of Technology</td>\n",
       "      <td>caltech.edu</td>\n",
       "      <td>0.867773</td>\n",
       "      <td>Beijing Institute of Technology</td>\n",
       "      <td>78</td>\n",
       "    </tr>\n",
       "    <tr>\n",
       "      <th>6</th>\n",
       "      <td>hu.harvard.edu</td>\n",
       "      <td>Harvard University</td>\n",
       "      <td>harvard.edu</td>\n",
       "      <td>1.000000</td>\n",
       "      <td>Harvard University</td>\n",
       "      <td>5</td>\n",
       "    </tr>\n",
       "    <tr>\n",
       "      <th>7</th>\n",
       "      <td>su.stanford.edu</td>\n",
       "      <td>Stanford University</td>\n",
       "      <td>stanford.edu</td>\n",
       "      <td>1.000000</td>\n",
       "      <td>Stanford University</td>\n",
       "      <td>14</td>\n",
       "    </tr>\n",
       "    <tr>\n",
       "      <th>8</th>\n",
       "      <td>uop.upenn.edu</td>\n",
       "      <td>University of Pennsylvania</td>\n",
       "      <td>upenn.edu</td>\n",
       "      <td>1.000000</td>\n",
       "      <td>University of Pennsylvania</td>\n",
       "      <td>55</td>\n",
       "    </tr>\n",
       "    <tr>\n",
       "      <th>9</th>\n",
       "      <td>ai.amazon.com</td>\n",
       "      <td>Amazon Inc.</td>\n",
       "      <td>amazon.com</td>\n",
       "      <td>0.693182</td>\n",
       "      <td>Chapman University</td>\n",
       "      <td>448</td>\n",
       "    </tr>\n",
       "  </tbody>\n",
       "</table>\n",
       "</div>"
      ],
      "text/plain": [
       "      affiliationid                                   name         email  \\\n",
       "0       au.aalto.fi                       Aalto University      aalto.fi   \n",
       "1      kriot.kth.se      KTH Royal Institute of Technology        kth.se   \n",
       "2    uocla.ucla.edu  University of California, Los Angeles      ucla.edu   \n",
       "3       aei.aei.org          American Enterprise Institute       aei.org   \n",
       "4      miot.mit.edu  Massachusetts Institute of Technology       mit.edu   \n",
       "5  ciot.caltech.edu     California Institute of Technology   caltech.edu   \n",
       "6    hu.harvard.edu                     Harvard University   harvard.edu   \n",
       "7   su.stanford.edu                    Stanford University  stanford.edu   \n",
       "8     uop.upenn.edu             University of Pennsylvania     upenn.edu   \n",
       "9     ai.amazon.com                            Amazon Inc.    amazon.com   \n",
       "\n",
       "   match_score                              univer_ins  Rank  \n",
       "0     0.796296                     Carleton University   309  \n",
       "1     0.747008         Beijing Institute of Technology    78  \n",
       "2     0.933333          University of California-Davis    39  \n",
       "3     0.759988  Economic and Social Research Institute   212  \n",
       "4     1.000000   Massachusetts Institute of Technology     8  \n",
       "5     0.867773         Beijing Institute of Technology    78  \n",
       "6     1.000000                      Harvard University     5  \n",
       "7     1.000000                     Stanford University    14  \n",
       "8     1.000000              University of Pennsylvania    55  \n",
       "9     0.693182                      Chapman University   448  "
      ]
     },
     "execution_count": 3,
     "metadata": {},
     "output_type": "execute_result"
    }
   ],
   "source": [
    "# Affiliations to be matched are stored in affiliations_df\n",
    "# IDEAS ranking of economic institutions is stored in university_df\n",
    "\n",
    "###  Preprocessing\n",
    "path = \"/Users/zhangyicheng/Library/CloudStorage/Dropbox/My Mac (张苡铖’s MacBook Pro (2))/Desktop/MACS122/Project/\"\n",
    "affiliations_df = pd.read_csv(path +\"affiliation.csv\")\n",
    "affiliations_df[\"institution\"] = affiliations_df.name\n",
    "\n",
    "# Take out the location part in the name\n",
    "for i, row in affiliations_df.iterrows():\n",
    "    ls = row.loc[\"name\"].split(\",\")\n",
    "    ele = ls[0] \n",
    "    row.loc['institution'] = ele\n",
    "\n",
    "# To make the comparison more sensitive, strip \"university\" and \"of\" from the string\n",
    "affiliations_df[\"institution\"] = affiliations_df[\"institution\"]\\\n",
    "                                    .apply(lambda x: x.lower())\\\n",
    "                                    .apply(lambda x: x.strip())\\\n",
    "                                    .apply(lambda x: x.replace(\"university\",\"\"))\\\n",
    "                                    .apply(lambda x: x.replace(\"of\",\"\"))\n",
    "\n",
    "\n",
    "path = \"/Users/zhangyicheng/Library/CloudStorage/Dropbox/My Mac (张苡铖’s MacBook Pro (2))/Desktop/MACS122/Project/code/\"\n",
    "university_df = pd.read_csv(path +\"university_ranking.csv\")\n",
    "university_df = university_df.rename(columns={\"rank\": \"Rank\"})\n",
    "\n",
    "university_df[\"institution\"] = university_df[\"University\"]\\\n",
    "                                    .apply(lambda x: x.lower())\\\n",
    "                                    .apply(lambda x: x.strip())\\\n",
    "                                    .apply(lambda x: x.replace(\"university\",\"\"))\\\n",
    "                                    .apply(lambda x: x.replace(\"of\",\"\"))\\\n",
    "                                    .apply(lambda x: re.sub(\"\\(.*\\)\",\"\",x))\n",
    "university_df = university_df.drop_duplicates()\n",
    "\n",
    "###  Indexing\n",
    "index_full = Full()\n",
    "candidate_links = index_full.index(affiliations_df, university_df)\n",
    "\n",
    "our_comparison = recordlinkage.Compare()\n",
    "# compare all our columns\n",
    "our_comparison.string(\"institution\", \"institution\", method = \"jarowinkler\", label = \"jw_uni_name\")\n",
    "features = our_comparison.compute(candidate_links, affiliations_df, university_df)\n",
    "\n",
    "thr_matches = features[(features[\"jw_uni_name\"] >= 0)]\n",
    "\n",
    "# Store the matching info to a dictionary of list\n",
    "jwdic = {}\n",
    "for i, row in thr_matches.iterrows():\n",
    "    author_index = i[0]\n",
    "    if author_index in jwdic:\n",
    "        jwdic[author_index].append((row.jw_uni_name, i[1]))                                     \n",
    "    else: \n",
    "        jwdic[author_index] = []\n",
    "\n",
    "###  Get the best match (highest match score) for each author\n",
    "links = {\"author_index\":[], \"university_index\":[], \"match_score\":[]}\n",
    "for key, values in jwdic.items():\n",
    "    max_score = 0\n",
    "    for value in values:\n",
    "        if value[0] > max_score:\n",
    "            max_score = value[0]\n",
    "            index = value[1]\n",
    "        else:\n",
    "            continue\n",
    "    links[\"author_index\"].append(key)\n",
    "    links[\"university_index\"].append(index)\n",
    "    links[\"match_score\"].append(max_score)\n",
    "\n",
    "links_df = pd.DataFrame(links)\n",
    "\n",
    "# Concatenate the two dataframe \n",
    "links_df[\"author_ins\"] = links_df[\"author_index\"]\n",
    "links_df[\"univer_ins\"] = links_df[\"author_index\"]\n",
    "links_df[\"Rank\"] = links_df[\"author_index\"]\n",
    "\n",
    "for r, row in links_df.iterrows():\n",
    "    author_uni = affiliations_df.iloc[int(row.author_index)].institution\n",
    "    univer = university_df.iloc[int(row.university_index)].University\n",
    "    rank = university_df.iloc[int(row.university_index)].Rank\n",
    "    links_df[\"author_ins\"].at[r] = author_uni\n",
    "    links_df[\"univer_ins\"].at[r] = univer\n",
    "    links_df[\"Rank\"].at[r] = rank\n",
    "\n",
    "pd_con = pd.concat([affiliations_df, links_df], axis=1)\n",
    "affilication_ranking_linked = pd_con[[\"affiliationid\", \"name\", \"email\", \"match_score\", \"univer_ins\", \"Rank\"]]\n",
    "affilication_ranking_linked.head(10)\n",
    "\n"
   ]
  },
  {
   "attachments": {},
   "cell_type": "markdown",
   "metadata": {},
   "source": [
    "### 1.6 Clean Article Dataset"
   ]
  },
  {
   "attachments": {},
   "cell_type": "markdown",
   "metadata": {},
   "source": [
    "- The main task is to match the issue information of each article to a data (for later Dynamic TM).\n",
    "- Other cleaning includes select only articles with doi available, and replace out string \"Abstract:\" in abstarcts.\n",
    "- After cleaning and selecting all valid articles in all 20 journals, we concatenate them into a single csv for database storage purpose.\n",
    "- Take the example of *Journal of Economic Perspectives*:"
   ]
  },
  {
   "cell_type": "code",
   "execution_count": null,
   "metadata": {},
   "outputs": [],
   "source": [
    "# clean jep\n",
    "df_jep = pd.read_csv(\"data/journals/raw_data/jep.csv\", encoding = \"utf-8-sig\").astype(\"str\")\n",
    "\n",
    "# replace out miscellaneous strings in abstracts, volumes, doi\n",
    "df_jep[\"abstract\"] = df_jep[\"abstract\"].apply(lambda x: x.replace(\"\\n\",\"\").replace(\"\\t\",\"\").replace(\"Abstract\",\"\").strip())\n",
    "df_jep[\"volume\"] = df_jep[\"volume\"].apply(lambda x: x.replace(\"\\n\",\"\").replace(\"\\t\",\"\").strip())\n",
    "df_jep[\"doi\"] = df_jep[\"doi\"].apply(lambda x: x.strip())\n",
    "df_jep = df_jep[df_jep[\"doi\"].str[:3] == \"10.\"].drop_duplicates(subset = [\"doi\"]).reset_index(drop=True)\n",
    "\n",
    "# clean volume to get dates\n",
    "dates = []\n",
    "for idx in df_jep.index:\n",
    "    date_text = df_jep.loc[idx,\"volume\"].lower().split(\" \")\n",
    "    season = date_text[0]\n",
    "    year = date_text[1]\n",
    "    # assign dates according to issuing season\n",
    "    if season == \"spring\":\n",
    "        md = \"02-15\"\n",
    "    elif season == \"summer\":\n",
    "        md = \"05-15\"\n",
    "    elif season == \"fall\":\n",
    "        md = \"08-15\"\n",
    "    elif season == \"winter\":\n",
    "        md = \"11-15\"\n",
    "\n",
    "    dates.append(year+\"-\"+md)\n",
    "\n",
    "# append dates\n",
    "df_jep[\"date\"] = dates\n",
    "# select desired attributes\n",
    "df_jep_s = df_jep[[\"journal\",\"title\",\"authors\",\"volume\",\"jel\",\"abstract\",\"url\",\"doi\",\"date\"]]"
   ]
  },
  {
   "attachments": {},
   "cell_type": "markdown",
   "metadata": {},
   "source": [
    "### 1.7 Database Creation"
   ]
  },
  {
   "attachments": {},
   "cell_type": "markdown",
   "metadata": {},
   "source": [
    "- Our database will have 4 tables, *article, author, affiliation, author_article*.\n",
    "- We write a sql file (create-econtop.sql) to create this database from csv files.\n",
    "- We run the below code to create it in ipynb:"
   ]
  },
  {
   "cell_type": "code",
   "execution_count": null,
   "metadata": {},
   "outputs": [],
   "source": [
    "# use this line to run the script directly in Jupyter\n",
    "! sqlite3 ../data/econtop.db < create-econtop.sql"
   ]
  },
  {
   "attachments": {},
   "cell_type": "markdown",
   "metadata": {},
   "source": [
    "## 2. Basic Descriptive Stats of Dataset"
   ]
  },
  {
   "attachments": {},
   "cell_type": "markdown",
   "metadata": {},
   "source": [
    "- We mainly focus on the publications during 2012-2022, i.e., the past decade."
   ]
  },
  {
   "cell_type": "code",
   "execution_count": 2,
   "metadata": {},
   "outputs": [],
   "source": [
    "# connect to database\n",
    "conn = sqlite3.connect(\"../data/econtop.db\")\n",
    "cur = conn.cursor()"
   ]
  },
  {
   "attachments": {},
   "cell_type": "markdown",
   "metadata": {},
   "source": [
    "### 2.1 Show Number of Ariticles by Journals"
   ]
  },
  {
   "cell_type": "code",
   "execution_count": 3,
   "metadata": {},
   "outputs": [
    {
     "data": {
      "text/html": [
       "<div>\n",
       "<style scoped>\n",
       "    .dataframe tbody tr th:only-of-type {\n",
       "        vertical-align: middle;\n",
       "    }\n",
       "\n",
       "    .dataframe tbody tr th {\n",
       "        vertical-align: top;\n",
       "    }\n",
       "\n",
       "    .dataframe thead th {\n",
       "        text-align: right;\n",
       "    }\n",
       "</style>\n",
       "<table border=\"1\" class=\"dataframe\">\n",
       "  <thead>\n",
       "    <tr style=\"text-align: right;\">\n",
       "      <th></th>\n",
       "      <th>doi</th>\n",
       "      <th>journal</th>\n",
       "      <th>title</th>\n",
       "      <th>date</th>\n",
       "    </tr>\n",
       "  </thead>\n",
       "  <tbody>\n",
       "    <tr>\n",
       "      <th>0</th>\n",
       "      <td>10.1093/rfs/hhr069</td>\n",
       "      <td>Review of Financial Studies</td>\n",
       "      <td>The Inventory Growth Spread</td>\n",
       "      <td>2012-01-15</td>\n",
       "    </tr>\n",
       "    <tr>\n",
       "      <th>2</th>\n",
       "      <td>10.1093/rfs/hhr109</td>\n",
       "      <td>Review of Financial Studies</td>\n",
       "      <td>Takeovers and Divergence of Investor Opinion</td>\n",
       "      <td>2012-01-15</td>\n",
       "    </tr>\n",
       "    <tr>\n",
       "      <th>3</th>\n",
       "      <td>10.1093/rfs/hhr081</td>\n",
       "      <td>Review of Financial Studies</td>\n",
       "      <td>Corporate Governance Objectives of Labor Union...</td>\n",
       "      <td>2012-01-15</td>\n",
       "    </tr>\n",
       "    <tr>\n",
       "      <th>4</th>\n",
       "      <td>10.1093/rfs/hhr076</td>\n",
       "      <td>Review of Financial Studies</td>\n",
       "      <td>Managerial Attributes and Executive Compensation</td>\n",
       "      <td>2012-01-15</td>\n",
       "    </tr>\n",
       "    <tr>\n",
       "      <th>7</th>\n",
       "      <td>10.1093/rfs/hhr092</td>\n",
       "      <td>Review of Financial Studies</td>\n",
       "      <td>The Road Less Traveled: Strategy Distinctivene...</td>\n",
       "      <td>2012-01-15</td>\n",
       "    </tr>\n",
       "  </tbody>\n",
       "</table>\n",
       "</div>"
      ],
      "text/plain": [
       "                  doi                      journal  \\\n",
       "0  10.1093/rfs/hhr069  Review of Financial Studies   \n",
       "2  10.1093/rfs/hhr109  Review of Financial Studies   \n",
       "3  10.1093/rfs/hhr081  Review of Financial Studies   \n",
       "4  10.1093/rfs/hhr076  Review of Financial Studies   \n",
       "7  10.1093/rfs/hhr092  Review of Financial Studies   \n",
       "\n",
       "                                               title       date  \n",
       "0                        The Inventory Growth Spread 2012-01-15  \n",
       "2       Takeovers and Divergence of Investor Opinion 2012-01-15  \n",
       "3  Corporate Governance Objectives of Labor Union... 2012-01-15  \n",
       "4   Managerial Attributes and Executive Compensation 2012-01-15  \n",
       "7  The Road Less Traveled: Strategy Distinctivene... 2012-01-15  "
      ]
     },
     "execution_count": 3,
     "metadata": {},
     "output_type": "execute_result"
    }
   ],
   "source": [
    "# extract title, date, journal, from database, starting from 2012-2022\n",
    "q = \"\"\"\n",
    "    SELECT art.doi, art.journal, art.title, art.date\n",
    "    FROM author_article AS aa JOIN author AS au JOIN article AS art JOIN affiliation AS af\n",
    "    ON aa.authorid = au.authorid AND\n",
    "    aa.doi = art.doi AND\n",
    "    au.affiliationid = af.affiliationid\n",
    "    WHERE art.date >= '2012-01-01' AND\n",
    "    art.date < '2023-01-01'\n",
    "    \"\"\"\n",
    "\n",
    "# remove duplicated abstracts, set as strings\n",
    "df = pd.read_sql_query(q, conn).drop_duplicates(subset=[\"doi\"]).astype(\"str\")\n",
    "df[\"date\"] = pd.to_datetime(df[\"date\"])   # convert date to datetime\n",
    "df.head()"
   ]
  },
  {
   "cell_type": "code",
   "execution_count": 4,
   "metadata": {},
   "outputs": [
    {
     "data": {
      "application/vnd.plotly.v1+json": {
       "config": {
        "plotlyServerURL": "https://plot.ly"
       },
       "data": [
        {
         "marker": {
          "color": [
           355,
           1911,
           532,
           2136,
           3341,
           1286,
           959,
           241,
           398,
           474,
           826,
           772,
           596,
           258,
           461,
           657,
           1155,
           563,
           425,
           740
          ],
          "colorscale": [
           [
            0,
            "rgb(253, 224, 197)"
           ],
           [
            0.16666666666666666,
            "rgb(250, 203, 166)"
           ],
           [
            0.3333333333333333,
            "rgb(248, 181, 139)"
           ],
           [
            0.5,
            "rgb(245, 158, 114)"
           ],
           [
            0.6666666666666666,
            "rgb(242, 133, 93)"
           ],
           [
            0.8333333333333334,
            "rgb(239, 106, 76)"
           ],
           [
            1,
            "rgb(235, 74, 64)"
           ]
          ]
         },
         "orientation": "h",
         "text": [
          355,
          1911,
          532,
          2136,
          3341,
          1286,
          959,
          241,
          398,
          474,
          826,
          772,
          596,
          258,
          461,
          657,
          1155,
          563,
          425,
          740
         ],
         "type": "bar",
         "x": [
          355,
          1911,
          532,
          2136,
          3341,
          1286,
          959,
          241,
          398,
          474,
          826,
          772,
          596,
          258,
          461,
          657,
          1155,
          563,
          425,
          740
         ],
         "y": [
          "American Economic Journal: Macroeconomics",
          "American Economic Review",
          "Econometrica",
          "Economic Modelling",
          "Economics Letters",
          "European Economic Review",
          "Journal of Development Economics",
          "Journal of Economic Literature",
          "Journal of Economic Perspectives",
          "Journal of Finance",
          "Journal of International Economics",
          "Journal of Monetary Economics",
          "Journal of Political Economy",
          "Journal of Public Economic Theory",
          "Journal of the European Economic Association",
          "Review of Economic Studies",
          "Review of Financial Studies",
          "The Economic Journal",
          "The Quarterly Journal of Economics",
          "The Review of Economics and Statistics"
         ]
        }
       ],
       "layout": {
        "height": 600,
        "template": {
         "data": {
          "bar": [
           {
            "error_x": {
             "color": "#2a3f5f"
            },
            "error_y": {
             "color": "#2a3f5f"
            },
            "marker": {
             "line": {
              "color": "#E5ECF6",
              "width": 0.5
             },
             "pattern": {
              "fillmode": "overlay",
              "size": 10,
              "solidity": 0.2
             }
            },
            "type": "bar"
           }
          ],
          "barpolar": [
           {
            "marker": {
             "line": {
              "color": "#E5ECF6",
              "width": 0.5
             },
             "pattern": {
              "fillmode": "overlay",
              "size": 10,
              "solidity": 0.2
             }
            },
            "type": "barpolar"
           }
          ],
          "carpet": [
           {
            "aaxis": {
             "endlinecolor": "#2a3f5f",
             "gridcolor": "white",
             "linecolor": "white",
             "minorgridcolor": "white",
             "startlinecolor": "#2a3f5f"
            },
            "baxis": {
             "endlinecolor": "#2a3f5f",
             "gridcolor": "white",
             "linecolor": "white",
             "minorgridcolor": "white",
             "startlinecolor": "#2a3f5f"
            },
            "type": "carpet"
           }
          ],
          "choropleth": [
           {
            "colorbar": {
             "outlinewidth": 0,
             "ticks": ""
            },
            "type": "choropleth"
           }
          ],
          "contour": [
           {
            "colorbar": {
             "outlinewidth": 0,
             "ticks": ""
            },
            "colorscale": [
             [
              0,
              "#0d0887"
             ],
             [
              0.1111111111111111,
              "#46039f"
             ],
             [
              0.2222222222222222,
              "#7201a8"
             ],
             [
              0.3333333333333333,
              "#9c179e"
             ],
             [
              0.4444444444444444,
              "#bd3786"
             ],
             [
              0.5555555555555556,
              "#d8576b"
             ],
             [
              0.6666666666666666,
              "#ed7953"
             ],
             [
              0.7777777777777778,
              "#fb9f3a"
             ],
             [
              0.8888888888888888,
              "#fdca26"
             ],
             [
              1,
              "#f0f921"
             ]
            ],
            "type": "contour"
           }
          ],
          "contourcarpet": [
           {
            "colorbar": {
             "outlinewidth": 0,
             "ticks": ""
            },
            "type": "contourcarpet"
           }
          ],
          "heatmap": [
           {
            "colorbar": {
             "outlinewidth": 0,
             "ticks": ""
            },
            "colorscale": [
             [
              0,
              "#0d0887"
             ],
             [
              0.1111111111111111,
              "#46039f"
             ],
             [
              0.2222222222222222,
              "#7201a8"
             ],
             [
              0.3333333333333333,
              "#9c179e"
             ],
             [
              0.4444444444444444,
              "#bd3786"
             ],
             [
              0.5555555555555556,
              "#d8576b"
             ],
             [
              0.6666666666666666,
              "#ed7953"
             ],
             [
              0.7777777777777778,
              "#fb9f3a"
             ],
             [
              0.8888888888888888,
              "#fdca26"
             ],
             [
              1,
              "#f0f921"
             ]
            ],
            "type": "heatmap"
           }
          ],
          "heatmapgl": [
           {
            "colorbar": {
             "outlinewidth": 0,
             "ticks": ""
            },
            "colorscale": [
             [
              0,
              "#0d0887"
             ],
             [
              0.1111111111111111,
              "#46039f"
             ],
             [
              0.2222222222222222,
              "#7201a8"
             ],
             [
              0.3333333333333333,
              "#9c179e"
             ],
             [
              0.4444444444444444,
              "#bd3786"
             ],
             [
              0.5555555555555556,
              "#d8576b"
             ],
             [
              0.6666666666666666,
              "#ed7953"
             ],
             [
              0.7777777777777778,
              "#fb9f3a"
             ],
             [
              0.8888888888888888,
              "#fdca26"
             ],
             [
              1,
              "#f0f921"
             ]
            ],
            "type": "heatmapgl"
           }
          ],
          "histogram": [
           {
            "marker": {
             "pattern": {
              "fillmode": "overlay",
              "size": 10,
              "solidity": 0.2
             }
            },
            "type": "histogram"
           }
          ],
          "histogram2d": [
           {
            "colorbar": {
             "outlinewidth": 0,
             "ticks": ""
            },
            "colorscale": [
             [
              0,
              "#0d0887"
             ],
             [
              0.1111111111111111,
              "#46039f"
             ],
             [
              0.2222222222222222,
              "#7201a8"
             ],
             [
              0.3333333333333333,
              "#9c179e"
             ],
             [
              0.4444444444444444,
              "#bd3786"
             ],
             [
              0.5555555555555556,
              "#d8576b"
             ],
             [
              0.6666666666666666,
              "#ed7953"
             ],
             [
              0.7777777777777778,
              "#fb9f3a"
             ],
             [
              0.8888888888888888,
              "#fdca26"
             ],
             [
              1,
              "#f0f921"
             ]
            ],
            "type": "histogram2d"
           }
          ],
          "histogram2dcontour": [
           {
            "colorbar": {
             "outlinewidth": 0,
             "ticks": ""
            },
            "colorscale": [
             [
              0,
              "#0d0887"
             ],
             [
              0.1111111111111111,
              "#46039f"
             ],
             [
              0.2222222222222222,
              "#7201a8"
             ],
             [
              0.3333333333333333,
              "#9c179e"
             ],
             [
              0.4444444444444444,
              "#bd3786"
             ],
             [
              0.5555555555555556,
              "#d8576b"
             ],
             [
              0.6666666666666666,
              "#ed7953"
             ],
             [
              0.7777777777777778,
              "#fb9f3a"
             ],
             [
              0.8888888888888888,
              "#fdca26"
             ],
             [
              1,
              "#f0f921"
             ]
            ],
            "type": "histogram2dcontour"
           }
          ],
          "mesh3d": [
           {
            "colorbar": {
             "outlinewidth": 0,
             "ticks": ""
            },
            "type": "mesh3d"
           }
          ],
          "parcoords": [
           {
            "line": {
             "colorbar": {
              "outlinewidth": 0,
              "ticks": ""
             }
            },
            "type": "parcoords"
           }
          ],
          "pie": [
           {
            "automargin": true,
            "type": "pie"
           }
          ],
          "scatter": [
           {
            "fillpattern": {
             "fillmode": "overlay",
             "size": 10,
             "solidity": 0.2
            },
            "type": "scatter"
           }
          ],
          "scatter3d": [
           {
            "line": {
             "colorbar": {
              "outlinewidth": 0,
              "ticks": ""
             }
            },
            "marker": {
             "colorbar": {
              "outlinewidth": 0,
              "ticks": ""
             }
            },
            "type": "scatter3d"
           }
          ],
          "scattercarpet": [
           {
            "marker": {
             "colorbar": {
              "outlinewidth": 0,
              "ticks": ""
             }
            },
            "type": "scattercarpet"
           }
          ],
          "scattergeo": [
           {
            "marker": {
             "colorbar": {
              "outlinewidth": 0,
              "ticks": ""
             }
            },
            "type": "scattergeo"
           }
          ],
          "scattergl": [
           {
            "marker": {
             "colorbar": {
              "outlinewidth": 0,
              "ticks": ""
             }
            },
            "type": "scattergl"
           }
          ],
          "scattermapbox": [
           {
            "marker": {
             "colorbar": {
              "outlinewidth": 0,
              "ticks": ""
             }
            },
            "type": "scattermapbox"
           }
          ],
          "scatterpolar": [
           {
            "marker": {
             "colorbar": {
              "outlinewidth": 0,
              "ticks": ""
             }
            },
            "type": "scatterpolar"
           }
          ],
          "scatterpolargl": [
           {
            "marker": {
             "colorbar": {
              "outlinewidth": 0,
              "ticks": ""
             }
            },
            "type": "scatterpolargl"
           }
          ],
          "scatterternary": [
           {
            "marker": {
             "colorbar": {
              "outlinewidth": 0,
              "ticks": ""
             }
            },
            "type": "scatterternary"
           }
          ],
          "surface": [
           {
            "colorbar": {
             "outlinewidth": 0,
             "ticks": ""
            },
            "colorscale": [
             [
              0,
              "#0d0887"
             ],
             [
              0.1111111111111111,
              "#46039f"
             ],
             [
              0.2222222222222222,
              "#7201a8"
             ],
             [
              0.3333333333333333,
              "#9c179e"
             ],
             [
              0.4444444444444444,
              "#bd3786"
             ],
             [
              0.5555555555555556,
              "#d8576b"
             ],
             [
              0.6666666666666666,
              "#ed7953"
             ],
             [
              0.7777777777777778,
              "#fb9f3a"
             ],
             [
              0.8888888888888888,
              "#fdca26"
             ],
             [
              1,
              "#f0f921"
             ]
            ],
            "type": "surface"
           }
          ],
          "table": [
           {
            "cells": {
             "fill": {
              "color": "#EBF0F8"
             },
             "line": {
              "color": "white"
             }
            },
            "header": {
             "fill": {
              "color": "#C8D4E3"
             },
             "line": {
              "color": "white"
             }
            },
            "type": "table"
           }
          ]
         },
         "layout": {
          "annotationdefaults": {
           "arrowcolor": "#2a3f5f",
           "arrowhead": 0,
           "arrowwidth": 1
          },
          "autotypenumbers": "strict",
          "coloraxis": {
           "colorbar": {
            "outlinewidth": 0,
            "ticks": ""
           }
          },
          "colorscale": {
           "diverging": [
            [
             0,
             "#8e0152"
            ],
            [
             0.1,
             "#c51b7d"
            ],
            [
             0.2,
             "#de77ae"
            ],
            [
             0.3,
             "#f1b6da"
            ],
            [
             0.4,
             "#fde0ef"
            ],
            [
             0.5,
             "#f7f7f7"
            ],
            [
             0.6,
             "#e6f5d0"
            ],
            [
             0.7,
             "#b8e186"
            ],
            [
             0.8,
             "#7fbc41"
            ],
            [
             0.9,
             "#4d9221"
            ],
            [
             1,
             "#276419"
            ]
           ],
           "sequential": [
            [
             0,
             "#0d0887"
            ],
            [
             0.1111111111111111,
             "#46039f"
            ],
            [
             0.2222222222222222,
             "#7201a8"
            ],
            [
             0.3333333333333333,
             "#9c179e"
            ],
            [
             0.4444444444444444,
             "#bd3786"
            ],
            [
             0.5555555555555556,
             "#d8576b"
            ],
            [
             0.6666666666666666,
             "#ed7953"
            ],
            [
             0.7777777777777778,
             "#fb9f3a"
            ],
            [
             0.8888888888888888,
             "#fdca26"
            ],
            [
             1,
             "#f0f921"
            ]
           ],
           "sequentialminus": [
            [
             0,
             "#0d0887"
            ],
            [
             0.1111111111111111,
             "#46039f"
            ],
            [
             0.2222222222222222,
             "#7201a8"
            ],
            [
             0.3333333333333333,
             "#9c179e"
            ],
            [
             0.4444444444444444,
             "#bd3786"
            ],
            [
             0.5555555555555556,
             "#d8576b"
            ],
            [
             0.6666666666666666,
             "#ed7953"
            ],
            [
             0.7777777777777778,
             "#fb9f3a"
            ],
            [
             0.8888888888888888,
             "#fdca26"
            ],
            [
             1,
             "#f0f921"
            ]
           ]
          },
          "colorway": [
           "#636efa",
           "#EF553B",
           "#00cc96",
           "#ab63fa",
           "#FFA15A",
           "#19d3f3",
           "#FF6692",
           "#B6E880",
           "#FF97FF",
           "#FECB52"
          ],
          "font": {
           "color": "#2a3f5f"
          },
          "geo": {
           "bgcolor": "white",
           "lakecolor": "white",
           "landcolor": "#E5ECF6",
           "showlakes": true,
           "showland": true,
           "subunitcolor": "white"
          },
          "hoverlabel": {
           "align": "left"
          },
          "hovermode": "closest",
          "mapbox": {
           "style": "light"
          },
          "paper_bgcolor": "white",
          "plot_bgcolor": "#E5ECF6",
          "polar": {
           "angularaxis": {
            "gridcolor": "white",
            "linecolor": "white",
            "ticks": ""
           },
           "bgcolor": "#E5ECF6",
           "radialaxis": {
            "gridcolor": "white",
            "linecolor": "white",
            "ticks": ""
           }
          },
          "scene": {
           "xaxis": {
            "backgroundcolor": "#E5ECF6",
            "gridcolor": "white",
            "gridwidth": 2,
            "linecolor": "white",
            "showbackground": true,
            "ticks": "",
            "zerolinecolor": "white"
           },
           "yaxis": {
            "backgroundcolor": "#E5ECF6",
            "gridcolor": "white",
            "gridwidth": 2,
            "linecolor": "white",
            "showbackground": true,
            "ticks": "",
            "zerolinecolor": "white"
           },
           "zaxis": {
            "backgroundcolor": "#E5ECF6",
            "gridcolor": "white",
            "gridwidth": 2,
            "linecolor": "white",
            "showbackground": true,
            "ticks": "",
            "zerolinecolor": "white"
           }
          },
          "shapedefaults": {
           "line": {
            "color": "#2a3f5f"
           }
          },
          "ternary": {
           "aaxis": {
            "gridcolor": "white",
            "linecolor": "white",
            "ticks": ""
           },
           "baxis": {
            "gridcolor": "white",
            "linecolor": "white",
            "ticks": ""
           },
           "bgcolor": "#E5ECF6",
           "caxis": {
            "gridcolor": "white",
            "linecolor": "white",
            "ticks": ""
           }
          },
          "title": {
           "x": 0.05
          },
          "xaxis": {
           "automargin": true,
           "gridcolor": "white",
           "linecolor": "white",
           "ticks": "",
           "title": {
            "standoff": 15
           },
           "zerolinecolor": "white",
           "zerolinewidth": 2
          },
          "yaxis": {
           "automargin": true,
           "gridcolor": "white",
           "linecolor": "white",
           "ticks": "",
           "title": {
            "standoff": 15
           },
           "zerolinecolor": "white",
           "zerolinewidth": 2
          }
         }
        },
        "title": {
         "text": "Number of Collected Publications from 2012 to 2022 by Journal"
        },
        "width": 800,
        "yaxis": {
         "categoryorder": "total ascending"
        }
       }
      }
     },
     "metadata": {},
     "output_type": "display_data"
    }
   ],
   "source": [
    "# grougby and count\n",
    "df_count_by_journal = df.groupby(\"journal\").count()[[\"doi\"]].rename(columns={\"doi\":\"cnt\"})\n",
    "\n",
    "fig = go.Figure()\n",
    "fig.add_trace(\n",
    "    go.Bar(\n",
    "        y = df_count_by_journal.index,\n",
    "        x = df_count_by_journal.cnt,\n",
    "        text = df_count_by_journal.cnt,\n",
    "        orientation = \"h\",\n",
    "        marker={'color': df_count_by_journal.cnt,\n",
    "        'colorscale': 'Peach'}\n",
    "    )\n",
    ")\n",
    "fig.update_layout(title_text=\"Number of Collected Publications from 2012 to 2022 by Journal\",\n",
    "#                 template=\"plotly_dark\",\n",
    "                  yaxis={'categoryorder':'total ascending'},\n",
    "                  width=800,\n",
    "                  height=600\n",
    "                  )\n",
    "fig.show()"
   ]
  },
  {
   "attachments": {},
   "cell_type": "markdown",
   "metadata": {},
   "source": [
    "### 2.2 Show Top 20 Authors who have most Publications"
   ]
  },
  {
   "cell_type": "code",
   "execution_count": 5,
   "metadata": {},
   "outputs": [
    {
     "data": {
      "text/html": [
       "<div>\n",
       "<style scoped>\n",
       "    .dataframe tbody tr th:only-of-type {\n",
       "        vertical-align: middle;\n",
       "    }\n",
       "\n",
       "    .dataframe tbody tr th {\n",
       "        vertical-align: top;\n",
       "    }\n",
       "\n",
       "    .dataframe thead th {\n",
       "        text-align: right;\n",
       "    }\n",
       "</style>\n",
       "<table border=\"1\" class=\"dataframe\">\n",
       "  <thead>\n",
       "    <tr style=\"text-align: right;\">\n",
       "      <th></th>\n",
       "      <th>doi</th>\n",
       "      <th>authorname</th>\n",
       "      <th>name</th>\n",
       "      <th>authorid</th>\n",
       "      <th>title</th>\n",
       "      <th>date</th>\n",
       "    </tr>\n",
       "  </thead>\n",
       "  <tbody>\n",
       "    <tr>\n",
       "      <th>0</th>\n",
       "      <td>10.1093/rfs/hhr069</td>\n",
       "      <td>Frederico Belo</td>\n",
       "      <td>INSEAD</td>\n",
       "      <td>4Weq9mEAAAAJ</td>\n",
       "      <td>The Inventory Growth Spread</td>\n",
       "      <td>2012-01-15</td>\n",
       "    </tr>\n",
       "    <tr>\n",
       "      <th>1</th>\n",
       "      <td>10.1093/rfs/hhr069</td>\n",
       "      <td>Xiaoji Lin</td>\n",
       "      <td>University of Minnesota</td>\n",
       "      <td>7QwB9o8AAAAJ</td>\n",
       "      <td>The Inventory Growth Spread</td>\n",
       "      <td>2012-01-15</td>\n",
       "    </tr>\n",
       "    <tr>\n",
       "      <th>2</th>\n",
       "      <td>10.1093/rfs/hhr109</td>\n",
       "      <td>Kose John</td>\n",
       "      <td>New York University</td>\n",
       "      <td>dJlFSXkAAAAJ</td>\n",
       "      <td>Takeovers and Divergence of Investor Opinion</td>\n",
       "      <td>2012-01-15</td>\n",
       "    </tr>\n",
       "    <tr>\n",
       "      <th>3</th>\n",
       "      <td>10.1093/rfs/hhr081</td>\n",
       "      <td>Ashwini Agrawal</td>\n",
       "      <td>London School of Economics</td>\n",
       "      <td>apUAKLgAAAAJ</td>\n",
       "      <td>Corporate Governance Objectives of Labor Union...</td>\n",
       "      <td>2012-01-15</td>\n",
       "    </tr>\n",
       "    <tr>\n",
       "      <th>4</th>\n",
       "      <td>10.1093/rfs/hhr076</td>\n",
       "      <td>Si Li</td>\n",
       "      <td>Wilfrid Laurier University</td>\n",
       "      <td>lmzraDAAAAAJ</td>\n",
       "      <td>Managerial Attributes and Executive Compensation</td>\n",
       "      <td>2012-01-15</td>\n",
       "    </tr>\n",
       "  </tbody>\n",
       "</table>\n",
       "</div>"
      ],
      "text/plain": [
       "                  doi       authorname                        name  \\\n",
       "0  10.1093/rfs/hhr069   Frederico Belo                      INSEAD   \n",
       "1  10.1093/rfs/hhr069       Xiaoji Lin     University of Minnesota   \n",
       "2  10.1093/rfs/hhr109        Kose John         New York University   \n",
       "3  10.1093/rfs/hhr081  Ashwini Agrawal  London School of Economics   \n",
       "4  10.1093/rfs/hhr076            Si Li  Wilfrid Laurier University   \n",
       "\n",
       "       authorid                                              title       date  \n",
       "0  4Weq9mEAAAAJ                        The Inventory Growth Spread 2012-01-15  \n",
       "1  7QwB9o8AAAAJ                        The Inventory Growth Spread 2012-01-15  \n",
       "2  dJlFSXkAAAAJ       Takeovers and Divergence of Investor Opinion 2012-01-15  \n",
       "3  apUAKLgAAAAJ  Corporate Governance Objectives of Labor Union... 2012-01-15  \n",
       "4  lmzraDAAAAAJ   Managerial Attributes and Executive Compensation 2012-01-15  "
      ]
     },
     "execution_count": 5,
     "metadata": {},
     "output_type": "execute_result"
    }
   ],
   "source": [
    "# extract title, date, journal, from database, starting from 2012-2022\n",
    "q = \"\"\"\n",
    "    SELECT art.doi, au.authorname, af.name, au.authorid, art.title, art.date\n",
    "    FROM author_article AS aa JOIN author AS au JOIN article AS art JOIN affiliation AS af\n",
    "    ON aa.authorid = au.authorid AND\n",
    "    aa.doi = art.doi AND\n",
    "    au.affiliationid = af.affiliationid\n",
    "    WHERE art.date >= '2012-01-01' AND\n",
    "    art.date < '2023-01-01'\n",
    "    \"\"\"\n",
    "\n",
    "# remove duplicated abstracts, set as strings\n",
    "df = pd.read_sql_query(q, conn).astype(\"str\")\n",
    "df[\"date\"] = pd.to_datetime(df[\"date\"])   # convert date to datetime\n",
    "df.head()"
   ]
  },
  {
   "cell_type": "code",
   "execution_count": 6,
   "metadata": {},
   "outputs": [
    {
     "data": {
      "application/vnd.plotly.v1+json": {
       "config": {
        "plotlyServerURL": "https://plot.ly"
       },
       "data": [
        {
         "marker": {
          "color": [
           44,
           30,
           27,
           25,
           23,
           22,
           22,
           22,
           21,
           21,
           21,
           20,
           19,
           19,
           18,
           18,
           18,
           18,
           18,
           18
          ],
          "colorscale": [
           [
            0,
            "rgb(176, 242, 188)"
           ],
           [
            0.16666666666666666,
            "rgb(137, 232, 172)"
           ],
           [
            0.3333333333333333,
            "rgb(103, 219, 165)"
           ],
           [
            0.5,
            "rgb(76, 200, 163)"
           ],
           [
            0.6666666666666666,
            "rgb(56, 178, 163)"
           ],
           [
            0.8333333333333334,
            "rgb(44, 152, 160)"
           ],
           [
            1,
            "rgb(37, 125, 152)"
           ]
          ]
         },
         "orientation": "h",
         "text": [
          44,
          30,
          27,
          25,
          23,
          22,
          22,
          22,
          21,
          21,
          21,
          20,
          19,
          19,
          18,
          18,
          18,
          18,
          18,
          18
         ],
         "type": "bar",
         "x": [
          44,
          30,
          27,
          25,
          23,
          22,
          22,
          22,
          21,
          21,
          21,
          20,
          19,
          19,
          18,
          18,
          18,
          18,
          18,
          18
         ],
         "y": [
          "Daron Acemoglu, Massachusetts Institute of Technology",
          "Yuriy Gorodnichenko, University of California, Berkeley",
          "John List, University of Chicago",
          "emmanuel farhi, Harvard University",
          "Muhammad Shahbaz, Beijing Institute of Technology",
          "Peter H. Egger, ETH Zürich",
          "Rangan Gupta, University of Pretoria",
          "Emmanuel Saez, University of California, Berkeley",
          "Nick Bloom, Stanford University",
          "David McKenzie, World Bank",
          "Amy Finkelstein, Massachusetts Institute of Technology",
          "Shang-Jin Wei, Columbia University",
          "Olivier Coibion, University of Texas at Austin",
          "Nicola Gennaioli, Bocconi University",
          "Andrei A. Levchenko, University of Michigan",
          "Zhiguo He (何治国), University of Chicago",
          "Sumit Agarwal, National University of Singapore",
          "Oded Stark, University of Warsaw",
          "Peter L. Rousseau, Vanderbilt University",
          "Matthew Gentzkow, Stanford University"
         ]
        }
       ],
       "layout": {
        "height": 700,
        "template": {
         "data": {
          "bar": [
           {
            "error_x": {
             "color": "#2a3f5f"
            },
            "error_y": {
             "color": "#2a3f5f"
            },
            "marker": {
             "line": {
              "color": "#E5ECF6",
              "width": 0.5
             },
             "pattern": {
              "fillmode": "overlay",
              "size": 10,
              "solidity": 0.2
             }
            },
            "type": "bar"
           }
          ],
          "barpolar": [
           {
            "marker": {
             "line": {
              "color": "#E5ECF6",
              "width": 0.5
             },
             "pattern": {
              "fillmode": "overlay",
              "size": 10,
              "solidity": 0.2
             }
            },
            "type": "barpolar"
           }
          ],
          "carpet": [
           {
            "aaxis": {
             "endlinecolor": "#2a3f5f",
             "gridcolor": "white",
             "linecolor": "white",
             "minorgridcolor": "white",
             "startlinecolor": "#2a3f5f"
            },
            "baxis": {
             "endlinecolor": "#2a3f5f",
             "gridcolor": "white",
             "linecolor": "white",
             "minorgridcolor": "white",
             "startlinecolor": "#2a3f5f"
            },
            "type": "carpet"
           }
          ],
          "choropleth": [
           {
            "colorbar": {
             "outlinewidth": 0,
             "ticks": ""
            },
            "type": "choropleth"
           }
          ],
          "contour": [
           {
            "colorbar": {
             "outlinewidth": 0,
             "ticks": ""
            },
            "colorscale": [
             [
              0,
              "#0d0887"
             ],
             [
              0.1111111111111111,
              "#46039f"
             ],
             [
              0.2222222222222222,
              "#7201a8"
             ],
             [
              0.3333333333333333,
              "#9c179e"
             ],
             [
              0.4444444444444444,
              "#bd3786"
             ],
             [
              0.5555555555555556,
              "#d8576b"
             ],
             [
              0.6666666666666666,
              "#ed7953"
             ],
             [
              0.7777777777777778,
              "#fb9f3a"
             ],
             [
              0.8888888888888888,
              "#fdca26"
             ],
             [
              1,
              "#f0f921"
             ]
            ],
            "type": "contour"
           }
          ],
          "contourcarpet": [
           {
            "colorbar": {
             "outlinewidth": 0,
             "ticks": ""
            },
            "type": "contourcarpet"
           }
          ],
          "heatmap": [
           {
            "colorbar": {
             "outlinewidth": 0,
             "ticks": ""
            },
            "colorscale": [
             [
              0,
              "#0d0887"
             ],
             [
              0.1111111111111111,
              "#46039f"
             ],
             [
              0.2222222222222222,
              "#7201a8"
             ],
             [
              0.3333333333333333,
              "#9c179e"
             ],
             [
              0.4444444444444444,
              "#bd3786"
             ],
             [
              0.5555555555555556,
              "#d8576b"
             ],
             [
              0.6666666666666666,
              "#ed7953"
             ],
             [
              0.7777777777777778,
              "#fb9f3a"
             ],
             [
              0.8888888888888888,
              "#fdca26"
             ],
             [
              1,
              "#f0f921"
             ]
            ],
            "type": "heatmap"
           }
          ],
          "heatmapgl": [
           {
            "colorbar": {
             "outlinewidth": 0,
             "ticks": ""
            },
            "colorscale": [
             [
              0,
              "#0d0887"
             ],
             [
              0.1111111111111111,
              "#46039f"
             ],
             [
              0.2222222222222222,
              "#7201a8"
             ],
             [
              0.3333333333333333,
              "#9c179e"
             ],
             [
              0.4444444444444444,
              "#bd3786"
             ],
             [
              0.5555555555555556,
              "#d8576b"
             ],
             [
              0.6666666666666666,
              "#ed7953"
             ],
             [
              0.7777777777777778,
              "#fb9f3a"
             ],
             [
              0.8888888888888888,
              "#fdca26"
             ],
             [
              1,
              "#f0f921"
             ]
            ],
            "type": "heatmapgl"
           }
          ],
          "histogram": [
           {
            "marker": {
             "pattern": {
              "fillmode": "overlay",
              "size": 10,
              "solidity": 0.2
             }
            },
            "type": "histogram"
           }
          ],
          "histogram2d": [
           {
            "colorbar": {
             "outlinewidth": 0,
             "ticks": ""
            },
            "colorscale": [
             [
              0,
              "#0d0887"
             ],
             [
              0.1111111111111111,
              "#46039f"
             ],
             [
              0.2222222222222222,
              "#7201a8"
             ],
             [
              0.3333333333333333,
              "#9c179e"
             ],
             [
              0.4444444444444444,
              "#bd3786"
             ],
             [
              0.5555555555555556,
              "#d8576b"
             ],
             [
              0.6666666666666666,
              "#ed7953"
             ],
             [
              0.7777777777777778,
              "#fb9f3a"
             ],
             [
              0.8888888888888888,
              "#fdca26"
             ],
             [
              1,
              "#f0f921"
             ]
            ],
            "type": "histogram2d"
           }
          ],
          "histogram2dcontour": [
           {
            "colorbar": {
             "outlinewidth": 0,
             "ticks": ""
            },
            "colorscale": [
             [
              0,
              "#0d0887"
             ],
             [
              0.1111111111111111,
              "#46039f"
             ],
             [
              0.2222222222222222,
              "#7201a8"
             ],
             [
              0.3333333333333333,
              "#9c179e"
             ],
             [
              0.4444444444444444,
              "#bd3786"
             ],
             [
              0.5555555555555556,
              "#d8576b"
             ],
             [
              0.6666666666666666,
              "#ed7953"
             ],
             [
              0.7777777777777778,
              "#fb9f3a"
             ],
             [
              0.8888888888888888,
              "#fdca26"
             ],
             [
              1,
              "#f0f921"
             ]
            ],
            "type": "histogram2dcontour"
           }
          ],
          "mesh3d": [
           {
            "colorbar": {
             "outlinewidth": 0,
             "ticks": ""
            },
            "type": "mesh3d"
           }
          ],
          "parcoords": [
           {
            "line": {
             "colorbar": {
              "outlinewidth": 0,
              "ticks": ""
             }
            },
            "type": "parcoords"
           }
          ],
          "pie": [
           {
            "automargin": true,
            "type": "pie"
           }
          ],
          "scatter": [
           {
            "fillpattern": {
             "fillmode": "overlay",
             "size": 10,
             "solidity": 0.2
            },
            "type": "scatter"
           }
          ],
          "scatter3d": [
           {
            "line": {
             "colorbar": {
              "outlinewidth": 0,
              "ticks": ""
             }
            },
            "marker": {
             "colorbar": {
              "outlinewidth": 0,
              "ticks": ""
             }
            },
            "type": "scatter3d"
           }
          ],
          "scattercarpet": [
           {
            "marker": {
             "colorbar": {
              "outlinewidth": 0,
              "ticks": ""
             }
            },
            "type": "scattercarpet"
           }
          ],
          "scattergeo": [
           {
            "marker": {
             "colorbar": {
              "outlinewidth": 0,
              "ticks": ""
             }
            },
            "type": "scattergeo"
           }
          ],
          "scattergl": [
           {
            "marker": {
             "colorbar": {
              "outlinewidth": 0,
              "ticks": ""
             }
            },
            "type": "scattergl"
           }
          ],
          "scattermapbox": [
           {
            "marker": {
             "colorbar": {
              "outlinewidth": 0,
              "ticks": ""
             }
            },
            "type": "scattermapbox"
           }
          ],
          "scatterpolar": [
           {
            "marker": {
             "colorbar": {
              "outlinewidth": 0,
              "ticks": ""
             }
            },
            "type": "scatterpolar"
           }
          ],
          "scatterpolargl": [
           {
            "marker": {
             "colorbar": {
              "outlinewidth": 0,
              "ticks": ""
             }
            },
            "type": "scatterpolargl"
           }
          ],
          "scatterternary": [
           {
            "marker": {
             "colorbar": {
              "outlinewidth": 0,
              "ticks": ""
             }
            },
            "type": "scatterternary"
           }
          ],
          "surface": [
           {
            "colorbar": {
             "outlinewidth": 0,
             "ticks": ""
            },
            "colorscale": [
             [
              0,
              "#0d0887"
             ],
             [
              0.1111111111111111,
              "#46039f"
             ],
             [
              0.2222222222222222,
              "#7201a8"
             ],
             [
              0.3333333333333333,
              "#9c179e"
             ],
             [
              0.4444444444444444,
              "#bd3786"
             ],
             [
              0.5555555555555556,
              "#d8576b"
             ],
             [
              0.6666666666666666,
              "#ed7953"
             ],
             [
              0.7777777777777778,
              "#fb9f3a"
             ],
             [
              0.8888888888888888,
              "#fdca26"
             ],
             [
              1,
              "#f0f921"
             ]
            ],
            "type": "surface"
           }
          ],
          "table": [
           {
            "cells": {
             "fill": {
              "color": "#EBF0F8"
             },
             "line": {
              "color": "white"
             }
            },
            "header": {
             "fill": {
              "color": "#C8D4E3"
             },
             "line": {
              "color": "white"
             }
            },
            "type": "table"
           }
          ]
         },
         "layout": {
          "annotationdefaults": {
           "arrowcolor": "#2a3f5f",
           "arrowhead": 0,
           "arrowwidth": 1
          },
          "autotypenumbers": "strict",
          "coloraxis": {
           "colorbar": {
            "outlinewidth": 0,
            "ticks": ""
           }
          },
          "colorscale": {
           "diverging": [
            [
             0,
             "#8e0152"
            ],
            [
             0.1,
             "#c51b7d"
            ],
            [
             0.2,
             "#de77ae"
            ],
            [
             0.3,
             "#f1b6da"
            ],
            [
             0.4,
             "#fde0ef"
            ],
            [
             0.5,
             "#f7f7f7"
            ],
            [
             0.6,
             "#e6f5d0"
            ],
            [
             0.7,
             "#b8e186"
            ],
            [
             0.8,
             "#7fbc41"
            ],
            [
             0.9,
             "#4d9221"
            ],
            [
             1,
             "#276419"
            ]
           ],
           "sequential": [
            [
             0,
             "#0d0887"
            ],
            [
             0.1111111111111111,
             "#46039f"
            ],
            [
             0.2222222222222222,
             "#7201a8"
            ],
            [
             0.3333333333333333,
             "#9c179e"
            ],
            [
             0.4444444444444444,
             "#bd3786"
            ],
            [
             0.5555555555555556,
             "#d8576b"
            ],
            [
             0.6666666666666666,
             "#ed7953"
            ],
            [
             0.7777777777777778,
             "#fb9f3a"
            ],
            [
             0.8888888888888888,
             "#fdca26"
            ],
            [
             1,
             "#f0f921"
            ]
           ],
           "sequentialminus": [
            [
             0,
             "#0d0887"
            ],
            [
             0.1111111111111111,
             "#46039f"
            ],
            [
             0.2222222222222222,
             "#7201a8"
            ],
            [
             0.3333333333333333,
             "#9c179e"
            ],
            [
             0.4444444444444444,
             "#bd3786"
            ],
            [
             0.5555555555555556,
             "#d8576b"
            ],
            [
             0.6666666666666666,
             "#ed7953"
            ],
            [
             0.7777777777777778,
             "#fb9f3a"
            ],
            [
             0.8888888888888888,
             "#fdca26"
            ],
            [
             1,
             "#f0f921"
            ]
           ]
          },
          "colorway": [
           "#636efa",
           "#EF553B",
           "#00cc96",
           "#ab63fa",
           "#FFA15A",
           "#19d3f3",
           "#FF6692",
           "#B6E880",
           "#FF97FF",
           "#FECB52"
          ],
          "font": {
           "color": "#2a3f5f"
          },
          "geo": {
           "bgcolor": "white",
           "lakecolor": "white",
           "landcolor": "#E5ECF6",
           "showlakes": true,
           "showland": true,
           "subunitcolor": "white"
          },
          "hoverlabel": {
           "align": "left"
          },
          "hovermode": "closest",
          "mapbox": {
           "style": "light"
          },
          "paper_bgcolor": "white",
          "plot_bgcolor": "#E5ECF6",
          "polar": {
           "angularaxis": {
            "gridcolor": "white",
            "linecolor": "white",
            "ticks": ""
           },
           "bgcolor": "#E5ECF6",
           "radialaxis": {
            "gridcolor": "white",
            "linecolor": "white",
            "ticks": ""
           }
          },
          "scene": {
           "xaxis": {
            "backgroundcolor": "#E5ECF6",
            "gridcolor": "white",
            "gridwidth": 2,
            "linecolor": "white",
            "showbackground": true,
            "ticks": "",
            "zerolinecolor": "white"
           },
           "yaxis": {
            "backgroundcolor": "#E5ECF6",
            "gridcolor": "white",
            "gridwidth": 2,
            "linecolor": "white",
            "showbackground": true,
            "ticks": "",
            "zerolinecolor": "white"
           },
           "zaxis": {
            "backgroundcolor": "#E5ECF6",
            "gridcolor": "white",
            "gridwidth": 2,
            "linecolor": "white",
            "showbackground": true,
            "ticks": "",
            "zerolinecolor": "white"
           }
          },
          "shapedefaults": {
           "line": {
            "color": "#2a3f5f"
           }
          },
          "ternary": {
           "aaxis": {
            "gridcolor": "white",
            "linecolor": "white",
            "ticks": ""
           },
           "baxis": {
            "gridcolor": "white",
            "linecolor": "white",
            "ticks": ""
           },
           "bgcolor": "#E5ECF6",
           "caxis": {
            "gridcolor": "white",
            "linecolor": "white",
            "ticks": ""
           }
          },
          "title": {
           "x": 0.05
          },
          "xaxis": {
           "automargin": true,
           "gridcolor": "white",
           "linecolor": "white",
           "ticks": "",
           "title": {
            "standoff": 15
           },
           "zerolinecolor": "white",
           "zerolinewidth": 2
          },
          "yaxis": {
           "automargin": true,
           "gridcolor": "white",
           "linecolor": "white",
           "ticks": "",
           "title": {
            "standoff": 15
           },
           "zerolinecolor": "white",
           "zerolinewidth": 2
          }
         }
        },
        "title": {
         "text": "Number of Collected Publications from 2012 to 2022 by Authors"
        },
        "width": 1200,
        "yaxis": {
         "categoryorder": "total ascending"
        }
       }
      }
     },
     "metadata": {},
     "output_type": "display_data"
    }
   ],
   "source": [
    "# Top 20 Authors\n",
    "df_count_by_author = df.groupby(\"authorid\").count()[[\"doi\"]].rename(columns={\"doi\":\"cnt\"}).sort_values(\"cnt\", ascending=False)[:20]\n",
    "# match authorid to name\n",
    "names = []\n",
    "for id in df_count_by_author.index:\n",
    "    for idx in df.index:\n",
    "        if id == df.loc[idx,\"authorid\"]:\n",
    "            names.append(df.loc[idx,\"authorname\"]+\", \"+df.loc[idx,\"name\"])\n",
    "            break\n",
    "\n",
    "# reset index\n",
    "df_count_by_author[\"name\"] = names\n",
    "\n",
    "fig = go.Figure()\n",
    "fig.add_trace(\n",
    "    go.Bar(\n",
    "        y = df_count_by_author.name,\n",
    "        x = df_count_by_author.cnt,\n",
    "        text = df_count_by_author.cnt,\n",
    "        orientation = \"h\",\n",
    "        marker={'color': df_count_by_author.cnt,\n",
    "        'colorscale': 'Tealgrn'}\n",
    "    )\n",
    ")\n",
    "fig.update_layout(title_text=\"Number of Collected Publications from 2012 to 2022 by Authors\",\n",
    "#                 template=\"plotly_dark\",\n",
    "                  yaxis={'categoryorder':'total ascending'},\n",
    "                  width=1200,\n",
    "                  height=700\n",
    "                  )\n",
    "fig.show()"
   ]
  },
  {
   "attachments": {},
   "cell_type": "markdown",
   "metadata": {},
   "source": [
    "### 2.3 Show Top 20 Institutions who have authors with top publications"
   ]
  },
  {
   "cell_type": "code",
   "execution_count": 7,
   "metadata": {},
   "outputs": [
    {
     "data": {
      "text/html": [
       "<div>\n",
       "<style scoped>\n",
       "    .dataframe tbody tr th:only-of-type {\n",
       "        vertical-align: middle;\n",
       "    }\n",
       "\n",
       "    .dataframe tbody tr th {\n",
       "        vertical-align: top;\n",
       "    }\n",
       "\n",
       "    .dataframe thead th {\n",
       "        text-align: right;\n",
       "    }\n",
       "</style>\n",
       "<table border=\"1\" class=\"dataframe\">\n",
       "  <thead>\n",
       "    <tr style=\"text-align: right;\">\n",
       "      <th></th>\n",
       "      <th>doi</th>\n",
       "      <th>name</th>\n",
       "      <th>title</th>\n",
       "      <th>date</th>\n",
       "    </tr>\n",
       "  </thead>\n",
       "  <tbody>\n",
       "    <tr>\n",
       "      <th>0</th>\n",
       "      <td>10.1093/rfs/hhr069</td>\n",
       "      <td>INSEAD</td>\n",
       "      <td>The Inventory Growth Spread</td>\n",
       "      <td>2012-01-15</td>\n",
       "    </tr>\n",
       "    <tr>\n",
       "      <th>1</th>\n",
       "      <td>10.1093/rfs/hhr069</td>\n",
       "      <td>University of Minnesota</td>\n",
       "      <td>The Inventory Growth Spread</td>\n",
       "      <td>2012-01-15</td>\n",
       "    </tr>\n",
       "    <tr>\n",
       "      <th>2</th>\n",
       "      <td>10.1093/rfs/hhr109</td>\n",
       "      <td>New York University</td>\n",
       "      <td>Takeovers and Divergence of Investor Opinion</td>\n",
       "      <td>2012-01-15</td>\n",
       "    </tr>\n",
       "    <tr>\n",
       "      <th>3</th>\n",
       "      <td>10.1093/rfs/hhr081</td>\n",
       "      <td>London School of Economics</td>\n",
       "      <td>Corporate Governance Objectives of Labor Union...</td>\n",
       "      <td>2012-01-15</td>\n",
       "    </tr>\n",
       "    <tr>\n",
       "      <th>4</th>\n",
       "      <td>10.1093/rfs/hhr076</td>\n",
       "      <td>Wilfrid Laurier University</td>\n",
       "      <td>Managerial Attributes and Executive Compensation</td>\n",
       "      <td>2012-01-15</td>\n",
       "    </tr>\n",
       "  </tbody>\n",
       "</table>\n",
       "</div>"
      ],
      "text/plain": [
       "                  doi                        name  \\\n",
       "0  10.1093/rfs/hhr069                      INSEAD   \n",
       "1  10.1093/rfs/hhr069     University of Minnesota   \n",
       "2  10.1093/rfs/hhr109         New York University   \n",
       "3  10.1093/rfs/hhr081  London School of Economics   \n",
       "4  10.1093/rfs/hhr076  Wilfrid Laurier University   \n",
       "\n",
       "                                               title       date  \n",
       "0                        The Inventory Growth Spread 2012-01-15  \n",
       "1                        The Inventory Growth Spread 2012-01-15  \n",
       "2       Takeovers and Divergence of Investor Opinion 2012-01-15  \n",
       "3  Corporate Governance Objectives of Labor Union... 2012-01-15  \n",
       "4   Managerial Attributes and Executive Compensation 2012-01-15  "
      ]
     },
     "execution_count": 7,
     "metadata": {},
     "output_type": "execute_result"
    }
   ],
   "source": [
    "# extract title, date, journal, from database, starting from 2012-2022\n",
    "q = \"\"\"\n",
    "    SELECT art.doi, af.name, art.title, art.date\n",
    "    FROM author_article AS aa JOIN author AS au JOIN article AS art JOIN affiliation AS af\n",
    "    ON aa.authorid = au.authorid AND\n",
    "    aa.doi = art.doi AND\n",
    "    au.affiliationid = af.affiliationid\n",
    "    WHERE art.date >= '2012-01-01' AND\n",
    "    art.date < '2023-01-01'\n",
    "    \"\"\"\n",
    "\n",
    "# remove duplicated abstracts, set as strings\n",
    "df = pd.read_sql_query(q, conn).drop_duplicates(subset=[\"doi\",\"name\"]).astype(\"str\")\n",
    "df[\"date\"] = pd.to_datetime(df[\"date\"])   # convert date to datetime\n",
    "df.head()"
   ]
  },
  {
   "cell_type": "code",
   "execution_count": 8,
   "metadata": {},
   "outputs": [
    {
     "data": {
      "application/vnd.plotly.v1+json": {
       "config": {
        "plotlyServerURL": "https://plot.ly"
       },
       "data": [
        {
         "marker": {
          "color": [
           600,
           599,
           508,
           505,
           480,
           400,
           386,
           368,
           366,
           338,
           329,
           303,
           301,
           254,
           251,
           235,
           230,
           223,
           212,
           197
          ],
          "colorscale": [
           [
            0,
            "rgb(249, 221, 218)"
           ],
           [
            0.16666666666666666,
            "rgb(242, 185, 196)"
           ],
           [
            0.3333333333333333,
            "rgb(229, 151, 185)"
           ],
           [
            0.5,
            "rgb(206, 120, 179)"
           ],
           [
            0.6666666666666666,
            "rgb(173, 95, 173)"
           ],
           [
            0.8333333333333334,
            "rgb(131, 75, 160)"
           ],
           [
            1,
            "rgb(87, 59, 136)"
           ]
          ]
         },
         "orientation": "h",
         "text": [
          600,
          599,
          508,
          505,
          480,
          400,
          386,
          368,
          366,
          338,
          329,
          303,
          301,
          254,
          251,
          235,
          230,
          223,
          212,
          197
         ],
         "type": "bar",
         "x": [
          600,
          599,
          508,
          505,
          480,
          400,
          386,
          368,
          366,
          338,
          329,
          303,
          301,
          254,
          251,
          235,
          230,
          223,
          212,
          197
         ],
         "y": [
          "University of Chicago",
          "Harvard University",
          "Massachusetts Institute of Technology",
          "Stanford University",
          "University of California, Berkeley",
          "Columbia University",
          "New York University",
          "London School of Economics",
          "Yale University",
          "University of Pennsylvania",
          "Northwestern University",
          "Princeton University",
          "World Bank",
          "University of California, Los Angeles",
          "US Federal Reserve Board",
          "Duke University",
          "International Monetary Fund",
          "Cornell University",
          "University of Michigan",
          "University of Oxford"
         ]
        }
       ],
       "layout": {
        "height": 700,
        "template": {
         "data": {
          "bar": [
           {
            "error_x": {
             "color": "#2a3f5f"
            },
            "error_y": {
             "color": "#2a3f5f"
            },
            "marker": {
             "line": {
              "color": "#E5ECF6",
              "width": 0.5
             },
             "pattern": {
              "fillmode": "overlay",
              "size": 10,
              "solidity": 0.2
             }
            },
            "type": "bar"
           }
          ],
          "barpolar": [
           {
            "marker": {
             "line": {
              "color": "#E5ECF6",
              "width": 0.5
             },
             "pattern": {
              "fillmode": "overlay",
              "size": 10,
              "solidity": 0.2
             }
            },
            "type": "barpolar"
           }
          ],
          "carpet": [
           {
            "aaxis": {
             "endlinecolor": "#2a3f5f",
             "gridcolor": "white",
             "linecolor": "white",
             "minorgridcolor": "white",
             "startlinecolor": "#2a3f5f"
            },
            "baxis": {
             "endlinecolor": "#2a3f5f",
             "gridcolor": "white",
             "linecolor": "white",
             "minorgridcolor": "white",
             "startlinecolor": "#2a3f5f"
            },
            "type": "carpet"
           }
          ],
          "choropleth": [
           {
            "colorbar": {
             "outlinewidth": 0,
             "ticks": ""
            },
            "type": "choropleth"
           }
          ],
          "contour": [
           {
            "colorbar": {
             "outlinewidth": 0,
             "ticks": ""
            },
            "colorscale": [
             [
              0,
              "#0d0887"
             ],
             [
              0.1111111111111111,
              "#46039f"
             ],
             [
              0.2222222222222222,
              "#7201a8"
             ],
             [
              0.3333333333333333,
              "#9c179e"
             ],
             [
              0.4444444444444444,
              "#bd3786"
             ],
             [
              0.5555555555555556,
              "#d8576b"
             ],
             [
              0.6666666666666666,
              "#ed7953"
             ],
             [
              0.7777777777777778,
              "#fb9f3a"
             ],
             [
              0.8888888888888888,
              "#fdca26"
             ],
             [
              1,
              "#f0f921"
             ]
            ],
            "type": "contour"
           }
          ],
          "contourcarpet": [
           {
            "colorbar": {
             "outlinewidth": 0,
             "ticks": ""
            },
            "type": "contourcarpet"
           }
          ],
          "heatmap": [
           {
            "colorbar": {
             "outlinewidth": 0,
             "ticks": ""
            },
            "colorscale": [
             [
              0,
              "#0d0887"
             ],
             [
              0.1111111111111111,
              "#46039f"
             ],
             [
              0.2222222222222222,
              "#7201a8"
             ],
             [
              0.3333333333333333,
              "#9c179e"
             ],
             [
              0.4444444444444444,
              "#bd3786"
             ],
             [
              0.5555555555555556,
              "#d8576b"
             ],
             [
              0.6666666666666666,
              "#ed7953"
             ],
             [
              0.7777777777777778,
              "#fb9f3a"
             ],
             [
              0.8888888888888888,
              "#fdca26"
             ],
             [
              1,
              "#f0f921"
             ]
            ],
            "type": "heatmap"
           }
          ],
          "heatmapgl": [
           {
            "colorbar": {
             "outlinewidth": 0,
             "ticks": ""
            },
            "colorscale": [
             [
              0,
              "#0d0887"
             ],
             [
              0.1111111111111111,
              "#46039f"
             ],
             [
              0.2222222222222222,
              "#7201a8"
             ],
             [
              0.3333333333333333,
              "#9c179e"
             ],
             [
              0.4444444444444444,
              "#bd3786"
             ],
             [
              0.5555555555555556,
              "#d8576b"
             ],
             [
              0.6666666666666666,
              "#ed7953"
             ],
             [
              0.7777777777777778,
              "#fb9f3a"
             ],
             [
              0.8888888888888888,
              "#fdca26"
             ],
             [
              1,
              "#f0f921"
             ]
            ],
            "type": "heatmapgl"
           }
          ],
          "histogram": [
           {
            "marker": {
             "pattern": {
              "fillmode": "overlay",
              "size": 10,
              "solidity": 0.2
             }
            },
            "type": "histogram"
           }
          ],
          "histogram2d": [
           {
            "colorbar": {
             "outlinewidth": 0,
             "ticks": ""
            },
            "colorscale": [
             [
              0,
              "#0d0887"
             ],
             [
              0.1111111111111111,
              "#46039f"
             ],
             [
              0.2222222222222222,
              "#7201a8"
             ],
             [
              0.3333333333333333,
              "#9c179e"
             ],
             [
              0.4444444444444444,
              "#bd3786"
             ],
             [
              0.5555555555555556,
              "#d8576b"
             ],
             [
              0.6666666666666666,
              "#ed7953"
             ],
             [
              0.7777777777777778,
              "#fb9f3a"
             ],
             [
              0.8888888888888888,
              "#fdca26"
             ],
             [
              1,
              "#f0f921"
             ]
            ],
            "type": "histogram2d"
           }
          ],
          "histogram2dcontour": [
           {
            "colorbar": {
             "outlinewidth": 0,
             "ticks": ""
            },
            "colorscale": [
             [
              0,
              "#0d0887"
             ],
             [
              0.1111111111111111,
              "#46039f"
             ],
             [
              0.2222222222222222,
              "#7201a8"
             ],
             [
              0.3333333333333333,
              "#9c179e"
             ],
             [
              0.4444444444444444,
              "#bd3786"
             ],
             [
              0.5555555555555556,
              "#d8576b"
             ],
             [
              0.6666666666666666,
              "#ed7953"
             ],
             [
              0.7777777777777778,
              "#fb9f3a"
             ],
             [
              0.8888888888888888,
              "#fdca26"
             ],
             [
              1,
              "#f0f921"
             ]
            ],
            "type": "histogram2dcontour"
           }
          ],
          "mesh3d": [
           {
            "colorbar": {
             "outlinewidth": 0,
             "ticks": ""
            },
            "type": "mesh3d"
           }
          ],
          "parcoords": [
           {
            "line": {
             "colorbar": {
              "outlinewidth": 0,
              "ticks": ""
             }
            },
            "type": "parcoords"
           }
          ],
          "pie": [
           {
            "automargin": true,
            "type": "pie"
           }
          ],
          "scatter": [
           {
            "fillpattern": {
             "fillmode": "overlay",
             "size": 10,
             "solidity": 0.2
            },
            "type": "scatter"
           }
          ],
          "scatter3d": [
           {
            "line": {
             "colorbar": {
              "outlinewidth": 0,
              "ticks": ""
             }
            },
            "marker": {
             "colorbar": {
              "outlinewidth": 0,
              "ticks": ""
             }
            },
            "type": "scatter3d"
           }
          ],
          "scattercarpet": [
           {
            "marker": {
             "colorbar": {
              "outlinewidth": 0,
              "ticks": ""
             }
            },
            "type": "scattercarpet"
           }
          ],
          "scattergeo": [
           {
            "marker": {
             "colorbar": {
              "outlinewidth": 0,
              "ticks": ""
             }
            },
            "type": "scattergeo"
           }
          ],
          "scattergl": [
           {
            "marker": {
             "colorbar": {
              "outlinewidth": 0,
              "ticks": ""
             }
            },
            "type": "scattergl"
           }
          ],
          "scattermapbox": [
           {
            "marker": {
             "colorbar": {
              "outlinewidth": 0,
              "ticks": ""
             }
            },
            "type": "scattermapbox"
           }
          ],
          "scatterpolar": [
           {
            "marker": {
             "colorbar": {
              "outlinewidth": 0,
              "ticks": ""
             }
            },
            "type": "scatterpolar"
           }
          ],
          "scatterpolargl": [
           {
            "marker": {
             "colorbar": {
              "outlinewidth": 0,
              "ticks": ""
             }
            },
            "type": "scatterpolargl"
           }
          ],
          "scatterternary": [
           {
            "marker": {
             "colorbar": {
              "outlinewidth": 0,
              "ticks": ""
             }
            },
            "type": "scatterternary"
           }
          ],
          "surface": [
           {
            "colorbar": {
             "outlinewidth": 0,
             "ticks": ""
            },
            "colorscale": [
             [
              0,
              "#0d0887"
             ],
             [
              0.1111111111111111,
              "#46039f"
             ],
             [
              0.2222222222222222,
              "#7201a8"
             ],
             [
              0.3333333333333333,
              "#9c179e"
             ],
             [
              0.4444444444444444,
              "#bd3786"
             ],
             [
              0.5555555555555556,
              "#d8576b"
             ],
             [
              0.6666666666666666,
              "#ed7953"
             ],
             [
              0.7777777777777778,
              "#fb9f3a"
             ],
             [
              0.8888888888888888,
              "#fdca26"
             ],
             [
              1,
              "#f0f921"
             ]
            ],
            "type": "surface"
           }
          ],
          "table": [
           {
            "cells": {
             "fill": {
              "color": "#EBF0F8"
             },
             "line": {
              "color": "white"
             }
            },
            "header": {
             "fill": {
              "color": "#C8D4E3"
             },
             "line": {
              "color": "white"
             }
            },
            "type": "table"
           }
          ]
         },
         "layout": {
          "annotationdefaults": {
           "arrowcolor": "#2a3f5f",
           "arrowhead": 0,
           "arrowwidth": 1
          },
          "autotypenumbers": "strict",
          "coloraxis": {
           "colorbar": {
            "outlinewidth": 0,
            "ticks": ""
           }
          },
          "colorscale": {
           "diverging": [
            [
             0,
             "#8e0152"
            ],
            [
             0.1,
             "#c51b7d"
            ],
            [
             0.2,
             "#de77ae"
            ],
            [
             0.3,
             "#f1b6da"
            ],
            [
             0.4,
             "#fde0ef"
            ],
            [
             0.5,
             "#f7f7f7"
            ],
            [
             0.6,
             "#e6f5d0"
            ],
            [
             0.7,
             "#b8e186"
            ],
            [
             0.8,
             "#7fbc41"
            ],
            [
             0.9,
             "#4d9221"
            ],
            [
             1,
             "#276419"
            ]
           ],
           "sequential": [
            [
             0,
             "#0d0887"
            ],
            [
             0.1111111111111111,
             "#46039f"
            ],
            [
             0.2222222222222222,
             "#7201a8"
            ],
            [
             0.3333333333333333,
             "#9c179e"
            ],
            [
             0.4444444444444444,
             "#bd3786"
            ],
            [
             0.5555555555555556,
             "#d8576b"
            ],
            [
             0.6666666666666666,
             "#ed7953"
            ],
            [
             0.7777777777777778,
             "#fb9f3a"
            ],
            [
             0.8888888888888888,
             "#fdca26"
            ],
            [
             1,
             "#f0f921"
            ]
           ],
           "sequentialminus": [
            [
             0,
             "#0d0887"
            ],
            [
             0.1111111111111111,
             "#46039f"
            ],
            [
             0.2222222222222222,
             "#7201a8"
            ],
            [
             0.3333333333333333,
             "#9c179e"
            ],
            [
             0.4444444444444444,
             "#bd3786"
            ],
            [
             0.5555555555555556,
             "#d8576b"
            ],
            [
             0.6666666666666666,
             "#ed7953"
            ],
            [
             0.7777777777777778,
             "#fb9f3a"
            ],
            [
             0.8888888888888888,
             "#fdca26"
            ],
            [
             1,
             "#f0f921"
            ]
           ]
          },
          "colorway": [
           "#636efa",
           "#EF553B",
           "#00cc96",
           "#ab63fa",
           "#FFA15A",
           "#19d3f3",
           "#FF6692",
           "#B6E880",
           "#FF97FF",
           "#FECB52"
          ],
          "font": {
           "color": "#2a3f5f"
          },
          "geo": {
           "bgcolor": "white",
           "lakecolor": "white",
           "landcolor": "#E5ECF6",
           "showlakes": true,
           "showland": true,
           "subunitcolor": "white"
          },
          "hoverlabel": {
           "align": "left"
          },
          "hovermode": "closest",
          "mapbox": {
           "style": "light"
          },
          "paper_bgcolor": "white",
          "plot_bgcolor": "#E5ECF6",
          "polar": {
           "angularaxis": {
            "gridcolor": "white",
            "linecolor": "white",
            "ticks": ""
           },
           "bgcolor": "#E5ECF6",
           "radialaxis": {
            "gridcolor": "white",
            "linecolor": "white",
            "ticks": ""
           }
          },
          "scene": {
           "xaxis": {
            "backgroundcolor": "#E5ECF6",
            "gridcolor": "white",
            "gridwidth": 2,
            "linecolor": "white",
            "showbackground": true,
            "ticks": "",
            "zerolinecolor": "white"
           },
           "yaxis": {
            "backgroundcolor": "#E5ECF6",
            "gridcolor": "white",
            "gridwidth": 2,
            "linecolor": "white",
            "showbackground": true,
            "ticks": "",
            "zerolinecolor": "white"
           },
           "zaxis": {
            "backgroundcolor": "#E5ECF6",
            "gridcolor": "white",
            "gridwidth": 2,
            "linecolor": "white",
            "showbackground": true,
            "ticks": "",
            "zerolinecolor": "white"
           }
          },
          "shapedefaults": {
           "line": {
            "color": "#2a3f5f"
           }
          },
          "ternary": {
           "aaxis": {
            "gridcolor": "white",
            "linecolor": "white",
            "ticks": ""
           },
           "baxis": {
            "gridcolor": "white",
            "linecolor": "white",
            "ticks": ""
           },
           "bgcolor": "#E5ECF6",
           "caxis": {
            "gridcolor": "white",
            "linecolor": "white",
            "ticks": ""
           }
          },
          "title": {
           "x": 0.05
          },
          "xaxis": {
           "automargin": true,
           "gridcolor": "white",
           "linecolor": "white",
           "ticks": "",
           "title": {
            "standoff": 15
           },
           "zerolinecolor": "white",
           "zerolinewidth": 2
          },
          "yaxis": {
           "automargin": true,
           "gridcolor": "white",
           "linecolor": "white",
           "ticks": "",
           "title": {
            "standoff": 15
           },
           "zerolinecolor": "white",
           "zerolinewidth": 2
          }
         }
        },
        "title": {
         "text": "Number of Collected Publications from 2012 to 2022 by Institutions"
        },
        "width": 1000,
        "yaxis": {
         "categoryorder": "total ascending"
        }
       }
      }
     },
     "metadata": {},
     "output_type": "display_data"
    }
   ],
   "source": [
    "# Top 20 Institutions\n",
    "df_count_by_aff = df.groupby(\"name\").count()[[\"doi\"]].rename(columns={\"doi\":\"cnt\"}).sort_values(\"cnt\", ascending=False)[:20]\n",
    "\n",
    "fig = go.Figure()\n",
    "fig.add_trace(\n",
    "    go.Bar(\n",
    "        y = df_count_by_aff.index,\n",
    "        x = df_count_by_aff.cnt,\n",
    "        text = df_count_by_aff.cnt,\n",
    "        orientation = \"h\",\n",
    "        marker={'color': df_count_by_aff.cnt,\n",
    "        'colorscale': 'Purpor'}\n",
    "    )\n",
    ")\n",
    "fig.update_layout(title_text=\"Number of Collected Publications from 2012 to 2022 by Institutions\",\n",
    "#                 template=\"plotly_dark\",\n",
    "                  yaxis={'categoryorder':'total ascending'},\n",
    "                  width=1000,\n",
    "                  height=700\n",
    "                  )\n",
    "fig.show()"
   ]
  },
  {
   "attachments": {},
   "cell_type": "markdown",
   "metadata": {},
   "source": [
    "## 3. Collaboration Network Analysis"
   ]
  },
  {
   "attachments": {},
   "cell_type": "markdown",
   "metadata": {},
   "source": [
    "- This section does for the network analysis for Top Economics publications collaboration from 2012 to 2022.\n",
    "- We create a new variable here as \"Tier\". Top 1-50 will be Tier0, Top 51-100 will be Tier1, so on and so forth."
   ]
  },
  {
   "attachments": {},
   "cell_type": "markdown",
   "metadata": {},
   "source": [
    "3.1 Draw Data from Database and Append Tier Information"
   ]
  },
  {
   "cell_type": "code",
   "execution_count": 9,
   "metadata": {},
   "outputs": [
    {
     "data": {
      "text/html": [
       "<div>\n",
       "<style scoped>\n",
       "    .dataframe tbody tr th:only-of-type {\n",
       "        vertical-align: middle;\n",
       "    }\n",
       "\n",
       "    .dataframe tbody tr th {\n",
       "        vertical-align: top;\n",
       "    }\n",
       "\n",
       "    .dataframe thead th {\n",
       "        text-align: right;\n",
       "    }\n",
       "</style>\n",
       "<table border=\"1\" class=\"dataframe\">\n",
       "  <thead>\n",
       "    <tr style=\"text-align: right;\">\n",
       "      <th></th>\n",
       "      <th>journal</th>\n",
       "      <th>title</th>\n",
       "      <th>date</th>\n",
       "      <th>authorname</th>\n",
       "      <th>name</th>\n",
       "      <th>rank</th>\n",
       "    </tr>\n",
       "    <tr>\n",
       "      <th>doi</th>\n",
       "      <th></th>\n",
       "      <th></th>\n",
       "      <th></th>\n",
       "      <th></th>\n",
       "      <th></th>\n",
       "      <th></th>\n",
       "    </tr>\n",
       "  </thead>\n",
       "  <tbody>\n",
       "    <tr>\n",
       "      <th>10.1093/rfs/hhr069</th>\n",
       "      <td>Review of Financial Studies</td>\n",
       "      <td>The Inventory Growth Spread</td>\n",
       "      <td>2012-01-15</td>\n",
       "      <td>Frederico Belo</td>\n",
       "      <td>INSEAD</td>\n",
       "      <td></td>\n",
       "    </tr>\n",
       "    <tr>\n",
       "      <th>10.1093/rfs/hhr069</th>\n",
       "      <td>Review of Financial Studies</td>\n",
       "      <td>The Inventory Growth Spread</td>\n",
       "      <td>2012-01-15</td>\n",
       "      <td>Xiaoji Lin</td>\n",
       "      <td>University of Minnesota</td>\n",
       "      <td>164</td>\n",
       "    </tr>\n",
       "    <tr>\n",
       "      <th>10.1093/rfs/hhr109</th>\n",
       "      <td>Review of Financial Studies</td>\n",
       "      <td>Takeovers and Divergence of Investor Opinion</td>\n",
       "      <td>2012-01-15</td>\n",
       "      <td>Kose John</td>\n",
       "      <td>New York University</td>\n",
       "      <td>50</td>\n",
       "    </tr>\n",
       "    <tr>\n",
       "      <th>10.1093/rfs/hhr081</th>\n",
       "      <td>Review of Financial Studies</td>\n",
       "      <td>Corporate Governance Objectives of Labor Union...</td>\n",
       "      <td>2012-01-15</td>\n",
       "      <td>Ashwini Agrawal</td>\n",
       "      <td>London School of Economics</td>\n",
       "      <td>1</td>\n",
       "    </tr>\n",
       "    <tr>\n",
       "      <th>10.1093/rfs/hhr076</th>\n",
       "      <td>Review of Financial Studies</td>\n",
       "      <td>Managerial Attributes and Executive Compensation</td>\n",
       "      <td>2012-01-15</td>\n",
       "      <td>Si Li</td>\n",
       "      <td>Wilfrid Laurier University</td>\n",
       "      <td></td>\n",
       "    </tr>\n",
       "  </tbody>\n",
       "</table>\n",
       "</div>"
      ],
      "text/plain": [
       "                                        journal  \\\n",
       "doi                                               \n",
       "10.1093/rfs/hhr069  Review of Financial Studies   \n",
       "10.1093/rfs/hhr069  Review of Financial Studies   \n",
       "10.1093/rfs/hhr109  Review of Financial Studies   \n",
       "10.1093/rfs/hhr081  Review of Financial Studies   \n",
       "10.1093/rfs/hhr076  Review of Financial Studies   \n",
       "\n",
       "                                                                title  \\\n",
       "doi                                                                     \n",
       "10.1093/rfs/hhr069                        The Inventory Growth Spread   \n",
       "10.1093/rfs/hhr069                        The Inventory Growth Spread   \n",
       "10.1093/rfs/hhr109       Takeovers and Divergence of Investor Opinion   \n",
       "10.1093/rfs/hhr081  Corporate Governance Objectives of Labor Union...   \n",
       "10.1093/rfs/hhr076   Managerial Attributes and Executive Compensation   \n",
       "\n",
       "                         date       authorname                        name  \\\n",
       "doi                                                                          \n",
       "10.1093/rfs/hhr069 2012-01-15   Frederico Belo                      INSEAD   \n",
       "10.1093/rfs/hhr069 2012-01-15       Xiaoji Lin     University of Minnesota   \n",
       "10.1093/rfs/hhr109 2012-01-15        Kose John         New York University   \n",
       "10.1093/rfs/hhr081 2012-01-15  Ashwini Agrawal  London School of Economics   \n",
       "10.1093/rfs/hhr076 2012-01-15            Si Li  Wilfrid Laurier University   \n",
       "\n",
       "                   rank  \n",
       "doi                      \n",
       "10.1093/rfs/hhr069       \n",
       "10.1093/rfs/hhr069  164  \n",
       "10.1093/rfs/hhr109   50  \n",
       "10.1093/rfs/hhr081    1  \n",
       "10.1093/rfs/hhr076       "
      ]
     },
     "execution_count": 9,
     "metadata": {},
     "output_type": "execute_result"
    }
   ],
   "source": [
    "# extract journal, title, date, institution name, from 2012 to 2022\n",
    "q = \"\"\"\n",
    "    SELECT  art.doi, art.journal, art.title, art.date, au.authorname, af.name, af.rank\n",
    "    FROM author_article AS aa JOIN author AS au JOIN article AS art JOIN affiliation AS af\n",
    "    ON aa.authorid = au.authorid AND\n",
    "    aa.doi = art.doi AND\n",
    "    au.affiliationid = af.affiliationid\n",
    "    WHERE art.date >= '2012-01-01' AND\n",
    "    art.date < '2023-01-01'\n",
    "    \"\"\"\n",
    "\n",
    "df = pd.read_sql_query(q, conn).astype(\"str\")\n",
    "df[\"date\"] = pd.to_datetime(df[\"date\"])   # convert date to datetime\n",
    "df.set_index(\"doi\", inplace = True)\n",
    "df.head()"
   ]
  },
  {
   "cell_type": "code",
   "execution_count": 10,
   "metadata": {},
   "outputs": [],
   "source": [
    "# add institutions tiers to each record, not no rank, assign -1\n",
    "df[\"tier\"] = df[\"rank\"].apply(lambda x: -1 if x == \"\" else int(x) // 50)"
   ]
  },
  {
   "attachments": {},
   "cell_type": "markdown",
   "metadata": {},
   "source": [
    "### 3.2 Institutional Level Analysis"
   ]
  },
  {
   "attachments": {},
   "cell_type": "markdown",
   "metadata": {},
   "source": [
    "#### 3.2.1 Get Institutional Collaboration Links"
   ]
  },
  {
   "cell_type": "code",
   "execution_count": 11,
   "metadata": {},
   "outputs": [],
   "source": [
    "# get collaboration freq, dictionary {(ins1, ins2): num of colab, [...,...]: ...}, tuple as keys\n",
    "# note that it is possible to have (ins1, ins1) because there can be co-authors from the same university!\n",
    "links = {}\n",
    "\n",
    "# iterate over all doi\n",
    "for doi in df.index:\n",
    "    try:\n",
    "        df.loc[doi][0]  # check if is only single record, if not there is collaboration!\n",
    "    except:\n",
    "        df_new = df.loc[doi].sort_values(\"name\")   # to prevent duplicated records like (A, B) and (B, A) in the results\n",
    "        length = len(df_new)\n",
    "        \n",
    "        # go over all authors for this article\n",
    "        for i in range(length-1):\n",
    "            for j in range(length-1-i):\n",
    "                try:\n",
    "                    links[(df_new[\"name\"][i], df_new[\"name\"][i+j+1])] += 1\n",
    "                except:\n",
    "                    links[(df_new[\"name\"][i], df_new[\"name\"][i+j+1])] = 1"
   ]
  },
  {
   "attachments": {},
   "cell_type": "markdown",
   "metadata": {},
   "source": [
    "#### 3.2.2 Convert into a list of triple-element lists"
   ]
  },
  {
   "cell_type": "code",
   "execution_count": 13,
   "metadata": {},
   "outputs": [],
   "source": [
    "# convert dict into a list of triple-element lists ([[ins1,ins2,num_coau],[,,],[,,],])\n",
    "\n",
    "# all links for cross-rank scores analysis\n",
    "links_all = [[key[0],key[1],links[key]] for key in links.keys()]\n",
    "\n",
    "# cross-school links for network construction\n",
    "links_diff = [[key[0],key[1],links[key]] for key in links.keys() if key[0] != key[1]]"
   ]
  },
  {
   "attachments": {},
   "cell_type": "markdown",
   "metadata": {},
   "source": [
    "#### 3.2.3 Institutional-level Network Density"
   ]
  },
  {
   "cell_type": "code",
   "execution_count": 16,
   "metadata": {},
   "outputs": [
    {
     "name": "stdout",
     "output_type": "stream",
     "text": [
      "Institutional:  0.012322998537377243\n"
     ]
    }
   ],
   "source": [
    "# building institutioanl network here\n",
    "G = nx.Graph()\n",
    "\n",
    "G.add_weighted_edges_from(links_diff)  # add nodes, edges, and weights\n",
    "\n",
    "# show density\n",
    "print(\"Institutional: \", nx.density(G))"
   ]
  },
  {
   "attachments": {},
   "cell_type": "markdown",
   "metadata": {},
   "source": [
    "#### 3.2.4 Institutional-level Network Centralities"
   ]
  },
  {
   "cell_type": "code",
   "execution_count": 17,
   "metadata": {},
   "outputs": [],
   "source": [
    "# betweenness centrality\n",
    "betweenness_centrality = nx.centrality.betweenness_centrality(G)\n",
    "betweenness_list = (sorted(betweenness_centrality.items(), key=lambda item: item[1], reverse=True))[:10]"
   ]
  },
  {
   "cell_type": "code",
   "execution_count": 18,
   "metadata": {},
   "outputs": [
    {
     "data": {
      "application/vnd.plotly.v1+json": {
       "config": {
        "plotlyServerURL": "https://plot.ly"
       },
       "data": [
        {
         "marker": {
          "color": [
           0.04708569158499478,
           0.04255795553621171,
           0.03898552305559797,
           0.03738043207692804,
           0.03682974968341149,
           0.03613348138426302,
           0.03131185250232046,
           0.031041040021729957,
           0.025759108700856174,
           0.023462673974189212
          ],
          "colorscale": [
           [
            0,
            "rgb(247,252,240)"
           ],
           [
            0.125,
            "rgb(224,243,219)"
           ],
           [
            0.25,
            "rgb(204,235,197)"
           ],
           [
            0.375,
            "rgb(168,221,181)"
           ],
           [
            0.5,
            "rgb(123,204,196)"
           ],
           [
            0.625,
            "rgb(78,179,211)"
           ],
           [
            0.75,
            "rgb(43,140,190)"
           ],
           [
            0.875,
            "rgb(8,104,172)"
           ],
           [
            1,
            "rgb(8,64,129)"
           ]
          ]
         },
         "orientation": "h",
         "text": [
          "0.0471",
          "0.0426",
          "0.039",
          "0.0374",
          "0.0368",
          "0.0361",
          "0.0313",
          "0.031",
          "0.0258",
          "0.0235"
         ],
         "type": "bar",
         "x": [
          0.04708569158499478,
          0.04255795553621171,
          0.03898552305559797,
          0.03738043207692804,
          0.03682974968341149,
          0.03613348138426302,
          0.03131185250232046,
          0.031041040021729957,
          0.025759108700856174,
          0.023462673974189212
         ],
         "y": [
          "World Bank",
          "Monash University",
          "New York University",
          "London School of Economics",
          "Harvard University",
          "Columbia University",
          "University of Chicago",
          "University of California, Berkeley",
          "University of Nottingham",
          "Cornell University"
         ]
        }
       ],
       "layout": {
        "height": 600,
        "template": {
         "data": {
          "bar": [
           {
            "error_x": {
             "color": "#2a3f5f"
            },
            "error_y": {
             "color": "#2a3f5f"
            },
            "marker": {
             "line": {
              "color": "#E5ECF6",
              "width": 0.5
             },
             "pattern": {
              "fillmode": "overlay",
              "size": 10,
              "solidity": 0.2
             }
            },
            "type": "bar"
           }
          ],
          "barpolar": [
           {
            "marker": {
             "line": {
              "color": "#E5ECF6",
              "width": 0.5
             },
             "pattern": {
              "fillmode": "overlay",
              "size": 10,
              "solidity": 0.2
             }
            },
            "type": "barpolar"
           }
          ],
          "carpet": [
           {
            "aaxis": {
             "endlinecolor": "#2a3f5f",
             "gridcolor": "white",
             "linecolor": "white",
             "minorgridcolor": "white",
             "startlinecolor": "#2a3f5f"
            },
            "baxis": {
             "endlinecolor": "#2a3f5f",
             "gridcolor": "white",
             "linecolor": "white",
             "minorgridcolor": "white",
             "startlinecolor": "#2a3f5f"
            },
            "type": "carpet"
           }
          ],
          "choropleth": [
           {
            "colorbar": {
             "outlinewidth": 0,
             "ticks": ""
            },
            "type": "choropleth"
           }
          ],
          "contour": [
           {
            "colorbar": {
             "outlinewidth": 0,
             "ticks": ""
            },
            "colorscale": [
             [
              0,
              "#0d0887"
             ],
             [
              0.1111111111111111,
              "#46039f"
             ],
             [
              0.2222222222222222,
              "#7201a8"
             ],
             [
              0.3333333333333333,
              "#9c179e"
             ],
             [
              0.4444444444444444,
              "#bd3786"
             ],
             [
              0.5555555555555556,
              "#d8576b"
             ],
             [
              0.6666666666666666,
              "#ed7953"
             ],
             [
              0.7777777777777778,
              "#fb9f3a"
             ],
             [
              0.8888888888888888,
              "#fdca26"
             ],
             [
              1,
              "#f0f921"
             ]
            ],
            "type": "contour"
           }
          ],
          "contourcarpet": [
           {
            "colorbar": {
             "outlinewidth": 0,
             "ticks": ""
            },
            "type": "contourcarpet"
           }
          ],
          "heatmap": [
           {
            "colorbar": {
             "outlinewidth": 0,
             "ticks": ""
            },
            "colorscale": [
             [
              0,
              "#0d0887"
             ],
             [
              0.1111111111111111,
              "#46039f"
             ],
             [
              0.2222222222222222,
              "#7201a8"
             ],
             [
              0.3333333333333333,
              "#9c179e"
             ],
             [
              0.4444444444444444,
              "#bd3786"
             ],
             [
              0.5555555555555556,
              "#d8576b"
             ],
             [
              0.6666666666666666,
              "#ed7953"
             ],
             [
              0.7777777777777778,
              "#fb9f3a"
             ],
             [
              0.8888888888888888,
              "#fdca26"
             ],
             [
              1,
              "#f0f921"
             ]
            ],
            "type": "heatmap"
           }
          ],
          "heatmapgl": [
           {
            "colorbar": {
             "outlinewidth": 0,
             "ticks": ""
            },
            "colorscale": [
             [
              0,
              "#0d0887"
             ],
             [
              0.1111111111111111,
              "#46039f"
             ],
             [
              0.2222222222222222,
              "#7201a8"
             ],
             [
              0.3333333333333333,
              "#9c179e"
             ],
             [
              0.4444444444444444,
              "#bd3786"
             ],
             [
              0.5555555555555556,
              "#d8576b"
             ],
             [
              0.6666666666666666,
              "#ed7953"
             ],
             [
              0.7777777777777778,
              "#fb9f3a"
             ],
             [
              0.8888888888888888,
              "#fdca26"
             ],
             [
              1,
              "#f0f921"
             ]
            ],
            "type": "heatmapgl"
           }
          ],
          "histogram": [
           {
            "marker": {
             "pattern": {
              "fillmode": "overlay",
              "size": 10,
              "solidity": 0.2
             }
            },
            "type": "histogram"
           }
          ],
          "histogram2d": [
           {
            "colorbar": {
             "outlinewidth": 0,
             "ticks": ""
            },
            "colorscale": [
             [
              0,
              "#0d0887"
             ],
             [
              0.1111111111111111,
              "#46039f"
             ],
             [
              0.2222222222222222,
              "#7201a8"
             ],
             [
              0.3333333333333333,
              "#9c179e"
             ],
             [
              0.4444444444444444,
              "#bd3786"
             ],
             [
              0.5555555555555556,
              "#d8576b"
             ],
             [
              0.6666666666666666,
              "#ed7953"
             ],
             [
              0.7777777777777778,
              "#fb9f3a"
             ],
             [
              0.8888888888888888,
              "#fdca26"
             ],
             [
              1,
              "#f0f921"
             ]
            ],
            "type": "histogram2d"
           }
          ],
          "histogram2dcontour": [
           {
            "colorbar": {
             "outlinewidth": 0,
             "ticks": ""
            },
            "colorscale": [
             [
              0,
              "#0d0887"
             ],
             [
              0.1111111111111111,
              "#46039f"
             ],
             [
              0.2222222222222222,
              "#7201a8"
             ],
             [
              0.3333333333333333,
              "#9c179e"
             ],
             [
              0.4444444444444444,
              "#bd3786"
             ],
             [
              0.5555555555555556,
              "#d8576b"
             ],
             [
              0.6666666666666666,
              "#ed7953"
             ],
             [
              0.7777777777777778,
              "#fb9f3a"
             ],
             [
              0.8888888888888888,
              "#fdca26"
             ],
             [
              1,
              "#f0f921"
             ]
            ],
            "type": "histogram2dcontour"
           }
          ],
          "mesh3d": [
           {
            "colorbar": {
             "outlinewidth": 0,
             "ticks": ""
            },
            "type": "mesh3d"
           }
          ],
          "parcoords": [
           {
            "line": {
             "colorbar": {
              "outlinewidth": 0,
              "ticks": ""
             }
            },
            "type": "parcoords"
           }
          ],
          "pie": [
           {
            "automargin": true,
            "type": "pie"
           }
          ],
          "scatter": [
           {
            "fillpattern": {
             "fillmode": "overlay",
             "size": 10,
             "solidity": 0.2
            },
            "type": "scatter"
           }
          ],
          "scatter3d": [
           {
            "line": {
             "colorbar": {
              "outlinewidth": 0,
              "ticks": ""
             }
            },
            "marker": {
             "colorbar": {
              "outlinewidth": 0,
              "ticks": ""
             }
            },
            "type": "scatter3d"
           }
          ],
          "scattercarpet": [
           {
            "marker": {
             "colorbar": {
              "outlinewidth": 0,
              "ticks": ""
             }
            },
            "type": "scattercarpet"
           }
          ],
          "scattergeo": [
           {
            "marker": {
             "colorbar": {
              "outlinewidth": 0,
              "ticks": ""
             }
            },
            "type": "scattergeo"
           }
          ],
          "scattergl": [
           {
            "marker": {
             "colorbar": {
              "outlinewidth": 0,
              "ticks": ""
             }
            },
            "type": "scattergl"
           }
          ],
          "scattermapbox": [
           {
            "marker": {
             "colorbar": {
              "outlinewidth": 0,
              "ticks": ""
             }
            },
            "type": "scattermapbox"
           }
          ],
          "scatterpolar": [
           {
            "marker": {
             "colorbar": {
              "outlinewidth": 0,
              "ticks": ""
             }
            },
            "type": "scatterpolar"
           }
          ],
          "scatterpolargl": [
           {
            "marker": {
             "colorbar": {
              "outlinewidth": 0,
              "ticks": ""
             }
            },
            "type": "scatterpolargl"
           }
          ],
          "scatterternary": [
           {
            "marker": {
             "colorbar": {
              "outlinewidth": 0,
              "ticks": ""
             }
            },
            "type": "scatterternary"
           }
          ],
          "surface": [
           {
            "colorbar": {
             "outlinewidth": 0,
             "ticks": ""
            },
            "colorscale": [
             [
              0,
              "#0d0887"
             ],
             [
              0.1111111111111111,
              "#46039f"
             ],
             [
              0.2222222222222222,
              "#7201a8"
             ],
             [
              0.3333333333333333,
              "#9c179e"
             ],
             [
              0.4444444444444444,
              "#bd3786"
             ],
             [
              0.5555555555555556,
              "#d8576b"
             ],
             [
              0.6666666666666666,
              "#ed7953"
             ],
             [
              0.7777777777777778,
              "#fb9f3a"
             ],
             [
              0.8888888888888888,
              "#fdca26"
             ],
             [
              1,
              "#f0f921"
             ]
            ],
            "type": "surface"
           }
          ],
          "table": [
           {
            "cells": {
             "fill": {
              "color": "#EBF0F8"
             },
             "line": {
              "color": "white"
             }
            },
            "header": {
             "fill": {
              "color": "#C8D4E3"
             },
             "line": {
              "color": "white"
             }
            },
            "type": "table"
           }
          ]
         },
         "layout": {
          "annotationdefaults": {
           "arrowcolor": "#2a3f5f",
           "arrowhead": 0,
           "arrowwidth": 1
          },
          "autotypenumbers": "strict",
          "coloraxis": {
           "colorbar": {
            "outlinewidth": 0,
            "ticks": ""
           }
          },
          "colorscale": {
           "diverging": [
            [
             0,
             "#8e0152"
            ],
            [
             0.1,
             "#c51b7d"
            ],
            [
             0.2,
             "#de77ae"
            ],
            [
             0.3,
             "#f1b6da"
            ],
            [
             0.4,
             "#fde0ef"
            ],
            [
             0.5,
             "#f7f7f7"
            ],
            [
             0.6,
             "#e6f5d0"
            ],
            [
             0.7,
             "#b8e186"
            ],
            [
             0.8,
             "#7fbc41"
            ],
            [
             0.9,
             "#4d9221"
            ],
            [
             1,
             "#276419"
            ]
           ],
           "sequential": [
            [
             0,
             "#0d0887"
            ],
            [
             0.1111111111111111,
             "#46039f"
            ],
            [
             0.2222222222222222,
             "#7201a8"
            ],
            [
             0.3333333333333333,
             "#9c179e"
            ],
            [
             0.4444444444444444,
             "#bd3786"
            ],
            [
             0.5555555555555556,
             "#d8576b"
            ],
            [
             0.6666666666666666,
             "#ed7953"
            ],
            [
             0.7777777777777778,
             "#fb9f3a"
            ],
            [
             0.8888888888888888,
             "#fdca26"
            ],
            [
             1,
             "#f0f921"
            ]
           ],
           "sequentialminus": [
            [
             0,
             "#0d0887"
            ],
            [
             0.1111111111111111,
             "#46039f"
            ],
            [
             0.2222222222222222,
             "#7201a8"
            ],
            [
             0.3333333333333333,
             "#9c179e"
            ],
            [
             0.4444444444444444,
             "#bd3786"
            ],
            [
             0.5555555555555556,
             "#d8576b"
            ],
            [
             0.6666666666666666,
             "#ed7953"
            ],
            [
             0.7777777777777778,
             "#fb9f3a"
            ],
            [
             0.8888888888888888,
             "#fdca26"
            ],
            [
             1,
             "#f0f921"
            ]
           ]
          },
          "colorway": [
           "#636efa",
           "#EF553B",
           "#00cc96",
           "#ab63fa",
           "#FFA15A",
           "#19d3f3",
           "#FF6692",
           "#B6E880",
           "#FF97FF",
           "#FECB52"
          ],
          "font": {
           "color": "#2a3f5f"
          },
          "geo": {
           "bgcolor": "white",
           "lakecolor": "white",
           "landcolor": "#E5ECF6",
           "showlakes": true,
           "showland": true,
           "subunitcolor": "white"
          },
          "hoverlabel": {
           "align": "left"
          },
          "hovermode": "closest",
          "mapbox": {
           "style": "light"
          },
          "paper_bgcolor": "white",
          "plot_bgcolor": "#E5ECF6",
          "polar": {
           "angularaxis": {
            "gridcolor": "white",
            "linecolor": "white",
            "ticks": ""
           },
           "bgcolor": "#E5ECF6",
           "radialaxis": {
            "gridcolor": "white",
            "linecolor": "white",
            "ticks": ""
           }
          },
          "scene": {
           "xaxis": {
            "backgroundcolor": "#E5ECF6",
            "gridcolor": "white",
            "gridwidth": 2,
            "linecolor": "white",
            "showbackground": true,
            "ticks": "",
            "zerolinecolor": "white"
           },
           "yaxis": {
            "backgroundcolor": "#E5ECF6",
            "gridcolor": "white",
            "gridwidth": 2,
            "linecolor": "white",
            "showbackground": true,
            "ticks": "",
            "zerolinecolor": "white"
           },
           "zaxis": {
            "backgroundcolor": "#E5ECF6",
            "gridcolor": "white",
            "gridwidth": 2,
            "linecolor": "white",
            "showbackground": true,
            "ticks": "",
            "zerolinecolor": "white"
           }
          },
          "shapedefaults": {
           "line": {
            "color": "#2a3f5f"
           }
          },
          "ternary": {
           "aaxis": {
            "gridcolor": "white",
            "linecolor": "white",
            "ticks": ""
           },
           "baxis": {
            "gridcolor": "white",
            "linecolor": "white",
            "ticks": ""
           },
           "bgcolor": "#E5ECF6",
           "caxis": {
            "gridcolor": "white",
            "linecolor": "white",
            "ticks": ""
           }
          },
          "title": {
           "x": 0.05
          },
          "xaxis": {
           "automargin": true,
           "gridcolor": "white",
           "linecolor": "white",
           "ticks": "",
           "title": {
            "standoff": 15
           },
           "zerolinecolor": "white",
           "zerolinewidth": 2
          },
          "yaxis": {
           "automargin": true,
           "gridcolor": "white",
           "linecolor": "white",
           "ticks": "",
           "title": {
            "standoff": 15
           },
           "zerolinecolor": "white",
           "zerolinewidth": 2
          }
         }
        },
        "title": {
         "text": "Top 10 Betweenness Centralities of Economic Instutitions"
        },
        "width": 800,
        "yaxis": {
         "categoryorder": "total ascending"
        }
       }
      }
     },
     "metadata": {},
     "output_type": "display_data"
    }
   ],
   "source": [
    "fig = go.Figure()\n",
    "fig.add_trace(\n",
    "    go.Bar(\n",
    "        y = [item[0] for item in betweenness_list],\n",
    "        x = [item[1] for item in betweenness_list],\n",
    "        text = [round(item[1],4) for item in betweenness_list],\n",
    "        orientation = \"h\",\n",
    "#       marker_color = \"gold\",\n",
    "        marker={'color': [item[1] for item in betweenness_list],\n",
    "                'colorscale': 'Gnbu'}\n",
    "    )\n",
    ")\n",
    "fig.update_layout(title_text=\"Top 10 Betweenness Centralities of Economic Instutitions\",\n",
    "#                 template=\"plotly_dark\",\n",
    "                  yaxis={'categoryorder':'total ascending'},\n",
    "                  width=800,\n",
    "                  height=600\n",
    "                  )\n",
    "fig.show()"
   ]
  },
  {
   "cell_type": "code",
   "execution_count": 19,
   "metadata": {},
   "outputs": [],
   "source": [
    "# degree centrality\n",
    "degree_centrality = nx.centrality.degree_centrality(G)  \n",
    "degree_list = (sorted(degree_centrality.items(), key=lambda item: item[1], reverse=True))[:10]"
   ]
  },
  {
   "cell_type": "code",
   "execution_count": 20,
   "metadata": {},
   "outputs": [
    {
     "data": {
      "application/vnd.plotly.v1+json": {
       "config": {
        "plotlyServerURL": "https://plot.ly"
       },
       "data": [
        {
         "marker": {
          "color": [
           0.13721973094170403,
           0.13273542600896862,
           0.13094170403587443,
           0.1273542600896861,
           0.1273542600896861,
           0.12017937219730941,
           0.11659192825112108,
           0.11569506726457399,
           0.11390134529147983,
           0.10493273542600896
          ],
          "colorscale": [
           [
            0,
            "rgb(253, 224, 197)"
           ],
           [
            0.16666666666666666,
            "rgb(250, 203, 166)"
           ],
           [
            0.3333333333333333,
            "rgb(248, 181, 139)"
           ],
           [
            0.5,
            "rgb(245, 158, 114)"
           ],
           [
            0.6666666666666666,
            "rgb(242, 133, 93)"
           ],
           [
            0.8333333333333334,
            "rgb(239, 106, 76)"
           ],
           [
            1,
            "rgb(235, 74, 64)"
           ]
          ]
         },
         "orientation": "h",
         "text": [
          "0.1372",
          "0.1327",
          "0.1309",
          "0.1274",
          "0.1274",
          "0.1202",
          "0.1166",
          "0.1157",
          "0.1139",
          "0.1049"
         ],
         "type": "bar",
         "x": [
          0.13721973094170403,
          0.13273542600896862,
          0.13094170403587443,
          0.1273542600896861,
          0.1273542600896861,
          0.12017937219730941,
          0.11659192825112108,
          0.11569506726457399,
          0.11390134529147983,
          0.10493273542600896
         ],
         "y": [
          "New York University",
          "University of California, Berkeley",
          "University of Chicago",
          "Columbia University",
          "Harvard University",
          "London School of Economics",
          "World Bank",
          "Stanford University",
          "Massachusetts Institute of Technology",
          "University of Pennsylvania"
         ]
        }
       ],
       "layout": {
        "height": 600,
        "template": {
         "data": {
          "bar": [
           {
            "error_x": {
             "color": "#2a3f5f"
            },
            "error_y": {
             "color": "#2a3f5f"
            },
            "marker": {
             "line": {
              "color": "#E5ECF6",
              "width": 0.5
             },
             "pattern": {
              "fillmode": "overlay",
              "size": 10,
              "solidity": 0.2
             }
            },
            "type": "bar"
           }
          ],
          "barpolar": [
           {
            "marker": {
             "line": {
              "color": "#E5ECF6",
              "width": 0.5
             },
             "pattern": {
              "fillmode": "overlay",
              "size": 10,
              "solidity": 0.2
             }
            },
            "type": "barpolar"
           }
          ],
          "carpet": [
           {
            "aaxis": {
             "endlinecolor": "#2a3f5f",
             "gridcolor": "white",
             "linecolor": "white",
             "minorgridcolor": "white",
             "startlinecolor": "#2a3f5f"
            },
            "baxis": {
             "endlinecolor": "#2a3f5f",
             "gridcolor": "white",
             "linecolor": "white",
             "minorgridcolor": "white",
             "startlinecolor": "#2a3f5f"
            },
            "type": "carpet"
           }
          ],
          "choropleth": [
           {
            "colorbar": {
             "outlinewidth": 0,
             "ticks": ""
            },
            "type": "choropleth"
           }
          ],
          "contour": [
           {
            "colorbar": {
             "outlinewidth": 0,
             "ticks": ""
            },
            "colorscale": [
             [
              0,
              "#0d0887"
             ],
             [
              0.1111111111111111,
              "#46039f"
             ],
             [
              0.2222222222222222,
              "#7201a8"
             ],
             [
              0.3333333333333333,
              "#9c179e"
             ],
             [
              0.4444444444444444,
              "#bd3786"
             ],
             [
              0.5555555555555556,
              "#d8576b"
             ],
             [
              0.6666666666666666,
              "#ed7953"
             ],
             [
              0.7777777777777778,
              "#fb9f3a"
             ],
             [
              0.8888888888888888,
              "#fdca26"
             ],
             [
              1,
              "#f0f921"
             ]
            ],
            "type": "contour"
           }
          ],
          "contourcarpet": [
           {
            "colorbar": {
             "outlinewidth": 0,
             "ticks": ""
            },
            "type": "contourcarpet"
           }
          ],
          "heatmap": [
           {
            "colorbar": {
             "outlinewidth": 0,
             "ticks": ""
            },
            "colorscale": [
             [
              0,
              "#0d0887"
             ],
             [
              0.1111111111111111,
              "#46039f"
             ],
             [
              0.2222222222222222,
              "#7201a8"
             ],
             [
              0.3333333333333333,
              "#9c179e"
             ],
             [
              0.4444444444444444,
              "#bd3786"
             ],
             [
              0.5555555555555556,
              "#d8576b"
             ],
             [
              0.6666666666666666,
              "#ed7953"
             ],
             [
              0.7777777777777778,
              "#fb9f3a"
             ],
             [
              0.8888888888888888,
              "#fdca26"
             ],
             [
              1,
              "#f0f921"
             ]
            ],
            "type": "heatmap"
           }
          ],
          "heatmapgl": [
           {
            "colorbar": {
             "outlinewidth": 0,
             "ticks": ""
            },
            "colorscale": [
             [
              0,
              "#0d0887"
             ],
             [
              0.1111111111111111,
              "#46039f"
             ],
             [
              0.2222222222222222,
              "#7201a8"
             ],
             [
              0.3333333333333333,
              "#9c179e"
             ],
             [
              0.4444444444444444,
              "#bd3786"
             ],
             [
              0.5555555555555556,
              "#d8576b"
             ],
             [
              0.6666666666666666,
              "#ed7953"
             ],
             [
              0.7777777777777778,
              "#fb9f3a"
             ],
             [
              0.8888888888888888,
              "#fdca26"
             ],
             [
              1,
              "#f0f921"
             ]
            ],
            "type": "heatmapgl"
           }
          ],
          "histogram": [
           {
            "marker": {
             "pattern": {
              "fillmode": "overlay",
              "size": 10,
              "solidity": 0.2
             }
            },
            "type": "histogram"
           }
          ],
          "histogram2d": [
           {
            "colorbar": {
             "outlinewidth": 0,
             "ticks": ""
            },
            "colorscale": [
             [
              0,
              "#0d0887"
             ],
             [
              0.1111111111111111,
              "#46039f"
             ],
             [
              0.2222222222222222,
              "#7201a8"
             ],
             [
              0.3333333333333333,
              "#9c179e"
             ],
             [
              0.4444444444444444,
              "#bd3786"
             ],
             [
              0.5555555555555556,
              "#d8576b"
             ],
             [
              0.6666666666666666,
              "#ed7953"
             ],
             [
              0.7777777777777778,
              "#fb9f3a"
             ],
             [
              0.8888888888888888,
              "#fdca26"
             ],
             [
              1,
              "#f0f921"
             ]
            ],
            "type": "histogram2d"
           }
          ],
          "histogram2dcontour": [
           {
            "colorbar": {
             "outlinewidth": 0,
             "ticks": ""
            },
            "colorscale": [
             [
              0,
              "#0d0887"
             ],
             [
              0.1111111111111111,
              "#46039f"
             ],
             [
              0.2222222222222222,
              "#7201a8"
             ],
             [
              0.3333333333333333,
              "#9c179e"
             ],
             [
              0.4444444444444444,
              "#bd3786"
             ],
             [
              0.5555555555555556,
              "#d8576b"
             ],
             [
              0.6666666666666666,
              "#ed7953"
             ],
             [
              0.7777777777777778,
              "#fb9f3a"
             ],
             [
              0.8888888888888888,
              "#fdca26"
             ],
             [
              1,
              "#f0f921"
             ]
            ],
            "type": "histogram2dcontour"
           }
          ],
          "mesh3d": [
           {
            "colorbar": {
             "outlinewidth": 0,
             "ticks": ""
            },
            "type": "mesh3d"
           }
          ],
          "parcoords": [
           {
            "line": {
             "colorbar": {
              "outlinewidth": 0,
              "ticks": ""
             }
            },
            "type": "parcoords"
           }
          ],
          "pie": [
           {
            "automargin": true,
            "type": "pie"
           }
          ],
          "scatter": [
           {
            "fillpattern": {
             "fillmode": "overlay",
             "size": 10,
             "solidity": 0.2
            },
            "type": "scatter"
           }
          ],
          "scatter3d": [
           {
            "line": {
             "colorbar": {
              "outlinewidth": 0,
              "ticks": ""
             }
            },
            "marker": {
             "colorbar": {
              "outlinewidth": 0,
              "ticks": ""
             }
            },
            "type": "scatter3d"
           }
          ],
          "scattercarpet": [
           {
            "marker": {
             "colorbar": {
              "outlinewidth": 0,
              "ticks": ""
             }
            },
            "type": "scattercarpet"
           }
          ],
          "scattergeo": [
           {
            "marker": {
             "colorbar": {
              "outlinewidth": 0,
              "ticks": ""
             }
            },
            "type": "scattergeo"
           }
          ],
          "scattergl": [
           {
            "marker": {
             "colorbar": {
              "outlinewidth": 0,
              "ticks": ""
             }
            },
            "type": "scattergl"
           }
          ],
          "scattermapbox": [
           {
            "marker": {
             "colorbar": {
              "outlinewidth": 0,
              "ticks": ""
             }
            },
            "type": "scattermapbox"
           }
          ],
          "scatterpolar": [
           {
            "marker": {
             "colorbar": {
              "outlinewidth": 0,
              "ticks": ""
             }
            },
            "type": "scatterpolar"
           }
          ],
          "scatterpolargl": [
           {
            "marker": {
             "colorbar": {
              "outlinewidth": 0,
              "ticks": ""
             }
            },
            "type": "scatterpolargl"
           }
          ],
          "scatterternary": [
           {
            "marker": {
             "colorbar": {
              "outlinewidth": 0,
              "ticks": ""
             }
            },
            "type": "scatterternary"
           }
          ],
          "surface": [
           {
            "colorbar": {
             "outlinewidth": 0,
             "ticks": ""
            },
            "colorscale": [
             [
              0,
              "#0d0887"
             ],
             [
              0.1111111111111111,
              "#46039f"
             ],
             [
              0.2222222222222222,
              "#7201a8"
             ],
             [
              0.3333333333333333,
              "#9c179e"
             ],
             [
              0.4444444444444444,
              "#bd3786"
             ],
             [
              0.5555555555555556,
              "#d8576b"
             ],
             [
              0.6666666666666666,
              "#ed7953"
             ],
             [
              0.7777777777777778,
              "#fb9f3a"
             ],
             [
              0.8888888888888888,
              "#fdca26"
             ],
             [
              1,
              "#f0f921"
             ]
            ],
            "type": "surface"
           }
          ],
          "table": [
           {
            "cells": {
             "fill": {
              "color": "#EBF0F8"
             },
             "line": {
              "color": "white"
             }
            },
            "header": {
             "fill": {
              "color": "#C8D4E3"
             },
             "line": {
              "color": "white"
             }
            },
            "type": "table"
           }
          ]
         },
         "layout": {
          "annotationdefaults": {
           "arrowcolor": "#2a3f5f",
           "arrowhead": 0,
           "arrowwidth": 1
          },
          "autotypenumbers": "strict",
          "coloraxis": {
           "colorbar": {
            "outlinewidth": 0,
            "ticks": ""
           }
          },
          "colorscale": {
           "diverging": [
            [
             0,
             "#8e0152"
            ],
            [
             0.1,
             "#c51b7d"
            ],
            [
             0.2,
             "#de77ae"
            ],
            [
             0.3,
             "#f1b6da"
            ],
            [
             0.4,
             "#fde0ef"
            ],
            [
             0.5,
             "#f7f7f7"
            ],
            [
             0.6,
             "#e6f5d0"
            ],
            [
             0.7,
             "#b8e186"
            ],
            [
             0.8,
             "#7fbc41"
            ],
            [
             0.9,
             "#4d9221"
            ],
            [
             1,
             "#276419"
            ]
           ],
           "sequential": [
            [
             0,
             "#0d0887"
            ],
            [
             0.1111111111111111,
             "#46039f"
            ],
            [
             0.2222222222222222,
             "#7201a8"
            ],
            [
             0.3333333333333333,
             "#9c179e"
            ],
            [
             0.4444444444444444,
             "#bd3786"
            ],
            [
             0.5555555555555556,
             "#d8576b"
            ],
            [
             0.6666666666666666,
             "#ed7953"
            ],
            [
             0.7777777777777778,
             "#fb9f3a"
            ],
            [
             0.8888888888888888,
             "#fdca26"
            ],
            [
             1,
             "#f0f921"
            ]
           ],
           "sequentialminus": [
            [
             0,
             "#0d0887"
            ],
            [
             0.1111111111111111,
             "#46039f"
            ],
            [
             0.2222222222222222,
             "#7201a8"
            ],
            [
             0.3333333333333333,
             "#9c179e"
            ],
            [
             0.4444444444444444,
             "#bd3786"
            ],
            [
             0.5555555555555556,
             "#d8576b"
            ],
            [
             0.6666666666666666,
             "#ed7953"
            ],
            [
             0.7777777777777778,
             "#fb9f3a"
            ],
            [
             0.8888888888888888,
             "#fdca26"
            ],
            [
             1,
             "#f0f921"
            ]
           ]
          },
          "colorway": [
           "#636efa",
           "#EF553B",
           "#00cc96",
           "#ab63fa",
           "#FFA15A",
           "#19d3f3",
           "#FF6692",
           "#B6E880",
           "#FF97FF",
           "#FECB52"
          ],
          "font": {
           "color": "#2a3f5f"
          },
          "geo": {
           "bgcolor": "white",
           "lakecolor": "white",
           "landcolor": "#E5ECF6",
           "showlakes": true,
           "showland": true,
           "subunitcolor": "white"
          },
          "hoverlabel": {
           "align": "left"
          },
          "hovermode": "closest",
          "mapbox": {
           "style": "light"
          },
          "paper_bgcolor": "white",
          "plot_bgcolor": "#E5ECF6",
          "polar": {
           "angularaxis": {
            "gridcolor": "white",
            "linecolor": "white",
            "ticks": ""
           },
           "bgcolor": "#E5ECF6",
           "radialaxis": {
            "gridcolor": "white",
            "linecolor": "white",
            "ticks": ""
           }
          },
          "scene": {
           "xaxis": {
            "backgroundcolor": "#E5ECF6",
            "gridcolor": "white",
            "gridwidth": 2,
            "linecolor": "white",
            "showbackground": true,
            "ticks": "",
            "zerolinecolor": "white"
           },
           "yaxis": {
            "backgroundcolor": "#E5ECF6",
            "gridcolor": "white",
            "gridwidth": 2,
            "linecolor": "white",
            "showbackground": true,
            "ticks": "",
            "zerolinecolor": "white"
           },
           "zaxis": {
            "backgroundcolor": "#E5ECF6",
            "gridcolor": "white",
            "gridwidth": 2,
            "linecolor": "white",
            "showbackground": true,
            "ticks": "",
            "zerolinecolor": "white"
           }
          },
          "shapedefaults": {
           "line": {
            "color": "#2a3f5f"
           }
          },
          "ternary": {
           "aaxis": {
            "gridcolor": "white",
            "linecolor": "white",
            "ticks": ""
           },
           "baxis": {
            "gridcolor": "white",
            "linecolor": "white",
            "ticks": ""
           },
           "bgcolor": "#E5ECF6",
           "caxis": {
            "gridcolor": "white",
            "linecolor": "white",
            "ticks": ""
           }
          },
          "title": {
           "x": 0.05
          },
          "xaxis": {
           "automargin": true,
           "gridcolor": "white",
           "linecolor": "white",
           "ticks": "",
           "title": {
            "standoff": 15
           },
           "zerolinecolor": "white",
           "zerolinewidth": 2
          },
          "yaxis": {
           "automargin": true,
           "gridcolor": "white",
           "linecolor": "white",
           "ticks": "",
           "title": {
            "standoff": 15
           },
           "zerolinecolor": "white",
           "zerolinewidth": 2
          }
         }
        },
        "title": {
         "text": "Top 10 Degree Centralities of Economic Instutitions"
        },
        "width": 800,
        "yaxis": {
         "categoryorder": "total ascending"
        }
       }
      }
     },
     "metadata": {},
     "output_type": "display_data"
    }
   ],
   "source": [
    "fig = go.Figure()\n",
    "fig.add_trace(\n",
    "    go.Bar(\n",
    "        y = [item[0] for item in degree_list],\n",
    "        x = [item[1] for item in degree_list],\n",
    "        text = [round(item[1],4) for item in degree_list],\n",
    "        orientation = \"h\",\n",
    "        marker={'color': [item[1] for item in degree_list],\n",
    "                'colorscale': 'Peach'}\n",
    "    )\n",
    ")\n",
    "fig.update_layout(title_text=\"Top 10 Degree Centralities of Economic Instutitions\",\n",
    "#                 template=\"plotly_dark\",\n",
    "                  yaxis={'categoryorder':'total ascending'},\n",
    "                  width=800,\n",
    "                  height=600\n",
    "                  )\n",
    "fig.show()"
   ]
  },
  {
   "cell_type": "code",
   "execution_count": 21,
   "metadata": {},
   "outputs": [],
   "source": [
    "# eigenvector centrality\n",
    "eigenvector_centrality = nx.centrality.eigenvector_centrality(G)\n",
    "eigenvector_list = (sorted(eigenvector_centrality.items(), key=lambda item: item[1], reverse=True))[:10]"
   ]
  },
  {
   "cell_type": "code",
   "execution_count": 22,
   "metadata": {},
   "outputs": [
    {
     "data": {
      "application/vnd.plotly.v1+json": {
       "config": {
        "plotlyServerURL": "https://plot.ly"
       },
       "data": [
        {
         "marker": {
          "color": [
           0.16386626349186592,
           0.16050968263381118,
           0.1580038232106032,
           0.1565288108587206,
           0.1542340598955705,
           0.15214684995900674,
           0.15202640358993164,
           0.14638475961647676,
           0.14206771884043692,
           0.14021857694192993
          ],
          "colorscale": [
           [
            0,
            "rgb(249, 221, 218)"
           ],
           [
            0.16666666666666666,
            "rgb(242, 185, 196)"
           ],
           [
            0.3333333333333333,
            "rgb(229, 151, 185)"
           ],
           [
            0.5,
            "rgb(206, 120, 179)"
           ],
           [
            0.6666666666666666,
            "rgb(173, 95, 173)"
           ],
           [
            0.8333333333333334,
            "rgb(131, 75, 160)"
           ],
           [
            1,
            "rgb(87, 59, 136)"
           ]
          ]
         },
         "orientation": "h",
         "text": [
          "0.1639",
          "0.1605",
          "0.158",
          "0.1565",
          "0.1542",
          "0.1521",
          "0.152",
          "0.1464",
          "0.1421",
          "0.1402"
         ],
         "type": "bar",
         "x": [
          0.16386626349186592,
          0.16050968263381118,
          0.1580038232106032,
          0.1565288108587206,
          0.1542340598955705,
          0.15214684995900674,
          0.15202640358993164,
          0.14638475961647676,
          0.14206771884043692,
          0.14021857694192993
         ],
         "y": [
          "University of Chicago",
          "University of California, Berkeley",
          "New York University",
          "Columbia University",
          "Massachusetts Institute of Technology",
          "Harvard University",
          "Stanford University",
          "University of Pennsylvania",
          "London School of Economics",
          "Yale University"
         ]
        }
       ],
       "layout": {
        "height": 600,
        "template": {
         "data": {
          "bar": [
           {
            "error_x": {
             "color": "#2a3f5f"
            },
            "error_y": {
             "color": "#2a3f5f"
            },
            "marker": {
             "line": {
              "color": "#E5ECF6",
              "width": 0.5
             },
             "pattern": {
              "fillmode": "overlay",
              "size": 10,
              "solidity": 0.2
             }
            },
            "type": "bar"
           }
          ],
          "barpolar": [
           {
            "marker": {
             "line": {
              "color": "#E5ECF6",
              "width": 0.5
             },
             "pattern": {
              "fillmode": "overlay",
              "size": 10,
              "solidity": 0.2
             }
            },
            "type": "barpolar"
           }
          ],
          "carpet": [
           {
            "aaxis": {
             "endlinecolor": "#2a3f5f",
             "gridcolor": "white",
             "linecolor": "white",
             "minorgridcolor": "white",
             "startlinecolor": "#2a3f5f"
            },
            "baxis": {
             "endlinecolor": "#2a3f5f",
             "gridcolor": "white",
             "linecolor": "white",
             "minorgridcolor": "white",
             "startlinecolor": "#2a3f5f"
            },
            "type": "carpet"
           }
          ],
          "choropleth": [
           {
            "colorbar": {
             "outlinewidth": 0,
             "ticks": ""
            },
            "type": "choropleth"
           }
          ],
          "contour": [
           {
            "colorbar": {
             "outlinewidth": 0,
             "ticks": ""
            },
            "colorscale": [
             [
              0,
              "#0d0887"
             ],
             [
              0.1111111111111111,
              "#46039f"
             ],
             [
              0.2222222222222222,
              "#7201a8"
             ],
             [
              0.3333333333333333,
              "#9c179e"
             ],
             [
              0.4444444444444444,
              "#bd3786"
             ],
             [
              0.5555555555555556,
              "#d8576b"
             ],
             [
              0.6666666666666666,
              "#ed7953"
             ],
             [
              0.7777777777777778,
              "#fb9f3a"
             ],
             [
              0.8888888888888888,
              "#fdca26"
             ],
             [
              1,
              "#f0f921"
             ]
            ],
            "type": "contour"
           }
          ],
          "contourcarpet": [
           {
            "colorbar": {
             "outlinewidth": 0,
             "ticks": ""
            },
            "type": "contourcarpet"
           }
          ],
          "heatmap": [
           {
            "colorbar": {
             "outlinewidth": 0,
             "ticks": ""
            },
            "colorscale": [
             [
              0,
              "#0d0887"
             ],
             [
              0.1111111111111111,
              "#46039f"
             ],
             [
              0.2222222222222222,
              "#7201a8"
             ],
             [
              0.3333333333333333,
              "#9c179e"
             ],
             [
              0.4444444444444444,
              "#bd3786"
             ],
             [
              0.5555555555555556,
              "#d8576b"
             ],
             [
              0.6666666666666666,
              "#ed7953"
             ],
             [
              0.7777777777777778,
              "#fb9f3a"
             ],
             [
              0.8888888888888888,
              "#fdca26"
             ],
             [
              1,
              "#f0f921"
             ]
            ],
            "type": "heatmap"
           }
          ],
          "heatmapgl": [
           {
            "colorbar": {
             "outlinewidth": 0,
             "ticks": ""
            },
            "colorscale": [
             [
              0,
              "#0d0887"
             ],
             [
              0.1111111111111111,
              "#46039f"
             ],
             [
              0.2222222222222222,
              "#7201a8"
             ],
             [
              0.3333333333333333,
              "#9c179e"
             ],
             [
              0.4444444444444444,
              "#bd3786"
             ],
             [
              0.5555555555555556,
              "#d8576b"
             ],
             [
              0.6666666666666666,
              "#ed7953"
             ],
             [
              0.7777777777777778,
              "#fb9f3a"
             ],
             [
              0.8888888888888888,
              "#fdca26"
             ],
             [
              1,
              "#f0f921"
             ]
            ],
            "type": "heatmapgl"
           }
          ],
          "histogram": [
           {
            "marker": {
             "pattern": {
              "fillmode": "overlay",
              "size": 10,
              "solidity": 0.2
             }
            },
            "type": "histogram"
           }
          ],
          "histogram2d": [
           {
            "colorbar": {
             "outlinewidth": 0,
             "ticks": ""
            },
            "colorscale": [
             [
              0,
              "#0d0887"
             ],
             [
              0.1111111111111111,
              "#46039f"
             ],
             [
              0.2222222222222222,
              "#7201a8"
             ],
             [
              0.3333333333333333,
              "#9c179e"
             ],
             [
              0.4444444444444444,
              "#bd3786"
             ],
             [
              0.5555555555555556,
              "#d8576b"
             ],
             [
              0.6666666666666666,
              "#ed7953"
             ],
             [
              0.7777777777777778,
              "#fb9f3a"
             ],
             [
              0.8888888888888888,
              "#fdca26"
             ],
             [
              1,
              "#f0f921"
             ]
            ],
            "type": "histogram2d"
           }
          ],
          "histogram2dcontour": [
           {
            "colorbar": {
             "outlinewidth": 0,
             "ticks": ""
            },
            "colorscale": [
             [
              0,
              "#0d0887"
             ],
             [
              0.1111111111111111,
              "#46039f"
             ],
             [
              0.2222222222222222,
              "#7201a8"
             ],
             [
              0.3333333333333333,
              "#9c179e"
             ],
             [
              0.4444444444444444,
              "#bd3786"
             ],
             [
              0.5555555555555556,
              "#d8576b"
             ],
             [
              0.6666666666666666,
              "#ed7953"
             ],
             [
              0.7777777777777778,
              "#fb9f3a"
             ],
             [
              0.8888888888888888,
              "#fdca26"
             ],
             [
              1,
              "#f0f921"
             ]
            ],
            "type": "histogram2dcontour"
           }
          ],
          "mesh3d": [
           {
            "colorbar": {
             "outlinewidth": 0,
             "ticks": ""
            },
            "type": "mesh3d"
           }
          ],
          "parcoords": [
           {
            "line": {
             "colorbar": {
              "outlinewidth": 0,
              "ticks": ""
             }
            },
            "type": "parcoords"
           }
          ],
          "pie": [
           {
            "automargin": true,
            "type": "pie"
           }
          ],
          "scatter": [
           {
            "fillpattern": {
             "fillmode": "overlay",
             "size": 10,
             "solidity": 0.2
            },
            "type": "scatter"
           }
          ],
          "scatter3d": [
           {
            "line": {
             "colorbar": {
              "outlinewidth": 0,
              "ticks": ""
             }
            },
            "marker": {
             "colorbar": {
              "outlinewidth": 0,
              "ticks": ""
             }
            },
            "type": "scatter3d"
           }
          ],
          "scattercarpet": [
           {
            "marker": {
             "colorbar": {
              "outlinewidth": 0,
              "ticks": ""
             }
            },
            "type": "scattercarpet"
           }
          ],
          "scattergeo": [
           {
            "marker": {
             "colorbar": {
              "outlinewidth": 0,
              "ticks": ""
             }
            },
            "type": "scattergeo"
           }
          ],
          "scattergl": [
           {
            "marker": {
             "colorbar": {
              "outlinewidth": 0,
              "ticks": ""
             }
            },
            "type": "scattergl"
           }
          ],
          "scattermapbox": [
           {
            "marker": {
             "colorbar": {
              "outlinewidth": 0,
              "ticks": ""
             }
            },
            "type": "scattermapbox"
           }
          ],
          "scatterpolar": [
           {
            "marker": {
             "colorbar": {
              "outlinewidth": 0,
              "ticks": ""
             }
            },
            "type": "scatterpolar"
           }
          ],
          "scatterpolargl": [
           {
            "marker": {
             "colorbar": {
              "outlinewidth": 0,
              "ticks": ""
             }
            },
            "type": "scatterpolargl"
           }
          ],
          "scatterternary": [
           {
            "marker": {
             "colorbar": {
              "outlinewidth": 0,
              "ticks": ""
             }
            },
            "type": "scatterternary"
           }
          ],
          "surface": [
           {
            "colorbar": {
             "outlinewidth": 0,
             "ticks": ""
            },
            "colorscale": [
             [
              0,
              "#0d0887"
             ],
             [
              0.1111111111111111,
              "#46039f"
             ],
             [
              0.2222222222222222,
              "#7201a8"
             ],
             [
              0.3333333333333333,
              "#9c179e"
             ],
             [
              0.4444444444444444,
              "#bd3786"
             ],
             [
              0.5555555555555556,
              "#d8576b"
             ],
             [
              0.6666666666666666,
              "#ed7953"
             ],
             [
              0.7777777777777778,
              "#fb9f3a"
             ],
             [
              0.8888888888888888,
              "#fdca26"
             ],
             [
              1,
              "#f0f921"
             ]
            ],
            "type": "surface"
           }
          ],
          "table": [
           {
            "cells": {
             "fill": {
              "color": "#EBF0F8"
             },
             "line": {
              "color": "white"
             }
            },
            "header": {
             "fill": {
              "color": "#C8D4E3"
             },
             "line": {
              "color": "white"
             }
            },
            "type": "table"
           }
          ]
         },
         "layout": {
          "annotationdefaults": {
           "arrowcolor": "#2a3f5f",
           "arrowhead": 0,
           "arrowwidth": 1
          },
          "autotypenumbers": "strict",
          "coloraxis": {
           "colorbar": {
            "outlinewidth": 0,
            "ticks": ""
           }
          },
          "colorscale": {
           "diverging": [
            [
             0,
             "#8e0152"
            ],
            [
             0.1,
             "#c51b7d"
            ],
            [
             0.2,
             "#de77ae"
            ],
            [
             0.3,
             "#f1b6da"
            ],
            [
             0.4,
             "#fde0ef"
            ],
            [
             0.5,
             "#f7f7f7"
            ],
            [
             0.6,
             "#e6f5d0"
            ],
            [
             0.7,
             "#b8e186"
            ],
            [
             0.8,
             "#7fbc41"
            ],
            [
             0.9,
             "#4d9221"
            ],
            [
             1,
             "#276419"
            ]
           ],
           "sequential": [
            [
             0,
             "#0d0887"
            ],
            [
             0.1111111111111111,
             "#46039f"
            ],
            [
             0.2222222222222222,
             "#7201a8"
            ],
            [
             0.3333333333333333,
             "#9c179e"
            ],
            [
             0.4444444444444444,
             "#bd3786"
            ],
            [
             0.5555555555555556,
             "#d8576b"
            ],
            [
             0.6666666666666666,
             "#ed7953"
            ],
            [
             0.7777777777777778,
             "#fb9f3a"
            ],
            [
             0.8888888888888888,
             "#fdca26"
            ],
            [
             1,
             "#f0f921"
            ]
           ],
           "sequentialminus": [
            [
             0,
             "#0d0887"
            ],
            [
             0.1111111111111111,
             "#46039f"
            ],
            [
             0.2222222222222222,
             "#7201a8"
            ],
            [
             0.3333333333333333,
             "#9c179e"
            ],
            [
             0.4444444444444444,
             "#bd3786"
            ],
            [
             0.5555555555555556,
             "#d8576b"
            ],
            [
             0.6666666666666666,
             "#ed7953"
            ],
            [
             0.7777777777777778,
             "#fb9f3a"
            ],
            [
             0.8888888888888888,
             "#fdca26"
            ],
            [
             1,
             "#f0f921"
            ]
           ]
          },
          "colorway": [
           "#636efa",
           "#EF553B",
           "#00cc96",
           "#ab63fa",
           "#FFA15A",
           "#19d3f3",
           "#FF6692",
           "#B6E880",
           "#FF97FF",
           "#FECB52"
          ],
          "font": {
           "color": "#2a3f5f"
          },
          "geo": {
           "bgcolor": "white",
           "lakecolor": "white",
           "landcolor": "#E5ECF6",
           "showlakes": true,
           "showland": true,
           "subunitcolor": "white"
          },
          "hoverlabel": {
           "align": "left"
          },
          "hovermode": "closest",
          "mapbox": {
           "style": "light"
          },
          "paper_bgcolor": "white",
          "plot_bgcolor": "#E5ECF6",
          "polar": {
           "angularaxis": {
            "gridcolor": "white",
            "linecolor": "white",
            "ticks": ""
           },
           "bgcolor": "#E5ECF6",
           "radialaxis": {
            "gridcolor": "white",
            "linecolor": "white",
            "ticks": ""
           }
          },
          "scene": {
           "xaxis": {
            "backgroundcolor": "#E5ECF6",
            "gridcolor": "white",
            "gridwidth": 2,
            "linecolor": "white",
            "showbackground": true,
            "ticks": "",
            "zerolinecolor": "white"
           },
           "yaxis": {
            "backgroundcolor": "#E5ECF6",
            "gridcolor": "white",
            "gridwidth": 2,
            "linecolor": "white",
            "showbackground": true,
            "ticks": "",
            "zerolinecolor": "white"
           },
           "zaxis": {
            "backgroundcolor": "#E5ECF6",
            "gridcolor": "white",
            "gridwidth": 2,
            "linecolor": "white",
            "showbackground": true,
            "ticks": "",
            "zerolinecolor": "white"
           }
          },
          "shapedefaults": {
           "line": {
            "color": "#2a3f5f"
           }
          },
          "ternary": {
           "aaxis": {
            "gridcolor": "white",
            "linecolor": "white",
            "ticks": ""
           },
           "baxis": {
            "gridcolor": "white",
            "linecolor": "white",
            "ticks": ""
           },
           "bgcolor": "#E5ECF6",
           "caxis": {
            "gridcolor": "white",
            "linecolor": "white",
            "ticks": ""
           }
          },
          "title": {
           "x": 0.05
          },
          "xaxis": {
           "automargin": true,
           "gridcolor": "white",
           "linecolor": "white",
           "ticks": "",
           "title": {
            "standoff": 15
           },
           "zerolinecolor": "white",
           "zerolinewidth": 2
          },
          "yaxis": {
           "automargin": true,
           "gridcolor": "white",
           "linecolor": "white",
           "ticks": "",
           "title": {
            "standoff": 15
           },
           "zerolinecolor": "white",
           "zerolinewidth": 2
          }
         }
        },
        "title": {
         "text": "Top 10 Eigenvector Centralities of Economic Instutitions"
        },
        "width": 800,
        "yaxis": {
         "categoryorder": "total ascending"
        }
       }
      }
     },
     "metadata": {},
     "output_type": "display_data"
    }
   ],
   "source": [
    "fig = go.Figure()\n",
    "fig.add_trace(\n",
    "    go.Bar(\n",
    "        y = [item[0] for item in eigenvector_list],\n",
    "        x = [item[1] for item in eigenvector_list],\n",
    "        text = [round(item[1],4) for item in eigenvector_list],\n",
    "        orientation = \"h\",\n",
    " #      marker_color = \"skyblue\",\n",
    "        marker={'color': [item[1] for item in eigenvector_list],\n",
    "                'colorscale': 'Purpor'}\n",
    "    )\n",
    ")\n",
    "fig.update_layout(title_text=\"Top 10 Eigenvector Centralities of Economic Instutitions\",\n",
    "#                 template=\"plotly_dark\",\n",
    "                  yaxis={'categoryorder':'total ascending'},\n",
    "                  width=800,\n",
    "                  height=600\n",
    "                  )\n",
    "fig.show()"
   ]
  },
  {
   "cell_type": "code",
   "execution_count": 23,
   "metadata": {},
   "outputs": [],
   "source": [
    "# add up 3 centrality and take average\n",
    "average_centrality = [(key,\n",
    "                      (degree_centrality[key]+\n",
    "                       betweenness_centrality[key]+\n",
    "                       eigenvector_centrality[key]) / 3) for key in degree_centrality.keys()]\n",
    "\n",
    "centrality_list = (sorted(degree_centrality.items(), key=lambda item: item[1], reverse=True))[:10]"
   ]
  },
  {
   "cell_type": "code",
   "execution_count": 24,
   "metadata": {},
   "outputs": [
    {
     "data": {
      "application/vnd.plotly.v1+json": {
       "config": {
        "plotlyServerURL": "https://plot.ly"
       },
       "data": [
        {
         "marker": {
          "color": [
           0.13721973094170403,
           0.13273542600896862,
           0.13094170403587443,
           0.1273542600896861,
           0.1273542600896861,
           0.12017937219730941,
           0.11659192825112108,
           0.11569506726457399,
           0.11390134529147983,
           0.10493273542600896
          ],
          "colorscale": [
           [
            0,
            "rgb(255,245,240)"
           ],
           [
            0.125,
            "rgb(254,224,210)"
           ],
           [
            0.25,
            "rgb(252,187,161)"
           ],
           [
            0.375,
            "rgb(252,146,114)"
           ],
           [
            0.5,
            "rgb(251,106,74)"
           ],
           [
            0.625,
            "rgb(239,59,44)"
           ],
           [
            0.75,
            "rgb(203,24,29)"
           ],
           [
            0.875,
            "rgb(165,15,21)"
           ],
           [
            1,
            "rgb(103,0,13)"
           ]
          ]
         },
         "orientation": "h",
         "text": [
          "0.1372",
          "0.1327",
          "0.1309",
          "0.1274",
          "0.1274",
          "0.1202",
          "0.1166",
          "0.1157",
          "0.1139",
          "0.1049"
         ],
         "type": "bar",
         "x": [
          0.13721973094170403,
          0.13273542600896862,
          0.13094170403587443,
          0.1273542600896861,
          0.1273542600896861,
          0.12017937219730941,
          0.11659192825112108,
          0.11569506726457399,
          0.11390134529147983,
          0.10493273542600896
         ],
         "y": [
          "New York University",
          "University of California, Berkeley",
          "University of Chicago",
          "Columbia University",
          "Harvard University",
          "London School of Economics",
          "World Bank",
          "Stanford University",
          "Massachusetts Institute of Technology",
          "University of Pennsylvania"
         ]
        }
       ],
       "layout": {
        "height": 600,
        "template": {
         "data": {
          "bar": [
           {
            "error_x": {
             "color": "#2a3f5f"
            },
            "error_y": {
             "color": "#2a3f5f"
            },
            "marker": {
             "line": {
              "color": "#E5ECF6",
              "width": 0.5
             },
             "pattern": {
              "fillmode": "overlay",
              "size": 10,
              "solidity": 0.2
             }
            },
            "type": "bar"
           }
          ],
          "barpolar": [
           {
            "marker": {
             "line": {
              "color": "#E5ECF6",
              "width": 0.5
             },
             "pattern": {
              "fillmode": "overlay",
              "size": 10,
              "solidity": 0.2
             }
            },
            "type": "barpolar"
           }
          ],
          "carpet": [
           {
            "aaxis": {
             "endlinecolor": "#2a3f5f",
             "gridcolor": "white",
             "linecolor": "white",
             "minorgridcolor": "white",
             "startlinecolor": "#2a3f5f"
            },
            "baxis": {
             "endlinecolor": "#2a3f5f",
             "gridcolor": "white",
             "linecolor": "white",
             "minorgridcolor": "white",
             "startlinecolor": "#2a3f5f"
            },
            "type": "carpet"
           }
          ],
          "choropleth": [
           {
            "colorbar": {
             "outlinewidth": 0,
             "ticks": ""
            },
            "type": "choropleth"
           }
          ],
          "contour": [
           {
            "colorbar": {
             "outlinewidth": 0,
             "ticks": ""
            },
            "colorscale": [
             [
              0,
              "#0d0887"
             ],
             [
              0.1111111111111111,
              "#46039f"
             ],
             [
              0.2222222222222222,
              "#7201a8"
             ],
             [
              0.3333333333333333,
              "#9c179e"
             ],
             [
              0.4444444444444444,
              "#bd3786"
             ],
             [
              0.5555555555555556,
              "#d8576b"
             ],
             [
              0.6666666666666666,
              "#ed7953"
             ],
             [
              0.7777777777777778,
              "#fb9f3a"
             ],
             [
              0.8888888888888888,
              "#fdca26"
             ],
             [
              1,
              "#f0f921"
             ]
            ],
            "type": "contour"
           }
          ],
          "contourcarpet": [
           {
            "colorbar": {
             "outlinewidth": 0,
             "ticks": ""
            },
            "type": "contourcarpet"
           }
          ],
          "heatmap": [
           {
            "colorbar": {
             "outlinewidth": 0,
             "ticks": ""
            },
            "colorscale": [
             [
              0,
              "#0d0887"
             ],
             [
              0.1111111111111111,
              "#46039f"
             ],
             [
              0.2222222222222222,
              "#7201a8"
             ],
             [
              0.3333333333333333,
              "#9c179e"
             ],
             [
              0.4444444444444444,
              "#bd3786"
             ],
             [
              0.5555555555555556,
              "#d8576b"
             ],
             [
              0.6666666666666666,
              "#ed7953"
             ],
             [
              0.7777777777777778,
              "#fb9f3a"
             ],
             [
              0.8888888888888888,
              "#fdca26"
             ],
             [
              1,
              "#f0f921"
             ]
            ],
            "type": "heatmap"
           }
          ],
          "heatmapgl": [
           {
            "colorbar": {
             "outlinewidth": 0,
             "ticks": ""
            },
            "colorscale": [
             [
              0,
              "#0d0887"
             ],
             [
              0.1111111111111111,
              "#46039f"
             ],
             [
              0.2222222222222222,
              "#7201a8"
             ],
             [
              0.3333333333333333,
              "#9c179e"
             ],
             [
              0.4444444444444444,
              "#bd3786"
             ],
             [
              0.5555555555555556,
              "#d8576b"
             ],
             [
              0.6666666666666666,
              "#ed7953"
             ],
             [
              0.7777777777777778,
              "#fb9f3a"
             ],
             [
              0.8888888888888888,
              "#fdca26"
             ],
             [
              1,
              "#f0f921"
             ]
            ],
            "type": "heatmapgl"
           }
          ],
          "histogram": [
           {
            "marker": {
             "pattern": {
              "fillmode": "overlay",
              "size": 10,
              "solidity": 0.2
             }
            },
            "type": "histogram"
           }
          ],
          "histogram2d": [
           {
            "colorbar": {
             "outlinewidth": 0,
             "ticks": ""
            },
            "colorscale": [
             [
              0,
              "#0d0887"
             ],
             [
              0.1111111111111111,
              "#46039f"
             ],
             [
              0.2222222222222222,
              "#7201a8"
             ],
             [
              0.3333333333333333,
              "#9c179e"
             ],
             [
              0.4444444444444444,
              "#bd3786"
             ],
             [
              0.5555555555555556,
              "#d8576b"
             ],
             [
              0.6666666666666666,
              "#ed7953"
             ],
             [
              0.7777777777777778,
              "#fb9f3a"
             ],
             [
              0.8888888888888888,
              "#fdca26"
             ],
             [
              1,
              "#f0f921"
             ]
            ],
            "type": "histogram2d"
           }
          ],
          "histogram2dcontour": [
           {
            "colorbar": {
             "outlinewidth": 0,
             "ticks": ""
            },
            "colorscale": [
             [
              0,
              "#0d0887"
             ],
             [
              0.1111111111111111,
              "#46039f"
             ],
             [
              0.2222222222222222,
              "#7201a8"
             ],
             [
              0.3333333333333333,
              "#9c179e"
             ],
             [
              0.4444444444444444,
              "#bd3786"
             ],
             [
              0.5555555555555556,
              "#d8576b"
             ],
             [
              0.6666666666666666,
              "#ed7953"
             ],
             [
              0.7777777777777778,
              "#fb9f3a"
             ],
             [
              0.8888888888888888,
              "#fdca26"
             ],
             [
              1,
              "#f0f921"
             ]
            ],
            "type": "histogram2dcontour"
           }
          ],
          "mesh3d": [
           {
            "colorbar": {
             "outlinewidth": 0,
             "ticks": ""
            },
            "type": "mesh3d"
           }
          ],
          "parcoords": [
           {
            "line": {
             "colorbar": {
              "outlinewidth": 0,
              "ticks": ""
             }
            },
            "type": "parcoords"
           }
          ],
          "pie": [
           {
            "automargin": true,
            "type": "pie"
           }
          ],
          "scatter": [
           {
            "fillpattern": {
             "fillmode": "overlay",
             "size": 10,
             "solidity": 0.2
            },
            "type": "scatter"
           }
          ],
          "scatter3d": [
           {
            "line": {
             "colorbar": {
              "outlinewidth": 0,
              "ticks": ""
             }
            },
            "marker": {
             "colorbar": {
              "outlinewidth": 0,
              "ticks": ""
             }
            },
            "type": "scatter3d"
           }
          ],
          "scattercarpet": [
           {
            "marker": {
             "colorbar": {
              "outlinewidth": 0,
              "ticks": ""
             }
            },
            "type": "scattercarpet"
           }
          ],
          "scattergeo": [
           {
            "marker": {
             "colorbar": {
              "outlinewidth": 0,
              "ticks": ""
             }
            },
            "type": "scattergeo"
           }
          ],
          "scattergl": [
           {
            "marker": {
             "colorbar": {
              "outlinewidth": 0,
              "ticks": ""
             }
            },
            "type": "scattergl"
           }
          ],
          "scattermapbox": [
           {
            "marker": {
             "colorbar": {
              "outlinewidth": 0,
              "ticks": ""
             }
            },
            "type": "scattermapbox"
           }
          ],
          "scatterpolar": [
           {
            "marker": {
             "colorbar": {
              "outlinewidth": 0,
              "ticks": ""
             }
            },
            "type": "scatterpolar"
           }
          ],
          "scatterpolargl": [
           {
            "marker": {
             "colorbar": {
              "outlinewidth": 0,
              "ticks": ""
             }
            },
            "type": "scatterpolargl"
           }
          ],
          "scatterternary": [
           {
            "marker": {
             "colorbar": {
              "outlinewidth": 0,
              "ticks": ""
             }
            },
            "type": "scatterternary"
           }
          ],
          "surface": [
           {
            "colorbar": {
             "outlinewidth": 0,
             "ticks": ""
            },
            "colorscale": [
             [
              0,
              "#0d0887"
             ],
             [
              0.1111111111111111,
              "#46039f"
             ],
             [
              0.2222222222222222,
              "#7201a8"
             ],
             [
              0.3333333333333333,
              "#9c179e"
             ],
             [
              0.4444444444444444,
              "#bd3786"
             ],
             [
              0.5555555555555556,
              "#d8576b"
             ],
             [
              0.6666666666666666,
              "#ed7953"
             ],
             [
              0.7777777777777778,
              "#fb9f3a"
             ],
             [
              0.8888888888888888,
              "#fdca26"
             ],
             [
              1,
              "#f0f921"
             ]
            ],
            "type": "surface"
           }
          ],
          "table": [
           {
            "cells": {
             "fill": {
              "color": "#EBF0F8"
             },
             "line": {
              "color": "white"
             }
            },
            "header": {
             "fill": {
              "color": "#C8D4E3"
             },
             "line": {
              "color": "white"
             }
            },
            "type": "table"
           }
          ]
         },
         "layout": {
          "annotationdefaults": {
           "arrowcolor": "#2a3f5f",
           "arrowhead": 0,
           "arrowwidth": 1
          },
          "autotypenumbers": "strict",
          "coloraxis": {
           "colorbar": {
            "outlinewidth": 0,
            "ticks": ""
           }
          },
          "colorscale": {
           "diverging": [
            [
             0,
             "#8e0152"
            ],
            [
             0.1,
             "#c51b7d"
            ],
            [
             0.2,
             "#de77ae"
            ],
            [
             0.3,
             "#f1b6da"
            ],
            [
             0.4,
             "#fde0ef"
            ],
            [
             0.5,
             "#f7f7f7"
            ],
            [
             0.6,
             "#e6f5d0"
            ],
            [
             0.7,
             "#b8e186"
            ],
            [
             0.8,
             "#7fbc41"
            ],
            [
             0.9,
             "#4d9221"
            ],
            [
             1,
             "#276419"
            ]
           ],
           "sequential": [
            [
             0,
             "#0d0887"
            ],
            [
             0.1111111111111111,
             "#46039f"
            ],
            [
             0.2222222222222222,
             "#7201a8"
            ],
            [
             0.3333333333333333,
             "#9c179e"
            ],
            [
             0.4444444444444444,
             "#bd3786"
            ],
            [
             0.5555555555555556,
             "#d8576b"
            ],
            [
             0.6666666666666666,
             "#ed7953"
            ],
            [
             0.7777777777777778,
             "#fb9f3a"
            ],
            [
             0.8888888888888888,
             "#fdca26"
            ],
            [
             1,
             "#f0f921"
            ]
           ],
           "sequentialminus": [
            [
             0,
             "#0d0887"
            ],
            [
             0.1111111111111111,
             "#46039f"
            ],
            [
             0.2222222222222222,
             "#7201a8"
            ],
            [
             0.3333333333333333,
             "#9c179e"
            ],
            [
             0.4444444444444444,
             "#bd3786"
            ],
            [
             0.5555555555555556,
             "#d8576b"
            ],
            [
             0.6666666666666666,
             "#ed7953"
            ],
            [
             0.7777777777777778,
             "#fb9f3a"
            ],
            [
             0.8888888888888888,
             "#fdca26"
            ],
            [
             1,
             "#f0f921"
            ]
           ]
          },
          "colorway": [
           "#636efa",
           "#EF553B",
           "#00cc96",
           "#ab63fa",
           "#FFA15A",
           "#19d3f3",
           "#FF6692",
           "#B6E880",
           "#FF97FF",
           "#FECB52"
          ],
          "font": {
           "color": "#2a3f5f"
          },
          "geo": {
           "bgcolor": "white",
           "lakecolor": "white",
           "landcolor": "#E5ECF6",
           "showlakes": true,
           "showland": true,
           "subunitcolor": "white"
          },
          "hoverlabel": {
           "align": "left"
          },
          "hovermode": "closest",
          "mapbox": {
           "style": "light"
          },
          "paper_bgcolor": "white",
          "plot_bgcolor": "#E5ECF6",
          "polar": {
           "angularaxis": {
            "gridcolor": "white",
            "linecolor": "white",
            "ticks": ""
           },
           "bgcolor": "#E5ECF6",
           "radialaxis": {
            "gridcolor": "white",
            "linecolor": "white",
            "ticks": ""
           }
          },
          "scene": {
           "xaxis": {
            "backgroundcolor": "#E5ECF6",
            "gridcolor": "white",
            "gridwidth": 2,
            "linecolor": "white",
            "showbackground": true,
            "ticks": "",
            "zerolinecolor": "white"
           },
           "yaxis": {
            "backgroundcolor": "#E5ECF6",
            "gridcolor": "white",
            "gridwidth": 2,
            "linecolor": "white",
            "showbackground": true,
            "ticks": "",
            "zerolinecolor": "white"
           },
           "zaxis": {
            "backgroundcolor": "#E5ECF6",
            "gridcolor": "white",
            "gridwidth": 2,
            "linecolor": "white",
            "showbackground": true,
            "ticks": "",
            "zerolinecolor": "white"
           }
          },
          "shapedefaults": {
           "line": {
            "color": "#2a3f5f"
           }
          },
          "ternary": {
           "aaxis": {
            "gridcolor": "white",
            "linecolor": "white",
            "ticks": ""
           },
           "baxis": {
            "gridcolor": "white",
            "linecolor": "white",
            "ticks": ""
           },
           "bgcolor": "#E5ECF6",
           "caxis": {
            "gridcolor": "white",
            "linecolor": "white",
            "ticks": ""
           }
          },
          "title": {
           "x": 0.05
          },
          "xaxis": {
           "automargin": true,
           "gridcolor": "white",
           "linecolor": "white",
           "ticks": "",
           "title": {
            "standoff": 15
           },
           "zerolinecolor": "white",
           "zerolinewidth": 2
          },
          "yaxis": {
           "automargin": true,
           "gridcolor": "white",
           "linecolor": "white",
           "ticks": "",
           "title": {
            "standoff": 15
           },
           "zerolinecolor": "white",
           "zerolinewidth": 2
          }
         }
        },
        "title": {
         "text": "Top 10 Average Centralities of Economic Instutitions"
        },
        "width": 800,
        "yaxis": {
         "categoryorder": "total ascending"
        }
       }
      }
     },
     "metadata": {},
     "output_type": "display_data"
    }
   ],
   "source": [
    "fig = go.Figure()\n",
    "fig.add_trace(\n",
    "    go.Bar(\n",
    "        y = [item[0] for item in centrality_list],\n",
    "        x = [item[1] for item in centrality_list],\n",
    "        text = [round(item[1],4) for item in centrality_list],\n",
    "        orientation = \"h\",\n",
    " #      marker_color = \"skyblue\",\n",
    "        marker={'color': [item[1] for item in centrality_list],\n",
    "                'colorscale': 'Reds'}\n",
    "    )\n",
    ")\n",
    "fig.update_layout(title_text=\"Top 10 Average Centralities of Economic Instutitions\",\n",
    "#                 template=\"plotly_dark\",\n",
    "                  yaxis={'categoryorder':'total ascending'},\n",
    "                  width=800,\n",
    "                  height=600\n",
    "                  )\n",
    "fig.show()"
   ]
  },
  {
   "attachments": {},
   "cell_type": "markdown",
   "metadata": {},
   "source": [
    "#### 3.2.5 Institutional-level Cross-rank Score Analysis"
   ]
  },
  {
   "attachments": {},
   "cell_type": "markdown",
   "metadata": {},
   "source": [
    "- We define the cross-rank score of Institution A to be (sum of absolute difference in ranks against another Institution times the cooperation number) / (total collaborations).\n",
    "- The cross-rank score reflects how likely an institution is to collaborate those of different levels.\n",
    "- e.g., an institution which only has within-institution collaboration will have a 0 cross-rank score."
   ]
  },
  {
   "cell_type": "code",
   "execution_count": 25,
   "metadata": {},
   "outputs": [
    {
     "data": {
      "text/html": [
       "<div>\n",
       "<style scoped>\n",
       "    .dataframe tbody tr th:only-of-type {\n",
       "        vertical-align: middle;\n",
       "    }\n",
       "\n",
       "    .dataframe tbody tr th {\n",
       "        vertical-align: top;\n",
       "    }\n",
       "\n",
       "    .dataframe thead th {\n",
       "        text-align: right;\n",
       "    }\n",
       "</style>\n",
       "<table border=\"1\" class=\"dataframe\">\n",
       "  <thead>\n",
       "    <tr style=\"text-align: right;\">\n",
       "      <th></th>\n",
       "      <th>rank</th>\n",
       "      <th>crscore</th>\n",
       "    </tr>\n",
       "    <tr>\n",
       "      <th>name</th>\n",
       "      <th></th>\n",
       "      <th></th>\n",
       "    </tr>\n",
       "  </thead>\n",
       "  <tbody>\n",
       "    <tr>\n",
       "      <th>University of Minnesota</th>\n",
       "      <td>164</td>\n",
       "      <td>118.295950</td>\n",
       "    </tr>\n",
       "    <tr>\n",
       "      <th>New York University</th>\n",
       "      <td>50</td>\n",
       "      <td>90.403344</td>\n",
       "    </tr>\n",
       "    <tr>\n",
       "      <th>London School of Economics</th>\n",
       "      <td>1</td>\n",
       "      <td>96.413699</td>\n",
       "    </tr>\n",
       "    <tr>\n",
       "      <th>McMaster University</th>\n",
       "      <td>449</td>\n",
       "      <td>233.791667</td>\n",
       "    </tr>\n",
       "    <tr>\n",
       "      <th>Duke University</th>\n",
       "      <td>84</td>\n",
       "      <td>92.403131</td>\n",
       "    </tr>\n",
       "  </tbody>\n",
       "</table>\n",
       "</div>"
      ],
      "text/plain": [
       "                            rank     crscore\n",
       "name                                        \n",
       "University of Minnesota      164  118.295950\n",
       "New York University           50   90.403344\n",
       "London School of Economics     1   96.413699\n",
       "McMaster University          449  233.791667\n",
       "Duke University               84   92.403131"
      ]
     },
     "execution_count": 25,
     "metadata": {},
     "output_type": "execute_result"
    }
   ],
   "source": [
    "# calculate school's cross-rank score to measure cooperation freedom cross hieraichy\n",
    "# we only consider the institutions which are ranked as Top 10% of all economic instutitions (around 200)\n",
    "\n",
    "df_univ_rank = df[[\"name\",\"rank\"]][df[\"rank\"] != \"\"].drop_duplicates().set_index(\"name\").astype({\"rank\":\"int\"})\n",
    "crscores = []   # list of cross-rank scores\n",
    "\n",
    "for univ in df_univ_rank.index:\n",
    "    sum_coau_num = 0\n",
    "    sum_score = 0\n",
    "    for link in links_all:\n",
    "        if univ in link:\n",
    "            try:\n",
    "                univ_a = df_univ_rank.loc[link[0],\"rank\"]\n",
    "                univ_b = df_univ_rank.loc[link[1],\"rank\"]\n",
    "                # add coauthor number, add crscores\n",
    "                sum_coau_num += link[2]   # add on number of coauthorships\n",
    "                sum_score += abs(univ_a-univ_b) * link[2]   # add on rank difference * number of coauthorships\n",
    "            except:\n",
    "                pass   # the coauthor univ not ranked, pass\n",
    "\n",
    "    # append to list\n",
    "    try:\n",
    "        crscores.append(sum_score / sum_coau_num)   # to deal with zero denominator\n",
    "    except:\n",
    "        crscores.append(0)\n",
    "\n",
    "df_univ_rank[\"crscore\"] = crscores   # append to df\n",
    "df_univ_rank.head()    # show result"
   ]
  },
  {
   "cell_type": "code",
   "execution_count": 27,
   "metadata": {},
   "outputs": [
    {
     "data": {
      "application/vnd.plotly.v1+json": {
       "config": {
        "plotlyServerURL": "https://plot.ly"
       },
       "data": [
        {
         "autobinx": false,
         "histnorm": "probability density",
         "legendgroup": "Matched Top 10% Economic Institutions",
         "marker": {
          "color": "rgb(31, 119, 180)"
         },
         "name": "Matched Top 10% Economic Institutions",
         "opacity": 0.7,
         "type": "histogram",
         "x": [
          118.29595015576324,
          90.40334378265413,
          96.41369863013699,
          233.79166666666666,
          92.40313111545989,
          66.5076071922545,
          132.91145833333334,
          281.35714285714283,
          175.1153846153846,
          74.9532967032967,
          233.27397260273972,
          164.2289156626506,
          121.98190045248869,
          112.30555555555556,
          63.0006435006435,
          87.07963594994311,
          103.5119760479042,
          82.15606242496999,
          121.51818181818182,
          76.89293598233995,
          65.20083682008368,
          52.02825947334618,
          132.20289855072463,
          276.359375,
          89.56844547563806,
          100.96031746031746,
          72.9950248756219,
          190.9433962264151,
          92.6470588235294,
          88.27926078028747,
          64.15300546448087,
          88.01282051282051,
          114.40983606557377,
          78.31132075471699,
          61.20463847203274,
          65.83564118001205,
          107.97029702970298,
          94.55555555555556,
          85.6544502617801,
          91.29508196721312,
          241.7887323943662,
          74.4234693877551,
          104.61917098445596,
          59.12597809076682,
          128.26455026455025,
          138.81730769230768,
          298.52657004830917,
          343.5,
          103.1310975609756,
          113.2069970845481,
          98.62878787878788,
          250.17741935483872,
          164.87254901960785,
          77.49673202614379,
          330.24528301886795,
          153.15315315315314,
          72.28787878787878,
          155.1095890410959,
          110.04195804195804,
          74.57364341085271,
          147.56493506493507,
          104.78729281767956,
          87.89686098654708,
          283.93220338983053,
          168.07111111111112,
          68.86786786786787,
          251.86046511627907,
          135.78571428571428,
          181.89265536723164,
          246.66666666666666,
          89.3225806451613,
          147.33333333333334,
          160.33644859813083,
          85.77777777777777,
          62.905660377358494,
          226.17821782178217,
          113.1549815498155,
          215.11818181818182,
          153.49606299212599,
          147.0731707317073,
          55.37162162162162,
          74.66,
          89,
          133.56451612903226,
          105.67955801104972,
          195.51388888888889,
          125.64485981308411,
          121.025,
          123.33050847457628,
          75.77391304347826,
          79.22916666666667,
          390.14814814814815,
          351.8125,
          179.4891304347826,
          163.79381443298968,
          173.29268292682926,
          86.8962962962963,
          250,
          251.02777777777777,
          105.03225806451613,
          141.7,
          198.9090909090909,
          349.82978723404256,
          100.22335025380711,
          102.4980079681275,
          108.10271903323263,
          124.26470588235294,
          88.01801801801801,
          165.7,
          224.00819672131146,
          193.67021276595744,
          93.504,
          218.35294117647058,
          83.16017316017316,
          101.4509090909091,
          115.78787878787878,
          143.1951219512195,
          106.1842105263158,
          102.5625,
          135.8,
          87.58196721311475,
          104.64634146341463,
          188.76136363636363,
          153.07407407407408,
          142.03571428571428,
          100.7159090909091,
          154.19867549668874,
          272.53846153846155,
          245.80769230769232,
          207.79032258064515,
          115.9090909090909,
          91.93333333333334,
          121.27868852459017,
          252.7642857142857,
          67.58715596330275,
          68.82758620689656,
          190.1818181818182,
          261.8636363636364,
          95.76666666666667,
          85.9396551724138,
          118.23853211009174,
          248.53333333333333,
          154.88571428571427,
          76.23557692307692,
          108.28676470588235,
          136.14285714285714,
          77.22727272727273,
          100.22077922077922,
          328.258064516129,
          226.140625,
          160.17391304347825,
          69.21951219512195,
          99.6969696969697,
          106.30927835051547,
          260.5238095238095,
          78.65346534653466,
          186.52380952380952,
          166.21621621621622,
          344.2857142857143,
          134.36144578313252,
          76.97080291970804,
          244.02631578947367,
          210.775,
          86.8625,
          197.1346153846154,
          104.88,
          163.95833333333334,
          270,
          95.75714285714285,
          259.5,
          186.075,
          203.77142857142857,
          394.6,
          121.7,
          146.1818181818182,
          81.69343065693431,
          0,
          186.7058823529412,
          130.8,
          228.74074074074073,
          241.27027027027026,
          142.74418604651163,
          0,
          238.44262295081967,
          156.3,
          199.01333333333332,
          120.82857142857142,
          37,
          18.258064516129032,
          170.83333333333334,
          318.09090909090907,
          103.17948717948718,
          0,
          231.5,
          86.92307692307692,
          422,
          144,
          344.8,
          0,
          104.28571428571429,
          396
         ],
         "xaxis": "x",
         "xbins": {
          "end": 422,
          "size": 20,
          "start": 0
         },
         "yaxis": "y"
        },
        {
         "legendgroup": "Matched Top 10% Economic Institutions",
         "marker": {
          "color": "rgb(31, 119, 180)"
         },
         "mode": "lines",
         "name": "Matched Top 10% Economic Institutions",
         "showlegend": false,
         "type": "scatter",
         "x": [
          0,
          0.844,
          1.688,
          2.532,
          3.376,
          4.22,
          5.064,
          5.908,
          6.752,
          7.596,
          8.44,
          9.284,
          10.128,
          10.972,
          11.816,
          12.66,
          13.504,
          14.348,
          15.192,
          16.036,
          16.88,
          17.724,
          18.568,
          19.412,
          20.256,
          21.1,
          21.944,
          22.788,
          23.632,
          24.476,
          25.32,
          26.164,
          27.008,
          27.852,
          28.696,
          29.54,
          30.384,
          31.228,
          32.072,
          32.916,
          33.76,
          34.604,
          35.448,
          36.292,
          37.136,
          37.98,
          38.824,
          39.668,
          40.512,
          41.356,
          42.2,
          43.044,
          43.888,
          44.732,
          45.576,
          46.42,
          47.264,
          48.108,
          48.952,
          49.796,
          50.64,
          51.484,
          52.328,
          53.172,
          54.016,
          54.86,
          55.704,
          56.548,
          57.392,
          58.236,
          59.08,
          59.924,
          60.768,
          61.612,
          62.456,
          63.3,
          64.144,
          64.988,
          65.832,
          66.676,
          67.52,
          68.364,
          69.208,
          70.052,
          70.896,
          71.74,
          72.584,
          73.428,
          74.272,
          75.116,
          75.96,
          76.804,
          77.648,
          78.492,
          79.336,
          80.18,
          81.024,
          81.868,
          82.712,
          83.556,
          84.4,
          85.244,
          86.088,
          86.932,
          87.776,
          88.62,
          89.464,
          90.308,
          91.152,
          91.996,
          92.84,
          93.684,
          94.528,
          95.372,
          96.216,
          97.06,
          97.904,
          98.748,
          99.592,
          100.436,
          101.28,
          102.124,
          102.968,
          103.812,
          104.656,
          105.5,
          106.344,
          107.188,
          108.032,
          108.876,
          109.72,
          110.564,
          111.408,
          112.252,
          113.096,
          113.94,
          114.784,
          115.628,
          116.472,
          117.316,
          118.16,
          119.004,
          119.848,
          120.692,
          121.536,
          122.38,
          123.224,
          124.068,
          124.912,
          125.756,
          126.6,
          127.444,
          128.288,
          129.132,
          129.976,
          130.82,
          131.664,
          132.508,
          133.352,
          134.196,
          135.04,
          135.884,
          136.728,
          137.572,
          138.416,
          139.26,
          140.104,
          140.948,
          141.792,
          142.636,
          143.48,
          144.324,
          145.168,
          146.012,
          146.856,
          147.7,
          148.544,
          149.388,
          150.232,
          151.076,
          151.92,
          152.764,
          153.608,
          154.452,
          155.296,
          156.14,
          156.984,
          157.828,
          158.672,
          159.516,
          160.36,
          161.204,
          162.048,
          162.892,
          163.736,
          164.58,
          165.424,
          166.268,
          167.112,
          167.956,
          168.8,
          169.644,
          170.488,
          171.332,
          172.176,
          173.02,
          173.864,
          174.708,
          175.552,
          176.396,
          177.24,
          178.084,
          178.928,
          179.772,
          180.616,
          181.46,
          182.304,
          183.148,
          183.992,
          184.836,
          185.68,
          186.524,
          187.368,
          188.212,
          189.056,
          189.9,
          190.744,
          191.588,
          192.432,
          193.276,
          194.12,
          194.964,
          195.808,
          196.652,
          197.496,
          198.34,
          199.184,
          200.028,
          200.872,
          201.716,
          202.56,
          203.404,
          204.248,
          205.092,
          205.936,
          206.78,
          207.624,
          208.468,
          209.312,
          210.156,
          211,
          211.844,
          212.688,
          213.532,
          214.376,
          215.22,
          216.064,
          216.908,
          217.752,
          218.596,
          219.44,
          220.284,
          221.128,
          221.972,
          222.816,
          223.66,
          224.504,
          225.348,
          226.192,
          227.036,
          227.88,
          228.724,
          229.568,
          230.412,
          231.256,
          232.1,
          232.944,
          233.788,
          234.632,
          235.476,
          236.32,
          237.164,
          238.008,
          238.852,
          239.696,
          240.54,
          241.384,
          242.228,
          243.072,
          243.916,
          244.76,
          245.604,
          246.448,
          247.292,
          248.136,
          248.98,
          249.824,
          250.668,
          251.512,
          252.356,
          253.2,
          254.044,
          254.888,
          255.732,
          256.576,
          257.42,
          258.264,
          259.108,
          259.952,
          260.796,
          261.64,
          262.484,
          263.328,
          264.172,
          265.016,
          265.86,
          266.704,
          267.548,
          268.392,
          269.236,
          270.08,
          270.924,
          271.768,
          272.612,
          273.456,
          274.3,
          275.144,
          275.988,
          276.832,
          277.676,
          278.52,
          279.364,
          280.208,
          281.052,
          281.896,
          282.74,
          283.584,
          284.428,
          285.272,
          286.116,
          286.96,
          287.804,
          288.648,
          289.492,
          290.336,
          291.18,
          292.024,
          292.868,
          293.712,
          294.556,
          295.4,
          296.244,
          297.088,
          297.932,
          298.776,
          299.62,
          300.464,
          301.308,
          302.152,
          302.996,
          303.84,
          304.684,
          305.528,
          306.372,
          307.216,
          308.06,
          308.904,
          309.748,
          310.592,
          311.436,
          312.28,
          313.124,
          313.968,
          314.812,
          315.656,
          316.5,
          317.344,
          318.188,
          319.032,
          319.876,
          320.72,
          321.564,
          322.408,
          323.252,
          324.096,
          324.94,
          325.784,
          326.628,
          327.472,
          328.316,
          329.16,
          330.004,
          330.848,
          331.692,
          332.536,
          333.38,
          334.224,
          335.068,
          335.912,
          336.756,
          337.6,
          338.444,
          339.288,
          340.132,
          340.976,
          341.82,
          342.664,
          343.508,
          344.352,
          345.196,
          346.04,
          346.884,
          347.728,
          348.572,
          349.416,
          350.26,
          351.104,
          351.948,
          352.792,
          353.636,
          354.48,
          355.324,
          356.168,
          357.012,
          357.856,
          358.7,
          359.544,
          360.388,
          361.232,
          362.076,
          362.92,
          363.764,
          364.608,
          365.452,
          366.296,
          367.14,
          367.984,
          368.828,
          369.672,
          370.516,
          371.36,
          372.204,
          373.048,
          373.892,
          374.736,
          375.58,
          376.424,
          377.268,
          378.112,
          378.956,
          379.8,
          380.644,
          381.488,
          382.332,
          383.176,
          384.02,
          384.864,
          385.708,
          386.552,
          387.396,
          388.24,
          389.084,
          389.928,
          390.772,
          391.616,
          392.46,
          393.304,
          394.148,
          394.992,
          395.836,
          396.68,
          397.524,
          398.368,
          399.212,
          400.056,
          400.9,
          401.744,
          402.588,
          403.432,
          404.276,
          405.12,
          405.964,
          406.808,
          407.652,
          408.496,
          409.34,
          410.184,
          411.028,
          411.872,
          412.716,
          413.56,
          414.404,
          415.248,
          416.092,
          416.936,
          417.78,
          418.624,
          419.468,
          420.312,
          421.156
         ],
         "xaxis": "x",
         "y": [
          0.0005012778007593489,
          0.0005133633754431067,
          0.0005258077887457386,
          0.0005386369812767208,
          0.0005518781478444321,
          0.0005655597078134048,
          0.0005797112689187166,
          0.0005943635844467189,
          0.0006095485037188907,
          0.0006252989158441676,
          0.0006416486867345483,
          0.000658632589408937,
          0.0006762862276409554,
          0.0006946459530377157,
          0.0007137487756681143,
          0.000733632268390976,
          0.0007543344650652031,
          0.0007758937528557945,
          0.0007983487588810719,
          0.0008217382314775472,
          0.0008461009163893774,
          0.0008714754282192329,
          0.000897900117506406,
          0.0009254129338260404,
          0.000954051285330255,
          0.0009838518951776351,
          0.0010148506553217856,
          0.0010470824781523781,
          0.001080581146503212,
          0.001115379162561081,
          0.0011515075962266193,
          0.0011889959334936706,
          0.0012278719254270086,
          0.0012681614383292096,
          0.0013098883056962734,
          0.0013530741825678691,
          0.0013977384028819595,
          0.0014438978404449517,
          0.0014915667741271603,
          0.001540756757889617,
          0.0015914764962416397,
          0.0016437317257193597,
          0.0016975251029635173,
          0.001752856099960165,
          0.0018097209069906513,
          0.0018681123438172933,
          0.0019280197796085316,
          0.0019894290620822972,
          0.0020523224563185533,
          0.0021166785936620404,
          0.0021824724311037508,
          0.002249675221495066,
          0.0023182544949117445,
          0.0023881740514462356,
          0.0024593939656662018,
          0.0025318706029348863,
          0.0026055566477452023,
          0.0026804011441742387,
          0.0027563495485186567,
          0.0028333437941240897,
          0.00291132236837367,
          0.0029902204017522005,
          0.003069969768853508,
          0.0031504992011493795,
          0.0032317344112896525,
          0.003313598228654098,
          0.003396010745828835,
          0.003478889475632571,
          0.0035621495182715968,
          0.0036457037381573297,
          0.0037294629498767014,
          0.0038133361127634215,
          0.003897230533478355,
          0.003981052075968977,
          0.004064705378142295,
          0.004148094074552448,
          0.004231121024373328,
          0.004313688543899283,
          0.0043956986427917105,
          0.004477053263268106,
          0.004557654521411418,
          0.0046374049497629405,
          0.004716207740350016,
          0.0047939669872921545,
          0.004870587928124746,
          0.0049459771829786885,
          0.005020042990757594,
          0.005092695441460626,
          0.00516384670380986,
          0.005233411247354842,
          0.005301306058245175,
          0.0053674508478833574,
          0.005431768253694756,
          0.005494184031280604,
          0.00555462723725117,
          0.0056130304020714575,
          0.005669329692289954,
          0.005723465061561725,
          0.005775380389921074,
          0.005825023610805148,
          0.005872346825378773,
          0.005917306403761309,
          0.005959863072809386,
          0.005999981990163667,
          0.006037632804323686,
          0.006072789700571992,
          0.006105431432626828,
          0.00613554133996113,
          0.006163107350784904,
          0.006188121970747055,
          0.006210582257471758,
          0.0062304897811030205,
          0.0062478505710888135,
          0.006262675049492782,
          0.006274977951177283,
          0.006284778231254763,
          0.006292098960256948,
          0.006296967207520832,
          0.006299413913337872,
          0.006299473750457816,
          0.0062971849755800256,
          0.006292589271504531,
          0.006285731580650104,
          0.006276659930679052,
          0.006265425252996408,
          0.0062520811949162165,
          0.0062366839263078705,
          0.0062192919415522616,
          0.006199965857649926,
          0.006178768209331492,
          0.006155763242024831,
          0.006131016703533189,
          0.006104595635273723,
          0.006076568163917496,
          0.006047003294258814,
          0.006015970704125057,
          0.005983540542117049,
          0.005949783228945349,
          0.005914769263099297,
          0.005878569031553907,
          0.005841252626184189,
          0.0058028896665184605,
          0.005763549129420884,
          0.005723299186249847,
          0.005682207047992749,
          0.005640338818829927,
          0.0055977593585303945,
          0.005554532154031555,
          0.0055107192005021755,
          0.005466380892135718,
          0.005421575922867235,
          0.0053763611971540965,
          0.005330791750907191,
          0.005284920682607182,
          0.005238799094588156,
          0.005192476044420818,
          0.005145998506278323,
          0.005099411342120244,
          0.005052757282485406,
          0.005006076916640839,
          0.004959408691794064,
          0.004912788921037786,
          0.004866251799661634,
          0.004819829429433241,
          0.00477355185042292,
          0.004727447079920398,
          0.004681541157970477,
          0.004635858199035741,
          0.004590420449279573,
          0.004545248348951122,
          0.004500360599345703,
          0.00445577423380943,
          0.004411504692255452,
          0.004367565898660945,
          0.004323970341018938,
          0.004280729153226851,
          0.0042378521984043184,
          0.004195348153146064,
          0.00415322459223121,
          0.004111488073328469,
          0.004070144221256209,
          0.0040291978113782805,
          0.003988652851739492,
          0.003948512663569104,
          0.003908779959806124,
          0.003869456921326715,
          0.0038305452705805387,
          0.0037920463423705255,
          0.003753961151537614,
          0.003716290457339423,
          0.0036790348243388726,
          0.00364219467964531,
          0.0036057703663765137,
          0.0035697621932352036,
          0.0035341704801179143,
          0.0034989955996970585,
          0.0034642380149392162,
          0.0034298983125433213,
          0.003395977232301948,
          0.0033624756924069675,
          0.003329394810737719,
          0.0032967359221850252,
          0.0032645005920786093,
          0.003232690625797938,
          0.0032013080746580345,
          0.0031703552381717915,
          0.0031398346627993486,
          0.0031097491373028065,
          0.00308010168483151,
          0.0030508955518688207,
          0.003022134194176557,
          0.002993821259877437,
          0.002965960569819683,
          0.002938556095371128,
          0.002911611933792884,
          0.0028851322813452135,
          0.002859121404280391,
          0.002833583607879554,
          0.002808523203692496,
          0.00278394447514152,
          0.0027598516416525356,
          0.0027362488214788677,
          0.0027131399933855763,
          0.00269052895736472,
          0.0026684192945546094,
          0.002646814326539115,
          0.002625717074205941,
          0.0026051302163461517,
          0.002585056048180161,
          0.00256549643999889,
          0.002546452796111746,
          0.0025279260142962055,
          0.002509916445946572,
          0.0024924238571220067,
          0.0024754473906959383,
          0.0024589855298106835,
          0.002443036062841991,
          0.002427596050078541,
          0.0024126617923209224,
          0.002398228801603113,
          0.0023842917742371186,
          0.002370844566377837,
          0.0023578801723006227,
          0.002345390705577945,
          0.0023333673833345592,
          0.0023218005137518273,
          0.0023106794869821295,
          0.002299992769622904,
          0.0022897279028872308,
          0.0022798715045938573,
          0.002270409275084237,
          0.0022613260071574063,
          0.0022526056000957673,
          0.0022442310778357957,
          0.0022361846113175886,
          0.0022284475450262274,
          0.002221000427716093,
          0.0022138230472867806,
          0.0022068944697562288,
          0.0022001930822533374,
          0.002193696639928656,
          0.0021873823166582438,
          0.0021812267593921963,
          0.002175206145976294,
          0.002169296246252588,
          0.0021634724862228194,
          0.0021577100150375573,
          0.0021519837745540464,
          0.0021462685711869304,
          0.0021405391497588493,
          0.002134770269042038,
          0.0021289367786681028,
          0.002123013697070865,
          0.002116976290116967,
          0.002110800150070632,
          0.002104461274532963,
          0.002097936144992216,
          0.0020912018046198716,
          0.0020842359349479366,
          0.0020770169310657966,
          0.0020695239749801845,
          0.002061737106789145,
          0.0020536372933306125,
          0.002045206493977836,
          0.0020364277232677603,
          0.0020272851100641524,
          0.0020177639529747994,
          0.0020078507717613495,
          0.0019975333545011707,
          0.001986800800282691,
          0.0019756435572391524,
          0.001964053455750077,
          0.001952023736665052,
          0.0019395490744303807,
          0.001926625595025579,
          0.0019132508886434436,
          0.0018994240170741728,
          0.0018851455157807935,
          0.0018704173906795355,
          0.0018552431096647915,
          0.0018396275889436165,
          0.0018235771742692566,
          0.0018070996171867667,
          0.0017902040464262798,
          0.0017729009346007054,
          0.0017552020603845667,
          0.0017371204663691666,
          0.0017186704128061502,
          0.0016998673274669297,
          0.0016807277518590162,
          0.0016612692840523716,
          0.0016415105183790284,
          0.0016214709822778024,
          0.001601171070562677,
          0.0015806319773984977,
          0.0015598756262709783,
          0.001538924598239893,
          0.0015178020587643503,
          0.001496531683387937,
          0.0014751375825686167,
          0.001453644225934367,
          0.0014320763662401446,
          0.0014104589632954279,
          0.0013888171081241042,
          0.00136717594761011,
          0.0013455606098731138,
          0.0013239961306086288,
          0.001302507380616568,
          0.0012811189947313153,
          0.0012598553023551468,
          0.0012387402597853656,
          0.0012177973845137375,
          0.0011970496916651895,
          0.0011765196327309603,
          0.001156229036739696,
          0.0011361990539986893,
          0.0011164501025260083,
          0.0010970018172834824,
          0.0010778730023097297,
          0.0010590815858422206,
          0.001040644578507369,
          0.0010225780346481842,
          0.0010048970168498373,
          0.0009876155637148336,
          0.0009707466609310489,
          0.0009543022156680199,
          0.0009382930343291648,
          0.0009227288036804009,
          0.0009076180753685159,
          0.0008929682538359512,
          0.0008787855876320689,
          0.0008650751641145755,
          0.0008518409075284943,
          0.0008390855804438675,
          0.0008268107885272043,
          0.0008150169886154753,
          0.0008037035000552242,
          0.0007928685192629929,
          0.000782509137456809,
          0.0007726213615018355,
          0.0007632001378064789,
          0.0007542393791982278,
          0.0007457319947012762,
          0.0007376699221305381,
          0.0007300441634090258,
          0.0007228448225076774,
          0.0007160611458986988,
          0.0007096815654052594,
          0.0007036937433220912,
          0.0006980846196730437,
          0.0006928404614632649,
          0.0006879469137751715,
          0.0006833890525490095,
          0.0006791514388805517,
          0.0006752181746604518,
          0.0006715729593720081,
          0.0006681991478566778,
          0.0006650798088497444,
          0.0006621977840820816,
          0.0006595357477381249,
          0.000657076266055012,
          0.0006548018568434725,
          0.0006526950487074968,
          0.0006507384397372335,
          0.0006489147554478975,
          0.0006472069057369613,
          0.0006455980406324287,
          0.000644071604606743,
          0.0006426113892338307,
          0.0006412015839709969,
          0.0006398268248528668,
          0.0006384722408913706,
          0.0006371234979838467,
          0.0006357668401407444,
          0.0006343891278550602,
          0.0006329778734475836,
          0.0006315212732351508,
          0.000630008236383417,
          0.0006284284103210361,
          0.0006267722026085659,
          0.0006250307991727557,
          0.0006231961788350757,
          0.0006212611240822523,
          0.0006192192280461226,
          0.0006170648976801471,
          0.000614793353140297,
          0.0006124006233986711,
          0.0006098835381388493,
          0.0006072397160026576,
          0.000604467549278393,
          0.0006015661851406179,
          0.0005985355035711574,
          0.0005953760921097734,
          0.0005920892176010648,
          0.0005886767951212063,
          0.0005851413542841496,
          0.0005814860031416941,
          0.0005777143899052703,
          0.0005738306627292622,
          0.0005698394278061342,
          0.0005657457060324202,
          0.0005615548885117048,
          0.0005572726911660233,
          0.0005529051087305796,
          0.0005484583684082774,
          0.0005439388834602884,
          0.0005393532070067418,
          0.0005347079863075734,
          0.0005300099177877314,
          0.0005252657030632778,
          0.0005204820062155222,
          0.0005156654125493142,
          0.0005108223890589587,
          0.0005059592468111822,
          0.0005010821054391077,
          0.0004961968599245578,
          0.0004913091498282402,
          0.0004864243311086759,
          0.00048154745065123885,
          0.00047668322360855554,
          0.0004718360136328976,
          0.0004670098160603166,
          0.00046220824408521464,
          0.00045743451794303714,
          0.0004526914570979482,
          0.0004479814754118921,
          0.0004433065792514956,
          0.00043866836846997683,
          0.0004340680401827609,
          0.00042950639523796846,
          0.00042498384726647733,
          0.00042050043418099246,
          0.00041605583197955255,
          0.00041164937069628724,
          0.0004072800523310621,
          0.00040294657057998615,
          0.0003986473321806571,
          0.000394380479679481,
          0.0003901439154235144,
          0.0003859353265759516,
          0.00038175221095269234,
          0.00037759190347727426,
          0.0003734516030528713,
          0.000369328399652932,
          0.0003652193014363411,
          0.0003611212616986355,
          0.00035703120547771845,
          0.00035294605564059253,
          0.0003488627582867858,
          0.0003447783073142398,
          0.0003406897680043995,
          0.0003365942994949137,
          0.0003324891760206547,
          0.00032837180681654976,
          0.0003242397545888556,
          0.00032009075247490946,
          0.00031592271942489797,
          0.0003117337739527254,
          0.00030752224621646796,
          0.00030328668840213705,
          0.00029902588339736347,
          0.00029473885175412384,
          0.0002904248569516334,
          0.0002860834089819716,
          0.0002817142662918031,
          0.0002773174361236565,
          0.00027289317330955547,
          0.000268441977578353,
          0.0002639645894458133,
          0.00025946198476336124,
          0.000254935368007376,
          0.0002503861643960209,
          0.000245816010924813,
          0.00024122674641548791,
          0.00023662040067520284,
          0.000231999182864788,
          0.00022736546917561225,
          0.00022272178991472673,
          0.00021807081609730497,
          0.0002134153456440972
         ],
         "yaxis": "y"
        }
       ],
       "layout": {
        "barmode": "overlay",
        "height": 500,
        "hovermode": "closest",
        "legend": {
         "traceorder": "reversed",
         "x": 0.35,
         "xanchor": "left",
         "y": 1,
         "yanchor": "bottom"
        },
        "template": {
         "data": {
          "bar": [
           {
            "error_x": {
             "color": "#2a3f5f"
            },
            "error_y": {
             "color": "#2a3f5f"
            },
            "marker": {
             "line": {
              "color": "#E5ECF6",
              "width": 0.5
             },
             "pattern": {
              "fillmode": "overlay",
              "size": 10,
              "solidity": 0.2
             }
            },
            "type": "bar"
           }
          ],
          "barpolar": [
           {
            "marker": {
             "line": {
              "color": "#E5ECF6",
              "width": 0.5
             },
             "pattern": {
              "fillmode": "overlay",
              "size": 10,
              "solidity": 0.2
             }
            },
            "type": "barpolar"
           }
          ],
          "carpet": [
           {
            "aaxis": {
             "endlinecolor": "#2a3f5f",
             "gridcolor": "white",
             "linecolor": "white",
             "minorgridcolor": "white",
             "startlinecolor": "#2a3f5f"
            },
            "baxis": {
             "endlinecolor": "#2a3f5f",
             "gridcolor": "white",
             "linecolor": "white",
             "minorgridcolor": "white",
             "startlinecolor": "#2a3f5f"
            },
            "type": "carpet"
           }
          ],
          "choropleth": [
           {
            "colorbar": {
             "outlinewidth": 0,
             "ticks": ""
            },
            "type": "choropleth"
           }
          ],
          "contour": [
           {
            "colorbar": {
             "outlinewidth": 0,
             "ticks": ""
            },
            "colorscale": [
             [
              0,
              "#0d0887"
             ],
             [
              0.1111111111111111,
              "#46039f"
             ],
             [
              0.2222222222222222,
              "#7201a8"
             ],
             [
              0.3333333333333333,
              "#9c179e"
             ],
             [
              0.4444444444444444,
              "#bd3786"
             ],
             [
              0.5555555555555556,
              "#d8576b"
             ],
             [
              0.6666666666666666,
              "#ed7953"
             ],
             [
              0.7777777777777778,
              "#fb9f3a"
             ],
             [
              0.8888888888888888,
              "#fdca26"
             ],
             [
              1,
              "#f0f921"
             ]
            ],
            "type": "contour"
           }
          ],
          "contourcarpet": [
           {
            "colorbar": {
             "outlinewidth": 0,
             "ticks": ""
            },
            "type": "contourcarpet"
           }
          ],
          "heatmap": [
           {
            "colorbar": {
             "outlinewidth": 0,
             "ticks": ""
            },
            "colorscale": [
             [
              0,
              "#0d0887"
             ],
             [
              0.1111111111111111,
              "#46039f"
             ],
             [
              0.2222222222222222,
              "#7201a8"
             ],
             [
              0.3333333333333333,
              "#9c179e"
             ],
             [
              0.4444444444444444,
              "#bd3786"
             ],
             [
              0.5555555555555556,
              "#d8576b"
             ],
             [
              0.6666666666666666,
              "#ed7953"
             ],
             [
              0.7777777777777778,
              "#fb9f3a"
             ],
             [
              0.8888888888888888,
              "#fdca26"
             ],
             [
              1,
              "#f0f921"
             ]
            ],
            "type": "heatmap"
           }
          ],
          "heatmapgl": [
           {
            "colorbar": {
             "outlinewidth": 0,
             "ticks": ""
            },
            "colorscale": [
             [
              0,
              "#0d0887"
             ],
             [
              0.1111111111111111,
              "#46039f"
             ],
             [
              0.2222222222222222,
              "#7201a8"
             ],
             [
              0.3333333333333333,
              "#9c179e"
             ],
             [
              0.4444444444444444,
              "#bd3786"
             ],
             [
              0.5555555555555556,
              "#d8576b"
             ],
             [
              0.6666666666666666,
              "#ed7953"
             ],
             [
              0.7777777777777778,
              "#fb9f3a"
             ],
             [
              0.8888888888888888,
              "#fdca26"
             ],
             [
              1,
              "#f0f921"
             ]
            ],
            "type": "heatmapgl"
           }
          ],
          "histogram": [
           {
            "marker": {
             "pattern": {
              "fillmode": "overlay",
              "size": 10,
              "solidity": 0.2
             }
            },
            "type": "histogram"
           }
          ],
          "histogram2d": [
           {
            "colorbar": {
             "outlinewidth": 0,
             "ticks": ""
            },
            "colorscale": [
             [
              0,
              "#0d0887"
             ],
             [
              0.1111111111111111,
              "#46039f"
             ],
             [
              0.2222222222222222,
              "#7201a8"
             ],
             [
              0.3333333333333333,
              "#9c179e"
             ],
             [
              0.4444444444444444,
              "#bd3786"
             ],
             [
              0.5555555555555556,
              "#d8576b"
             ],
             [
              0.6666666666666666,
              "#ed7953"
             ],
             [
              0.7777777777777778,
              "#fb9f3a"
             ],
             [
              0.8888888888888888,
              "#fdca26"
             ],
             [
              1,
              "#f0f921"
             ]
            ],
            "type": "histogram2d"
           }
          ],
          "histogram2dcontour": [
           {
            "colorbar": {
             "outlinewidth": 0,
             "ticks": ""
            },
            "colorscale": [
             [
              0,
              "#0d0887"
             ],
             [
              0.1111111111111111,
              "#46039f"
             ],
             [
              0.2222222222222222,
              "#7201a8"
             ],
             [
              0.3333333333333333,
              "#9c179e"
             ],
             [
              0.4444444444444444,
              "#bd3786"
             ],
             [
              0.5555555555555556,
              "#d8576b"
             ],
             [
              0.6666666666666666,
              "#ed7953"
             ],
             [
              0.7777777777777778,
              "#fb9f3a"
             ],
             [
              0.8888888888888888,
              "#fdca26"
             ],
             [
              1,
              "#f0f921"
             ]
            ],
            "type": "histogram2dcontour"
           }
          ],
          "mesh3d": [
           {
            "colorbar": {
             "outlinewidth": 0,
             "ticks": ""
            },
            "type": "mesh3d"
           }
          ],
          "parcoords": [
           {
            "line": {
             "colorbar": {
              "outlinewidth": 0,
              "ticks": ""
             }
            },
            "type": "parcoords"
           }
          ],
          "pie": [
           {
            "automargin": true,
            "type": "pie"
           }
          ],
          "scatter": [
           {
            "fillpattern": {
             "fillmode": "overlay",
             "size": 10,
             "solidity": 0.2
            },
            "type": "scatter"
           }
          ],
          "scatter3d": [
           {
            "line": {
             "colorbar": {
              "outlinewidth": 0,
              "ticks": ""
             }
            },
            "marker": {
             "colorbar": {
              "outlinewidth": 0,
              "ticks": ""
             }
            },
            "type": "scatter3d"
           }
          ],
          "scattercarpet": [
           {
            "marker": {
             "colorbar": {
              "outlinewidth": 0,
              "ticks": ""
             }
            },
            "type": "scattercarpet"
           }
          ],
          "scattergeo": [
           {
            "marker": {
             "colorbar": {
              "outlinewidth": 0,
              "ticks": ""
             }
            },
            "type": "scattergeo"
           }
          ],
          "scattergl": [
           {
            "marker": {
             "colorbar": {
              "outlinewidth": 0,
              "ticks": ""
             }
            },
            "type": "scattergl"
           }
          ],
          "scattermapbox": [
           {
            "marker": {
             "colorbar": {
              "outlinewidth": 0,
              "ticks": ""
             }
            },
            "type": "scattermapbox"
           }
          ],
          "scatterpolar": [
           {
            "marker": {
             "colorbar": {
              "outlinewidth": 0,
              "ticks": ""
             }
            },
            "type": "scatterpolar"
           }
          ],
          "scatterpolargl": [
           {
            "marker": {
             "colorbar": {
              "outlinewidth": 0,
              "ticks": ""
             }
            },
            "type": "scatterpolargl"
           }
          ],
          "scatterternary": [
           {
            "marker": {
             "colorbar": {
              "outlinewidth": 0,
              "ticks": ""
             }
            },
            "type": "scatterternary"
           }
          ],
          "surface": [
           {
            "colorbar": {
             "outlinewidth": 0,
             "ticks": ""
            },
            "colorscale": [
             [
              0,
              "#0d0887"
             ],
             [
              0.1111111111111111,
              "#46039f"
             ],
             [
              0.2222222222222222,
              "#7201a8"
             ],
             [
              0.3333333333333333,
              "#9c179e"
             ],
             [
              0.4444444444444444,
              "#bd3786"
             ],
             [
              0.5555555555555556,
              "#d8576b"
             ],
             [
              0.6666666666666666,
              "#ed7953"
             ],
             [
              0.7777777777777778,
              "#fb9f3a"
             ],
             [
              0.8888888888888888,
              "#fdca26"
             ],
             [
              1,
              "#f0f921"
             ]
            ],
            "type": "surface"
           }
          ],
          "table": [
           {
            "cells": {
             "fill": {
              "color": "#EBF0F8"
             },
             "line": {
              "color": "white"
             }
            },
            "header": {
             "fill": {
              "color": "#C8D4E3"
             },
             "line": {
              "color": "white"
             }
            },
            "type": "table"
           }
          ]
         },
         "layout": {
          "annotationdefaults": {
           "arrowcolor": "#2a3f5f",
           "arrowhead": 0,
           "arrowwidth": 1
          },
          "autotypenumbers": "strict",
          "coloraxis": {
           "colorbar": {
            "outlinewidth": 0,
            "ticks": ""
           }
          },
          "colorscale": {
           "diverging": [
            [
             0,
             "#8e0152"
            ],
            [
             0.1,
             "#c51b7d"
            ],
            [
             0.2,
             "#de77ae"
            ],
            [
             0.3,
             "#f1b6da"
            ],
            [
             0.4,
             "#fde0ef"
            ],
            [
             0.5,
             "#f7f7f7"
            ],
            [
             0.6,
             "#e6f5d0"
            ],
            [
             0.7,
             "#b8e186"
            ],
            [
             0.8,
             "#7fbc41"
            ],
            [
             0.9,
             "#4d9221"
            ],
            [
             1,
             "#276419"
            ]
           ],
           "sequential": [
            [
             0,
             "#0d0887"
            ],
            [
             0.1111111111111111,
             "#46039f"
            ],
            [
             0.2222222222222222,
             "#7201a8"
            ],
            [
             0.3333333333333333,
             "#9c179e"
            ],
            [
             0.4444444444444444,
             "#bd3786"
            ],
            [
             0.5555555555555556,
             "#d8576b"
            ],
            [
             0.6666666666666666,
             "#ed7953"
            ],
            [
             0.7777777777777778,
             "#fb9f3a"
            ],
            [
             0.8888888888888888,
             "#fdca26"
            ],
            [
             1,
             "#f0f921"
            ]
           ],
           "sequentialminus": [
            [
             0,
             "#0d0887"
            ],
            [
             0.1111111111111111,
             "#46039f"
            ],
            [
             0.2222222222222222,
             "#7201a8"
            ],
            [
             0.3333333333333333,
             "#9c179e"
            ],
            [
             0.4444444444444444,
             "#bd3786"
            ],
            [
             0.5555555555555556,
             "#d8576b"
            ],
            [
             0.6666666666666666,
             "#ed7953"
            ],
            [
             0.7777777777777778,
             "#fb9f3a"
            ],
            [
             0.8888888888888888,
             "#fdca26"
            ],
            [
             1,
             "#f0f921"
            ]
           ]
          },
          "colorway": [
           "#636efa",
           "#EF553B",
           "#00cc96",
           "#ab63fa",
           "#FFA15A",
           "#19d3f3",
           "#FF6692",
           "#B6E880",
           "#FF97FF",
           "#FECB52"
          ],
          "font": {
           "color": "#2a3f5f"
          },
          "geo": {
           "bgcolor": "white",
           "lakecolor": "white",
           "landcolor": "#E5ECF6",
           "showlakes": true,
           "showland": true,
           "subunitcolor": "white"
          },
          "hoverlabel": {
           "align": "left"
          },
          "hovermode": "closest",
          "mapbox": {
           "style": "light"
          },
          "paper_bgcolor": "white",
          "plot_bgcolor": "#E5ECF6",
          "polar": {
           "angularaxis": {
            "gridcolor": "white",
            "linecolor": "white",
            "ticks": ""
           },
           "bgcolor": "#E5ECF6",
           "radialaxis": {
            "gridcolor": "white",
            "linecolor": "white",
            "ticks": ""
           }
          },
          "scene": {
           "xaxis": {
            "backgroundcolor": "#E5ECF6",
            "gridcolor": "white",
            "gridwidth": 2,
            "linecolor": "white",
            "showbackground": true,
            "ticks": "",
            "zerolinecolor": "white"
           },
           "yaxis": {
            "backgroundcolor": "#E5ECF6",
            "gridcolor": "white",
            "gridwidth": 2,
            "linecolor": "white",
            "showbackground": true,
            "ticks": "",
            "zerolinecolor": "white"
           },
           "zaxis": {
            "backgroundcolor": "#E5ECF6",
            "gridcolor": "white",
            "gridwidth": 2,
            "linecolor": "white",
            "showbackground": true,
            "ticks": "",
            "zerolinecolor": "white"
           }
          },
          "shapedefaults": {
           "line": {
            "color": "#2a3f5f"
           }
          },
          "ternary": {
           "aaxis": {
            "gridcolor": "white",
            "linecolor": "white",
            "ticks": ""
           },
           "baxis": {
            "gridcolor": "white",
            "linecolor": "white",
            "ticks": ""
           },
           "bgcolor": "#E5ECF6",
           "caxis": {
            "gridcolor": "white",
            "linecolor": "white",
            "ticks": ""
           }
          },
          "title": {
           "x": 0.05
          },
          "xaxis": {
           "automargin": true,
           "gridcolor": "white",
           "linecolor": "white",
           "ticks": "",
           "title": {
            "standoff": 15
           },
           "zerolinecolor": "white",
           "zerolinewidth": 2
          },
          "yaxis": {
           "automargin": true,
           "gridcolor": "white",
           "linecolor": "white",
           "ticks": "",
           "title": {
            "standoff": 15
           },
           "zerolinecolor": "white",
           "zerolinewidth": 2
          }
         }
        },
        "title": {
         "text": "Cross-rank Scores Distributuion"
        },
        "width": 600,
        "xaxis": {
         "anchor": "y2",
         "domain": [
          0,
          1
         ],
         "title": {
          "text": "Cross-rank Scores"
         },
         "zeroline": false
        },
        "yaxis": {
         "anchor": "free",
         "domain": [
          0,
          1
         ],
         "position": 0,
         "title": {
          "text": "Density"
         }
        }
       }
      }
     },
     "metadata": {},
     "output_type": "display_data"
    }
   ],
   "source": [
    "# plot the distribution\n",
    "fig = ff.create_distplot([df_univ_rank[\"crscore\"]], \n",
    "                         [\"Matched Top 10% Economic Institutions\"],\n",
    "                         bin_size=20,\n",
    "                         show_rug = False\n",
    "                         )\n",
    "\n",
    "fig.update_layout(title_text = \"Cross-rank Scores Distributuion\",\n",
    "                  xaxis_title = \"Cross-rank Scores\",\n",
    "                  yaxis_title = \"Density\",\n",
    "#                 template = \"plotly_dark\",\n",
    "                  width = 600,\n",
    "                  height = 500,\n",
    "                  legend=dict(\n",
    "                    yanchor=\"bottom\",\n",
    "                    y=1.00,\n",
    "                    xanchor=\"left\",\n",
    "                    x=0.35\n",
    "                    )\n",
    "                  )\n",
    "fig.show()"
   ]
  },
  {
   "cell_type": "code",
   "execution_count": 28,
   "metadata": {},
   "outputs": [
    {
     "data": {
      "application/vnd.plotly.v1+json": {
       "config": {
        "plotlyServerURL": "https://plot.ly"
       },
       "data": [
        {
         "hovertemplate": "rank=%{x}<br>crscore=%{marker.color}<extra></extra>",
         "legendgroup": "",
         "marker": {
          "color": [
           118.29595015576324,
           90.40334378265413,
           96.41369863013699,
           233.79166666666666,
           92.40313111545989,
           66.5076071922545,
           132.91145833333334,
           281.35714285714283,
           175.1153846153846,
           74.9532967032967,
           233.27397260273972,
           164.2289156626506,
           121.98190045248869,
           112.30555555555556,
           63.0006435006435,
           87.07963594994311,
           103.5119760479042,
           82.15606242496999,
           121.51818181818182,
           76.89293598233995,
           65.20083682008368,
           52.02825947334618,
           132.20289855072463,
           276.359375,
           89.56844547563806,
           100.96031746031746,
           72.9950248756219,
           190.9433962264151,
           92.6470588235294,
           88.27926078028747,
           64.15300546448087,
           88.01282051282051,
           114.40983606557377,
           78.31132075471699,
           61.20463847203274,
           65.83564118001205,
           107.97029702970298,
           94.55555555555556,
           85.6544502617801,
           91.29508196721312,
           241.7887323943662,
           74.4234693877551,
           104.61917098445596,
           59.12597809076682,
           128.26455026455025,
           138.81730769230768,
           298.52657004830917,
           343.5,
           103.1310975609756,
           113.2069970845481,
           98.62878787878788,
           250.17741935483872,
           164.87254901960785,
           77.49673202614379,
           330.24528301886795,
           153.15315315315314,
           72.28787878787878,
           155.1095890410959,
           110.04195804195804,
           74.57364341085271,
           147.56493506493507,
           104.78729281767956,
           87.89686098654708,
           283.93220338983053,
           168.07111111111112,
           68.86786786786787,
           251.86046511627907,
           135.78571428571428,
           181.89265536723164,
           246.66666666666666,
           89.3225806451613,
           147.33333333333334,
           160.33644859813083,
           85.77777777777777,
           62.905660377358494,
           226.17821782178217,
           113.1549815498155,
           215.11818181818182,
           153.49606299212599,
           147.0731707317073,
           55.37162162162162,
           74.66,
           89,
           133.56451612903226,
           105.67955801104972,
           195.51388888888889,
           125.64485981308411,
           121.025,
           123.33050847457628,
           75.77391304347826,
           79.22916666666667,
           390.14814814814815,
           351.8125,
           179.4891304347826,
           163.79381443298968,
           173.29268292682926,
           86.8962962962963,
           250,
           251.02777777777777,
           105.03225806451613,
           141.7,
           198.9090909090909,
           349.82978723404256,
           100.22335025380711,
           102.4980079681275,
           108.10271903323263,
           124.26470588235294,
           88.01801801801801,
           165.7,
           224.00819672131146,
           193.67021276595744,
           93.504,
           218.35294117647058,
           83.16017316017316,
           101.4509090909091,
           115.78787878787878,
           143.1951219512195,
           106.1842105263158,
           102.5625,
           135.8,
           87.58196721311475,
           104.64634146341463,
           188.76136363636363,
           153.07407407407408,
           142.03571428571428,
           100.7159090909091,
           154.19867549668874,
           272.53846153846155,
           245.80769230769232,
           207.79032258064515,
           115.9090909090909,
           91.93333333333334,
           121.27868852459017,
           252.7642857142857,
           67.58715596330275,
           68.82758620689656,
           190.1818181818182,
           261.8636363636364,
           95.76666666666667,
           85.9396551724138,
           118.23853211009174,
           248.53333333333333,
           154.88571428571427,
           76.23557692307692,
           108.28676470588235,
           136.14285714285714,
           77.22727272727273,
           100.22077922077922,
           328.258064516129,
           226.140625,
           160.17391304347825,
           69.21951219512195,
           99.6969696969697,
           106.30927835051547,
           260.5238095238095,
           78.65346534653466,
           186.52380952380952,
           166.21621621621622,
           344.2857142857143,
           134.36144578313252,
           76.97080291970804,
           244.02631578947367,
           210.775,
           86.8625,
           197.1346153846154,
           104.88,
           163.95833333333334,
           270,
           95.75714285714285,
           259.5,
           186.075,
           203.77142857142857,
           394.6,
           121.7,
           146.1818181818182,
           81.69343065693431,
           0,
           186.7058823529412,
           130.8,
           228.74074074074073,
           241.27027027027026,
           142.74418604651163,
           0,
           238.44262295081967,
           156.3,
           199.01333333333332,
           120.82857142857142,
           37,
           18.258064516129032,
           170.83333333333334,
           318.09090909090907,
           103.17948717948718,
           0,
           231.5,
           86.92307692307692,
           422,
           144,
           344.8,
           0,
           104.28571428571429,
           396
          ],
          "coloraxis": "coloraxis",
          "symbol": "circle"
         },
         "mode": "markers",
         "name": "",
         "orientation": "v",
         "showlegend": false,
         "type": "scatter",
         "x": [
          164,
          50,
          1,
          449,
          84,
          43,
          264,
          484,
          364,
          28,
          423,
          363,
          177,
          220,
          9,
          2,
          38,
          55,
          194,
          52,
          73,
          8,
          51,
          472,
          71,
          70,
          100,
          334,
          142,
          93,
          35,
          147,
          159,
          108,
          20,
          5,
          182,
          196,
          10,
          176,
          440,
          54,
          65,
          14,
          219,
          124,
          480,
          523,
          155,
          113,
          165,
          408,
          326,
          188,
          441,
          17,
          22,
          321,
          69,
          83,
          250,
          151,
          126,
          465,
          310,
          31,
          527,
          357,
          293,
          401,
          49,
          235,
          253,
          127,
          26,
          415,
          77,
          462,
          270,
          268,
          29,
          4,
          11,
          207,
          138,
          320,
          211,
          448,
          257,
          143,
          92,
          490,
          536,
          330,
          302,
          457,
          125,
          504,
          410,
          255,
          346,
          466,
          424,
          117,
          271,
          87,
          416,
          96,
          524,
          335,
          360,
          119,
          402,
          25,
          190,
          40,
          338,
          296,
          193,
          298,
          141,
          63,
          276,
          260,
          150,
          89,
          299,
          539,
          445,
          221,
          231,
          197,
          313,
          407,
          157,
          192,
          519,
          458,
          163,
          114,
          241,
          396,
          329,
          44,
          81,
          229,
          30,
          169,
          506,
          311,
          309,
          12,
          112,
          99,
          371,
          238,
          345,
          287,
          522,
          288,
          139,
          398,
          404,
          279,
          388,
          202,
          305,
          514,
          213,
          333,
          375,
          289,
          526,
          460,
          348,
          140,
          309,
          534,
          218,
          542,
          535,
          385,
          273,
          498,
          29,
          399,
          308,
          249,
          406,
          286,
          487,
          128,
          288,
          483,
          537,
          536,
          331,
          502,
          288,
          78,
          436
         ],
         "xaxis": "x",
         "y": [
          118.29595015576324,
          90.40334378265413,
          96.41369863013699,
          233.79166666666666,
          92.40313111545989,
          66.5076071922545,
          132.91145833333334,
          281.35714285714283,
          175.1153846153846,
          74.9532967032967,
          233.27397260273972,
          164.2289156626506,
          121.98190045248869,
          112.30555555555556,
          63.0006435006435,
          87.07963594994311,
          103.5119760479042,
          82.15606242496999,
          121.51818181818182,
          76.89293598233995,
          65.20083682008368,
          52.02825947334618,
          132.20289855072463,
          276.359375,
          89.56844547563806,
          100.96031746031746,
          72.9950248756219,
          190.9433962264151,
          92.6470588235294,
          88.27926078028747,
          64.15300546448087,
          88.01282051282051,
          114.40983606557377,
          78.31132075471699,
          61.20463847203274,
          65.83564118001205,
          107.97029702970298,
          94.55555555555556,
          85.6544502617801,
          91.29508196721312,
          241.7887323943662,
          74.4234693877551,
          104.61917098445596,
          59.12597809076682,
          128.26455026455025,
          138.81730769230768,
          298.52657004830917,
          343.5,
          103.1310975609756,
          113.2069970845481,
          98.62878787878788,
          250.17741935483872,
          164.87254901960785,
          77.49673202614379,
          330.24528301886795,
          153.15315315315314,
          72.28787878787878,
          155.1095890410959,
          110.04195804195804,
          74.57364341085271,
          147.56493506493507,
          104.78729281767956,
          87.89686098654708,
          283.93220338983053,
          168.07111111111112,
          68.86786786786787,
          251.86046511627907,
          135.78571428571428,
          181.89265536723164,
          246.66666666666666,
          89.3225806451613,
          147.33333333333334,
          160.33644859813083,
          85.77777777777777,
          62.905660377358494,
          226.17821782178217,
          113.1549815498155,
          215.11818181818182,
          153.49606299212599,
          147.0731707317073,
          55.37162162162162,
          74.66,
          89,
          133.56451612903226,
          105.67955801104972,
          195.51388888888889,
          125.64485981308411,
          121.025,
          123.33050847457628,
          75.77391304347826,
          79.22916666666667,
          390.14814814814815,
          351.8125,
          179.4891304347826,
          163.79381443298968,
          173.29268292682926,
          86.8962962962963,
          250,
          251.02777777777777,
          105.03225806451613,
          141.7,
          198.9090909090909,
          349.82978723404256,
          100.22335025380711,
          102.4980079681275,
          108.10271903323263,
          124.26470588235294,
          88.01801801801801,
          165.7,
          224.00819672131146,
          193.67021276595744,
          93.504,
          218.35294117647058,
          83.16017316017316,
          101.4509090909091,
          115.78787878787878,
          143.1951219512195,
          106.1842105263158,
          102.5625,
          135.8,
          87.58196721311475,
          104.64634146341463,
          188.76136363636363,
          153.07407407407408,
          142.03571428571428,
          100.7159090909091,
          154.19867549668874,
          272.53846153846155,
          245.80769230769232,
          207.79032258064515,
          115.9090909090909,
          91.93333333333334,
          121.27868852459017,
          252.7642857142857,
          67.58715596330275,
          68.82758620689656,
          190.1818181818182,
          261.8636363636364,
          95.76666666666667,
          85.9396551724138,
          118.23853211009174,
          248.53333333333333,
          154.88571428571427,
          76.23557692307692,
          108.28676470588235,
          136.14285714285714,
          77.22727272727273,
          100.22077922077922,
          328.258064516129,
          226.140625,
          160.17391304347825,
          69.21951219512195,
          99.6969696969697,
          106.30927835051547,
          260.5238095238095,
          78.65346534653466,
          186.52380952380952,
          166.21621621621622,
          344.2857142857143,
          134.36144578313252,
          76.97080291970804,
          244.02631578947367,
          210.775,
          86.8625,
          197.1346153846154,
          104.88,
          163.95833333333334,
          270,
          95.75714285714285,
          259.5,
          186.075,
          203.77142857142857,
          394.6,
          121.7,
          146.1818181818182,
          81.69343065693431,
          0,
          186.7058823529412,
          130.8,
          228.74074074074073,
          241.27027027027026,
          142.74418604651163,
          0,
          238.44262295081967,
          156.3,
          199.01333333333332,
          120.82857142857142,
          37,
          18.258064516129032,
          170.83333333333334,
          318.09090909090907,
          103.17948717948718,
          0,
          231.5,
          86.92307692307692,
          422,
          144,
          344.8,
          0,
          104.28571428571429,
          396
         ],
         "yaxis": "y"
        },
        {
         "hovertemplate": "<b>LOWESS trendline</b><br><br>rank=%{x}<br>crscore=%{y} <b>(trend)</b><extra></extra>",
         "legendgroup": "",
         "marker": {
          "symbol": "circle"
         },
         "mode": "lines",
         "name": "",
         "showlegend": false,
         "type": "scatter",
         "x": [
          1,
          2,
          4,
          5,
          8,
          9,
          10,
          11,
          12,
          14,
          17,
          20,
          22,
          25,
          26,
          28,
          29,
          29,
          30,
          31,
          35,
          38,
          40,
          43,
          44,
          49,
          50,
          51,
          52,
          54,
          55,
          63,
          65,
          69,
          70,
          71,
          73,
          77,
          78,
          81,
          83,
          84,
          87,
          89,
          92,
          93,
          96,
          99,
          100,
          108,
          112,
          113,
          114,
          117,
          119,
          124,
          125,
          126,
          127,
          128,
          138,
          139,
          140,
          141,
          142,
          143,
          147,
          150,
          151,
          155,
          157,
          159,
          163,
          164,
          165,
          169,
          176,
          177,
          182,
          188,
          190,
          192,
          193,
          194,
          196,
          197,
          202,
          207,
          211,
          213,
          218,
          219,
          220,
          221,
          229,
          231,
          235,
          238,
          241,
          249,
          250,
          253,
          255,
          257,
          260,
          264,
          268,
          270,
          271,
          273,
          276,
          279,
          286,
          287,
          288,
          288,
          288,
          289,
          293,
          296,
          298,
          299,
          302,
          305,
          308,
          309,
          309,
          310,
          311,
          313,
          320,
          321,
          326,
          329,
          330,
          331,
          333,
          334,
          335,
          338,
          345,
          346,
          348,
          357,
          360,
          363,
          364,
          371,
          375,
          385,
          388,
          396,
          398,
          399,
          401,
          402,
          404,
          406,
          407,
          408,
          410,
          415,
          416,
          423,
          424,
          436,
          440,
          441,
          445,
          448,
          449,
          457,
          458,
          460,
          462,
          465,
          466,
          472,
          480,
          483,
          484,
          487,
          490,
          498,
          502,
          504,
          506,
          514,
          519,
          522,
          523,
          524,
          526,
          527,
          534,
          535,
          536,
          536,
          537,
          539,
          542
         ],
         "xaxis": "x",
         "y": [
          76.7755931485081,
          76.94303407304452,
          77.27714482799259,
          77.44380300246884,
          77.9421253325678,
          78.10766744648457,
          78.27292206686495,
          78.43788848818805,
          78.60256558789214,
          78.93104511806041,
          79.42156933402701,
          79.90946862568887,
          80.23327051935954,
          80.71679057908915,
          80.87738886591222,
          81.19773642776161,
          81.35749280674678,
          81.35749280674678,
          81.51697655044197,
          81.6761925194576,
          82.31050078333975,
          82.78375316886445,
          83.09820334563103,
          83.5684587503659,
          83.7248573367244,
          84.50455445827029,
          84.66009828523921,
          84.81553208878915,
          84.97086459394187,
          85.28125434486145,
          85.43632662642675,
          86.67517308943822,
          86.98477630126695,
          87.60441863477102,
          87.75947334731951,
          87.91460256168584,
          88.22511081134454,
          88.84733061525642,
          89.00318655887824,
          89.47159616246583,
          89.78462336621926,
          89.94137518903688,
          90.41263336926478,
          90.72767879797532,
          91.20158639187962,
          91.3599092850549,
          91.83591919490138,
          92.31343702247989,
          92.47292357936209,
          93.75273171230998,
          94.39230590606691,
          94.5515621303781,
          94.71035451146778,
          95.18232292903772,
          95.49110117579541,
          96.22383510585891,
          96.36053786095015,
          96.50752983268016,
          96.67030605353835,
          96.81919628086426,
          98.43887920116492,
          98.63670352521241,
          98.80160640784999,
          98.96786279635009,
          99.13559215943604,
          99.30493956455739,
          100.00073080265743,
          100.5446865426779,
          100.73091112108426,
          101.62125715268813,
          102.0260004888962,
          102.3795817234798,
          103.37450290649971,
          103.60084579778785,
          103.76397816036965,
          104.64852493611076,
          106.60745868129172,
          106.80882570530925,
          108.09045409241587,
          110.13598191335967,
          110.62716748696319,
          111.2049515154606,
          111.46542774556126,
          111.86356899736394,
          112.59762194558304,
          112.87031458150632,
          114.59332532503363,
          116.31083587377655,
          117.76479048168729,
          118.60815280032001,
          120.4790588984667,
          120.85813902680312,
          121.28830558882335,
          121.71838984981233,
          124.88855824091854,
          125.62858111794114,
          127.30129786200465,
          128.50877278761013,
          129.6183791706858,
          132.9112915292965,
          133.33510923405655,
          134.59063588904525,
          135.42398066998243,
          136.24829516466573,
          137.49377054648417,
          139.160934212663,
          140.87280247718272,
          141.72372410182982,
          142.15338895554052,
          143.0219970860962,
          144.35963221370642,
          145.7309677399888,
          149.1866765958626,
          149.71740714231424,
          150.25517142292065,
          150.25517142292065,
          150.25517142292065,
          150.79932684701345,
          152.84917296709233,
          154.37280016748542,
          155.52261142569043,
          156.0098522096112,
          157.6239264730418,
          159.25860735911314,
          161.05826239082984,
          161.5655269005898,
          161.5655269005898,
          162.07386610244416,
          162.63276142852254,
          163.8046406395122,
          167.6335653490686,
          168.20782907379706,
          171.14407816057465,
          172.93065814230317,
          173.55341256123342,
          174.1740931001599,
          175.2640991036659,
          175.81234103420252,
          176.4355879820353,
          178.166407093388,
          182.43849556074707,
          183.0542922167167,
          184.23736228497577,
          189.55786616262142,
          191.40305778479228,
          193.18524286515338,
          193.79989949992722,
          197.99748661286836,
          200.4117850869269,
          206.46845232835145,
          208.28769202717024,
          213.21461761552072,
          214.45574637539832,
          215.08106451955777,
          216.32548507183472,
          216.94382677105037,
          218.17205315589723,
          219.38924102651677,
          219.99401626320287,
          220.59648421700098,
          221.79526306082062,
          224.76467339243572,
          225.35509071175377,
          229.4693846476593,
          230.05538640485628,
          237.07331047072458,
          239.40950417161997,
          239.9933894187082,
          242.32826073048355,
          244.07863343925104,
          244.66192281313891,
          249.32471272320302,
          249.90707370422226,
          251.07144245610513,
          252.23532535855966,
          253.98021339283173,
          254.56159539137917,
          258.0473174639163,
          262.6881976388016,
          264.4264191972133,
          265.0055443606756,
          266.7420290281571,
          268.4770913647031,
          273.09563809002117,
          275.39966110251004,
          276.55025317586393,
          277.6998606802159,
          282.28781176687033,
          285.1459591430291,
          286.8571665703533,
          287.42694017623387,
          287.9963914621147,
          289.13428807269264,
          289.7027131202609,
          293.67126214173715,
          294.2366463492689,
          294.80162876165724,
          294.80162876165724,
          295.36620812962667,
          296.4941436306611,
          298.18294452254617
         ],
         "yaxis": "y"
        }
       ],
       "layout": {
        "coloraxis": {
         "colorbar": {
          "title": {
           "text": "crscore"
          }
         },
         "colorscale": [
          [
           0,
           "rgb(243, 224, 247)"
          ],
          [
           0.16666666666666666,
           "rgb(228, 199, 241)"
          ],
          [
           0.3333333333333333,
           "rgb(209, 175, 232)"
          ],
          [
           0.5,
           "rgb(185, 152, 221)"
          ],
          [
           0.6666666666666666,
           "rgb(159, 130, 206)"
          ],
          [
           0.8333333333333334,
           "rgb(130, 109, 186)"
          ],
          [
           1,
           "rgb(99, 88, 159)"
          ]
         ]
        },
        "height": 600,
        "legend": {
         "tracegroupgap": 0,
         "x": 0.35,
         "xanchor": "left",
         "y": 1,
         "yanchor": "bottom"
        },
        "margin": {
         "t": 60
        },
        "template": {
         "data": {
          "bar": [
           {
            "error_x": {
             "color": "#2a3f5f"
            },
            "error_y": {
             "color": "#2a3f5f"
            },
            "marker": {
             "line": {
              "color": "#E5ECF6",
              "width": 0.5
             },
             "pattern": {
              "fillmode": "overlay",
              "size": 10,
              "solidity": 0.2
             }
            },
            "type": "bar"
           }
          ],
          "barpolar": [
           {
            "marker": {
             "line": {
              "color": "#E5ECF6",
              "width": 0.5
             },
             "pattern": {
              "fillmode": "overlay",
              "size": 10,
              "solidity": 0.2
             }
            },
            "type": "barpolar"
           }
          ],
          "carpet": [
           {
            "aaxis": {
             "endlinecolor": "#2a3f5f",
             "gridcolor": "white",
             "linecolor": "white",
             "minorgridcolor": "white",
             "startlinecolor": "#2a3f5f"
            },
            "baxis": {
             "endlinecolor": "#2a3f5f",
             "gridcolor": "white",
             "linecolor": "white",
             "minorgridcolor": "white",
             "startlinecolor": "#2a3f5f"
            },
            "type": "carpet"
           }
          ],
          "choropleth": [
           {
            "colorbar": {
             "outlinewidth": 0,
             "ticks": ""
            },
            "type": "choropleth"
           }
          ],
          "contour": [
           {
            "colorbar": {
             "outlinewidth": 0,
             "ticks": ""
            },
            "colorscale": [
             [
              0,
              "#0d0887"
             ],
             [
              0.1111111111111111,
              "#46039f"
             ],
             [
              0.2222222222222222,
              "#7201a8"
             ],
             [
              0.3333333333333333,
              "#9c179e"
             ],
             [
              0.4444444444444444,
              "#bd3786"
             ],
             [
              0.5555555555555556,
              "#d8576b"
             ],
             [
              0.6666666666666666,
              "#ed7953"
             ],
             [
              0.7777777777777778,
              "#fb9f3a"
             ],
             [
              0.8888888888888888,
              "#fdca26"
             ],
             [
              1,
              "#f0f921"
             ]
            ],
            "type": "contour"
           }
          ],
          "contourcarpet": [
           {
            "colorbar": {
             "outlinewidth": 0,
             "ticks": ""
            },
            "type": "contourcarpet"
           }
          ],
          "heatmap": [
           {
            "colorbar": {
             "outlinewidth": 0,
             "ticks": ""
            },
            "colorscale": [
             [
              0,
              "#0d0887"
             ],
             [
              0.1111111111111111,
              "#46039f"
             ],
             [
              0.2222222222222222,
              "#7201a8"
             ],
             [
              0.3333333333333333,
              "#9c179e"
             ],
             [
              0.4444444444444444,
              "#bd3786"
             ],
             [
              0.5555555555555556,
              "#d8576b"
             ],
             [
              0.6666666666666666,
              "#ed7953"
             ],
             [
              0.7777777777777778,
              "#fb9f3a"
             ],
             [
              0.8888888888888888,
              "#fdca26"
             ],
             [
              1,
              "#f0f921"
             ]
            ],
            "type": "heatmap"
           }
          ],
          "heatmapgl": [
           {
            "colorbar": {
             "outlinewidth": 0,
             "ticks": ""
            },
            "colorscale": [
             [
              0,
              "#0d0887"
             ],
             [
              0.1111111111111111,
              "#46039f"
             ],
             [
              0.2222222222222222,
              "#7201a8"
             ],
             [
              0.3333333333333333,
              "#9c179e"
             ],
             [
              0.4444444444444444,
              "#bd3786"
             ],
             [
              0.5555555555555556,
              "#d8576b"
             ],
             [
              0.6666666666666666,
              "#ed7953"
             ],
             [
              0.7777777777777778,
              "#fb9f3a"
             ],
             [
              0.8888888888888888,
              "#fdca26"
             ],
             [
              1,
              "#f0f921"
             ]
            ],
            "type": "heatmapgl"
           }
          ],
          "histogram": [
           {
            "marker": {
             "pattern": {
              "fillmode": "overlay",
              "size": 10,
              "solidity": 0.2
             }
            },
            "type": "histogram"
           }
          ],
          "histogram2d": [
           {
            "colorbar": {
             "outlinewidth": 0,
             "ticks": ""
            },
            "colorscale": [
             [
              0,
              "#0d0887"
             ],
             [
              0.1111111111111111,
              "#46039f"
             ],
             [
              0.2222222222222222,
              "#7201a8"
             ],
             [
              0.3333333333333333,
              "#9c179e"
             ],
             [
              0.4444444444444444,
              "#bd3786"
             ],
             [
              0.5555555555555556,
              "#d8576b"
             ],
             [
              0.6666666666666666,
              "#ed7953"
             ],
             [
              0.7777777777777778,
              "#fb9f3a"
             ],
             [
              0.8888888888888888,
              "#fdca26"
             ],
             [
              1,
              "#f0f921"
             ]
            ],
            "type": "histogram2d"
           }
          ],
          "histogram2dcontour": [
           {
            "colorbar": {
             "outlinewidth": 0,
             "ticks": ""
            },
            "colorscale": [
             [
              0,
              "#0d0887"
             ],
             [
              0.1111111111111111,
              "#46039f"
             ],
             [
              0.2222222222222222,
              "#7201a8"
             ],
             [
              0.3333333333333333,
              "#9c179e"
             ],
             [
              0.4444444444444444,
              "#bd3786"
             ],
             [
              0.5555555555555556,
              "#d8576b"
             ],
             [
              0.6666666666666666,
              "#ed7953"
             ],
             [
              0.7777777777777778,
              "#fb9f3a"
             ],
             [
              0.8888888888888888,
              "#fdca26"
             ],
             [
              1,
              "#f0f921"
             ]
            ],
            "type": "histogram2dcontour"
           }
          ],
          "mesh3d": [
           {
            "colorbar": {
             "outlinewidth": 0,
             "ticks": ""
            },
            "type": "mesh3d"
           }
          ],
          "parcoords": [
           {
            "line": {
             "colorbar": {
              "outlinewidth": 0,
              "ticks": ""
             }
            },
            "type": "parcoords"
           }
          ],
          "pie": [
           {
            "automargin": true,
            "type": "pie"
           }
          ],
          "scatter": [
           {
            "fillpattern": {
             "fillmode": "overlay",
             "size": 10,
             "solidity": 0.2
            },
            "type": "scatter"
           }
          ],
          "scatter3d": [
           {
            "line": {
             "colorbar": {
              "outlinewidth": 0,
              "ticks": ""
             }
            },
            "marker": {
             "colorbar": {
              "outlinewidth": 0,
              "ticks": ""
             }
            },
            "type": "scatter3d"
           }
          ],
          "scattercarpet": [
           {
            "marker": {
             "colorbar": {
              "outlinewidth": 0,
              "ticks": ""
             }
            },
            "type": "scattercarpet"
           }
          ],
          "scattergeo": [
           {
            "marker": {
             "colorbar": {
              "outlinewidth": 0,
              "ticks": ""
             }
            },
            "type": "scattergeo"
           }
          ],
          "scattergl": [
           {
            "marker": {
             "colorbar": {
              "outlinewidth": 0,
              "ticks": ""
             }
            },
            "type": "scattergl"
           }
          ],
          "scattermapbox": [
           {
            "marker": {
             "colorbar": {
              "outlinewidth": 0,
              "ticks": ""
             }
            },
            "type": "scattermapbox"
           }
          ],
          "scatterpolar": [
           {
            "marker": {
             "colorbar": {
              "outlinewidth": 0,
              "ticks": ""
             }
            },
            "type": "scatterpolar"
           }
          ],
          "scatterpolargl": [
           {
            "marker": {
             "colorbar": {
              "outlinewidth": 0,
              "ticks": ""
             }
            },
            "type": "scatterpolargl"
           }
          ],
          "scatterternary": [
           {
            "marker": {
             "colorbar": {
              "outlinewidth": 0,
              "ticks": ""
             }
            },
            "type": "scatterternary"
           }
          ],
          "surface": [
           {
            "colorbar": {
             "outlinewidth": 0,
             "ticks": ""
            },
            "colorscale": [
             [
              0,
              "#0d0887"
             ],
             [
              0.1111111111111111,
              "#46039f"
             ],
             [
              0.2222222222222222,
              "#7201a8"
             ],
             [
              0.3333333333333333,
              "#9c179e"
             ],
             [
              0.4444444444444444,
              "#bd3786"
             ],
             [
              0.5555555555555556,
              "#d8576b"
             ],
             [
              0.6666666666666666,
              "#ed7953"
             ],
             [
              0.7777777777777778,
              "#fb9f3a"
             ],
             [
              0.8888888888888888,
              "#fdca26"
             ],
             [
              1,
              "#f0f921"
             ]
            ],
            "type": "surface"
           }
          ],
          "table": [
           {
            "cells": {
             "fill": {
              "color": "#EBF0F8"
             },
             "line": {
              "color": "white"
             }
            },
            "header": {
             "fill": {
              "color": "#C8D4E3"
             },
             "line": {
              "color": "white"
             }
            },
            "type": "table"
           }
          ]
         },
         "layout": {
          "annotationdefaults": {
           "arrowcolor": "#2a3f5f",
           "arrowhead": 0,
           "arrowwidth": 1
          },
          "autotypenumbers": "strict",
          "coloraxis": {
           "colorbar": {
            "outlinewidth": 0,
            "ticks": ""
           }
          },
          "colorscale": {
           "diverging": [
            [
             0,
             "#8e0152"
            ],
            [
             0.1,
             "#c51b7d"
            ],
            [
             0.2,
             "#de77ae"
            ],
            [
             0.3,
             "#f1b6da"
            ],
            [
             0.4,
             "#fde0ef"
            ],
            [
             0.5,
             "#f7f7f7"
            ],
            [
             0.6,
             "#e6f5d0"
            ],
            [
             0.7,
             "#b8e186"
            ],
            [
             0.8,
             "#7fbc41"
            ],
            [
             0.9,
             "#4d9221"
            ],
            [
             1,
             "#276419"
            ]
           ],
           "sequential": [
            [
             0,
             "#0d0887"
            ],
            [
             0.1111111111111111,
             "#46039f"
            ],
            [
             0.2222222222222222,
             "#7201a8"
            ],
            [
             0.3333333333333333,
             "#9c179e"
            ],
            [
             0.4444444444444444,
             "#bd3786"
            ],
            [
             0.5555555555555556,
             "#d8576b"
            ],
            [
             0.6666666666666666,
             "#ed7953"
            ],
            [
             0.7777777777777778,
             "#fb9f3a"
            ],
            [
             0.8888888888888888,
             "#fdca26"
            ],
            [
             1,
             "#f0f921"
            ]
           ],
           "sequentialminus": [
            [
             0,
             "#0d0887"
            ],
            [
             0.1111111111111111,
             "#46039f"
            ],
            [
             0.2222222222222222,
             "#7201a8"
            ],
            [
             0.3333333333333333,
             "#9c179e"
            ],
            [
             0.4444444444444444,
             "#bd3786"
            ],
            [
             0.5555555555555556,
             "#d8576b"
            ],
            [
             0.6666666666666666,
             "#ed7953"
            ],
            [
             0.7777777777777778,
             "#fb9f3a"
            ],
            [
             0.8888888888888888,
             "#fdca26"
            ],
            [
             1,
             "#f0f921"
            ]
           ]
          },
          "colorway": [
           "#636efa",
           "#EF553B",
           "#00cc96",
           "#ab63fa",
           "#FFA15A",
           "#19d3f3",
           "#FF6692",
           "#B6E880",
           "#FF97FF",
           "#FECB52"
          ],
          "font": {
           "color": "#2a3f5f"
          },
          "geo": {
           "bgcolor": "white",
           "lakecolor": "white",
           "landcolor": "#E5ECF6",
           "showlakes": true,
           "showland": true,
           "subunitcolor": "white"
          },
          "hoverlabel": {
           "align": "left"
          },
          "hovermode": "closest",
          "mapbox": {
           "style": "light"
          },
          "paper_bgcolor": "white",
          "plot_bgcolor": "#E5ECF6",
          "polar": {
           "angularaxis": {
            "gridcolor": "white",
            "linecolor": "white",
            "ticks": ""
           },
           "bgcolor": "#E5ECF6",
           "radialaxis": {
            "gridcolor": "white",
            "linecolor": "white",
            "ticks": ""
           }
          },
          "scene": {
           "xaxis": {
            "backgroundcolor": "#E5ECF6",
            "gridcolor": "white",
            "gridwidth": 2,
            "linecolor": "white",
            "showbackground": true,
            "ticks": "",
            "zerolinecolor": "white"
           },
           "yaxis": {
            "backgroundcolor": "#E5ECF6",
            "gridcolor": "white",
            "gridwidth": 2,
            "linecolor": "white",
            "showbackground": true,
            "ticks": "",
            "zerolinecolor": "white"
           },
           "zaxis": {
            "backgroundcolor": "#E5ECF6",
            "gridcolor": "white",
            "gridwidth": 2,
            "linecolor": "white",
            "showbackground": true,
            "ticks": "",
            "zerolinecolor": "white"
           }
          },
          "shapedefaults": {
           "line": {
            "color": "#2a3f5f"
           }
          },
          "ternary": {
           "aaxis": {
            "gridcolor": "white",
            "linecolor": "white",
            "ticks": ""
           },
           "baxis": {
            "gridcolor": "white",
            "linecolor": "white",
            "ticks": ""
           },
           "bgcolor": "#E5ECF6",
           "caxis": {
            "gridcolor": "white",
            "linecolor": "white",
            "ticks": ""
           }
          },
          "title": {
           "x": 0.05
          },
          "xaxis": {
           "automargin": true,
           "gridcolor": "white",
           "linecolor": "white",
           "ticks": "",
           "title": {
            "standoff": 15
           },
           "zerolinecolor": "white",
           "zerolinewidth": 2
          },
          "yaxis": {
           "automargin": true,
           "gridcolor": "white",
           "linecolor": "white",
           "ticks": "",
           "title": {
            "standoff": 15
           },
           "zerolinecolor": "white",
           "zerolinewidth": 2
          }
         }
        },
        "title": {
         "text": "Cross-rank Score vs Rank by Economic Research"
        },
        "width": 800,
        "xaxis": {
         "anchor": "y",
         "domain": [
          0,
          1
         ],
         "title": {
          "text": "Rank"
         }
        },
        "yaxis": {
         "anchor": "x",
         "domain": [
          0,
          1
         ],
         "title": {
          "text": "Cross-rank Score"
         }
        }
       }
      }
     },
     "metadata": {},
     "output_type": "display_data"
    }
   ],
   "source": [
    "# show cross-rank against institition ranks\n",
    "fig = px.scatter(df_univ_rank, \n",
    "                 x=\"rank\", \n",
    "                 y=\"crscore\", \n",
    "                 trendline=\"lowess\",\n",
    "                 trendline_options=dict(frac=0.5),\n",
    "                 color=\"crscore\",\n",
    "                 color_continuous_scale=px.colors.sequential.Purp)\n",
    "\n",
    "fig.update_layout(title_text = \"Cross-rank Score vs Rank by Economic Research\",\n",
    "                  xaxis_title = \"Rank\",\n",
    "                  yaxis_title = \"Cross-rank Score\",\n",
    "#                 template = \"plotly_dark\",\n",
    "                  width = 800,\n",
    "                  height = 600,\n",
    "                  legend=dict(\n",
    "                    yanchor=\"bottom\",\n",
    "                    y=1.00,\n",
    "                    xanchor=\"left\",\n",
    "                    x=0.35\n",
    "                    )\n",
    "                  )\n",
    "fig.show()"
   ]
  },
  {
   "attachments": {},
   "cell_type": "markdown",
   "metadata": {},
   "source": [
    "#### 3.2.6 Tier-level Analysis"
   ]
  },
  {
   "attachments": {},
   "cell_type": "markdown",
   "metadata": {},
   "source": [
    "- Similar to the previous analysis of institutional level, here we do something similar at tier level.\n",
    "- The tiers as mentioned before, cluster institutions by their ranks.\n",
    "- We have 11 tiers in total."
   ]
  },
  {
   "cell_type": "code",
   "execution_count": 29,
   "metadata": {},
   "outputs": [],
   "source": [
    "# collaboration freq, dictionary {(tier1, tier2): num of colab, [...,...]: ...}, tuple as keys\n",
    "links_tiers = {}\n",
    "\n",
    "for doi in df.index:\n",
    "    try:\n",
    "        df.loc[doi][0]  # check if is only single record, if not there is collaboration!\n",
    "    except:\n",
    "        df_new = df.loc[doi].sort_values(\"tier\")   # to prevent duplicated records like (A, B) and (B, A) in the results\n",
    "        length = len(df_new)\n",
    "\n",
    "        for i in range(length-1):\n",
    "            for j in range(length-1-i):\n",
    "                try:\n",
    "                    links_tiers[(df_new[\"tier\"][i], df_new[\"tier\"][i+j+1])] += 1\n",
    "                except:\n",
    "                    links_tiers[(df_new[\"tier\"][i], df_new[\"tier\"][i+j+1])] = 1"
   ]
  },
  {
   "cell_type": "code",
   "execution_count": 30,
   "metadata": {},
   "outputs": [],
   "source": [
    "# convert to list of lists\n",
    "links_all_tiers = [[key[0],key[1],links_tiers[key]] for key in links_tiers.keys()]\n",
    "links_diff_tiers = [[key[0],key[1],links_tiers[key]] for key in links_tiers.keys() if key[0] != key[1]]"
   ]
  },
  {
   "cell_type": "code",
   "execution_count": 31,
   "metadata": {},
   "outputs": [
    {
     "name": "stdout",
     "output_type": "stream",
     "text": [
      "Tier:  1.0\n"
     ]
    }
   ],
   "source": [
    "# build tier level network\n",
    "G_tier = nx.Graph()\n",
    "G_tier.add_weighted_edges_from([link for link in links_diff_tiers if (link[0] != -1) and (link[1] != -1)])\n",
    "# show density\n",
    "print(\"Tier: \", nx.density(G_tier))"
   ]
  },
  {
   "cell_type": "code",
   "execution_count": 32,
   "metadata": {},
   "outputs": [],
   "source": [
    "# calculate tier-level cross-rank scores\n",
    "\n",
    "df_tier_rank = df[[\"tier\"]][df[\"tier\"] != -1].drop_duplicates().set_index(\"tier\")\n",
    "crscores = []   # list of cross-rank scores\n",
    "coau_num = []\n",
    "\n",
    "for tier in df_tier_rank.index:\n",
    "    sum_coau_num = 0\n",
    "    sum_score = 0\n",
    "    for link in links_all_tiers:\n",
    "        if tier in link:\n",
    "            univ_a = link[0]\n",
    "            univ_b = link[1]\n",
    "            sum_coau_num += link[2]   # add on number of coauthorships\n",
    "            sum_score += 50 * abs(univ_a-univ_b) * link[2]   # add on rank difference * number of coauthorships\n",
    "\n",
    "    # append to list\n",
    "    try:\n",
    "        crscores.append(round(sum_score / sum_coau_num,2))   # to deal with zero denominator\n",
    "    except:\n",
    "        crscores.append(0)\n",
    "\n",
    "    coau_num.append(sum_coau_num)\n",
    "\n",
    "df_tier_rank[\"crscore\"] = crscores   # append to df\n",
    "df_tier_rank[\"totalcoau\"] = coau_num\n",
    "df_tier_rank[\"txt\"] = [\"Tier\"+str(tier)+\": \"+str(df_tier_rank.loc[tier,\"crscore\"]) for tier in df_tier_rank.index]"
   ]
  },
  {
   "cell_type": "code",
   "execution_count": 34,
   "metadata": {},
   "outputs": [
    {
     "data": {
      "application/vnd.plotly.v1+json": {
       "config": {
        "plotlyServerURL": "https://plot.ly"
       },
       "data": [
        {
         "hovertemplate": "tier=%{x}<br>crscore=%{marker.color}<br>totalcoau=%{marker.size}<br>txt=%{text}<extra></extra>",
         "legendgroup": "",
         "marker": {
          "color": [
           138.75,
           95.11,
           71.88,
           303.67,
           201.64,
           358.41,
           267.57,
           172.25,
           110.03,
           238.55,
           415.74
          ],
          "coloraxis": "coloraxis",
          "line": {
           "color": "Skyblue",
           "width": 3
          },
          "size": [
           4562,
           9904,
           15027,
           1880,
           3205,
           1664,
           1076,
           1663,
           4123,
           2253,
           1058
          ],
          "sizemode": "area",
          "sizeref": 0.6678666666666667,
          "symbol": "circle"
         },
         "mode": "markers+text",
         "name": "",
         "orientation": "v",
         "showlegend": false,
         "text": [
          "Tier3: 138.75",
          "Tier1: 95.11",
          "Tier0: 71.88",
          "Tier8: 303.67",
          "Tier5: 201.64",
          "Tier9: 358.41",
          "Tier7: 267.57",
          "Tier4: 172.25",
          "Tier2: 110.03",
          "Tier6: 238.55",
          "Tier10: 415.74"
         ],
         "textposition": "middle center",
         "type": "scatter",
         "x": [
          3,
          1,
          0,
          8,
          5,
          9,
          7,
          4,
          2,
          6,
          10
         ],
         "xaxis": "x",
         "y": [
          138.75,
          95.11,
          71.88,
          303.67,
          201.64,
          358.41,
          267.57,
          172.25,
          110.03,
          238.55,
          415.74
         ],
         "yaxis": "y"
        }
       ],
       "layout": {
        "coloraxis": {
         "colorbar": {
          "title": {
           "text": "crscore"
          }
         },
         "colorscale": [
          [
           0,
           "rgb(243, 224, 247)"
          ],
          [
           0.16666666666666666,
           "rgb(228, 199, 241)"
          ],
          [
           0.3333333333333333,
           "rgb(209, 175, 232)"
          ],
          [
           0.5,
           "rgb(185, 152, 221)"
          ],
          [
           0.6666666666666666,
           "rgb(159, 130, 206)"
          ],
          [
           0.8333333333333334,
           "rgb(130, 109, 186)"
          ],
          [
           1,
           "rgb(99, 88, 159)"
          ]
         ]
        },
        "height": 800,
        "legend": {
         "itemsizing": "constant",
         "tracegroupgap": 0,
         "x": 0.35,
         "xanchor": "left",
         "y": 1,
         "yanchor": "bottom"
        },
        "margin": {
         "t": 60
        },
        "template": {
         "data": {
          "bar": [
           {
            "error_x": {
             "color": "#2a3f5f"
            },
            "error_y": {
             "color": "#2a3f5f"
            },
            "marker": {
             "line": {
              "color": "#E5ECF6",
              "width": 0.5
             },
             "pattern": {
              "fillmode": "overlay",
              "size": 10,
              "solidity": 0.2
             }
            },
            "type": "bar"
           }
          ],
          "barpolar": [
           {
            "marker": {
             "line": {
              "color": "#E5ECF6",
              "width": 0.5
             },
             "pattern": {
              "fillmode": "overlay",
              "size": 10,
              "solidity": 0.2
             }
            },
            "type": "barpolar"
           }
          ],
          "carpet": [
           {
            "aaxis": {
             "endlinecolor": "#2a3f5f",
             "gridcolor": "white",
             "linecolor": "white",
             "minorgridcolor": "white",
             "startlinecolor": "#2a3f5f"
            },
            "baxis": {
             "endlinecolor": "#2a3f5f",
             "gridcolor": "white",
             "linecolor": "white",
             "minorgridcolor": "white",
             "startlinecolor": "#2a3f5f"
            },
            "type": "carpet"
           }
          ],
          "choropleth": [
           {
            "colorbar": {
             "outlinewidth": 0,
             "ticks": ""
            },
            "type": "choropleth"
           }
          ],
          "contour": [
           {
            "colorbar": {
             "outlinewidth": 0,
             "ticks": ""
            },
            "colorscale": [
             [
              0,
              "#0d0887"
             ],
             [
              0.1111111111111111,
              "#46039f"
             ],
             [
              0.2222222222222222,
              "#7201a8"
             ],
             [
              0.3333333333333333,
              "#9c179e"
             ],
             [
              0.4444444444444444,
              "#bd3786"
             ],
             [
              0.5555555555555556,
              "#d8576b"
             ],
             [
              0.6666666666666666,
              "#ed7953"
             ],
             [
              0.7777777777777778,
              "#fb9f3a"
             ],
             [
              0.8888888888888888,
              "#fdca26"
             ],
             [
              1,
              "#f0f921"
             ]
            ],
            "type": "contour"
           }
          ],
          "contourcarpet": [
           {
            "colorbar": {
             "outlinewidth": 0,
             "ticks": ""
            },
            "type": "contourcarpet"
           }
          ],
          "heatmap": [
           {
            "colorbar": {
             "outlinewidth": 0,
             "ticks": ""
            },
            "colorscale": [
             [
              0,
              "#0d0887"
             ],
             [
              0.1111111111111111,
              "#46039f"
             ],
             [
              0.2222222222222222,
              "#7201a8"
             ],
             [
              0.3333333333333333,
              "#9c179e"
             ],
             [
              0.4444444444444444,
              "#bd3786"
             ],
             [
              0.5555555555555556,
              "#d8576b"
             ],
             [
              0.6666666666666666,
              "#ed7953"
             ],
             [
              0.7777777777777778,
              "#fb9f3a"
             ],
             [
              0.8888888888888888,
              "#fdca26"
             ],
             [
              1,
              "#f0f921"
             ]
            ],
            "type": "heatmap"
           }
          ],
          "heatmapgl": [
           {
            "colorbar": {
             "outlinewidth": 0,
             "ticks": ""
            },
            "colorscale": [
             [
              0,
              "#0d0887"
             ],
             [
              0.1111111111111111,
              "#46039f"
             ],
             [
              0.2222222222222222,
              "#7201a8"
             ],
             [
              0.3333333333333333,
              "#9c179e"
             ],
             [
              0.4444444444444444,
              "#bd3786"
             ],
             [
              0.5555555555555556,
              "#d8576b"
             ],
             [
              0.6666666666666666,
              "#ed7953"
             ],
             [
              0.7777777777777778,
              "#fb9f3a"
             ],
             [
              0.8888888888888888,
              "#fdca26"
             ],
             [
              1,
              "#f0f921"
             ]
            ],
            "type": "heatmapgl"
           }
          ],
          "histogram": [
           {
            "marker": {
             "pattern": {
              "fillmode": "overlay",
              "size": 10,
              "solidity": 0.2
             }
            },
            "type": "histogram"
           }
          ],
          "histogram2d": [
           {
            "colorbar": {
             "outlinewidth": 0,
             "ticks": ""
            },
            "colorscale": [
             [
              0,
              "#0d0887"
             ],
             [
              0.1111111111111111,
              "#46039f"
             ],
             [
              0.2222222222222222,
              "#7201a8"
             ],
             [
              0.3333333333333333,
              "#9c179e"
             ],
             [
              0.4444444444444444,
              "#bd3786"
             ],
             [
              0.5555555555555556,
              "#d8576b"
             ],
             [
              0.6666666666666666,
              "#ed7953"
             ],
             [
              0.7777777777777778,
              "#fb9f3a"
             ],
             [
              0.8888888888888888,
              "#fdca26"
             ],
             [
              1,
              "#f0f921"
             ]
            ],
            "type": "histogram2d"
           }
          ],
          "histogram2dcontour": [
           {
            "colorbar": {
             "outlinewidth": 0,
             "ticks": ""
            },
            "colorscale": [
             [
              0,
              "#0d0887"
             ],
             [
              0.1111111111111111,
              "#46039f"
             ],
             [
              0.2222222222222222,
              "#7201a8"
             ],
             [
              0.3333333333333333,
              "#9c179e"
             ],
             [
              0.4444444444444444,
              "#bd3786"
             ],
             [
              0.5555555555555556,
              "#d8576b"
             ],
             [
              0.6666666666666666,
              "#ed7953"
             ],
             [
              0.7777777777777778,
              "#fb9f3a"
             ],
             [
              0.8888888888888888,
              "#fdca26"
             ],
             [
              1,
              "#f0f921"
             ]
            ],
            "type": "histogram2dcontour"
           }
          ],
          "mesh3d": [
           {
            "colorbar": {
             "outlinewidth": 0,
             "ticks": ""
            },
            "type": "mesh3d"
           }
          ],
          "parcoords": [
           {
            "line": {
             "colorbar": {
              "outlinewidth": 0,
              "ticks": ""
             }
            },
            "type": "parcoords"
           }
          ],
          "pie": [
           {
            "automargin": true,
            "type": "pie"
           }
          ],
          "scatter": [
           {
            "fillpattern": {
             "fillmode": "overlay",
             "size": 10,
             "solidity": 0.2
            },
            "type": "scatter"
           }
          ],
          "scatter3d": [
           {
            "line": {
             "colorbar": {
              "outlinewidth": 0,
              "ticks": ""
             }
            },
            "marker": {
             "colorbar": {
              "outlinewidth": 0,
              "ticks": ""
             }
            },
            "type": "scatter3d"
           }
          ],
          "scattercarpet": [
           {
            "marker": {
             "colorbar": {
              "outlinewidth": 0,
              "ticks": ""
             }
            },
            "type": "scattercarpet"
           }
          ],
          "scattergeo": [
           {
            "marker": {
             "colorbar": {
              "outlinewidth": 0,
              "ticks": ""
             }
            },
            "type": "scattergeo"
           }
          ],
          "scattergl": [
           {
            "marker": {
             "colorbar": {
              "outlinewidth": 0,
              "ticks": ""
             }
            },
            "type": "scattergl"
           }
          ],
          "scattermapbox": [
           {
            "marker": {
             "colorbar": {
              "outlinewidth": 0,
              "ticks": ""
             }
            },
            "type": "scattermapbox"
           }
          ],
          "scatterpolar": [
           {
            "marker": {
             "colorbar": {
              "outlinewidth": 0,
              "ticks": ""
             }
            },
            "type": "scatterpolar"
           }
          ],
          "scatterpolargl": [
           {
            "marker": {
             "colorbar": {
              "outlinewidth": 0,
              "ticks": ""
             }
            },
            "type": "scatterpolargl"
           }
          ],
          "scatterternary": [
           {
            "marker": {
             "colorbar": {
              "outlinewidth": 0,
              "ticks": ""
             }
            },
            "type": "scatterternary"
           }
          ],
          "surface": [
           {
            "colorbar": {
             "outlinewidth": 0,
             "ticks": ""
            },
            "colorscale": [
             [
              0,
              "#0d0887"
             ],
             [
              0.1111111111111111,
              "#46039f"
             ],
             [
              0.2222222222222222,
              "#7201a8"
             ],
             [
              0.3333333333333333,
              "#9c179e"
             ],
             [
              0.4444444444444444,
              "#bd3786"
             ],
             [
              0.5555555555555556,
              "#d8576b"
             ],
             [
              0.6666666666666666,
              "#ed7953"
             ],
             [
              0.7777777777777778,
              "#fb9f3a"
             ],
             [
              0.8888888888888888,
              "#fdca26"
             ],
             [
              1,
              "#f0f921"
             ]
            ],
            "type": "surface"
           }
          ],
          "table": [
           {
            "cells": {
             "fill": {
              "color": "#EBF0F8"
             },
             "line": {
              "color": "white"
             }
            },
            "header": {
             "fill": {
              "color": "#C8D4E3"
             },
             "line": {
              "color": "white"
             }
            },
            "type": "table"
           }
          ]
         },
         "layout": {
          "annotationdefaults": {
           "arrowcolor": "#2a3f5f",
           "arrowhead": 0,
           "arrowwidth": 1
          },
          "autotypenumbers": "strict",
          "coloraxis": {
           "colorbar": {
            "outlinewidth": 0,
            "ticks": ""
           }
          },
          "colorscale": {
           "diverging": [
            [
             0,
             "#8e0152"
            ],
            [
             0.1,
             "#c51b7d"
            ],
            [
             0.2,
             "#de77ae"
            ],
            [
             0.3,
             "#f1b6da"
            ],
            [
             0.4,
             "#fde0ef"
            ],
            [
             0.5,
             "#f7f7f7"
            ],
            [
             0.6,
             "#e6f5d0"
            ],
            [
             0.7,
             "#b8e186"
            ],
            [
             0.8,
             "#7fbc41"
            ],
            [
             0.9,
             "#4d9221"
            ],
            [
             1,
             "#276419"
            ]
           ],
           "sequential": [
            [
             0,
             "#0d0887"
            ],
            [
             0.1111111111111111,
             "#46039f"
            ],
            [
             0.2222222222222222,
             "#7201a8"
            ],
            [
             0.3333333333333333,
             "#9c179e"
            ],
            [
             0.4444444444444444,
             "#bd3786"
            ],
            [
             0.5555555555555556,
             "#d8576b"
            ],
            [
             0.6666666666666666,
             "#ed7953"
            ],
            [
             0.7777777777777778,
             "#fb9f3a"
            ],
            [
             0.8888888888888888,
             "#fdca26"
            ],
            [
             1,
             "#f0f921"
            ]
           ],
           "sequentialminus": [
            [
             0,
             "#0d0887"
            ],
            [
             0.1111111111111111,
             "#46039f"
            ],
            [
             0.2222222222222222,
             "#7201a8"
            ],
            [
             0.3333333333333333,
             "#9c179e"
            ],
            [
             0.4444444444444444,
             "#bd3786"
            ],
            [
             0.5555555555555556,
             "#d8576b"
            ],
            [
             0.6666666666666666,
             "#ed7953"
            ],
            [
             0.7777777777777778,
             "#fb9f3a"
            ],
            [
             0.8888888888888888,
             "#fdca26"
            ],
            [
             1,
             "#f0f921"
            ]
           ]
          },
          "colorway": [
           "#636efa",
           "#EF553B",
           "#00cc96",
           "#ab63fa",
           "#FFA15A",
           "#19d3f3",
           "#FF6692",
           "#B6E880",
           "#FF97FF",
           "#FECB52"
          ],
          "font": {
           "color": "#2a3f5f"
          },
          "geo": {
           "bgcolor": "white",
           "lakecolor": "white",
           "landcolor": "#E5ECF6",
           "showlakes": true,
           "showland": true,
           "subunitcolor": "white"
          },
          "hoverlabel": {
           "align": "left"
          },
          "hovermode": "closest",
          "mapbox": {
           "style": "light"
          },
          "paper_bgcolor": "white",
          "plot_bgcolor": "#E5ECF6",
          "polar": {
           "angularaxis": {
            "gridcolor": "white",
            "linecolor": "white",
            "ticks": ""
           },
           "bgcolor": "#E5ECF6",
           "radialaxis": {
            "gridcolor": "white",
            "linecolor": "white",
            "ticks": ""
           }
          },
          "scene": {
           "xaxis": {
            "backgroundcolor": "#E5ECF6",
            "gridcolor": "white",
            "gridwidth": 2,
            "linecolor": "white",
            "showbackground": true,
            "ticks": "",
            "zerolinecolor": "white"
           },
           "yaxis": {
            "backgroundcolor": "#E5ECF6",
            "gridcolor": "white",
            "gridwidth": 2,
            "linecolor": "white",
            "showbackground": true,
            "ticks": "",
            "zerolinecolor": "white"
           },
           "zaxis": {
            "backgroundcolor": "#E5ECF6",
            "gridcolor": "white",
            "gridwidth": 2,
            "linecolor": "white",
            "showbackground": true,
            "ticks": "",
            "zerolinecolor": "white"
           }
          },
          "shapedefaults": {
           "line": {
            "color": "#2a3f5f"
           }
          },
          "ternary": {
           "aaxis": {
            "gridcolor": "white",
            "linecolor": "white",
            "ticks": ""
           },
           "baxis": {
            "gridcolor": "white",
            "linecolor": "white",
            "ticks": ""
           },
           "bgcolor": "#E5ECF6",
           "caxis": {
            "gridcolor": "white",
            "linecolor": "white",
            "ticks": ""
           }
          },
          "title": {
           "x": 0.05
          },
          "xaxis": {
           "automargin": true,
           "gridcolor": "white",
           "linecolor": "white",
           "ticks": "",
           "title": {
            "standoff": 15
           },
           "zerolinecolor": "white",
           "zerolinewidth": 2
          },
          "yaxis": {
           "automargin": true,
           "gridcolor": "white",
           "linecolor": "white",
           "ticks": "",
           "title": {
            "standoff": 15
           },
           "zerolinecolor": "white",
           "zerolinewidth": 2
          }
         }
        },
        "title": {
         "text": "Cross-rank Score vs Tier by Economic Research"
        },
        "width": 1200,
        "xaxis": {
         "anchor": "y",
         "domain": [
          0,
          1
         ],
         "title": {
          "text": "Tier"
         }
        },
        "yaxis": {
         "anchor": "x",
         "domain": [
          0,
          1
         ],
         "title": {
          "text": "Cross-rank Score"
         }
        }
       }
      }
     },
     "metadata": {},
     "output_type": "display_data"
    }
   ],
   "source": [
    "fig = px.scatter(df_tier_rank, \n",
    "                 x=df_tier_rank.index, \n",
    "                 y=\"crscore\", \n",
    "#                trendline=\"lowess\",\n",
    "#                trendline_options=dict(frac=0.5),\n",
    "                 color=\"crscore\",\n",
    "\t\t\t\t size=\"totalcoau\",\n",
    "\t\t\t\t size_max=150,\n",
    "                 color_continuous_scale=px.colors.sequential.Purp,\n",
    "                 text=\"txt\"\n",
    "                 )\n",
    "\n",
    "fig.update_traces(marker=dict(\n",
    "                  line=dict(width=3,\n",
    "                  color='Skyblue')),\n",
    "                  textposition='middle center',\n",
    "\t\t\t\t )\n",
    "\t\t\t\t \n",
    "fig.update_layout(title_text = \"Cross-rank Score vs Tier by Economic Research\",\n",
    "                  xaxis_title = \"Tier\",\n",
    "                  yaxis_title = \"Cross-rank Score\",\n",
    "#                 template = \"plotly_dark\",\n",
    "                  width = 1200,\n",
    "                  height = 800,\n",
    "                  legend=dict(\n",
    "                  yanchor=\"bottom\",\n",
    "                  y=1.00,\n",
    "                  xanchor=\"left\",\n",
    "                  x=0.35\n",
    "                  )\n",
    "                  )\n",
    "fig.show()"
   ]
  },
  {
   "attachments": {},
   "cell_type": "markdown",
   "metadata": {},
   "source": [
    "#### 3.2.7 Save Network to gexf file"
   ]
  },
  {
   "attachments": {},
   "cell_type": "markdown",
   "metadata": {},
   "source": [
    "- Save Network to gexf file for further processing in Gephi\n",
    "- The generated figures can be found in present/graph folder, slides, and final report."
   ]
  },
  {
   "cell_type": "code",
   "execution_count": null,
   "metadata": {},
   "outputs": [],
   "source": [
    "# save to gexf file, and further process in Gephi interface\n",
    "nx.write_gexf(G, 'raw_institutional_network.gexf')\n",
    "nx.write_gexf(G_tier, 'raw_tier_network.gexf')"
   ]
  },
  {
   "attachments": {},
   "cell_type": "markdown",
   "metadata": {},
   "source": [
    "## 4. Dynamic Topic Modeling"
   ]
  },
  {
   "attachments": {},
   "cell_type": "markdown",
   "metadata": {},
   "source": [
    "- In this section, we use BERTopic technique to conduct TM analysis of abstracts collected from 2012-2022."
   ]
  },
  {
   "attachments": {},
   "cell_type": "markdown",
   "metadata": {},
   "source": [
    "### 4.1 Get and Clean Date"
   ]
  },
  {
   "cell_type": "code",
   "execution_count": 41,
   "metadata": {},
   "outputs": [],
   "source": [
    "# connect to database\n",
    "conn = sqlite3.connect(\"../data/econtop.db\")\n",
    "cur = conn.cursor()"
   ]
  },
  {
   "cell_type": "code",
   "execution_count": 56,
   "metadata": {},
   "outputs": [
    {
     "data": {
      "text/html": [
       "<div>\n",
       "<style scoped>\n",
       "    .dataframe tbody tr th:only-of-type {\n",
       "        vertical-align: middle;\n",
       "    }\n",
       "\n",
       "    .dataframe tbody tr th {\n",
       "        vertical-align: top;\n",
       "    }\n",
       "\n",
       "    .dataframe thead th {\n",
       "        text-align: right;\n",
       "    }\n",
       "</style>\n",
       "<table border=\"1\" class=\"dataframe\">\n",
       "  <thead>\n",
       "    <tr style=\"text-align: right;\">\n",
       "      <th></th>\n",
       "      <th>doi</th>\n",
       "      <th>journal</th>\n",
       "      <th>title</th>\n",
       "      <th>abstract</th>\n",
       "      <th>date</th>\n",
       "      <th>name</th>\n",
       "      <th>rank</th>\n",
       "    </tr>\n",
       "  </thead>\n",
       "  <tbody>\n",
       "    <tr>\n",
       "      <th>0</th>\n",
       "      <td>10.1093/rfs/hhr069</td>\n",
       "      <td>Review of Financial Studies</td>\n",
       "      <td>The Inventory Growth Spread</td>\n",
       "      <td>Previous studies show that firms with low inve...</td>\n",
       "      <td>2012-01-15</td>\n",
       "      <td>INSEAD</td>\n",
       "      <td></td>\n",
       "    </tr>\n",
       "    <tr>\n",
       "      <th>2</th>\n",
       "      <td>10.1093/rfs/hhr109</td>\n",
       "      <td>Review of Financial Studies</td>\n",
       "      <td>Takeovers and Divergence of Investor Opinion</td>\n",
       "      <td>We test several hypotheses on how takeover pre...</td>\n",
       "      <td>2012-01-15</td>\n",
       "      <td>New York University</td>\n",
       "      <td>50</td>\n",
       "    </tr>\n",
       "    <tr>\n",
       "      <th>3</th>\n",
       "      <td>10.1093/rfs/hhr081</td>\n",
       "      <td>Review of Financial Studies</td>\n",
       "      <td>Corporate Governance Objectives of Labor Union...</td>\n",
       "      <td>Labor union pension funds have become increasi...</td>\n",
       "      <td>2012-01-15</td>\n",
       "      <td>London School of Economics</td>\n",
       "      <td>1</td>\n",
       "    </tr>\n",
       "    <tr>\n",
       "      <th>4</th>\n",
       "      <td>10.1093/rfs/hhr076</td>\n",
       "      <td>Review of Financial Studies</td>\n",
       "      <td>Managerial Attributes and Executive Compensation</td>\n",
       "      <td>We study the role of firm- and manager-specifi...</td>\n",
       "      <td>2012-01-15</td>\n",
       "      <td>Wilfrid Laurier University</td>\n",
       "      <td></td>\n",
       "    </tr>\n",
       "    <tr>\n",
       "      <th>7</th>\n",
       "      <td>10.1093/rfs/hhr092</td>\n",
       "      <td>Review of Financial Studies</td>\n",
       "      <td>The Road Less Traveled: Strategy Distinctivene...</td>\n",
       "      <td>We investigate whether skilled hedge fund mana...</td>\n",
       "      <td>2012-01-15</td>\n",
       "      <td>University of California, Irvine</td>\n",
       "      <td></td>\n",
       "    </tr>\n",
       "  </tbody>\n",
       "</table>\n",
       "</div>"
      ],
      "text/plain": [
       "                  doi                      journal  \\\n",
       "0  10.1093/rfs/hhr069  Review of Financial Studies   \n",
       "2  10.1093/rfs/hhr109  Review of Financial Studies   \n",
       "3  10.1093/rfs/hhr081  Review of Financial Studies   \n",
       "4  10.1093/rfs/hhr076  Review of Financial Studies   \n",
       "7  10.1093/rfs/hhr092  Review of Financial Studies   \n",
       "\n",
       "                                               title  \\\n",
       "0                        The Inventory Growth Spread   \n",
       "2       Takeovers and Divergence of Investor Opinion   \n",
       "3  Corporate Governance Objectives of Labor Union...   \n",
       "4   Managerial Attributes and Executive Compensation   \n",
       "7  The Road Less Traveled: Strategy Distinctivene...   \n",
       "\n",
       "                                            abstract       date  \\\n",
       "0  Previous studies show that firms with low inve... 2012-01-15   \n",
       "2  We test several hypotheses on how takeover pre... 2012-01-15   \n",
       "3  Labor union pension funds have become increasi... 2012-01-15   \n",
       "4  We study the role of firm- and manager-specifi... 2012-01-15   \n",
       "7  We investigate whether skilled hedge fund mana... 2012-01-15   \n",
       "\n",
       "                               name rank  \n",
       "0                            INSEAD       \n",
       "2               New York University   50  \n",
       "3        London School of Economics    1  \n",
       "4        Wilfrid Laurier University       \n",
       "7  University of California, Irvine       "
      ]
     },
     "execution_count": 56,
     "metadata": {},
     "output_type": "execute_result"
    }
   ],
   "source": [
    "# extract title, abstract, date, and journal from database, starting from 2012-2022\n",
    "q = \"\"\"\n",
    "    SELECT art.doi, art.journal, art.title, art.abstract, art.date, af.name, af.rank\n",
    "    FROM author_article AS aa JOIN author AS au JOIN article AS art JOIN affiliation AS af\n",
    "    ON aa.authorid = au.authorid AND\n",
    "    aa.doi = art.doi AND\n",
    "    au.affiliationid = af.affiliationid\n",
    "    WHERE art.date >= '2012-01-01' AND\n",
    "    art.date < '2023-01-01'\n",
    "    \"\"\"\n",
    "\n",
    "# remove duplicated abstracts, set as strings\n",
    "df = pd.read_sql_query(q, conn).drop_duplicates(subset=[\"abstract\"]).astype(\"str\")\n",
    "df[\"date\"] = pd.to_datetime(df[\"date\"])   # convert date to datetime\n",
    "df = df[(df[\"abstract\"] != \"nan\") & (df[\"abstract\"] != \"N\\A\")].dropna(subset=[\"abstract\"])\n",
    "df.head()"
   ]
  },
  {
   "cell_type": "code",
   "execution_count": 57,
   "metadata": {},
   "outputs": [
    {
     "data": {
      "text/html": [
       "<div>\n",
       "<style scoped>\n",
       "    .dataframe tbody tr th:only-of-type {\n",
       "        vertical-align: middle;\n",
       "    }\n",
       "\n",
       "    .dataframe tbody tr th {\n",
       "        vertical-align: top;\n",
       "    }\n",
       "\n",
       "    .dataframe thead th {\n",
       "        text-align: right;\n",
       "    }\n",
       "</style>\n",
       "<table border=\"1\" class=\"dataframe\">\n",
       "  <thead>\n",
       "    <tr style=\"text-align: right;\">\n",
       "      <th></th>\n",
       "      <th>doi</th>\n",
       "      <th>journal</th>\n",
       "      <th>title</th>\n",
       "      <th>abstract</th>\n",
       "      <th>date</th>\n",
       "      <th>name</th>\n",
       "      <th>rank</th>\n",
       "    </tr>\n",
       "  </thead>\n",
       "  <tbody>\n",
       "    <tr>\n",
       "      <th>15395</th>\n",
       "      <td>10.1093/restud/rdab057</td>\n",
       "      <td>Review of Economic Studies</td>\n",
       "      <td>A Theory of Monetary Union and Financial Integ...</td>\n",
       "      <td>Since the creation of the euro, capital flows ...</td>\n",
       "      <td>2022-08-01</td>\n",
       "      <td>Centre de Recerca en Economia Internacional</td>\n",
       "      <td></td>\n",
       "    </tr>\n",
       "    <tr>\n",
       "      <th>15396</th>\n",
       "      <td>10.1016/j.econmod.2022.105874</td>\n",
       "      <td>Economic Modelling</td>\n",
       "      <td>COVID-19 regulations, culture, and the environ...</td>\n",
       "      <td>The economic and social disruptions caused by ...</td>\n",
       "      <td>2022-08-15</td>\n",
       "      <td>Nanyang Technological University</td>\n",
       "      <td>457</td>\n",
       "    </tr>\n",
       "    <tr>\n",
       "      <th>15397</th>\n",
       "      <td>10.1016/j.euroecorev.2022.104090</td>\n",
       "      <td>European Economic Review</td>\n",
       "      <td>Signalling creditworthiness with fiscal austerity</td>\n",
       "      <td>Sovereign borrowers may tighten their fiscal s...</td>\n",
       "      <td>2022-05-15</td>\n",
       "      <td>Bocconi University</td>\n",
       "      <td></td>\n",
       "    </tr>\n",
       "    <tr>\n",
       "      <th>15398</th>\n",
       "      <td>10.1016/j.econmod.2022.105891</td>\n",
       "      <td>Economic Modelling</td>\n",
       "      <td>Unemployment claims during COVID-19 and econom...</td>\n",
       "      <td>Governments want to know how effective COVID-1...</td>\n",
       "      <td>2022-08-15</td>\n",
       "      <td>University of Macedonia</td>\n",
       "      <td></td>\n",
       "    </tr>\n",
       "    <tr>\n",
       "      <th>15399</th>\n",
       "      <td>10.1016/j.econlet.2022.110806</td>\n",
       "      <td>Economics Letters</td>\n",
       "      <td>The personal saving rate: Data revisions and f...</td>\n",
       "      <td>Revisions to the U.S. personal saving rate are...</td>\n",
       "      <td>2022-10-15</td>\n",
       "      <td>University of Richmond</td>\n",
       "      <td></td>\n",
       "    </tr>\n",
       "  </tbody>\n",
       "</table>\n",
       "</div>"
      ],
      "text/plain": [
       "                                    doi                     journal  \\\n",
       "15395            10.1093/restud/rdab057  Review of Economic Studies   \n",
       "15396     10.1016/j.econmod.2022.105874          Economic Modelling   \n",
       "15397  10.1016/j.euroecorev.2022.104090    European Economic Review   \n",
       "15398     10.1016/j.econmod.2022.105891          Economic Modelling   \n",
       "15399     10.1016/j.econlet.2022.110806           Economics Letters   \n",
       "\n",
       "                                                   title  \\\n",
       "15395  A Theory of Monetary Union and Financial Integ...   \n",
       "15396  COVID-19 regulations, culture, and the environ...   \n",
       "15397  Signalling creditworthiness with fiscal austerity   \n",
       "15398  Unemployment claims during COVID-19 and econom...   \n",
       "15399  The personal saving rate: Data revisions and f...   \n",
       "\n",
       "                                                abstract       date  \\\n",
       "15395  Since the creation of the euro, capital flows ... 2022-08-01   \n",
       "15396  The economic and social disruptions caused by ... 2022-08-15   \n",
       "15397  Sovereign borrowers may tighten their fiscal s... 2022-05-15   \n",
       "15398  Governments want to know how effective COVID-1... 2022-08-15   \n",
       "15399  Revisions to the U.S. personal saving rate are... 2022-10-15   \n",
       "\n",
       "                                              name rank  \n",
       "15395  Centre de Recerca en Economia Internacional       \n",
       "15396             Nanyang Technological University  457  \n",
       "15397                           Bocconi University       \n",
       "15398                      University of Macedonia       \n",
       "15399                       University of Richmond       "
      ]
     },
     "execution_count": 57,
     "metadata": {},
     "output_type": "execute_result"
    }
   ],
   "source": [
    "# generate time bins\n",
    "timebins = []\n",
    "for i in range(2023-2012):\n",
    "    timebins.append((pd.to_datetime(str(i+2012)+\"-01-01\"), pd.to_datetime(str(i+2013)+\"-01-01\")))\n",
    "\n",
    "# sample 1400 articles from each year\n",
    "df_s = pd.concat([df[(df[\"date\"] < bin[1]) & (df[\"date\"] >= bin[0])].sample(n=1400, random_state=0) for bin in timebins]).reset_index(drop=True)\n",
    "df_s.tail(5)"
   ]
  },
  {
   "cell_type": "code",
   "execution_count": 58,
   "metadata": {},
   "outputs": [],
   "source": [
    "# clear stopwords in abstracts\n",
    "sw = stopwords.words(\"english\")+[\"jel\"]\n",
    "df_s.abstract = df_s.abstract.apply(lambda x: \" \".join([word for word in word_tokenize(x.lower()) if word not in sw]))"
   ]
  },
  {
   "cell_type": "code",
   "execution_count": 59,
   "metadata": {},
   "outputs": [],
   "source": [
    "# get cleaned abstracts text and dates\n",
    "abstracts = df_s.abstract.to_list()\n",
    "dates = df_s['date'].to_list()"
   ]
  },
  {
   "attachments": {},
   "cell_type": "markdown",
   "metadata": {},
   "source": [
    "### 4.2 Run BERTopic TM on All Abstracts"
   ]
  },
  {
   "cell_type": "code",
   "execution_count": 60,
   "metadata": {},
   "outputs": [
    {
     "data": {
      "application/vnd.jupyter.widget-view+json": {
       "model_id": "ba260627b80f43a18709cbcddcb83ac9",
       "version_major": 2,
       "version_minor": 0
      },
      "text/plain": [
       "Batches:   0%|          | 0/482 [00:00<?, ?it/s]"
      ]
     },
     "metadata": {},
     "output_type": "display_data"
    },
    {
     "name": "stderr",
     "output_type": "stream",
     "text": [
      "2023-03-06 17:41:16,849 - BERTopic - Transformed documents to Embeddings\n",
      "2023-03-06 17:41:26,934 - BERTopic - Reduced dimensionality\n",
      "2023-03-06 17:41:27,620 - BERTopic - Clustered reduced embeddings\n",
      "60it [00:10,  5.97it/s]\n"
     ]
    }
   ],
   "source": [
    "# n_neighbors: smaller local strcuture lose connection, bigger all connection lose local structure\n",
    "# n_component: dimensionality of reduced dimension space\n",
    "# min_dist: how tightly UMAP is allowed to pack points together\n",
    "umap_model = UMAP(n_neighbors=15, n_components=5, \n",
    "                  min_dist=0.01, metric='euclidean', random_state=1)\n",
    "\n",
    "topic_model = BERTopic(min_topic_size=70,verbose=True,umap_model=umap_model)\n",
    "topics, probs = topic_model.fit_transform(abstracts)\n",
    "topics_over_time = topic_model.topics_over_time(abstracts, dates, evolution_tuning=True, global_tuning=True,  nr_bins=60)"
   ]
  },
  {
   "attachments": {},
   "cell_type": "markdown",
   "metadata": {},
   "source": [
    "#### 4.2.1 Intertopic Distance Map"
   ]
  },
  {
   "cell_type": "code",
   "execution_count": 47,
   "metadata": {},
   "outputs": [
    {
     "data": {
      "application/vnd.plotly.v1+json": {
       "config": {
        "plotlyServerURL": "https://plot.ly"
       },
       "data": [
        {
         "customdata": [
          [
           0,
           "model | financial | policy | risk | shocks",
           5495
          ],
          [
           1,
           "game | agent | games | information | preferences",
           1006
          ],
          [
           2,
           "wage | workers | unemployment | labor | job",
           640
          ],
          [
           3,
           "trade | export | firms | countries | exports",
           586
          ],
          [
           4,
           "consumers | price | firms | competition | market",
           416
          ],
          [
           5,
           "emissions | environmental | energy | pollution | carbon",
           404
          ],
          [
           6,
           "political | voters | elections | vote | electoral",
           338
          ],
          [
           7,
           "students | school | schools | education | student",
           337
          ],
          [
           8,
           "marriage | children | child | fertility | women",
           286
          ],
          [
           9,
           "health | insurance | care | retirement | medicare",
           248
          ],
          [
           10,
           "migration | migrants | immigration | immigrants | labor",
           233
          ],
          [
           11,
           "tax | taxes | income | taxation | capital",
           216
          ],
          [
           12,
           "inequality | income | wealth | consumption | households",
           205
          ],
          [
           13,
           "gender | women | female | men | gap",
           162
          ],
          [
           14,
           "crime | criminal | police | crimes | judges",
           135
          ],
          [
           15,
           "patent | innovation | patents | protection | firms",
           128
          ],
          [
           16,
           "auction | auctions | bidders | bidding | seller",
           128
          ],
          [
           17,
           "land | agricultural | farmers | productivity | agriculture",
           105
          ],
          [
           18,
           "conflict | ethnic | violence | war | civil",
           97
          ],
          [
           19,
           "productivity | growth | knowledge | technology | spillovers",
           83
          ],
          [
           20,
           "infrastructure | cities | road | transport | transportation",
           78
          ],
          [
           21,
           "poverty | households | household | poor | savings",
           73
          ]
         ],
         "hovertemplate": "<b>Topic %{customdata[0]}</b><br>%{customdata[1]}<br>Size: %{customdata[2]}",
         "legendgroup": "",
         "marker": {
          "color": "#B0BEC5",
          "line": {
           "color": "DarkSlateGrey",
           "width": 2
          },
          "size": [
           5495,
           1006,
           640,
           586,
           416,
           404,
           338,
           337,
           286,
           248,
           233,
           216,
           205,
           162,
           135,
           128,
           128,
           105,
           97,
           83,
           78,
           73
          ],
          "sizemode": "area",
          "sizeref": 3.434375,
          "symbol": "circle"
         },
         "mode": "markers",
         "name": "",
         "orientation": "v",
         "showlegend": false,
         "type": "scatter",
         "x": [
          6.66241455078125,
          9.038688659667969,
          5.315857410430908,
          8.390697479248047,
          9.031686782836914,
          5.944714546203613,
          5.567138195037842,
          6.651495456695557,
          7.45191764831543,
          6.310866355895996,
          8.01476764678955,
          5.723104953765869,
          5.294797897338867,
          6.822091579437256,
          6.929264545440674,
          9.435980796813965,
          9.247875213623047,
          6.966599941253662,
          7.55795431137085,
          5.3852009773254395,
          7.791558265686035,
          6.6585187911987305
         ],
         "xaxis": "x",
         "y": [
          8.380230903625488,
          5.967084884643555,
          7.215674877166748,
          6.373410224914551,
          6.352293968200684,
          8.627484321594238,
          7.440246105194092,
          6.751378536224365,
          11.93482494354248,
          7.156313419342041,
          11.313698768615723,
          8.325252532958984,
          6.479565620422363,
          6.621413230895996,
          12.581971168518066,
          6.168751239776611,
          6.5091633796691895,
          11.556744575500488,
          11.350793838500977,
          6.247989654541016,
          11.690154075622559,
          7.409656047821045
         ],
         "yaxis": "y"
        }
       ],
       "layout": {
        "annotations": [
         {
          "showarrow": false,
          "text": "D1",
          "x": 4.500578212738037,
          "y": 9.770644497871398,
          "yshift": 10
         },
         {
          "showarrow": false,
          "text": "D2",
          "x": 7.675978064537048,
          "xshift": 10,
          "y": 14.469266843795776
         }
        ],
        "height": 650,
        "hoverlabel": {
         "bgcolor": "white",
         "font": {
          "family": "Rockwell",
          "size": 16
         }
        },
        "legend": {
         "itemsizing": "constant",
         "tracegroupgap": 0
        },
        "margin": {
         "t": 60
        },
        "shapes": [
         {
          "line": {
           "color": "#CFD8DC",
           "width": 2
          },
          "type": "line",
          "x0": 7.675978064537048,
          "x1": 7.675978064537048,
          "y0": 5.072022151947022,
          "y1": 14.469266843795776
         },
         {
          "line": {
           "color": "#9E9E9E",
           "width": 2
          },
          "type": "line",
          "x0": 4.500578212738037,
          "x1": 10.851377916336059,
          "y0": 9.770644497871398,
          "y1": 9.770644497871398
         }
        ],
        "sliders": [
         {
          "active": 0,
          "pad": {
           "t": 50
          },
          "steps": [
           {
            "args": [
             {
              "marker.color": [
               [
                "red",
                "#B0BEC5",
                "#B0BEC5",
                "#B0BEC5",
                "#B0BEC5",
                "#B0BEC5",
                "#B0BEC5",
                "#B0BEC5",
                "#B0BEC5",
                "#B0BEC5",
                "#B0BEC5",
                "#B0BEC5",
                "#B0BEC5",
                "#B0BEC5",
                "#B0BEC5",
                "#B0BEC5",
                "#B0BEC5",
                "#B0BEC5",
                "#B0BEC5",
                "#B0BEC5",
                "#B0BEC5",
                "#B0BEC5"
               ]
              ]
             }
            ],
            "label": "Topic 0",
            "method": "update"
           },
           {
            "args": [
             {
              "marker.color": [
               [
                "#B0BEC5",
                "red",
                "#B0BEC5",
                "#B0BEC5",
                "#B0BEC5",
                "#B0BEC5",
                "#B0BEC5",
                "#B0BEC5",
                "#B0BEC5",
                "#B0BEC5",
                "#B0BEC5",
                "#B0BEC5",
                "#B0BEC5",
                "#B0BEC5",
                "#B0BEC5",
                "#B0BEC5",
                "#B0BEC5",
                "#B0BEC5",
                "#B0BEC5",
                "#B0BEC5",
                "#B0BEC5",
                "#B0BEC5"
               ]
              ]
             }
            ],
            "label": "Topic 1",
            "method": "update"
           },
           {
            "args": [
             {
              "marker.color": [
               [
                "#B0BEC5",
                "#B0BEC5",
                "red",
                "#B0BEC5",
                "#B0BEC5",
                "#B0BEC5",
                "#B0BEC5",
                "#B0BEC5",
                "#B0BEC5",
                "#B0BEC5",
                "#B0BEC5",
                "#B0BEC5",
                "#B0BEC5",
                "#B0BEC5",
                "#B0BEC5",
                "#B0BEC5",
                "#B0BEC5",
                "#B0BEC5",
                "#B0BEC5",
                "#B0BEC5",
                "#B0BEC5",
                "#B0BEC5"
               ]
              ]
             }
            ],
            "label": "Topic 2",
            "method": "update"
           },
           {
            "args": [
             {
              "marker.color": [
               [
                "#B0BEC5",
                "#B0BEC5",
                "#B0BEC5",
                "red",
                "#B0BEC5",
                "#B0BEC5",
                "#B0BEC5",
                "#B0BEC5",
                "#B0BEC5",
                "#B0BEC5",
                "#B0BEC5",
                "#B0BEC5",
                "#B0BEC5",
                "#B0BEC5",
                "#B0BEC5",
                "#B0BEC5",
                "#B0BEC5",
                "#B0BEC5",
                "#B0BEC5",
                "#B0BEC5",
                "#B0BEC5",
                "#B0BEC5"
               ]
              ]
             }
            ],
            "label": "Topic 3",
            "method": "update"
           },
           {
            "args": [
             {
              "marker.color": [
               [
                "#B0BEC5",
                "#B0BEC5",
                "#B0BEC5",
                "#B0BEC5",
                "red",
                "#B0BEC5",
                "#B0BEC5",
                "#B0BEC5",
                "#B0BEC5",
                "#B0BEC5",
                "#B0BEC5",
                "#B0BEC5",
                "#B0BEC5",
                "#B0BEC5",
                "#B0BEC5",
                "#B0BEC5",
                "#B0BEC5",
                "#B0BEC5",
                "#B0BEC5",
                "#B0BEC5",
                "#B0BEC5",
                "#B0BEC5"
               ]
              ]
             }
            ],
            "label": "Topic 4",
            "method": "update"
           },
           {
            "args": [
             {
              "marker.color": [
               [
                "#B0BEC5",
                "#B0BEC5",
                "#B0BEC5",
                "#B0BEC5",
                "#B0BEC5",
                "red",
                "#B0BEC5",
                "#B0BEC5",
                "#B0BEC5",
                "#B0BEC5",
                "#B0BEC5",
                "#B0BEC5",
                "#B0BEC5",
                "#B0BEC5",
                "#B0BEC5",
                "#B0BEC5",
                "#B0BEC5",
                "#B0BEC5",
                "#B0BEC5",
                "#B0BEC5",
                "#B0BEC5",
                "#B0BEC5"
               ]
              ]
             }
            ],
            "label": "Topic 5",
            "method": "update"
           },
           {
            "args": [
             {
              "marker.color": [
               [
                "#B0BEC5",
                "#B0BEC5",
                "#B0BEC5",
                "#B0BEC5",
                "#B0BEC5",
                "#B0BEC5",
                "red",
                "#B0BEC5",
                "#B0BEC5",
                "#B0BEC5",
                "#B0BEC5",
                "#B0BEC5",
                "#B0BEC5",
                "#B0BEC5",
                "#B0BEC5",
                "#B0BEC5",
                "#B0BEC5",
                "#B0BEC5",
                "#B0BEC5",
                "#B0BEC5",
                "#B0BEC5",
                "#B0BEC5"
               ]
              ]
             }
            ],
            "label": "Topic 6",
            "method": "update"
           },
           {
            "args": [
             {
              "marker.color": [
               [
                "#B0BEC5",
                "#B0BEC5",
                "#B0BEC5",
                "#B0BEC5",
                "#B0BEC5",
                "#B0BEC5",
                "#B0BEC5",
                "red",
                "#B0BEC5",
                "#B0BEC5",
                "#B0BEC5",
                "#B0BEC5",
                "#B0BEC5",
                "#B0BEC5",
                "#B0BEC5",
                "#B0BEC5",
                "#B0BEC5",
                "#B0BEC5",
                "#B0BEC5",
                "#B0BEC5",
                "#B0BEC5",
                "#B0BEC5"
               ]
              ]
             }
            ],
            "label": "Topic 7",
            "method": "update"
           },
           {
            "args": [
             {
              "marker.color": [
               [
                "#B0BEC5",
                "#B0BEC5",
                "#B0BEC5",
                "#B0BEC5",
                "#B0BEC5",
                "#B0BEC5",
                "#B0BEC5",
                "#B0BEC5",
                "red",
                "#B0BEC5",
                "#B0BEC5",
                "#B0BEC5",
                "#B0BEC5",
                "#B0BEC5",
                "#B0BEC5",
                "#B0BEC5",
                "#B0BEC5",
                "#B0BEC5",
                "#B0BEC5",
                "#B0BEC5",
                "#B0BEC5",
                "#B0BEC5"
               ]
              ]
             }
            ],
            "label": "Topic 8",
            "method": "update"
           },
           {
            "args": [
             {
              "marker.color": [
               [
                "#B0BEC5",
                "#B0BEC5",
                "#B0BEC5",
                "#B0BEC5",
                "#B0BEC5",
                "#B0BEC5",
                "#B0BEC5",
                "#B0BEC5",
                "#B0BEC5",
                "red",
                "#B0BEC5",
                "#B0BEC5",
                "#B0BEC5",
                "#B0BEC5",
                "#B0BEC5",
                "#B0BEC5",
                "#B0BEC5",
                "#B0BEC5",
                "#B0BEC5",
                "#B0BEC5",
                "#B0BEC5",
                "#B0BEC5"
               ]
              ]
             }
            ],
            "label": "Topic 9",
            "method": "update"
           },
           {
            "args": [
             {
              "marker.color": [
               [
                "#B0BEC5",
                "#B0BEC5",
                "#B0BEC5",
                "#B0BEC5",
                "#B0BEC5",
                "#B0BEC5",
                "#B0BEC5",
                "#B0BEC5",
                "#B0BEC5",
                "#B0BEC5",
                "red",
                "#B0BEC5",
                "#B0BEC5",
                "#B0BEC5",
                "#B0BEC5",
                "#B0BEC5",
                "#B0BEC5",
                "#B0BEC5",
                "#B0BEC5",
                "#B0BEC5",
                "#B0BEC5",
                "#B0BEC5"
               ]
              ]
             }
            ],
            "label": "Topic 10",
            "method": "update"
           },
           {
            "args": [
             {
              "marker.color": [
               [
                "#B0BEC5",
                "#B0BEC5",
                "#B0BEC5",
                "#B0BEC5",
                "#B0BEC5",
                "#B0BEC5",
                "#B0BEC5",
                "#B0BEC5",
                "#B0BEC5",
                "#B0BEC5",
                "#B0BEC5",
                "red",
                "#B0BEC5",
                "#B0BEC5",
                "#B0BEC5",
                "#B0BEC5",
                "#B0BEC5",
                "#B0BEC5",
                "#B0BEC5",
                "#B0BEC5",
                "#B0BEC5",
                "#B0BEC5"
               ]
              ]
             }
            ],
            "label": "Topic 11",
            "method": "update"
           },
           {
            "args": [
             {
              "marker.color": [
               [
                "#B0BEC5",
                "#B0BEC5",
                "#B0BEC5",
                "#B0BEC5",
                "#B0BEC5",
                "#B0BEC5",
                "#B0BEC5",
                "#B0BEC5",
                "#B0BEC5",
                "#B0BEC5",
                "#B0BEC5",
                "#B0BEC5",
                "red",
                "#B0BEC5",
                "#B0BEC5",
                "#B0BEC5",
                "#B0BEC5",
                "#B0BEC5",
                "#B0BEC5",
                "#B0BEC5",
                "#B0BEC5",
                "#B0BEC5"
               ]
              ]
             }
            ],
            "label": "Topic 12",
            "method": "update"
           },
           {
            "args": [
             {
              "marker.color": [
               [
                "#B0BEC5",
                "#B0BEC5",
                "#B0BEC5",
                "#B0BEC5",
                "#B0BEC5",
                "#B0BEC5",
                "#B0BEC5",
                "#B0BEC5",
                "#B0BEC5",
                "#B0BEC5",
                "#B0BEC5",
                "#B0BEC5",
                "#B0BEC5",
                "red",
                "#B0BEC5",
                "#B0BEC5",
                "#B0BEC5",
                "#B0BEC5",
                "#B0BEC5",
                "#B0BEC5",
                "#B0BEC5",
                "#B0BEC5"
               ]
              ]
             }
            ],
            "label": "Topic 13",
            "method": "update"
           },
           {
            "args": [
             {
              "marker.color": [
               [
                "#B0BEC5",
                "#B0BEC5",
                "#B0BEC5",
                "#B0BEC5",
                "#B0BEC5",
                "#B0BEC5",
                "#B0BEC5",
                "#B0BEC5",
                "#B0BEC5",
                "#B0BEC5",
                "#B0BEC5",
                "#B0BEC5",
                "#B0BEC5",
                "#B0BEC5",
                "red",
                "#B0BEC5",
                "#B0BEC5",
                "#B0BEC5",
                "#B0BEC5",
                "#B0BEC5",
                "#B0BEC5",
                "#B0BEC5"
               ]
              ]
             }
            ],
            "label": "Topic 14",
            "method": "update"
           },
           {
            "args": [
             {
              "marker.color": [
               [
                "#B0BEC5",
                "#B0BEC5",
                "#B0BEC5",
                "#B0BEC5",
                "#B0BEC5",
                "#B0BEC5",
                "#B0BEC5",
                "#B0BEC5",
                "#B0BEC5",
                "#B0BEC5",
                "#B0BEC5",
                "#B0BEC5",
                "#B0BEC5",
                "#B0BEC5",
                "#B0BEC5",
                "red",
                "#B0BEC5",
                "#B0BEC5",
                "#B0BEC5",
                "#B0BEC5",
                "#B0BEC5",
                "#B0BEC5"
               ]
              ]
             }
            ],
            "label": "Topic 15",
            "method": "update"
           },
           {
            "args": [
             {
              "marker.color": [
               [
                "#B0BEC5",
                "#B0BEC5",
                "#B0BEC5",
                "#B0BEC5",
                "#B0BEC5",
                "#B0BEC5",
                "#B0BEC5",
                "#B0BEC5",
                "#B0BEC5",
                "#B0BEC5",
                "#B0BEC5",
                "#B0BEC5",
                "#B0BEC5",
                "#B0BEC5",
                "#B0BEC5",
                "#B0BEC5",
                "red",
                "#B0BEC5",
                "#B0BEC5",
                "#B0BEC5",
                "#B0BEC5",
                "#B0BEC5"
               ]
              ]
             }
            ],
            "label": "Topic 16",
            "method": "update"
           },
           {
            "args": [
             {
              "marker.color": [
               [
                "#B0BEC5",
                "#B0BEC5",
                "#B0BEC5",
                "#B0BEC5",
                "#B0BEC5",
                "#B0BEC5",
                "#B0BEC5",
                "#B0BEC5",
                "#B0BEC5",
                "#B0BEC5",
                "#B0BEC5",
                "#B0BEC5",
                "#B0BEC5",
                "#B0BEC5",
                "#B0BEC5",
                "#B0BEC5",
                "#B0BEC5",
                "red",
                "#B0BEC5",
                "#B0BEC5",
                "#B0BEC5",
                "#B0BEC5"
               ]
              ]
             }
            ],
            "label": "Topic 17",
            "method": "update"
           },
           {
            "args": [
             {
              "marker.color": [
               [
                "#B0BEC5",
                "#B0BEC5",
                "#B0BEC5",
                "#B0BEC5",
                "#B0BEC5",
                "#B0BEC5",
                "#B0BEC5",
                "#B0BEC5",
                "#B0BEC5",
                "#B0BEC5",
                "#B0BEC5",
                "#B0BEC5",
                "#B0BEC5",
                "#B0BEC5",
                "#B0BEC5",
                "#B0BEC5",
                "#B0BEC5",
                "#B0BEC5",
                "red",
                "#B0BEC5",
                "#B0BEC5",
                "#B0BEC5"
               ]
              ]
             }
            ],
            "label": "Topic 18",
            "method": "update"
           },
           {
            "args": [
             {
              "marker.color": [
               [
                "#B0BEC5",
                "#B0BEC5",
                "#B0BEC5",
                "#B0BEC5",
                "#B0BEC5",
                "#B0BEC5",
                "#B0BEC5",
                "#B0BEC5",
                "#B0BEC5",
                "#B0BEC5",
                "#B0BEC5",
                "#B0BEC5",
                "#B0BEC5",
                "#B0BEC5",
                "#B0BEC5",
                "#B0BEC5",
                "#B0BEC5",
                "#B0BEC5",
                "#B0BEC5",
                "red",
                "#B0BEC5",
                "#B0BEC5"
               ]
              ]
             }
            ],
            "label": "Topic 19",
            "method": "update"
           },
           {
            "args": [
             {
              "marker.color": [
               [
                "#B0BEC5",
                "#B0BEC5",
                "#B0BEC5",
                "#B0BEC5",
                "#B0BEC5",
                "#B0BEC5",
                "#B0BEC5",
                "#B0BEC5",
                "#B0BEC5",
                "#B0BEC5",
                "#B0BEC5",
                "#B0BEC5",
                "#B0BEC5",
                "#B0BEC5",
                "#B0BEC5",
                "#B0BEC5",
                "#B0BEC5",
                "#B0BEC5",
                "#B0BEC5",
                "#B0BEC5",
                "red",
                "#B0BEC5"
               ]
              ]
             }
            ],
            "label": "Topic 20",
            "method": "update"
           },
           {
            "args": [
             {
              "marker.color": [
               [
                "#B0BEC5",
                "#B0BEC5",
                "#B0BEC5",
                "#B0BEC5",
                "#B0BEC5",
                "#B0BEC5",
                "#B0BEC5",
                "#B0BEC5",
                "#B0BEC5",
                "#B0BEC5",
                "#B0BEC5",
                "#B0BEC5",
                "#B0BEC5",
                "#B0BEC5",
                "#B0BEC5",
                "#B0BEC5",
                "#B0BEC5",
                "#B0BEC5",
                "#B0BEC5",
                "#B0BEC5",
                "#B0BEC5",
                "red"
               ]
              ]
             }
            ],
            "label": "Topic 21",
            "method": "update"
           }
          ]
         }
        ],
        "template": {
         "data": {
          "bar": [
           {
            "error_x": {
             "color": "rgb(36,36,36)"
            },
            "error_y": {
             "color": "rgb(36,36,36)"
            },
            "marker": {
             "line": {
              "color": "white",
              "width": 0.5
             },
             "pattern": {
              "fillmode": "overlay",
              "size": 10,
              "solidity": 0.2
             }
            },
            "type": "bar"
           }
          ],
          "barpolar": [
           {
            "marker": {
             "line": {
              "color": "white",
              "width": 0.5
             },
             "pattern": {
              "fillmode": "overlay",
              "size": 10,
              "solidity": 0.2
             }
            },
            "type": "barpolar"
           }
          ],
          "carpet": [
           {
            "aaxis": {
             "endlinecolor": "rgb(36,36,36)",
             "gridcolor": "white",
             "linecolor": "white",
             "minorgridcolor": "white",
             "startlinecolor": "rgb(36,36,36)"
            },
            "baxis": {
             "endlinecolor": "rgb(36,36,36)",
             "gridcolor": "white",
             "linecolor": "white",
             "minorgridcolor": "white",
             "startlinecolor": "rgb(36,36,36)"
            },
            "type": "carpet"
           }
          ],
          "choropleth": [
           {
            "colorbar": {
             "outlinewidth": 1,
             "tickcolor": "rgb(36,36,36)",
             "ticks": "outside"
            },
            "type": "choropleth"
           }
          ],
          "contour": [
           {
            "colorbar": {
             "outlinewidth": 1,
             "tickcolor": "rgb(36,36,36)",
             "ticks": "outside"
            },
            "colorscale": [
             [
              0,
              "#440154"
             ],
             [
              0.1111111111111111,
              "#482878"
             ],
             [
              0.2222222222222222,
              "#3e4989"
             ],
             [
              0.3333333333333333,
              "#31688e"
             ],
             [
              0.4444444444444444,
              "#26828e"
             ],
             [
              0.5555555555555556,
              "#1f9e89"
             ],
             [
              0.6666666666666666,
              "#35b779"
             ],
             [
              0.7777777777777778,
              "#6ece58"
             ],
             [
              0.8888888888888888,
              "#b5de2b"
             ],
             [
              1,
              "#fde725"
             ]
            ],
            "type": "contour"
           }
          ],
          "contourcarpet": [
           {
            "colorbar": {
             "outlinewidth": 1,
             "tickcolor": "rgb(36,36,36)",
             "ticks": "outside"
            },
            "type": "contourcarpet"
           }
          ],
          "heatmap": [
           {
            "colorbar": {
             "outlinewidth": 1,
             "tickcolor": "rgb(36,36,36)",
             "ticks": "outside"
            },
            "colorscale": [
             [
              0,
              "#440154"
             ],
             [
              0.1111111111111111,
              "#482878"
             ],
             [
              0.2222222222222222,
              "#3e4989"
             ],
             [
              0.3333333333333333,
              "#31688e"
             ],
             [
              0.4444444444444444,
              "#26828e"
             ],
             [
              0.5555555555555556,
              "#1f9e89"
             ],
             [
              0.6666666666666666,
              "#35b779"
             ],
             [
              0.7777777777777778,
              "#6ece58"
             ],
             [
              0.8888888888888888,
              "#b5de2b"
             ],
             [
              1,
              "#fde725"
             ]
            ],
            "type": "heatmap"
           }
          ],
          "heatmapgl": [
           {
            "colorbar": {
             "outlinewidth": 1,
             "tickcolor": "rgb(36,36,36)",
             "ticks": "outside"
            },
            "colorscale": [
             [
              0,
              "#440154"
             ],
             [
              0.1111111111111111,
              "#482878"
             ],
             [
              0.2222222222222222,
              "#3e4989"
             ],
             [
              0.3333333333333333,
              "#31688e"
             ],
             [
              0.4444444444444444,
              "#26828e"
             ],
             [
              0.5555555555555556,
              "#1f9e89"
             ],
             [
              0.6666666666666666,
              "#35b779"
             ],
             [
              0.7777777777777778,
              "#6ece58"
             ],
             [
              0.8888888888888888,
              "#b5de2b"
             ],
             [
              1,
              "#fde725"
             ]
            ],
            "type": "heatmapgl"
           }
          ],
          "histogram": [
           {
            "marker": {
             "line": {
              "color": "white",
              "width": 0.6
             }
            },
            "type": "histogram"
           }
          ],
          "histogram2d": [
           {
            "colorbar": {
             "outlinewidth": 1,
             "tickcolor": "rgb(36,36,36)",
             "ticks": "outside"
            },
            "colorscale": [
             [
              0,
              "#440154"
             ],
             [
              0.1111111111111111,
              "#482878"
             ],
             [
              0.2222222222222222,
              "#3e4989"
             ],
             [
              0.3333333333333333,
              "#31688e"
             ],
             [
              0.4444444444444444,
              "#26828e"
             ],
             [
              0.5555555555555556,
              "#1f9e89"
             ],
             [
              0.6666666666666666,
              "#35b779"
             ],
             [
              0.7777777777777778,
              "#6ece58"
             ],
             [
              0.8888888888888888,
              "#b5de2b"
             ],
             [
              1,
              "#fde725"
             ]
            ],
            "type": "histogram2d"
           }
          ],
          "histogram2dcontour": [
           {
            "colorbar": {
             "outlinewidth": 1,
             "tickcolor": "rgb(36,36,36)",
             "ticks": "outside"
            },
            "colorscale": [
             [
              0,
              "#440154"
             ],
             [
              0.1111111111111111,
              "#482878"
             ],
             [
              0.2222222222222222,
              "#3e4989"
             ],
             [
              0.3333333333333333,
              "#31688e"
             ],
             [
              0.4444444444444444,
              "#26828e"
             ],
             [
              0.5555555555555556,
              "#1f9e89"
             ],
             [
              0.6666666666666666,
              "#35b779"
             ],
             [
              0.7777777777777778,
              "#6ece58"
             ],
             [
              0.8888888888888888,
              "#b5de2b"
             ],
             [
              1,
              "#fde725"
             ]
            ],
            "type": "histogram2dcontour"
           }
          ],
          "mesh3d": [
           {
            "colorbar": {
             "outlinewidth": 1,
             "tickcolor": "rgb(36,36,36)",
             "ticks": "outside"
            },
            "type": "mesh3d"
           }
          ],
          "parcoords": [
           {
            "line": {
             "colorbar": {
              "outlinewidth": 1,
              "tickcolor": "rgb(36,36,36)",
              "ticks": "outside"
             }
            },
            "type": "parcoords"
           }
          ],
          "pie": [
           {
            "automargin": true,
            "type": "pie"
           }
          ],
          "scatter": [
           {
            "fillpattern": {
             "fillmode": "overlay",
             "size": 10,
             "solidity": 0.2
            },
            "type": "scatter"
           }
          ],
          "scatter3d": [
           {
            "line": {
             "colorbar": {
              "outlinewidth": 1,
              "tickcolor": "rgb(36,36,36)",
              "ticks": "outside"
             }
            },
            "marker": {
             "colorbar": {
              "outlinewidth": 1,
              "tickcolor": "rgb(36,36,36)",
              "ticks": "outside"
             }
            },
            "type": "scatter3d"
           }
          ],
          "scattercarpet": [
           {
            "marker": {
             "colorbar": {
              "outlinewidth": 1,
              "tickcolor": "rgb(36,36,36)",
              "ticks": "outside"
             }
            },
            "type": "scattercarpet"
           }
          ],
          "scattergeo": [
           {
            "marker": {
             "colorbar": {
              "outlinewidth": 1,
              "tickcolor": "rgb(36,36,36)",
              "ticks": "outside"
             }
            },
            "type": "scattergeo"
           }
          ],
          "scattergl": [
           {
            "marker": {
             "colorbar": {
              "outlinewidth": 1,
              "tickcolor": "rgb(36,36,36)",
              "ticks": "outside"
             }
            },
            "type": "scattergl"
           }
          ],
          "scattermapbox": [
           {
            "marker": {
             "colorbar": {
              "outlinewidth": 1,
              "tickcolor": "rgb(36,36,36)",
              "ticks": "outside"
             }
            },
            "type": "scattermapbox"
           }
          ],
          "scatterpolar": [
           {
            "marker": {
             "colorbar": {
              "outlinewidth": 1,
              "tickcolor": "rgb(36,36,36)",
              "ticks": "outside"
             }
            },
            "type": "scatterpolar"
           }
          ],
          "scatterpolargl": [
           {
            "marker": {
             "colorbar": {
              "outlinewidth": 1,
              "tickcolor": "rgb(36,36,36)",
              "ticks": "outside"
             }
            },
            "type": "scatterpolargl"
           }
          ],
          "scatterternary": [
           {
            "marker": {
             "colorbar": {
              "outlinewidth": 1,
              "tickcolor": "rgb(36,36,36)",
              "ticks": "outside"
             }
            },
            "type": "scatterternary"
           }
          ],
          "surface": [
           {
            "colorbar": {
             "outlinewidth": 1,
             "tickcolor": "rgb(36,36,36)",
             "ticks": "outside"
            },
            "colorscale": [
             [
              0,
              "#440154"
             ],
             [
              0.1111111111111111,
              "#482878"
             ],
             [
              0.2222222222222222,
              "#3e4989"
             ],
             [
              0.3333333333333333,
              "#31688e"
             ],
             [
              0.4444444444444444,
              "#26828e"
             ],
             [
              0.5555555555555556,
              "#1f9e89"
             ],
             [
              0.6666666666666666,
              "#35b779"
             ],
             [
              0.7777777777777778,
              "#6ece58"
             ],
             [
              0.8888888888888888,
              "#b5de2b"
             ],
             [
              1,
              "#fde725"
             ]
            ],
            "type": "surface"
           }
          ],
          "table": [
           {
            "cells": {
             "fill": {
              "color": "rgb(237,237,237)"
             },
             "line": {
              "color": "white"
             }
            },
            "header": {
             "fill": {
              "color": "rgb(217,217,217)"
             },
             "line": {
              "color": "white"
             }
            },
            "type": "table"
           }
          ]
         },
         "layout": {
          "annotationdefaults": {
           "arrowhead": 0,
           "arrowwidth": 1
          },
          "autotypenumbers": "strict",
          "coloraxis": {
           "colorbar": {
            "outlinewidth": 1,
            "tickcolor": "rgb(36,36,36)",
            "ticks": "outside"
           }
          },
          "colorscale": {
           "diverging": [
            [
             0,
             "rgb(103,0,31)"
            ],
            [
             0.1,
             "rgb(178,24,43)"
            ],
            [
             0.2,
             "rgb(214,96,77)"
            ],
            [
             0.3,
             "rgb(244,165,130)"
            ],
            [
             0.4,
             "rgb(253,219,199)"
            ],
            [
             0.5,
             "rgb(247,247,247)"
            ],
            [
             0.6,
             "rgb(209,229,240)"
            ],
            [
             0.7,
             "rgb(146,197,222)"
            ],
            [
             0.8,
             "rgb(67,147,195)"
            ],
            [
             0.9,
             "rgb(33,102,172)"
            ],
            [
             1,
             "rgb(5,48,97)"
            ]
           ],
           "sequential": [
            [
             0,
             "#440154"
            ],
            [
             0.1111111111111111,
             "#482878"
            ],
            [
             0.2222222222222222,
             "#3e4989"
            ],
            [
             0.3333333333333333,
             "#31688e"
            ],
            [
             0.4444444444444444,
             "#26828e"
            ],
            [
             0.5555555555555556,
             "#1f9e89"
            ],
            [
             0.6666666666666666,
             "#35b779"
            ],
            [
             0.7777777777777778,
             "#6ece58"
            ],
            [
             0.8888888888888888,
             "#b5de2b"
            ],
            [
             1,
             "#fde725"
            ]
           ],
           "sequentialminus": [
            [
             0,
             "#440154"
            ],
            [
             0.1111111111111111,
             "#482878"
            ],
            [
             0.2222222222222222,
             "#3e4989"
            ],
            [
             0.3333333333333333,
             "#31688e"
            ],
            [
             0.4444444444444444,
             "#26828e"
            ],
            [
             0.5555555555555556,
             "#1f9e89"
            ],
            [
             0.6666666666666666,
             "#35b779"
            ],
            [
             0.7777777777777778,
             "#6ece58"
            ],
            [
             0.8888888888888888,
             "#b5de2b"
            ],
            [
             1,
             "#fde725"
            ]
           ]
          },
          "colorway": [
           "#1F77B4",
           "#FF7F0E",
           "#2CA02C",
           "#D62728",
           "#9467BD",
           "#8C564B",
           "#E377C2",
           "#7F7F7F",
           "#BCBD22",
           "#17BECF"
          ],
          "font": {
           "color": "rgb(36,36,36)"
          },
          "geo": {
           "bgcolor": "white",
           "lakecolor": "white",
           "landcolor": "white",
           "showlakes": true,
           "showland": true,
           "subunitcolor": "white"
          },
          "hoverlabel": {
           "align": "left"
          },
          "hovermode": "closest",
          "mapbox": {
           "style": "light"
          },
          "paper_bgcolor": "white",
          "plot_bgcolor": "white",
          "polar": {
           "angularaxis": {
            "gridcolor": "rgb(232,232,232)",
            "linecolor": "rgb(36,36,36)",
            "showgrid": false,
            "showline": true,
            "ticks": "outside"
           },
           "bgcolor": "white",
           "radialaxis": {
            "gridcolor": "rgb(232,232,232)",
            "linecolor": "rgb(36,36,36)",
            "showgrid": false,
            "showline": true,
            "ticks": "outside"
           }
          },
          "scene": {
           "xaxis": {
            "backgroundcolor": "white",
            "gridcolor": "rgb(232,232,232)",
            "gridwidth": 2,
            "linecolor": "rgb(36,36,36)",
            "showbackground": true,
            "showgrid": false,
            "showline": true,
            "ticks": "outside",
            "zeroline": false,
            "zerolinecolor": "rgb(36,36,36)"
           },
           "yaxis": {
            "backgroundcolor": "white",
            "gridcolor": "rgb(232,232,232)",
            "gridwidth": 2,
            "linecolor": "rgb(36,36,36)",
            "showbackground": true,
            "showgrid": false,
            "showline": true,
            "ticks": "outside",
            "zeroline": false,
            "zerolinecolor": "rgb(36,36,36)"
           },
           "zaxis": {
            "backgroundcolor": "white",
            "gridcolor": "rgb(232,232,232)",
            "gridwidth": 2,
            "linecolor": "rgb(36,36,36)",
            "showbackground": true,
            "showgrid": false,
            "showline": true,
            "ticks": "outside",
            "zeroline": false,
            "zerolinecolor": "rgb(36,36,36)"
           }
          },
          "shapedefaults": {
           "fillcolor": "black",
           "line": {
            "width": 0
           },
           "opacity": 0.3
          },
          "ternary": {
           "aaxis": {
            "gridcolor": "rgb(232,232,232)",
            "linecolor": "rgb(36,36,36)",
            "showgrid": false,
            "showline": true,
            "ticks": "outside"
           },
           "baxis": {
            "gridcolor": "rgb(232,232,232)",
            "linecolor": "rgb(36,36,36)",
            "showgrid": false,
            "showline": true,
            "ticks": "outside"
           },
           "bgcolor": "white",
           "caxis": {
            "gridcolor": "rgb(232,232,232)",
            "linecolor": "rgb(36,36,36)",
            "showgrid": false,
            "showline": true,
            "ticks": "outside"
           }
          },
          "title": {
           "x": 0.05
          },
          "xaxis": {
           "automargin": true,
           "gridcolor": "rgb(232,232,232)",
           "linecolor": "rgb(36,36,36)",
           "showgrid": false,
           "showline": true,
           "ticks": "outside",
           "title": {
            "standoff": 15
           },
           "zeroline": false,
           "zerolinecolor": "rgb(36,36,36)"
          },
          "yaxis": {
           "automargin": true,
           "gridcolor": "rgb(232,232,232)",
           "linecolor": "rgb(36,36,36)",
           "showgrid": false,
           "showline": true,
           "ticks": "outside",
           "title": {
            "standoff": 15
           },
           "zeroline": false,
           "zerolinecolor": "rgb(36,36,36)"
          }
         }
        },
        "title": {
         "font": {
          "color": "Black",
          "size": 22
         },
         "text": "<b>Intertopic Distance Map</b>",
         "x": 0.5,
         "xanchor": "center",
         "y": 0.95,
         "yanchor": "top"
        },
        "width": 650,
        "xaxis": {
         "anchor": "y",
         "domain": [
          0,
          1
         ],
         "range": [
          4.500578212738037,
          10.851377916336059
         ],
         "title": {
          "text": ""
         },
         "visible": false
        },
        "yaxis": {
         "anchor": "x",
         "domain": [
          0,
          1
         ],
         "range": [
          5.072022151947022,
          14.469266843795776
         ],
         "title": {
          "text": ""
         },
         "visible": false
        }
       }
      }
     },
     "metadata": {},
     "output_type": "display_data"
    }
   ],
   "source": [
    "topic_model.visualize_topics()"
   ]
  },
  {
   "attachments": {},
   "cell_type": "markdown",
   "metadata": {},
   "source": [
    "#### 4.2.2 Dynamic Topic Trends Over Time"
   ]
  },
  {
   "cell_type": "code",
   "execution_count": 48,
   "metadata": {},
   "outputs": [
    {
     "data": {
      "application/vnd.plotly.v1+json": {
       "config": {
        "plotlyServerURL": "https://plot.ly"
       },
       "data": [
        {
         "hoverinfo": "text",
         "hovertext": [
          "<b>Topic 0</b><br>Words: financial, model, risk, oxford, press",
          "<b>Topic 0</b><br>Words: financial, model, debt, risk, paper",
          "<b>Topic 0</b><br>Words: financial, model, risk, press, oxford",
          "<b>Topic 0</b><br>Words: model, financial, risk, oxford, press",
          "<b>Topic 0</b><br>Words: financial, model, paper, capital, inflation",
          "<b>Topic 0</b><br>Words: model, financial, stock, risk, rate",
          "<b>Topic 0</b><br>Words: financial, model, policy, rate, risk",
          "<b>Topic 0</b><br>Words: financial, model, risk, monetary, paper",
          "<b>Topic 0</b><br>Words: model, financial, paper, market, risk",
          "<b>Topic 0</b><br>Words: shocks, oil, model, price, interest",
          "<b>Topic 0</b><br>Words: financial, model, oxford, press, university",
          "<b>Topic 0</b><br>Words: model, financial, volatility, paper, risk",
          "<b>Topic 0</b><br>Words: model, financial, rate, debt, policy",
          "<b>Topic 0</b><br>Words: model, financial, liquidity, paper, risk",
          "<b>Topic 0</b><br>Words: model, rate, returns, stock, financial",
          "<b>Topic 0</b><br>Words: model, financial, monetary, policy, shocks",
          "<b>Topic 0</b><br>Words: model, financial, inflation, volatility, monetary",
          "<b>Topic 0</b><br>Words: financial, model, banks, policy, inflation",
          "<b>Topic 0</b><br>Words: model, risk, financial, volatility, returns",
          "<b>Topic 0</b><br>Words: model, financial, policy, interest, rate",
          "<b>Topic 0</b><br>Words: model, policy, monetary, inflation, financial",
          "<b>Topic 0</b><br>Words: model, financial, shocks, risk, stock",
          "<b>Topic 0</b><br>Words: model, debt, financial, policy, volatility",
          "<b>Topic 0</b><br>Words: model, financial, capital, policy, shocks",
          "<b>Topic 0</b><br>Words: banks, credit, lending, financial, borrowers",
          "<b>Topic 0</b><br>Words: model, financial, policy, market, inflation",
          "<b>Topic 0</b><br>Words: model, debt, policy, financial, credit",
          "<b>Topic 0</b><br>Words: financial, model, inflation, policy, monetary",
          "<b>Topic 0</b><br>Words: model, financial, debt, investors, policy",
          "<b>Topic 0</b><br>Words: model, financial, monetary, policy, effects",
          "<b>Topic 0</b><br>Words: model, financial, banks, risk, shocks",
          "<b>Topic 0</b><br>Words: financial, model, banks, debt, capital",
          "<b>Topic 0</b><br>Words: model, financial, banks, monetary, policy",
          "<b>Topic 0</b><br>Words: model, risk, financial, policy, credit",
          "<b>Topic 0</b><br>Words: financial, models, model, policy, market",
          "<b>Topic 0</b><br>Words: financial, model, inflation, banks, stock",
          "<b>Topic 0</b><br>Words: model, financial, shocks, monetary, policy",
          "<b>Topic 0</b><br>Words: model, shocks, policy, monetary, rate",
          "<b>Topic 0</b><br>Words: policy, model, shocks, paper, financial",
          "<b>Topic 0</b><br>Words: model, financial, risk, rate, debt",
          "<b>Topic 0</b><br>Words: financial, risk, shocks, monetary, policy",
          "<b>Topic 0</b><br>Words: model, financial, debt, shocks, risk",
          "<b>Topic 0</b><br>Words: debt, financial, model, risk, market",
          "<b>Topic 0</b><br>Words: model, policy, risk, bank, monetary",
          "<b>Topic 0</b><br>Words: model, financial, shocks, paper, policy",
          "<b>Topic 0</b><br>Words: policy, inflation, model, financial, monetary",
          "<b>Topic 0</b><br>Words: model, financial, policy, bank, credit",
          "<b>Topic 0</b><br>Words: model, risk, financial, policy, monetary",
          "<b>Topic 0</b><br>Words: model, monetary, credit, policy, financial",
          "<b>Topic 0</b><br>Words: model, policy, financial, shocks, market",
          "<b>Topic 0</b><br>Words: model, financial, market, prices, stock",
          "<b>Topic 0</b><br>Words: model, financial, policy, debt, market",
          "<b>Topic 0</b><br>Words: model, financial, policy, shocks, monetary",
          "<b>Topic 0</b><br>Words: banks, bank, policy, model, financial",
          "<b>Topic 0</b><br>Words: model, financial, policy, shocks, debt",
          "<b>Topic 0</b><br>Words: model, risk, firms, policy, shocks",
          "<b>Topic 0</b><br>Words: shocks, model, risk, policy, financial",
          "<b>Topic 0</b><br>Words: banks, monetary, model, policy, financial",
          "<b>Topic 0</b><br>Words: model, debt, shocks, monetary, inflation",
          "<b>Topic 0</b><br>Words: banks, credit, model, risk, policy"
         ],
         "marker": {
          "color": "#E69F00"
         },
         "mode": "lines",
         "name": "0_model_financial_policy_risk",
         "type": "scatter",
         "x": [
          "2011-12-27T23:58:33.600000",
          "2012-03-07T16:24:00",
          "2012-05-13T08:48:00",
          "2012-07-19T01:12:00",
          "2012-09-23T17:36:00",
          "2012-11-29T10:00:00",
          "2013-02-04T02:24:00",
          "2013-04-11T18:48:00",
          "2013-06-17T11:12:00",
          "2013-08-23T03:36:00",
          "2013-10-28T20:00:00",
          "2014-01-03T12:24:00",
          "2014-03-11T04:48:00",
          "2014-05-16T21:12:00",
          "2014-07-22T13:36:00",
          "2014-09-27T06:00:00",
          "2014-12-02T22:24:00",
          "2015-02-07T14:48:00",
          "2015-04-15T07:12:00",
          "2015-06-20T23:36:00",
          "2015-08-26T16:00:00",
          "2015-11-01T08:24:00",
          "2016-01-07T00:48:00",
          "2016-03-13T17:12:00",
          "2016-05-19T09:36:00",
          "2016-07-25T02:00:00",
          "2016-09-29T18:24:00",
          "2016-12-05T10:48:00",
          "2017-02-10T03:12:00",
          "2017-04-17T19:36:00",
          "2017-06-23T12:00:00",
          "2017-08-29T04:24:00",
          "2017-11-03T20:48:00",
          "2018-01-09T13:12:00",
          "2018-03-17T05:36:00",
          "2018-05-22T22:00:00",
          "2018-07-28T14:24:00",
          "2018-10-03T06:48:00",
          "2018-12-08T23:12:00",
          "2019-02-13T15:36:00",
          "2019-04-21T08:00:00",
          "2019-06-27T00:24:00",
          "2019-09-01T16:48:00",
          "2019-11-07T09:12:00",
          "2020-01-13T01:36:00",
          "2020-03-19T18:00:00",
          "2020-05-25T10:24:00",
          "2020-07-31T02:48:00",
          "2020-10-05T19:12:00",
          "2020-12-11T11:36:00",
          "2021-02-16T04:00:00",
          "2021-04-23T20:24:00",
          "2021-06-29T12:48:00",
          "2021-09-04T05:12:00",
          "2021-11-09T21:36:00",
          "2022-01-15T14:00:00",
          "2022-03-23T06:24:00",
          "2022-05-28T22:48:00",
          "2022-08-03T15:12:00",
          "2022-10-09T07:36:00"
         ],
         "y": [
          73,
          88,
          147,
          82,
          104,
          115,
          88,
          100,
          103,
          81,
          69,
          113,
          107,
          57,
          69,
          91,
          79,
          102,
          80,
          75,
          63,
          117,
          94,
          112,
          71,
          90,
          119,
          89,
          100,
          84,
          95,
          67,
          113,
          118,
          83,
          75,
          122,
          88,
          90,
          107,
          83,
          71,
          92,
          90,
          96,
          78,
          95,
          101,
          95,
          134,
          82,
          88,
          75,
          65,
          103,
          77,
          84,
          90,
          86,
          90
         ]
        },
        {
         "hoverinfo": "text",
         "hovertext": [
          "<b>Topic 1</b><br>Words: subjects, sick, games, agent, effort",
          "<b>Topic 1</b><br>Words: strategies, prizes, players, contracting, treatments",
          "<b>Topic 1</b><br>Words: game, preferences, information, strotz, choice",
          "<b>Topic 1</b><br>Words: game, behavior, reciprocity, agent, decision",
          "<b>Topic 1</b><br>Words: game, players, player, hawkish, probability",
          "<b>Topic 1</b><br>Words: utility, preferences, risk, cooperation, discounting",
          "<b>Topic 1</b><br>Words: sdr, cooperation, preferences, truthfulness, players",
          "<b>Topic 1</b><br>Words: risk, aversion, choice, preferences, agent",
          "<b>Topic 1</b><br>Words: player, theory, games, players, prospect",
          "<b>Topic 1</b><br>Words: color, social, preferences, game, agents",
          "<b>Topic 1</b><br>Words: agent, game, contract, subjects, choice",
          "<b>Topic 1</b><br>Words: game, preferences, euu, games, agent",
          "<b>Topic 1</b><br>Words: game, choice, behavior, model, experimental",
          "<b>Topic 1</b><br>Words: games, behavior, social, crowd, choices",
          "<b>Topic 1</b><br>Words: contract, advice, willfully, ignorant, dictators",
          "<b>Topic 1</b><br>Words: utility, ambiguity, games, agents, risk",
          "<b>Topic 1</b><br>Words: information, games, agent, public, optimal",
          "<b>Topic 1</b><br>Words: contract, agent, principal, social, rewards",
          "<b>Topic 1</b><br>Words: subjects, game, experiments, agent, social",
          "<b>Topic 1</b><br>Words: intertemporal, wtpwta, choices, players, load",
          "<b>Topic 1</b><br>Words: group, juggling, suggestions, choice, refund",
          "<b>Topic 1</b><br>Words: preferences, uncertainty, social, preference, decision",
          "<b>Topic 1</b><br>Words: samuelson, information, games, bads, utility",
          "<b>Topic 1</b><br>Words: games, people, behavior, game, beliefs",
          "<b>Topic 1</b><br>Words: subjects, figure, effect, agent, experimental",
          "<b>Topic 1</b><br>Words: game, agent, decision, trustors, subjects",
          "<b>Topic 1</b><br>Words: cognitive, ingroup, social, subjects, reasoning",
          "<b>Topic 1</b><br>Words: progress, project, repetitions, principal, agent",
          "<b>Topic 1</b><br>Words: agent, information, principal, preferences, subjects",
          "<b>Topic 1</b><br>Words: players, punishment, player, hyperbolic, preferences",
          "<b>Topic 1</b><br>Words: norms, status, payers, english, games",
          "<b>Topic 1</b><br>Words: utility, agents, optimal, choice, decision",
          "<b>Topic 1</b><br>Words: agent, games, information, players, game",
          "<b>Topic 1</b><br>Words: preferences, risk, games, behavior, experiment",
          "<b>Topic 1</b><br>Words: agent, repeated, esr, favoritism, games",
          "<b>Topic 1</b><br>Words: subjects, loving, risk, action, game",
          "<b>Topic 1</b><br>Words: agent, group, rule, effort, optimal",
          "<b>Topic 1</b><br>Words: cooperation, player, fgf, players, action",
          "<b>Topic 1</b><br>Words: agent, risk, monitors, utility, mss",
          "<b>Topic 1</b><br>Words: game, games, information, signals, equilibrium",
          "<b>Topic 1</b><br>Words: games, moral, game, social, preferences",
          "<b>Topic 1</b><br>Words: payoffs, information, games, preferences, proposals",
          "<b>Topic 1</b><br>Words: information, experiment, game, social, bonuses",
          "<b>Topic 1</b><br>Words: game, individual, subjects, games, behavior",
          "<b>Topic 1</b><br>Words: tipping, game, task, contests, equilibrium",
          "<b>Topic 1</b><br>Words: equilibrium, players, games, game, utility",
          "<b>Topic 1</b><br>Words: preferences, decision, subjects, game, players",
          "<b>Topic 1</b><br>Words: persuaders, players, games, equilibrium, bestresponse",
          "<b>Topic 1</b><br>Words: agent, principal, information, equilibrium, effort",
          "<b>Topic 1</b><br>Words: choices, nonworkers, others, agent, endowment",
          "<b>Topic 1</b><br>Words: principal, agents, agent, choice, game",
          "<b>Topic 1</b><br>Words: information, preferences, beliefs, social, games",
          "<b>Topic 1</b><br>Words: subjects, behavior, earned, choice, social",
          "<b>Topic 1</b><br>Words: game, information, subjects, narrow, decision",
          "<b>Topic 1</b><br>Words: maker, utility, information, games, equilibrium",
          "<b>Topic 1</b><br>Words: agent, feedback, subjects, deadline, coordination",
          "<b>Topic 1</b><br>Words: beliefs, players, game, choice, moral",
          "<b>Topic 1</b><br>Words: person, preferences, signal, subjects, games",
          "<b>Topic 1</b><br>Words: subjects, experiments, salience, beliefs, games",
          "<b>Topic 1</b><br>Words: moral, behavior, nlk, games, game"
         ],
         "marker": {
          "color": "#56B4E9"
         },
         "mode": "lines",
         "name": "1_game_agent_games_information",
         "type": "scatter",
         "x": [
          "2011-12-27T23:58:33.600000",
          "2012-03-07T16:24:00",
          "2012-05-13T08:48:00",
          "2012-07-19T01:12:00",
          "2012-09-23T17:36:00",
          "2012-11-29T10:00:00",
          "2013-02-04T02:24:00",
          "2013-04-11T18:48:00",
          "2013-06-17T11:12:00",
          "2013-08-23T03:36:00",
          "2013-10-28T20:00:00",
          "2014-01-03T12:24:00",
          "2014-03-11T04:48:00",
          "2014-05-16T21:12:00",
          "2014-07-22T13:36:00",
          "2014-09-27T06:00:00",
          "2014-12-02T22:24:00",
          "2015-02-07T14:48:00",
          "2015-04-15T07:12:00",
          "2015-06-20T23:36:00",
          "2015-08-26T16:00:00",
          "2015-11-01T08:24:00",
          "2016-01-07T00:48:00",
          "2016-03-13T17:12:00",
          "2016-05-19T09:36:00",
          "2016-07-25T02:00:00",
          "2016-09-29T18:24:00",
          "2016-12-05T10:48:00",
          "2017-02-10T03:12:00",
          "2017-04-17T19:36:00",
          "2017-06-23T12:00:00",
          "2017-08-29T04:24:00",
          "2017-11-03T20:48:00",
          "2018-01-09T13:12:00",
          "2018-03-17T05:36:00",
          "2018-05-22T22:00:00",
          "2018-07-28T14:24:00",
          "2018-10-03T06:48:00",
          "2018-12-08T23:12:00",
          "2019-02-13T15:36:00",
          "2019-04-21T08:00:00",
          "2019-06-27T00:24:00",
          "2019-09-01T16:48:00",
          "2019-11-07T09:12:00",
          "2020-01-13T01:36:00",
          "2020-03-19T18:00:00",
          "2020-05-25T10:24:00",
          "2020-07-31T02:48:00",
          "2020-10-05T19:12:00",
          "2020-12-11T11:36:00",
          "2021-02-16T04:00:00",
          "2021-04-23T20:24:00",
          "2021-06-29T12:48:00",
          "2021-09-04T05:12:00",
          "2021-11-09T21:36:00",
          "2022-01-15T14:00:00",
          "2022-03-23T06:24:00",
          "2022-05-28T22:48:00",
          "2022-08-03T15:12:00",
          "2022-10-09T07:36:00"
         ],
         "y": [
          14,
          10,
          24,
          12,
          16,
          17,
          15,
          18,
          15,
          20,
          22,
          15,
          27,
          18,
          9,
          19,
          18,
          20,
          25,
          12,
          12,
          11,
          9,
          28,
          15,
          20,
          16,
          8,
          19,
          23,
          13,
          15,
          18,
          23,
          9,
          14,
          24,
          13,
          12,
          16,
          19,
          15,
          20,
          21,
          13,
          18,
          22,
          18,
          19,
          14,
          12,
          25,
          15,
          18,
          15,
          12,
          15,
          24,
          13,
          14
         ]
        },
        {
         "hoverinfo": "text",
         "hovertext": [
          "<b>Topic 2</b><br>Words: wage, unemployment, workers, wages, hiring",
          "<b>Topic 2</b><br>Words: workers, wage, wages, labor, trade",
          "<b>Topic 2</b><br>Words: wage, workers, employment, labor, wages",
          "<b>Topic 2</b><br>Words: workers, hours, wage, jobs, skill",
          "<b>Topic 2</b><br>Words: workers, job, wage, unemployment, employment",
          "<b>Topic 2</b><br>Words: wage, labor, job, wages, workers",
          "<b>Topic 2</b><br>Words: wage, workers, outsourcing, labor, skill",
          "<b>Topic 2</b><br>Words: wage, workers, labor, job, unemployment",
          "<b>Topic 2</b><br>Words: wage, workers, labor, job, wages",
          "<b>Topic 2</b><br>Words: wage, labor, unemployment, wages, employment",
          "<b>Topic 2</b><br>Words: wage, workers, unemployment, search, labor",
          "<b>Topic 2</b><br>Words: labor, workers, employment, wage, unemployment",
          "<b>Topic 2</b><br>Words: wage, unemployment, labor, workers, matching",
          "<b>Topic 2</b><br>Words: wage, workers, wages, worker, jobs",
          "<b>Topic 2</b><br>Words: workers, job, worker, unemployment, wage",
          "<b>Topic 2</b><br>Words: wage, workers, wages, unemployment, worker",
          "<b>Topic 2</b><br>Words: wage, unemployment, worker, sector, labor",
          "<b>Topic 2</b><br>Words: unemployment, search, workers, benefits, job",
          "<b>Topic 2</b><br>Words: workers, unemployment, labor, wage, job",
          "<b>Topic 2</b><br>Words: layers, unemployment, workers, firms, unemployed",
          "<b>Topic 2</b><br>Words: workers, labor, unemployment, search, wage",
          "<b>Topic 2</b><br>Words: labor, workers, wage, unemployment, market",
          "<b>Topic 2</b><br>Words: workers, unemployment, wage, employment, apprentices",
          "<b>Topic 2</b><br>Words: wage, unemployment, workers, search, wages",
          "<b>Topic 2</b><br>Words: labor, sweatshop, search, employment, workers",
          "<b>Topic 2</b><br>Words: importing, labour, movers, workers, unemployment",
          "<b>Topic 2</b><br>Words: unemployment, workers, rotation, job, wage",
          "<b>Topic 2</b><br>Words: unemployment, job, wage, employment, labor",
          "<b>Topic 2</b><br>Words: wage, workers, unemployment, employment, job",
          "<b>Topic 2</b><br>Words: wage, labor, workers, job, unemployment",
          "<b>Topic 2</b><br>Words: job, unemployment, labor, search, workers",
          "<b>Topic 2</b><br>Words: labor, workers, job, wage, unemployment",
          "<b>Topic 2</b><br>Words: unemployment, search, workers, wage, labor",
          "<b>Topic 2</b><br>Words: workers, wage, labor, globalization, employment",
          "<b>Topic 2</b><br>Words: unemployment, workers, wage, labor, firms",
          "<b>Topic 2</b><br>Words: unemployment, job, workers, labor, search",
          "<b>Topic 2</b><br>Words: job, wage, search, workers, recruiting",
          "<b>Topic 2</b><br>Words: wage, workers, unemployment, job, labor",
          "<b>Topic 2</b><br>Words: wage, employment, unemployment, workers, labor",
          "<b>Topic 2</b><br>Words: unemployment, wage, employment, workers, labor",
          "<b>Topic 2</b><br>Words: workers, unemployment, wage, employment, labor",
          "<b>Topic 2</b><br>Words: wage, job, search, minimum, employment",
          "<b>Topic 2</b><br>Words: wage, employment, workers, unemployment, labor",
          "<b>Topic 2</b><br>Words: workers, wage, labor, recruiting, job",
          "<b>Topic 2</b><br>Words: job, unions, labor, employment, unemployment",
          "<b>Topic 2</b><br>Words: skills, wages, wage, skill, workers",
          "<b>Topic 2</b><br>Words: workers, wage, skills, trade, jobs",
          "<b>Topic 2</b><br>Words: workers, wage, labor, unemployment, jobs",
          "<b>Topic 2</b><br>Words: workers, wage, unemployment, employers, labor",
          "<b>Topic 2</b><br>Words: unemployment, labor, workers, wage, job",
          "<b>Topic 2</b><br>Words: employment, workers, wages, wage, fixedterm",
          "<b>Topic 2</b><br>Words: job, search, wage, workers, unemployment",
          "<b>Topic 2</b><br>Words: unemployment, stw, workers, labor, union",
          "<b>Topic 2</b><br>Words: labor, workers, wage, employment, wages",
          "<b>Topic 2</b><br>Words: workers, wage, wages, employment, labor",
          "<b>Topic 2</b><br>Words: wage, minimum, unemployment, insurance, employees",
          "<b>Topic 2</b><br>Words: workers, unemployment, job, search, wage",
          "<b>Topic 2</b><br>Words: workers, job, wage, search, unemployment",
          "<b>Topic 2</b><br>Words: labor, wage, workers, employment, job",
          "<b>Topic 2</b><br>Words: labor, job, unemployment, wage, workers"
         ],
         "marker": {
          "color": "#009E73"
         },
         "mode": "lines",
         "name": "2_wage_workers_unemployment_labor",
         "type": "scatter",
         "x": [
          "2011-12-27T23:58:33.600000",
          "2012-03-07T16:24:00",
          "2012-05-13T08:48:00",
          "2012-07-19T01:12:00",
          "2012-09-23T17:36:00",
          "2012-11-29T10:00:00",
          "2013-02-04T02:24:00",
          "2013-04-11T18:48:00",
          "2013-06-17T11:12:00",
          "2013-08-23T03:36:00",
          "2013-10-28T20:00:00",
          "2014-01-03T12:24:00",
          "2014-03-11T04:48:00",
          "2014-05-16T21:12:00",
          "2014-07-22T13:36:00",
          "2014-09-27T06:00:00",
          "2014-12-02T22:24:00",
          "2015-02-07T14:48:00",
          "2015-04-15T07:12:00",
          "2015-06-20T23:36:00",
          "2015-08-26T16:00:00",
          "2015-11-01T08:24:00",
          "2016-01-07T00:48:00",
          "2016-03-13T17:12:00",
          "2016-05-19T09:36:00",
          "2016-07-25T02:00:00",
          "2016-09-29T18:24:00",
          "2016-12-05T10:48:00",
          "2017-02-10T03:12:00",
          "2017-04-17T19:36:00",
          "2017-06-23T12:00:00",
          "2017-08-29T04:24:00",
          "2017-11-03T20:48:00",
          "2018-01-09T13:12:00",
          "2018-03-17T05:36:00",
          "2018-05-22T22:00:00",
          "2018-07-28T14:24:00",
          "2018-10-03T06:48:00",
          "2018-12-08T23:12:00",
          "2019-02-13T15:36:00",
          "2019-04-21T08:00:00",
          "2019-06-27T00:24:00",
          "2019-09-01T16:48:00",
          "2019-11-07T09:12:00",
          "2020-01-13T01:36:00",
          "2020-03-19T18:00:00",
          "2020-05-25T10:24:00",
          "2020-07-31T02:48:00",
          "2020-10-05T19:12:00",
          "2020-12-11T11:36:00",
          "2021-02-16T04:00:00",
          "2021-04-23T20:24:00",
          "2021-06-29T12:48:00",
          "2021-09-04T05:12:00",
          "2021-11-09T21:36:00",
          "2022-01-15T14:00:00",
          "2022-03-23T06:24:00",
          "2022-05-28T22:48:00",
          "2022-08-03T15:12:00",
          "2022-10-09T07:36:00"
         ],
         "y": [
          13,
          9,
          21,
          5,
          11,
          14,
          12,
          16,
          9,
          12,
          12,
          11,
          10,
          5,
          6,
          11,
          6,
          11,
          18,
          7,
          10,
          19,
          8,
          22,
          6,
          4,
          9,
          9,
          8,
          12,
          5,
          12,
          23,
          8,
          15,
          11,
          9,
          8,
          10,
          10,
          15,
          9,
          10,
          9,
          8,
          6,
          8,
          15,
          6,
          14,
          8,
          8,
          6,
          8,
          13,
          6,
          15,
          16,
          12,
          11
         ]
        },
        {
         "hoverinfo": "text",
         "hovertext": [
          "<b>Topic 3</b><br>Words: trade, export, firms, prices, exports",
          "<b>Topic 3</b><br>Words: trade, export, vax, bilateral, exports",
          "<b>Topic 3</b><br>Words: trade, export, countries, model, quality",
          "<b>Topic 3</b><br>Words: trade, export, distance, exporting, firms",
          "<b>Topic 3</b><br>Words: trade, liberalization, security, 911, export",
          "<b>Topic 3</b><br>Words: trade, tariff, mp, varieties, tariffs",
          "<b>Topic 3</b><br>Words: trade, export, country, oman, exports",
          "<b>Topic 3</b><br>Words: trade, export, import, firms, model",
          "<b>Topic 3</b><br>Words: trade, firms, spiders, snakes, country",
          "<b>Topic 3</b><br>Words: trade, countries, services, exports, export",
          "<b>Topic 3</b><br>Words: trade, exporters, grh, export, wto",
          "<b>Topic 3</b><br>Words: trade, countries, export, gains, cge",
          "<b>Topic 3</b><br>Words: trade, countries, export, exports, firms",
          "<b>Topic 3</b><br>Words: trade, export, exporters, passthrough, multilateral",
          "<b>Topic 3</b><br>Words: trade, export, firm, firms, countries",
          "<b>Topic 3</b><br>Words: trade, export, model, exports, costs",
          "<b>Topic 3</b><br>Words: trade, walmex, export, tariffs, factorproportions",
          "<b>Topic 3</b><br>Words: trade, export, welfare, logistic, quality",
          "<b>Topic 3</b><br>Words: trade, exports, export, rmb, firms",
          "<b>Topic 3</b><br>Words: trade, export, audiovisual, services, bilateral",
          "<b>Topic 3</b><br>Words: trade, costs, export, gravity, tariff",
          "<b>Topic 3</b><br>Words: trade, export, countries, exports, firms",
          "<b>Topic 3</b><br>Words: trade, tariff, export, welfare, firm",
          "<b>Topic 3</b><br>Words: trade, export, goods, firms, countries",
          "<b>Topic 3</b><br>Words: trade, exports, export, exporters, processing",
          "<b>Topic 3</b><br>Words: trade, tariffs, export, costs, quality",
          "<b>Topic 3</b><br>Words: trade, tariffs, tariff, export, ptas",
          "<b>Topic 3</b><br>Words: trade, importing, exports, tariff, export",
          "<b>Topic 3</b><br>Words: trade, multinational, export, foreign, wolf",
          "<b>Topic 3</b><br>Words: trade, export, firms, foreign, esr",
          "<b>Topic 3</b><br>Words: ssm, tariffs, specific, trade, export",
          "<b>Topic 3</b><br>Words: trade, export, tariff, global, comparative",
          "<b>Topic 3</b><br>Words: trade, export, quality, tariffs, products",
          "<b>Topic 3</b><br>Words: trade, firms, export, quality, international",
          "<b>Topic 3</b><br>Words: nontariff, trade, ttip, ptas, cus",
          "<b>Topic 3</b><br>Words: trade, ttip, export, spinoffs, international",
          "<b>Topic 3</b><br>Words: trade, firms, countries, export, tariff",
          "<b>Topic 3</b><br>Words: trade, export, firms, exports, quality",
          "<b>Topic 3</b><br>Words: trade, firms, divisionalization, ftas, exports",
          "<b>Topic 3</b><br>Words: trade, export, firms, firm, products",
          "<b>Topic 3</b><br>Words: trade, quality, export, firm, internet",
          "<b>Topic 3</b><br>Words: gains, trade, tfpr, plants, tradables",
          "<b>Topic 3</b><br>Words: trade, countries, disadvantaged, firms, import",
          "<b>Topic 3</b><br>Words: trade, export, ad, fdi, ptas",
          "<b>Topic 3</b><br>Words: trade, tariff, firms, export, tariffs",
          "<b>Topic 3</b><br>Words: trade, services, tariff, manufacturing, tariffs",
          "<b>Topic 3</b><br>Words: trade, export, headquarters, washers, gravity",
          "<b>Topic 3</b><br>Words: trade, wto, export, exports, firms",
          "<b>Topic 3</b><br>Words: trade, empire, products, tariff, firms",
          "<b>Topic 3</b><br>Words: trade, ta, export, ratification, korea",
          "<b>Topic 3</b><br>Words: trade, export, firms, sectoral, model",
          "<b>Topic 3</b><br>Words: exports, trade, export, firms, import",
          "<b>Topic 3</b><br>Words: trade, export, firms, exporting, exporters",
          "<b>Topic 3</b><br>Words: trade, countries, overcapacity, steel, tariff",
          "<b>Topic 3</b><br>Words: trade, export, firms, exports, gsc",
          "<b>Topic 3</b><br>Words: trade, quality, product, costs, gains",
          "<b>Topic 3</b><br>Words: trade, scope, cannibalization, intranational, products",
          "<b>Topic 3</b><br>Words: trade, firms, export, tpu, tariffs",
          "<b>Topic 3</b><br>Words: trade, firms, ft, 3d, products",
          "<b>Topic 3</b><br>Words: trade, export, products, ntms, countries"
         ],
         "marker": {
          "color": "#F0E442"
         },
         "mode": "lines",
         "name": "3_trade_export_firms_countries",
         "type": "scatter",
         "x": [
          "2011-12-27T23:58:33.600000",
          "2012-03-07T16:24:00",
          "2012-05-13T08:48:00",
          "2012-07-19T01:12:00",
          "2012-09-23T17:36:00",
          "2012-11-29T10:00:00",
          "2013-02-04T02:24:00",
          "2013-04-11T18:48:00",
          "2013-06-17T11:12:00",
          "2013-08-23T03:36:00",
          "2013-10-28T20:00:00",
          "2014-01-03T12:24:00",
          "2014-03-11T04:48:00",
          "2014-05-16T21:12:00",
          "2014-07-22T13:36:00",
          "2014-09-27T06:00:00",
          "2014-12-02T22:24:00",
          "2015-02-07T14:48:00",
          "2015-04-15T07:12:00",
          "2015-06-20T23:36:00",
          "2015-08-26T16:00:00",
          "2015-11-01T08:24:00",
          "2016-01-07T00:48:00",
          "2016-03-13T17:12:00",
          "2016-05-19T09:36:00",
          "2016-07-25T02:00:00",
          "2016-09-29T18:24:00",
          "2016-12-05T10:48:00",
          "2017-02-10T03:12:00",
          "2017-04-17T19:36:00",
          "2017-06-23T12:00:00",
          "2017-08-29T04:24:00",
          "2017-11-03T20:48:00",
          "2018-01-09T13:12:00",
          "2018-03-17T05:36:00",
          "2018-05-22T22:00:00",
          "2018-07-28T14:24:00",
          "2018-10-03T06:48:00",
          "2018-12-08T23:12:00",
          "2019-02-13T15:36:00",
          "2019-04-21T08:00:00",
          "2019-06-27T00:24:00",
          "2019-09-01T16:48:00",
          "2019-11-07T09:12:00",
          "2020-01-13T01:36:00",
          "2020-03-19T18:00:00",
          "2020-05-25T10:24:00",
          "2020-07-31T02:48:00",
          "2020-10-05T19:12:00",
          "2020-12-11T11:36:00",
          "2021-02-16T04:00:00",
          "2021-04-23T20:24:00",
          "2021-06-29T12:48:00",
          "2021-09-04T05:12:00",
          "2021-11-09T21:36:00",
          "2022-01-15T14:00:00",
          "2022-03-23T06:24:00",
          "2022-05-28T22:48:00",
          "2022-08-03T15:12:00",
          "2022-10-09T07:36:00"
         ],
         "y": [
          12,
          6,
          18,
          12,
          9,
          8,
          13,
          14,
          11,
          11,
          9,
          17,
          17,
          7,
          11,
          11,
          6,
          12,
          11,
          9,
          15,
          11,
          14,
          15,
          10,
          11,
          9,
          10,
          6,
          10,
          2,
          13,
          9,
          21,
          5,
          9,
          13,
          11,
          13,
          9,
          4,
          2,
          4,
          5,
          14,
          6,
          6,
          10,
          4,
          5,
          7,
          5,
          11,
          10,
          15,
          7,
          4,
          12,
          8,
          7
         ]
        },
        {
         "hoverinfo": "text",
         "hovertext": [
          "<b>Topic 4</b><br>Words: price, consumers, consumer, market, firms",
          "<b>Topic 4</b><br>Words: consumers, product, toys, consumer, vertical",
          "<b>Topic 4</b><br>Words: price, consumers, firms, merger, soe",
          "<b>Topic 4</b><br>Words: consumers, price, equilibrium, prices, firms",
          "<b>Topic 4</b><br>Words: manufacturer, dominance, lmf, duopoly, dominant",
          "<b>Topic 4</b><br>Words: merger, pricing, price, postmerger, ticket",
          "<b>Topic 4</b><br>Words: demand, rprs, subsidy, consumers, competition",
          "<b>Topic 4</b><br>Words: mergers, consumers, firms, firm, market",
          "<b>Topic 4</b><br>Words: customization, customers, newspaper, credulous, markets",
          "<b>Topic 4</b><br>Words: merger, competition, electronic, immunity, organizational",
          "<b>Topic 4</b><br>Words: software, price, hardware, consumers, secondary",
          "<b>Topic 4</b><br>Words: manufacturer, retailers, price, bundling, consumers",
          "<b>Topic 4</b><br>Words: platform, mobile, competition, price, app",
          "<b>Topic 4</b><br>Words: transshipment, price, consumers, competition, underground",
          "<b>Topic 4</b><br>Words: consumers, products, firms, product, monopolist",
          "<b>Topic 4</b><br>Words: consumers, price, mergers, rcnl, nl",
          "<b>Topic 4</b><br>Words: consumers, prices, price, opec, firms",
          "<b>Topic 4</b><br>Words: consumers, entry, price, prices, competition",
          "<b>Topic 4</b><br>Words: privatization, dtca, consumers, consumer, price",
          "<b>Topic 4</b><br>Words: intermediary, mouth, word, buyers, prices",
          "<b>Topic 4</b><br>Words: fares, markets, incumbent, theories, capacitybased",
          "<b>Topic 4</b><br>Words: consumers, firms, price, oligopoly, market",
          "<b>Topic 4</b><br>Words: price, consumers, neutrality, separation, network",
          "<b>Topic 4</b><br>Words: quality, media, consumers, product, firm",
          "<b>Topic 4</b><br>Words: covenant, rebates, rowat, consumers, arbitrage",
          "<b>Topic 4</b><br>Words: peakload, price, advertising, consumers, pricing",
          "<b>Topic 4</b><br>Words: vertical, partial, interim, merger, deal",
          "<b>Topic 4</b><br>Words: broker, exclusively, data, quality, qualities",
          "<b>Topic 4</b><br>Words: product, vertical, consumers, market, products",
          "<b>Topic 4</b><br>Words: consumers, products, navetbased, discrimination, product",
          "<b>Topic 4</b><br>Words: merger, consumers, mme, firms, entrant",
          "<b>Topic 4</b><br>Words: slotting, search, price, inaction, consumers",
          "<b>Topic 4</b><br>Words: competition, makers, price, passengers, market",
          "<b>Topic 4</b><br>Words: advertising, consumers, consumer, platforms, firms",
          "<b>Topic 4</b><br>Words: entry, consumer, buyers, search, price",
          "<b>Topic 4</b><br>Words: intermediation, competition, prices, product, merger",
          "<b>Topic 4</b><br>Words: competition, recapture, merger, price, losers",
          "<b>Topic 4</b><br>Words: ancillary, good, acquisitions, price, cartels",
          "<b>Topic 4</b><br>Words: retailer, manufacturer, bargaining, consumers, supplier",
          "<b>Topic 4</b><br>Words: price, cable, competition, firms, equilibrium",
          "<b>Topic 4</b><br>Words: cartels, consumers, bonus, merger, competition",
          "<b>Topic 4</b><br>Words: cp, search, consumer, zerorating, loyalty",
          "<b>Topic 4</b><br>Words: dos, price, flash, consumers, discrimination",
          "<b>Topic 4</b><br>Words: mergers, buyer, merger, power, price",
          "<b>Topic 4</b><br>Words: price, mergers, antitrust, zerorating, information",
          "<b>Topic 4</b><br>Words: beliefs, restriction, stores, search, players",
          "<b>Topic 4</b><br>Words: vertical, consumers, platform, restaurants, platforms",
          "<b>Topic 4</b><br>Words: privatization, licensing, oligopoly, private, firm",
          "<b>Topic 4</b><br>Words: collusion, price, mergers, platform, consumers",
          "<b>Topic 4</b><br>Words: consumers, price, cartel, base, customer",
          "<b>Topic 4</b><br>Words: consumers, gift, cards, price, firms",
          "<b>Topic 4</b><br>Words: equilibrium, consumers, input, firm, price",
          "<b>Topic 4</b><br>Words: advertising, count, roi, price, ppos",
          "<b>Topic 4</b><br>Words: merger, price, firm, firms, consumers",
          "<b>Topic 4</b><br>Words: incumbents, entry, rebate, retailer, demand",
          "<b>Topic 4</b><br>Words: consumers, competition, cashless, firms, consumer",
          "<b>Topic 4</b><br>Words: consumers, pricing, welfare, market, quality",
          "<b>Topic 4</b><br>Words: consumers, mergers, vitamin, hosts, merger",
          "<b>Topic 4</b><br>Words: profitability, gross, booktomarket, pronouncedauthors, reaping",
          "<b>Topic 4</b><br>Words: compatibility, acquirer, crossownership, mergers, merger"
         ],
         "marker": {
          "color": "#D55E00"
         },
         "mode": "lines",
         "name": "4_consumers_price_firms_competition",
         "type": "scatter",
         "x": [
          "2011-12-27T23:58:33.600000",
          "2012-03-07T16:24:00",
          "2012-05-13T08:48:00",
          "2012-07-19T01:12:00",
          "2012-09-23T17:36:00",
          "2012-11-29T10:00:00",
          "2013-02-04T02:24:00",
          "2013-04-11T18:48:00",
          "2013-06-17T11:12:00",
          "2013-08-23T03:36:00",
          "2013-10-28T20:00:00",
          "2014-01-03T12:24:00",
          "2014-03-11T04:48:00",
          "2014-05-16T21:12:00",
          "2014-07-22T13:36:00",
          "2014-09-27T06:00:00",
          "2014-12-02T22:24:00",
          "2015-02-07T14:48:00",
          "2015-04-15T07:12:00",
          "2015-06-20T23:36:00",
          "2015-08-26T16:00:00",
          "2015-11-01T08:24:00",
          "2016-01-07T00:48:00",
          "2016-03-13T17:12:00",
          "2016-05-19T09:36:00",
          "2016-07-25T02:00:00",
          "2016-09-29T18:24:00",
          "2016-12-05T10:48:00",
          "2017-02-10T03:12:00",
          "2017-04-17T19:36:00",
          "2017-06-23T12:00:00",
          "2017-08-29T04:24:00",
          "2017-11-03T20:48:00",
          "2018-01-09T13:12:00",
          "2018-03-17T05:36:00",
          "2018-05-22T22:00:00",
          "2018-07-28T14:24:00",
          "2018-10-03T06:48:00",
          "2018-12-08T23:12:00",
          "2019-02-13T15:36:00",
          "2019-04-21T08:00:00",
          "2019-06-27T00:24:00",
          "2019-09-01T16:48:00",
          "2019-11-07T09:12:00",
          "2020-01-13T01:36:00",
          "2020-03-19T18:00:00",
          "2020-05-25T10:24:00",
          "2020-07-31T02:48:00",
          "2020-10-05T19:12:00",
          "2020-12-11T11:36:00",
          "2021-02-16T04:00:00",
          "2021-04-23T20:24:00",
          "2021-06-29T12:48:00",
          "2021-09-04T05:12:00",
          "2021-11-09T21:36:00",
          "2022-01-15T14:00:00",
          "2022-03-23T06:24:00",
          "2022-05-28T22:48:00",
          "2022-08-03T15:12:00",
          "2022-10-09T07:36:00"
         ],
         "y": [
          8,
          8,
          12,
          11,
          10,
          11,
          6,
          8,
          4,
          8,
          5,
          11,
          9,
          10,
          10,
          8,
          10,
          9,
          9,
          3,
          2,
          13,
          9,
          4,
          5,
          6,
          3,
          2,
          11,
          4,
          7,
          4,
          6,
          5,
          10,
          8,
          5,
          5,
          5,
          8,
          7,
          4,
          8,
          4,
          6,
          3,
          8,
          2,
          11,
          9,
          4,
          8,
          4,
          9,
          5,
          6,
          10,
          8,
          1,
          7
         ]
        },
        {
         "hoverinfo": "text",
         "hovertext": [
          "<b>Topic 5</b><br>Words: mortality, emissions, damages, muller, mendelsohn",
          "<b>Topic 5</b><br>Words: emissions, energy, electrification, electricity, pollution",
          "<b>Topic 5</b><br>Words: environmental, emissions, electricity, energy, carbon",
          "<b>Topic 5</b><br>Words: nuclear, energy, electricity, emissions, fuel",
          "<b>Topic 5</b><br>Words: emissions, deforestation, percapita, co2, climate",
          "<b>Topic 5</b><br>Words: energy, emissions, vehicle, environmental, development",
          "<b>Topic 5</b><br>Words: benthamrawls, urban, environmental, emissions, bentham",
          "<b>Topic 5</b><br>Words: leakage, emissions, environmental, auditors, gas",
          "<b>Topic 5</b><br>Words: emissions, environmental, pollution, carbon, energy",
          "<b>Topic 5</b><br>Words: energy, scc, abatement, emissions, fuel",
          "<b>Topic 5</b><br>Words: emissions, auditors, environmental, plants, scc",
          "<b>Topic 5</b><br>Words: energy, environmental, nonrenewable, emissions, emission",
          "<b>Topic 5</b><br>Words: emissions, electricity, climate, gas, fuel",
          "<b>Topic 5</b><br>Words: emissions, energy, carbon, pollution, coal",
          "<b>Topic 5</b><br>Words: emissions, sequential, electricity, directional, pollution",
          "<b>Topic 5</b><br>Words: pollution, water, air, regulations, gasoline",
          "<b>Topic 5</b><br>Words: energy, coal, emissions, environmental, consumption",
          "<b>Topic 5</b><br>Words: environmental, energy, emissions, carbon, climate",
          "<b>Topic 5</b><br>Words: energy, environmental, pollution, electricity, emissions",
          "<b>Topic 5</b><br>Words: carbon, caaa, fossil, quintile, fuel",
          "<b>Topic 5</b><br>Words: energy, inefficiency, environmental, cities, emissions",
          "<b>Topic 5</b><br>Words: pollution, energy, environmental, emissions, renewable",
          "<b>Topic 5</b><br>Words: emissions, co2, carbon, energy, environmental",
          "<b>Topic 5</b><br>Words: environmental, pollution, daily, solar, shortages",
          "<b>Topic 5</b><br>Words: environmental, electricity, hour, flexibility, production",
          "<b>Topic 5</b><br>Words: solar, energy, fuels, fossil, laws",
          "<b>Topic 5</b><br>Words: environmental, biocarbon, unilateral, polluting, tcz",
          "<b>Topic 5</b><br>Words: carbon, environmental, tipping, climate, energy",
          "<b>Topic 5</b><br>Words: energy, emissions, fossil, adaptation, mitigation",
          "<b>Topic 5</b><br>Words: pollution, water, emissions, air, energy",
          "<b>Topic 5</b><br>Words: environmental, pollution, tax, emissions, china",
          "<b>Topic 5</b><br>Words: energy, emissions, environmental, carbon, electricity",
          "<b>Topic 5</b><br>Words: carbon, conservation, emissions, emission, leakage",
          "<b>Topic 5</b><br>Words: energy, space, pollution, emissions, environmental",
          "<b>Topic 5</b><br>Words: attributebased, attribute, weightbased, doublenotched, regulationswe",
          "<b>Topic 5</b><br>Words: environmental, pollution, emissions, ecs, air",
          "<b>Topic 5</b><br>Words: energy, costs, climate, environmental, emissions",
          "<b>Topic 5</b><br>Words: pollution, feebate, coal, emissions, agent",
          "<b>Topic 5</b><br>Words: climate, carbon, deniers, ton, maxmin",
          "<b>Topic 5</b><br>Words: energy, emissions, pollution, environmental, green",
          "<b>Topic 5</b><br>Words: dioxide, carbon, pollution, emissions, environmental",
          "<b>Topic 5</b><br>Words: pollution, environmental, air, water, act",
          "<b>Topic 5</b><br>Words: carbon, emissions, sc, smoke, rc",
          "<b>Topic 5</b><br>Words: energy, emissions, environmental, pollution, air",
          "<b>Topic 5</b><br>Words: energy, emissions, environmental, rural, carbon",
          "<b>Topic 5</b><br>Words: emissions, pollution, environmental, climate, air",
          "<b>Topic 5</b><br>Words: pollution, environmental, biomass, electricity, environment",
          "<b>Topic 5</b><br>Words: pollution, optin, emissions, air, environmental",
          "<b>Topic 5</b><br>Words: environmental, fires, water, harmonization, emissions",
          "<b>Topic 5</b><br>Words: environmental, emissions, pollution, energy, emission",
          "<b>Topic 5</b><br>Words: environmental, fuel, emissions, plants, audit",
          "<b>Topic 5</b><br>Words: pollution, gpgs, emissions, environmental, energy",
          "<b>Topic 5</b><br>Words: emissions, carbon, environmental, capita, toxic",
          "<b>Topic 5</b><br>Words: eip, environmental, carbon, pollution, emissions",
          "<b>Topic 5</b><br>Words: emissions, carbon, delegation, climate, energy",
          "<b>Topic 5</b><br>Words: pollution, cny, environmental, km, toxic",
          "<b>Topic 5</b><br>Words: electricity, environmental, wetland, degradation, climate",
          "<b>Topic 5</b><br>Words: investments, sustainability, agreements, consumers, fixedcost",
          "<b>Topic 5</b><br>Words: climate, emissions, carbon, abatement, policy",
          "<b>Topic 5</b><br>Words: emissions, carbon, environmental, pollution, energy"
         ],
         "marker": {
          "color": "#0072B2"
         },
         "mode": "lines",
         "name": "5_emissions_environmental_energy_polluti...",
         "type": "scatter",
         "x": [
          "2011-12-27T23:58:33.600000",
          "2012-03-07T16:24:00",
          "2012-05-13T08:48:00",
          "2012-07-19T01:12:00",
          "2012-09-23T17:36:00",
          "2012-11-29T10:00:00",
          "2013-02-04T02:24:00",
          "2013-04-11T18:48:00",
          "2013-06-17T11:12:00",
          "2013-08-23T03:36:00",
          "2013-10-28T20:00:00",
          "2014-01-03T12:24:00",
          "2014-03-11T04:48:00",
          "2014-05-16T21:12:00",
          "2014-07-22T13:36:00",
          "2014-09-27T06:00:00",
          "2014-12-02T22:24:00",
          "2015-02-07T14:48:00",
          "2015-04-15T07:12:00",
          "2015-06-20T23:36:00",
          "2015-08-26T16:00:00",
          "2015-11-01T08:24:00",
          "2016-01-07T00:48:00",
          "2016-03-13T17:12:00",
          "2016-05-19T09:36:00",
          "2016-07-25T02:00:00",
          "2016-09-29T18:24:00",
          "2016-12-05T10:48:00",
          "2017-02-10T03:12:00",
          "2017-04-17T19:36:00",
          "2017-06-23T12:00:00",
          "2017-08-29T04:24:00",
          "2017-11-03T20:48:00",
          "2018-01-09T13:12:00",
          "2018-03-17T05:36:00",
          "2018-05-22T22:00:00",
          "2018-07-28T14:24:00",
          "2018-10-03T06:48:00",
          "2018-12-08T23:12:00",
          "2019-02-13T15:36:00",
          "2019-04-21T08:00:00",
          "2019-06-27T00:24:00",
          "2019-09-01T16:48:00",
          "2019-11-07T09:12:00",
          "2020-01-13T01:36:00",
          "2020-03-19T18:00:00",
          "2020-05-25T10:24:00",
          "2020-07-31T02:48:00",
          "2020-10-05T19:12:00",
          "2020-12-11T11:36:00",
          "2021-02-16T04:00:00",
          "2021-04-23T20:24:00",
          "2021-06-29T12:48:00",
          "2021-09-04T05:12:00",
          "2021-11-09T21:36:00",
          "2022-01-15T14:00:00",
          "2022-03-23T06:24:00",
          "2022-05-28T22:48:00",
          "2022-08-03T15:12:00",
          "2022-10-09T07:36:00"
         ],
         "y": [
          5,
          8,
          10,
          9,
          6,
          7,
          5,
          10,
          9,
          7,
          4,
          10,
          10,
          8,
          5,
          4,
          4,
          10,
          19,
          2,
          4,
          10,
          11,
          7,
          5,
          4,
          4,
          6,
          8,
          6,
          3,
          15,
          5,
          8,
          1,
          6,
          8,
          4,
          1,
          10,
          5,
          5,
          6,
          7,
          6,
          10,
          4,
          9,
          3,
          10,
          5,
          8,
          5,
          6,
          6,
          4,
          7,
          2,
          5,
          13
         ]
        },
        {
         "hoverinfo": "text",
         "hovertext": [
          "<b>Topic 6</b><br>Words: issues, elections, voters, preferences, voting",
          "<b>Topic 6</b><br>Words: voter, voting, median, voters, reforms",
          "<b>Topic 6</b><br>Words: lobbying, slant, articles, political, parties",
          "<b>Topic 6</b><br>Words: funding, political, bureaucrats, mayors, electoral",
          "<b>Topic 6</b><br>Words: voters, bodies, voting, expressive, government",
          "<b>Topic 6</b><br>Words: countryspecific, democracy, acemoglu, vanishes, positive",
          "<b>Topic 6</b><br>Words: corruption, political, voter, campaign, development",
          "<b>Topic 6</b><br>Words: voting, runoff, voters, politicians, democracy",
          "<b>Topic 6</b><br>Words: political, elections, norms, municipal, transgressions",
          "<b>Topic 6</b><br>Words: reforms, democracy, protest, reelection, electorally",
          "<b>Topic 6</b><br>Words: political, candidates, decentralization, voter, corruption",
          "<b>Topic 6</b><br>Words: corruption, voters, rsa, political, candidates",
          "<b>Topic 6</b><br>Words: accountability, nvs, citizens, village, participate",
          "<b>Topic 6</b><br>Words: political, government, democracy, policy, media",
          "<b>Topic 6</b><br>Words: lobbying, senators, politicians, commercial, elections",
          "<b>Topic 6</b><br>Words: political, parties, pr, pbcs, party",
          "<b>Topic 6</b><br>Words: politicians, election, valence, connections, voters",
          "<b>Topic 6</b><br>Words: newspapers, political, voters, ideological, voter",
          "<b>Topic 6</b><br>Words: corrupt, experts, legislators, districts, voteswitching",
          "<b>Topic 6</b><br>Words: political, overseas, voters, information, democracy",
          "<b>Topic 6</b><br>Words: advocacy, voters, political, meps, groups",
          "<b>Topic 6</b><br>Words: political, radio, donating, propaganda, candidates",
          "<b>Topic 6</b><br>Words: lobbying, voters, political, expenditures, western",
          "<b>Topic 6</b><br>Words: lobbying, locals, career, voting, provincial",
          "<b>Topic 6</b><br>Words: rents, semiindex, elections, coalitions, anonymous",
          "<b>Topic 6</b><br>Words: elections, candidates, mayors, voters, corruption",
          "<b>Topic 6</b><br>Words: voters, voting, corruption, political, media",
          "<b>Topic 6</b><br>Words: referenda, civic, lobbying, democracy, freeriding",
          "<b>Topic 6</b><br>Words: information, petitions, citizens, protests, aggregation",
          "<b>Topic 6</b><br>Words: political, voters, fine, voting, electoral",
          "<b>Topic 6</b><br>Words: party, posts, competence, voters, parties",
          "<b>Topic 6</b><br>Words: politicians, political, elections, mayors, electoral",
          "<b>Topic 6</b><br>Words: oldregime, political, voters, mayors, competence",
          "<b>Topic 6</b><br>Words: compromisers, electoral, voters, party, protests",
          "<b>Topic 6</b><br>Words: voters, subjects, vote, corruption, electorates",
          "<b>Topic 6</b><br>Words: voting, elections, voters, election, political",
          "<b>Topic 6</b><br>Words: political, voters, elections, media, candidate",
          "<b>Topic 6</b><br>Words: legislators, corruption, government, labour, patronage",
          "<b>Topic 6</b><br>Words: party, parties, campaign, media, gubernatorial",
          "<b>Topic 6</b><br>Words: cadenas, politician, elected, dropoff, noncongruent",
          "<b>Topic 6</b><br>Words: protest, turnout, voters, voter, political",
          "<b>Topic 6</b><br>Words: populist, voters, economic, political, berlusconi",
          "<b>Topic 6</b><br>Words: parties, procurement, voters, partisan, government",
          "<b>Topic 6</b><br>Words: public, voting, goods, accused, vote",
          "<b>Topic 6</b><br>Words: party, politician, eligibility, government, elections",
          "<b>Topic 6</b><br>Words: elections, state, turnout, political, polarization",
          "<b>Topic 6</b><br>Words: parties, party, voted, voters, polarization",
          "<b>Topic 6</b><br>Words: political, candidates, voters, candidate, vk",
          "<b>Topic 6</b><br>Words: democratic, presidential, rightward, elections, republican",
          "<b>Topic 6</b><br>Words: corruption, media, activists, political, voter",
          "<b>Topic 6</b><br>Words: news, senators, media, outlets, counterattitudinal",
          "<b>Topic 6</b><br>Words: voters, political, electoral, vote, elections",
          "<b>Topic 6</b><br>Words: bots, media, social, twitter, vote",
          "<b>Topic 6</b><br>Words: shootings, mass, gun, corruption, bureaucratic",
          "<b>Topic 6</b><br>Words: voters, political, electoral, voter, vote",
          "<b>Topic 6</b><br>Words: political, recycling, voters, vote, party",
          "<b>Topic 6</b><br>Words: voters, polarization, tweets, anticorruption, audits",
          "<b>Topic 6</b><br>Words: competence, kin, transparency, voters, candidates",
          "<b>Topic 6</b><br>Words: voters, trump, elections, political, clinton",
          "<b>Topic 6</b><br>Words: voters, media, political, vulnerability, coups"
         ],
         "marker": {
          "color": "#CC79A7"
         },
         "mode": "lines",
         "name": "6_political_voters_elections_vote",
         "type": "scatter",
         "x": [
          "2011-12-27T23:58:33.600000",
          "2012-03-07T16:24:00",
          "2012-05-13T08:48:00",
          "2012-07-19T01:12:00",
          "2012-09-23T17:36:00",
          "2012-11-29T10:00:00",
          "2013-02-04T02:24:00",
          "2013-04-11T18:48:00",
          "2013-06-17T11:12:00",
          "2013-08-23T03:36:00",
          "2013-10-28T20:00:00",
          "2014-01-03T12:24:00",
          "2014-03-11T04:48:00",
          "2014-05-16T21:12:00",
          "2014-07-22T13:36:00",
          "2014-09-27T06:00:00",
          "2014-12-02T22:24:00",
          "2015-02-07T14:48:00",
          "2015-04-15T07:12:00",
          "2015-06-20T23:36:00",
          "2015-08-26T16:00:00",
          "2015-11-01T08:24:00",
          "2016-01-07T00:48:00",
          "2016-03-13T17:12:00",
          "2016-05-19T09:36:00",
          "2016-07-25T02:00:00",
          "2016-09-29T18:24:00",
          "2016-12-05T10:48:00",
          "2017-02-10T03:12:00",
          "2017-04-17T19:36:00",
          "2017-06-23T12:00:00",
          "2017-08-29T04:24:00",
          "2017-11-03T20:48:00",
          "2018-01-09T13:12:00",
          "2018-03-17T05:36:00",
          "2018-05-22T22:00:00",
          "2018-07-28T14:24:00",
          "2018-10-03T06:48:00",
          "2018-12-08T23:12:00",
          "2019-02-13T15:36:00",
          "2019-04-21T08:00:00",
          "2019-06-27T00:24:00",
          "2019-09-01T16:48:00",
          "2019-11-07T09:12:00",
          "2020-01-13T01:36:00",
          "2020-03-19T18:00:00",
          "2020-05-25T10:24:00",
          "2020-07-31T02:48:00",
          "2020-10-05T19:12:00",
          "2020-12-11T11:36:00",
          "2021-02-16T04:00:00",
          "2021-04-23T20:24:00",
          "2021-06-29T12:48:00",
          "2021-09-04T05:12:00",
          "2021-11-09T21:36:00",
          "2022-01-15T14:00:00",
          "2022-03-23T06:24:00",
          "2022-05-28T22:48:00",
          "2022-08-03T15:12:00",
          "2022-10-09T07:36:00"
         ],
         "y": [
          5,
          2,
          6,
          5,
          5,
          1,
          8,
          6,
          4,
          3,
          4,
          6,
          3,
          5,
          6,
          4,
          3,
          5,
          6,
          7,
          6,
          5,
          5,
          4,
          2,
          7,
          9,
          4,
          3,
          7,
          5,
          6,
          5,
          6,
          6,
          8,
          7,
          5,
          4,
          4,
          10,
          6,
          3,
          5,
          3,
          7,
          6,
          15,
          4,
          6,
          2,
          15,
          3,
          4,
          11,
          9,
          5,
          5,
          8,
          9
         ]
        },
        {
         "hoverinfo": "text",
         "hovertext": [
          "<b>Topic 7</b><br>Words: school, education, program, public, students",
          "<b>Topic 7</b><br>Words: bolsa, grades, grade, school, students",
          "<b>Topic 7</b><br>Words: students, school, schools, park, trained",
          "<b>Topic 7</b><br>Words: students, school, education, schools, tuition",
          "<b>Topic 7</b><br>Words: school, students, schools, catholic, teaching",
          "<b>Topic 7</b><br>Words: teachers, exam, evaluation, student, rotc",
          "<b>Topic 7</b><br>Words: students, colleges, school, college, fouryear",
          "<b>Topic 7</b><br>Words: school, schools, students, education, graduation",
          "<b>Topic 7</b><br>Words: school, ites, autonomy, educational, students",
          "<b>Topic 7</b><br>Words: school, schools, students, education, scores",
          "<b>Topic 7</b><br>Words: school, students, schools, education, college",
          "<b>Topic 7</b><br>Words: educational, inefficient, majority, achievements, education",
          "<b>Topic 7</b><br>Words: students, college, teachers, va, student",
          "<b>Topic 7</b><br>Words: state, education, outlays, households, schooling",
          "<b>Topic 7</b><br>Words: schooling, tenure, teacher, bonus, policies",
          "<b>Topic 7</b><br>Words: students, school, schools, ecfa, treatment",
          "<b>Topic 7</b><br>Words: students, school, education, college, student",
          "<b>Topic 7</b><br>Words: students, schools, school, online, signup",
          "<b>Topic 7</b><br>Words: school, universities, endowment, schools, deviations",
          "<b>Topic 7</b><br>Words: students, student, education, school, program",
          "<b>Topic 7</b><br>Words: school, education, fraud, college, academic",
          "<b>Topic 7</b><br>Words: students, school, student, schools, achievement",
          "<b>Topic 7</b><br>Words: students, school, schools, college, student",
          "<b>Topic 7</b><br>Words: students, eyeglasses, school, vision, education",
          "<b>Topic 7</b><br>Words: students, schools, school, colleges, college",
          "<b>Topic 7</b><br>Words: school, students, schools, mechanism, mechanisms",
          "<b>Topic 7</b><br>Words: students, college, earnings, enrollment, winning",
          "<b>Topic 7</b><br>Words: students, school, schools, college, achievement",
          "<b>Topic 7</b><br>Words: students, school, schools, admission, cannabis",
          "<b>Topic 7</b><br>Words: attending, elite, evaluation, school, validity",
          "<b>Topic 7</b><br>Words: students, administratively, school, student, coordinated",
          "<b>Topic 7</b><br>Words: school, teachers, students, levies, parental",
          "<b>Topic 7</b><br>Words: students, schools, school, teachers, broadband",
          "<b>Topic 7</b><br>Words: preschools, schools, teacher, parenting, child",
          "<b>Topic 7</b><br>Words: student, lecturer, students, online, materials",
          "<b>Topic 7</b><br>Words: school, students, student, schools, education",
          "<b>Topic 7</b><br>Words: students, school, schools, admissions, leadership",
          "<b>Topic 7</b><br>Words: students, sigma, school, student, schools",
          "<b>Topic 7</b><br>Words: students, school, achievement, education, laptops",
          "<b>Topic 7</b><br>Words: schools, school, students, educational, performance",
          "<b>Topic 7</b><br>Words: constraints, school, nonpecuniary, expectations, determinants",
          "<b>Topic 7</b><br>Words: education, tuition, aspirations, majority, students",
          "<b>Topic 7</b><br>Words: school, students, schools, scores, incentives",
          "<b>Topic 7</b><br>Words: school, schools, teachers, college, student",
          "<b>Topic 7</b><br>Words: school, schools, programme, exclusion, students",
          "<b>Topic 7</b><br>Words: students, schools, school, colleges, student",
          "<b>Topic 7</b><br>Words: school, students, education, schools, college",
          "<b>Topic 7</b><br>Words: school, choice, students, university, college",
          "<b>Topic 7</b><br>Words: college, tutorials, students, enroll, education",
          "<b>Topic 7</b><br>Words: students, schools, school, college, rank",
          "<b>Topic 7</b><br>Words: p4p, faculty, classrooms, fixedwage, undergraduate",
          "<b>Topic 7</b><br>Words: school, verbal, skills, math, private",
          "<b>Topic 7</b><br>Words: students, college, schools, rank, school",
          "<b>Topic 7</b><br>Words: students, schools, applicants, school, urm",
          "<b>Topic 7</b><br>Words: students, school, schools, college, teachers",
          "<b>Topic 7</b><br>Words: students, student, schools, college, school",
          "<b>Topic 7</b><br>Words: aspirations, students, schools, school, college",
          "<b>Topic 7</b><br>Words: students, percent, school, enrollment, covid19"
         ],
         "marker": {
          "color": "#E69F00"
         },
         "mode": "lines",
         "name": "7_students_school_schools_education",
         "type": "scatter",
         "x": [
          "2011-12-27T23:58:33.600000",
          "2012-03-07T16:24:00",
          "2012-05-13T08:48:00",
          "2012-07-19T01:12:00",
          "2012-09-23T17:36:00",
          "2012-11-29T10:00:00",
          "2013-02-04T02:24:00",
          "2013-04-11T18:48:00",
          "2013-08-23T03:36:00",
          "2014-01-03T12:24:00",
          "2014-03-11T04:48:00",
          "2014-05-16T21:12:00",
          "2014-07-22T13:36:00",
          "2014-09-27T06:00:00",
          "2014-12-02T22:24:00",
          "2015-02-07T14:48:00",
          "2015-04-15T07:12:00",
          "2015-06-20T23:36:00",
          "2015-08-26T16:00:00",
          "2015-11-01T08:24:00",
          "2016-01-07T00:48:00",
          "2016-03-13T17:12:00",
          "2016-05-19T09:36:00",
          "2016-07-25T02:00:00",
          "2016-09-29T18:24:00",
          "2016-12-05T10:48:00",
          "2017-02-10T03:12:00",
          "2017-04-17T19:36:00",
          "2017-06-23T12:00:00",
          "2017-08-29T04:24:00",
          "2017-11-03T20:48:00",
          "2018-01-09T13:12:00",
          "2018-03-17T05:36:00",
          "2018-05-22T22:00:00",
          "2018-07-28T14:24:00",
          "2018-10-03T06:48:00",
          "2018-12-08T23:12:00",
          "2019-02-13T15:36:00",
          "2019-04-21T08:00:00",
          "2019-06-27T00:24:00",
          "2019-09-01T16:48:00",
          "2019-11-07T09:12:00",
          "2020-01-13T01:36:00",
          "2020-03-19T18:00:00",
          "2020-05-25T10:24:00",
          "2020-07-31T02:48:00",
          "2020-10-05T19:12:00",
          "2020-12-11T11:36:00",
          "2021-02-16T04:00:00",
          "2021-04-23T20:24:00",
          "2021-06-29T12:48:00",
          "2021-09-04T05:12:00",
          "2021-11-09T21:36:00",
          "2022-01-15T14:00:00",
          "2022-03-23T06:24:00",
          "2022-05-28T22:48:00",
          "2022-08-03T15:12:00",
          "2022-10-09T07:36:00"
         ],
         "y": [
          4,
          4,
          2,
          11,
          6,
          4,
          6,
          9,
          3,
          6,
          17,
          1,
          6,
          2,
          2,
          4,
          14,
          6,
          3,
          6,
          5,
          16,
          6,
          3,
          8,
          4,
          4,
          13,
          7,
          3,
          2,
          3,
          3,
          2,
          5,
          8,
          2,
          6,
          7,
          9,
          1,
          5,
          10,
          2,
          4,
          12,
          5,
          6,
          3,
          13,
          2,
          3,
          5,
          5,
          10,
          10,
          6,
          3
         ]
        },
        {
         "hoverinfo": "text",
         "hovertext": [
          "<b>Topic 8</b><br>Words: teen, childbearing, pill, teens, birth",
          "<b>Topic 8</b><br>Words: adoptive, schooling, custom, children, adoptees",
          "<b>Topic 8</b><br>Words: child, children, parents, fertility, marriage",
          "<b>Topic 8</b><br>Words: bmi, marriage, nonparental, index, brides",
          "<b>Topic 8</b><br>Words: schooling, enrolled, lagged, childlevel, child",
          "<b>Topic 8</b><br>Words: height, children, taller, behavioral, iq",
          "<b>Topic 8</b><br>Words: andtheircognitiveimpactslargelydisappearwithinafewyearsdespitethisfadeout, ordevelopmentalprocessesareparticularlyimportantinproducingtheselongerrunimpactsourreviewalsodescribesdifferentmodelsofhumandevelopmentusedbysocialscientists, higherearnings, longrunfollowupsfromahandfulofwellknownprogramsshowlastingpositiveeffectsonsuchoutcomesasgreatereducationalattainment, examinesheterogeneousresultsacrossgroups",
          "<b>Topic 8</b><br>Words: fertility, child, children, maternal, health",
          "<b>Topic 8</b><br>Words: marriage, sisters, younger, consanguineous, fertility",
          "<b>Topic 8</b><br>Words: et, al, child, siblings, older",
          "<b>Topic 8</b><br>Words: child, sonpreference, schooling, sex, marriage",
          "<b>Topic 8</b><br>Words: child, children, returntowork, labour, mothers",
          "<b>Topic 8</b><br>Words: mating, abortion, blackout, assortative, birth",
          "<b>Topic 8</b><br>Words: ocp, children, women, numeracy, aged",
          "<b>Topic 8</b><br>Words: lefties, righties, abortion, cognitive, sexselective",
          "<b>Topic 8</b><br>Words: okun, women, child, population, cohorts",
          "<b>Topic 8</b><br>Words: adult, ages, children, health, cognitive",
          "<b>Topic 8</b><br>Words: leave, unpaid, mothers, birth, giving",
          "<b>Topic 8</b><br>Words: marriage, wife, child, family, children",
          "<b>Topic 8</b><br>Words: war, women, labour, marriage, family",
          "<b>Topic 8</b><br>Words: fgc, health, mothers, west, women",
          "<b>Topic 8</b><br>Words: polygamy, education, marriage, noncollegeeducated, children",
          "<b>Topic 8</b><br>Words: fertility, marriage, children, child, women",
          "<b>Topic 8</b><br>Words: women, fertility, birth, children, marriage",
          "<b>Topic 8</b><br>Words: marriage, children, women, child, twins",
          "<b>Topic 8</b><br>Words: leave, child, maternity, unpaid, fertility",
          "<b>Topic 8</b><br>Words: children, child, investments, fertility, parental",
          "<b>Topic 8</b><br>Words: cognition, height, laterlife, earlylife, cognitive",
          "<b>Topic 8</b><br>Words: fertility, iodine, children, salt, iodized",
          "<b>Topic 8</b><br>Words: marriage, children, sex, women, fertility",
          "<b>Topic 8</b><br>Words: fertility, child, children, marriage, women",
          "<b>Topic 8</b><br>Words: gradient, india, birth, steeper, height",
          "<b>Topic 8</b><br>Words: family, education, emails, attitudes, wages",
          "<b>Topic 8</b><br>Words: fertility, child, children, mch, health",
          "<b>Topic 8</b><br>Words: children, birth, ruptures, family, infant",
          "<b>Topic 8</b><br>Words: birth, fertility, maternal, loc, midwives",
          "<b>Topic 8</b><br>Words: rationalchoice, fertility, percent, enrollment, crosscounty",
          "<b>Topic 8</b><br>Words: marriage, fertility, child, children, daughters",
          "<b>Topic 8</b><br>Words: children, married, opt, women, inheritance",
          "<b>Topic 8</b><br>Words: women, births, sex, birth, marriage",
          "<b>Topic 8</b><br>Words: marriage, children, child, health, women",
          "<b>Topic 8</b><br>Words: utero, women, paternity, earmarked, radiation",
          "<b>Topic 8</b><br>Words: women, unmarried, marriage, married, udls",
          "<b>Topic 8</b><br>Words: exogamy, women, mating, caste, assortative",
          "<b>Topic 8</b><br>Words: children, marriage, fertility, child, childlessness",
          "<b>Topic 8</b><br>Words: prosocialness, children, adult, fertility, iodine",
          "<b>Topic 8</b><br>Words: child, marriage, labor, fertility, children",
          "<b>Topic 8</b><br>Words: child, fertility, children, childcare, credits",
          "<b>Topic 8</b><br>Words: marriage, rising, men, demographic, women",
          "<b>Topic 8</b><br>Words: child, fertility, allowances, children, childcare",
          "<b>Topic 8</b><br>Words: marriage, women, delayed, children, age",
          "<b>Topic 8</b><br>Words: children, child, women, parents, marriage",
          "<b>Topic 8</b><br>Words: maternity, leave, landed, marriage, brides",
          "<b>Topic 8</b><br>Words: fertility, marriage, women, children, child",
          "<b>Topic 8</b><br>Words: bmi, marriage, women, child, dowry",
          "<b>Topic 8</b><br>Words: children, child, earlylife, health, birth",
          "<b>Topic 8</b><br>Words: pupils, program, insecurity, fertility, parenthood",
          "<b>Topic 8</b><br>Words: marriage, fertility, traits, children, age",
          "<b>Topic 8</b><br>Words: children, parents, women, immigrant, birth",
          "<b>Topic 8</b><br>Words: children, child, outcomes, cognitive, mind"
         ],
         "marker": {
          "color": "#56B4E9"
         },
         "mode": "lines",
         "name": "8_marriage_children_child_fertility",
         "type": "scatter",
         "x": [
          "2011-12-27T23:58:33.600000",
          "2012-03-07T16:24:00",
          "2012-05-13T08:48:00",
          "2012-07-19T01:12:00",
          "2012-09-23T17:36:00",
          "2012-11-29T10:00:00",
          "2013-02-04T02:24:00",
          "2013-04-11T18:48:00",
          "2013-06-17T11:12:00",
          "2013-08-23T03:36:00",
          "2013-10-28T20:00:00",
          "2014-01-03T12:24:00",
          "2014-03-11T04:48:00",
          "2014-05-16T21:12:00",
          "2014-07-22T13:36:00",
          "2014-09-27T06:00:00",
          "2014-12-02T22:24:00",
          "2015-02-07T14:48:00",
          "2015-04-15T07:12:00",
          "2015-06-20T23:36:00",
          "2015-08-26T16:00:00",
          "2015-11-01T08:24:00",
          "2016-01-07T00:48:00",
          "2016-03-13T17:12:00",
          "2016-05-19T09:36:00",
          "2016-07-25T02:00:00",
          "2016-09-29T18:24:00",
          "2016-12-05T10:48:00",
          "2017-02-10T03:12:00",
          "2017-04-17T19:36:00",
          "2017-06-23T12:00:00",
          "2017-08-29T04:24:00",
          "2017-11-03T20:48:00",
          "2018-01-09T13:12:00",
          "2018-03-17T05:36:00",
          "2018-05-22T22:00:00",
          "2018-07-28T14:24:00",
          "2018-10-03T06:48:00",
          "2018-12-08T23:12:00",
          "2019-02-13T15:36:00",
          "2019-04-21T08:00:00",
          "2019-06-27T00:24:00",
          "2019-09-01T16:48:00",
          "2019-11-07T09:12:00",
          "2020-01-13T01:36:00",
          "2020-03-19T18:00:00",
          "2020-05-25T10:24:00",
          "2020-07-31T02:48:00",
          "2020-10-05T19:12:00",
          "2020-12-11T11:36:00",
          "2021-02-16T04:00:00",
          "2021-04-23T20:24:00",
          "2021-06-29T12:48:00",
          "2021-09-04T05:12:00",
          "2021-11-09T21:36:00",
          "2022-01-15T14:00:00",
          "2022-03-23T06:24:00",
          "2022-05-28T22:48:00",
          "2022-08-03T15:12:00",
          "2022-10-09T07:36:00"
         ],
         "y": [
          3,
          2,
          11,
          3,
          1,
          3,
          1,
          7,
          4,
          3,
          3,
          2,
          6,
          5,
          3,
          2,
          3,
          1,
          8,
          3,
          2,
          3,
          4,
          8,
          6,
          4,
          6,
          1,
          5,
          16,
          11,
          1,
          2,
          3,
          5,
          4,
          1,
          11,
          6,
          6,
          6,
          2,
          5,
          3,
          14,
          3,
          7,
          6,
          3,
          5,
          2,
          12,
          3,
          7,
          5,
          5,
          2,
          5,
          7,
          5
         ]
        },
        {
         "hoverinfo": "text",
         "hovertext": [
          "<b>Topic 9</b><br>Words: comparison, information, friction, consumers, late",
          "<b>Topic 9</b><br>Words: mortality, cycle, withinmonth, premiums, vis",
          "<b>Topic 9</b><br>Words: health, retirement, insurance, reform, care",
          "<b>Topic 9</b><br>Words: health, category, treatments, care, patients",
          "<b>Topic 9</b><br>Words: insurance, overspending, 2006, g22, 401",
          "<b>Topic 9</b><br>Words: hospital, pension, insurance, health, hospitals",
          "<b>Topic 9</b><br>Words: insurance, malpractice, health, standardization, standards",
          "<b>Topic 9</b><br>Words: health, healthrelated, instruments, pension, decisions",
          "<b>Topic 9</b><br>Words: rand, insurance, health, experiment, patients",
          "<b>Topic 9</b><br>Words: health, asked, private, insurance, rejected",
          "<b>Topic 9</b><br>Words: health, insurance, inertia, surgeon, diabetes",
          "<b>Topic 9</b><br>Words: health, insurance, retirement, care, hospital",
          "<b>Topic 9</b><br>Words: health, security, medicare, insurance, disenrollment",
          "<b>Topic 9</b><br>Words: outofpocket, nursing, health, age, aging",
          "<b>Topic 9</b><br>Words: health, insurance, antibiotic, catastrophic, care",
          "<b>Topic 9</b><br>Words: medicare, di, insurance, health, mandatory",
          "<b>Topic 9</b><br>Words: retirement, hospital, health, insurance, age",
          "<b>Topic 9</b><br>Words: health, expenses, insurance, longevity, i13",
          "<b>Topic 9</b><br>Words: insurance, health, hospital, spending, drug",
          "<b>Topic 9</b><br>Words: insurance, subsidies, health, premium, retirement",
          "<b>Topic 9</b><br>Words: pension, health, plans, insurance, contribution",
          "<b>Topic 9</b><br>Words: insurance, nursing, longevity, health, care",
          "<b>Topic 9</b><br>Words: retirement, health, superannuation, longevity, insurance",
          "<b>Topic 9</b><br>Words: health, insurance, medical, care, uninsured",
          "<b>Topic 9</b><br>Words: selfmanaged, physicians, patients, system, hazard",
          "<b>Topic 9</b><br>Words: drugs, nonpreferred, health, wc, care",
          "<b>Topic 9</b><br>Words: occupation, medicaid, health, retirees, aca",
          "<b>Topic 9</b><br>Words: medicare, private, physicians, doctors, care",
          "<b>Topic 9</b><br>Words: medicare, insurance, dental, hours, treatments",
          "<b>Topic 9</b><br>Words: health, prescribing, care, patients, insurance",
          "<b>Topic 9</b><br>Words: health, insurance, care, plan, selection",
          "<b>Topic 9</b><br>Words: smoking, health, biomarker, enrollment, premium",
          "<b>Topic 9</b><br>Words: aging, health, life, aca, healthcare",
          "<b>Topic 9</b><br>Words: di, advertising, medicare, nra, oai",
          "<b>Topic 9</b><br>Words: illiquid, life, annuities, annuity, contracts",
          "<b>Topic 9</b><br>Words: health, physicians, care, eos, reference",
          "<b>Topic 9</b><br>Words: insurance, pension, health, care, healthcare",
          "<b>Topic 9</b><br>Words: health, care, ltch, patient, medicare",
          "<b>Topic 9</b><br>Words: tdfs, ivf, premiums, irs, insurance",
          "<b>Topic 9</b><br>Words: hce, hospitals, health, hospital, insurance",
          "<b>Topic 9</b><br>Words: health, insurance, care, consumers, dynamic",
          "<b>Topic 9</b><br>Words: health, cancer, pension, security, insurance",
          "<b>Topic 9</b><br>Words: expenditure, medical, health, physicians, patients",
          "<b>Topic 9</b><br>Words: health, tort, medicaid, medical, insurance",
          "<b>Topic 9</b><br>Words: health, hospitals, patients, acquisitions, care",
          "<b>Topic 9</b><br>Words: hospitals, insurance, health, patients, life",
          "<b>Topic 9</b><br>Words: overtreatment, hospitals, socioeconomic, medical, status",
          "<b>Topic 9</b><br>Words: outofnetwork, physicians, emergency, insurers, waitlists",
          "<b>Topic 9</b><br>Words: insurance, health, doctors, aca, care",
          "<b>Topic 9</b><br>Words: health, insurance, physicians, referral, care",
          "<b>Topic 9</b><br>Words: retirement, statutory, ages, appointment, physicians",
          "<b>Topic 9</b><br>Words: insurance, health, hospital, retirement, optimal",
          "<b>Topic 9</b><br>Words: mortality, health, plans, opioid, insurance",
          "<b>Topic 9</b><br>Words: health, diabetes, medicare, inertia, cardon",
          "<b>Topic 9</b><br>Words: coverage, choice, efficient, vertical, level",
          "<b>Topic 9</b><br>Words: hospitals, hospital, cash, payerspecific, health",
          "<b>Topic 9</b><br>Words: oxycontin, physicians, overdose, health, triplicate",
          "<b>Topic 9</b><br>Words: spousal, benefits, longevity, survivor, life",
          "<b>Topic 9</b><br>Words: overtreatment, health, hazard, moral, doctors",
          "<b>Topic 9</b><br>Words: power, insurer, health, hospital, countervailing"
         ],
         "marker": {
          "color": "#009E73"
         },
         "mode": "lines",
         "name": "9_health_insurance_care_retirement",
         "type": "scatter",
         "x": [
          "2011-12-27T23:58:33.600000",
          "2012-03-07T16:24:00",
          "2012-05-13T08:48:00",
          "2012-07-19T01:12:00",
          "2012-09-23T17:36:00",
          "2012-11-29T10:00:00",
          "2013-02-04T02:24:00",
          "2013-04-11T18:48:00",
          "2013-06-17T11:12:00",
          "2013-08-23T03:36:00",
          "2013-10-28T20:00:00",
          "2014-01-03T12:24:00",
          "2014-03-11T04:48:00",
          "2014-05-16T21:12:00",
          "2014-07-22T13:36:00",
          "2014-09-27T06:00:00",
          "2014-12-02T22:24:00",
          "2015-02-07T14:48:00",
          "2015-04-15T07:12:00",
          "2015-06-20T23:36:00",
          "2015-08-26T16:00:00",
          "2015-11-01T08:24:00",
          "2016-01-07T00:48:00",
          "2016-03-13T17:12:00",
          "2016-05-19T09:36:00",
          "2016-07-25T02:00:00",
          "2016-09-29T18:24:00",
          "2016-12-05T10:48:00",
          "2017-02-10T03:12:00",
          "2017-04-17T19:36:00",
          "2017-06-23T12:00:00",
          "2017-08-29T04:24:00",
          "2017-11-03T20:48:00",
          "2018-01-09T13:12:00",
          "2018-03-17T05:36:00",
          "2018-05-22T22:00:00",
          "2018-07-28T14:24:00",
          "2018-10-03T06:48:00",
          "2018-12-08T23:12:00",
          "2019-02-13T15:36:00",
          "2019-04-21T08:00:00",
          "2019-06-27T00:24:00",
          "2019-09-01T16:48:00",
          "2019-11-07T09:12:00",
          "2020-01-13T01:36:00",
          "2020-03-19T18:00:00",
          "2020-05-25T10:24:00",
          "2020-07-31T02:48:00",
          "2020-10-05T19:12:00",
          "2020-12-11T11:36:00",
          "2021-02-16T04:00:00",
          "2021-04-23T20:24:00",
          "2021-06-29T12:48:00",
          "2021-09-04T05:12:00",
          "2021-11-09T21:36:00",
          "2022-01-15T14:00:00",
          "2022-03-23T06:24:00",
          "2022-05-28T22:48:00",
          "2022-08-03T15:12:00",
          "2022-10-09T07:36:00"
         ],
         "y": [
          2,
          2,
          11,
          2,
          3,
          4,
          3,
          2,
          2,
          2,
          5,
          3,
          6,
          4,
          4,
          4,
          8,
          6,
          10,
          5,
          3,
          10,
          2,
          8,
          1,
          4,
          4,
          3,
          2,
          5,
          8,
          2,
          4,
          2,
          1,
          4,
          5,
          5,
          3,
          4,
          5,
          4,
          3,
          7,
          3,
          6,
          3,
          3,
          4,
          9,
          2,
          6,
          7,
          3,
          1,
          4,
          4,
          3,
          1,
          2
         ]
        }
       ],
       "layout": {
        "height": 600,
        "hoverlabel": {
         "bgcolor": "white",
         "font": {
          "family": "Rockwell",
          "size": 16
         }
        },
        "legend": {
         "title": {
          "text": "<b>Global Topic Representation"
         }
        },
        "template": {
         "data": {
          "bar": [
           {
            "error_x": {
             "color": "rgb(36,36,36)"
            },
            "error_y": {
             "color": "rgb(36,36,36)"
            },
            "marker": {
             "line": {
              "color": "white",
              "width": 0.5
             },
             "pattern": {
              "fillmode": "overlay",
              "size": 10,
              "solidity": 0.2
             }
            },
            "type": "bar"
           }
          ],
          "barpolar": [
           {
            "marker": {
             "line": {
              "color": "white",
              "width": 0.5
             },
             "pattern": {
              "fillmode": "overlay",
              "size": 10,
              "solidity": 0.2
             }
            },
            "type": "barpolar"
           }
          ],
          "carpet": [
           {
            "aaxis": {
             "endlinecolor": "rgb(36,36,36)",
             "gridcolor": "white",
             "linecolor": "white",
             "minorgridcolor": "white",
             "startlinecolor": "rgb(36,36,36)"
            },
            "baxis": {
             "endlinecolor": "rgb(36,36,36)",
             "gridcolor": "white",
             "linecolor": "white",
             "minorgridcolor": "white",
             "startlinecolor": "rgb(36,36,36)"
            },
            "type": "carpet"
           }
          ],
          "choropleth": [
           {
            "colorbar": {
             "outlinewidth": 1,
             "tickcolor": "rgb(36,36,36)",
             "ticks": "outside"
            },
            "type": "choropleth"
           }
          ],
          "contour": [
           {
            "colorbar": {
             "outlinewidth": 1,
             "tickcolor": "rgb(36,36,36)",
             "ticks": "outside"
            },
            "colorscale": [
             [
              0,
              "#440154"
             ],
             [
              0.1111111111111111,
              "#482878"
             ],
             [
              0.2222222222222222,
              "#3e4989"
             ],
             [
              0.3333333333333333,
              "#31688e"
             ],
             [
              0.4444444444444444,
              "#26828e"
             ],
             [
              0.5555555555555556,
              "#1f9e89"
             ],
             [
              0.6666666666666666,
              "#35b779"
             ],
             [
              0.7777777777777778,
              "#6ece58"
             ],
             [
              0.8888888888888888,
              "#b5de2b"
             ],
             [
              1,
              "#fde725"
             ]
            ],
            "type": "contour"
           }
          ],
          "contourcarpet": [
           {
            "colorbar": {
             "outlinewidth": 1,
             "tickcolor": "rgb(36,36,36)",
             "ticks": "outside"
            },
            "type": "contourcarpet"
           }
          ],
          "heatmap": [
           {
            "colorbar": {
             "outlinewidth": 1,
             "tickcolor": "rgb(36,36,36)",
             "ticks": "outside"
            },
            "colorscale": [
             [
              0,
              "#440154"
             ],
             [
              0.1111111111111111,
              "#482878"
             ],
             [
              0.2222222222222222,
              "#3e4989"
             ],
             [
              0.3333333333333333,
              "#31688e"
             ],
             [
              0.4444444444444444,
              "#26828e"
             ],
             [
              0.5555555555555556,
              "#1f9e89"
             ],
             [
              0.6666666666666666,
              "#35b779"
             ],
             [
              0.7777777777777778,
              "#6ece58"
             ],
             [
              0.8888888888888888,
              "#b5de2b"
             ],
             [
              1,
              "#fde725"
             ]
            ],
            "type": "heatmap"
           }
          ],
          "heatmapgl": [
           {
            "colorbar": {
             "outlinewidth": 1,
             "tickcolor": "rgb(36,36,36)",
             "ticks": "outside"
            },
            "colorscale": [
             [
              0,
              "#440154"
             ],
             [
              0.1111111111111111,
              "#482878"
             ],
             [
              0.2222222222222222,
              "#3e4989"
             ],
             [
              0.3333333333333333,
              "#31688e"
             ],
             [
              0.4444444444444444,
              "#26828e"
             ],
             [
              0.5555555555555556,
              "#1f9e89"
             ],
             [
              0.6666666666666666,
              "#35b779"
             ],
             [
              0.7777777777777778,
              "#6ece58"
             ],
             [
              0.8888888888888888,
              "#b5de2b"
             ],
             [
              1,
              "#fde725"
             ]
            ],
            "type": "heatmapgl"
           }
          ],
          "histogram": [
           {
            "marker": {
             "line": {
              "color": "white",
              "width": 0.6
             }
            },
            "type": "histogram"
           }
          ],
          "histogram2d": [
           {
            "colorbar": {
             "outlinewidth": 1,
             "tickcolor": "rgb(36,36,36)",
             "ticks": "outside"
            },
            "colorscale": [
             [
              0,
              "#440154"
             ],
             [
              0.1111111111111111,
              "#482878"
             ],
             [
              0.2222222222222222,
              "#3e4989"
             ],
             [
              0.3333333333333333,
              "#31688e"
             ],
             [
              0.4444444444444444,
              "#26828e"
             ],
             [
              0.5555555555555556,
              "#1f9e89"
             ],
             [
              0.6666666666666666,
              "#35b779"
             ],
             [
              0.7777777777777778,
              "#6ece58"
             ],
             [
              0.8888888888888888,
              "#b5de2b"
             ],
             [
              1,
              "#fde725"
             ]
            ],
            "type": "histogram2d"
           }
          ],
          "histogram2dcontour": [
           {
            "colorbar": {
             "outlinewidth": 1,
             "tickcolor": "rgb(36,36,36)",
             "ticks": "outside"
            },
            "colorscale": [
             [
              0,
              "#440154"
             ],
             [
              0.1111111111111111,
              "#482878"
             ],
             [
              0.2222222222222222,
              "#3e4989"
             ],
             [
              0.3333333333333333,
              "#31688e"
             ],
             [
              0.4444444444444444,
              "#26828e"
             ],
             [
              0.5555555555555556,
              "#1f9e89"
             ],
             [
              0.6666666666666666,
              "#35b779"
             ],
             [
              0.7777777777777778,
              "#6ece58"
             ],
             [
              0.8888888888888888,
              "#b5de2b"
             ],
             [
              1,
              "#fde725"
             ]
            ],
            "type": "histogram2dcontour"
           }
          ],
          "mesh3d": [
           {
            "colorbar": {
             "outlinewidth": 1,
             "tickcolor": "rgb(36,36,36)",
             "ticks": "outside"
            },
            "type": "mesh3d"
           }
          ],
          "parcoords": [
           {
            "line": {
             "colorbar": {
              "outlinewidth": 1,
              "tickcolor": "rgb(36,36,36)",
              "ticks": "outside"
             }
            },
            "type": "parcoords"
           }
          ],
          "pie": [
           {
            "automargin": true,
            "type": "pie"
           }
          ],
          "scatter": [
           {
            "fillpattern": {
             "fillmode": "overlay",
             "size": 10,
             "solidity": 0.2
            },
            "type": "scatter"
           }
          ],
          "scatter3d": [
           {
            "line": {
             "colorbar": {
              "outlinewidth": 1,
              "tickcolor": "rgb(36,36,36)",
              "ticks": "outside"
             }
            },
            "marker": {
             "colorbar": {
              "outlinewidth": 1,
              "tickcolor": "rgb(36,36,36)",
              "ticks": "outside"
             }
            },
            "type": "scatter3d"
           }
          ],
          "scattercarpet": [
           {
            "marker": {
             "colorbar": {
              "outlinewidth": 1,
              "tickcolor": "rgb(36,36,36)",
              "ticks": "outside"
             }
            },
            "type": "scattercarpet"
           }
          ],
          "scattergeo": [
           {
            "marker": {
             "colorbar": {
              "outlinewidth": 1,
              "tickcolor": "rgb(36,36,36)",
              "ticks": "outside"
             }
            },
            "type": "scattergeo"
           }
          ],
          "scattergl": [
           {
            "marker": {
             "colorbar": {
              "outlinewidth": 1,
              "tickcolor": "rgb(36,36,36)",
              "ticks": "outside"
             }
            },
            "type": "scattergl"
           }
          ],
          "scattermapbox": [
           {
            "marker": {
             "colorbar": {
              "outlinewidth": 1,
              "tickcolor": "rgb(36,36,36)",
              "ticks": "outside"
             }
            },
            "type": "scattermapbox"
           }
          ],
          "scatterpolar": [
           {
            "marker": {
             "colorbar": {
              "outlinewidth": 1,
              "tickcolor": "rgb(36,36,36)",
              "ticks": "outside"
             }
            },
            "type": "scatterpolar"
           }
          ],
          "scatterpolargl": [
           {
            "marker": {
             "colorbar": {
              "outlinewidth": 1,
              "tickcolor": "rgb(36,36,36)",
              "ticks": "outside"
             }
            },
            "type": "scatterpolargl"
           }
          ],
          "scatterternary": [
           {
            "marker": {
             "colorbar": {
              "outlinewidth": 1,
              "tickcolor": "rgb(36,36,36)",
              "ticks": "outside"
             }
            },
            "type": "scatterternary"
           }
          ],
          "surface": [
           {
            "colorbar": {
             "outlinewidth": 1,
             "tickcolor": "rgb(36,36,36)",
             "ticks": "outside"
            },
            "colorscale": [
             [
              0,
              "#440154"
             ],
             [
              0.1111111111111111,
              "#482878"
             ],
             [
              0.2222222222222222,
              "#3e4989"
             ],
             [
              0.3333333333333333,
              "#31688e"
             ],
             [
              0.4444444444444444,
              "#26828e"
             ],
             [
              0.5555555555555556,
              "#1f9e89"
             ],
             [
              0.6666666666666666,
              "#35b779"
             ],
             [
              0.7777777777777778,
              "#6ece58"
             ],
             [
              0.8888888888888888,
              "#b5de2b"
             ],
             [
              1,
              "#fde725"
             ]
            ],
            "type": "surface"
           }
          ],
          "table": [
           {
            "cells": {
             "fill": {
              "color": "rgb(237,237,237)"
             },
             "line": {
              "color": "white"
             }
            },
            "header": {
             "fill": {
              "color": "rgb(217,217,217)"
             },
             "line": {
              "color": "white"
             }
            },
            "type": "table"
           }
          ]
         },
         "layout": {
          "annotationdefaults": {
           "arrowhead": 0,
           "arrowwidth": 1
          },
          "autotypenumbers": "strict",
          "coloraxis": {
           "colorbar": {
            "outlinewidth": 1,
            "tickcolor": "rgb(36,36,36)",
            "ticks": "outside"
           }
          },
          "colorscale": {
           "diverging": [
            [
             0,
             "rgb(103,0,31)"
            ],
            [
             0.1,
             "rgb(178,24,43)"
            ],
            [
             0.2,
             "rgb(214,96,77)"
            ],
            [
             0.3,
             "rgb(244,165,130)"
            ],
            [
             0.4,
             "rgb(253,219,199)"
            ],
            [
             0.5,
             "rgb(247,247,247)"
            ],
            [
             0.6,
             "rgb(209,229,240)"
            ],
            [
             0.7,
             "rgb(146,197,222)"
            ],
            [
             0.8,
             "rgb(67,147,195)"
            ],
            [
             0.9,
             "rgb(33,102,172)"
            ],
            [
             1,
             "rgb(5,48,97)"
            ]
           ],
           "sequential": [
            [
             0,
             "#440154"
            ],
            [
             0.1111111111111111,
             "#482878"
            ],
            [
             0.2222222222222222,
             "#3e4989"
            ],
            [
             0.3333333333333333,
             "#31688e"
            ],
            [
             0.4444444444444444,
             "#26828e"
            ],
            [
             0.5555555555555556,
             "#1f9e89"
            ],
            [
             0.6666666666666666,
             "#35b779"
            ],
            [
             0.7777777777777778,
             "#6ece58"
            ],
            [
             0.8888888888888888,
             "#b5de2b"
            ],
            [
             1,
             "#fde725"
            ]
           ],
           "sequentialminus": [
            [
             0,
             "#440154"
            ],
            [
             0.1111111111111111,
             "#482878"
            ],
            [
             0.2222222222222222,
             "#3e4989"
            ],
            [
             0.3333333333333333,
             "#31688e"
            ],
            [
             0.4444444444444444,
             "#26828e"
            ],
            [
             0.5555555555555556,
             "#1f9e89"
            ],
            [
             0.6666666666666666,
             "#35b779"
            ],
            [
             0.7777777777777778,
             "#6ece58"
            ],
            [
             0.8888888888888888,
             "#b5de2b"
            ],
            [
             1,
             "#fde725"
            ]
           ]
          },
          "colorway": [
           "#1F77B4",
           "#FF7F0E",
           "#2CA02C",
           "#D62728",
           "#9467BD",
           "#8C564B",
           "#E377C2",
           "#7F7F7F",
           "#BCBD22",
           "#17BECF"
          ],
          "font": {
           "color": "rgb(36,36,36)"
          },
          "geo": {
           "bgcolor": "white",
           "lakecolor": "white",
           "landcolor": "white",
           "showlakes": true,
           "showland": true,
           "subunitcolor": "white"
          },
          "hoverlabel": {
           "align": "left"
          },
          "hovermode": "closest",
          "mapbox": {
           "style": "light"
          },
          "paper_bgcolor": "white",
          "plot_bgcolor": "white",
          "polar": {
           "angularaxis": {
            "gridcolor": "rgb(232,232,232)",
            "linecolor": "rgb(36,36,36)",
            "showgrid": false,
            "showline": true,
            "ticks": "outside"
           },
           "bgcolor": "white",
           "radialaxis": {
            "gridcolor": "rgb(232,232,232)",
            "linecolor": "rgb(36,36,36)",
            "showgrid": false,
            "showline": true,
            "ticks": "outside"
           }
          },
          "scene": {
           "xaxis": {
            "backgroundcolor": "white",
            "gridcolor": "rgb(232,232,232)",
            "gridwidth": 2,
            "linecolor": "rgb(36,36,36)",
            "showbackground": true,
            "showgrid": false,
            "showline": true,
            "ticks": "outside",
            "zeroline": false,
            "zerolinecolor": "rgb(36,36,36)"
           },
           "yaxis": {
            "backgroundcolor": "white",
            "gridcolor": "rgb(232,232,232)",
            "gridwidth": 2,
            "linecolor": "rgb(36,36,36)",
            "showbackground": true,
            "showgrid": false,
            "showline": true,
            "ticks": "outside",
            "zeroline": false,
            "zerolinecolor": "rgb(36,36,36)"
           },
           "zaxis": {
            "backgroundcolor": "white",
            "gridcolor": "rgb(232,232,232)",
            "gridwidth": 2,
            "linecolor": "rgb(36,36,36)",
            "showbackground": true,
            "showgrid": false,
            "showline": true,
            "ticks": "outside",
            "zeroline": false,
            "zerolinecolor": "rgb(36,36,36)"
           }
          },
          "shapedefaults": {
           "fillcolor": "black",
           "line": {
            "width": 0
           },
           "opacity": 0.3
          },
          "ternary": {
           "aaxis": {
            "gridcolor": "rgb(232,232,232)",
            "linecolor": "rgb(36,36,36)",
            "showgrid": false,
            "showline": true,
            "ticks": "outside"
           },
           "baxis": {
            "gridcolor": "rgb(232,232,232)",
            "linecolor": "rgb(36,36,36)",
            "showgrid": false,
            "showline": true,
            "ticks": "outside"
           },
           "bgcolor": "white",
           "caxis": {
            "gridcolor": "rgb(232,232,232)",
            "linecolor": "rgb(36,36,36)",
            "showgrid": false,
            "showline": true,
            "ticks": "outside"
           }
          },
          "title": {
           "x": 0.05
          },
          "xaxis": {
           "automargin": true,
           "gridcolor": "rgb(232,232,232)",
           "linecolor": "rgb(36,36,36)",
           "showgrid": false,
           "showline": true,
           "ticks": "outside",
           "title": {
            "standoff": 15
           },
           "zeroline": false,
           "zerolinecolor": "rgb(36,36,36)"
          },
          "yaxis": {
           "automargin": true,
           "gridcolor": "rgb(232,232,232)",
           "linecolor": "rgb(36,36,36)",
           "showgrid": false,
           "showline": true,
           "ticks": "outside",
           "title": {
            "standoff": 15
           },
           "zeroline": false,
           "zerolinecolor": "rgb(36,36,36)"
          }
         }
        },
        "title": {
         "font": {
          "color": "Black",
          "size": 22
         },
         "text": "<b>Topics over Time</b>",
         "x": 0.4,
         "xanchor": "center",
         "y": 0.95,
         "yanchor": "top"
        },
        "width": 1250,
        "xaxis": {
         "showgrid": true
        },
        "yaxis": {
         "showgrid": true,
         "title": {
          "text": "Frequency"
         }
        }
       }
      }
     },
     "metadata": {},
     "output_type": "display_data"
    }
   ],
   "source": [
    "topic_model.visualize_topics_over_time(topics_over_time, top_n_topics = 10, height=600)"
   ]
  },
  {
   "attachments": {},
   "cell_type": "markdown",
   "metadata": {},
   "source": [
    "#### 4.2.3 Top 5 Keywords in Each Topic"
   ]
  },
  {
   "cell_type": "code",
   "execution_count": 49,
   "metadata": {},
   "outputs": [
    {
     "data": {
      "application/vnd.plotly.v1+json": {
       "config": {
        "plotlyServerURL": "https://plot.ly"
       },
       "data": [
        {
         "marker": {
          "color": "#D55E00"
         },
         "orientation": "h",
         "type": "bar",
         "x": [
          0.012906700453768322,
          0.013440538532726304,
          0.01424185619787592,
          0.017113661206380925,
          0.018270885826703796
         ],
         "xaxis": "x",
         "y": [
          "shocks  ",
          "risk  ",
          "policy  ",
          "financial  ",
          "model  "
         ],
         "yaxis": "y"
        },
        {
         "marker": {
          "color": "#0072B2"
         },
         "orientation": "h",
         "type": "bar",
         "x": [
          0.017731432184395053,
          0.017949556889882663,
          0.019506316686615476,
          0.019921627609960562,
          0.02141841381245336
         ],
         "xaxis": "x2",
         "y": [
          "preferences  ",
          "information  ",
          "games  ",
          "agent  ",
          "game  "
         ],
         "yaxis": "y2"
        },
        {
         "marker": {
          "color": "#CC79A7"
         },
         "orientation": "h",
         "type": "bar",
         "x": [
          0.035836563704874425,
          0.03954815601518689,
          0.04238639489808058,
          0.04962013207923995,
          0.05002404166619048
         ],
         "xaxis": "x3",
         "y": [
          "job  ",
          "labor  ",
          "unemployment  ",
          "workers  ",
          "wage  "
         ],
         "yaxis": "y3"
        },
        {
         "marker": {
          "color": "#E69F00"
         },
         "orientation": "h",
         "type": "bar",
         "x": [
          0.024391915553989736,
          0.0248996832335383,
          0.029675173522988867,
          0.03792594047835162,
          0.08206205646254974
         ],
         "xaxis": "x4",
         "y": [
          "exports  ",
          "countries  ",
          "firms  ",
          "export  ",
          "trade  "
         ],
         "yaxis": "y4"
        },
        {
         "marker": {
          "color": "#56B4E9"
         },
         "orientation": "h",
         "type": "bar",
         "x": [
          0.025532713719778423,
          0.028351800648151414,
          0.0293502890145912,
          0.0375373238518954,
          0.04350736056098882
         ],
         "xaxis": "x5",
         "y": [
          "market  ",
          "competition  ",
          "firms  ",
          "price  ",
          "consumers  "
         ],
         "yaxis": "y5"
        },
        {
         "marker": {
          "color": "#009E73"
         },
         "orientation": "h",
         "type": "bar",
         "x": [
          0.03234367454817244,
          0.035525278779450976,
          0.042702753859741274,
          0.04422976126115453,
          0.047364370167778586
         ],
         "xaxis": "x6",
         "y": [
          "carbon  ",
          "pollution  ",
          "energy  ",
          "environmental  ",
          "emissions  "
         ],
         "yaxis": "y6"
        },
        {
         "marker": {
          "color": "#F0E442"
         },
         "orientation": "h",
         "type": "bar",
         "x": [
          0.02256292065338022,
          0.023896461516669926,
          0.02869068883011213,
          0.043392717513753516,
          0.04419489508567719
         ],
         "xaxis": "x7",
         "y": [
          "electoral  ",
          "vote  ",
          "elections  ",
          "voters  ",
          "political  "
         ],
         "yaxis": "y7"
        },
        {
         "marker": {
          "color": "#D55E00"
         },
         "orientation": "h",
         "type": "bar",
         "x": [
          0.034555537038027065,
          0.03567682915990717,
          0.048595660812606585,
          0.06694885178405281,
          0.07871886168194031
         ],
         "xaxis": "x8",
         "y": [
          "student  ",
          "education  ",
          "schools  ",
          "school  ",
          "students  "
         ],
         "yaxis": "y8"
        }
       ],
       "layout": {
        "annotations": [
         {
          "font": {
           "size": 16
          },
          "showarrow": false,
          "text": "Topic 0",
          "x": 0.0875,
          "xanchor": "center",
          "xref": "paper",
          "y": 1,
          "yanchor": "bottom",
          "yref": "paper"
         },
         {
          "font": {
           "size": 16
          },
          "showarrow": false,
          "text": "Topic 1",
          "x": 0.36250000000000004,
          "xanchor": "center",
          "xref": "paper",
          "y": 1,
          "yanchor": "bottom",
          "yref": "paper"
         },
         {
          "font": {
           "size": 16
          },
          "showarrow": false,
          "text": "Topic 2",
          "x": 0.6375000000000001,
          "xanchor": "center",
          "xref": "paper",
          "y": 1,
          "yanchor": "bottom",
          "yref": "paper"
         },
         {
          "font": {
           "size": 16
          },
          "showarrow": false,
          "text": "Topic 3",
          "x": 0.9125,
          "xanchor": "center",
          "xref": "paper",
          "y": 1,
          "yanchor": "bottom",
          "yref": "paper"
         },
         {
          "font": {
           "size": 16
          },
          "showarrow": false,
          "text": "Topic 4",
          "x": 0.0875,
          "xanchor": "center",
          "xref": "paper",
          "y": 0.4,
          "yanchor": "bottom",
          "yref": "paper"
         },
         {
          "font": {
           "size": 16
          },
          "showarrow": false,
          "text": "Topic 5",
          "x": 0.36250000000000004,
          "xanchor": "center",
          "xref": "paper",
          "y": 0.4,
          "yanchor": "bottom",
          "yref": "paper"
         },
         {
          "font": {
           "size": 16
          },
          "showarrow": false,
          "text": "Topic 6",
          "x": 0.6375000000000001,
          "xanchor": "center",
          "xref": "paper",
          "y": 0.4,
          "yanchor": "bottom",
          "yref": "paper"
         },
         {
          "font": {
           "size": 16
          },
          "showarrow": false,
          "text": "Topic 7",
          "x": 0.9125,
          "xanchor": "center",
          "xref": "paper",
          "y": 0.4,
          "yanchor": "bottom",
          "yref": "paper"
         }
        ],
        "height": 600,
        "hoverlabel": {
         "bgcolor": "white",
         "font": {
          "family": "Rockwell",
          "size": 16
         }
        },
        "showlegend": false,
        "template": {
         "data": {
          "bar": [
           {
            "error_x": {
             "color": "#2a3f5f"
            },
            "error_y": {
             "color": "#2a3f5f"
            },
            "marker": {
             "line": {
              "color": "white",
              "width": 0.5
             },
             "pattern": {
              "fillmode": "overlay",
              "size": 10,
              "solidity": 0.2
             }
            },
            "type": "bar"
           }
          ],
          "barpolar": [
           {
            "marker": {
             "line": {
              "color": "white",
              "width": 0.5
             },
             "pattern": {
              "fillmode": "overlay",
              "size": 10,
              "solidity": 0.2
             }
            },
            "type": "barpolar"
           }
          ],
          "carpet": [
           {
            "aaxis": {
             "endlinecolor": "#2a3f5f",
             "gridcolor": "#C8D4E3",
             "linecolor": "#C8D4E3",
             "minorgridcolor": "#C8D4E3",
             "startlinecolor": "#2a3f5f"
            },
            "baxis": {
             "endlinecolor": "#2a3f5f",
             "gridcolor": "#C8D4E3",
             "linecolor": "#C8D4E3",
             "minorgridcolor": "#C8D4E3",
             "startlinecolor": "#2a3f5f"
            },
            "type": "carpet"
           }
          ],
          "choropleth": [
           {
            "colorbar": {
             "outlinewidth": 0,
             "ticks": ""
            },
            "type": "choropleth"
           }
          ],
          "contour": [
           {
            "colorbar": {
             "outlinewidth": 0,
             "ticks": ""
            },
            "colorscale": [
             [
              0,
              "#0d0887"
             ],
             [
              0.1111111111111111,
              "#46039f"
             ],
             [
              0.2222222222222222,
              "#7201a8"
             ],
             [
              0.3333333333333333,
              "#9c179e"
             ],
             [
              0.4444444444444444,
              "#bd3786"
             ],
             [
              0.5555555555555556,
              "#d8576b"
             ],
             [
              0.6666666666666666,
              "#ed7953"
             ],
             [
              0.7777777777777778,
              "#fb9f3a"
             ],
             [
              0.8888888888888888,
              "#fdca26"
             ],
             [
              1,
              "#f0f921"
             ]
            ],
            "type": "contour"
           }
          ],
          "contourcarpet": [
           {
            "colorbar": {
             "outlinewidth": 0,
             "ticks": ""
            },
            "type": "contourcarpet"
           }
          ],
          "heatmap": [
           {
            "colorbar": {
             "outlinewidth": 0,
             "ticks": ""
            },
            "colorscale": [
             [
              0,
              "#0d0887"
             ],
             [
              0.1111111111111111,
              "#46039f"
             ],
             [
              0.2222222222222222,
              "#7201a8"
             ],
             [
              0.3333333333333333,
              "#9c179e"
             ],
             [
              0.4444444444444444,
              "#bd3786"
             ],
             [
              0.5555555555555556,
              "#d8576b"
             ],
             [
              0.6666666666666666,
              "#ed7953"
             ],
             [
              0.7777777777777778,
              "#fb9f3a"
             ],
             [
              0.8888888888888888,
              "#fdca26"
             ],
             [
              1,
              "#f0f921"
             ]
            ],
            "type": "heatmap"
           }
          ],
          "heatmapgl": [
           {
            "colorbar": {
             "outlinewidth": 0,
             "ticks": ""
            },
            "colorscale": [
             [
              0,
              "#0d0887"
             ],
             [
              0.1111111111111111,
              "#46039f"
             ],
             [
              0.2222222222222222,
              "#7201a8"
             ],
             [
              0.3333333333333333,
              "#9c179e"
             ],
             [
              0.4444444444444444,
              "#bd3786"
             ],
             [
              0.5555555555555556,
              "#d8576b"
             ],
             [
              0.6666666666666666,
              "#ed7953"
             ],
             [
              0.7777777777777778,
              "#fb9f3a"
             ],
             [
              0.8888888888888888,
              "#fdca26"
             ],
             [
              1,
              "#f0f921"
             ]
            ],
            "type": "heatmapgl"
           }
          ],
          "histogram": [
           {
            "marker": {
             "pattern": {
              "fillmode": "overlay",
              "size": 10,
              "solidity": 0.2
             }
            },
            "type": "histogram"
           }
          ],
          "histogram2d": [
           {
            "colorbar": {
             "outlinewidth": 0,
             "ticks": ""
            },
            "colorscale": [
             [
              0,
              "#0d0887"
             ],
             [
              0.1111111111111111,
              "#46039f"
             ],
             [
              0.2222222222222222,
              "#7201a8"
             ],
             [
              0.3333333333333333,
              "#9c179e"
             ],
             [
              0.4444444444444444,
              "#bd3786"
             ],
             [
              0.5555555555555556,
              "#d8576b"
             ],
             [
              0.6666666666666666,
              "#ed7953"
             ],
             [
              0.7777777777777778,
              "#fb9f3a"
             ],
             [
              0.8888888888888888,
              "#fdca26"
             ],
             [
              1,
              "#f0f921"
             ]
            ],
            "type": "histogram2d"
           }
          ],
          "histogram2dcontour": [
           {
            "colorbar": {
             "outlinewidth": 0,
             "ticks": ""
            },
            "colorscale": [
             [
              0,
              "#0d0887"
             ],
             [
              0.1111111111111111,
              "#46039f"
             ],
             [
              0.2222222222222222,
              "#7201a8"
             ],
             [
              0.3333333333333333,
              "#9c179e"
             ],
             [
              0.4444444444444444,
              "#bd3786"
             ],
             [
              0.5555555555555556,
              "#d8576b"
             ],
             [
              0.6666666666666666,
              "#ed7953"
             ],
             [
              0.7777777777777778,
              "#fb9f3a"
             ],
             [
              0.8888888888888888,
              "#fdca26"
             ],
             [
              1,
              "#f0f921"
             ]
            ],
            "type": "histogram2dcontour"
           }
          ],
          "mesh3d": [
           {
            "colorbar": {
             "outlinewidth": 0,
             "ticks": ""
            },
            "type": "mesh3d"
           }
          ],
          "parcoords": [
           {
            "line": {
             "colorbar": {
              "outlinewidth": 0,
              "ticks": ""
             }
            },
            "type": "parcoords"
           }
          ],
          "pie": [
           {
            "automargin": true,
            "type": "pie"
           }
          ],
          "scatter": [
           {
            "fillpattern": {
             "fillmode": "overlay",
             "size": 10,
             "solidity": 0.2
            },
            "type": "scatter"
           }
          ],
          "scatter3d": [
           {
            "line": {
             "colorbar": {
              "outlinewidth": 0,
              "ticks": ""
             }
            },
            "marker": {
             "colorbar": {
              "outlinewidth": 0,
              "ticks": ""
             }
            },
            "type": "scatter3d"
           }
          ],
          "scattercarpet": [
           {
            "marker": {
             "colorbar": {
              "outlinewidth": 0,
              "ticks": ""
             }
            },
            "type": "scattercarpet"
           }
          ],
          "scattergeo": [
           {
            "marker": {
             "colorbar": {
              "outlinewidth": 0,
              "ticks": ""
             }
            },
            "type": "scattergeo"
           }
          ],
          "scattergl": [
           {
            "marker": {
             "colorbar": {
              "outlinewidth": 0,
              "ticks": ""
             }
            },
            "type": "scattergl"
           }
          ],
          "scattermapbox": [
           {
            "marker": {
             "colorbar": {
              "outlinewidth": 0,
              "ticks": ""
             }
            },
            "type": "scattermapbox"
           }
          ],
          "scatterpolar": [
           {
            "marker": {
             "colorbar": {
              "outlinewidth": 0,
              "ticks": ""
             }
            },
            "type": "scatterpolar"
           }
          ],
          "scatterpolargl": [
           {
            "marker": {
             "colorbar": {
              "outlinewidth": 0,
              "ticks": ""
             }
            },
            "type": "scatterpolargl"
           }
          ],
          "scatterternary": [
           {
            "marker": {
             "colorbar": {
              "outlinewidth": 0,
              "ticks": ""
             }
            },
            "type": "scatterternary"
           }
          ],
          "surface": [
           {
            "colorbar": {
             "outlinewidth": 0,
             "ticks": ""
            },
            "colorscale": [
             [
              0,
              "#0d0887"
             ],
             [
              0.1111111111111111,
              "#46039f"
             ],
             [
              0.2222222222222222,
              "#7201a8"
             ],
             [
              0.3333333333333333,
              "#9c179e"
             ],
             [
              0.4444444444444444,
              "#bd3786"
             ],
             [
              0.5555555555555556,
              "#d8576b"
             ],
             [
              0.6666666666666666,
              "#ed7953"
             ],
             [
              0.7777777777777778,
              "#fb9f3a"
             ],
             [
              0.8888888888888888,
              "#fdca26"
             ],
             [
              1,
              "#f0f921"
             ]
            ],
            "type": "surface"
           }
          ],
          "table": [
           {
            "cells": {
             "fill": {
              "color": "#EBF0F8"
             },
             "line": {
              "color": "white"
             }
            },
            "header": {
             "fill": {
              "color": "#C8D4E3"
             },
             "line": {
              "color": "white"
             }
            },
            "type": "table"
           }
          ]
         },
         "layout": {
          "annotationdefaults": {
           "arrowcolor": "#2a3f5f",
           "arrowhead": 0,
           "arrowwidth": 1
          },
          "autotypenumbers": "strict",
          "coloraxis": {
           "colorbar": {
            "outlinewidth": 0,
            "ticks": ""
           }
          },
          "colorscale": {
           "diverging": [
            [
             0,
             "#8e0152"
            ],
            [
             0.1,
             "#c51b7d"
            ],
            [
             0.2,
             "#de77ae"
            ],
            [
             0.3,
             "#f1b6da"
            ],
            [
             0.4,
             "#fde0ef"
            ],
            [
             0.5,
             "#f7f7f7"
            ],
            [
             0.6,
             "#e6f5d0"
            ],
            [
             0.7,
             "#b8e186"
            ],
            [
             0.8,
             "#7fbc41"
            ],
            [
             0.9,
             "#4d9221"
            ],
            [
             1,
             "#276419"
            ]
           ],
           "sequential": [
            [
             0,
             "#0d0887"
            ],
            [
             0.1111111111111111,
             "#46039f"
            ],
            [
             0.2222222222222222,
             "#7201a8"
            ],
            [
             0.3333333333333333,
             "#9c179e"
            ],
            [
             0.4444444444444444,
             "#bd3786"
            ],
            [
             0.5555555555555556,
             "#d8576b"
            ],
            [
             0.6666666666666666,
             "#ed7953"
            ],
            [
             0.7777777777777778,
             "#fb9f3a"
            ],
            [
             0.8888888888888888,
             "#fdca26"
            ],
            [
             1,
             "#f0f921"
            ]
           ],
           "sequentialminus": [
            [
             0,
             "#0d0887"
            ],
            [
             0.1111111111111111,
             "#46039f"
            ],
            [
             0.2222222222222222,
             "#7201a8"
            ],
            [
             0.3333333333333333,
             "#9c179e"
            ],
            [
             0.4444444444444444,
             "#bd3786"
            ],
            [
             0.5555555555555556,
             "#d8576b"
            ],
            [
             0.6666666666666666,
             "#ed7953"
            ],
            [
             0.7777777777777778,
             "#fb9f3a"
            ],
            [
             0.8888888888888888,
             "#fdca26"
            ],
            [
             1,
             "#f0f921"
            ]
           ]
          },
          "colorway": [
           "#636efa",
           "#EF553B",
           "#00cc96",
           "#ab63fa",
           "#FFA15A",
           "#19d3f3",
           "#FF6692",
           "#B6E880",
           "#FF97FF",
           "#FECB52"
          ],
          "font": {
           "color": "#2a3f5f"
          },
          "geo": {
           "bgcolor": "white",
           "lakecolor": "white",
           "landcolor": "white",
           "showlakes": true,
           "showland": true,
           "subunitcolor": "#C8D4E3"
          },
          "hoverlabel": {
           "align": "left"
          },
          "hovermode": "closest",
          "mapbox": {
           "style": "light"
          },
          "paper_bgcolor": "white",
          "plot_bgcolor": "white",
          "polar": {
           "angularaxis": {
            "gridcolor": "#EBF0F8",
            "linecolor": "#EBF0F8",
            "ticks": ""
           },
           "bgcolor": "white",
           "radialaxis": {
            "gridcolor": "#EBF0F8",
            "linecolor": "#EBF0F8",
            "ticks": ""
           }
          },
          "scene": {
           "xaxis": {
            "backgroundcolor": "white",
            "gridcolor": "#DFE8F3",
            "gridwidth": 2,
            "linecolor": "#EBF0F8",
            "showbackground": true,
            "ticks": "",
            "zerolinecolor": "#EBF0F8"
           },
           "yaxis": {
            "backgroundcolor": "white",
            "gridcolor": "#DFE8F3",
            "gridwidth": 2,
            "linecolor": "#EBF0F8",
            "showbackground": true,
            "ticks": "",
            "zerolinecolor": "#EBF0F8"
           },
           "zaxis": {
            "backgroundcolor": "white",
            "gridcolor": "#DFE8F3",
            "gridwidth": 2,
            "linecolor": "#EBF0F8",
            "showbackground": true,
            "ticks": "",
            "zerolinecolor": "#EBF0F8"
           }
          },
          "shapedefaults": {
           "line": {
            "color": "#2a3f5f"
           }
          },
          "ternary": {
           "aaxis": {
            "gridcolor": "#DFE8F3",
            "linecolor": "#A2B1C6",
            "ticks": ""
           },
           "baxis": {
            "gridcolor": "#DFE8F3",
            "linecolor": "#A2B1C6",
            "ticks": ""
           },
           "bgcolor": "white",
           "caxis": {
            "gridcolor": "#DFE8F3",
            "linecolor": "#A2B1C6",
            "ticks": ""
           }
          },
          "title": {
           "x": 0.05
          },
          "xaxis": {
           "automargin": true,
           "gridcolor": "#EBF0F8",
           "linecolor": "#EBF0F8",
           "ticks": "",
           "title": {
            "standoff": 15
           },
           "zerolinecolor": "#EBF0F8",
           "zerolinewidth": 2
          },
          "yaxis": {
           "automargin": true,
           "gridcolor": "#EBF0F8",
           "linecolor": "#EBF0F8",
           "ticks": "",
           "title": {
            "standoff": 15
           },
           "zerolinecolor": "#EBF0F8",
           "zerolinewidth": 2
          }
         }
        },
        "title": {
         "font": {
          "color": "Black",
          "size": 22
         },
         "text": "Topic Key Words in Each Economic Topics",
         "x": 0.5,
         "xanchor": "center",
         "yanchor": "top"
        },
        "width": 1200,
        "xaxis": {
         "anchor": "y",
         "domain": [
          0,
          0.175
         ],
         "showgrid": true
        },
        "xaxis2": {
         "anchor": "y2",
         "domain": [
          0.275,
          0.45
         ],
         "showgrid": true
        },
        "xaxis3": {
         "anchor": "y3",
         "domain": [
          0.55,
          0.7250000000000001
         ],
         "showgrid": true
        },
        "xaxis4": {
         "anchor": "y4",
         "domain": [
          0.825,
          1
         ],
         "showgrid": true
        },
        "xaxis5": {
         "anchor": "y5",
         "domain": [
          0,
          0.175
         ],
         "showgrid": true
        },
        "xaxis6": {
         "anchor": "y6",
         "domain": [
          0.275,
          0.45
         ],
         "showgrid": true
        },
        "xaxis7": {
         "anchor": "y7",
         "domain": [
          0.55,
          0.7250000000000001
         ],
         "showgrid": true
        },
        "xaxis8": {
         "anchor": "y8",
         "domain": [
          0.825,
          1
         ],
         "showgrid": true
        },
        "yaxis": {
         "anchor": "x",
         "domain": [
          0.6000000000000001,
          1
         ],
         "showgrid": true
        },
        "yaxis2": {
         "anchor": "x2",
         "domain": [
          0.6000000000000001,
          1
         ],
         "showgrid": true
        },
        "yaxis3": {
         "anchor": "x3",
         "domain": [
          0.6000000000000001,
          1
         ],
         "showgrid": true
        },
        "yaxis4": {
         "anchor": "x4",
         "domain": [
          0.6000000000000001,
          1
         ],
         "showgrid": true
        },
        "yaxis5": {
         "anchor": "x5",
         "domain": [
          0,
          0.4
         ],
         "showgrid": true
        },
        "yaxis6": {
         "anchor": "x6",
         "domain": [
          0,
          0.4
         ],
         "showgrid": true
        },
        "yaxis7": {
         "anchor": "x7",
         "domain": [
          0,
          0.4
         ],
         "showgrid": true
        },
        "yaxis8": {
         "anchor": "x8",
         "domain": [
          0,
          0.4
         ],
         "showgrid": true
        }
       }
      }
     },
     "metadata": {},
     "output_type": "display_data"
    }
   ],
   "source": [
    "topic_model.visualize_barchart(n_words = 5, top_n_topics = 8, width=300, height=300, title=\"Topic Key Words in Each Economic Topics\")"
   ]
  },
  {
   "attachments": {},
   "cell_type": "markdown",
   "metadata": {},
   "source": [
    "#### 4.2.4 Similarity Matrix of Topics"
   ]
  },
  {
   "cell_type": "code",
   "execution_count": 50,
   "metadata": {},
   "outputs": [
    {
     "data": {
      "application/vnd.plotly.v1+json": {
       "config": {
        "plotlyServerURL": "https://plot.ly"
       },
       "data": [
        {
         "coloraxis": "coloraxis",
         "hovertemplate": "x: %{x}<br>y: %{y}<br>Similarity Score: %{z}<extra></extra>",
         "name": "0",
         "type": "heatmap",
         "x": [
          "0_model_financial_policy",
          "1_game_agent_games",
          "2_wage_workers_unemployment",
          "3_trade_export_firms",
          "4_consumers_price_firms",
          "5_emissions_environmental_e...",
          "6_political_voters_elections",
          "7_students_school_schools",
          "8_marriage_children_child",
          "9_health_insurance_care"
         ],
         "xaxis": "x",
         "y": [
          "0_model_financial_policy",
          "1_game_agent_games",
          "2_wage_workers_unemployment",
          "3_trade_export_firms",
          "4_consumers_price_firms",
          "5_emissions_environmental_e...",
          "6_political_voters_elections",
          "7_students_school_schools",
          "8_marriage_children_child",
          "9_health_insurance_care"
         ],
         "yaxis": "y",
         "z": [
          [
           1.0000000000000002,
           0.7147984475534911,
           0.7014265407639376,
           0.7006396257199394,
           0.7778786047625297,
           0.5922797684354025,
           0.5022375439392693,
           0.5531182528435046,
           0.6001441770957048,
           0.6000236844562628
          ],
          [
           0.7147984475534911,
           1.0000000000000002,
           0.6284216212907492,
           0.6320490711101101,
           0.6804351140485507,
           0.5383010283871257,
           0.5738934063448802,
           0.6201421904336015,
           0.6294546660414082,
           0.566983817052494
          ],
          [
           0.7014265407639376,
           0.6284216212907492,
           1.0000000000000004,
           0.6609332232573086,
           0.6729068782699498,
           0.5061633122729859,
           0.4921872479800501,
           0.560295780574679,
           0.579782305444816,
           0.5661429379977096
          ],
          [
           0.7006396257199394,
           0.6320490711101101,
           0.6609332232573086,
           0.9999999999999999,
           0.7764920194289504,
           0.5144630801637335,
           0.4548392719816442,
           0.4376551486653905,
           0.44561409449929806,
           0.4406325828077863
          ],
          [
           0.7778786047625297,
           0.6804351140485507,
           0.6729068782699498,
           0.7764920194289504,
           0.9999999999999996,
           0.522163487970389,
           0.5066375660264243,
           0.5007192907620102,
           0.5236222975116621,
           0.49166176360780944
          ],
          [
           0.5922797684354025,
           0.5383010283871257,
           0.5061633122729859,
           0.5144630801637335,
           0.522163487970389,
           0.9999999999999999,
           0.4604255353650464,
           0.43793502148395347,
           0.503628961458128,
           0.42973176229642174
          ],
          [
           0.5022375439392693,
           0.5738934063448802,
           0.4921872479800501,
           0.4548392719816442,
           0.5066375660264243,
           0.4604255353650464,
           0.9999999999999996,
           0.49034459163657174,
           0.514394710505574,
           0.4131424753009892
          ],
          [
           0.5531182528435046,
           0.6201421904336015,
           0.560295780574679,
           0.4376551486653905,
           0.5007192907620102,
           0.43793502148395347,
           0.49034459163657174,
           0.9999999999999996,
           0.6035688122754659,
           0.4762564452741156
          ],
          [
           0.6001441770957048,
           0.6294546660414082,
           0.579782305444816,
           0.44561409449929806,
           0.5236222975116621,
           0.503628961458128,
           0.514394710505574,
           0.6035688122754659,
           0.9999999999999994,
           0.6035421588661118
          ],
          [
           0.6000236844562628,
           0.566983817052494,
           0.5661429379977096,
           0.4406325828077863,
           0.49166176360780944,
           0.42973176229642174,
           0.4131424753009892,
           0.4762564452741156,
           0.6035421588661118,
           0.9999999999999998
          ]
         ]
        }
       ],
       "layout": {
        "coloraxis": {
         "colorbar": {
          "title": {
           "text": "Similarity Score"
          }
         },
         "colorscale": [
          [
           0,
           "rgb(247,252,240)"
          ],
          [
           0.125,
           "rgb(224,243,219)"
          ],
          [
           0.25,
           "rgb(204,235,197)"
          ],
          [
           0.375,
           "rgb(168,221,181)"
          ],
          [
           0.5,
           "rgb(123,204,196)"
          ],
          [
           0.625,
           "rgb(78,179,211)"
          ],
          [
           0.75,
           "rgb(43,140,190)"
          ],
          [
           0.875,
           "rgb(8,104,172)"
          ],
          [
           1,
           "rgb(8,64,129)"
          ]
         ]
        },
        "height": 600,
        "hoverlabel": {
         "bgcolor": "white",
         "font": {
          "family": "Rockwell",
          "size": 16
         }
        },
        "legend": {
         "title": {
          "text": "Trend"
         }
        },
        "margin": {
         "t": 60
        },
        "showlegend": true,
        "template": {
         "data": {
          "bar": [
           {
            "error_x": {
             "color": "#2a3f5f"
            },
            "error_y": {
             "color": "#2a3f5f"
            },
            "marker": {
             "line": {
              "color": "#E5ECF6",
              "width": 0.5
             },
             "pattern": {
              "fillmode": "overlay",
              "size": 10,
              "solidity": 0.2
             }
            },
            "type": "bar"
           }
          ],
          "barpolar": [
           {
            "marker": {
             "line": {
              "color": "#E5ECF6",
              "width": 0.5
             },
             "pattern": {
              "fillmode": "overlay",
              "size": 10,
              "solidity": 0.2
             }
            },
            "type": "barpolar"
           }
          ],
          "carpet": [
           {
            "aaxis": {
             "endlinecolor": "#2a3f5f",
             "gridcolor": "white",
             "linecolor": "white",
             "minorgridcolor": "white",
             "startlinecolor": "#2a3f5f"
            },
            "baxis": {
             "endlinecolor": "#2a3f5f",
             "gridcolor": "white",
             "linecolor": "white",
             "minorgridcolor": "white",
             "startlinecolor": "#2a3f5f"
            },
            "type": "carpet"
           }
          ],
          "choropleth": [
           {
            "colorbar": {
             "outlinewidth": 0,
             "ticks": ""
            },
            "type": "choropleth"
           }
          ],
          "contour": [
           {
            "colorbar": {
             "outlinewidth": 0,
             "ticks": ""
            },
            "colorscale": [
             [
              0,
              "#0d0887"
             ],
             [
              0.1111111111111111,
              "#46039f"
             ],
             [
              0.2222222222222222,
              "#7201a8"
             ],
             [
              0.3333333333333333,
              "#9c179e"
             ],
             [
              0.4444444444444444,
              "#bd3786"
             ],
             [
              0.5555555555555556,
              "#d8576b"
             ],
             [
              0.6666666666666666,
              "#ed7953"
             ],
             [
              0.7777777777777778,
              "#fb9f3a"
             ],
             [
              0.8888888888888888,
              "#fdca26"
             ],
             [
              1,
              "#f0f921"
             ]
            ],
            "type": "contour"
           }
          ],
          "contourcarpet": [
           {
            "colorbar": {
             "outlinewidth": 0,
             "ticks": ""
            },
            "type": "contourcarpet"
           }
          ],
          "heatmap": [
           {
            "colorbar": {
             "outlinewidth": 0,
             "ticks": ""
            },
            "colorscale": [
             [
              0,
              "#0d0887"
             ],
             [
              0.1111111111111111,
              "#46039f"
             ],
             [
              0.2222222222222222,
              "#7201a8"
             ],
             [
              0.3333333333333333,
              "#9c179e"
             ],
             [
              0.4444444444444444,
              "#bd3786"
             ],
             [
              0.5555555555555556,
              "#d8576b"
             ],
             [
              0.6666666666666666,
              "#ed7953"
             ],
             [
              0.7777777777777778,
              "#fb9f3a"
             ],
             [
              0.8888888888888888,
              "#fdca26"
             ],
             [
              1,
              "#f0f921"
             ]
            ],
            "type": "heatmap"
           }
          ],
          "heatmapgl": [
           {
            "colorbar": {
             "outlinewidth": 0,
             "ticks": ""
            },
            "colorscale": [
             [
              0,
              "#0d0887"
             ],
             [
              0.1111111111111111,
              "#46039f"
             ],
             [
              0.2222222222222222,
              "#7201a8"
             ],
             [
              0.3333333333333333,
              "#9c179e"
             ],
             [
              0.4444444444444444,
              "#bd3786"
             ],
             [
              0.5555555555555556,
              "#d8576b"
             ],
             [
              0.6666666666666666,
              "#ed7953"
             ],
             [
              0.7777777777777778,
              "#fb9f3a"
             ],
             [
              0.8888888888888888,
              "#fdca26"
             ],
             [
              1,
              "#f0f921"
             ]
            ],
            "type": "heatmapgl"
           }
          ],
          "histogram": [
           {
            "marker": {
             "pattern": {
              "fillmode": "overlay",
              "size": 10,
              "solidity": 0.2
             }
            },
            "type": "histogram"
           }
          ],
          "histogram2d": [
           {
            "colorbar": {
             "outlinewidth": 0,
             "ticks": ""
            },
            "colorscale": [
             [
              0,
              "#0d0887"
             ],
             [
              0.1111111111111111,
              "#46039f"
             ],
             [
              0.2222222222222222,
              "#7201a8"
             ],
             [
              0.3333333333333333,
              "#9c179e"
             ],
             [
              0.4444444444444444,
              "#bd3786"
             ],
             [
              0.5555555555555556,
              "#d8576b"
             ],
             [
              0.6666666666666666,
              "#ed7953"
             ],
             [
              0.7777777777777778,
              "#fb9f3a"
             ],
             [
              0.8888888888888888,
              "#fdca26"
             ],
             [
              1,
              "#f0f921"
             ]
            ],
            "type": "histogram2d"
           }
          ],
          "histogram2dcontour": [
           {
            "colorbar": {
             "outlinewidth": 0,
             "ticks": ""
            },
            "colorscale": [
             [
              0,
              "#0d0887"
             ],
             [
              0.1111111111111111,
              "#46039f"
             ],
             [
              0.2222222222222222,
              "#7201a8"
             ],
             [
              0.3333333333333333,
              "#9c179e"
             ],
             [
              0.4444444444444444,
              "#bd3786"
             ],
             [
              0.5555555555555556,
              "#d8576b"
             ],
             [
              0.6666666666666666,
              "#ed7953"
             ],
             [
              0.7777777777777778,
              "#fb9f3a"
             ],
             [
              0.8888888888888888,
              "#fdca26"
             ],
             [
              1,
              "#f0f921"
             ]
            ],
            "type": "histogram2dcontour"
           }
          ],
          "mesh3d": [
           {
            "colorbar": {
             "outlinewidth": 0,
             "ticks": ""
            },
            "type": "mesh3d"
           }
          ],
          "parcoords": [
           {
            "line": {
             "colorbar": {
              "outlinewidth": 0,
              "ticks": ""
             }
            },
            "type": "parcoords"
           }
          ],
          "pie": [
           {
            "automargin": true,
            "type": "pie"
           }
          ],
          "scatter": [
           {
            "fillpattern": {
             "fillmode": "overlay",
             "size": 10,
             "solidity": 0.2
            },
            "type": "scatter"
           }
          ],
          "scatter3d": [
           {
            "line": {
             "colorbar": {
              "outlinewidth": 0,
              "ticks": ""
             }
            },
            "marker": {
             "colorbar": {
              "outlinewidth": 0,
              "ticks": ""
             }
            },
            "type": "scatter3d"
           }
          ],
          "scattercarpet": [
           {
            "marker": {
             "colorbar": {
              "outlinewidth": 0,
              "ticks": ""
             }
            },
            "type": "scattercarpet"
           }
          ],
          "scattergeo": [
           {
            "marker": {
             "colorbar": {
              "outlinewidth": 0,
              "ticks": ""
             }
            },
            "type": "scattergeo"
           }
          ],
          "scattergl": [
           {
            "marker": {
             "colorbar": {
              "outlinewidth": 0,
              "ticks": ""
             }
            },
            "type": "scattergl"
           }
          ],
          "scattermapbox": [
           {
            "marker": {
             "colorbar": {
              "outlinewidth": 0,
              "ticks": ""
             }
            },
            "type": "scattermapbox"
           }
          ],
          "scatterpolar": [
           {
            "marker": {
             "colorbar": {
              "outlinewidth": 0,
              "ticks": ""
             }
            },
            "type": "scatterpolar"
           }
          ],
          "scatterpolargl": [
           {
            "marker": {
             "colorbar": {
              "outlinewidth": 0,
              "ticks": ""
             }
            },
            "type": "scatterpolargl"
           }
          ],
          "scatterternary": [
           {
            "marker": {
             "colorbar": {
              "outlinewidth": 0,
              "ticks": ""
             }
            },
            "type": "scatterternary"
           }
          ],
          "surface": [
           {
            "colorbar": {
             "outlinewidth": 0,
             "ticks": ""
            },
            "colorscale": [
             [
              0,
              "#0d0887"
             ],
             [
              0.1111111111111111,
              "#46039f"
             ],
             [
              0.2222222222222222,
              "#7201a8"
             ],
             [
              0.3333333333333333,
              "#9c179e"
             ],
             [
              0.4444444444444444,
              "#bd3786"
             ],
             [
              0.5555555555555556,
              "#d8576b"
             ],
             [
              0.6666666666666666,
              "#ed7953"
             ],
             [
              0.7777777777777778,
              "#fb9f3a"
             ],
             [
              0.8888888888888888,
              "#fdca26"
             ],
             [
              1,
              "#f0f921"
             ]
            ],
            "type": "surface"
           }
          ],
          "table": [
           {
            "cells": {
             "fill": {
              "color": "#EBF0F8"
             },
             "line": {
              "color": "white"
             }
            },
            "header": {
             "fill": {
              "color": "#C8D4E3"
             },
             "line": {
              "color": "white"
             }
            },
            "type": "table"
           }
          ]
         },
         "layout": {
          "annotationdefaults": {
           "arrowcolor": "#2a3f5f",
           "arrowhead": 0,
           "arrowwidth": 1
          },
          "autotypenumbers": "strict",
          "coloraxis": {
           "colorbar": {
            "outlinewidth": 0,
            "ticks": ""
           }
          },
          "colorscale": {
           "diverging": [
            [
             0,
             "#8e0152"
            ],
            [
             0.1,
             "#c51b7d"
            ],
            [
             0.2,
             "#de77ae"
            ],
            [
             0.3,
             "#f1b6da"
            ],
            [
             0.4,
             "#fde0ef"
            ],
            [
             0.5,
             "#f7f7f7"
            ],
            [
             0.6,
             "#e6f5d0"
            ],
            [
             0.7,
             "#b8e186"
            ],
            [
             0.8,
             "#7fbc41"
            ],
            [
             0.9,
             "#4d9221"
            ],
            [
             1,
             "#276419"
            ]
           ],
           "sequential": [
            [
             0,
             "#0d0887"
            ],
            [
             0.1111111111111111,
             "#46039f"
            ],
            [
             0.2222222222222222,
             "#7201a8"
            ],
            [
             0.3333333333333333,
             "#9c179e"
            ],
            [
             0.4444444444444444,
             "#bd3786"
            ],
            [
             0.5555555555555556,
             "#d8576b"
            ],
            [
             0.6666666666666666,
             "#ed7953"
            ],
            [
             0.7777777777777778,
             "#fb9f3a"
            ],
            [
             0.8888888888888888,
             "#fdca26"
            ],
            [
             1,
             "#f0f921"
            ]
           ],
           "sequentialminus": [
            [
             0,
             "#0d0887"
            ],
            [
             0.1111111111111111,
             "#46039f"
            ],
            [
             0.2222222222222222,
             "#7201a8"
            ],
            [
             0.3333333333333333,
             "#9c179e"
            ],
            [
             0.4444444444444444,
             "#bd3786"
            ],
            [
             0.5555555555555556,
             "#d8576b"
            ],
            [
             0.6666666666666666,
             "#ed7953"
            ],
            [
             0.7777777777777778,
             "#fb9f3a"
            ],
            [
             0.8888888888888888,
             "#fdca26"
            ],
            [
             1,
             "#f0f921"
            ]
           ]
          },
          "colorway": [
           "#636efa",
           "#EF553B",
           "#00cc96",
           "#ab63fa",
           "#FFA15A",
           "#19d3f3",
           "#FF6692",
           "#B6E880",
           "#FF97FF",
           "#FECB52"
          ],
          "font": {
           "color": "#2a3f5f"
          },
          "geo": {
           "bgcolor": "white",
           "lakecolor": "white",
           "landcolor": "#E5ECF6",
           "showlakes": true,
           "showland": true,
           "subunitcolor": "white"
          },
          "hoverlabel": {
           "align": "left"
          },
          "hovermode": "closest",
          "mapbox": {
           "style": "light"
          },
          "paper_bgcolor": "white",
          "plot_bgcolor": "#E5ECF6",
          "polar": {
           "angularaxis": {
            "gridcolor": "white",
            "linecolor": "white",
            "ticks": ""
           },
           "bgcolor": "#E5ECF6",
           "radialaxis": {
            "gridcolor": "white",
            "linecolor": "white",
            "ticks": ""
           }
          },
          "scene": {
           "xaxis": {
            "backgroundcolor": "#E5ECF6",
            "gridcolor": "white",
            "gridwidth": 2,
            "linecolor": "white",
            "showbackground": true,
            "ticks": "",
            "zerolinecolor": "white"
           },
           "yaxis": {
            "backgroundcolor": "#E5ECF6",
            "gridcolor": "white",
            "gridwidth": 2,
            "linecolor": "white",
            "showbackground": true,
            "ticks": "",
            "zerolinecolor": "white"
           },
           "zaxis": {
            "backgroundcolor": "#E5ECF6",
            "gridcolor": "white",
            "gridwidth": 2,
            "linecolor": "white",
            "showbackground": true,
            "ticks": "",
            "zerolinecolor": "white"
           }
          },
          "shapedefaults": {
           "line": {
            "color": "#2a3f5f"
           }
          },
          "ternary": {
           "aaxis": {
            "gridcolor": "white",
            "linecolor": "white",
            "ticks": ""
           },
           "baxis": {
            "gridcolor": "white",
            "linecolor": "white",
            "ticks": ""
           },
           "bgcolor": "#E5ECF6",
           "caxis": {
            "gridcolor": "white",
            "linecolor": "white",
            "ticks": ""
           }
          },
          "title": {
           "x": 0.05
          },
          "xaxis": {
           "automargin": true,
           "gridcolor": "white",
           "linecolor": "white",
           "ticks": "",
           "title": {
            "standoff": 15
           },
           "zerolinecolor": "white",
           "zerolinewidth": 2
          },
          "yaxis": {
           "automargin": true,
           "gridcolor": "white",
           "linecolor": "white",
           "ticks": "",
           "title": {
            "standoff": 15
           },
           "zerolinecolor": "white",
           "zerolinewidth": 2
          }
         }
        },
        "title": {
         "font": {
          "color": "Black",
          "size": 22
         },
         "text": "<b>Similarity Matrix</b>",
         "x": 0.55,
         "xanchor": "center",
         "y": 0.95,
         "yanchor": "top"
        },
        "width": 600,
        "xaxis": {
         "anchor": "y",
         "constrain": "domain",
         "domain": [
          0,
          1
         ],
         "scaleanchor": "y"
        },
        "yaxis": {
         "anchor": "x",
         "autorange": "reversed",
         "constrain": "domain",
         "domain": [
          0,
          1
         ]
        }
       }
      }
     },
     "metadata": {},
     "output_type": "display_data"
    }
   ],
   "source": [
    "fig = topic_model.visualize_heatmap(top_n_topics = 10, width = 600, height = 600)\n",
    "fig"
   ]
  },
  {
   "attachments": {},
   "cell_type": "markdown",
   "metadata": {},
   "source": [
    "### 4.3 Further Split of the Dominating Topic 0"
   ]
  },
  {
   "cell_type": "code",
   "execution_count": 62,
   "metadata": {},
   "outputs": [
    {
     "data": {
      "text/html": [
       "<div>\n",
       "<style scoped>\n",
       "    .dataframe tbody tr th:only-of-type {\n",
       "        vertical-align: middle;\n",
       "    }\n",
       "\n",
       "    .dataframe tbody tr th {\n",
       "        vertical-align: top;\n",
       "    }\n",
       "\n",
       "    .dataframe thead th {\n",
       "        text-align: right;\n",
       "    }\n",
       "</style>\n",
       "<table border=\"1\" class=\"dataframe\">\n",
       "  <thead>\n",
       "    <tr style=\"text-align: right;\">\n",
       "      <th></th>\n",
       "      <th>doi</th>\n",
       "      <th>journal</th>\n",
       "      <th>title</th>\n",
       "      <th>abstract</th>\n",
       "      <th>date</th>\n",
       "      <th>name</th>\n",
       "      <th>rank</th>\n",
       "      <th>topic</th>\n",
       "    </tr>\n",
       "  </thead>\n",
       "  <tbody>\n",
       "    <tr>\n",
       "      <th>0</th>\n",
       "      <td>10.1257/aer.102.7.3774</td>\n",
       "      <td>American Economic Review</td>\n",
       "      <td>Growth Dynamics: The Myth of Economic Recovery...</td>\n",
       "      <td>comment highlights different ways coding crisi...</td>\n",
       "      <td>2012-12-15</td>\n",
       "      <td>Spanish National Research Council</td>\n",
       "      <td></td>\n",
       "      <td>18</td>\n",
       "    </tr>\n",
       "    <tr>\n",
       "      <th>1</th>\n",
       "      <td>10.1093/rfs/hhs063</td>\n",
       "      <td>Review of Financial Studies</td>\n",
       "      <td>Asymmetric Information, Portfolio Managers, an...</td>\n",
       "      <td>propose model delegated asset management expla...</td>\n",
       "      <td>2012-07-15</td>\n",
       "      <td>University of Toronto</td>\n",
       "      <td>71</td>\n",
       "      <td>0</td>\n",
       "    </tr>\n",
       "    <tr>\n",
       "      <th>2</th>\n",
       "      <td>10.1093/rfs/hhs054</td>\n",
       "      <td>Review of Financial Studies</td>\n",
       "      <td>Dynamic Compensation Contracts with Private Sa...</td>\n",
       "      <td>article studies dynamic agency problem risk-av...</td>\n",
       "      <td>2012-05-15</td>\n",
       "      <td>University of Chicago</td>\n",
       "      <td>9</td>\n",
       "      <td>-1</td>\n",
       "    </tr>\n",
       "    <tr>\n",
       "      <th>3</th>\n",
       "      <td>10.1016/j.econlet.2011.12.032</td>\n",
       "      <td>Economics Letters</td>\n",
       "      <td>Welfare of naive and sophisticated players in ...</td>\n",
       "      <td>abdulkadiroglu et al . ( 2011 ) show naive par...</td>\n",
       "      <td>2012-05-15</td>\n",
       "      <td>Pompeu Fabra University</td>\n",
       "      <td></td>\n",
       "      <td>-1</td>\n",
       "    </tr>\n",
       "    <tr>\n",
       "      <th>4</th>\n",
       "      <td>10.1093/rfs/hhr131</td>\n",
       "      <td>Review of Financial Studies</td>\n",
       "      <td>Optimal Corporate Governance and Compensation ...</td>\n",
       "      <td>model long-run firm performance , management c...</td>\n",
       "      <td>2012-02-15</td>\n",
       "      <td>University of Oxford</td>\n",
       "      <td>28</td>\n",
       "      <td>0</td>\n",
       "    </tr>\n",
       "  </tbody>\n",
       "</table>\n",
       "</div>"
      ],
      "text/plain": [
       "                             doi                      journal  \\\n",
       "0         10.1257/aer.102.7.3774     American Economic Review   \n",
       "1             10.1093/rfs/hhs063  Review of Financial Studies   \n",
       "2             10.1093/rfs/hhs054  Review of Financial Studies   \n",
       "3  10.1016/j.econlet.2011.12.032            Economics Letters   \n",
       "4             10.1093/rfs/hhr131  Review of Financial Studies   \n",
       "\n",
       "                                               title  \\\n",
       "0  Growth Dynamics: The Myth of Economic Recovery...   \n",
       "1  Asymmetric Information, Portfolio Managers, an...   \n",
       "2  Dynamic Compensation Contracts with Private Sa...   \n",
       "3  Welfare of naive and sophisticated players in ...   \n",
       "4  Optimal Corporate Governance and Compensation ...   \n",
       "\n",
       "                                            abstract       date  \\\n",
       "0  comment highlights different ways coding crisi... 2012-12-15   \n",
       "1  propose model delegated asset management expla... 2012-07-15   \n",
       "2  article studies dynamic agency problem risk-av... 2012-05-15   \n",
       "3  abdulkadiroglu et al . ( 2011 ) show naive par... 2012-05-15   \n",
       "4  model long-run firm performance , management c... 2012-02-15   \n",
       "\n",
       "                                name rank  topic  \n",
       "0  Spanish National Research Council          18  \n",
       "1              University of Toronto   71      0  \n",
       "2              University of Chicago    9     -1  \n",
       "3            Pompeu Fabra University          -1  \n",
       "4               University of Oxford   28      0  "
      ]
     },
     "execution_count": 62,
     "metadata": {},
     "output_type": "execute_result"
    }
   ],
   "source": [
    "# get the most significant topic an abstract belongs to \n",
    "df_s[\"topic\"] = topics\n",
    "df_s.head()"
   ]
  },
  {
   "cell_type": "code",
   "execution_count": 52,
   "metadata": {},
   "outputs": [],
   "source": [
    "# get topic 0 abstracts\n",
    "abstracts = df_s[df_s[\"topic\"] == 0].abstract.to_list()\n",
    "dates = df_s[df_s[\"topic\"] == 0]['date'].to_list()"
   ]
  },
  {
   "cell_type": "code",
   "execution_count": 53,
   "metadata": {},
   "outputs": [
    {
     "data": {
      "application/vnd.jupyter.widget-view+json": {
       "model_id": "ce276a6a86474165943d9702d6c2af3a",
       "version_major": 2,
       "version_minor": 0
      },
      "text/plain": [
       "Batches:   0%|          | 0/172 [00:00<?, ?it/s]"
      ]
     },
     "metadata": {},
     "output_type": "display_data"
    },
    {
     "name": "stderr",
     "output_type": "stream",
     "text": [
      "2023-03-06 17:36:06,096 - BERTopic - Transformed documents to Embeddings\n",
      "2023-03-06 17:36:14,471 - BERTopic - Reduced dimensionality\n",
      "2023-03-06 17:36:14,704 - BERTopic - Clustered reduced embeddings\n",
      "60it [00:03, 19.15it/s]\n"
     ]
    }
   ],
   "source": [
    "# n_neighbors: smaller local strcuture lose connection, bigger all connection lose local structure\n",
    "# n_component: dimensionality of reduced dimension space\n",
    "# min_dist: how tightly UMAP is allowed to pack points together\n",
    "umap_model = UMAP(n_neighbors=15, n_components=10, \n",
    "                  min_dist=0.01, metric='euclidean', random_state=1)\n",
    "\n",
    "topic_model = BERTopic(min_topic_size=70,verbose=True,umap_model=umap_model)\n",
    "topics, probs = topic_model.fit_transform(abstracts)\n",
    "topics_over_time = topic_model.topics_over_time(abstracts, dates, evolution_tuning=True, global_tuning=True,  nr_bins=60)"
   ]
  },
  {
   "attachments": {},
   "cell_type": "markdown",
   "metadata": {},
   "source": [
    "#### 4.3.1 Keywords in Each Subtopic of Topic 0"
   ]
  },
  {
   "cell_type": "code",
   "execution_count": 54,
   "metadata": {},
   "outputs": [
    {
     "data": {
      "application/vnd.plotly.v1+json": {
       "config": {
        "plotlyServerURL": "https://plot.ly"
       },
       "data": [
        {
         "marker": {
          "color": "#D55E00"
         },
         "orientation": "h",
         "type": "bar",
         "x": [
          0.02241433558510852,
          0.02330114734378746,
          0.0243299134542074,
          0.024456687007900702,
          0.026692632513394005
         ],
         "xaxis": "x",
         "y": [
          "stock  ",
          "market  ",
          "investors  ",
          "information  ",
          "returns  "
         ],
         "yaxis": "y"
        },
        {
         "marker": {
          "color": "#0072B2"
         },
         "orientation": "h",
         "type": "bar",
         "x": [
          0.03183320499587005,
          0.03212835047480277,
          0.04122836089716303,
          0.04605947403279257,
          0.07591018595042151
         ],
         "xaxis": "x2",
         "y": [
          "banking  ",
          "lending  ",
          "credit  ",
          "bank  ",
          "banks  "
         ],
         "yaxis": "y2"
        },
        {
         "marker": {
          "color": "#CC79A7"
         },
         "orientation": "h",
         "type": "bar",
         "x": [
          0.028934523350527475,
          0.03225867888041826,
          0.033102199183861515,
          0.033577535879391204,
          0.04957411948073544
         ],
         "xaxis": "x3",
         "y": [
          "test  ",
          "models  ",
          "estimators  ",
          "treatment  ",
          "estimator  "
         ],
         "yaxis": "y3"
        },
        {
         "marker": {
          "color": "#E69F00"
         },
         "orientation": "h",
         "type": "bar",
         "x": [
          0.026825184659156488,
          0.030434607818393262,
          0.047477876707435536,
          0.057467592602116084,
          0.09085639694371729
         ],
         "xaxis": "x4",
         "y": [
          "rate  ",
          "central  ",
          "monetary  ",
          "policy  ",
          "inflation  "
         ],
         "yaxis": "y4"
        },
        {
         "marker": {
          "color": "#56B4E9"
         },
         "orientation": "h",
         "type": "bar",
         "x": [
          0.026821604896765945,
          0.041912202095257686,
          0.04744611392891884,
          0.060841130155463746,
          0.09344802056223833
         ],
         "xaxis": "x5",
         "y": [
          "price  ",
          "prices  ",
          "mortgage  ",
          "house  ",
          "housing  "
         ],
         "yaxis": "y5"
        },
        {
         "marker": {
          "color": "#009E73"
         },
         "orientation": "h",
         "type": "bar",
         "x": [
          0.03315707554240697,
          0.033444288486257294,
          0.038030191421451406,
          0.045552701213868056,
          0.04798790505916497
         ],
         "xaxis": "x6",
         "y": [
          "model  ",
          "forecast  ",
          "models  ",
          "forecasting  ",
          "forecasts  "
         ],
         "yaxis": "y6"
        },
        {
         "marker": {
          "color": "#F0E442"
         },
         "orientation": "h",
         "type": "bar",
         "x": [
          0.03637713328126906,
          0.04576137798183178,
          0.06537791857044332,
          0.07306981361401425,
          0.12368858274152937
         ],
         "xaxis": "x7",
         "y": [
          "policy  ",
          "multipliers  ",
          "spending  ",
          "government  ",
          "fiscal  "
         ],
         "yaxis": "y7"
        },
        {
         "marker": {
          "color": "#D55E00"
         },
         "orientation": "h",
         "type": "bar",
         "x": [
          0.04270171727408751,
          0.04501047492723749,
          0.054078227512293735,
          0.06617916372617422,
          0.06657010866419012
         ],
         "xaxis": "x8",
         "y": [
          "fluctuations  ",
          "aggregate  ",
          "cycle  ",
          "shocks  ",
          "business  "
         ],
         "yaxis": "y8"
        }
       ],
       "layout": {
        "annotations": [
         {
          "font": {
           "size": 16
          },
          "showarrow": false,
          "text": "Topic 0",
          "x": 0.0875,
          "xanchor": "center",
          "xref": "paper",
          "y": 1,
          "yanchor": "bottom",
          "yref": "paper"
         },
         {
          "font": {
           "size": 16
          },
          "showarrow": false,
          "text": "Topic 1",
          "x": 0.36250000000000004,
          "xanchor": "center",
          "xref": "paper",
          "y": 1,
          "yanchor": "bottom",
          "yref": "paper"
         },
         {
          "font": {
           "size": 16
          },
          "showarrow": false,
          "text": "Topic 2",
          "x": 0.6375000000000001,
          "xanchor": "center",
          "xref": "paper",
          "y": 1,
          "yanchor": "bottom",
          "yref": "paper"
         },
         {
          "font": {
           "size": 16
          },
          "showarrow": false,
          "text": "Topic 3",
          "x": 0.9125,
          "xanchor": "center",
          "xref": "paper",
          "y": 1,
          "yanchor": "bottom",
          "yref": "paper"
         },
         {
          "font": {
           "size": 16
          },
          "showarrow": false,
          "text": "Topic 4",
          "x": 0.0875,
          "xanchor": "center",
          "xref": "paper",
          "y": 0.4,
          "yanchor": "bottom",
          "yref": "paper"
         },
         {
          "font": {
           "size": 16
          },
          "showarrow": false,
          "text": "Topic 5",
          "x": 0.36250000000000004,
          "xanchor": "center",
          "xref": "paper",
          "y": 0.4,
          "yanchor": "bottom",
          "yref": "paper"
         },
         {
          "font": {
           "size": 16
          },
          "showarrow": false,
          "text": "Topic 6",
          "x": 0.6375000000000001,
          "xanchor": "center",
          "xref": "paper",
          "y": 0.4,
          "yanchor": "bottom",
          "yref": "paper"
         },
         {
          "font": {
           "size": 16
          },
          "showarrow": false,
          "text": "Topic 7",
          "x": 0.9125,
          "xanchor": "center",
          "xref": "paper",
          "y": 0.4,
          "yanchor": "bottom",
          "yref": "paper"
         }
        ],
        "height": 600,
        "hoverlabel": {
         "bgcolor": "white",
         "font": {
          "family": "Rockwell",
          "size": 16
         }
        },
        "showlegend": false,
        "template": {
         "data": {
          "bar": [
           {
            "error_x": {
             "color": "#2a3f5f"
            },
            "error_y": {
             "color": "#2a3f5f"
            },
            "marker": {
             "line": {
              "color": "white",
              "width": 0.5
             },
             "pattern": {
              "fillmode": "overlay",
              "size": 10,
              "solidity": 0.2
             }
            },
            "type": "bar"
           }
          ],
          "barpolar": [
           {
            "marker": {
             "line": {
              "color": "white",
              "width": 0.5
             },
             "pattern": {
              "fillmode": "overlay",
              "size": 10,
              "solidity": 0.2
             }
            },
            "type": "barpolar"
           }
          ],
          "carpet": [
           {
            "aaxis": {
             "endlinecolor": "#2a3f5f",
             "gridcolor": "#C8D4E3",
             "linecolor": "#C8D4E3",
             "minorgridcolor": "#C8D4E3",
             "startlinecolor": "#2a3f5f"
            },
            "baxis": {
             "endlinecolor": "#2a3f5f",
             "gridcolor": "#C8D4E3",
             "linecolor": "#C8D4E3",
             "minorgridcolor": "#C8D4E3",
             "startlinecolor": "#2a3f5f"
            },
            "type": "carpet"
           }
          ],
          "choropleth": [
           {
            "colorbar": {
             "outlinewidth": 0,
             "ticks": ""
            },
            "type": "choropleth"
           }
          ],
          "contour": [
           {
            "colorbar": {
             "outlinewidth": 0,
             "ticks": ""
            },
            "colorscale": [
             [
              0,
              "#0d0887"
             ],
             [
              0.1111111111111111,
              "#46039f"
             ],
             [
              0.2222222222222222,
              "#7201a8"
             ],
             [
              0.3333333333333333,
              "#9c179e"
             ],
             [
              0.4444444444444444,
              "#bd3786"
             ],
             [
              0.5555555555555556,
              "#d8576b"
             ],
             [
              0.6666666666666666,
              "#ed7953"
             ],
             [
              0.7777777777777778,
              "#fb9f3a"
             ],
             [
              0.8888888888888888,
              "#fdca26"
             ],
             [
              1,
              "#f0f921"
             ]
            ],
            "type": "contour"
           }
          ],
          "contourcarpet": [
           {
            "colorbar": {
             "outlinewidth": 0,
             "ticks": ""
            },
            "type": "contourcarpet"
           }
          ],
          "heatmap": [
           {
            "colorbar": {
             "outlinewidth": 0,
             "ticks": ""
            },
            "colorscale": [
             [
              0,
              "#0d0887"
             ],
             [
              0.1111111111111111,
              "#46039f"
             ],
             [
              0.2222222222222222,
              "#7201a8"
             ],
             [
              0.3333333333333333,
              "#9c179e"
             ],
             [
              0.4444444444444444,
              "#bd3786"
             ],
             [
              0.5555555555555556,
              "#d8576b"
             ],
             [
              0.6666666666666666,
              "#ed7953"
             ],
             [
              0.7777777777777778,
              "#fb9f3a"
             ],
             [
              0.8888888888888888,
              "#fdca26"
             ],
             [
              1,
              "#f0f921"
             ]
            ],
            "type": "heatmap"
           }
          ],
          "heatmapgl": [
           {
            "colorbar": {
             "outlinewidth": 0,
             "ticks": ""
            },
            "colorscale": [
             [
              0,
              "#0d0887"
             ],
             [
              0.1111111111111111,
              "#46039f"
             ],
             [
              0.2222222222222222,
              "#7201a8"
             ],
             [
              0.3333333333333333,
              "#9c179e"
             ],
             [
              0.4444444444444444,
              "#bd3786"
             ],
             [
              0.5555555555555556,
              "#d8576b"
             ],
             [
              0.6666666666666666,
              "#ed7953"
             ],
             [
              0.7777777777777778,
              "#fb9f3a"
             ],
             [
              0.8888888888888888,
              "#fdca26"
             ],
             [
              1,
              "#f0f921"
             ]
            ],
            "type": "heatmapgl"
           }
          ],
          "histogram": [
           {
            "marker": {
             "pattern": {
              "fillmode": "overlay",
              "size": 10,
              "solidity": 0.2
             }
            },
            "type": "histogram"
           }
          ],
          "histogram2d": [
           {
            "colorbar": {
             "outlinewidth": 0,
             "ticks": ""
            },
            "colorscale": [
             [
              0,
              "#0d0887"
             ],
             [
              0.1111111111111111,
              "#46039f"
             ],
             [
              0.2222222222222222,
              "#7201a8"
             ],
             [
              0.3333333333333333,
              "#9c179e"
             ],
             [
              0.4444444444444444,
              "#bd3786"
             ],
             [
              0.5555555555555556,
              "#d8576b"
             ],
             [
              0.6666666666666666,
              "#ed7953"
             ],
             [
              0.7777777777777778,
              "#fb9f3a"
             ],
             [
              0.8888888888888888,
              "#fdca26"
             ],
             [
              1,
              "#f0f921"
             ]
            ],
            "type": "histogram2d"
           }
          ],
          "histogram2dcontour": [
           {
            "colorbar": {
             "outlinewidth": 0,
             "ticks": ""
            },
            "colorscale": [
             [
              0,
              "#0d0887"
             ],
             [
              0.1111111111111111,
              "#46039f"
             ],
             [
              0.2222222222222222,
              "#7201a8"
             ],
             [
              0.3333333333333333,
              "#9c179e"
             ],
             [
              0.4444444444444444,
              "#bd3786"
             ],
             [
              0.5555555555555556,
              "#d8576b"
             ],
             [
              0.6666666666666666,
              "#ed7953"
             ],
             [
              0.7777777777777778,
              "#fb9f3a"
             ],
             [
              0.8888888888888888,
              "#fdca26"
             ],
             [
              1,
              "#f0f921"
             ]
            ],
            "type": "histogram2dcontour"
           }
          ],
          "mesh3d": [
           {
            "colorbar": {
             "outlinewidth": 0,
             "ticks": ""
            },
            "type": "mesh3d"
           }
          ],
          "parcoords": [
           {
            "line": {
             "colorbar": {
              "outlinewidth": 0,
              "ticks": ""
             }
            },
            "type": "parcoords"
           }
          ],
          "pie": [
           {
            "automargin": true,
            "type": "pie"
           }
          ],
          "scatter": [
           {
            "fillpattern": {
             "fillmode": "overlay",
             "size": 10,
             "solidity": 0.2
            },
            "type": "scatter"
           }
          ],
          "scatter3d": [
           {
            "line": {
             "colorbar": {
              "outlinewidth": 0,
              "ticks": ""
             }
            },
            "marker": {
             "colorbar": {
              "outlinewidth": 0,
              "ticks": ""
             }
            },
            "type": "scatter3d"
           }
          ],
          "scattercarpet": [
           {
            "marker": {
             "colorbar": {
              "outlinewidth": 0,
              "ticks": ""
             }
            },
            "type": "scattercarpet"
           }
          ],
          "scattergeo": [
           {
            "marker": {
             "colorbar": {
              "outlinewidth": 0,
              "ticks": ""
             }
            },
            "type": "scattergeo"
           }
          ],
          "scattergl": [
           {
            "marker": {
             "colorbar": {
              "outlinewidth": 0,
              "ticks": ""
             }
            },
            "type": "scattergl"
           }
          ],
          "scattermapbox": [
           {
            "marker": {
             "colorbar": {
              "outlinewidth": 0,
              "ticks": ""
             }
            },
            "type": "scattermapbox"
           }
          ],
          "scatterpolar": [
           {
            "marker": {
             "colorbar": {
              "outlinewidth": 0,
              "ticks": ""
             }
            },
            "type": "scatterpolar"
           }
          ],
          "scatterpolargl": [
           {
            "marker": {
             "colorbar": {
              "outlinewidth": 0,
              "ticks": ""
             }
            },
            "type": "scatterpolargl"
           }
          ],
          "scatterternary": [
           {
            "marker": {
             "colorbar": {
              "outlinewidth": 0,
              "ticks": ""
             }
            },
            "type": "scatterternary"
           }
          ],
          "surface": [
           {
            "colorbar": {
             "outlinewidth": 0,
             "ticks": ""
            },
            "colorscale": [
             [
              0,
              "#0d0887"
             ],
             [
              0.1111111111111111,
              "#46039f"
             ],
             [
              0.2222222222222222,
              "#7201a8"
             ],
             [
              0.3333333333333333,
              "#9c179e"
             ],
             [
              0.4444444444444444,
              "#bd3786"
             ],
             [
              0.5555555555555556,
              "#d8576b"
             ],
             [
              0.6666666666666666,
              "#ed7953"
             ],
             [
              0.7777777777777778,
              "#fb9f3a"
             ],
             [
              0.8888888888888888,
              "#fdca26"
             ],
             [
              1,
              "#f0f921"
             ]
            ],
            "type": "surface"
           }
          ],
          "table": [
           {
            "cells": {
             "fill": {
              "color": "#EBF0F8"
             },
             "line": {
              "color": "white"
             }
            },
            "header": {
             "fill": {
              "color": "#C8D4E3"
             },
             "line": {
              "color": "white"
             }
            },
            "type": "table"
           }
          ]
         },
         "layout": {
          "annotationdefaults": {
           "arrowcolor": "#2a3f5f",
           "arrowhead": 0,
           "arrowwidth": 1
          },
          "autotypenumbers": "strict",
          "coloraxis": {
           "colorbar": {
            "outlinewidth": 0,
            "ticks": ""
           }
          },
          "colorscale": {
           "diverging": [
            [
             0,
             "#8e0152"
            ],
            [
             0.1,
             "#c51b7d"
            ],
            [
             0.2,
             "#de77ae"
            ],
            [
             0.3,
             "#f1b6da"
            ],
            [
             0.4,
             "#fde0ef"
            ],
            [
             0.5,
             "#f7f7f7"
            ],
            [
             0.6,
             "#e6f5d0"
            ],
            [
             0.7,
             "#b8e186"
            ],
            [
             0.8,
             "#7fbc41"
            ],
            [
             0.9,
             "#4d9221"
            ],
            [
             1,
             "#276419"
            ]
           ],
           "sequential": [
            [
             0,
             "#0d0887"
            ],
            [
             0.1111111111111111,
             "#46039f"
            ],
            [
             0.2222222222222222,
             "#7201a8"
            ],
            [
             0.3333333333333333,
             "#9c179e"
            ],
            [
             0.4444444444444444,
             "#bd3786"
            ],
            [
             0.5555555555555556,
             "#d8576b"
            ],
            [
             0.6666666666666666,
             "#ed7953"
            ],
            [
             0.7777777777777778,
             "#fb9f3a"
            ],
            [
             0.8888888888888888,
             "#fdca26"
            ],
            [
             1,
             "#f0f921"
            ]
           ],
           "sequentialminus": [
            [
             0,
             "#0d0887"
            ],
            [
             0.1111111111111111,
             "#46039f"
            ],
            [
             0.2222222222222222,
             "#7201a8"
            ],
            [
             0.3333333333333333,
             "#9c179e"
            ],
            [
             0.4444444444444444,
             "#bd3786"
            ],
            [
             0.5555555555555556,
             "#d8576b"
            ],
            [
             0.6666666666666666,
             "#ed7953"
            ],
            [
             0.7777777777777778,
             "#fb9f3a"
            ],
            [
             0.8888888888888888,
             "#fdca26"
            ],
            [
             1,
             "#f0f921"
            ]
           ]
          },
          "colorway": [
           "#636efa",
           "#EF553B",
           "#00cc96",
           "#ab63fa",
           "#FFA15A",
           "#19d3f3",
           "#FF6692",
           "#B6E880",
           "#FF97FF",
           "#FECB52"
          ],
          "font": {
           "color": "#2a3f5f"
          },
          "geo": {
           "bgcolor": "white",
           "lakecolor": "white",
           "landcolor": "white",
           "showlakes": true,
           "showland": true,
           "subunitcolor": "#C8D4E3"
          },
          "hoverlabel": {
           "align": "left"
          },
          "hovermode": "closest",
          "mapbox": {
           "style": "light"
          },
          "paper_bgcolor": "white",
          "plot_bgcolor": "white",
          "polar": {
           "angularaxis": {
            "gridcolor": "#EBF0F8",
            "linecolor": "#EBF0F8",
            "ticks": ""
           },
           "bgcolor": "white",
           "radialaxis": {
            "gridcolor": "#EBF0F8",
            "linecolor": "#EBF0F8",
            "ticks": ""
           }
          },
          "scene": {
           "xaxis": {
            "backgroundcolor": "white",
            "gridcolor": "#DFE8F3",
            "gridwidth": 2,
            "linecolor": "#EBF0F8",
            "showbackground": true,
            "ticks": "",
            "zerolinecolor": "#EBF0F8"
           },
           "yaxis": {
            "backgroundcolor": "white",
            "gridcolor": "#DFE8F3",
            "gridwidth": 2,
            "linecolor": "#EBF0F8",
            "showbackground": true,
            "ticks": "",
            "zerolinecolor": "#EBF0F8"
           },
           "zaxis": {
            "backgroundcolor": "white",
            "gridcolor": "#DFE8F3",
            "gridwidth": 2,
            "linecolor": "#EBF0F8",
            "showbackground": true,
            "ticks": "",
            "zerolinecolor": "#EBF0F8"
           }
          },
          "shapedefaults": {
           "line": {
            "color": "#2a3f5f"
           }
          },
          "ternary": {
           "aaxis": {
            "gridcolor": "#DFE8F3",
            "linecolor": "#A2B1C6",
            "ticks": ""
           },
           "baxis": {
            "gridcolor": "#DFE8F3",
            "linecolor": "#A2B1C6",
            "ticks": ""
           },
           "bgcolor": "white",
           "caxis": {
            "gridcolor": "#DFE8F3",
            "linecolor": "#A2B1C6",
            "ticks": ""
           }
          },
          "title": {
           "x": 0.05
          },
          "xaxis": {
           "automargin": true,
           "gridcolor": "#EBF0F8",
           "linecolor": "#EBF0F8",
           "ticks": "",
           "title": {
            "standoff": 15
           },
           "zerolinecolor": "#EBF0F8",
           "zerolinewidth": 2
          },
          "yaxis": {
           "automargin": true,
           "gridcolor": "#EBF0F8",
           "linecolor": "#EBF0F8",
           "ticks": "",
           "title": {
            "standoff": 15
           },
           "zerolinecolor": "#EBF0F8",
           "zerolinewidth": 2
          }
         }
        },
        "title": {
         "font": {
          "color": "Black",
          "size": 22
         },
         "text": "Subtopics in Topic 0",
         "x": 0.5,
         "xanchor": "center",
         "yanchor": "top"
        },
        "width": 1200,
        "xaxis": {
         "anchor": "y",
         "domain": [
          0,
          0.175
         ],
         "showgrid": true
        },
        "xaxis2": {
         "anchor": "y2",
         "domain": [
          0.275,
          0.45
         ],
         "showgrid": true
        },
        "xaxis3": {
         "anchor": "y3",
         "domain": [
          0.55,
          0.7250000000000001
         ],
         "showgrid": true
        },
        "xaxis4": {
         "anchor": "y4",
         "domain": [
          0.825,
          1
         ],
         "showgrid": true
        },
        "xaxis5": {
         "anchor": "y5",
         "domain": [
          0,
          0.175
         ],
         "showgrid": true
        },
        "xaxis6": {
         "anchor": "y6",
         "domain": [
          0.275,
          0.45
         ],
         "showgrid": true
        },
        "xaxis7": {
         "anchor": "y7",
         "domain": [
          0.55,
          0.7250000000000001
         ],
         "showgrid": true
        },
        "xaxis8": {
         "anchor": "y8",
         "domain": [
          0.825,
          1
         ],
         "showgrid": true
        },
        "yaxis": {
         "anchor": "x",
         "domain": [
          0.6000000000000001,
          1
         ],
         "showgrid": true
        },
        "yaxis2": {
         "anchor": "x2",
         "domain": [
          0.6000000000000001,
          1
         ],
         "showgrid": true
        },
        "yaxis3": {
         "anchor": "x3",
         "domain": [
          0.6000000000000001,
          1
         ],
         "showgrid": true
        },
        "yaxis4": {
         "anchor": "x4",
         "domain": [
          0.6000000000000001,
          1
         ],
         "showgrid": true
        },
        "yaxis5": {
         "anchor": "x5",
         "domain": [
          0,
          0.4
         ],
         "showgrid": true
        },
        "yaxis6": {
         "anchor": "x6",
         "domain": [
          0,
          0.4
         ],
         "showgrid": true
        },
        "yaxis7": {
         "anchor": "x7",
         "domain": [
          0,
          0.4
         ],
         "showgrid": true
        },
        "yaxis8": {
         "anchor": "x8",
         "domain": [
          0,
          0.4
         ],
         "showgrid": true
        }
       }
      }
     },
     "metadata": {},
     "output_type": "display_data"
    }
   ],
   "source": [
    "topic_model.visualize_barchart(n_words = 5, top_n_topics = 8, width=300, height=300, title=\"Subtopics in Topic 0\")"
   ]
  },
  {
   "attachments": {},
   "cell_type": "markdown",
   "metadata": {},
   "source": [
    "### 4.4 Institutional-level Topics Distribution"
   ]
  },
  {
   "attachments": {},
   "cell_type": "markdown",
   "metadata": {},
   "source": [
    "- In this section, we see for a specific institution, what research topics it is interested in.\n",
    "- Also, we see under each topic, who are the most contributors."
   ]
  },
  {
   "attachments": {},
   "cell_type": "markdown",
   "metadata": {},
   "source": [
    "#### 4.4.1 Example: Fed Topic Distribution"
   ]
  },
  {
   "cell_type": "code",
   "execution_count": 63,
   "metadata": {},
   "outputs": [
    {
     "data": {
      "text/html": [
       "<div>\n",
       "<style scoped>\n",
       "    .dataframe tbody tr th:only-of-type {\n",
       "        vertical-align: middle;\n",
       "    }\n",
       "\n",
       "    .dataframe tbody tr th {\n",
       "        vertical-align: top;\n",
       "    }\n",
       "\n",
       "    .dataframe thead th {\n",
       "        text-align: right;\n",
       "    }\n",
       "</style>\n",
       "<table border=\"1\" class=\"dataframe\">\n",
       "  <thead>\n",
       "    <tr style=\"text-align: right;\">\n",
       "      <th></th>\n",
       "      <th>cnt</th>\n",
       "      <th>keywords</th>\n",
       "    </tr>\n",
       "    <tr>\n",
       "      <th>topic</th>\n",
       "      <th></th>\n",
       "      <th></th>\n",
       "    </tr>\n",
       "  </thead>\n",
       "  <tbody>\n",
       "    <tr>\n",
       "      <th>0</th>\n",
       "      <td>88</td>\n",
       "      <td>0: model financial policy risk shocks</td>\n",
       "    </tr>\n",
       "    <tr>\n",
       "      <th>2</th>\n",
       "      <td>6</td>\n",
       "      <td>2: wage workers unemployment labor job</td>\n",
       "    </tr>\n",
       "    <tr>\n",
       "      <th>3</th>\n",
       "      <td>4</td>\n",
       "      <td>3: trade export firms countries exports</td>\n",
       "    </tr>\n",
       "    <tr>\n",
       "      <th>7</th>\n",
       "      <td>3</td>\n",
       "      <td>7: students school schools education student</td>\n",
       "    </tr>\n",
       "    <tr>\n",
       "      <th>12</th>\n",
       "      <td>3</td>\n",
       "      <td>12: inequality income wealth consumption house...</td>\n",
       "    </tr>\n",
       "  </tbody>\n",
       "</table>\n",
       "</div>"
      ],
      "text/plain": [
       "       cnt                                           keywords\n",
       "topic                                                        \n",
       "0       88              0: model financial policy risk shocks\n",
       "2        6             2: wage workers unemployment labor job\n",
       "3        4            3: trade export firms countries exports\n",
       "7        3       7: students school schools education student\n",
       "12       3  12: inequality income wealth consumption house..."
      ]
     },
     "execution_count": 63,
     "metadata": {},
     "output_type": "execute_result"
    }
   ],
   "source": [
    "df_grouby_univ = df_s[(df_s[\"name\"] == \"US Federal Reserve Board\") & \n",
    "                      (df_s[\"topic\"] != -1)].groupby(\"topic\").count()[[\"doi\"]].rename(columns={\"doi\":\"cnt\"}).sort_values(by=[\"cnt\"], ascending=False)\n",
    "df_grouby_univ[\"keywords\"] = list(pd.Series(df_grouby_univ.index).apply(lambda x: str(x)+\": \"+\" \".join([t[0] for t in topic_model.get_topic(topic=x)[:5]])))\n",
    "df_grouby_univ.head()"
   ]
  },
  {
   "cell_type": "code",
   "execution_count": 64,
   "metadata": {},
   "outputs": [
    {
     "data": {
      "application/vnd.plotly.v1+json": {
       "config": {
        "plotlyServerURL": "https://plot.ly"
       },
       "data": [
        {
         "customdata": [
          [
           88
          ],
          [
           6
          ],
          [
           4
          ],
          [
           3
          ],
          [
           3
          ],
          [
           1
          ],
          [
           1
          ],
          [
           1
          ]
         ],
         "domain": {
          "x": [
           0,
           1
          ],
          "y": [
           0,
           1
          ]
         },
         "hovertemplate": "keywords=%{label}<br>cnt=%{customdata[0]}<extra></extra>",
         "labels": [
          "0: model financial policy risk shocks",
          "2: wage workers unemployment labor job",
          "3: trade export firms countries exports",
          "7: students school schools education student",
          "12: inequality income wealth consumption households",
          "9: health insurance care retirement medicare",
          "13: gender women female men gap",
          "19: productivity growth knowledge technology spillovers"
         ],
         "legendgroup": "",
         "marker": {
          "colors": [
           "rgb(158,1,66)",
           "rgb(213,62,79)",
           "rgb(244,109,67)",
           "rgb(253,174,97)",
           "rgb(253,174,97)",
           "rgb(254,224,139)",
           "rgb(254,224,139)",
           "rgb(254,224,139)"
          ]
         },
         "name": "",
         "showlegend": true,
         "textinfo": "percent",
         "type": "pie",
         "values": [
          88,
          6,
          4,
          3,
          3,
          1,
          1,
          1
         ]
        }
       ],
       "layout": {
        "legend": {
         "tracegroupgap": 0
        },
        "piecolorway": [
         "rgb(158,1,66)",
         "rgb(213,62,79)",
         "rgb(244,109,67)",
         "rgb(253,174,97)",
         "rgb(254,224,139)",
         "rgb(255,255,191)",
         "rgb(230,245,152)",
         "rgb(171,221,164)",
         "rgb(102,194,165)",
         "rgb(50,136,189)",
         "rgb(94,79,162)"
        ],
        "template": {
         "data": {
          "bar": [
           {
            "error_x": {
             "color": "#2a3f5f"
            },
            "error_y": {
             "color": "#2a3f5f"
            },
            "marker": {
             "line": {
              "color": "#E5ECF6",
              "width": 0.5
             },
             "pattern": {
              "fillmode": "overlay",
              "size": 10,
              "solidity": 0.2
             }
            },
            "type": "bar"
           }
          ],
          "barpolar": [
           {
            "marker": {
             "line": {
              "color": "#E5ECF6",
              "width": 0.5
             },
             "pattern": {
              "fillmode": "overlay",
              "size": 10,
              "solidity": 0.2
             }
            },
            "type": "barpolar"
           }
          ],
          "carpet": [
           {
            "aaxis": {
             "endlinecolor": "#2a3f5f",
             "gridcolor": "white",
             "linecolor": "white",
             "minorgridcolor": "white",
             "startlinecolor": "#2a3f5f"
            },
            "baxis": {
             "endlinecolor": "#2a3f5f",
             "gridcolor": "white",
             "linecolor": "white",
             "minorgridcolor": "white",
             "startlinecolor": "#2a3f5f"
            },
            "type": "carpet"
           }
          ],
          "choropleth": [
           {
            "colorbar": {
             "outlinewidth": 0,
             "ticks": ""
            },
            "type": "choropleth"
           }
          ],
          "contour": [
           {
            "colorbar": {
             "outlinewidth": 0,
             "ticks": ""
            },
            "colorscale": [
             [
              0,
              "#0d0887"
             ],
             [
              0.1111111111111111,
              "#46039f"
             ],
             [
              0.2222222222222222,
              "#7201a8"
             ],
             [
              0.3333333333333333,
              "#9c179e"
             ],
             [
              0.4444444444444444,
              "#bd3786"
             ],
             [
              0.5555555555555556,
              "#d8576b"
             ],
             [
              0.6666666666666666,
              "#ed7953"
             ],
             [
              0.7777777777777778,
              "#fb9f3a"
             ],
             [
              0.8888888888888888,
              "#fdca26"
             ],
             [
              1,
              "#f0f921"
             ]
            ],
            "type": "contour"
           }
          ],
          "contourcarpet": [
           {
            "colorbar": {
             "outlinewidth": 0,
             "ticks": ""
            },
            "type": "contourcarpet"
           }
          ],
          "heatmap": [
           {
            "colorbar": {
             "outlinewidth": 0,
             "ticks": ""
            },
            "colorscale": [
             [
              0,
              "#0d0887"
             ],
             [
              0.1111111111111111,
              "#46039f"
             ],
             [
              0.2222222222222222,
              "#7201a8"
             ],
             [
              0.3333333333333333,
              "#9c179e"
             ],
             [
              0.4444444444444444,
              "#bd3786"
             ],
             [
              0.5555555555555556,
              "#d8576b"
             ],
             [
              0.6666666666666666,
              "#ed7953"
             ],
             [
              0.7777777777777778,
              "#fb9f3a"
             ],
             [
              0.8888888888888888,
              "#fdca26"
             ],
             [
              1,
              "#f0f921"
             ]
            ],
            "type": "heatmap"
           }
          ],
          "heatmapgl": [
           {
            "colorbar": {
             "outlinewidth": 0,
             "ticks": ""
            },
            "colorscale": [
             [
              0,
              "#0d0887"
             ],
             [
              0.1111111111111111,
              "#46039f"
             ],
             [
              0.2222222222222222,
              "#7201a8"
             ],
             [
              0.3333333333333333,
              "#9c179e"
             ],
             [
              0.4444444444444444,
              "#bd3786"
             ],
             [
              0.5555555555555556,
              "#d8576b"
             ],
             [
              0.6666666666666666,
              "#ed7953"
             ],
             [
              0.7777777777777778,
              "#fb9f3a"
             ],
             [
              0.8888888888888888,
              "#fdca26"
             ],
             [
              1,
              "#f0f921"
             ]
            ],
            "type": "heatmapgl"
           }
          ],
          "histogram": [
           {
            "marker": {
             "pattern": {
              "fillmode": "overlay",
              "size": 10,
              "solidity": 0.2
             }
            },
            "type": "histogram"
           }
          ],
          "histogram2d": [
           {
            "colorbar": {
             "outlinewidth": 0,
             "ticks": ""
            },
            "colorscale": [
             [
              0,
              "#0d0887"
             ],
             [
              0.1111111111111111,
              "#46039f"
             ],
             [
              0.2222222222222222,
              "#7201a8"
             ],
             [
              0.3333333333333333,
              "#9c179e"
             ],
             [
              0.4444444444444444,
              "#bd3786"
             ],
             [
              0.5555555555555556,
              "#d8576b"
             ],
             [
              0.6666666666666666,
              "#ed7953"
             ],
             [
              0.7777777777777778,
              "#fb9f3a"
             ],
             [
              0.8888888888888888,
              "#fdca26"
             ],
             [
              1,
              "#f0f921"
             ]
            ],
            "type": "histogram2d"
           }
          ],
          "histogram2dcontour": [
           {
            "colorbar": {
             "outlinewidth": 0,
             "ticks": ""
            },
            "colorscale": [
             [
              0,
              "#0d0887"
             ],
             [
              0.1111111111111111,
              "#46039f"
             ],
             [
              0.2222222222222222,
              "#7201a8"
             ],
             [
              0.3333333333333333,
              "#9c179e"
             ],
             [
              0.4444444444444444,
              "#bd3786"
             ],
             [
              0.5555555555555556,
              "#d8576b"
             ],
             [
              0.6666666666666666,
              "#ed7953"
             ],
             [
              0.7777777777777778,
              "#fb9f3a"
             ],
             [
              0.8888888888888888,
              "#fdca26"
             ],
             [
              1,
              "#f0f921"
             ]
            ],
            "type": "histogram2dcontour"
           }
          ],
          "mesh3d": [
           {
            "colorbar": {
             "outlinewidth": 0,
             "ticks": ""
            },
            "type": "mesh3d"
           }
          ],
          "parcoords": [
           {
            "line": {
             "colorbar": {
              "outlinewidth": 0,
              "ticks": ""
             }
            },
            "type": "parcoords"
           }
          ],
          "pie": [
           {
            "automargin": true,
            "type": "pie"
           }
          ],
          "scatter": [
           {
            "fillpattern": {
             "fillmode": "overlay",
             "size": 10,
             "solidity": 0.2
            },
            "type": "scatter"
           }
          ],
          "scatter3d": [
           {
            "line": {
             "colorbar": {
              "outlinewidth": 0,
              "ticks": ""
             }
            },
            "marker": {
             "colorbar": {
              "outlinewidth": 0,
              "ticks": ""
             }
            },
            "type": "scatter3d"
           }
          ],
          "scattercarpet": [
           {
            "marker": {
             "colorbar": {
              "outlinewidth": 0,
              "ticks": ""
             }
            },
            "type": "scattercarpet"
           }
          ],
          "scattergeo": [
           {
            "marker": {
             "colorbar": {
              "outlinewidth": 0,
              "ticks": ""
             }
            },
            "type": "scattergeo"
           }
          ],
          "scattergl": [
           {
            "marker": {
             "colorbar": {
              "outlinewidth": 0,
              "ticks": ""
             }
            },
            "type": "scattergl"
           }
          ],
          "scattermapbox": [
           {
            "marker": {
             "colorbar": {
              "outlinewidth": 0,
              "ticks": ""
             }
            },
            "type": "scattermapbox"
           }
          ],
          "scatterpolar": [
           {
            "marker": {
             "colorbar": {
              "outlinewidth": 0,
              "ticks": ""
             }
            },
            "type": "scatterpolar"
           }
          ],
          "scatterpolargl": [
           {
            "marker": {
             "colorbar": {
              "outlinewidth": 0,
              "ticks": ""
             }
            },
            "type": "scatterpolargl"
           }
          ],
          "scatterternary": [
           {
            "marker": {
             "colorbar": {
              "outlinewidth": 0,
              "ticks": ""
             }
            },
            "type": "scatterternary"
           }
          ],
          "surface": [
           {
            "colorbar": {
             "outlinewidth": 0,
             "ticks": ""
            },
            "colorscale": [
             [
              0,
              "#0d0887"
             ],
             [
              0.1111111111111111,
              "#46039f"
             ],
             [
              0.2222222222222222,
              "#7201a8"
             ],
             [
              0.3333333333333333,
              "#9c179e"
             ],
             [
              0.4444444444444444,
              "#bd3786"
             ],
             [
              0.5555555555555556,
              "#d8576b"
             ],
             [
              0.6666666666666666,
              "#ed7953"
             ],
             [
              0.7777777777777778,
              "#fb9f3a"
             ],
             [
              0.8888888888888888,
              "#fdca26"
             ],
             [
              1,
              "#f0f921"
             ]
            ],
            "type": "surface"
           }
          ],
          "table": [
           {
            "cells": {
             "fill": {
              "color": "#EBF0F8"
             },
             "line": {
              "color": "white"
             }
            },
            "header": {
             "fill": {
              "color": "#C8D4E3"
             },
             "line": {
              "color": "white"
             }
            },
            "type": "table"
           }
          ]
         },
         "layout": {
          "annotationdefaults": {
           "arrowcolor": "#2a3f5f",
           "arrowhead": 0,
           "arrowwidth": 1
          },
          "autotypenumbers": "strict",
          "coloraxis": {
           "colorbar": {
            "outlinewidth": 0,
            "ticks": ""
           }
          },
          "colorscale": {
           "diverging": [
            [
             0,
             "#8e0152"
            ],
            [
             0.1,
             "#c51b7d"
            ],
            [
             0.2,
             "#de77ae"
            ],
            [
             0.3,
             "#f1b6da"
            ],
            [
             0.4,
             "#fde0ef"
            ],
            [
             0.5,
             "#f7f7f7"
            ],
            [
             0.6,
             "#e6f5d0"
            ],
            [
             0.7,
             "#b8e186"
            ],
            [
             0.8,
             "#7fbc41"
            ],
            [
             0.9,
             "#4d9221"
            ],
            [
             1,
             "#276419"
            ]
           ],
           "sequential": [
            [
             0,
             "#0d0887"
            ],
            [
             0.1111111111111111,
             "#46039f"
            ],
            [
             0.2222222222222222,
             "#7201a8"
            ],
            [
             0.3333333333333333,
             "#9c179e"
            ],
            [
             0.4444444444444444,
             "#bd3786"
            ],
            [
             0.5555555555555556,
             "#d8576b"
            ],
            [
             0.6666666666666666,
             "#ed7953"
            ],
            [
             0.7777777777777778,
             "#fb9f3a"
            ],
            [
             0.8888888888888888,
             "#fdca26"
            ],
            [
             1,
             "#f0f921"
            ]
           ],
           "sequentialminus": [
            [
             0,
             "#0d0887"
            ],
            [
             0.1111111111111111,
             "#46039f"
            ],
            [
             0.2222222222222222,
             "#7201a8"
            ],
            [
             0.3333333333333333,
             "#9c179e"
            ],
            [
             0.4444444444444444,
             "#bd3786"
            ],
            [
             0.5555555555555556,
             "#d8576b"
            ],
            [
             0.6666666666666666,
             "#ed7953"
            ],
            [
             0.7777777777777778,
             "#fb9f3a"
            ],
            [
             0.8888888888888888,
             "#fdca26"
            ],
            [
             1,
             "#f0f921"
            ]
           ]
          },
          "colorway": [
           "#636efa",
           "#EF553B",
           "#00cc96",
           "#ab63fa",
           "#FFA15A",
           "#19d3f3",
           "#FF6692",
           "#B6E880",
           "#FF97FF",
           "#FECB52"
          ],
          "font": {
           "color": "#2a3f5f"
          },
          "geo": {
           "bgcolor": "white",
           "lakecolor": "white",
           "landcolor": "#E5ECF6",
           "showlakes": true,
           "showland": true,
           "subunitcolor": "white"
          },
          "hoverlabel": {
           "align": "left"
          },
          "hovermode": "closest",
          "mapbox": {
           "style": "light"
          },
          "paper_bgcolor": "white",
          "plot_bgcolor": "#E5ECF6",
          "polar": {
           "angularaxis": {
            "gridcolor": "white",
            "linecolor": "white",
            "ticks": ""
           },
           "bgcolor": "#E5ECF6",
           "radialaxis": {
            "gridcolor": "white",
            "linecolor": "white",
            "ticks": ""
           }
          },
          "scene": {
           "xaxis": {
            "backgroundcolor": "#E5ECF6",
            "gridcolor": "white",
            "gridwidth": 2,
            "linecolor": "white",
            "showbackground": true,
            "ticks": "",
            "zerolinecolor": "white"
           },
           "yaxis": {
            "backgroundcolor": "#E5ECF6",
            "gridcolor": "white",
            "gridwidth": 2,
            "linecolor": "white",
            "showbackground": true,
            "ticks": "",
            "zerolinecolor": "white"
           },
           "zaxis": {
            "backgroundcolor": "#E5ECF6",
            "gridcolor": "white",
            "gridwidth": 2,
            "linecolor": "white",
            "showbackground": true,
            "ticks": "",
            "zerolinecolor": "white"
           }
          },
          "shapedefaults": {
           "line": {
            "color": "#2a3f5f"
           }
          },
          "ternary": {
           "aaxis": {
            "gridcolor": "white",
            "linecolor": "white",
            "ticks": ""
           },
           "baxis": {
            "gridcolor": "white",
            "linecolor": "white",
            "ticks": ""
           },
           "bgcolor": "#E5ECF6",
           "caxis": {
            "gridcolor": "white",
            "linecolor": "white",
            "ticks": ""
           }
          },
          "title": {
           "x": 0.05
          },
          "xaxis": {
           "automargin": true,
           "gridcolor": "white",
           "linecolor": "white",
           "ticks": "",
           "title": {
            "standoff": 15
           },
           "zerolinecolor": "white",
           "zerolinewidth": 2
          },
          "yaxis": {
           "automargin": true,
           "gridcolor": "white",
           "linecolor": "white",
           "ticks": "",
           "title": {
            "standoff": 15
           },
           "zerolinecolor": "white",
           "zerolinewidth": 2
          }
         }
        },
        "title": {
         "text": "US Federal Reserve Board: Topics Distribution of Top Econ Publications"
        },
        "width": 800
       }
      }
     },
     "metadata": {},
     "output_type": "display_data"
    }
   ],
   "source": [
    "# plot the result\n",
    "fig = px.pie(df_grouby_univ, \n",
    "             values=\"cnt\", \n",
    "             names=\"keywords\",\n",
    "             color=\"cnt\",\n",
    "             color_discrete_sequence=px.colors.diverging.Spectral,\n",
    "             width=800,\n",
    "#            height=400,\n",
    "             title=\"US Federal Reserve Board: Topics Distribution of Top Econ Publications\")\n",
    "fig.update_traces(textinfo='percent')\n",
    "fig.show()"
   ]
  },
  {
   "attachments": {},
   "cell_type": "markdown",
   "metadata": {},
   "source": [
    "#### 4.4.2 Example: Top Contributors for Topic 4"
   ]
  },
  {
   "cell_type": "code",
   "execution_count": 65,
   "metadata": {},
   "outputs": [],
   "source": [
    "df_univ_by_topics = df_s[df_s[\"topic\"] == 4].groupby([\"name\"]).count()[[\"doi\"]].rename(columns={\"doi\":\"cnt\"}).sort_values(by=[\"cnt\"], ascending=False)"
   ]
  },
  {
   "cell_type": "code",
   "execution_count": 66,
   "metadata": {},
   "outputs": [
    {
     "data": {
      "application/vnd.plotly.v1+json": {
       "config": {
        "plotlyServerURL": "https://plot.ly"
       },
       "data": [
        {
         "marker": {
          "color": [
           12,
           11,
           10,
           8,
           7,
           7,
           6,
           6,
           6,
           6
          ],
          "colorscale": [
           [
            0,
            "rgb(243, 203, 211)"
           ],
           [
            0.16666666666666666,
            "rgb(234, 169, 189)"
           ],
           [
            0.3333333333333333,
            "rgb(221, 136, 172)"
           ],
           [
            0.5,
            "rgb(202, 105, 157)"
           ],
           [
            0.6666666666666666,
            "rgb(177, 77, 142)"
           ],
           [
            0.8333333333333334,
            "rgb(145, 53, 125)"
           ],
           [
            1,
            "rgb(108, 33, 103)"
           ]
          ]
         },
         "orientation": "h",
         "text": [
          12,
          11,
          10,
          8,
          7,
          7,
          6,
          6,
          6,
          6
         ],
         "type": "bar",
         "x": [
          12,
          11,
          10,
          8,
          7,
          7,
          6,
          6,
          6,
          6
         ],
         "y": [
          "University of Mannheim",
          "Stanford University",
          "University of Nottingham",
          "University of Bologna",
          "Yale University",
          "Toulouse School of Economics",
          "European Commission, Joint Research Centre",
          "University of Toronto",
          "Monash University",
          "University College London"
         ]
        }
       ],
       "layout": {
        "height": 600,
        "template": {
         "data": {
          "bar": [
           {
            "error_x": {
             "color": "#2a3f5f"
            },
            "error_y": {
             "color": "#2a3f5f"
            },
            "marker": {
             "line": {
              "color": "#E5ECF6",
              "width": 0.5
             },
             "pattern": {
              "fillmode": "overlay",
              "size": 10,
              "solidity": 0.2
             }
            },
            "type": "bar"
           }
          ],
          "barpolar": [
           {
            "marker": {
             "line": {
              "color": "#E5ECF6",
              "width": 0.5
             },
             "pattern": {
              "fillmode": "overlay",
              "size": 10,
              "solidity": 0.2
             }
            },
            "type": "barpolar"
           }
          ],
          "carpet": [
           {
            "aaxis": {
             "endlinecolor": "#2a3f5f",
             "gridcolor": "white",
             "linecolor": "white",
             "minorgridcolor": "white",
             "startlinecolor": "#2a3f5f"
            },
            "baxis": {
             "endlinecolor": "#2a3f5f",
             "gridcolor": "white",
             "linecolor": "white",
             "minorgridcolor": "white",
             "startlinecolor": "#2a3f5f"
            },
            "type": "carpet"
           }
          ],
          "choropleth": [
           {
            "colorbar": {
             "outlinewidth": 0,
             "ticks": ""
            },
            "type": "choropleth"
           }
          ],
          "contour": [
           {
            "colorbar": {
             "outlinewidth": 0,
             "ticks": ""
            },
            "colorscale": [
             [
              0,
              "#0d0887"
             ],
             [
              0.1111111111111111,
              "#46039f"
             ],
             [
              0.2222222222222222,
              "#7201a8"
             ],
             [
              0.3333333333333333,
              "#9c179e"
             ],
             [
              0.4444444444444444,
              "#bd3786"
             ],
             [
              0.5555555555555556,
              "#d8576b"
             ],
             [
              0.6666666666666666,
              "#ed7953"
             ],
             [
              0.7777777777777778,
              "#fb9f3a"
             ],
             [
              0.8888888888888888,
              "#fdca26"
             ],
             [
              1,
              "#f0f921"
             ]
            ],
            "type": "contour"
           }
          ],
          "contourcarpet": [
           {
            "colorbar": {
             "outlinewidth": 0,
             "ticks": ""
            },
            "type": "contourcarpet"
           }
          ],
          "heatmap": [
           {
            "colorbar": {
             "outlinewidth": 0,
             "ticks": ""
            },
            "colorscale": [
             [
              0,
              "#0d0887"
             ],
             [
              0.1111111111111111,
              "#46039f"
             ],
             [
              0.2222222222222222,
              "#7201a8"
             ],
             [
              0.3333333333333333,
              "#9c179e"
             ],
             [
              0.4444444444444444,
              "#bd3786"
             ],
             [
              0.5555555555555556,
              "#d8576b"
             ],
             [
              0.6666666666666666,
              "#ed7953"
             ],
             [
              0.7777777777777778,
              "#fb9f3a"
             ],
             [
              0.8888888888888888,
              "#fdca26"
             ],
             [
              1,
              "#f0f921"
             ]
            ],
            "type": "heatmap"
           }
          ],
          "heatmapgl": [
           {
            "colorbar": {
             "outlinewidth": 0,
             "ticks": ""
            },
            "colorscale": [
             [
              0,
              "#0d0887"
             ],
             [
              0.1111111111111111,
              "#46039f"
             ],
             [
              0.2222222222222222,
              "#7201a8"
             ],
             [
              0.3333333333333333,
              "#9c179e"
             ],
             [
              0.4444444444444444,
              "#bd3786"
             ],
             [
              0.5555555555555556,
              "#d8576b"
             ],
             [
              0.6666666666666666,
              "#ed7953"
             ],
             [
              0.7777777777777778,
              "#fb9f3a"
             ],
             [
              0.8888888888888888,
              "#fdca26"
             ],
             [
              1,
              "#f0f921"
             ]
            ],
            "type": "heatmapgl"
           }
          ],
          "histogram": [
           {
            "marker": {
             "pattern": {
              "fillmode": "overlay",
              "size": 10,
              "solidity": 0.2
             }
            },
            "type": "histogram"
           }
          ],
          "histogram2d": [
           {
            "colorbar": {
             "outlinewidth": 0,
             "ticks": ""
            },
            "colorscale": [
             [
              0,
              "#0d0887"
             ],
             [
              0.1111111111111111,
              "#46039f"
             ],
             [
              0.2222222222222222,
              "#7201a8"
             ],
             [
              0.3333333333333333,
              "#9c179e"
             ],
             [
              0.4444444444444444,
              "#bd3786"
             ],
             [
              0.5555555555555556,
              "#d8576b"
             ],
             [
              0.6666666666666666,
              "#ed7953"
             ],
             [
              0.7777777777777778,
              "#fb9f3a"
             ],
             [
              0.8888888888888888,
              "#fdca26"
             ],
             [
              1,
              "#f0f921"
             ]
            ],
            "type": "histogram2d"
           }
          ],
          "histogram2dcontour": [
           {
            "colorbar": {
             "outlinewidth": 0,
             "ticks": ""
            },
            "colorscale": [
             [
              0,
              "#0d0887"
             ],
             [
              0.1111111111111111,
              "#46039f"
             ],
             [
              0.2222222222222222,
              "#7201a8"
             ],
             [
              0.3333333333333333,
              "#9c179e"
             ],
             [
              0.4444444444444444,
              "#bd3786"
             ],
             [
              0.5555555555555556,
              "#d8576b"
             ],
             [
              0.6666666666666666,
              "#ed7953"
             ],
             [
              0.7777777777777778,
              "#fb9f3a"
             ],
             [
              0.8888888888888888,
              "#fdca26"
             ],
             [
              1,
              "#f0f921"
             ]
            ],
            "type": "histogram2dcontour"
           }
          ],
          "mesh3d": [
           {
            "colorbar": {
             "outlinewidth": 0,
             "ticks": ""
            },
            "type": "mesh3d"
           }
          ],
          "parcoords": [
           {
            "line": {
             "colorbar": {
              "outlinewidth": 0,
              "ticks": ""
             }
            },
            "type": "parcoords"
           }
          ],
          "pie": [
           {
            "automargin": true,
            "type": "pie"
           }
          ],
          "scatter": [
           {
            "fillpattern": {
             "fillmode": "overlay",
             "size": 10,
             "solidity": 0.2
            },
            "type": "scatter"
           }
          ],
          "scatter3d": [
           {
            "line": {
             "colorbar": {
              "outlinewidth": 0,
              "ticks": ""
             }
            },
            "marker": {
             "colorbar": {
              "outlinewidth": 0,
              "ticks": ""
             }
            },
            "type": "scatter3d"
           }
          ],
          "scattercarpet": [
           {
            "marker": {
             "colorbar": {
              "outlinewidth": 0,
              "ticks": ""
             }
            },
            "type": "scattercarpet"
           }
          ],
          "scattergeo": [
           {
            "marker": {
             "colorbar": {
              "outlinewidth": 0,
              "ticks": ""
             }
            },
            "type": "scattergeo"
           }
          ],
          "scattergl": [
           {
            "marker": {
             "colorbar": {
              "outlinewidth": 0,
              "ticks": ""
             }
            },
            "type": "scattergl"
           }
          ],
          "scattermapbox": [
           {
            "marker": {
             "colorbar": {
              "outlinewidth": 0,
              "ticks": ""
             }
            },
            "type": "scattermapbox"
           }
          ],
          "scatterpolar": [
           {
            "marker": {
             "colorbar": {
              "outlinewidth": 0,
              "ticks": ""
             }
            },
            "type": "scatterpolar"
           }
          ],
          "scatterpolargl": [
           {
            "marker": {
             "colorbar": {
              "outlinewidth": 0,
              "ticks": ""
             }
            },
            "type": "scatterpolargl"
           }
          ],
          "scatterternary": [
           {
            "marker": {
             "colorbar": {
              "outlinewidth": 0,
              "ticks": ""
             }
            },
            "type": "scatterternary"
           }
          ],
          "surface": [
           {
            "colorbar": {
             "outlinewidth": 0,
             "ticks": ""
            },
            "colorscale": [
             [
              0,
              "#0d0887"
             ],
             [
              0.1111111111111111,
              "#46039f"
             ],
             [
              0.2222222222222222,
              "#7201a8"
             ],
             [
              0.3333333333333333,
              "#9c179e"
             ],
             [
              0.4444444444444444,
              "#bd3786"
             ],
             [
              0.5555555555555556,
              "#d8576b"
             ],
             [
              0.6666666666666666,
              "#ed7953"
             ],
             [
              0.7777777777777778,
              "#fb9f3a"
             ],
             [
              0.8888888888888888,
              "#fdca26"
             ],
             [
              1,
              "#f0f921"
             ]
            ],
            "type": "surface"
           }
          ],
          "table": [
           {
            "cells": {
             "fill": {
              "color": "#EBF0F8"
             },
             "line": {
              "color": "white"
             }
            },
            "header": {
             "fill": {
              "color": "#C8D4E3"
             },
             "line": {
              "color": "white"
             }
            },
            "type": "table"
           }
          ]
         },
         "layout": {
          "annotationdefaults": {
           "arrowcolor": "#2a3f5f",
           "arrowhead": 0,
           "arrowwidth": 1
          },
          "autotypenumbers": "strict",
          "coloraxis": {
           "colorbar": {
            "outlinewidth": 0,
            "ticks": ""
           }
          },
          "colorscale": {
           "diverging": [
            [
             0,
             "#8e0152"
            ],
            [
             0.1,
             "#c51b7d"
            ],
            [
             0.2,
             "#de77ae"
            ],
            [
             0.3,
             "#f1b6da"
            ],
            [
             0.4,
             "#fde0ef"
            ],
            [
             0.5,
             "#f7f7f7"
            ],
            [
             0.6,
             "#e6f5d0"
            ],
            [
             0.7,
             "#b8e186"
            ],
            [
             0.8,
             "#7fbc41"
            ],
            [
             0.9,
             "#4d9221"
            ],
            [
             1,
             "#276419"
            ]
           ],
           "sequential": [
            [
             0,
             "#0d0887"
            ],
            [
             0.1111111111111111,
             "#46039f"
            ],
            [
             0.2222222222222222,
             "#7201a8"
            ],
            [
             0.3333333333333333,
             "#9c179e"
            ],
            [
             0.4444444444444444,
             "#bd3786"
            ],
            [
             0.5555555555555556,
             "#d8576b"
            ],
            [
             0.6666666666666666,
             "#ed7953"
            ],
            [
             0.7777777777777778,
             "#fb9f3a"
            ],
            [
             0.8888888888888888,
             "#fdca26"
            ],
            [
             1,
             "#f0f921"
            ]
           ],
           "sequentialminus": [
            [
             0,
             "#0d0887"
            ],
            [
             0.1111111111111111,
             "#46039f"
            ],
            [
             0.2222222222222222,
             "#7201a8"
            ],
            [
             0.3333333333333333,
             "#9c179e"
            ],
            [
             0.4444444444444444,
             "#bd3786"
            ],
            [
             0.5555555555555556,
             "#d8576b"
            ],
            [
             0.6666666666666666,
             "#ed7953"
            ],
            [
             0.7777777777777778,
             "#fb9f3a"
            ],
            [
             0.8888888888888888,
             "#fdca26"
            ],
            [
             1,
             "#f0f921"
            ]
           ]
          },
          "colorway": [
           "#636efa",
           "#EF553B",
           "#00cc96",
           "#ab63fa",
           "#FFA15A",
           "#19d3f3",
           "#FF6692",
           "#B6E880",
           "#FF97FF",
           "#FECB52"
          ],
          "font": {
           "color": "#2a3f5f"
          },
          "geo": {
           "bgcolor": "white",
           "lakecolor": "white",
           "landcolor": "#E5ECF6",
           "showlakes": true,
           "showland": true,
           "subunitcolor": "white"
          },
          "hoverlabel": {
           "align": "left"
          },
          "hovermode": "closest",
          "mapbox": {
           "style": "light"
          },
          "paper_bgcolor": "white",
          "plot_bgcolor": "#E5ECF6",
          "polar": {
           "angularaxis": {
            "gridcolor": "white",
            "linecolor": "white",
            "ticks": ""
           },
           "bgcolor": "#E5ECF6",
           "radialaxis": {
            "gridcolor": "white",
            "linecolor": "white",
            "ticks": ""
           }
          },
          "scene": {
           "xaxis": {
            "backgroundcolor": "#E5ECF6",
            "gridcolor": "white",
            "gridwidth": 2,
            "linecolor": "white",
            "showbackground": true,
            "ticks": "",
            "zerolinecolor": "white"
           },
           "yaxis": {
            "backgroundcolor": "#E5ECF6",
            "gridcolor": "white",
            "gridwidth": 2,
            "linecolor": "white",
            "showbackground": true,
            "ticks": "",
            "zerolinecolor": "white"
           },
           "zaxis": {
            "backgroundcolor": "#E5ECF6",
            "gridcolor": "white",
            "gridwidth": 2,
            "linecolor": "white",
            "showbackground": true,
            "ticks": "",
            "zerolinecolor": "white"
           }
          },
          "shapedefaults": {
           "line": {
            "color": "#2a3f5f"
           }
          },
          "ternary": {
           "aaxis": {
            "gridcolor": "white",
            "linecolor": "white",
            "ticks": ""
           },
           "baxis": {
            "gridcolor": "white",
            "linecolor": "white",
            "ticks": ""
           },
           "bgcolor": "#E5ECF6",
           "caxis": {
            "gridcolor": "white",
            "linecolor": "white",
            "ticks": ""
           }
          },
          "title": {
           "x": 0.05
          },
          "xaxis": {
           "automargin": true,
           "gridcolor": "white",
           "linecolor": "white",
           "ticks": "",
           "title": {
            "standoff": 15
           },
           "zerolinecolor": "white",
           "zerolinewidth": 2
          },
          "yaxis": {
           "automargin": true,
           "gridcolor": "white",
           "linecolor": "white",
           "ticks": "",
           "title": {
            "standoff": 15
           },
           "zerolinecolor": "white",
           "zerolinewidth": 2
          }
         }
        },
        "title": {
         "text": "Top 10 Instutitons for Topic 4: consumers, price, firms, competition, market"
        },
        "width": 800,
        "yaxis": {
         "categoryorder": "total ascending"
        }
       }
      }
     },
     "metadata": {},
     "output_type": "display_data"
    }
   ],
   "source": [
    "fig = go.Figure()\n",
    "fig.add_trace(\n",
    "    go.Bar(\n",
    "        y = df_univ_by_topics.index[:10],\n",
    "        x = df_univ_by_topics.cnt[:10],\n",
    "        text = df_univ_by_topics.cnt[:10],\n",
    "        orientation = \"h\",\n",
    "        marker={'color': df_univ_by_topics.cnt[:10],\n",
    "                'colorscale': 'Magenta'}\n",
    "    )\n",
    ")\n",
    "fig.update_layout(title_text=\"Top 10 Instutitons for Topic 4: consumers, price, firms, competition, market\",\n",
    "#                 template=\"plotly_dark\",\n",
    "                  yaxis={'categoryorder':'total ascending'},\n",
    "                  width=800,\n",
    "                  height=600\n",
    "                  )\n",
    "fig.show()"
   ]
  },
  {
   "attachments": {},
   "cell_type": "markdown",
   "metadata": {},
   "source": [
    "## 5. Combining SNA and TM"
   ]
  },
  {
   "attachments": {},
   "cell_type": "markdown",
   "metadata": {},
   "source": [
    "- In this section, we want combine SNA and TM to ask a question: do centralities research the same topics?\n",
    "- We use discrepancy score as a metric to measure whether 2 institutions are similar in their topics.\n",
    "- Discrepancy score is defined as the sum of absolute difference of 2 institutions' proportions of any topic.\n",
    "- e.g, A's topic distribution is [Topic0: 0.7, Topic1: 0.3], B's is [Topic0: 1, Topic1: 0], then the discrepancy score of this pair = |0.7-1|+|0.3-0| = 0.6.\n",
    "- We do this for each pair in Top 10 centralities."
   ]
  },
  {
   "cell_type": "code",
   "execution_count": 68,
   "metadata": {},
   "outputs": [],
   "source": [
    "# set top 10 centralities and topics\n",
    "centralities = [\"New York University\",\"University of California, Berkeley\", \"University of Chicago\",\n",
    "                \"Harvard University\", \"Columbia University\", \"London School of Economics\",\n",
    "                \"World Bank\", \"Stanford University\", \"Massachusetts Institute of Technology\",\n",
    "                \"University of Pennsylvania\"]\n",
    "centralities_abbr = [\"NYU\",\"UCB\", \"UChicago\",\n",
    "                    \"Harvard\", \"ColumbiaU\", \"LSE\",\n",
    "                    \"World Bank\", \"Stanford\", \"MIT\",\n",
    "                    \"UPenn\"]\n",
    "topics = list(range(22))"
   ]
  },
  {
   "cell_type": "code",
   "execution_count": 69,
   "metadata": {},
   "outputs": [
    {
     "data": {
      "text/html": [
       "<div>\n",
       "<style scoped>\n",
       "    .dataframe tbody tr th:only-of-type {\n",
       "        vertical-align: middle;\n",
       "    }\n",
       "\n",
       "    .dataframe tbody tr th {\n",
       "        vertical-align: top;\n",
       "    }\n",
       "\n",
       "    .dataframe thead th {\n",
       "        text-align: right;\n",
       "    }\n",
       "</style>\n",
       "<table border=\"1\" class=\"dataframe\">\n",
       "  <thead>\n",
       "    <tr style=\"text-align: right;\">\n",
       "      <th></th>\n",
       "      <th>cnt</th>\n",
       "      <th>name</th>\n",
       "      <th>keywords</th>\n",
       "      <th>proportion</th>\n",
       "    </tr>\n",
       "    <tr>\n",
       "      <th>topic</th>\n",
       "      <th></th>\n",
       "      <th></th>\n",
       "      <th></th>\n",
       "      <th></th>\n",
       "    </tr>\n",
       "  </thead>\n",
       "  <tbody>\n",
       "    <tr>\n",
       "      <th>0</th>\n",
       "      <td>85.0</td>\n",
       "      <td>New York University</td>\n",
       "      <td>0: model financial policy risk shocks</td>\n",
       "      <td>0.544872</td>\n",
       "    </tr>\n",
       "    <tr>\n",
       "      <th>1</th>\n",
       "      <td>19.0</td>\n",
       "      <td>New York University</td>\n",
       "      <td>1: game agent games information preferences</td>\n",
       "      <td>0.121795</td>\n",
       "    </tr>\n",
       "    <tr>\n",
       "      <th>2</th>\n",
       "      <td>8.0</td>\n",
       "      <td>New York University</td>\n",
       "      <td>2: wage workers unemployment labor job</td>\n",
       "      <td>0.051282</td>\n",
       "    </tr>\n",
       "    <tr>\n",
       "      <th>3</th>\n",
       "      <td>6.0</td>\n",
       "      <td>New York University</td>\n",
       "      <td>3: trade export firms countries exports</td>\n",
       "      <td>0.038462</td>\n",
       "    </tr>\n",
       "    <tr>\n",
       "      <th>4</th>\n",
       "      <td>1.0</td>\n",
       "      <td>New York University</td>\n",
       "      <td>4: consumers price firms competition market</td>\n",
       "      <td>0.006410</td>\n",
       "    </tr>\n",
       "  </tbody>\n",
       "</table>\n",
       "</div>"
      ],
      "text/plain": [
       "        cnt                 name                                     keywords  \\\n",
       "topic                                                                           \n",
       "0      85.0  New York University        0: model financial policy risk shocks   \n",
       "1      19.0  New York University  1: game agent games information preferences   \n",
       "2       8.0  New York University       2: wage workers unemployment labor job   \n",
       "3       6.0  New York University      3: trade export firms countries exports   \n",
       "4       1.0  New York University  4: consumers price firms competition market   \n",
       "\n",
       "       proportion  \n",
       "topic              \n",
       "0        0.544872  \n",
       "1        0.121795  \n",
       "2        0.051282  \n",
       "3        0.038462  \n",
       "4        0.006410  "
      ]
     },
     "execution_count": 69,
     "metadata": {},
     "output_type": "execute_result"
    }
   ],
   "source": [
    "# get topic distributions for all centralities\n",
    "df_groupby_inst = pd.DataFrame({\"topic\":[],\"cnt\":[],\"name\":[],\"keywords\":[],\"proportion\":[]}).set_index(\"topic\")\n",
    "\n",
    "for c in centralities:\n",
    "    df_temp = df_s[(df_s[\"name\"] == c) & (df_s[\"topic\"] != -1)].groupby(\"topic\").count()[[\"doi\"]].rename(columns={\"doi\":\"cnt\"})\n",
    "    # fill in missing topics\n",
    "    for topic in topics:\n",
    "        if topic not in df_temp.index:\n",
    "            df_temp.loc[topic] = [0]\n",
    "\n",
    "    df_temp[\"name\"] = c\n",
    "    df_temp[\"keywords\"] = list(pd.Series(df_temp.index).apply(lambda x: str(x)+\": \"+\" \".join([t[0] for t in topic_model.get_topic(topic=x)[:5]])))\n",
    "\n",
    "    total = sum(df_temp[\"cnt\"])\n",
    "    df_temp[\"proportion\"] = df_temp.cnt.apply(lambda x: x / total)\n",
    "    df_temp.sort_index(inplace=True)\n",
    "\n",
    "    df_groupby_inst = pd.concat([df_groupby_inst, df_temp])\n",
    "\n",
    "df_groupby_inst.head()"
   ]
  },
  {
   "attachments": {},
   "cell_type": "markdown",
   "metadata": {},
   "source": [
    "### 5.1 Example: UChicago's Discrepancy against Other Centralities"
   ]
  },
  {
   "cell_type": "code",
   "execution_count": 70,
   "metadata": {},
   "outputs": [
    {
     "data": {
      "text/html": [
       "<div>\n",
       "<style scoped>\n",
       "    .dataframe tbody tr th:only-of-type {\n",
       "        vertical-align: middle;\n",
       "    }\n",
       "\n",
       "    .dataframe tbody tr th {\n",
       "        vertical-align: top;\n",
       "    }\n",
       "\n",
       "    .dataframe thead th {\n",
       "        text-align: right;\n",
       "    }\n",
       "</style>\n",
       "<table border=\"1\" class=\"dataframe\">\n",
       "  <thead>\n",
       "    <tr style=\"text-align: right;\">\n",
       "      <th></th>\n",
       "      <th>name</th>\n",
       "      <th>ds</th>\n",
       "    </tr>\n",
       "  </thead>\n",
       "  <tbody>\n",
       "    <tr>\n",
       "      <th>0</th>\n",
       "      <td>Columbia University</td>\n",
       "      <td>0.3368</td>\n",
       "    </tr>\n",
       "    <tr>\n",
       "      <th>1</th>\n",
       "      <td>London School of Economics</td>\n",
       "      <td>0.3442</td>\n",
       "    </tr>\n",
       "    <tr>\n",
       "      <th>2</th>\n",
       "      <td>Stanford University</td>\n",
       "      <td>0.3652</td>\n",
       "    </tr>\n",
       "    <tr>\n",
       "      <th>3</th>\n",
       "      <td>New York University</td>\n",
       "      <td>0.3678</td>\n",
       "    </tr>\n",
       "    <tr>\n",
       "      <th>4</th>\n",
       "      <td>Harvard University</td>\n",
       "      <td>0.3888</td>\n",
       "    </tr>\n",
       "    <tr>\n",
       "      <th>5</th>\n",
       "      <td>University of Pennsylvania</td>\n",
       "      <td>0.4737</td>\n",
       "    </tr>\n",
       "    <tr>\n",
       "      <th>6</th>\n",
       "      <td>University of California, Berkeley</td>\n",
       "      <td>0.5521</td>\n",
       "    </tr>\n",
       "    <tr>\n",
       "      <th>7</th>\n",
       "      <td>Massachusetts Institute of Technology</td>\n",
       "      <td>0.6245</td>\n",
       "    </tr>\n",
       "    <tr>\n",
       "      <th>8</th>\n",
       "      <td>World Bank</td>\n",
       "      <td>0.7026</td>\n",
       "    </tr>\n",
       "  </tbody>\n",
       "</table>\n",
       "</div>"
      ],
      "text/plain": [
       "                                    name      ds\n",
       "0                    Columbia University  0.3368\n",
       "1             London School of Economics  0.3442\n",
       "2                    Stanford University  0.3652\n",
       "3                    New York University  0.3678\n",
       "4                     Harvard University  0.3888\n",
       "5             University of Pennsylvania  0.4737\n",
       "6     University of California, Berkeley  0.5521\n",
       "7  Massachusetts Institute of Technology  0.6245\n",
       "8                             World Bank  0.7026"
      ]
     },
     "execution_count": 70,
     "metadata": {},
     "output_type": "execute_result"
    }
   ],
   "source": [
    "# calculate the discrepancy score\n",
    "df_ds = pd.DataFrame({\"name\":[],\"ds\":[]})\n",
    "df_uchicago = df_groupby_inst[df_groupby_inst[\"name\"] == \"University of Chicago\"]\n",
    "for c in centralities:\n",
    "    if c != \"University of Chicago\":\n",
    "        df_b = df_groupby_inst[df_groupby_inst[\"name\"] == c]\n",
    "        ds = round(sum([abs(df_uchicago.loc[t,\"proportion\"] - df_b.loc[t,\"proportion\"]) for t in df_uchicago.index]),4)\n",
    "        df_ds.loc[len(df_ds)] = [c, ds]\n",
    "\n",
    "df_ds = df_ds.sort_values(by=[\"ds\"]).reset_index(drop=True)\n",
    "df_ds.head(10)"
   ]
  },
  {
   "cell_type": "code",
   "execution_count": 71,
   "metadata": {},
   "outputs": [
    {
     "data": {
      "application/vnd.plotly.v1+json": {
       "config": {
        "plotlyServerURL": "https://plot.ly"
       },
       "data": [
        {
         "marker": {
          "color": [
           0.3368,
           0.3442,
           0.3652,
           0.3678,
           0.3888,
           0.4737,
           0.5521,
           0.6245,
           0.7026
          ],
          "colorscale": [
           [
            0,
            "rgb(253, 224, 197)"
           ],
           [
            0.16666666666666666,
            "rgb(250, 203, 166)"
           ],
           [
            0.3333333333333333,
            "rgb(248, 181, 139)"
           ],
           [
            0.5,
            "rgb(245, 158, 114)"
           ],
           [
            0.6666666666666666,
            "rgb(242, 133, 93)"
           ],
           [
            0.8333333333333334,
            "rgb(239, 106, 76)"
           ],
           [
            1,
            "rgb(235, 74, 64)"
           ]
          ]
         },
         "orientation": "h",
         "text": [
          0.3368,
          0.3442,
          0.3652,
          0.3678,
          0.3888,
          0.4737,
          0.5521,
          0.6245,
          0.7026
         ],
         "type": "bar",
         "x": [
          0.3368,
          0.3442,
          0.3652,
          0.3678,
          0.3888,
          0.4737,
          0.5521,
          0.6245,
          0.7026
         ],
         "y": [
          "Columbia University",
          "London School of Economics",
          "Stanford University",
          "New York University",
          "Harvard University",
          "University of Pennsylvania",
          "University of California, Berkeley",
          "Massachusetts Institute of Technology",
          "World Bank"
         ]
        }
       ],
       "layout": {
        "height": 600,
        "template": {
         "data": {
          "bar": [
           {
            "error_x": {
             "color": "#2a3f5f"
            },
            "error_y": {
             "color": "#2a3f5f"
            },
            "marker": {
             "line": {
              "color": "#E5ECF6",
              "width": 0.5
             },
             "pattern": {
              "fillmode": "overlay",
              "size": 10,
              "solidity": 0.2
             }
            },
            "type": "bar"
           }
          ],
          "barpolar": [
           {
            "marker": {
             "line": {
              "color": "#E5ECF6",
              "width": 0.5
             },
             "pattern": {
              "fillmode": "overlay",
              "size": 10,
              "solidity": 0.2
             }
            },
            "type": "barpolar"
           }
          ],
          "carpet": [
           {
            "aaxis": {
             "endlinecolor": "#2a3f5f",
             "gridcolor": "white",
             "linecolor": "white",
             "minorgridcolor": "white",
             "startlinecolor": "#2a3f5f"
            },
            "baxis": {
             "endlinecolor": "#2a3f5f",
             "gridcolor": "white",
             "linecolor": "white",
             "minorgridcolor": "white",
             "startlinecolor": "#2a3f5f"
            },
            "type": "carpet"
           }
          ],
          "choropleth": [
           {
            "colorbar": {
             "outlinewidth": 0,
             "ticks": ""
            },
            "type": "choropleth"
           }
          ],
          "contour": [
           {
            "colorbar": {
             "outlinewidth": 0,
             "ticks": ""
            },
            "colorscale": [
             [
              0,
              "#0d0887"
             ],
             [
              0.1111111111111111,
              "#46039f"
             ],
             [
              0.2222222222222222,
              "#7201a8"
             ],
             [
              0.3333333333333333,
              "#9c179e"
             ],
             [
              0.4444444444444444,
              "#bd3786"
             ],
             [
              0.5555555555555556,
              "#d8576b"
             ],
             [
              0.6666666666666666,
              "#ed7953"
             ],
             [
              0.7777777777777778,
              "#fb9f3a"
             ],
             [
              0.8888888888888888,
              "#fdca26"
             ],
             [
              1,
              "#f0f921"
             ]
            ],
            "type": "contour"
           }
          ],
          "contourcarpet": [
           {
            "colorbar": {
             "outlinewidth": 0,
             "ticks": ""
            },
            "type": "contourcarpet"
           }
          ],
          "heatmap": [
           {
            "colorbar": {
             "outlinewidth": 0,
             "ticks": ""
            },
            "colorscale": [
             [
              0,
              "#0d0887"
             ],
             [
              0.1111111111111111,
              "#46039f"
             ],
             [
              0.2222222222222222,
              "#7201a8"
             ],
             [
              0.3333333333333333,
              "#9c179e"
             ],
             [
              0.4444444444444444,
              "#bd3786"
             ],
             [
              0.5555555555555556,
              "#d8576b"
             ],
             [
              0.6666666666666666,
              "#ed7953"
             ],
             [
              0.7777777777777778,
              "#fb9f3a"
             ],
             [
              0.8888888888888888,
              "#fdca26"
             ],
             [
              1,
              "#f0f921"
             ]
            ],
            "type": "heatmap"
           }
          ],
          "heatmapgl": [
           {
            "colorbar": {
             "outlinewidth": 0,
             "ticks": ""
            },
            "colorscale": [
             [
              0,
              "#0d0887"
             ],
             [
              0.1111111111111111,
              "#46039f"
             ],
             [
              0.2222222222222222,
              "#7201a8"
             ],
             [
              0.3333333333333333,
              "#9c179e"
             ],
             [
              0.4444444444444444,
              "#bd3786"
             ],
             [
              0.5555555555555556,
              "#d8576b"
             ],
             [
              0.6666666666666666,
              "#ed7953"
             ],
             [
              0.7777777777777778,
              "#fb9f3a"
             ],
             [
              0.8888888888888888,
              "#fdca26"
             ],
             [
              1,
              "#f0f921"
             ]
            ],
            "type": "heatmapgl"
           }
          ],
          "histogram": [
           {
            "marker": {
             "pattern": {
              "fillmode": "overlay",
              "size": 10,
              "solidity": 0.2
             }
            },
            "type": "histogram"
           }
          ],
          "histogram2d": [
           {
            "colorbar": {
             "outlinewidth": 0,
             "ticks": ""
            },
            "colorscale": [
             [
              0,
              "#0d0887"
             ],
             [
              0.1111111111111111,
              "#46039f"
             ],
             [
              0.2222222222222222,
              "#7201a8"
             ],
             [
              0.3333333333333333,
              "#9c179e"
             ],
             [
              0.4444444444444444,
              "#bd3786"
             ],
             [
              0.5555555555555556,
              "#d8576b"
             ],
             [
              0.6666666666666666,
              "#ed7953"
             ],
             [
              0.7777777777777778,
              "#fb9f3a"
             ],
             [
              0.8888888888888888,
              "#fdca26"
             ],
             [
              1,
              "#f0f921"
             ]
            ],
            "type": "histogram2d"
           }
          ],
          "histogram2dcontour": [
           {
            "colorbar": {
             "outlinewidth": 0,
             "ticks": ""
            },
            "colorscale": [
             [
              0,
              "#0d0887"
             ],
             [
              0.1111111111111111,
              "#46039f"
             ],
             [
              0.2222222222222222,
              "#7201a8"
             ],
             [
              0.3333333333333333,
              "#9c179e"
             ],
             [
              0.4444444444444444,
              "#bd3786"
             ],
             [
              0.5555555555555556,
              "#d8576b"
             ],
             [
              0.6666666666666666,
              "#ed7953"
             ],
             [
              0.7777777777777778,
              "#fb9f3a"
             ],
             [
              0.8888888888888888,
              "#fdca26"
             ],
             [
              1,
              "#f0f921"
             ]
            ],
            "type": "histogram2dcontour"
           }
          ],
          "mesh3d": [
           {
            "colorbar": {
             "outlinewidth": 0,
             "ticks": ""
            },
            "type": "mesh3d"
           }
          ],
          "parcoords": [
           {
            "line": {
             "colorbar": {
              "outlinewidth": 0,
              "ticks": ""
             }
            },
            "type": "parcoords"
           }
          ],
          "pie": [
           {
            "automargin": true,
            "type": "pie"
           }
          ],
          "scatter": [
           {
            "fillpattern": {
             "fillmode": "overlay",
             "size": 10,
             "solidity": 0.2
            },
            "type": "scatter"
           }
          ],
          "scatter3d": [
           {
            "line": {
             "colorbar": {
              "outlinewidth": 0,
              "ticks": ""
             }
            },
            "marker": {
             "colorbar": {
              "outlinewidth": 0,
              "ticks": ""
             }
            },
            "type": "scatter3d"
           }
          ],
          "scattercarpet": [
           {
            "marker": {
             "colorbar": {
              "outlinewidth": 0,
              "ticks": ""
             }
            },
            "type": "scattercarpet"
           }
          ],
          "scattergeo": [
           {
            "marker": {
             "colorbar": {
              "outlinewidth": 0,
              "ticks": ""
             }
            },
            "type": "scattergeo"
           }
          ],
          "scattergl": [
           {
            "marker": {
             "colorbar": {
              "outlinewidth": 0,
              "ticks": ""
             }
            },
            "type": "scattergl"
           }
          ],
          "scattermapbox": [
           {
            "marker": {
             "colorbar": {
              "outlinewidth": 0,
              "ticks": ""
             }
            },
            "type": "scattermapbox"
           }
          ],
          "scatterpolar": [
           {
            "marker": {
             "colorbar": {
              "outlinewidth": 0,
              "ticks": ""
             }
            },
            "type": "scatterpolar"
           }
          ],
          "scatterpolargl": [
           {
            "marker": {
             "colorbar": {
              "outlinewidth": 0,
              "ticks": ""
             }
            },
            "type": "scatterpolargl"
           }
          ],
          "scatterternary": [
           {
            "marker": {
             "colorbar": {
              "outlinewidth": 0,
              "ticks": ""
             }
            },
            "type": "scatterternary"
           }
          ],
          "surface": [
           {
            "colorbar": {
             "outlinewidth": 0,
             "ticks": ""
            },
            "colorscale": [
             [
              0,
              "#0d0887"
             ],
             [
              0.1111111111111111,
              "#46039f"
             ],
             [
              0.2222222222222222,
              "#7201a8"
             ],
             [
              0.3333333333333333,
              "#9c179e"
             ],
             [
              0.4444444444444444,
              "#bd3786"
             ],
             [
              0.5555555555555556,
              "#d8576b"
             ],
             [
              0.6666666666666666,
              "#ed7953"
             ],
             [
              0.7777777777777778,
              "#fb9f3a"
             ],
             [
              0.8888888888888888,
              "#fdca26"
             ],
             [
              1,
              "#f0f921"
             ]
            ],
            "type": "surface"
           }
          ],
          "table": [
           {
            "cells": {
             "fill": {
              "color": "#EBF0F8"
             },
             "line": {
              "color": "white"
             }
            },
            "header": {
             "fill": {
              "color": "#C8D4E3"
             },
             "line": {
              "color": "white"
             }
            },
            "type": "table"
           }
          ]
         },
         "layout": {
          "annotationdefaults": {
           "arrowcolor": "#2a3f5f",
           "arrowhead": 0,
           "arrowwidth": 1
          },
          "autotypenumbers": "strict",
          "coloraxis": {
           "colorbar": {
            "outlinewidth": 0,
            "ticks": ""
           }
          },
          "colorscale": {
           "diverging": [
            [
             0,
             "#8e0152"
            ],
            [
             0.1,
             "#c51b7d"
            ],
            [
             0.2,
             "#de77ae"
            ],
            [
             0.3,
             "#f1b6da"
            ],
            [
             0.4,
             "#fde0ef"
            ],
            [
             0.5,
             "#f7f7f7"
            ],
            [
             0.6,
             "#e6f5d0"
            ],
            [
             0.7,
             "#b8e186"
            ],
            [
             0.8,
             "#7fbc41"
            ],
            [
             0.9,
             "#4d9221"
            ],
            [
             1,
             "#276419"
            ]
           ],
           "sequential": [
            [
             0,
             "#0d0887"
            ],
            [
             0.1111111111111111,
             "#46039f"
            ],
            [
             0.2222222222222222,
             "#7201a8"
            ],
            [
             0.3333333333333333,
             "#9c179e"
            ],
            [
             0.4444444444444444,
             "#bd3786"
            ],
            [
             0.5555555555555556,
             "#d8576b"
            ],
            [
             0.6666666666666666,
             "#ed7953"
            ],
            [
             0.7777777777777778,
             "#fb9f3a"
            ],
            [
             0.8888888888888888,
             "#fdca26"
            ],
            [
             1,
             "#f0f921"
            ]
           ],
           "sequentialminus": [
            [
             0,
             "#0d0887"
            ],
            [
             0.1111111111111111,
             "#46039f"
            ],
            [
             0.2222222222222222,
             "#7201a8"
            ],
            [
             0.3333333333333333,
             "#9c179e"
            ],
            [
             0.4444444444444444,
             "#bd3786"
            ],
            [
             0.5555555555555556,
             "#d8576b"
            ],
            [
             0.6666666666666666,
             "#ed7953"
            ],
            [
             0.7777777777777778,
             "#fb9f3a"
            ],
            [
             0.8888888888888888,
             "#fdca26"
            ],
            [
             1,
             "#f0f921"
            ]
           ]
          },
          "colorway": [
           "#636efa",
           "#EF553B",
           "#00cc96",
           "#ab63fa",
           "#FFA15A",
           "#19d3f3",
           "#FF6692",
           "#B6E880",
           "#FF97FF",
           "#FECB52"
          ],
          "font": {
           "color": "#2a3f5f"
          },
          "geo": {
           "bgcolor": "white",
           "lakecolor": "white",
           "landcolor": "#E5ECF6",
           "showlakes": true,
           "showland": true,
           "subunitcolor": "white"
          },
          "hoverlabel": {
           "align": "left"
          },
          "hovermode": "closest",
          "mapbox": {
           "style": "light"
          },
          "paper_bgcolor": "white",
          "plot_bgcolor": "#E5ECF6",
          "polar": {
           "angularaxis": {
            "gridcolor": "white",
            "linecolor": "white",
            "ticks": ""
           },
           "bgcolor": "#E5ECF6",
           "radialaxis": {
            "gridcolor": "white",
            "linecolor": "white",
            "ticks": ""
           }
          },
          "scene": {
           "xaxis": {
            "backgroundcolor": "#E5ECF6",
            "gridcolor": "white",
            "gridwidth": 2,
            "linecolor": "white",
            "showbackground": true,
            "ticks": "",
            "zerolinecolor": "white"
           },
           "yaxis": {
            "backgroundcolor": "#E5ECF6",
            "gridcolor": "white",
            "gridwidth": 2,
            "linecolor": "white",
            "showbackground": true,
            "ticks": "",
            "zerolinecolor": "white"
           },
           "zaxis": {
            "backgroundcolor": "#E5ECF6",
            "gridcolor": "white",
            "gridwidth": 2,
            "linecolor": "white",
            "showbackground": true,
            "ticks": "",
            "zerolinecolor": "white"
           }
          },
          "shapedefaults": {
           "line": {
            "color": "#2a3f5f"
           }
          },
          "ternary": {
           "aaxis": {
            "gridcolor": "white",
            "linecolor": "white",
            "ticks": ""
           },
           "baxis": {
            "gridcolor": "white",
            "linecolor": "white",
            "ticks": ""
           },
           "bgcolor": "#E5ECF6",
           "caxis": {
            "gridcolor": "white",
            "linecolor": "white",
            "ticks": ""
           }
          },
          "title": {
           "x": 0.05
          },
          "xaxis": {
           "automargin": true,
           "gridcolor": "white",
           "linecolor": "white",
           "ticks": "",
           "title": {
            "standoff": 15
           },
           "zerolinecolor": "white",
           "zerolinewidth": 2
          },
          "yaxis": {
           "automargin": true,
           "gridcolor": "white",
           "linecolor": "white",
           "ticks": "",
           "title": {
            "standoff": 15
           },
           "zerolinecolor": "white",
           "zerolinewidth": 2
          }
         }
        },
        "title": {
         "text": "Discrepancy Score: UChicago vs Other Institutions"
        },
        "width": 800,
        "yaxis": {
         "categoryorder": "total descending"
        }
       }
      }
     },
     "metadata": {},
     "output_type": "display_data"
    }
   ],
   "source": [
    "# show the plot\n",
    "fig = go.Figure()\n",
    "fig.add_trace(\n",
    "    go.Bar(\n",
    "        y = df_ds.name,\n",
    "        x = df_ds.ds,\n",
    "        text = df_ds.ds,\n",
    "        orientation = \"h\",\n",
    "        marker={'color': df_ds.ds,\n",
    "                'colorscale': 'Peach'}\n",
    "    )\n",
    ")\n",
    "fig.update_layout(title_text=\"Discrepancy Score: UChicago vs Other Institutions\",\n",
    "#                 template=\"plotly_dark\",\n",
    "                  yaxis={'categoryorder':'total descending'},\n",
    "                  width=800,\n",
    "                  height=600\n",
    "                  )\n",
    "fig.show()"
   ]
  },
  {
   "attachments": {},
   "cell_type": "markdown",
   "metadata": {},
   "source": [
    "### 5.2 Discrepancy Score Matrix"
   ]
  },
  {
   "attachments": {},
   "cell_type": "markdown",
   "metadata": {},
   "source": [
    "- Get all pairs of discrepancy scores and form into a matrix."
   ]
  },
  {
   "cell_type": "code",
   "execution_count": 72,
   "metadata": {},
   "outputs": [],
   "source": [
    "# create a matrix to store discrepancy score\n",
    "ds_matrix = np.zeros((10,10))\n",
    "\n",
    "# calculate the discrepancy score\n",
    "for i,a in enumerate(centralities):\n",
    "    df_a = df_groupby_inst[df_groupby_inst[\"name\"] == a]\n",
    "    for j,b in enumerate(centralities):\n",
    "        if b != a:\n",
    "            df_b = df_groupby_inst[df_groupby_inst[\"name\"] == b]\n",
    "            ds = round(sum([abs(df_a.loc[t,\"proportion\"] - df_b.loc[t,\"proportion\"]) for t in df_a.index]),4)\n",
    "            ds_matrix[i,j] = ds"
   ]
  },
  {
   "cell_type": "code",
   "execution_count": 73,
   "metadata": {},
   "outputs": [
    {
     "data": {
      "application/vnd.plotly.v1+json": {
       "config": {
        "plotlyServerURL": "https://plot.ly"
       },
       "data": [
        {
         "coloraxis": "coloraxis",
         "hovertemplate": "Centrality: %{x}<br>Centrality: %{y}<br>Discrepancy Score: %{z}<extra></extra>",
         "name": "0",
         "texttemplate": "%{z}",
         "type": "heatmap",
         "x": [
          "NYU",
          "UCB",
          "UChicago",
          "Harvard",
          "ColumbiaU",
          "LSE",
          "World Bank",
          "Stanford",
          "MIT",
          "UPenn"
         ],
         "xaxis": "x",
         "y": [
          "NYU",
          "UCB",
          "UChicago",
          "Harvard",
          "ColumbiaU",
          "LSE",
          "World Bank",
          "Stanford",
          "MIT",
          "UPenn"
         ],
         "yaxis": "y",
         "z": [
          [
           0,
           0.6894,
           0.3678,
           0.6635,
           0.3365,
           0.4144,
           0.9077,
           0.4388,
           0.6174,
           0.4994
          ],
          [
           0.6894,
           0,
           0.5521,
           0.4257,
           0.6347,
           0.6817,
           0.7546,
           0.4919,
           0.4457,
           0.7714
          ],
          [
           0.3678,
           0.5521,
           0,
           0.3888,
           0.3368,
           0.3442,
           0.7026,
           0.3652,
           0.6245,
           0.4737
          ],
          [
           0.6635,
           0.4257,
           0.3888,
           0,
           0.4762,
           0.585,
           0.7818,
           0.4401,
           0.3947,
           0.6122
          ],
          [
           0.3365,
           0.6347,
           0.3368,
           0.4762,
           0,
           0.4544,
           0.8211,
           0.4206,
           0.5389,
           0.369
          ],
          [
           0.4144,
           0.6817,
           0.3442,
           0.585,
           0.4544,
           0,
           0.7213,
           0.5785,
           0.7401,
           0.5321
          ],
          [
           0.9077,
           0.7546,
           0.7026,
           0.7818,
           0.8211,
           0.7213,
           0,
           0.8819,
           0.8291,
           0.9513
          ],
          [
           0.4388,
           0.4919,
           0.3652,
           0.4401,
           0.4206,
           0.5785,
           0.8819,
           0,
           0.4843,
           0.5026
          ],
          [
           0.6174,
           0.4457,
           0.6245,
           0.3947,
           0.5389,
           0.7401,
           0.8291,
           0.4843,
           0,
           0.6943
          ],
          [
           0.4994,
           0.7714,
           0.4737,
           0.6122,
           0.369,
           0.5321,
           0.9513,
           0.5026,
           0.6943,
           0
          ]
         ]
        }
       ],
       "layout": {
        "coloraxis": {
         "colorbar": {
          "title": {
           "text": "Discrepancy Score"
          }
         },
         "colorscale": [
          [
           0,
           "#0d0887"
          ],
          [
           0.1111111111111111,
           "#46039f"
          ],
          [
           0.2222222222222222,
           "#7201a8"
          ],
          [
           0.3333333333333333,
           "#9c179e"
          ],
          [
           0.4444444444444444,
           "#bd3786"
          ],
          [
           0.5555555555555556,
           "#d8576b"
          ],
          [
           0.6666666666666666,
           "#ed7953"
          ],
          [
           0.7777777777777778,
           "#fb9f3a"
          ],
          [
           0.8888888888888888,
           "#fdca26"
          ],
          [
           1,
           "#f0f921"
          ]
         ]
        },
        "height": 800,
        "margin": {
         "t": 60
        },
        "template": {
         "data": {
          "bar": [
           {
            "error_x": {
             "color": "#2a3f5f"
            },
            "error_y": {
             "color": "#2a3f5f"
            },
            "marker": {
             "line": {
              "color": "#E5ECF6",
              "width": 0.5
             },
             "pattern": {
              "fillmode": "overlay",
              "size": 10,
              "solidity": 0.2
             }
            },
            "type": "bar"
           }
          ],
          "barpolar": [
           {
            "marker": {
             "line": {
              "color": "#E5ECF6",
              "width": 0.5
             },
             "pattern": {
              "fillmode": "overlay",
              "size": 10,
              "solidity": 0.2
             }
            },
            "type": "barpolar"
           }
          ],
          "carpet": [
           {
            "aaxis": {
             "endlinecolor": "#2a3f5f",
             "gridcolor": "white",
             "linecolor": "white",
             "minorgridcolor": "white",
             "startlinecolor": "#2a3f5f"
            },
            "baxis": {
             "endlinecolor": "#2a3f5f",
             "gridcolor": "white",
             "linecolor": "white",
             "minorgridcolor": "white",
             "startlinecolor": "#2a3f5f"
            },
            "type": "carpet"
           }
          ],
          "choropleth": [
           {
            "colorbar": {
             "outlinewidth": 0,
             "ticks": ""
            },
            "type": "choropleth"
           }
          ],
          "contour": [
           {
            "colorbar": {
             "outlinewidth": 0,
             "ticks": ""
            },
            "colorscale": [
             [
              0,
              "#0d0887"
             ],
             [
              0.1111111111111111,
              "#46039f"
             ],
             [
              0.2222222222222222,
              "#7201a8"
             ],
             [
              0.3333333333333333,
              "#9c179e"
             ],
             [
              0.4444444444444444,
              "#bd3786"
             ],
             [
              0.5555555555555556,
              "#d8576b"
             ],
             [
              0.6666666666666666,
              "#ed7953"
             ],
             [
              0.7777777777777778,
              "#fb9f3a"
             ],
             [
              0.8888888888888888,
              "#fdca26"
             ],
             [
              1,
              "#f0f921"
             ]
            ],
            "type": "contour"
           }
          ],
          "contourcarpet": [
           {
            "colorbar": {
             "outlinewidth": 0,
             "ticks": ""
            },
            "type": "contourcarpet"
           }
          ],
          "heatmap": [
           {
            "colorbar": {
             "outlinewidth": 0,
             "ticks": ""
            },
            "colorscale": [
             [
              0,
              "#0d0887"
             ],
             [
              0.1111111111111111,
              "#46039f"
             ],
             [
              0.2222222222222222,
              "#7201a8"
             ],
             [
              0.3333333333333333,
              "#9c179e"
             ],
             [
              0.4444444444444444,
              "#bd3786"
             ],
             [
              0.5555555555555556,
              "#d8576b"
             ],
             [
              0.6666666666666666,
              "#ed7953"
             ],
             [
              0.7777777777777778,
              "#fb9f3a"
             ],
             [
              0.8888888888888888,
              "#fdca26"
             ],
             [
              1,
              "#f0f921"
             ]
            ],
            "type": "heatmap"
           }
          ],
          "heatmapgl": [
           {
            "colorbar": {
             "outlinewidth": 0,
             "ticks": ""
            },
            "colorscale": [
             [
              0,
              "#0d0887"
             ],
             [
              0.1111111111111111,
              "#46039f"
             ],
             [
              0.2222222222222222,
              "#7201a8"
             ],
             [
              0.3333333333333333,
              "#9c179e"
             ],
             [
              0.4444444444444444,
              "#bd3786"
             ],
             [
              0.5555555555555556,
              "#d8576b"
             ],
             [
              0.6666666666666666,
              "#ed7953"
             ],
             [
              0.7777777777777778,
              "#fb9f3a"
             ],
             [
              0.8888888888888888,
              "#fdca26"
             ],
             [
              1,
              "#f0f921"
             ]
            ],
            "type": "heatmapgl"
           }
          ],
          "histogram": [
           {
            "marker": {
             "pattern": {
              "fillmode": "overlay",
              "size": 10,
              "solidity": 0.2
             }
            },
            "type": "histogram"
           }
          ],
          "histogram2d": [
           {
            "colorbar": {
             "outlinewidth": 0,
             "ticks": ""
            },
            "colorscale": [
             [
              0,
              "#0d0887"
             ],
             [
              0.1111111111111111,
              "#46039f"
             ],
             [
              0.2222222222222222,
              "#7201a8"
             ],
             [
              0.3333333333333333,
              "#9c179e"
             ],
             [
              0.4444444444444444,
              "#bd3786"
             ],
             [
              0.5555555555555556,
              "#d8576b"
             ],
             [
              0.6666666666666666,
              "#ed7953"
             ],
             [
              0.7777777777777778,
              "#fb9f3a"
             ],
             [
              0.8888888888888888,
              "#fdca26"
             ],
             [
              1,
              "#f0f921"
             ]
            ],
            "type": "histogram2d"
           }
          ],
          "histogram2dcontour": [
           {
            "colorbar": {
             "outlinewidth": 0,
             "ticks": ""
            },
            "colorscale": [
             [
              0,
              "#0d0887"
             ],
             [
              0.1111111111111111,
              "#46039f"
             ],
             [
              0.2222222222222222,
              "#7201a8"
             ],
             [
              0.3333333333333333,
              "#9c179e"
             ],
             [
              0.4444444444444444,
              "#bd3786"
             ],
             [
              0.5555555555555556,
              "#d8576b"
             ],
             [
              0.6666666666666666,
              "#ed7953"
             ],
             [
              0.7777777777777778,
              "#fb9f3a"
             ],
             [
              0.8888888888888888,
              "#fdca26"
             ],
             [
              1,
              "#f0f921"
             ]
            ],
            "type": "histogram2dcontour"
           }
          ],
          "mesh3d": [
           {
            "colorbar": {
             "outlinewidth": 0,
             "ticks": ""
            },
            "type": "mesh3d"
           }
          ],
          "parcoords": [
           {
            "line": {
             "colorbar": {
              "outlinewidth": 0,
              "ticks": ""
             }
            },
            "type": "parcoords"
           }
          ],
          "pie": [
           {
            "automargin": true,
            "type": "pie"
           }
          ],
          "scatter": [
           {
            "fillpattern": {
             "fillmode": "overlay",
             "size": 10,
             "solidity": 0.2
            },
            "type": "scatter"
           }
          ],
          "scatter3d": [
           {
            "line": {
             "colorbar": {
              "outlinewidth": 0,
              "ticks": ""
             }
            },
            "marker": {
             "colorbar": {
              "outlinewidth": 0,
              "ticks": ""
             }
            },
            "type": "scatter3d"
           }
          ],
          "scattercarpet": [
           {
            "marker": {
             "colorbar": {
              "outlinewidth": 0,
              "ticks": ""
             }
            },
            "type": "scattercarpet"
           }
          ],
          "scattergeo": [
           {
            "marker": {
             "colorbar": {
              "outlinewidth": 0,
              "ticks": ""
             }
            },
            "type": "scattergeo"
           }
          ],
          "scattergl": [
           {
            "marker": {
             "colorbar": {
              "outlinewidth": 0,
              "ticks": ""
             }
            },
            "type": "scattergl"
           }
          ],
          "scattermapbox": [
           {
            "marker": {
             "colorbar": {
              "outlinewidth": 0,
              "ticks": ""
             }
            },
            "type": "scattermapbox"
           }
          ],
          "scatterpolar": [
           {
            "marker": {
             "colorbar": {
              "outlinewidth": 0,
              "ticks": ""
             }
            },
            "type": "scatterpolar"
           }
          ],
          "scatterpolargl": [
           {
            "marker": {
             "colorbar": {
              "outlinewidth": 0,
              "ticks": ""
             }
            },
            "type": "scatterpolargl"
           }
          ],
          "scatterternary": [
           {
            "marker": {
             "colorbar": {
              "outlinewidth": 0,
              "ticks": ""
             }
            },
            "type": "scatterternary"
           }
          ],
          "surface": [
           {
            "colorbar": {
             "outlinewidth": 0,
             "ticks": ""
            },
            "colorscale": [
             [
              0,
              "#0d0887"
             ],
             [
              0.1111111111111111,
              "#46039f"
             ],
             [
              0.2222222222222222,
              "#7201a8"
             ],
             [
              0.3333333333333333,
              "#9c179e"
             ],
             [
              0.4444444444444444,
              "#bd3786"
             ],
             [
              0.5555555555555556,
              "#d8576b"
             ],
             [
              0.6666666666666666,
              "#ed7953"
             ],
             [
              0.7777777777777778,
              "#fb9f3a"
             ],
             [
              0.8888888888888888,
              "#fdca26"
             ],
             [
              1,
              "#f0f921"
             ]
            ],
            "type": "surface"
           }
          ],
          "table": [
           {
            "cells": {
             "fill": {
              "color": "#EBF0F8"
             },
             "line": {
              "color": "white"
             }
            },
            "header": {
             "fill": {
              "color": "#C8D4E3"
             },
             "line": {
              "color": "white"
             }
            },
            "type": "table"
           }
          ]
         },
         "layout": {
          "annotationdefaults": {
           "arrowcolor": "#2a3f5f",
           "arrowhead": 0,
           "arrowwidth": 1
          },
          "autotypenumbers": "strict",
          "coloraxis": {
           "colorbar": {
            "outlinewidth": 0,
            "ticks": ""
           }
          },
          "colorscale": {
           "diverging": [
            [
             0,
             "#8e0152"
            ],
            [
             0.1,
             "#c51b7d"
            ],
            [
             0.2,
             "#de77ae"
            ],
            [
             0.3,
             "#f1b6da"
            ],
            [
             0.4,
             "#fde0ef"
            ],
            [
             0.5,
             "#f7f7f7"
            ],
            [
             0.6,
             "#e6f5d0"
            ],
            [
             0.7,
             "#b8e186"
            ],
            [
             0.8,
             "#7fbc41"
            ],
            [
             0.9,
             "#4d9221"
            ],
            [
             1,
             "#276419"
            ]
           ],
           "sequential": [
            [
             0,
             "#0d0887"
            ],
            [
             0.1111111111111111,
             "#46039f"
            ],
            [
             0.2222222222222222,
             "#7201a8"
            ],
            [
             0.3333333333333333,
             "#9c179e"
            ],
            [
             0.4444444444444444,
             "#bd3786"
            ],
            [
             0.5555555555555556,
             "#d8576b"
            ],
            [
             0.6666666666666666,
             "#ed7953"
            ],
            [
             0.7777777777777778,
             "#fb9f3a"
            ],
            [
             0.8888888888888888,
             "#fdca26"
            ],
            [
             1,
             "#f0f921"
            ]
           ],
           "sequentialminus": [
            [
             0,
             "#0d0887"
            ],
            [
             0.1111111111111111,
             "#46039f"
            ],
            [
             0.2222222222222222,
             "#7201a8"
            ],
            [
             0.3333333333333333,
             "#9c179e"
            ],
            [
             0.4444444444444444,
             "#bd3786"
            ],
            [
             0.5555555555555556,
             "#d8576b"
            ],
            [
             0.6666666666666666,
             "#ed7953"
            ],
            [
             0.7777777777777778,
             "#fb9f3a"
            ],
            [
             0.8888888888888888,
             "#fdca26"
            ],
            [
             1,
             "#f0f921"
            ]
           ]
          },
          "colorway": [
           "#636efa",
           "#EF553B",
           "#00cc96",
           "#ab63fa",
           "#FFA15A",
           "#19d3f3",
           "#FF6692",
           "#B6E880",
           "#FF97FF",
           "#FECB52"
          ],
          "font": {
           "color": "#2a3f5f"
          },
          "geo": {
           "bgcolor": "white",
           "lakecolor": "white",
           "landcolor": "#E5ECF6",
           "showlakes": true,
           "showland": true,
           "subunitcolor": "white"
          },
          "hoverlabel": {
           "align": "left"
          },
          "hovermode": "closest",
          "mapbox": {
           "style": "light"
          },
          "paper_bgcolor": "white",
          "plot_bgcolor": "#E5ECF6",
          "polar": {
           "angularaxis": {
            "gridcolor": "white",
            "linecolor": "white",
            "ticks": ""
           },
           "bgcolor": "#E5ECF6",
           "radialaxis": {
            "gridcolor": "white",
            "linecolor": "white",
            "ticks": ""
           }
          },
          "scene": {
           "xaxis": {
            "backgroundcolor": "#E5ECF6",
            "gridcolor": "white",
            "gridwidth": 2,
            "linecolor": "white",
            "showbackground": true,
            "ticks": "",
            "zerolinecolor": "white"
           },
           "yaxis": {
            "backgroundcolor": "#E5ECF6",
            "gridcolor": "white",
            "gridwidth": 2,
            "linecolor": "white",
            "showbackground": true,
            "ticks": "",
            "zerolinecolor": "white"
           },
           "zaxis": {
            "backgroundcolor": "#E5ECF6",
            "gridcolor": "white",
            "gridwidth": 2,
            "linecolor": "white",
            "showbackground": true,
            "ticks": "",
            "zerolinecolor": "white"
           }
          },
          "shapedefaults": {
           "line": {
            "color": "#2a3f5f"
           }
          },
          "ternary": {
           "aaxis": {
            "gridcolor": "white",
            "linecolor": "white",
            "ticks": ""
           },
           "baxis": {
            "gridcolor": "white",
            "linecolor": "white",
            "ticks": ""
           },
           "bgcolor": "#E5ECF6",
           "caxis": {
            "gridcolor": "white",
            "linecolor": "white",
            "ticks": ""
           }
          },
          "title": {
           "x": 0.05
          },
          "xaxis": {
           "automargin": true,
           "gridcolor": "white",
           "linecolor": "white",
           "ticks": "",
           "title": {
            "standoff": 15
           },
           "zerolinecolor": "white",
           "zerolinewidth": 2
          },
          "yaxis": {
           "automargin": true,
           "gridcolor": "white",
           "linecolor": "white",
           "ticks": "",
           "title": {
            "standoff": 15
           },
           "zerolinecolor": "white",
           "zerolinewidth": 2
          }
         }
        },
        "width": 1000,
        "xaxis": {
         "anchor": "y",
         "constrain": "domain",
         "domain": [
          0,
          1
         ],
         "scaleanchor": "y",
         "side": "top",
         "title": {
          "text": "Centrality"
         }
        },
        "yaxis": {
         "anchor": "x",
         "autorange": "reversed",
         "constrain": "domain",
         "domain": [
          0,
          1
         ],
         "title": {
          "text": "Centrality"
         }
        }
       }
      }
     },
     "metadata": {},
     "output_type": "display_data"
    }
   ],
   "source": [
    "# create heatmap\n",
    "fig = px.imshow(ds_matrix,\n",
    "                labels=dict(x=\"Centrality\", y=\"Centrality\", color=\"Discrepancy Score\"),\n",
    "                x=centralities_abbr,\n",
    "                y=centralities_abbr,\n",
    "                width=1000,\n",
    "                height=800,\n",
    "                text_auto=True\n",
    "               )\n",
    "fig.update_xaxes(side=\"top\")\n",
    "fig.show()"
   ]
  }
 ],
 "metadata": {
  "kernelspec": {
   "display_name": "base",
   "language": "python",
   "name": "python3"
  },
  "language_info": {
   "codemirror_mode": {
    "name": "ipython",
    "version": 3
   },
   "file_extension": ".py",
   "mimetype": "text/x-python",
   "name": "python",
   "nbconvert_exporter": "python",
   "pygments_lexer": "ipython3",
   "version": "3.9.12"
  },
  "orig_nbformat": 4
 },
 "nbformat": 4,
 "nbformat_minor": 2
}
