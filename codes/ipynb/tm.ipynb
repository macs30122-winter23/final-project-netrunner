{
 "cells": [
  {
   "attachments": {},
   "cell_type": "markdown",
   "metadata": {},
   "source": [
    "# Topic Modeling for Abstract - BERTopic"
   ]
  },
  {
   "cell_type": "code",
   "execution_count": 6,
   "metadata": {},
   "outputs": [
    {
     "name": "stderr",
     "output_type": "stream",
     "text": [
      "[nltk_data] Downloading package stopwords to C:\\Users\\Jerry\n",
      "[nltk_data]     CHENG\\AppData\\Roaming\\nltk_data...\n",
      "[nltk_data]   Package stopwords is already up-to-date!\n"
     ]
    }
   ],
   "source": [
    "# import libraries\n",
    "from bertopic import BERTopic\n",
    "import pandas as pd\n",
    "import sqlite3\n",
    "from umap import UMAP\n",
    "import nltk\n",
    "from nltk.corpus import stopwords\n",
    "nltk.download('stopwords')\n",
    "from nltk.tokenize import word_tokenize\n",
    "from nltk.stem import WordNetLemmatizer\n",
    "import plotly.express as px\n",
    "import plotly.graph_objects as go\n",
    "import numpy as np\n",
    "import math"
   ]
  },
  {
   "cell_type": "code",
   "execution_count": 2,
   "metadata": {},
   "outputs": [],
   "source": [
    "# connect to database\n",
    "conn = sqlite3.connect(\"econtop.db\")\n",
    "cur = conn.cursor()"
   ]
  },
  {
   "cell_type": "code",
   "execution_count": 76,
   "metadata": {},
   "outputs": [
    {
     "data": {
      "text/html": [
       "<div>\n",
       "<style scoped>\n",
       "    .dataframe tbody tr th:only-of-type {\n",
       "        vertical-align: middle;\n",
       "    }\n",
       "\n",
       "    .dataframe tbody tr th {\n",
       "        vertical-align: top;\n",
       "    }\n",
       "\n",
       "    .dataframe thead th {\n",
       "        text-align: right;\n",
       "    }\n",
       "</style>\n",
       "<table border=\"1\" class=\"dataframe\">\n",
       "  <thead>\n",
       "    <tr style=\"text-align: right;\">\n",
       "      <th></th>\n",
       "      <th>doi</th>\n",
       "      <th>journal</th>\n",
       "      <th>title</th>\n",
       "      <th>abstract</th>\n",
       "      <th>date</th>\n",
       "      <th>name</th>\n",
       "      <th>rank</th>\n",
       "    </tr>\n",
       "  </thead>\n",
       "  <tbody>\n",
       "    <tr>\n",
       "      <th>0</th>\n",
       "      <td>10.1093/rfs/hhr069</td>\n",
       "      <td>Review of Financial Studies</td>\n",
       "      <td>The Inventory Growth Spread</td>\n",
       "      <td>Previous studies show that firms with low inve...</td>\n",
       "      <td>2012-01-15</td>\n",
       "      <td>INSEAD</td>\n",
       "      <td></td>\n",
       "    </tr>\n",
       "    <tr>\n",
       "      <th>2</th>\n",
       "      <td>10.1093/rfs/hhr109</td>\n",
       "      <td>Review of Financial Studies</td>\n",
       "      <td>Takeovers and Divergence of Investor Opinion</td>\n",
       "      <td>We test several hypotheses on how takeover pre...</td>\n",
       "      <td>2012-01-15</td>\n",
       "      <td>New York University</td>\n",
       "      <td>50</td>\n",
       "    </tr>\n",
       "    <tr>\n",
       "      <th>3</th>\n",
       "      <td>10.1093/rfs/hhr081</td>\n",
       "      <td>Review of Financial Studies</td>\n",
       "      <td>Corporate Governance Objectives of Labor Union...</td>\n",
       "      <td>Labor union pension funds have become increasi...</td>\n",
       "      <td>2012-01-15</td>\n",
       "      <td>London School of Economics</td>\n",
       "      <td>1</td>\n",
       "    </tr>\n",
       "    <tr>\n",
       "      <th>4</th>\n",
       "      <td>10.1093/rfs/hhr076</td>\n",
       "      <td>Review of Financial Studies</td>\n",
       "      <td>Managerial Attributes and Executive Compensation</td>\n",
       "      <td>We study the role of firm- and manager-specifi...</td>\n",
       "      <td>2012-01-15</td>\n",
       "      <td>Wilfrid Laurier University</td>\n",
       "      <td></td>\n",
       "    </tr>\n",
       "    <tr>\n",
       "      <th>7</th>\n",
       "      <td>10.1093/rfs/hhr092</td>\n",
       "      <td>Review of Financial Studies</td>\n",
       "      <td>The Road Less Traveled: Strategy Distinctivene...</td>\n",
       "      <td>We investigate whether skilled hedge fund mana...</td>\n",
       "      <td>2012-01-15</td>\n",
       "      <td>University of California, Irvine</td>\n",
       "      <td></td>\n",
       "    </tr>\n",
       "  </tbody>\n",
       "</table>\n",
       "</div>"
      ],
      "text/plain": [
       "                  doi                      journal  \\\n",
       "0  10.1093/rfs/hhr069  Review of Financial Studies   \n",
       "2  10.1093/rfs/hhr109  Review of Financial Studies   \n",
       "3  10.1093/rfs/hhr081  Review of Financial Studies   \n",
       "4  10.1093/rfs/hhr076  Review of Financial Studies   \n",
       "7  10.1093/rfs/hhr092  Review of Financial Studies   \n",
       "\n",
       "                                               title  \\\n",
       "0                        The Inventory Growth Spread   \n",
       "2       Takeovers and Divergence of Investor Opinion   \n",
       "3  Corporate Governance Objectives of Labor Union...   \n",
       "4   Managerial Attributes and Executive Compensation   \n",
       "7  The Road Less Traveled: Strategy Distinctivene...   \n",
       "\n",
       "                                            abstract       date  \\\n",
       "0  Previous studies show that firms with low inve... 2012-01-15   \n",
       "2  We test several hypotheses on how takeover pre... 2012-01-15   \n",
       "3  Labor union pension funds have become increasi... 2012-01-15   \n",
       "4  We study the role of firm- and manager-specifi... 2012-01-15   \n",
       "7  We investigate whether skilled hedge fund mana... 2012-01-15   \n",
       "\n",
       "                               name rank  \n",
       "0                            INSEAD       \n",
       "2               New York University   50  \n",
       "3        London School of Economics    1  \n",
       "4        Wilfrid Laurier University       \n",
       "7  University of California, Irvine       "
      ]
     },
     "execution_count": 76,
     "metadata": {},
     "output_type": "execute_result"
    }
   ],
   "source": [
    "# extract title, abstract, date, and journal from database, starting from 2012-2022\n",
    "q = \"\"\"\n",
    "    SELECT art.doi, art.journal, art.title, art.abstract, art.date, af.name, af.rank\n",
    "    FROM author_article AS aa JOIN author AS au JOIN article AS art JOIN affiliation AS af\n",
    "    ON aa.authorid = au.authorid AND\n",
    "    aa.doi = art.doi AND\n",
    "    au.affiliationid = af.affiliationid\n",
    "    WHERE art.date >= '2012-01-01' AND\n",
    "    art.date < '2023-01-01'\n",
    "    \"\"\"\n",
    "\n",
    "# remove duplicated abstracts, set as strings\n",
    "df = pd.read_sql_query(q, conn).drop_duplicates(subset=[\"abstract\"]).astype(\"str\")\n",
    "df[\"date\"] = pd.to_datetime(df[\"date\"])   # convert date to datetime\n",
    "df = df[(df[\"abstract\"] != \"nan\") & (df[\"abstract\"] != \"N\\A\")].dropna(subset=[\"abstract\"])\n",
    "df.head()"
   ]
  },
  {
   "cell_type": "code",
   "execution_count": 77,
   "metadata": {},
   "outputs": [
    {
     "data": {
      "text/plain": [
       "17833"
      ]
     },
     "execution_count": 77,
     "metadata": {},
     "output_type": "execute_result"
    }
   ],
   "source": [
    "len(df)"
   ]
  },
  {
   "cell_type": "code",
   "execution_count": 78,
   "metadata": {},
   "outputs": [
    {
     "data": {
      "text/html": [
       "<div>\n",
       "<style scoped>\n",
       "    .dataframe tbody tr th:only-of-type {\n",
       "        vertical-align: middle;\n",
       "    }\n",
       "\n",
       "    .dataframe tbody tr th {\n",
       "        vertical-align: top;\n",
       "    }\n",
       "\n",
       "    .dataframe thead th {\n",
       "        text-align: right;\n",
       "    }\n",
       "</style>\n",
       "<table border=\"1\" class=\"dataframe\">\n",
       "  <thead>\n",
       "    <tr style=\"text-align: right;\">\n",
       "      <th></th>\n",
       "      <th>doi</th>\n",
       "      <th>journal</th>\n",
       "      <th>title</th>\n",
       "      <th>abstract</th>\n",
       "      <th>date</th>\n",
       "      <th>name</th>\n",
       "      <th>rank</th>\n",
       "    </tr>\n",
       "  </thead>\n",
       "  <tbody>\n",
       "    <tr>\n",
       "      <th>15395</th>\n",
       "      <td>10.1093/restud/rdab057</td>\n",
       "      <td>Review of Economic Studies</td>\n",
       "      <td>A Theory of Monetary Union and Financial Integ...</td>\n",
       "      <td>Since the creation of the euro, capital flows ...</td>\n",
       "      <td>2022-08-01</td>\n",
       "      <td>Centre de Recerca en Economia Internacional</td>\n",
       "      <td></td>\n",
       "    </tr>\n",
       "    <tr>\n",
       "      <th>15396</th>\n",
       "      <td>10.1016/j.econmod.2022.105874</td>\n",
       "      <td>Economic Modelling</td>\n",
       "      <td>COVID-19 regulations, culture, and the environ...</td>\n",
       "      <td>The economic and social disruptions caused by ...</td>\n",
       "      <td>2022-08-15</td>\n",
       "      <td>Nanyang Technological University</td>\n",
       "      <td>457</td>\n",
       "    </tr>\n",
       "    <tr>\n",
       "      <th>15397</th>\n",
       "      <td>10.1016/j.euroecorev.2022.104090</td>\n",
       "      <td>European Economic Review</td>\n",
       "      <td>Signalling creditworthiness with fiscal austerity</td>\n",
       "      <td>Sovereign borrowers may tighten their fiscal s...</td>\n",
       "      <td>2022-05-15</td>\n",
       "      <td>Bocconi University</td>\n",
       "      <td></td>\n",
       "    </tr>\n",
       "    <tr>\n",
       "      <th>15398</th>\n",
       "      <td>10.1016/j.econmod.2022.105891</td>\n",
       "      <td>Economic Modelling</td>\n",
       "      <td>Unemployment claims during COVID-19 and econom...</td>\n",
       "      <td>Governments want to know how effective COVID-1...</td>\n",
       "      <td>2022-08-15</td>\n",
       "      <td>University of Macedonia</td>\n",
       "      <td></td>\n",
       "    </tr>\n",
       "    <tr>\n",
       "      <th>15399</th>\n",
       "      <td>10.1016/j.econlet.2022.110806</td>\n",
       "      <td>Economics Letters</td>\n",
       "      <td>The personal saving rate: Data revisions and f...</td>\n",
       "      <td>Revisions to the U.S. personal saving rate are...</td>\n",
       "      <td>2022-10-15</td>\n",
       "      <td>University of Richmond</td>\n",
       "      <td></td>\n",
       "    </tr>\n",
       "  </tbody>\n",
       "</table>\n",
       "</div>"
      ],
      "text/plain": [
       "                                    doi                     journal  \\\n",
       "15395            10.1093/restud/rdab057  Review of Economic Studies   \n",
       "15396     10.1016/j.econmod.2022.105874          Economic Modelling   \n",
       "15397  10.1016/j.euroecorev.2022.104090    European Economic Review   \n",
       "15398     10.1016/j.econmod.2022.105891          Economic Modelling   \n",
       "15399     10.1016/j.econlet.2022.110806           Economics Letters   \n",
       "\n",
       "                                                   title  \\\n",
       "15395  A Theory of Monetary Union and Financial Integ...   \n",
       "15396  COVID-19 regulations, culture, and the environ...   \n",
       "15397  Signalling creditworthiness with fiscal austerity   \n",
       "15398  Unemployment claims during COVID-19 and econom...   \n",
       "15399  The personal saving rate: Data revisions and f...   \n",
       "\n",
       "                                                abstract       date  \\\n",
       "15395  Since the creation of the euro, capital flows ... 2022-08-01   \n",
       "15396  The economic and social disruptions caused by ... 2022-08-15   \n",
       "15397  Sovereign borrowers may tighten their fiscal s... 2022-05-15   \n",
       "15398  Governments want to know how effective COVID-1... 2022-08-15   \n",
       "15399  Revisions to the U.S. personal saving rate are... 2022-10-15   \n",
       "\n",
       "                                              name rank  \n",
       "15395  Centre de Recerca en Economia Internacional       \n",
       "15396             Nanyang Technological University  457  \n",
       "15397                           Bocconi University       \n",
       "15398                      University of Macedonia       \n",
       "15399                       University of Richmond       "
      ]
     },
     "execution_count": 78,
     "metadata": {},
     "output_type": "execute_result"
    }
   ],
   "source": [
    "# generate time bins\n",
    "timebins = []\n",
    "for i in range(2023-2012):\n",
    "    timebins.append((pd.to_datetime(str(i+2012)+\"-01-01\"), pd.to_datetime(str(i+2013)+\"-01-01\")))\n",
    "\n",
    "# sample \n",
    "df_s = pd.concat([df[(df[\"date\"] < bin[1]) & (df[\"date\"] >= bin[0])].sample(n=1400, random_state=0) for bin in timebins]).reset_index(drop=True)\n",
    "df_s.tail(5)"
   ]
  },
  {
   "cell_type": "code",
   "execution_count": 79,
   "metadata": {},
   "outputs": [],
   "source": [
    "# df_s = df\n",
    "sw = stopwords.words(\"english\")+[\"jel\"]\n",
    "# set lemmatizer to deal with plural/ing/ed forms\n",
    "# lemmatizer = WordNetLemmatizer()\n",
    "# df_s.abstract = df_s.abstract.apply(lambda x: \" \".join([lemmatizer.lemmatize(word) \n",
    "#                                                        for word in word_tokenize(x.lower()) if lemmatizer.lemmatize(word) not in sw]))\n",
    "df_s.abstract = df_s.abstract.apply(lambda x: \" \".join([word for word in word_tokenize(x.lower()) if word not in sw]))"
   ]
  },
  {
   "attachments": {},
   "cell_type": "markdown",
   "metadata": {},
   "source": [
    "## Run TM on All Abstracts"
   ]
  },
  {
   "cell_type": "code",
   "execution_count": 80,
   "metadata": {},
   "outputs": [],
   "source": [
    "abstracts = df_s.abstract.to_list()\n",
    "dates = df_s['date'].to_list()"
   ]
  },
  {
   "cell_type": "code",
   "execution_count": 81,
   "metadata": {},
   "outputs": [
    {
     "data": {
      "application/vnd.jupyter.widget-view+json": {
       "model_id": "6d610930635b4d8799ac3f5bd062a680",
       "version_major": 2,
       "version_minor": 0
      },
      "text/plain": [
       "Batches:   0%|          | 0/482 [00:00<?, ?it/s]"
      ]
     },
     "metadata": {},
     "output_type": "display_data"
    },
    {
     "name": "stderr",
     "output_type": "stream",
     "text": [
      "2023-03-06 00:41:50,490 - BERTopic - Transformed documents to Embeddings\n",
      "2023-03-06 00:41:59,786 - BERTopic - Reduced dimensionality\n",
      "2023-03-06 00:42:00,456 - BERTopic - Clustered reduced embeddings\n",
      "60it [00:08,  7.30it/s]\n"
     ]
    }
   ],
   "source": [
    "# n_neighbors: smaller local strcuture lose connection, bigger all connection lose local structure\n",
    "# n_component: dimensionality of reduced dimension space\n",
    "# min_dist: how tightly UMAP is allowed to pack points together\n",
    "umap_model = UMAP(n_neighbors=15, n_components=5, \n",
    "                  min_dist=0.01, metric='euclidean', random_state=1)\n",
    "\n",
    "topic_model = BERTopic(min_topic_size=70,verbose=True,umap_model=umap_model)\n",
    "topics, probs = topic_model.fit_transform(abstracts)\n",
    "topics_over_time = topic_model.topics_over_time(abstracts, dates, evolution_tuning=True, global_tuning=True,  nr_bins=60)"
   ]
  },
  {
   "cell_type": "code",
   "execution_count": 82,
   "metadata": {},
   "outputs": [
    {
     "data": {
      "application/vnd.plotly.v1+json": {
       "config": {
        "plotlyServerURL": "https://plot.ly"
       },
       "data": [
        {
         "customdata": [
          [
           0,
           "model | financial | policy | risk | shocks",
           5495
          ],
          [
           1,
           "game | agent | games | information | preferences",
           1006
          ],
          [
           2,
           "wage | workers | unemployment | labor | job",
           640
          ],
          [
           3,
           "trade | export | firms | countries | exports",
           586
          ],
          [
           4,
           "consumers | price | firms | competition | market",
           416
          ],
          [
           5,
           "emissions | environmental | energy | pollution | carbon",
           404
          ],
          [
           6,
           "political | voters | elections | vote | electoral",
           338
          ],
          [
           7,
           "students | school | schools | education | student",
           337
          ],
          [
           8,
           "marriage | children | child | fertility | women",
           286
          ],
          [
           9,
           "health | insurance | care | retirement | medicare",
           248
          ],
          [
           10,
           "migration | migrants | immigration | immigrants | labor",
           233
          ],
          [
           11,
           "tax | taxes | income | taxation | capital",
           216
          ],
          [
           12,
           "inequality | income | wealth | consumption | households",
           205
          ],
          [
           13,
           "gender | women | female | men | gap",
           162
          ],
          [
           14,
           "crime | criminal | police | crimes | judges",
           135
          ],
          [
           15,
           "patent | innovation | patents | protection | firms",
           128
          ],
          [
           16,
           "auction | auctions | bidders | bidding | seller",
           128
          ],
          [
           17,
           "land | agricultural | farmers | productivity | agriculture",
           105
          ],
          [
           18,
           "conflict | ethnic | violence | war | civil",
           97
          ],
          [
           19,
           "productivity | growth | knowledge | technology | spillovers",
           83
          ],
          [
           20,
           "infrastructure | cities | road | transport | transportation",
           78
          ],
          [
           21,
           "poverty | households | household | poor | savings",
           73
          ]
         ],
         "hovertemplate": "<b>Topic %{customdata[0]}</b><br>%{customdata[1]}<br>Size: %{customdata[2]}",
         "legendgroup": "",
         "marker": {
          "color": "#B0BEC5",
          "line": {
           "color": "DarkSlateGrey",
           "width": 2
          },
          "size": [
           5495,
           1006,
           640,
           586,
           416,
           404,
           338,
           337,
           286,
           248,
           233,
           216,
           205,
           162,
           135,
           128,
           128,
           105,
           97,
           83,
           78,
           73
          ],
          "sizemode": "area",
          "sizeref": 3.434375,
          "symbol": "circle"
         },
         "mode": "markers",
         "name": "",
         "orientation": "v",
         "showlegend": false,
         "type": "scatter",
         "x": [
          6.66241455078125,
          9.038688659667969,
          5.315857410430908,
          8.390697479248047,
          9.031686782836914,
          5.944714546203613,
          5.567138195037842,
          6.651495456695557,
          7.45191764831543,
          6.310866355895996,
          8.01476764678955,
          5.723104953765869,
          5.294797897338867,
          6.822091579437256,
          6.929264545440674,
          9.435980796813965,
          9.247875213623047,
          6.966599941253662,
          7.55795431137085,
          5.3852009773254395,
          7.791558265686035,
          6.6585187911987305
         ],
         "xaxis": "x",
         "y": [
          8.380230903625488,
          5.967084884643555,
          7.215674877166748,
          6.373410224914551,
          6.352293968200684,
          8.627484321594238,
          7.440246105194092,
          6.751378536224365,
          11.93482494354248,
          7.156313419342041,
          11.313698768615723,
          8.325252532958984,
          6.479565620422363,
          6.621413230895996,
          12.581971168518066,
          6.168751239776611,
          6.5091633796691895,
          11.556744575500488,
          11.350793838500977,
          6.247989654541016,
          11.690154075622559,
          7.409656047821045
         ],
         "yaxis": "y"
        }
       ],
       "layout": {
        "annotations": [
         {
          "showarrow": false,
          "text": "D1",
          "x": 4.500578212738037,
          "y": 9.770644497871398,
          "yshift": 10
         },
         {
          "showarrow": false,
          "text": "D2",
          "x": 7.675978064537048,
          "xshift": 10,
          "y": 14.469266843795776
         }
        ],
        "height": 650,
        "hoverlabel": {
         "bgcolor": "white",
         "font": {
          "family": "Rockwell",
          "size": 16
         }
        },
        "legend": {
         "itemsizing": "constant",
         "tracegroupgap": 0
        },
        "margin": {
         "t": 60
        },
        "shapes": [
         {
          "line": {
           "color": "#CFD8DC",
           "width": 2
          },
          "type": "line",
          "x0": 7.675978064537048,
          "x1": 7.675978064537048,
          "y0": 5.072022151947022,
          "y1": 14.469266843795776
         },
         {
          "line": {
           "color": "#9E9E9E",
           "width": 2
          },
          "type": "line",
          "x0": 4.500578212738037,
          "x1": 10.851377916336059,
          "y0": 9.770644497871398,
          "y1": 9.770644497871398
         }
        ],
        "sliders": [
         {
          "active": 0,
          "pad": {
           "t": 50
          },
          "steps": [
           {
            "args": [
             {
              "marker.color": [
               [
                "red",
                "#B0BEC5",
                "#B0BEC5",
                "#B0BEC5",
                "#B0BEC5",
                "#B0BEC5",
                "#B0BEC5",
                "#B0BEC5",
                "#B0BEC5",
                "#B0BEC5",
                "#B0BEC5",
                "#B0BEC5",
                "#B0BEC5",
                "#B0BEC5",
                "#B0BEC5",
                "#B0BEC5",
                "#B0BEC5",
                "#B0BEC5",
                "#B0BEC5",
                "#B0BEC5",
                "#B0BEC5",
                "#B0BEC5"
               ]
              ]
             }
            ],
            "label": "Topic 0",
            "method": "update"
           },
           {
            "args": [
             {
              "marker.color": [
               [
                "#B0BEC5",
                "red",
                "#B0BEC5",
                "#B0BEC5",
                "#B0BEC5",
                "#B0BEC5",
                "#B0BEC5",
                "#B0BEC5",
                "#B0BEC5",
                "#B0BEC5",
                "#B0BEC5",
                "#B0BEC5",
                "#B0BEC5",
                "#B0BEC5",
                "#B0BEC5",
                "#B0BEC5",
                "#B0BEC5",
                "#B0BEC5",
                "#B0BEC5",
                "#B0BEC5",
                "#B0BEC5",
                "#B0BEC5"
               ]
              ]
             }
            ],
            "label": "Topic 1",
            "method": "update"
           },
           {
            "args": [
             {
              "marker.color": [
               [
                "#B0BEC5",
                "#B0BEC5",
                "red",
                "#B0BEC5",
                "#B0BEC5",
                "#B0BEC5",
                "#B0BEC5",
                "#B0BEC5",
                "#B0BEC5",
                "#B0BEC5",
                "#B0BEC5",
                "#B0BEC5",
                "#B0BEC5",
                "#B0BEC5",
                "#B0BEC5",
                "#B0BEC5",
                "#B0BEC5",
                "#B0BEC5",
                "#B0BEC5",
                "#B0BEC5",
                "#B0BEC5",
                "#B0BEC5"
               ]
              ]
             }
            ],
            "label": "Topic 2",
            "method": "update"
           },
           {
            "args": [
             {
              "marker.color": [
               [
                "#B0BEC5",
                "#B0BEC5",
                "#B0BEC5",
                "red",
                "#B0BEC5",
                "#B0BEC5",
                "#B0BEC5",
                "#B0BEC5",
                "#B0BEC5",
                "#B0BEC5",
                "#B0BEC5",
                "#B0BEC5",
                "#B0BEC5",
                "#B0BEC5",
                "#B0BEC5",
                "#B0BEC5",
                "#B0BEC5",
                "#B0BEC5",
                "#B0BEC5",
                "#B0BEC5",
                "#B0BEC5",
                "#B0BEC5"
               ]
              ]
             }
            ],
            "label": "Topic 3",
            "method": "update"
           },
           {
            "args": [
             {
              "marker.color": [
               [
                "#B0BEC5",
                "#B0BEC5",
                "#B0BEC5",
                "#B0BEC5",
                "red",
                "#B0BEC5",
                "#B0BEC5",
                "#B0BEC5",
                "#B0BEC5",
                "#B0BEC5",
                "#B0BEC5",
                "#B0BEC5",
                "#B0BEC5",
                "#B0BEC5",
                "#B0BEC5",
                "#B0BEC5",
                "#B0BEC5",
                "#B0BEC5",
                "#B0BEC5",
                "#B0BEC5",
                "#B0BEC5",
                "#B0BEC5"
               ]
              ]
             }
            ],
            "label": "Topic 4",
            "method": "update"
           },
           {
            "args": [
             {
              "marker.color": [
               [
                "#B0BEC5",
                "#B0BEC5",
                "#B0BEC5",
                "#B0BEC5",
                "#B0BEC5",
                "red",
                "#B0BEC5",
                "#B0BEC5",
                "#B0BEC5",
                "#B0BEC5",
                "#B0BEC5",
                "#B0BEC5",
                "#B0BEC5",
                "#B0BEC5",
                "#B0BEC5",
                "#B0BEC5",
                "#B0BEC5",
                "#B0BEC5",
                "#B0BEC5",
                "#B0BEC5",
                "#B0BEC5",
                "#B0BEC5"
               ]
              ]
             }
            ],
            "label": "Topic 5",
            "method": "update"
           },
           {
            "args": [
             {
              "marker.color": [
               [
                "#B0BEC5",
                "#B0BEC5",
                "#B0BEC5",
                "#B0BEC5",
                "#B0BEC5",
                "#B0BEC5",
                "red",
                "#B0BEC5",
                "#B0BEC5",
                "#B0BEC5",
                "#B0BEC5",
                "#B0BEC5",
                "#B0BEC5",
                "#B0BEC5",
                "#B0BEC5",
                "#B0BEC5",
                "#B0BEC5",
                "#B0BEC5",
                "#B0BEC5",
                "#B0BEC5",
                "#B0BEC5",
                "#B0BEC5"
               ]
              ]
             }
            ],
            "label": "Topic 6",
            "method": "update"
           },
           {
            "args": [
             {
              "marker.color": [
               [
                "#B0BEC5",
                "#B0BEC5",
                "#B0BEC5",
                "#B0BEC5",
                "#B0BEC5",
                "#B0BEC5",
                "#B0BEC5",
                "red",
                "#B0BEC5",
                "#B0BEC5",
                "#B0BEC5",
                "#B0BEC5",
                "#B0BEC5",
                "#B0BEC5",
                "#B0BEC5",
                "#B0BEC5",
                "#B0BEC5",
                "#B0BEC5",
                "#B0BEC5",
                "#B0BEC5",
                "#B0BEC5",
                "#B0BEC5"
               ]
              ]
             }
            ],
            "label": "Topic 7",
            "method": "update"
           },
           {
            "args": [
             {
              "marker.color": [
               [
                "#B0BEC5",
                "#B0BEC5",
                "#B0BEC5",
                "#B0BEC5",
                "#B0BEC5",
                "#B0BEC5",
                "#B0BEC5",
                "#B0BEC5",
                "red",
                "#B0BEC5",
                "#B0BEC5",
                "#B0BEC5",
                "#B0BEC5",
                "#B0BEC5",
                "#B0BEC5",
                "#B0BEC5",
                "#B0BEC5",
                "#B0BEC5",
                "#B0BEC5",
                "#B0BEC5",
                "#B0BEC5",
                "#B0BEC5"
               ]
              ]
             }
            ],
            "label": "Topic 8",
            "method": "update"
           },
           {
            "args": [
             {
              "marker.color": [
               [
                "#B0BEC5",
                "#B0BEC5",
                "#B0BEC5",
                "#B0BEC5",
                "#B0BEC5",
                "#B0BEC5",
                "#B0BEC5",
                "#B0BEC5",
                "#B0BEC5",
                "red",
                "#B0BEC5",
                "#B0BEC5",
                "#B0BEC5",
                "#B0BEC5",
                "#B0BEC5",
                "#B0BEC5",
                "#B0BEC5",
                "#B0BEC5",
                "#B0BEC5",
                "#B0BEC5",
                "#B0BEC5",
                "#B0BEC5"
               ]
              ]
             }
            ],
            "label": "Topic 9",
            "method": "update"
           },
           {
            "args": [
             {
              "marker.color": [
               [
                "#B0BEC5",
                "#B0BEC5",
                "#B0BEC5",
                "#B0BEC5",
                "#B0BEC5",
                "#B0BEC5",
                "#B0BEC5",
                "#B0BEC5",
                "#B0BEC5",
                "#B0BEC5",
                "red",
                "#B0BEC5",
                "#B0BEC5",
                "#B0BEC5",
                "#B0BEC5",
                "#B0BEC5",
                "#B0BEC5",
                "#B0BEC5",
                "#B0BEC5",
                "#B0BEC5",
                "#B0BEC5",
                "#B0BEC5"
               ]
              ]
             }
            ],
            "label": "Topic 10",
            "method": "update"
           },
           {
            "args": [
             {
              "marker.color": [
               [
                "#B0BEC5",
                "#B0BEC5",
                "#B0BEC5",
                "#B0BEC5",
                "#B0BEC5",
                "#B0BEC5",
                "#B0BEC5",
                "#B0BEC5",
                "#B0BEC5",
                "#B0BEC5",
                "#B0BEC5",
                "red",
                "#B0BEC5",
                "#B0BEC5",
                "#B0BEC5",
                "#B0BEC5",
                "#B0BEC5",
                "#B0BEC5",
                "#B0BEC5",
                "#B0BEC5",
                "#B0BEC5",
                "#B0BEC5"
               ]
              ]
             }
            ],
            "label": "Topic 11",
            "method": "update"
           },
           {
            "args": [
             {
              "marker.color": [
               [
                "#B0BEC5",
                "#B0BEC5",
                "#B0BEC5",
                "#B0BEC5",
                "#B0BEC5",
                "#B0BEC5",
                "#B0BEC5",
                "#B0BEC5",
                "#B0BEC5",
                "#B0BEC5",
                "#B0BEC5",
                "#B0BEC5",
                "red",
                "#B0BEC5",
                "#B0BEC5",
                "#B0BEC5",
                "#B0BEC5",
                "#B0BEC5",
                "#B0BEC5",
                "#B0BEC5",
                "#B0BEC5",
                "#B0BEC5"
               ]
              ]
             }
            ],
            "label": "Topic 12",
            "method": "update"
           },
           {
            "args": [
             {
              "marker.color": [
               [
                "#B0BEC5",
                "#B0BEC5",
                "#B0BEC5",
                "#B0BEC5",
                "#B0BEC5",
                "#B0BEC5",
                "#B0BEC5",
                "#B0BEC5",
                "#B0BEC5",
                "#B0BEC5",
                "#B0BEC5",
                "#B0BEC5",
                "#B0BEC5",
                "red",
                "#B0BEC5",
                "#B0BEC5",
                "#B0BEC5",
                "#B0BEC5",
                "#B0BEC5",
                "#B0BEC5",
                "#B0BEC5",
                "#B0BEC5"
               ]
              ]
             }
            ],
            "label": "Topic 13",
            "method": "update"
           },
           {
            "args": [
             {
              "marker.color": [
               [
                "#B0BEC5",
                "#B0BEC5",
                "#B0BEC5",
                "#B0BEC5",
                "#B0BEC5",
                "#B0BEC5",
                "#B0BEC5",
                "#B0BEC5",
                "#B0BEC5",
                "#B0BEC5",
                "#B0BEC5",
                "#B0BEC5",
                "#B0BEC5",
                "#B0BEC5",
                "red",
                "#B0BEC5",
                "#B0BEC5",
                "#B0BEC5",
                "#B0BEC5",
                "#B0BEC5",
                "#B0BEC5",
                "#B0BEC5"
               ]
              ]
             }
            ],
            "label": "Topic 14",
            "method": "update"
           },
           {
            "args": [
             {
              "marker.color": [
               [
                "#B0BEC5",
                "#B0BEC5",
                "#B0BEC5",
                "#B0BEC5",
                "#B0BEC5",
                "#B0BEC5",
                "#B0BEC5",
                "#B0BEC5",
                "#B0BEC5",
                "#B0BEC5",
                "#B0BEC5",
                "#B0BEC5",
                "#B0BEC5",
                "#B0BEC5",
                "#B0BEC5",
                "red",
                "#B0BEC5",
                "#B0BEC5",
                "#B0BEC5",
                "#B0BEC5",
                "#B0BEC5",
                "#B0BEC5"
               ]
              ]
             }
            ],
            "label": "Topic 15",
            "method": "update"
           },
           {
            "args": [
             {
              "marker.color": [
               [
                "#B0BEC5",
                "#B0BEC5",
                "#B0BEC5",
                "#B0BEC5",
                "#B0BEC5",
                "#B0BEC5",
                "#B0BEC5",
                "#B0BEC5",
                "#B0BEC5",
                "#B0BEC5",
                "#B0BEC5",
                "#B0BEC5",
                "#B0BEC5",
                "#B0BEC5",
                "#B0BEC5",
                "#B0BEC5",
                "red",
                "#B0BEC5",
                "#B0BEC5",
                "#B0BEC5",
                "#B0BEC5",
                "#B0BEC5"
               ]
              ]
             }
            ],
            "label": "Topic 16",
            "method": "update"
           },
           {
            "args": [
             {
              "marker.color": [
               [
                "#B0BEC5",
                "#B0BEC5",
                "#B0BEC5",
                "#B0BEC5",
                "#B0BEC5",
                "#B0BEC5",
                "#B0BEC5",
                "#B0BEC5",
                "#B0BEC5",
                "#B0BEC5",
                "#B0BEC5",
                "#B0BEC5",
                "#B0BEC5",
                "#B0BEC5",
                "#B0BEC5",
                "#B0BEC5",
                "#B0BEC5",
                "red",
                "#B0BEC5",
                "#B0BEC5",
                "#B0BEC5",
                "#B0BEC5"
               ]
              ]
             }
            ],
            "label": "Topic 17",
            "method": "update"
           },
           {
            "args": [
             {
              "marker.color": [
               [
                "#B0BEC5",
                "#B0BEC5",
                "#B0BEC5",
                "#B0BEC5",
                "#B0BEC5",
                "#B0BEC5",
                "#B0BEC5",
                "#B0BEC5",
                "#B0BEC5",
                "#B0BEC5",
                "#B0BEC5",
                "#B0BEC5",
                "#B0BEC5",
                "#B0BEC5",
                "#B0BEC5",
                "#B0BEC5",
                "#B0BEC5",
                "#B0BEC5",
                "red",
                "#B0BEC5",
                "#B0BEC5",
                "#B0BEC5"
               ]
              ]
             }
            ],
            "label": "Topic 18",
            "method": "update"
           },
           {
            "args": [
             {
              "marker.color": [
               [
                "#B0BEC5",
                "#B0BEC5",
                "#B0BEC5",
                "#B0BEC5",
                "#B0BEC5",
                "#B0BEC5",
                "#B0BEC5",
                "#B0BEC5",
                "#B0BEC5",
                "#B0BEC5",
                "#B0BEC5",
                "#B0BEC5",
                "#B0BEC5",
                "#B0BEC5",
                "#B0BEC5",
                "#B0BEC5",
                "#B0BEC5",
                "#B0BEC5",
                "#B0BEC5",
                "red",
                "#B0BEC5",
                "#B0BEC5"
               ]
              ]
             }
            ],
            "label": "Topic 19",
            "method": "update"
           },
           {
            "args": [
             {
              "marker.color": [
               [
                "#B0BEC5",
                "#B0BEC5",
                "#B0BEC5",
                "#B0BEC5",
                "#B0BEC5",
                "#B0BEC5",
                "#B0BEC5",
                "#B0BEC5",
                "#B0BEC5",
                "#B0BEC5",
                "#B0BEC5",
                "#B0BEC5",
                "#B0BEC5",
                "#B0BEC5",
                "#B0BEC5",
                "#B0BEC5",
                "#B0BEC5",
                "#B0BEC5",
                "#B0BEC5",
                "#B0BEC5",
                "red",
                "#B0BEC5"
               ]
              ]
             }
            ],
            "label": "Topic 20",
            "method": "update"
           },
           {
            "args": [
             {
              "marker.color": [
               [
                "#B0BEC5",
                "#B0BEC5",
                "#B0BEC5",
                "#B0BEC5",
                "#B0BEC5",
                "#B0BEC5",
                "#B0BEC5",
                "#B0BEC5",
                "#B0BEC5",
                "#B0BEC5",
                "#B0BEC5",
                "#B0BEC5",
                "#B0BEC5",
                "#B0BEC5",
                "#B0BEC5",
                "#B0BEC5",
                "#B0BEC5",
                "#B0BEC5",
                "#B0BEC5",
                "#B0BEC5",
                "#B0BEC5",
                "red"
               ]
              ]
             }
            ],
            "label": "Topic 21",
            "method": "update"
           }
          ]
         }
        ],
        "template": {
         "data": {
          "bar": [
           {
            "error_x": {
             "color": "rgb(36,36,36)"
            },
            "error_y": {
             "color": "rgb(36,36,36)"
            },
            "marker": {
             "line": {
              "color": "white",
              "width": 0.5
             },
             "pattern": {
              "fillmode": "overlay",
              "size": 10,
              "solidity": 0.2
             }
            },
            "type": "bar"
           }
          ],
          "barpolar": [
           {
            "marker": {
             "line": {
              "color": "white",
              "width": 0.5
             },
             "pattern": {
              "fillmode": "overlay",
              "size": 10,
              "solidity": 0.2
             }
            },
            "type": "barpolar"
           }
          ],
          "carpet": [
           {
            "aaxis": {
             "endlinecolor": "rgb(36,36,36)",
             "gridcolor": "white",
             "linecolor": "white",
             "minorgridcolor": "white",
             "startlinecolor": "rgb(36,36,36)"
            },
            "baxis": {
             "endlinecolor": "rgb(36,36,36)",
             "gridcolor": "white",
             "linecolor": "white",
             "minorgridcolor": "white",
             "startlinecolor": "rgb(36,36,36)"
            },
            "type": "carpet"
           }
          ],
          "choropleth": [
           {
            "colorbar": {
             "outlinewidth": 1,
             "tickcolor": "rgb(36,36,36)",
             "ticks": "outside"
            },
            "type": "choropleth"
           }
          ],
          "contour": [
           {
            "colorbar": {
             "outlinewidth": 1,
             "tickcolor": "rgb(36,36,36)",
             "ticks": "outside"
            },
            "colorscale": [
             [
              0,
              "#440154"
             ],
             [
              0.1111111111111111,
              "#482878"
             ],
             [
              0.2222222222222222,
              "#3e4989"
             ],
             [
              0.3333333333333333,
              "#31688e"
             ],
             [
              0.4444444444444444,
              "#26828e"
             ],
             [
              0.5555555555555556,
              "#1f9e89"
             ],
             [
              0.6666666666666666,
              "#35b779"
             ],
             [
              0.7777777777777778,
              "#6ece58"
             ],
             [
              0.8888888888888888,
              "#b5de2b"
             ],
             [
              1,
              "#fde725"
             ]
            ],
            "type": "contour"
           }
          ],
          "contourcarpet": [
           {
            "colorbar": {
             "outlinewidth": 1,
             "tickcolor": "rgb(36,36,36)",
             "ticks": "outside"
            },
            "type": "contourcarpet"
           }
          ],
          "heatmap": [
           {
            "colorbar": {
             "outlinewidth": 1,
             "tickcolor": "rgb(36,36,36)",
             "ticks": "outside"
            },
            "colorscale": [
             [
              0,
              "#440154"
             ],
             [
              0.1111111111111111,
              "#482878"
             ],
             [
              0.2222222222222222,
              "#3e4989"
             ],
             [
              0.3333333333333333,
              "#31688e"
             ],
             [
              0.4444444444444444,
              "#26828e"
             ],
             [
              0.5555555555555556,
              "#1f9e89"
             ],
             [
              0.6666666666666666,
              "#35b779"
             ],
             [
              0.7777777777777778,
              "#6ece58"
             ],
             [
              0.8888888888888888,
              "#b5de2b"
             ],
             [
              1,
              "#fde725"
             ]
            ],
            "type": "heatmap"
           }
          ],
          "heatmapgl": [
           {
            "colorbar": {
             "outlinewidth": 1,
             "tickcolor": "rgb(36,36,36)",
             "ticks": "outside"
            },
            "colorscale": [
             [
              0,
              "#440154"
             ],
             [
              0.1111111111111111,
              "#482878"
             ],
             [
              0.2222222222222222,
              "#3e4989"
             ],
             [
              0.3333333333333333,
              "#31688e"
             ],
             [
              0.4444444444444444,
              "#26828e"
             ],
             [
              0.5555555555555556,
              "#1f9e89"
             ],
             [
              0.6666666666666666,
              "#35b779"
             ],
             [
              0.7777777777777778,
              "#6ece58"
             ],
             [
              0.8888888888888888,
              "#b5de2b"
             ],
             [
              1,
              "#fde725"
             ]
            ],
            "type": "heatmapgl"
           }
          ],
          "histogram": [
           {
            "marker": {
             "line": {
              "color": "white",
              "width": 0.6
             }
            },
            "type": "histogram"
           }
          ],
          "histogram2d": [
           {
            "colorbar": {
             "outlinewidth": 1,
             "tickcolor": "rgb(36,36,36)",
             "ticks": "outside"
            },
            "colorscale": [
             [
              0,
              "#440154"
             ],
             [
              0.1111111111111111,
              "#482878"
             ],
             [
              0.2222222222222222,
              "#3e4989"
             ],
             [
              0.3333333333333333,
              "#31688e"
             ],
             [
              0.4444444444444444,
              "#26828e"
             ],
             [
              0.5555555555555556,
              "#1f9e89"
             ],
             [
              0.6666666666666666,
              "#35b779"
             ],
             [
              0.7777777777777778,
              "#6ece58"
             ],
             [
              0.8888888888888888,
              "#b5de2b"
             ],
             [
              1,
              "#fde725"
             ]
            ],
            "type": "histogram2d"
           }
          ],
          "histogram2dcontour": [
           {
            "colorbar": {
             "outlinewidth": 1,
             "tickcolor": "rgb(36,36,36)",
             "ticks": "outside"
            },
            "colorscale": [
             [
              0,
              "#440154"
             ],
             [
              0.1111111111111111,
              "#482878"
             ],
             [
              0.2222222222222222,
              "#3e4989"
             ],
             [
              0.3333333333333333,
              "#31688e"
             ],
             [
              0.4444444444444444,
              "#26828e"
             ],
             [
              0.5555555555555556,
              "#1f9e89"
             ],
             [
              0.6666666666666666,
              "#35b779"
             ],
             [
              0.7777777777777778,
              "#6ece58"
             ],
             [
              0.8888888888888888,
              "#b5de2b"
             ],
             [
              1,
              "#fde725"
             ]
            ],
            "type": "histogram2dcontour"
           }
          ],
          "mesh3d": [
           {
            "colorbar": {
             "outlinewidth": 1,
             "tickcolor": "rgb(36,36,36)",
             "ticks": "outside"
            },
            "type": "mesh3d"
           }
          ],
          "parcoords": [
           {
            "line": {
             "colorbar": {
              "outlinewidth": 1,
              "tickcolor": "rgb(36,36,36)",
              "ticks": "outside"
             }
            },
            "type": "parcoords"
           }
          ],
          "pie": [
           {
            "automargin": true,
            "type": "pie"
           }
          ],
          "scatter": [
           {
            "fillpattern": {
             "fillmode": "overlay",
             "size": 10,
             "solidity": 0.2
            },
            "type": "scatter"
           }
          ],
          "scatter3d": [
           {
            "line": {
             "colorbar": {
              "outlinewidth": 1,
              "tickcolor": "rgb(36,36,36)",
              "ticks": "outside"
             }
            },
            "marker": {
             "colorbar": {
              "outlinewidth": 1,
              "tickcolor": "rgb(36,36,36)",
              "ticks": "outside"
             }
            },
            "type": "scatter3d"
           }
          ],
          "scattercarpet": [
           {
            "marker": {
             "colorbar": {
              "outlinewidth": 1,
              "tickcolor": "rgb(36,36,36)",
              "ticks": "outside"
             }
            },
            "type": "scattercarpet"
           }
          ],
          "scattergeo": [
           {
            "marker": {
             "colorbar": {
              "outlinewidth": 1,
              "tickcolor": "rgb(36,36,36)",
              "ticks": "outside"
             }
            },
            "type": "scattergeo"
           }
          ],
          "scattergl": [
           {
            "marker": {
             "colorbar": {
              "outlinewidth": 1,
              "tickcolor": "rgb(36,36,36)",
              "ticks": "outside"
             }
            },
            "type": "scattergl"
           }
          ],
          "scattermapbox": [
           {
            "marker": {
             "colorbar": {
              "outlinewidth": 1,
              "tickcolor": "rgb(36,36,36)",
              "ticks": "outside"
             }
            },
            "type": "scattermapbox"
           }
          ],
          "scatterpolar": [
           {
            "marker": {
             "colorbar": {
              "outlinewidth": 1,
              "tickcolor": "rgb(36,36,36)",
              "ticks": "outside"
             }
            },
            "type": "scatterpolar"
           }
          ],
          "scatterpolargl": [
           {
            "marker": {
             "colorbar": {
              "outlinewidth": 1,
              "tickcolor": "rgb(36,36,36)",
              "ticks": "outside"
             }
            },
            "type": "scatterpolargl"
           }
          ],
          "scatterternary": [
           {
            "marker": {
             "colorbar": {
              "outlinewidth": 1,
              "tickcolor": "rgb(36,36,36)",
              "ticks": "outside"
             }
            },
            "type": "scatterternary"
           }
          ],
          "surface": [
           {
            "colorbar": {
             "outlinewidth": 1,
             "tickcolor": "rgb(36,36,36)",
             "ticks": "outside"
            },
            "colorscale": [
             [
              0,
              "#440154"
             ],
             [
              0.1111111111111111,
              "#482878"
             ],
             [
              0.2222222222222222,
              "#3e4989"
             ],
             [
              0.3333333333333333,
              "#31688e"
             ],
             [
              0.4444444444444444,
              "#26828e"
             ],
             [
              0.5555555555555556,
              "#1f9e89"
             ],
             [
              0.6666666666666666,
              "#35b779"
             ],
             [
              0.7777777777777778,
              "#6ece58"
             ],
             [
              0.8888888888888888,
              "#b5de2b"
             ],
             [
              1,
              "#fde725"
             ]
            ],
            "type": "surface"
           }
          ],
          "table": [
           {
            "cells": {
             "fill": {
              "color": "rgb(237,237,237)"
             },
             "line": {
              "color": "white"
             }
            },
            "header": {
             "fill": {
              "color": "rgb(217,217,217)"
             },
             "line": {
              "color": "white"
             }
            },
            "type": "table"
           }
          ]
         },
         "layout": {
          "annotationdefaults": {
           "arrowhead": 0,
           "arrowwidth": 1
          },
          "autotypenumbers": "strict",
          "coloraxis": {
           "colorbar": {
            "outlinewidth": 1,
            "tickcolor": "rgb(36,36,36)",
            "ticks": "outside"
           }
          },
          "colorscale": {
           "diverging": [
            [
             0,
             "rgb(103,0,31)"
            ],
            [
             0.1,
             "rgb(178,24,43)"
            ],
            [
             0.2,
             "rgb(214,96,77)"
            ],
            [
             0.3,
             "rgb(244,165,130)"
            ],
            [
             0.4,
             "rgb(253,219,199)"
            ],
            [
             0.5,
             "rgb(247,247,247)"
            ],
            [
             0.6,
             "rgb(209,229,240)"
            ],
            [
             0.7,
             "rgb(146,197,222)"
            ],
            [
             0.8,
             "rgb(67,147,195)"
            ],
            [
             0.9,
             "rgb(33,102,172)"
            ],
            [
             1,
             "rgb(5,48,97)"
            ]
           ],
           "sequential": [
            [
             0,
             "#440154"
            ],
            [
             0.1111111111111111,
             "#482878"
            ],
            [
             0.2222222222222222,
             "#3e4989"
            ],
            [
             0.3333333333333333,
             "#31688e"
            ],
            [
             0.4444444444444444,
             "#26828e"
            ],
            [
             0.5555555555555556,
             "#1f9e89"
            ],
            [
             0.6666666666666666,
             "#35b779"
            ],
            [
             0.7777777777777778,
             "#6ece58"
            ],
            [
             0.8888888888888888,
             "#b5de2b"
            ],
            [
             1,
             "#fde725"
            ]
           ],
           "sequentialminus": [
            [
             0,
             "#440154"
            ],
            [
             0.1111111111111111,
             "#482878"
            ],
            [
             0.2222222222222222,
             "#3e4989"
            ],
            [
             0.3333333333333333,
             "#31688e"
            ],
            [
             0.4444444444444444,
             "#26828e"
            ],
            [
             0.5555555555555556,
             "#1f9e89"
            ],
            [
             0.6666666666666666,
             "#35b779"
            ],
            [
             0.7777777777777778,
             "#6ece58"
            ],
            [
             0.8888888888888888,
             "#b5de2b"
            ],
            [
             1,
             "#fde725"
            ]
           ]
          },
          "colorway": [
           "#1F77B4",
           "#FF7F0E",
           "#2CA02C",
           "#D62728",
           "#9467BD",
           "#8C564B",
           "#E377C2",
           "#7F7F7F",
           "#BCBD22",
           "#17BECF"
          ],
          "font": {
           "color": "rgb(36,36,36)"
          },
          "geo": {
           "bgcolor": "white",
           "lakecolor": "white",
           "landcolor": "white",
           "showlakes": true,
           "showland": true,
           "subunitcolor": "white"
          },
          "hoverlabel": {
           "align": "left"
          },
          "hovermode": "closest",
          "mapbox": {
           "style": "light"
          },
          "paper_bgcolor": "white",
          "plot_bgcolor": "white",
          "polar": {
           "angularaxis": {
            "gridcolor": "rgb(232,232,232)",
            "linecolor": "rgb(36,36,36)",
            "showgrid": false,
            "showline": true,
            "ticks": "outside"
           },
           "bgcolor": "white",
           "radialaxis": {
            "gridcolor": "rgb(232,232,232)",
            "linecolor": "rgb(36,36,36)",
            "showgrid": false,
            "showline": true,
            "ticks": "outside"
           }
          },
          "scene": {
           "xaxis": {
            "backgroundcolor": "white",
            "gridcolor": "rgb(232,232,232)",
            "gridwidth": 2,
            "linecolor": "rgb(36,36,36)",
            "showbackground": true,
            "showgrid": false,
            "showline": true,
            "ticks": "outside",
            "zeroline": false,
            "zerolinecolor": "rgb(36,36,36)"
           },
           "yaxis": {
            "backgroundcolor": "white",
            "gridcolor": "rgb(232,232,232)",
            "gridwidth": 2,
            "linecolor": "rgb(36,36,36)",
            "showbackground": true,
            "showgrid": false,
            "showline": true,
            "ticks": "outside",
            "zeroline": false,
            "zerolinecolor": "rgb(36,36,36)"
           },
           "zaxis": {
            "backgroundcolor": "white",
            "gridcolor": "rgb(232,232,232)",
            "gridwidth": 2,
            "linecolor": "rgb(36,36,36)",
            "showbackground": true,
            "showgrid": false,
            "showline": true,
            "ticks": "outside",
            "zeroline": false,
            "zerolinecolor": "rgb(36,36,36)"
           }
          },
          "shapedefaults": {
           "fillcolor": "black",
           "line": {
            "width": 0
           },
           "opacity": 0.3
          },
          "ternary": {
           "aaxis": {
            "gridcolor": "rgb(232,232,232)",
            "linecolor": "rgb(36,36,36)",
            "showgrid": false,
            "showline": true,
            "ticks": "outside"
           },
           "baxis": {
            "gridcolor": "rgb(232,232,232)",
            "linecolor": "rgb(36,36,36)",
            "showgrid": false,
            "showline": true,
            "ticks": "outside"
           },
           "bgcolor": "white",
           "caxis": {
            "gridcolor": "rgb(232,232,232)",
            "linecolor": "rgb(36,36,36)",
            "showgrid": false,
            "showline": true,
            "ticks": "outside"
           }
          },
          "title": {
           "x": 0.05
          },
          "xaxis": {
           "automargin": true,
           "gridcolor": "rgb(232,232,232)",
           "linecolor": "rgb(36,36,36)",
           "showgrid": false,
           "showline": true,
           "ticks": "outside",
           "title": {
            "standoff": 15
           },
           "zeroline": false,
           "zerolinecolor": "rgb(36,36,36)"
          },
          "yaxis": {
           "automargin": true,
           "gridcolor": "rgb(232,232,232)",
           "linecolor": "rgb(36,36,36)",
           "showgrid": false,
           "showline": true,
           "ticks": "outside",
           "title": {
            "standoff": 15
           },
           "zeroline": false,
           "zerolinecolor": "rgb(36,36,36)"
          }
         }
        },
        "title": {
         "font": {
          "color": "Black",
          "size": 22
         },
         "text": "<b>Intertopic Distance Map</b>",
         "x": 0.5,
         "xanchor": "center",
         "y": 0.95,
         "yanchor": "top"
        },
        "width": 650,
        "xaxis": {
         "anchor": "y",
         "domain": [
          0,
          1
         ],
         "range": [
          4.500578212738037,
          10.851377916336059
         ],
         "title": {
          "text": ""
         },
         "visible": false
        },
        "yaxis": {
         "anchor": "x",
         "domain": [
          0,
          1
         ],
         "range": [
          5.072022151947022,
          14.469266843795776
         ],
         "title": {
          "text": ""
         },
         "visible": false
        }
       }
      }
     },
     "metadata": {},
     "output_type": "display_data"
    }
   ],
   "source": [
    "topic_model.visualize_topics()"
   ]
  },
  {
   "cell_type": "code",
   "execution_count": 83,
   "metadata": {},
   "outputs": [
    {
     "data": {
      "application/vnd.plotly.v1+json": {
       "config": {
        "plotlyServerURL": "https://plot.ly"
       },
       "data": [
        {
         "hoverinfo": "text",
         "hovertext": [
          "<b>Topic 0</b><br>Words: financial, model, risk, oxford, press",
          "<b>Topic 0</b><br>Words: financial, model, debt, risk, paper",
          "<b>Topic 0</b><br>Words: financial, model, risk, press, oxford",
          "<b>Topic 0</b><br>Words: model, financial, risk, oxford, press",
          "<b>Topic 0</b><br>Words: financial, model, paper, capital, inflation",
          "<b>Topic 0</b><br>Words: model, financial, stock, risk, rate",
          "<b>Topic 0</b><br>Words: financial, model, policy, rate, risk",
          "<b>Topic 0</b><br>Words: financial, model, risk, monetary, paper",
          "<b>Topic 0</b><br>Words: model, financial, paper, market, risk",
          "<b>Topic 0</b><br>Words: shocks, oil, model, price, interest",
          "<b>Topic 0</b><br>Words: financial, model, oxford, press, university",
          "<b>Topic 0</b><br>Words: model, financial, volatility, paper, risk",
          "<b>Topic 0</b><br>Words: model, financial, rate, debt, policy",
          "<b>Topic 0</b><br>Words: model, financial, liquidity, paper, risk",
          "<b>Topic 0</b><br>Words: model, rate, returns, stock, financial",
          "<b>Topic 0</b><br>Words: model, financial, monetary, policy, shocks",
          "<b>Topic 0</b><br>Words: model, financial, inflation, volatility, monetary",
          "<b>Topic 0</b><br>Words: financial, model, banks, policy, inflation",
          "<b>Topic 0</b><br>Words: model, risk, financial, volatility, returns",
          "<b>Topic 0</b><br>Words: model, financial, policy, interest, rate",
          "<b>Topic 0</b><br>Words: model, policy, monetary, inflation, financial",
          "<b>Topic 0</b><br>Words: model, financial, shocks, risk, stock",
          "<b>Topic 0</b><br>Words: model, debt, financial, policy, volatility",
          "<b>Topic 0</b><br>Words: model, financial, capital, policy, shocks",
          "<b>Topic 0</b><br>Words: banks, credit, lending, financial, borrowers",
          "<b>Topic 0</b><br>Words: model, financial, policy, market, inflation",
          "<b>Topic 0</b><br>Words: model, debt, policy, financial, credit",
          "<b>Topic 0</b><br>Words: financial, model, inflation, policy, monetary",
          "<b>Topic 0</b><br>Words: model, financial, debt, investors, policy",
          "<b>Topic 0</b><br>Words: model, financial, monetary, policy, effects",
          "<b>Topic 0</b><br>Words: model, financial, banks, risk, shocks",
          "<b>Topic 0</b><br>Words: financial, model, banks, debt, capital",
          "<b>Topic 0</b><br>Words: model, financial, banks, monetary, policy",
          "<b>Topic 0</b><br>Words: model, risk, financial, policy, credit",
          "<b>Topic 0</b><br>Words: financial, models, model, policy, market",
          "<b>Topic 0</b><br>Words: financial, model, inflation, banks, stock",
          "<b>Topic 0</b><br>Words: model, financial, shocks, monetary, policy",
          "<b>Topic 0</b><br>Words: model, shocks, policy, monetary, rate",
          "<b>Topic 0</b><br>Words: policy, model, shocks, paper, financial",
          "<b>Topic 0</b><br>Words: model, financial, risk, rate, debt",
          "<b>Topic 0</b><br>Words: financial, risk, shocks, monetary, policy",
          "<b>Topic 0</b><br>Words: model, financial, debt, shocks, risk",
          "<b>Topic 0</b><br>Words: debt, financial, model, risk, market",
          "<b>Topic 0</b><br>Words: model, policy, risk, bank, monetary",
          "<b>Topic 0</b><br>Words: model, financial, shocks, paper, policy",
          "<b>Topic 0</b><br>Words: policy, inflation, model, financial, monetary",
          "<b>Topic 0</b><br>Words: model, financial, policy, bank, credit",
          "<b>Topic 0</b><br>Words: model, risk, financial, policy, monetary",
          "<b>Topic 0</b><br>Words: model, monetary, credit, policy, financial",
          "<b>Topic 0</b><br>Words: model, policy, financial, shocks, market",
          "<b>Topic 0</b><br>Words: model, financial, market, prices, stock",
          "<b>Topic 0</b><br>Words: model, financial, policy, debt, market",
          "<b>Topic 0</b><br>Words: model, financial, policy, shocks, monetary",
          "<b>Topic 0</b><br>Words: banks, bank, policy, model, financial",
          "<b>Topic 0</b><br>Words: model, financial, policy, shocks, debt",
          "<b>Topic 0</b><br>Words: model, risk, firms, policy, shocks",
          "<b>Topic 0</b><br>Words: shocks, model, risk, policy, financial",
          "<b>Topic 0</b><br>Words: banks, monetary, model, policy, financial",
          "<b>Topic 0</b><br>Words: model, debt, shocks, monetary, inflation",
          "<b>Topic 0</b><br>Words: banks, credit, model, risk, policy"
         ],
         "marker": {
          "color": "#E69F00"
         },
         "mode": "lines",
         "name": "0_model_financial_policy_risk",
         "type": "scatter",
         "x": [
          "2011-12-27T23:58:33.600000",
          "2012-03-07T16:24:00",
          "2012-05-13T08:48:00",
          "2012-07-19T01:12:00",
          "2012-09-23T17:36:00",
          "2012-11-29T10:00:00",
          "2013-02-04T02:24:00",
          "2013-04-11T18:48:00",
          "2013-06-17T11:12:00",
          "2013-08-23T03:36:00",
          "2013-10-28T20:00:00",
          "2014-01-03T12:24:00",
          "2014-03-11T04:48:00",
          "2014-05-16T21:12:00",
          "2014-07-22T13:36:00",
          "2014-09-27T06:00:00",
          "2014-12-02T22:24:00",
          "2015-02-07T14:48:00",
          "2015-04-15T07:12:00",
          "2015-06-20T23:36:00",
          "2015-08-26T16:00:00",
          "2015-11-01T08:24:00",
          "2016-01-07T00:48:00",
          "2016-03-13T17:12:00",
          "2016-05-19T09:36:00",
          "2016-07-25T02:00:00",
          "2016-09-29T18:24:00",
          "2016-12-05T10:48:00",
          "2017-02-10T03:12:00",
          "2017-04-17T19:36:00",
          "2017-06-23T12:00:00",
          "2017-08-29T04:24:00",
          "2017-11-03T20:48:00",
          "2018-01-09T13:12:00",
          "2018-03-17T05:36:00",
          "2018-05-22T22:00:00",
          "2018-07-28T14:24:00",
          "2018-10-03T06:48:00",
          "2018-12-08T23:12:00",
          "2019-02-13T15:36:00",
          "2019-04-21T08:00:00",
          "2019-06-27T00:24:00",
          "2019-09-01T16:48:00",
          "2019-11-07T09:12:00",
          "2020-01-13T01:36:00",
          "2020-03-19T18:00:00",
          "2020-05-25T10:24:00",
          "2020-07-31T02:48:00",
          "2020-10-05T19:12:00",
          "2020-12-11T11:36:00",
          "2021-02-16T04:00:00",
          "2021-04-23T20:24:00",
          "2021-06-29T12:48:00",
          "2021-09-04T05:12:00",
          "2021-11-09T21:36:00",
          "2022-01-15T14:00:00",
          "2022-03-23T06:24:00",
          "2022-05-28T22:48:00",
          "2022-08-03T15:12:00",
          "2022-10-09T07:36:00"
         ],
         "y": [
          73,
          88,
          147,
          82,
          104,
          115,
          88,
          100,
          103,
          81,
          69,
          113,
          107,
          57,
          69,
          91,
          79,
          102,
          80,
          75,
          63,
          117,
          94,
          112,
          71,
          90,
          119,
          89,
          100,
          84,
          95,
          67,
          113,
          118,
          83,
          75,
          122,
          88,
          90,
          107,
          83,
          71,
          92,
          90,
          96,
          78,
          95,
          101,
          95,
          134,
          82,
          88,
          75,
          65,
          103,
          77,
          84,
          90,
          86,
          90
         ]
        },
        {
         "hoverinfo": "text",
         "hovertext": [
          "<b>Topic 1</b><br>Words: subjects, sick, games, agent, effort",
          "<b>Topic 1</b><br>Words: strategies, prizes, players, contracting, treatments",
          "<b>Topic 1</b><br>Words: game, preferences, information, strotz, choice",
          "<b>Topic 1</b><br>Words: game, behavior, reciprocity, agent, decision",
          "<b>Topic 1</b><br>Words: game, players, player, hawkish, probability",
          "<b>Topic 1</b><br>Words: utility, preferences, risk, cooperation, discounting",
          "<b>Topic 1</b><br>Words: sdr, cooperation, preferences, truthfulness, players",
          "<b>Topic 1</b><br>Words: risk, aversion, choice, preferences, agent",
          "<b>Topic 1</b><br>Words: player, theory, games, players, prospect",
          "<b>Topic 1</b><br>Words: color, social, preferences, game, agents",
          "<b>Topic 1</b><br>Words: agent, game, contract, subjects, choice",
          "<b>Topic 1</b><br>Words: game, preferences, euu, games, agent",
          "<b>Topic 1</b><br>Words: game, choice, behavior, model, experimental",
          "<b>Topic 1</b><br>Words: games, behavior, social, crowd, choices",
          "<b>Topic 1</b><br>Words: contract, advice, willfully, ignorant, dictators",
          "<b>Topic 1</b><br>Words: utility, ambiguity, games, agents, risk",
          "<b>Topic 1</b><br>Words: information, games, agent, public, optimal",
          "<b>Topic 1</b><br>Words: contract, agent, principal, social, rewards",
          "<b>Topic 1</b><br>Words: subjects, game, experiments, agent, social",
          "<b>Topic 1</b><br>Words: intertemporal, wtpwta, choices, players, load",
          "<b>Topic 1</b><br>Words: group, juggling, suggestions, choice, refund",
          "<b>Topic 1</b><br>Words: preferences, uncertainty, social, preference, decision",
          "<b>Topic 1</b><br>Words: samuelson, information, games, bads, utility",
          "<b>Topic 1</b><br>Words: games, people, behavior, game, beliefs",
          "<b>Topic 1</b><br>Words: subjects, figure, effect, agent, experimental",
          "<b>Topic 1</b><br>Words: game, agent, decision, trustors, subjects",
          "<b>Topic 1</b><br>Words: cognitive, ingroup, social, subjects, reasoning",
          "<b>Topic 1</b><br>Words: progress, project, repetitions, principal, agent",
          "<b>Topic 1</b><br>Words: agent, information, principal, preferences, subjects",
          "<b>Topic 1</b><br>Words: players, punishment, player, hyperbolic, preferences",
          "<b>Topic 1</b><br>Words: norms, status, payers, english, games",
          "<b>Topic 1</b><br>Words: utility, agents, optimal, choice, decision",
          "<b>Topic 1</b><br>Words: agent, games, information, players, game",
          "<b>Topic 1</b><br>Words: preferences, risk, games, behavior, experiment",
          "<b>Topic 1</b><br>Words: agent, repeated, esr, favoritism, games",
          "<b>Topic 1</b><br>Words: subjects, loving, risk, action, game",
          "<b>Topic 1</b><br>Words: agent, group, rule, effort, optimal",
          "<b>Topic 1</b><br>Words: cooperation, player, fgf, players, action",
          "<b>Topic 1</b><br>Words: agent, risk, monitors, utility, mss",
          "<b>Topic 1</b><br>Words: game, games, information, signals, equilibrium",
          "<b>Topic 1</b><br>Words: games, moral, game, social, preferences",
          "<b>Topic 1</b><br>Words: payoffs, information, games, preferences, proposals",
          "<b>Topic 1</b><br>Words: information, experiment, game, social, bonuses",
          "<b>Topic 1</b><br>Words: game, individual, subjects, games, behavior",
          "<b>Topic 1</b><br>Words: tipping, game, task, contests, equilibrium",
          "<b>Topic 1</b><br>Words: equilibrium, players, games, game, utility",
          "<b>Topic 1</b><br>Words: preferences, decision, subjects, game, players",
          "<b>Topic 1</b><br>Words: persuaders, players, games, equilibrium, bestresponse",
          "<b>Topic 1</b><br>Words: agent, principal, information, equilibrium, effort",
          "<b>Topic 1</b><br>Words: choices, nonworkers, others, agent, endowment",
          "<b>Topic 1</b><br>Words: principal, agents, agent, choice, game",
          "<b>Topic 1</b><br>Words: information, preferences, beliefs, social, games",
          "<b>Topic 1</b><br>Words: subjects, behavior, earned, choice, social",
          "<b>Topic 1</b><br>Words: game, information, subjects, narrow, decision",
          "<b>Topic 1</b><br>Words: maker, utility, information, games, equilibrium",
          "<b>Topic 1</b><br>Words: agent, feedback, subjects, deadline, coordination",
          "<b>Topic 1</b><br>Words: beliefs, players, game, choice, moral",
          "<b>Topic 1</b><br>Words: person, preferences, signal, subjects, games",
          "<b>Topic 1</b><br>Words: subjects, experiments, salience, beliefs, games",
          "<b>Topic 1</b><br>Words: moral, behavior, nlk, games, game"
         ],
         "marker": {
          "color": "#56B4E9"
         },
         "mode": "lines",
         "name": "1_game_agent_games_information",
         "type": "scatter",
         "x": [
          "2011-12-27T23:58:33.600000",
          "2012-03-07T16:24:00",
          "2012-05-13T08:48:00",
          "2012-07-19T01:12:00",
          "2012-09-23T17:36:00",
          "2012-11-29T10:00:00",
          "2013-02-04T02:24:00",
          "2013-04-11T18:48:00",
          "2013-06-17T11:12:00",
          "2013-08-23T03:36:00",
          "2013-10-28T20:00:00",
          "2014-01-03T12:24:00",
          "2014-03-11T04:48:00",
          "2014-05-16T21:12:00",
          "2014-07-22T13:36:00",
          "2014-09-27T06:00:00",
          "2014-12-02T22:24:00",
          "2015-02-07T14:48:00",
          "2015-04-15T07:12:00",
          "2015-06-20T23:36:00",
          "2015-08-26T16:00:00",
          "2015-11-01T08:24:00",
          "2016-01-07T00:48:00",
          "2016-03-13T17:12:00",
          "2016-05-19T09:36:00",
          "2016-07-25T02:00:00",
          "2016-09-29T18:24:00",
          "2016-12-05T10:48:00",
          "2017-02-10T03:12:00",
          "2017-04-17T19:36:00",
          "2017-06-23T12:00:00",
          "2017-08-29T04:24:00",
          "2017-11-03T20:48:00",
          "2018-01-09T13:12:00",
          "2018-03-17T05:36:00",
          "2018-05-22T22:00:00",
          "2018-07-28T14:24:00",
          "2018-10-03T06:48:00",
          "2018-12-08T23:12:00",
          "2019-02-13T15:36:00",
          "2019-04-21T08:00:00",
          "2019-06-27T00:24:00",
          "2019-09-01T16:48:00",
          "2019-11-07T09:12:00",
          "2020-01-13T01:36:00",
          "2020-03-19T18:00:00",
          "2020-05-25T10:24:00",
          "2020-07-31T02:48:00",
          "2020-10-05T19:12:00",
          "2020-12-11T11:36:00",
          "2021-02-16T04:00:00",
          "2021-04-23T20:24:00",
          "2021-06-29T12:48:00",
          "2021-09-04T05:12:00",
          "2021-11-09T21:36:00",
          "2022-01-15T14:00:00",
          "2022-03-23T06:24:00",
          "2022-05-28T22:48:00",
          "2022-08-03T15:12:00",
          "2022-10-09T07:36:00"
         ],
         "y": [
          14,
          10,
          24,
          12,
          16,
          17,
          15,
          18,
          15,
          20,
          22,
          15,
          27,
          18,
          9,
          19,
          18,
          20,
          25,
          12,
          12,
          11,
          9,
          28,
          15,
          20,
          16,
          8,
          19,
          23,
          13,
          15,
          18,
          23,
          9,
          14,
          24,
          13,
          12,
          16,
          19,
          15,
          20,
          21,
          13,
          18,
          22,
          18,
          19,
          14,
          12,
          25,
          15,
          18,
          15,
          12,
          15,
          24,
          13,
          14
         ]
        },
        {
         "hoverinfo": "text",
         "hovertext": [
          "<b>Topic 2</b><br>Words: wage, unemployment, workers, wages, hiring",
          "<b>Topic 2</b><br>Words: workers, wage, wages, labor, trade",
          "<b>Topic 2</b><br>Words: wage, workers, employment, labor, wages",
          "<b>Topic 2</b><br>Words: workers, hours, wage, jobs, skill",
          "<b>Topic 2</b><br>Words: workers, job, wage, unemployment, employment",
          "<b>Topic 2</b><br>Words: wage, labor, job, wages, workers",
          "<b>Topic 2</b><br>Words: wage, workers, outsourcing, labor, skill",
          "<b>Topic 2</b><br>Words: wage, workers, labor, job, unemployment",
          "<b>Topic 2</b><br>Words: wage, workers, labor, job, wages",
          "<b>Topic 2</b><br>Words: wage, labor, unemployment, wages, employment",
          "<b>Topic 2</b><br>Words: wage, workers, unemployment, search, labor",
          "<b>Topic 2</b><br>Words: labor, workers, employment, wage, unemployment",
          "<b>Topic 2</b><br>Words: wage, unemployment, labor, workers, matching",
          "<b>Topic 2</b><br>Words: wage, workers, wages, worker, jobs",
          "<b>Topic 2</b><br>Words: workers, job, worker, unemployment, wage",
          "<b>Topic 2</b><br>Words: wage, workers, wages, unemployment, worker",
          "<b>Topic 2</b><br>Words: wage, unemployment, worker, sector, labor",
          "<b>Topic 2</b><br>Words: unemployment, search, workers, benefits, job",
          "<b>Topic 2</b><br>Words: workers, unemployment, labor, wage, job",
          "<b>Topic 2</b><br>Words: layers, unemployment, workers, firms, unemployed",
          "<b>Topic 2</b><br>Words: workers, labor, unemployment, search, wage",
          "<b>Topic 2</b><br>Words: labor, workers, wage, unemployment, market",
          "<b>Topic 2</b><br>Words: workers, unemployment, wage, employment, apprentices",
          "<b>Topic 2</b><br>Words: wage, unemployment, workers, search, wages",
          "<b>Topic 2</b><br>Words: labor, sweatshop, search, employment, workers",
          "<b>Topic 2</b><br>Words: importing, labour, movers, workers, unemployment",
          "<b>Topic 2</b><br>Words: unemployment, workers, rotation, job, wage",
          "<b>Topic 2</b><br>Words: unemployment, job, wage, employment, labor",
          "<b>Topic 2</b><br>Words: wage, workers, unemployment, employment, job",
          "<b>Topic 2</b><br>Words: wage, labor, workers, job, unemployment",
          "<b>Topic 2</b><br>Words: job, unemployment, labor, search, workers",
          "<b>Topic 2</b><br>Words: labor, workers, job, wage, unemployment",
          "<b>Topic 2</b><br>Words: unemployment, search, workers, wage, labor",
          "<b>Topic 2</b><br>Words: workers, wage, labor, globalization, employment",
          "<b>Topic 2</b><br>Words: unemployment, workers, wage, labor, firms",
          "<b>Topic 2</b><br>Words: unemployment, job, workers, labor, search",
          "<b>Topic 2</b><br>Words: job, wage, search, workers, recruiting",
          "<b>Topic 2</b><br>Words: wage, workers, unemployment, job, labor",
          "<b>Topic 2</b><br>Words: wage, employment, unemployment, workers, labor",
          "<b>Topic 2</b><br>Words: unemployment, wage, employment, workers, labor",
          "<b>Topic 2</b><br>Words: workers, unemployment, wage, employment, labor",
          "<b>Topic 2</b><br>Words: wage, job, search, minimum, employment",
          "<b>Topic 2</b><br>Words: wage, employment, workers, unemployment, labor",
          "<b>Topic 2</b><br>Words: workers, wage, labor, recruiting, job",
          "<b>Topic 2</b><br>Words: job, unions, labor, employment, unemployment",
          "<b>Topic 2</b><br>Words: skills, wages, wage, skill, workers",
          "<b>Topic 2</b><br>Words: workers, wage, skills, trade, jobs",
          "<b>Topic 2</b><br>Words: workers, wage, labor, unemployment, jobs",
          "<b>Topic 2</b><br>Words: workers, wage, unemployment, employers, labor",
          "<b>Topic 2</b><br>Words: unemployment, labor, workers, wage, job",
          "<b>Topic 2</b><br>Words: employment, workers, wages, wage, fixedterm",
          "<b>Topic 2</b><br>Words: job, search, wage, workers, unemployment",
          "<b>Topic 2</b><br>Words: unemployment, stw, workers, labor, union",
          "<b>Topic 2</b><br>Words: labor, workers, wage, employment, wages",
          "<b>Topic 2</b><br>Words: workers, wage, wages, employment, labor",
          "<b>Topic 2</b><br>Words: wage, minimum, unemployment, insurance, employees",
          "<b>Topic 2</b><br>Words: workers, unemployment, job, search, wage",
          "<b>Topic 2</b><br>Words: workers, job, wage, search, unemployment",
          "<b>Topic 2</b><br>Words: labor, wage, workers, employment, job",
          "<b>Topic 2</b><br>Words: labor, job, unemployment, wage, workers"
         ],
         "marker": {
          "color": "#009E73"
         },
         "mode": "lines",
         "name": "2_wage_workers_unemployment_labor",
         "type": "scatter",
         "x": [
          "2011-12-27T23:58:33.600000",
          "2012-03-07T16:24:00",
          "2012-05-13T08:48:00",
          "2012-07-19T01:12:00",
          "2012-09-23T17:36:00",
          "2012-11-29T10:00:00",
          "2013-02-04T02:24:00",
          "2013-04-11T18:48:00",
          "2013-06-17T11:12:00",
          "2013-08-23T03:36:00",
          "2013-10-28T20:00:00",
          "2014-01-03T12:24:00",
          "2014-03-11T04:48:00",
          "2014-05-16T21:12:00",
          "2014-07-22T13:36:00",
          "2014-09-27T06:00:00",
          "2014-12-02T22:24:00",
          "2015-02-07T14:48:00",
          "2015-04-15T07:12:00",
          "2015-06-20T23:36:00",
          "2015-08-26T16:00:00",
          "2015-11-01T08:24:00",
          "2016-01-07T00:48:00",
          "2016-03-13T17:12:00",
          "2016-05-19T09:36:00",
          "2016-07-25T02:00:00",
          "2016-09-29T18:24:00",
          "2016-12-05T10:48:00",
          "2017-02-10T03:12:00",
          "2017-04-17T19:36:00",
          "2017-06-23T12:00:00",
          "2017-08-29T04:24:00",
          "2017-11-03T20:48:00",
          "2018-01-09T13:12:00",
          "2018-03-17T05:36:00",
          "2018-05-22T22:00:00",
          "2018-07-28T14:24:00",
          "2018-10-03T06:48:00",
          "2018-12-08T23:12:00",
          "2019-02-13T15:36:00",
          "2019-04-21T08:00:00",
          "2019-06-27T00:24:00",
          "2019-09-01T16:48:00",
          "2019-11-07T09:12:00",
          "2020-01-13T01:36:00",
          "2020-03-19T18:00:00",
          "2020-05-25T10:24:00",
          "2020-07-31T02:48:00",
          "2020-10-05T19:12:00",
          "2020-12-11T11:36:00",
          "2021-02-16T04:00:00",
          "2021-04-23T20:24:00",
          "2021-06-29T12:48:00",
          "2021-09-04T05:12:00",
          "2021-11-09T21:36:00",
          "2022-01-15T14:00:00",
          "2022-03-23T06:24:00",
          "2022-05-28T22:48:00",
          "2022-08-03T15:12:00",
          "2022-10-09T07:36:00"
         ],
         "y": [
          13,
          9,
          21,
          5,
          11,
          14,
          12,
          16,
          9,
          12,
          12,
          11,
          10,
          5,
          6,
          11,
          6,
          11,
          18,
          7,
          10,
          19,
          8,
          22,
          6,
          4,
          9,
          9,
          8,
          12,
          5,
          12,
          23,
          8,
          15,
          11,
          9,
          8,
          10,
          10,
          15,
          9,
          10,
          9,
          8,
          6,
          8,
          15,
          6,
          14,
          8,
          8,
          6,
          8,
          13,
          6,
          15,
          16,
          12,
          11
         ]
        },
        {
         "hoverinfo": "text",
         "hovertext": [
          "<b>Topic 3</b><br>Words: trade, export, firms, prices, exports",
          "<b>Topic 3</b><br>Words: trade, export, vax, bilateral, exports",
          "<b>Topic 3</b><br>Words: trade, export, countries, model, quality",
          "<b>Topic 3</b><br>Words: trade, export, distance, exporting, firms",
          "<b>Topic 3</b><br>Words: trade, liberalization, security, 911, export",
          "<b>Topic 3</b><br>Words: trade, tariff, mp, varieties, tariffs",
          "<b>Topic 3</b><br>Words: trade, export, country, oman, exports",
          "<b>Topic 3</b><br>Words: trade, export, import, firms, model",
          "<b>Topic 3</b><br>Words: trade, firms, spiders, snakes, country",
          "<b>Topic 3</b><br>Words: trade, countries, services, exports, export",
          "<b>Topic 3</b><br>Words: trade, exporters, grh, export, wto",
          "<b>Topic 3</b><br>Words: trade, countries, export, gains, cge",
          "<b>Topic 3</b><br>Words: trade, countries, export, exports, firms",
          "<b>Topic 3</b><br>Words: trade, export, exporters, passthrough, multilateral",
          "<b>Topic 3</b><br>Words: trade, export, firm, firms, countries",
          "<b>Topic 3</b><br>Words: trade, export, model, exports, costs",
          "<b>Topic 3</b><br>Words: trade, walmex, export, tariffs, factorproportions",
          "<b>Topic 3</b><br>Words: trade, export, welfare, logistic, quality",
          "<b>Topic 3</b><br>Words: trade, exports, export, rmb, firms",
          "<b>Topic 3</b><br>Words: trade, export, audiovisual, services, bilateral",
          "<b>Topic 3</b><br>Words: trade, costs, export, gravity, tariff",
          "<b>Topic 3</b><br>Words: trade, export, countries, exports, firms",
          "<b>Topic 3</b><br>Words: trade, tariff, export, welfare, firm",
          "<b>Topic 3</b><br>Words: trade, export, goods, firms, countries",
          "<b>Topic 3</b><br>Words: trade, exports, export, exporters, processing",
          "<b>Topic 3</b><br>Words: trade, tariffs, export, costs, quality",
          "<b>Topic 3</b><br>Words: trade, tariffs, tariff, export, ptas",
          "<b>Topic 3</b><br>Words: trade, importing, exports, tariff, export",
          "<b>Topic 3</b><br>Words: trade, multinational, export, foreign, wolf",
          "<b>Topic 3</b><br>Words: trade, export, firms, foreign, esr",
          "<b>Topic 3</b><br>Words: ssm, tariffs, specific, trade, export",
          "<b>Topic 3</b><br>Words: trade, export, tariff, global, comparative",
          "<b>Topic 3</b><br>Words: trade, export, quality, tariffs, products",
          "<b>Topic 3</b><br>Words: trade, firms, export, quality, international",
          "<b>Topic 3</b><br>Words: nontariff, trade, ttip, ptas, cus",
          "<b>Topic 3</b><br>Words: trade, ttip, export, spinoffs, international",
          "<b>Topic 3</b><br>Words: trade, firms, countries, export, tariff",
          "<b>Topic 3</b><br>Words: trade, export, firms, exports, quality",
          "<b>Topic 3</b><br>Words: trade, firms, divisionalization, ftas, exports",
          "<b>Topic 3</b><br>Words: trade, export, firms, firm, products",
          "<b>Topic 3</b><br>Words: trade, quality, export, firm, internet",
          "<b>Topic 3</b><br>Words: gains, trade, tfpr, plants, tradables",
          "<b>Topic 3</b><br>Words: trade, countries, disadvantaged, firms, import",
          "<b>Topic 3</b><br>Words: trade, export, ad, fdi, ptas",
          "<b>Topic 3</b><br>Words: trade, tariff, firms, export, tariffs",
          "<b>Topic 3</b><br>Words: trade, services, tariff, manufacturing, tariffs",
          "<b>Topic 3</b><br>Words: trade, export, headquarters, washers, gravity",
          "<b>Topic 3</b><br>Words: trade, wto, export, exports, firms",
          "<b>Topic 3</b><br>Words: trade, empire, products, tariff, firms",
          "<b>Topic 3</b><br>Words: trade, ta, export, ratification, korea",
          "<b>Topic 3</b><br>Words: trade, export, firms, sectoral, model",
          "<b>Topic 3</b><br>Words: exports, trade, export, firms, import",
          "<b>Topic 3</b><br>Words: trade, export, firms, exporting, exporters",
          "<b>Topic 3</b><br>Words: trade, countries, overcapacity, steel, tariff",
          "<b>Topic 3</b><br>Words: trade, export, firms, exports, gsc",
          "<b>Topic 3</b><br>Words: trade, quality, product, costs, gains",
          "<b>Topic 3</b><br>Words: trade, scope, cannibalization, intranational, products",
          "<b>Topic 3</b><br>Words: trade, firms, export, tpu, tariffs",
          "<b>Topic 3</b><br>Words: trade, firms, ft, 3d, products",
          "<b>Topic 3</b><br>Words: trade, export, products, ntms, countries"
         ],
         "marker": {
          "color": "#F0E442"
         },
         "mode": "lines",
         "name": "3_trade_export_firms_countries",
         "type": "scatter",
         "x": [
          "2011-12-27T23:58:33.600000",
          "2012-03-07T16:24:00",
          "2012-05-13T08:48:00",
          "2012-07-19T01:12:00",
          "2012-09-23T17:36:00",
          "2012-11-29T10:00:00",
          "2013-02-04T02:24:00",
          "2013-04-11T18:48:00",
          "2013-06-17T11:12:00",
          "2013-08-23T03:36:00",
          "2013-10-28T20:00:00",
          "2014-01-03T12:24:00",
          "2014-03-11T04:48:00",
          "2014-05-16T21:12:00",
          "2014-07-22T13:36:00",
          "2014-09-27T06:00:00",
          "2014-12-02T22:24:00",
          "2015-02-07T14:48:00",
          "2015-04-15T07:12:00",
          "2015-06-20T23:36:00",
          "2015-08-26T16:00:00",
          "2015-11-01T08:24:00",
          "2016-01-07T00:48:00",
          "2016-03-13T17:12:00",
          "2016-05-19T09:36:00",
          "2016-07-25T02:00:00",
          "2016-09-29T18:24:00",
          "2016-12-05T10:48:00",
          "2017-02-10T03:12:00",
          "2017-04-17T19:36:00",
          "2017-06-23T12:00:00",
          "2017-08-29T04:24:00",
          "2017-11-03T20:48:00",
          "2018-01-09T13:12:00",
          "2018-03-17T05:36:00",
          "2018-05-22T22:00:00",
          "2018-07-28T14:24:00",
          "2018-10-03T06:48:00",
          "2018-12-08T23:12:00",
          "2019-02-13T15:36:00",
          "2019-04-21T08:00:00",
          "2019-06-27T00:24:00",
          "2019-09-01T16:48:00",
          "2019-11-07T09:12:00",
          "2020-01-13T01:36:00",
          "2020-03-19T18:00:00",
          "2020-05-25T10:24:00",
          "2020-07-31T02:48:00",
          "2020-10-05T19:12:00",
          "2020-12-11T11:36:00",
          "2021-02-16T04:00:00",
          "2021-04-23T20:24:00",
          "2021-06-29T12:48:00",
          "2021-09-04T05:12:00",
          "2021-11-09T21:36:00",
          "2022-01-15T14:00:00",
          "2022-03-23T06:24:00",
          "2022-05-28T22:48:00",
          "2022-08-03T15:12:00",
          "2022-10-09T07:36:00"
         ],
         "y": [
          12,
          6,
          18,
          12,
          9,
          8,
          13,
          14,
          11,
          11,
          9,
          17,
          17,
          7,
          11,
          11,
          6,
          12,
          11,
          9,
          15,
          11,
          14,
          15,
          10,
          11,
          9,
          10,
          6,
          10,
          2,
          13,
          9,
          21,
          5,
          9,
          13,
          11,
          13,
          9,
          4,
          2,
          4,
          5,
          14,
          6,
          6,
          10,
          4,
          5,
          7,
          5,
          11,
          10,
          15,
          7,
          4,
          12,
          8,
          7
         ]
        },
        {
         "hoverinfo": "text",
         "hovertext": [
          "<b>Topic 4</b><br>Words: price, consumers, consumer, market, firms",
          "<b>Topic 4</b><br>Words: consumers, product, toys, consumer, vertical",
          "<b>Topic 4</b><br>Words: price, consumers, firms, merger, soe",
          "<b>Topic 4</b><br>Words: consumers, price, equilibrium, prices, firms",
          "<b>Topic 4</b><br>Words: manufacturer, dominance, lmf, duopoly, dominant",
          "<b>Topic 4</b><br>Words: merger, pricing, price, postmerger, ticket",
          "<b>Topic 4</b><br>Words: demand, rprs, subsidy, consumers, competition",
          "<b>Topic 4</b><br>Words: mergers, consumers, firms, firm, market",
          "<b>Topic 4</b><br>Words: customization, customers, newspaper, credulous, markets",
          "<b>Topic 4</b><br>Words: merger, competition, electronic, immunity, organizational",
          "<b>Topic 4</b><br>Words: software, price, hardware, consumers, secondary",
          "<b>Topic 4</b><br>Words: manufacturer, retailers, price, bundling, consumers",
          "<b>Topic 4</b><br>Words: platform, mobile, competition, price, app",
          "<b>Topic 4</b><br>Words: transshipment, price, consumers, competition, underground",
          "<b>Topic 4</b><br>Words: consumers, products, firms, product, monopolist",
          "<b>Topic 4</b><br>Words: consumers, price, mergers, rcnl, nl",
          "<b>Topic 4</b><br>Words: consumers, prices, price, opec, firms",
          "<b>Topic 4</b><br>Words: consumers, entry, price, prices, competition",
          "<b>Topic 4</b><br>Words: privatization, dtca, consumers, consumer, price",
          "<b>Topic 4</b><br>Words: intermediary, mouth, word, buyers, prices",
          "<b>Topic 4</b><br>Words: fares, markets, incumbent, theories, capacitybased",
          "<b>Topic 4</b><br>Words: consumers, firms, price, oligopoly, market",
          "<b>Topic 4</b><br>Words: price, consumers, neutrality, separation, network",
          "<b>Topic 4</b><br>Words: quality, media, consumers, product, firm",
          "<b>Topic 4</b><br>Words: covenant, rebates, rowat, consumers, arbitrage",
          "<b>Topic 4</b><br>Words: peakload, price, advertising, consumers, pricing",
          "<b>Topic 4</b><br>Words: vertical, partial, interim, merger, deal",
          "<b>Topic 4</b><br>Words: broker, exclusively, data, quality, qualities",
          "<b>Topic 4</b><br>Words: product, vertical, consumers, market, products",
          "<b>Topic 4</b><br>Words: consumers, products, navetbased, discrimination, product",
          "<b>Topic 4</b><br>Words: merger, consumers, mme, firms, entrant",
          "<b>Topic 4</b><br>Words: slotting, search, price, inaction, consumers",
          "<b>Topic 4</b><br>Words: competition, makers, price, passengers, market",
          "<b>Topic 4</b><br>Words: advertising, consumers, consumer, platforms, firms",
          "<b>Topic 4</b><br>Words: entry, consumer, buyers, search, price",
          "<b>Topic 4</b><br>Words: intermediation, competition, prices, product, merger",
          "<b>Topic 4</b><br>Words: competition, recapture, merger, price, losers",
          "<b>Topic 4</b><br>Words: ancillary, good, acquisitions, price, cartels",
          "<b>Topic 4</b><br>Words: retailer, manufacturer, bargaining, consumers, supplier",
          "<b>Topic 4</b><br>Words: price, cable, competition, firms, equilibrium",
          "<b>Topic 4</b><br>Words: cartels, consumers, bonus, merger, competition",
          "<b>Topic 4</b><br>Words: cp, search, consumer, zerorating, loyalty",
          "<b>Topic 4</b><br>Words: dos, price, flash, consumers, discrimination",
          "<b>Topic 4</b><br>Words: mergers, buyer, merger, power, price",
          "<b>Topic 4</b><br>Words: price, mergers, antitrust, zerorating, information",
          "<b>Topic 4</b><br>Words: beliefs, restriction, stores, search, players",
          "<b>Topic 4</b><br>Words: vertical, consumers, platform, restaurants, platforms",
          "<b>Topic 4</b><br>Words: privatization, licensing, oligopoly, private, firm",
          "<b>Topic 4</b><br>Words: collusion, price, mergers, platform, consumers",
          "<b>Topic 4</b><br>Words: consumers, price, cartel, base, customer",
          "<b>Topic 4</b><br>Words: consumers, gift, cards, price, firms",
          "<b>Topic 4</b><br>Words: equilibrium, consumers, input, firm, price",
          "<b>Topic 4</b><br>Words: advertising, count, roi, price, ppos",
          "<b>Topic 4</b><br>Words: merger, price, firm, firms, consumers",
          "<b>Topic 4</b><br>Words: incumbents, entry, rebate, retailer, demand",
          "<b>Topic 4</b><br>Words: consumers, competition, cashless, firms, consumer",
          "<b>Topic 4</b><br>Words: consumers, pricing, welfare, market, quality",
          "<b>Topic 4</b><br>Words: consumers, mergers, vitamin, hosts, merger",
          "<b>Topic 4</b><br>Words: profitability, gross, booktomarket, pronouncedauthors, reaping",
          "<b>Topic 4</b><br>Words: compatibility, acquirer, crossownership, mergers, merger"
         ],
         "marker": {
          "color": "#D55E00"
         },
         "mode": "lines",
         "name": "4_consumers_price_firms_competition",
         "type": "scatter",
         "x": [
          "2011-12-27T23:58:33.600000",
          "2012-03-07T16:24:00",
          "2012-05-13T08:48:00",
          "2012-07-19T01:12:00",
          "2012-09-23T17:36:00",
          "2012-11-29T10:00:00",
          "2013-02-04T02:24:00",
          "2013-04-11T18:48:00",
          "2013-06-17T11:12:00",
          "2013-08-23T03:36:00",
          "2013-10-28T20:00:00",
          "2014-01-03T12:24:00",
          "2014-03-11T04:48:00",
          "2014-05-16T21:12:00",
          "2014-07-22T13:36:00",
          "2014-09-27T06:00:00",
          "2014-12-02T22:24:00",
          "2015-02-07T14:48:00",
          "2015-04-15T07:12:00",
          "2015-06-20T23:36:00",
          "2015-08-26T16:00:00",
          "2015-11-01T08:24:00",
          "2016-01-07T00:48:00",
          "2016-03-13T17:12:00",
          "2016-05-19T09:36:00",
          "2016-07-25T02:00:00",
          "2016-09-29T18:24:00",
          "2016-12-05T10:48:00",
          "2017-02-10T03:12:00",
          "2017-04-17T19:36:00",
          "2017-06-23T12:00:00",
          "2017-08-29T04:24:00",
          "2017-11-03T20:48:00",
          "2018-01-09T13:12:00",
          "2018-03-17T05:36:00",
          "2018-05-22T22:00:00",
          "2018-07-28T14:24:00",
          "2018-10-03T06:48:00",
          "2018-12-08T23:12:00",
          "2019-02-13T15:36:00",
          "2019-04-21T08:00:00",
          "2019-06-27T00:24:00",
          "2019-09-01T16:48:00",
          "2019-11-07T09:12:00",
          "2020-01-13T01:36:00",
          "2020-03-19T18:00:00",
          "2020-05-25T10:24:00",
          "2020-07-31T02:48:00",
          "2020-10-05T19:12:00",
          "2020-12-11T11:36:00",
          "2021-02-16T04:00:00",
          "2021-04-23T20:24:00",
          "2021-06-29T12:48:00",
          "2021-09-04T05:12:00",
          "2021-11-09T21:36:00",
          "2022-01-15T14:00:00",
          "2022-03-23T06:24:00",
          "2022-05-28T22:48:00",
          "2022-08-03T15:12:00",
          "2022-10-09T07:36:00"
         ],
         "y": [
          8,
          8,
          12,
          11,
          10,
          11,
          6,
          8,
          4,
          8,
          5,
          11,
          9,
          10,
          10,
          8,
          10,
          9,
          9,
          3,
          2,
          13,
          9,
          4,
          5,
          6,
          3,
          2,
          11,
          4,
          7,
          4,
          6,
          5,
          10,
          8,
          5,
          5,
          5,
          8,
          7,
          4,
          8,
          4,
          6,
          3,
          8,
          2,
          11,
          9,
          4,
          8,
          4,
          9,
          5,
          6,
          10,
          8,
          1,
          7
         ]
        },
        {
         "hoverinfo": "text",
         "hovertext": [
          "<b>Topic 5</b><br>Words: mortality, emissions, damages, muller, mendelsohn",
          "<b>Topic 5</b><br>Words: emissions, energy, electrification, electricity, pollution",
          "<b>Topic 5</b><br>Words: environmental, emissions, electricity, energy, carbon",
          "<b>Topic 5</b><br>Words: nuclear, energy, electricity, emissions, fuel",
          "<b>Topic 5</b><br>Words: emissions, deforestation, percapita, co2, climate",
          "<b>Topic 5</b><br>Words: energy, emissions, vehicle, environmental, development",
          "<b>Topic 5</b><br>Words: benthamrawls, urban, environmental, emissions, bentham",
          "<b>Topic 5</b><br>Words: leakage, emissions, environmental, auditors, gas",
          "<b>Topic 5</b><br>Words: emissions, environmental, pollution, carbon, energy",
          "<b>Topic 5</b><br>Words: energy, scc, abatement, emissions, fuel",
          "<b>Topic 5</b><br>Words: emissions, auditors, environmental, plants, scc",
          "<b>Topic 5</b><br>Words: energy, environmental, nonrenewable, emissions, emission",
          "<b>Topic 5</b><br>Words: emissions, electricity, climate, gas, fuel",
          "<b>Topic 5</b><br>Words: emissions, energy, carbon, pollution, coal",
          "<b>Topic 5</b><br>Words: emissions, sequential, electricity, directional, pollution",
          "<b>Topic 5</b><br>Words: pollution, water, air, regulations, gasoline",
          "<b>Topic 5</b><br>Words: energy, coal, emissions, environmental, consumption",
          "<b>Topic 5</b><br>Words: environmental, energy, emissions, carbon, climate",
          "<b>Topic 5</b><br>Words: energy, environmental, pollution, electricity, emissions",
          "<b>Topic 5</b><br>Words: carbon, caaa, fossil, quintile, fuel",
          "<b>Topic 5</b><br>Words: energy, inefficiency, environmental, cities, emissions",
          "<b>Topic 5</b><br>Words: pollution, energy, environmental, emissions, renewable",
          "<b>Topic 5</b><br>Words: emissions, co2, carbon, energy, environmental",
          "<b>Topic 5</b><br>Words: environmental, pollution, daily, solar, shortages",
          "<b>Topic 5</b><br>Words: environmental, electricity, hour, flexibility, production",
          "<b>Topic 5</b><br>Words: solar, energy, fuels, fossil, laws",
          "<b>Topic 5</b><br>Words: environmental, biocarbon, unilateral, polluting, tcz",
          "<b>Topic 5</b><br>Words: carbon, environmental, tipping, climate, energy",
          "<b>Topic 5</b><br>Words: energy, emissions, fossil, adaptation, mitigation",
          "<b>Topic 5</b><br>Words: pollution, water, emissions, air, energy",
          "<b>Topic 5</b><br>Words: environmental, pollution, tax, emissions, china",
          "<b>Topic 5</b><br>Words: energy, emissions, environmental, carbon, electricity",
          "<b>Topic 5</b><br>Words: carbon, conservation, emissions, emission, leakage",
          "<b>Topic 5</b><br>Words: energy, space, pollution, emissions, environmental",
          "<b>Topic 5</b><br>Words: attributebased, attribute, weightbased, doublenotched, regulationswe",
          "<b>Topic 5</b><br>Words: environmental, pollution, emissions, ecs, air",
          "<b>Topic 5</b><br>Words: energy, costs, climate, environmental, emissions",
          "<b>Topic 5</b><br>Words: pollution, feebate, coal, emissions, agent",
          "<b>Topic 5</b><br>Words: climate, carbon, deniers, ton, maxmin",
          "<b>Topic 5</b><br>Words: energy, emissions, pollution, environmental, green",
          "<b>Topic 5</b><br>Words: dioxide, carbon, pollution, emissions, environmental",
          "<b>Topic 5</b><br>Words: pollution, environmental, air, water, act",
          "<b>Topic 5</b><br>Words: carbon, emissions, sc, smoke, rc",
          "<b>Topic 5</b><br>Words: energy, emissions, environmental, pollution, air",
          "<b>Topic 5</b><br>Words: energy, emissions, environmental, rural, carbon",
          "<b>Topic 5</b><br>Words: emissions, pollution, environmental, climate, air",
          "<b>Topic 5</b><br>Words: pollution, environmental, biomass, electricity, environment",
          "<b>Topic 5</b><br>Words: pollution, optin, emissions, air, environmental",
          "<b>Topic 5</b><br>Words: environmental, fires, water, harmonization, emissions",
          "<b>Topic 5</b><br>Words: environmental, emissions, pollution, energy, emission",
          "<b>Topic 5</b><br>Words: environmental, fuel, emissions, plants, audit",
          "<b>Topic 5</b><br>Words: pollution, gpgs, emissions, environmental, energy",
          "<b>Topic 5</b><br>Words: emissions, carbon, environmental, capita, toxic",
          "<b>Topic 5</b><br>Words: eip, environmental, carbon, pollution, emissions",
          "<b>Topic 5</b><br>Words: emissions, carbon, delegation, climate, energy",
          "<b>Topic 5</b><br>Words: pollution, cny, environmental, km, toxic",
          "<b>Topic 5</b><br>Words: electricity, environmental, wetland, degradation, climate",
          "<b>Topic 5</b><br>Words: investments, sustainability, agreements, consumers, fixedcost",
          "<b>Topic 5</b><br>Words: climate, emissions, carbon, abatement, policy",
          "<b>Topic 5</b><br>Words: emissions, carbon, environmental, pollution, energy"
         ],
         "marker": {
          "color": "#0072B2"
         },
         "mode": "lines",
         "name": "5_emissions_environmental_energy_polluti...",
         "type": "scatter",
         "x": [
          "2011-12-27T23:58:33.600000",
          "2012-03-07T16:24:00",
          "2012-05-13T08:48:00",
          "2012-07-19T01:12:00",
          "2012-09-23T17:36:00",
          "2012-11-29T10:00:00",
          "2013-02-04T02:24:00",
          "2013-04-11T18:48:00",
          "2013-06-17T11:12:00",
          "2013-08-23T03:36:00",
          "2013-10-28T20:00:00",
          "2014-01-03T12:24:00",
          "2014-03-11T04:48:00",
          "2014-05-16T21:12:00",
          "2014-07-22T13:36:00",
          "2014-09-27T06:00:00",
          "2014-12-02T22:24:00",
          "2015-02-07T14:48:00",
          "2015-04-15T07:12:00",
          "2015-06-20T23:36:00",
          "2015-08-26T16:00:00",
          "2015-11-01T08:24:00",
          "2016-01-07T00:48:00",
          "2016-03-13T17:12:00",
          "2016-05-19T09:36:00",
          "2016-07-25T02:00:00",
          "2016-09-29T18:24:00",
          "2016-12-05T10:48:00",
          "2017-02-10T03:12:00",
          "2017-04-17T19:36:00",
          "2017-06-23T12:00:00",
          "2017-08-29T04:24:00",
          "2017-11-03T20:48:00",
          "2018-01-09T13:12:00",
          "2018-03-17T05:36:00",
          "2018-05-22T22:00:00",
          "2018-07-28T14:24:00",
          "2018-10-03T06:48:00",
          "2018-12-08T23:12:00",
          "2019-02-13T15:36:00",
          "2019-04-21T08:00:00",
          "2019-06-27T00:24:00",
          "2019-09-01T16:48:00",
          "2019-11-07T09:12:00",
          "2020-01-13T01:36:00",
          "2020-03-19T18:00:00",
          "2020-05-25T10:24:00",
          "2020-07-31T02:48:00",
          "2020-10-05T19:12:00",
          "2020-12-11T11:36:00",
          "2021-02-16T04:00:00",
          "2021-04-23T20:24:00",
          "2021-06-29T12:48:00",
          "2021-09-04T05:12:00",
          "2021-11-09T21:36:00",
          "2022-01-15T14:00:00",
          "2022-03-23T06:24:00",
          "2022-05-28T22:48:00",
          "2022-08-03T15:12:00",
          "2022-10-09T07:36:00"
         ],
         "y": [
          5,
          8,
          10,
          9,
          6,
          7,
          5,
          10,
          9,
          7,
          4,
          10,
          10,
          8,
          5,
          4,
          4,
          10,
          19,
          2,
          4,
          10,
          11,
          7,
          5,
          4,
          4,
          6,
          8,
          6,
          3,
          15,
          5,
          8,
          1,
          6,
          8,
          4,
          1,
          10,
          5,
          5,
          6,
          7,
          6,
          10,
          4,
          9,
          3,
          10,
          5,
          8,
          5,
          6,
          6,
          4,
          7,
          2,
          5,
          13
         ]
        },
        {
         "hoverinfo": "text",
         "hovertext": [
          "<b>Topic 6</b><br>Words: issues, elections, voters, preferences, voting",
          "<b>Topic 6</b><br>Words: voter, voting, median, voters, reforms",
          "<b>Topic 6</b><br>Words: lobbying, slant, articles, political, parties",
          "<b>Topic 6</b><br>Words: funding, political, bureaucrats, mayors, electoral",
          "<b>Topic 6</b><br>Words: voters, bodies, voting, expressive, government",
          "<b>Topic 6</b><br>Words: countryspecific, democracy, acemoglu, vanishes, positive",
          "<b>Topic 6</b><br>Words: corruption, political, voter, campaign, development",
          "<b>Topic 6</b><br>Words: voting, runoff, voters, politicians, democracy",
          "<b>Topic 6</b><br>Words: political, elections, norms, municipal, transgressions",
          "<b>Topic 6</b><br>Words: reforms, democracy, protest, reelection, electorally",
          "<b>Topic 6</b><br>Words: political, candidates, decentralization, voter, corruption",
          "<b>Topic 6</b><br>Words: corruption, voters, rsa, political, candidates",
          "<b>Topic 6</b><br>Words: accountability, nvs, citizens, village, participate",
          "<b>Topic 6</b><br>Words: political, government, democracy, policy, media",
          "<b>Topic 6</b><br>Words: lobbying, senators, politicians, commercial, elections",
          "<b>Topic 6</b><br>Words: political, parties, pr, pbcs, party",
          "<b>Topic 6</b><br>Words: politicians, election, valence, connections, voters",
          "<b>Topic 6</b><br>Words: newspapers, political, voters, ideological, voter",
          "<b>Topic 6</b><br>Words: corrupt, experts, legislators, districts, voteswitching",
          "<b>Topic 6</b><br>Words: political, overseas, voters, information, democracy",
          "<b>Topic 6</b><br>Words: advocacy, voters, political, meps, groups",
          "<b>Topic 6</b><br>Words: political, radio, donating, propaganda, candidates",
          "<b>Topic 6</b><br>Words: lobbying, voters, political, expenditures, western",
          "<b>Topic 6</b><br>Words: lobbying, locals, career, voting, provincial",
          "<b>Topic 6</b><br>Words: rents, semiindex, elections, coalitions, anonymous",
          "<b>Topic 6</b><br>Words: elections, candidates, mayors, voters, corruption",
          "<b>Topic 6</b><br>Words: voters, voting, corruption, political, media",
          "<b>Topic 6</b><br>Words: referenda, civic, lobbying, democracy, freeriding",
          "<b>Topic 6</b><br>Words: information, petitions, citizens, protests, aggregation",
          "<b>Topic 6</b><br>Words: political, voters, fine, voting, electoral",
          "<b>Topic 6</b><br>Words: party, posts, competence, voters, parties",
          "<b>Topic 6</b><br>Words: politicians, political, elections, mayors, electoral",
          "<b>Topic 6</b><br>Words: oldregime, political, voters, mayors, competence",
          "<b>Topic 6</b><br>Words: compromisers, electoral, voters, party, protests",
          "<b>Topic 6</b><br>Words: voters, subjects, vote, corruption, electorates",
          "<b>Topic 6</b><br>Words: voting, elections, voters, election, political",
          "<b>Topic 6</b><br>Words: political, voters, elections, media, candidate",
          "<b>Topic 6</b><br>Words: legislators, corruption, government, labour, patronage",
          "<b>Topic 6</b><br>Words: party, parties, campaign, media, gubernatorial",
          "<b>Topic 6</b><br>Words: cadenas, politician, elected, dropoff, noncongruent",
          "<b>Topic 6</b><br>Words: protest, turnout, voters, voter, political",
          "<b>Topic 6</b><br>Words: populist, voters, economic, political, berlusconi",
          "<b>Topic 6</b><br>Words: parties, procurement, voters, partisan, government",
          "<b>Topic 6</b><br>Words: public, voting, goods, accused, vote",
          "<b>Topic 6</b><br>Words: party, politician, eligibility, government, elections",
          "<b>Topic 6</b><br>Words: elections, state, turnout, political, polarization",
          "<b>Topic 6</b><br>Words: parties, party, voted, voters, polarization",
          "<b>Topic 6</b><br>Words: political, candidates, voters, candidate, vk",
          "<b>Topic 6</b><br>Words: democratic, presidential, rightward, elections, republican",
          "<b>Topic 6</b><br>Words: corruption, media, activists, political, voter",
          "<b>Topic 6</b><br>Words: news, senators, media, outlets, counterattitudinal",
          "<b>Topic 6</b><br>Words: voters, political, electoral, vote, elections",
          "<b>Topic 6</b><br>Words: bots, media, social, twitter, vote",
          "<b>Topic 6</b><br>Words: shootings, mass, gun, corruption, bureaucratic",
          "<b>Topic 6</b><br>Words: voters, political, electoral, voter, vote",
          "<b>Topic 6</b><br>Words: political, recycling, voters, vote, party",
          "<b>Topic 6</b><br>Words: voters, polarization, tweets, anticorruption, audits",
          "<b>Topic 6</b><br>Words: competence, kin, transparency, voters, candidates",
          "<b>Topic 6</b><br>Words: voters, trump, elections, political, clinton",
          "<b>Topic 6</b><br>Words: voters, media, political, vulnerability, coups"
         ],
         "marker": {
          "color": "#CC79A7"
         },
         "mode": "lines",
         "name": "6_political_voters_elections_vote",
         "type": "scatter",
         "x": [
          "2011-12-27T23:58:33.600000",
          "2012-03-07T16:24:00",
          "2012-05-13T08:48:00",
          "2012-07-19T01:12:00",
          "2012-09-23T17:36:00",
          "2012-11-29T10:00:00",
          "2013-02-04T02:24:00",
          "2013-04-11T18:48:00",
          "2013-06-17T11:12:00",
          "2013-08-23T03:36:00",
          "2013-10-28T20:00:00",
          "2014-01-03T12:24:00",
          "2014-03-11T04:48:00",
          "2014-05-16T21:12:00",
          "2014-07-22T13:36:00",
          "2014-09-27T06:00:00",
          "2014-12-02T22:24:00",
          "2015-02-07T14:48:00",
          "2015-04-15T07:12:00",
          "2015-06-20T23:36:00",
          "2015-08-26T16:00:00",
          "2015-11-01T08:24:00",
          "2016-01-07T00:48:00",
          "2016-03-13T17:12:00",
          "2016-05-19T09:36:00",
          "2016-07-25T02:00:00",
          "2016-09-29T18:24:00",
          "2016-12-05T10:48:00",
          "2017-02-10T03:12:00",
          "2017-04-17T19:36:00",
          "2017-06-23T12:00:00",
          "2017-08-29T04:24:00",
          "2017-11-03T20:48:00",
          "2018-01-09T13:12:00",
          "2018-03-17T05:36:00",
          "2018-05-22T22:00:00",
          "2018-07-28T14:24:00",
          "2018-10-03T06:48:00",
          "2018-12-08T23:12:00",
          "2019-02-13T15:36:00",
          "2019-04-21T08:00:00",
          "2019-06-27T00:24:00",
          "2019-09-01T16:48:00",
          "2019-11-07T09:12:00",
          "2020-01-13T01:36:00",
          "2020-03-19T18:00:00",
          "2020-05-25T10:24:00",
          "2020-07-31T02:48:00",
          "2020-10-05T19:12:00",
          "2020-12-11T11:36:00",
          "2021-02-16T04:00:00",
          "2021-04-23T20:24:00",
          "2021-06-29T12:48:00",
          "2021-09-04T05:12:00",
          "2021-11-09T21:36:00",
          "2022-01-15T14:00:00",
          "2022-03-23T06:24:00",
          "2022-05-28T22:48:00",
          "2022-08-03T15:12:00",
          "2022-10-09T07:36:00"
         ],
         "y": [
          5,
          2,
          6,
          5,
          5,
          1,
          8,
          6,
          4,
          3,
          4,
          6,
          3,
          5,
          6,
          4,
          3,
          5,
          6,
          7,
          6,
          5,
          5,
          4,
          2,
          7,
          9,
          4,
          3,
          7,
          5,
          6,
          5,
          6,
          6,
          8,
          7,
          5,
          4,
          4,
          10,
          6,
          3,
          5,
          3,
          7,
          6,
          15,
          4,
          6,
          2,
          15,
          3,
          4,
          11,
          9,
          5,
          5,
          8,
          9
         ]
        },
        {
         "hoverinfo": "text",
         "hovertext": [
          "<b>Topic 7</b><br>Words: school, education, program, public, students",
          "<b>Topic 7</b><br>Words: bolsa, grades, grade, school, students",
          "<b>Topic 7</b><br>Words: students, school, schools, park, trained",
          "<b>Topic 7</b><br>Words: students, school, education, schools, tuition",
          "<b>Topic 7</b><br>Words: school, students, schools, catholic, teaching",
          "<b>Topic 7</b><br>Words: teachers, exam, evaluation, student, rotc",
          "<b>Topic 7</b><br>Words: students, colleges, school, college, fouryear",
          "<b>Topic 7</b><br>Words: school, schools, students, education, graduation",
          "<b>Topic 7</b><br>Words: school, ites, autonomy, educational, students",
          "<b>Topic 7</b><br>Words: school, schools, students, education, scores",
          "<b>Topic 7</b><br>Words: school, students, schools, education, college",
          "<b>Topic 7</b><br>Words: educational, inefficient, majority, achievements, education",
          "<b>Topic 7</b><br>Words: students, college, teachers, va, student",
          "<b>Topic 7</b><br>Words: state, education, outlays, households, schooling",
          "<b>Topic 7</b><br>Words: schooling, tenure, teacher, bonus, policies",
          "<b>Topic 7</b><br>Words: students, school, schools, ecfa, treatment",
          "<b>Topic 7</b><br>Words: students, school, education, college, student",
          "<b>Topic 7</b><br>Words: students, schools, school, online, signup",
          "<b>Topic 7</b><br>Words: school, universities, endowment, schools, deviations",
          "<b>Topic 7</b><br>Words: students, student, education, school, program",
          "<b>Topic 7</b><br>Words: school, education, fraud, college, academic",
          "<b>Topic 7</b><br>Words: students, school, student, schools, achievement",
          "<b>Topic 7</b><br>Words: students, school, schools, college, student",
          "<b>Topic 7</b><br>Words: students, eyeglasses, school, vision, education",
          "<b>Topic 7</b><br>Words: students, schools, school, colleges, college",
          "<b>Topic 7</b><br>Words: school, students, schools, mechanism, mechanisms",
          "<b>Topic 7</b><br>Words: students, college, earnings, enrollment, winning",
          "<b>Topic 7</b><br>Words: students, school, schools, college, achievement",
          "<b>Topic 7</b><br>Words: students, school, schools, admission, cannabis",
          "<b>Topic 7</b><br>Words: attending, elite, evaluation, school, validity",
          "<b>Topic 7</b><br>Words: students, administratively, school, student, coordinated",
          "<b>Topic 7</b><br>Words: school, teachers, students, levies, parental",
          "<b>Topic 7</b><br>Words: students, schools, school, teachers, broadband",
          "<b>Topic 7</b><br>Words: preschools, schools, teacher, parenting, child",
          "<b>Topic 7</b><br>Words: student, lecturer, students, online, materials",
          "<b>Topic 7</b><br>Words: school, students, student, schools, education",
          "<b>Topic 7</b><br>Words: students, school, schools, admissions, leadership",
          "<b>Topic 7</b><br>Words: students, sigma, school, student, schools",
          "<b>Topic 7</b><br>Words: students, school, achievement, education, laptops",
          "<b>Topic 7</b><br>Words: schools, school, students, educational, performance",
          "<b>Topic 7</b><br>Words: constraints, school, nonpecuniary, expectations, determinants",
          "<b>Topic 7</b><br>Words: education, tuition, aspirations, majority, students",
          "<b>Topic 7</b><br>Words: school, students, schools, scores, incentives",
          "<b>Topic 7</b><br>Words: school, schools, teachers, college, student",
          "<b>Topic 7</b><br>Words: school, schools, programme, exclusion, students",
          "<b>Topic 7</b><br>Words: students, schools, school, colleges, student",
          "<b>Topic 7</b><br>Words: school, students, education, schools, college",
          "<b>Topic 7</b><br>Words: school, choice, students, university, college",
          "<b>Topic 7</b><br>Words: college, tutorials, students, enroll, education",
          "<b>Topic 7</b><br>Words: students, schools, school, college, rank",
          "<b>Topic 7</b><br>Words: p4p, faculty, classrooms, fixedwage, undergraduate",
          "<b>Topic 7</b><br>Words: school, verbal, skills, math, private",
          "<b>Topic 7</b><br>Words: students, college, schools, rank, school",
          "<b>Topic 7</b><br>Words: students, schools, applicants, school, urm",
          "<b>Topic 7</b><br>Words: students, school, schools, college, teachers",
          "<b>Topic 7</b><br>Words: students, student, schools, college, school",
          "<b>Topic 7</b><br>Words: aspirations, students, schools, school, college",
          "<b>Topic 7</b><br>Words: students, percent, school, enrollment, covid19"
         ],
         "marker": {
          "color": "#E69F00"
         },
         "mode": "lines",
         "name": "7_students_school_schools_education",
         "type": "scatter",
         "x": [
          "2011-12-27T23:58:33.600000",
          "2012-03-07T16:24:00",
          "2012-05-13T08:48:00",
          "2012-07-19T01:12:00",
          "2012-09-23T17:36:00",
          "2012-11-29T10:00:00",
          "2013-02-04T02:24:00",
          "2013-04-11T18:48:00",
          "2013-08-23T03:36:00",
          "2014-01-03T12:24:00",
          "2014-03-11T04:48:00",
          "2014-05-16T21:12:00",
          "2014-07-22T13:36:00",
          "2014-09-27T06:00:00",
          "2014-12-02T22:24:00",
          "2015-02-07T14:48:00",
          "2015-04-15T07:12:00",
          "2015-06-20T23:36:00",
          "2015-08-26T16:00:00",
          "2015-11-01T08:24:00",
          "2016-01-07T00:48:00",
          "2016-03-13T17:12:00",
          "2016-05-19T09:36:00",
          "2016-07-25T02:00:00",
          "2016-09-29T18:24:00",
          "2016-12-05T10:48:00",
          "2017-02-10T03:12:00",
          "2017-04-17T19:36:00",
          "2017-06-23T12:00:00",
          "2017-08-29T04:24:00",
          "2017-11-03T20:48:00",
          "2018-01-09T13:12:00",
          "2018-03-17T05:36:00",
          "2018-05-22T22:00:00",
          "2018-07-28T14:24:00",
          "2018-10-03T06:48:00",
          "2018-12-08T23:12:00",
          "2019-02-13T15:36:00",
          "2019-04-21T08:00:00",
          "2019-06-27T00:24:00",
          "2019-09-01T16:48:00",
          "2019-11-07T09:12:00",
          "2020-01-13T01:36:00",
          "2020-03-19T18:00:00",
          "2020-05-25T10:24:00",
          "2020-07-31T02:48:00",
          "2020-10-05T19:12:00",
          "2020-12-11T11:36:00",
          "2021-02-16T04:00:00",
          "2021-04-23T20:24:00",
          "2021-06-29T12:48:00",
          "2021-09-04T05:12:00",
          "2021-11-09T21:36:00",
          "2022-01-15T14:00:00",
          "2022-03-23T06:24:00",
          "2022-05-28T22:48:00",
          "2022-08-03T15:12:00",
          "2022-10-09T07:36:00"
         ],
         "y": [
          4,
          4,
          2,
          11,
          6,
          4,
          6,
          9,
          3,
          6,
          17,
          1,
          6,
          2,
          2,
          4,
          14,
          6,
          3,
          6,
          5,
          16,
          6,
          3,
          8,
          4,
          4,
          13,
          7,
          3,
          2,
          3,
          3,
          2,
          5,
          8,
          2,
          6,
          7,
          9,
          1,
          5,
          10,
          2,
          4,
          12,
          5,
          6,
          3,
          13,
          2,
          3,
          5,
          5,
          10,
          10,
          6,
          3
         ]
        },
        {
         "hoverinfo": "text",
         "hovertext": [
          "<b>Topic 8</b><br>Words: teen, childbearing, pill, teens, birth",
          "<b>Topic 8</b><br>Words: adoptive, schooling, custom, children, adoptees",
          "<b>Topic 8</b><br>Words: child, children, parents, fertility, marriage",
          "<b>Topic 8</b><br>Words: bmi, marriage, nonparental, index, brides",
          "<b>Topic 8</b><br>Words: schooling, enrolled, lagged, childlevel, child",
          "<b>Topic 8</b><br>Words: height, children, taller, behavioral, iq",
          "<b>Topic 8</b><br>Words: andtheircognitiveimpactslargelydisappearwithinafewyearsdespitethisfadeout, ordevelopmentalprocessesareparticularlyimportantinproducingtheselongerrunimpactsourreviewalsodescribesdifferentmodelsofhumandevelopmentusedbysocialscientists, higherearnings, longrunfollowupsfromahandfulofwellknownprogramsshowlastingpositiveeffectsonsuchoutcomesasgreatereducationalattainment, examinesheterogeneousresultsacrossgroups",
          "<b>Topic 8</b><br>Words: fertility, child, children, maternal, health",
          "<b>Topic 8</b><br>Words: marriage, sisters, younger, consanguineous, fertility",
          "<b>Topic 8</b><br>Words: et, al, child, siblings, older",
          "<b>Topic 8</b><br>Words: child, sonpreference, schooling, sex, marriage",
          "<b>Topic 8</b><br>Words: child, children, returntowork, labour, mothers",
          "<b>Topic 8</b><br>Words: mating, abortion, blackout, assortative, birth",
          "<b>Topic 8</b><br>Words: ocp, children, women, numeracy, aged",
          "<b>Topic 8</b><br>Words: lefties, righties, abortion, cognitive, sexselective",
          "<b>Topic 8</b><br>Words: okun, women, child, population, cohorts",
          "<b>Topic 8</b><br>Words: adult, ages, children, health, cognitive",
          "<b>Topic 8</b><br>Words: leave, unpaid, mothers, birth, giving",
          "<b>Topic 8</b><br>Words: marriage, wife, child, family, children",
          "<b>Topic 8</b><br>Words: war, women, labour, marriage, family",
          "<b>Topic 8</b><br>Words: fgc, health, mothers, west, women",
          "<b>Topic 8</b><br>Words: polygamy, education, marriage, noncollegeeducated, children",
          "<b>Topic 8</b><br>Words: fertility, marriage, children, child, women",
          "<b>Topic 8</b><br>Words: women, fertility, birth, children, marriage",
          "<b>Topic 8</b><br>Words: marriage, children, women, child, twins",
          "<b>Topic 8</b><br>Words: leave, child, maternity, unpaid, fertility",
          "<b>Topic 8</b><br>Words: children, child, investments, fertility, parental",
          "<b>Topic 8</b><br>Words: cognition, height, laterlife, earlylife, cognitive",
          "<b>Topic 8</b><br>Words: fertility, iodine, children, salt, iodized",
          "<b>Topic 8</b><br>Words: marriage, children, sex, women, fertility",
          "<b>Topic 8</b><br>Words: fertility, child, children, marriage, women",
          "<b>Topic 8</b><br>Words: gradient, india, birth, steeper, height",
          "<b>Topic 8</b><br>Words: family, education, emails, attitudes, wages",
          "<b>Topic 8</b><br>Words: fertility, child, children, mch, health",
          "<b>Topic 8</b><br>Words: children, birth, ruptures, family, infant",
          "<b>Topic 8</b><br>Words: birth, fertility, maternal, loc, midwives",
          "<b>Topic 8</b><br>Words: rationalchoice, fertility, percent, enrollment, crosscounty",
          "<b>Topic 8</b><br>Words: marriage, fertility, child, children, daughters",
          "<b>Topic 8</b><br>Words: children, married, opt, women, inheritance",
          "<b>Topic 8</b><br>Words: women, births, sex, birth, marriage",
          "<b>Topic 8</b><br>Words: marriage, children, child, health, women",
          "<b>Topic 8</b><br>Words: utero, women, paternity, earmarked, radiation",
          "<b>Topic 8</b><br>Words: women, unmarried, marriage, married, udls",
          "<b>Topic 8</b><br>Words: exogamy, women, mating, caste, assortative",
          "<b>Topic 8</b><br>Words: children, marriage, fertility, child, childlessness",
          "<b>Topic 8</b><br>Words: prosocialness, children, adult, fertility, iodine",
          "<b>Topic 8</b><br>Words: child, marriage, labor, fertility, children",
          "<b>Topic 8</b><br>Words: child, fertility, children, childcare, credits",
          "<b>Topic 8</b><br>Words: marriage, rising, men, demographic, women",
          "<b>Topic 8</b><br>Words: child, fertility, allowances, children, childcare",
          "<b>Topic 8</b><br>Words: marriage, women, delayed, children, age",
          "<b>Topic 8</b><br>Words: children, child, women, parents, marriage",
          "<b>Topic 8</b><br>Words: maternity, leave, landed, marriage, brides",
          "<b>Topic 8</b><br>Words: fertility, marriage, women, children, child",
          "<b>Topic 8</b><br>Words: bmi, marriage, women, child, dowry",
          "<b>Topic 8</b><br>Words: children, child, earlylife, health, birth",
          "<b>Topic 8</b><br>Words: pupils, program, insecurity, fertility, parenthood",
          "<b>Topic 8</b><br>Words: marriage, fertility, traits, children, age",
          "<b>Topic 8</b><br>Words: children, parents, women, immigrant, birth",
          "<b>Topic 8</b><br>Words: children, child, outcomes, cognitive, mind"
         ],
         "marker": {
          "color": "#56B4E9"
         },
         "mode": "lines",
         "name": "8_marriage_children_child_fertility",
         "type": "scatter",
         "x": [
          "2011-12-27T23:58:33.600000",
          "2012-03-07T16:24:00",
          "2012-05-13T08:48:00",
          "2012-07-19T01:12:00",
          "2012-09-23T17:36:00",
          "2012-11-29T10:00:00",
          "2013-02-04T02:24:00",
          "2013-04-11T18:48:00",
          "2013-06-17T11:12:00",
          "2013-08-23T03:36:00",
          "2013-10-28T20:00:00",
          "2014-01-03T12:24:00",
          "2014-03-11T04:48:00",
          "2014-05-16T21:12:00",
          "2014-07-22T13:36:00",
          "2014-09-27T06:00:00",
          "2014-12-02T22:24:00",
          "2015-02-07T14:48:00",
          "2015-04-15T07:12:00",
          "2015-06-20T23:36:00",
          "2015-08-26T16:00:00",
          "2015-11-01T08:24:00",
          "2016-01-07T00:48:00",
          "2016-03-13T17:12:00",
          "2016-05-19T09:36:00",
          "2016-07-25T02:00:00",
          "2016-09-29T18:24:00",
          "2016-12-05T10:48:00",
          "2017-02-10T03:12:00",
          "2017-04-17T19:36:00",
          "2017-06-23T12:00:00",
          "2017-08-29T04:24:00",
          "2017-11-03T20:48:00",
          "2018-01-09T13:12:00",
          "2018-03-17T05:36:00",
          "2018-05-22T22:00:00",
          "2018-07-28T14:24:00",
          "2018-10-03T06:48:00",
          "2018-12-08T23:12:00",
          "2019-02-13T15:36:00",
          "2019-04-21T08:00:00",
          "2019-06-27T00:24:00",
          "2019-09-01T16:48:00",
          "2019-11-07T09:12:00",
          "2020-01-13T01:36:00",
          "2020-03-19T18:00:00",
          "2020-05-25T10:24:00",
          "2020-07-31T02:48:00",
          "2020-10-05T19:12:00",
          "2020-12-11T11:36:00",
          "2021-02-16T04:00:00",
          "2021-04-23T20:24:00",
          "2021-06-29T12:48:00",
          "2021-09-04T05:12:00",
          "2021-11-09T21:36:00",
          "2022-01-15T14:00:00",
          "2022-03-23T06:24:00",
          "2022-05-28T22:48:00",
          "2022-08-03T15:12:00",
          "2022-10-09T07:36:00"
         ],
         "y": [
          3,
          2,
          11,
          3,
          1,
          3,
          1,
          7,
          4,
          3,
          3,
          2,
          6,
          5,
          3,
          2,
          3,
          1,
          8,
          3,
          2,
          3,
          4,
          8,
          6,
          4,
          6,
          1,
          5,
          16,
          11,
          1,
          2,
          3,
          5,
          4,
          1,
          11,
          6,
          6,
          6,
          2,
          5,
          3,
          14,
          3,
          7,
          6,
          3,
          5,
          2,
          12,
          3,
          7,
          5,
          5,
          2,
          5,
          7,
          5
         ]
        },
        {
         "hoverinfo": "text",
         "hovertext": [
          "<b>Topic 9</b><br>Words: comparison, information, friction, consumers, late",
          "<b>Topic 9</b><br>Words: mortality, cycle, withinmonth, premiums, vis",
          "<b>Topic 9</b><br>Words: health, retirement, insurance, reform, care",
          "<b>Topic 9</b><br>Words: health, category, treatments, care, patients",
          "<b>Topic 9</b><br>Words: insurance, overspending, 2006, g22, 401",
          "<b>Topic 9</b><br>Words: hospital, pension, insurance, health, hospitals",
          "<b>Topic 9</b><br>Words: insurance, malpractice, health, standardization, standards",
          "<b>Topic 9</b><br>Words: health, healthrelated, instruments, pension, decisions",
          "<b>Topic 9</b><br>Words: rand, insurance, health, experiment, patients",
          "<b>Topic 9</b><br>Words: health, asked, private, insurance, rejected",
          "<b>Topic 9</b><br>Words: health, insurance, inertia, surgeon, diabetes",
          "<b>Topic 9</b><br>Words: health, insurance, retirement, care, hospital",
          "<b>Topic 9</b><br>Words: health, security, medicare, insurance, disenrollment",
          "<b>Topic 9</b><br>Words: outofpocket, nursing, health, age, aging",
          "<b>Topic 9</b><br>Words: health, insurance, antibiotic, catastrophic, care",
          "<b>Topic 9</b><br>Words: medicare, di, insurance, health, mandatory",
          "<b>Topic 9</b><br>Words: retirement, hospital, health, insurance, age",
          "<b>Topic 9</b><br>Words: health, expenses, insurance, longevity, i13",
          "<b>Topic 9</b><br>Words: insurance, health, hospital, spending, drug",
          "<b>Topic 9</b><br>Words: insurance, subsidies, health, premium, retirement",
          "<b>Topic 9</b><br>Words: pension, health, plans, insurance, contribution",
          "<b>Topic 9</b><br>Words: insurance, nursing, longevity, health, care",
          "<b>Topic 9</b><br>Words: retirement, health, superannuation, longevity, insurance",
          "<b>Topic 9</b><br>Words: health, insurance, medical, care, uninsured",
          "<b>Topic 9</b><br>Words: selfmanaged, physicians, patients, system, hazard",
          "<b>Topic 9</b><br>Words: drugs, nonpreferred, health, wc, care",
          "<b>Topic 9</b><br>Words: occupation, medicaid, health, retirees, aca",
          "<b>Topic 9</b><br>Words: medicare, private, physicians, doctors, care",
          "<b>Topic 9</b><br>Words: medicare, insurance, dental, hours, treatments",
          "<b>Topic 9</b><br>Words: health, prescribing, care, patients, insurance",
          "<b>Topic 9</b><br>Words: health, insurance, care, plan, selection",
          "<b>Topic 9</b><br>Words: smoking, health, biomarker, enrollment, premium",
          "<b>Topic 9</b><br>Words: aging, health, life, aca, healthcare",
          "<b>Topic 9</b><br>Words: di, advertising, medicare, nra, oai",
          "<b>Topic 9</b><br>Words: illiquid, life, annuities, annuity, contracts",
          "<b>Topic 9</b><br>Words: health, physicians, care, eos, reference",
          "<b>Topic 9</b><br>Words: insurance, pension, health, care, healthcare",
          "<b>Topic 9</b><br>Words: health, care, ltch, patient, medicare",
          "<b>Topic 9</b><br>Words: tdfs, ivf, premiums, irs, insurance",
          "<b>Topic 9</b><br>Words: hce, hospitals, health, hospital, insurance",
          "<b>Topic 9</b><br>Words: health, insurance, care, consumers, dynamic",
          "<b>Topic 9</b><br>Words: health, cancer, pension, security, insurance",
          "<b>Topic 9</b><br>Words: expenditure, medical, health, physicians, patients",
          "<b>Topic 9</b><br>Words: health, tort, medicaid, medical, insurance",
          "<b>Topic 9</b><br>Words: health, hospitals, patients, acquisitions, care",
          "<b>Topic 9</b><br>Words: hospitals, insurance, health, patients, life",
          "<b>Topic 9</b><br>Words: overtreatment, hospitals, socioeconomic, medical, status",
          "<b>Topic 9</b><br>Words: outofnetwork, physicians, emergency, insurers, waitlists",
          "<b>Topic 9</b><br>Words: insurance, health, doctors, aca, care",
          "<b>Topic 9</b><br>Words: health, insurance, physicians, referral, care",
          "<b>Topic 9</b><br>Words: retirement, statutory, ages, appointment, physicians",
          "<b>Topic 9</b><br>Words: insurance, health, hospital, retirement, optimal",
          "<b>Topic 9</b><br>Words: mortality, health, plans, opioid, insurance",
          "<b>Topic 9</b><br>Words: health, diabetes, medicare, inertia, cardon",
          "<b>Topic 9</b><br>Words: coverage, choice, efficient, vertical, level",
          "<b>Topic 9</b><br>Words: hospitals, hospital, cash, payerspecific, health",
          "<b>Topic 9</b><br>Words: oxycontin, physicians, overdose, health, triplicate",
          "<b>Topic 9</b><br>Words: spousal, benefits, longevity, survivor, life",
          "<b>Topic 9</b><br>Words: overtreatment, health, hazard, moral, doctors",
          "<b>Topic 9</b><br>Words: power, insurer, health, hospital, countervailing"
         ],
         "marker": {
          "color": "#009E73"
         },
         "mode": "lines",
         "name": "9_health_insurance_care_retirement",
         "type": "scatter",
         "x": [
          "2011-12-27T23:58:33.600000",
          "2012-03-07T16:24:00",
          "2012-05-13T08:48:00",
          "2012-07-19T01:12:00",
          "2012-09-23T17:36:00",
          "2012-11-29T10:00:00",
          "2013-02-04T02:24:00",
          "2013-04-11T18:48:00",
          "2013-06-17T11:12:00",
          "2013-08-23T03:36:00",
          "2013-10-28T20:00:00",
          "2014-01-03T12:24:00",
          "2014-03-11T04:48:00",
          "2014-05-16T21:12:00",
          "2014-07-22T13:36:00",
          "2014-09-27T06:00:00",
          "2014-12-02T22:24:00",
          "2015-02-07T14:48:00",
          "2015-04-15T07:12:00",
          "2015-06-20T23:36:00",
          "2015-08-26T16:00:00",
          "2015-11-01T08:24:00",
          "2016-01-07T00:48:00",
          "2016-03-13T17:12:00",
          "2016-05-19T09:36:00",
          "2016-07-25T02:00:00",
          "2016-09-29T18:24:00",
          "2016-12-05T10:48:00",
          "2017-02-10T03:12:00",
          "2017-04-17T19:36:00",
          "2017-06-23T12:00:00",
          "2017-08-29T04:24:00",
          "2017-11-03T20:48:00",
          "2018-01-09T13:12:00",
          "2018-03-17T05:36:00",
          "2018-05-22T22:00:00",
          "2018-07-28T14:24:00",
          "2018-10-03T06:48:00",
          "2018-12-08T23:12:00",
          "2019-02-13T15:36:00",
          "2019-04-21T08:00:00",
          "2019-06-27T00:24:00",
          "2019-09-01T16:48:00",
          "2019-11-07T09:12:00",
          "2020-01-13T01:36:00",
          "2020-03-19T18:00:00",
          "2020-05-25T10:24:00",
          "2020-07-31T02:48:00",
          "2020-10-05T19:12:00",
          "2020-12-11T11:36:00",
          "2021-02-16T04:00:00",
          "2021-04-23T20:24:00",
          "2021-06-29T12:48:00",
          "2021-09-04T05:12:00",
          "2021-11-09T21:36:00",
          "2022-01-15T14:00:00",
          "2022-03-23T06:24:00",
          "2022-05-28T22:48:00",
          "2022-08-03T15:12:00",
          "2022-10-09T07:36:00"
         ],
         "y": [
          2,
          2,
          11,
          2,
          3,
          4,
          3,
          2,
          2,
          2,
          5,
          3,
          6,
          4,
          4,
          4,
          8,
          6,
          10,
          5,
          3,
          10,
          2,
          8,
          1,
          4,
          4,
          3,
          2,
          5,
          8,
          2,
          4,
          2,
          1,
          4,
          5,
          5,
          3,
          4,
          5,
          4,
          3,
          7,
          3,
          6,
          3,
          3,
          4,
          9,
          2,
          6,
          7,
          3,
          1,
          4,
          4,
          3,
          1,
          2
         ]
        }
       ],
       "layout": {
        "height": 600,
        "hoverlabel": {
         "bgcolor": "white",
         "font": {
          "family": "Rockwell",
          "size": 16
         }
        },
        "legend": {
         "title": {
          "text": "<b>Global Topic Representation"
         }
        },
        "template": {
         "data": {
          "bar": [
           {
            "error_x": {
             "color": "rgb(36,36,36)"
            },
            "error_y": {
             "color": "rgb(36,36,36)"
            },
            "marker": {
             "line": {
              "color": "white",
              "width": 0.5
             },
             "pattern": {
              "fillmode": "overlay",
              "size": 10,
              "solidity": 0.2
             }
            },
            "type": "bar"
           }
          ],
          "barpolar": [
           {
            "marker": {
             "line": {
              "color": "white",
              "width": 0.5
             },
             "pattern": {
              "fillmode": "overlay",
              "size": 10,
              "solidity": 0.2
             }
            },
            "type": "barpolar"
           }
          ],
          "carpet": [
           {
            "aaxis": {
             "endlinecolor": "rgb(36,36,36)",
             "gridcolor": "white",
             "linecolor": "white",
             "minorgridcolor": "white",
             "startlinecolor": "rgb(36,36,36)"
            },
            "baxis": {
             "endlinecolor": "rgb(36,36,36)",
             "gridcolor": "white",
             "linecolor": "white",
             "minorgridcolor": "white",
             "startlinecolor": "rgb(36,36,36)"
            },
            "type": "carpet"
           }
          ],
          "choropleth": [
           {
            "colorbar": {
             "outlinewidth": 1,
             "tickcolor": "rgb(36,36,36)",
             "ticks": "outside"
            },
            "type": "choropleth"
           }
          ],
          "contour": [
           {
            "colorbar": {
             "outlinewidth": 1,
             "tickcolor": "rgb(36,36,36)",
             "ticks": "outside"
            },
            "colorscale": [
             [
              0,
              "#440154"
             ],
             [
              0.1111111111111111,
              "#482878"
             ],
             [
              0.2222222222222222,
              "#3e4989"
             ],
             [
              0.3333333333333333,
              "#31688e"
             ],
             [
              0.4444444444444444,
              "#26828e"
             ],
             [
              0.5555555555555556,
              "#1f9e89"
             ],
             [
              0.6666666666666666,
              "#35b779"
             ],
             [
              0.7777777777777778,
              "#6ece58"
             ],
             [
              0.8888888888888888,
              "#b5de2b"
             ],
             [
              1,
              "#fde725"
             ]
            ],
            "type": "contour"
           }
          ],
          "contourcarpet": [
           {
            "colorbar": {
             "outlinewidth": 1,
             "tickcolor": "rgb(36,36,36)",
             "ticks": "outside"
            },
            "type": "contourcarpet"
           }
          ],
          "heatmap": [
           {
            "colorbar": {
             "outlinewidth": 1,
             "tickcolor": "rgb(36,36,36)",
             "ticks": "outside"
            },
            "colorscale": [
             [
              0,
              "#440154"
             ],
             [
              0.1111111111111111,
              "#482878"
             ],
             [
              0.2222222222222222,
              "#3e4989"
             ],
             [
              0.3333333333333333,
              "#31688e"
             ],
             [
              0.4444444444444444,
              "#26828e"
             ],
             [
              0.5555555555555556,
              "#1f9e89"
             ],
             [
              0.6666666666666666,
              "#35b779"
             ],
             [
              0.7777777777777778,
              "#6ece58"
             ],
             [
              0.8888888888888888,
              "#b5de2b"
             ],
             [
              1,
              "#fde725"
             ]
            ],
            "type": "heatmap"
           }
          ],
          "heatmapgl": [
           {
            "colorbar": {
             "outlinewidth": 1,
             "tickcolor": "rgb(36,36,36)",
             "ticks": "outside"
            },
            "colorscale": [
             [
              0,
              "#440154"
             ],
             [
              0.1111111111111111,
              "#482878"
             ],
             [
              0.2222222222222222,
              "#3e4989"
             ],
             [
              0.3333333333333333,
              "#31688e"
             ],
             [
              0.4444444444444444,
              "#26828e"
             ],
             [
              0.5555555555555556,
              "#1f9e89"
             ],
             [
              0.6666666666666666,
              "#35b779"
             ],
             [
              0.7777777777777778,
              "#6ece58"
             ],
             [
              0.8888888888888888,
              "#b5de2b"
             ],
             [
              1,
              "#fde725"
             ]
            ],
            "type": "heatmapgl"
           }
          ],
          "histogram": [
           {
            "marker": {
             "line": {
              "color": "white",
              "width": 0.6
             }
            },
            "type": "histogram"
           }
          ],
          "histogram2d": [
           {
            "colorbar": {
             "outlinewidth": 1,
             "tickcolor": "rgb(36,36,36)",
             "ticks": "outside"
            },
            "colorscale": [
             [
              0,
              "#440154"
             ],
             [
              0.1111111111111111,
              "#482878"
             ],
             [
              0.2222222222222222,
              "#3e4989"
             ],
             [
              0.3333333333333333,
              "#31688e"
             ],
             [
              0.4444444444444444,
              "#26828e"
             ],
             [
              0.5555555555555556,
              "#1f9e89"
             ],
             [
              0.6666666666666666,
              "#35b779"
             ],
             [
              0.7777777777777778,
              "#6ece58"
             ],
             [
              0.8888888888888888,
              "#b5de2b"
             ],
             [
              1,
              "#fde725"
             ]
            ],
            "type": "histogram2d"
           }
          ],
          "histogram2dcontour": [
           {
            "colorbar": {
             "outlinewidth": 1,
             "tickcolor": "rgb(36,36,36)",
             "ticks": "outside"
            },
            "colorscale": [
             [
              0,
              "#440154"
             ],
             [
              0.1111111111111111,
              "#482878"
             ],
             [
              0.2222222222222222,
              "#3e4989"
             ],
             [
              0.3333333333333333,
              "#31688e"
             ],
             [
              0.4444444444444444,
              "#26828e"
             ],
             [
              0.5555555555555556,
              "#1f9e89"
             ],
             [
              0.6666666666666666,
              "#35b779"
             ],
             [
              0.7777777777777778,
              "#6ece58"
             ],
             [
              0.8888888888888888,
              "#b5de2b"
             ],
             [
              1,
              "#fde725"
             ]
            ],
            "type": "histogram2dcontour"
           }
          ],
          "mesh3d": [
           {
            "colorbar": {
             "outlinewidth": 1,
             "tickcolor": "rgb(36,36,36)",
             "ticks": "outside"
            },
            "type": "mesh3d"
           }
          ],
          "parcoords": [
           {
            "line": {
             "colorbar": {
              "outlinewidth": 1,
              "tickcolor": "rgb(36,36,36)",
              "ticks": "outside"
             }
            },
            "type": "parcoords"
           }
          ],
          "pie": [
           {
            "automargin": true,
            "type": "pie"
           }
          ],
          "scatter": [
           {
            "fillpattern": {
             "fillmode": "overlay",
             "size": 10,
             "solidity": 0.2
            },
            "type": "scatter"
           }
          ],
          "scatter3d": [
           {
            "line": {
             "colorbar": {
              "outlinewidth": 1,
              "tickcolor": "rgb(36,36,36)",
              "ticks": "outside"
             }
            },
            "marker": {
             "colorbar": {
              "outlinewidth": 1,
              "tickcolor": "rgb(36,36,36)",
              "ticks": "outside"
             }
            },
            "type": "scatter3d"
           }
          ],
          "scattercarpet": [
           {
            "marker": {
             "colorbar": {
              "outlinewidth": 1,
              "tickcolor": "rgb(36,36,36)",
              "ticks": "outside"
             }
            },
            "type": "scattercarpet"
           }
          ],
          "scattergeo": [
           {
            "marker": {
             "colorbar": {
              "outlinewidth": 1,
              "tickcolor": "rgb(36,36,36)",
              "ticks": "outside"
             }
            },
            "type": "scattergeo"
           }
          ],
          "scattergl": [
           {
            "marker": {
             "colorbar": {
              "outlinewidth": 1,
              "tickcolor": "rgb(36,36,36)",
              "ticks": "outside"
             }
            },
            "type": "scattergl"
           }
          ],
          "scattermapbox": [
           {
            "marker": {
             "colorbar": {
              "outlinewidth": 1,
              "tickcolor": "rgb(36,36,36)",
              "ticks": "outside"
             }
            },
            "type": "scattermapbox"
           }
          ],
          "scatterpolar": [
           {
            "marker": {
             "colorbar": {
              "outlinewidth": 1,
              "tickcolor": "rgb(36,36,36)",
              "ticks": "outside"
             }
            },
            "type": "scatterpolar"
           }
          ],
          "scatterpolargl": [
           {
            "marker": {
             "colorbar": {
              "outlinewidth": 1,
              "tickcolor": "rgb(36,36,36)",
              "ticks": "outside"
             }
            },
            "type": "scatterpolargl"
           }
          ],
          "scatterternary": [
           {
            "marker": {
             "colorbar": {
              "outlinewidth": 1,
              "tickcolor": "rgb(36,36,36)",
              "ticks": "outside"
             }
            },
            "type": "scatterternary"
           }
          ],
          "surface": [
           {
            "colorbar": {
             "outlinewidth": 1,
             "tickcolor": "rgb(36,36,36)",
             "ticks": "outside"
            },
            "colorscale": [
             [
              0,
              "#440154"
             ],
             [
              0.1111111111111111,
              "#482878"
             ],
             [
              0.2222222222222222,
              "#3e4989"
             ],
             [
              0.3333333333333333,
              "#31688e"
             ],
             [
              0.4444444444444444,
              "#26828e"
             ],
             [
              0.5555555555555556,
              "#1f9e89"
             ],
             [
              0.6666666666666666,
              "#35b779"
             ],
             [
              0.7777777777777778,
              "#6ece58"
             ],
             [
              0.8888888888888888,
              "#b5de2b"
             ],
             [
              1,
              "#fde725"
             ]
            ],
            "type": "surface"
           }
          ],
          "table": [
           {
            "cells": {
             "fill": {
              "color": "rgb(237,237,237)"
             },
             "line": {
              "color": "white"
             }
            },
            "header": {
             "fill": {
              "color": "rgb(217,217,217)"
             },
             "line": {
              "color": "white"
             }
            },
            "type": "table"
           }
          ]
         },
         "layout": {
          "annotationdefaults": {
           "arrowhead": 0,
           "arrowwidth": 1
          },
          "autotypenumbers": "strict",
          "coloraxis": {
           "colorbar": {
            "outlinewidth": 1,
            "tickcolor": "rgb(36,36,36)",
            "ticks": "outside"
           }
          },
          "colorscale": {
           "diverging": [
            [
             0,
             "rgb(103,0,31)"
            ],
            [
             0.1,
             "rgb(178,24,43)"
            ],
            [
             0.2,
             "rgb(214,96,77)"
            ],
            [
             0.3,
             "rgb(244,165,130)"
            ],
            [
             0.4,
             "rgb(253,219,199)"
            ],
            [
             0.5,
             "rgb(247,247,247)"
            ],
            [
             0.6,
             "rgb(209,229,240)"
            ],
            [
             0.7,
             "rgb(146,197,222)"
            ],
            [
             0.8,
             "rgb(67,147,195)"
            ],
            [
             0.9,
             "rgb(33,102,172)"
            ],
            [
             1,
             "rgb(5,48,97)"
            ]
           ],
           "sequential": [
            [
             0,
             "#440154"
            ],
            [
             0.1111111111111111,
             "#482878"
            ],
            [
             0.2222222222222222,
             "#3e4989"
            ],
            [
             0.3333333333333333,
             "#31688e"
            ],
            [
             0.4444444444444444,
             "#26828e"
            ],
            [
             0.5555555555555556,
             "#1f9e89"
            ],
            [
             0.6666666666666666,
             "#35b779"
            ],
            [
             0.7777777777777778,
             "#6ece58"
            ],
            [
             0.8888888888888888,
             "#b5de2b"
            ],
            [
             1,
             "#fde725"
            ]
           ],
           "sequentialminus": [
            [
             0,
             "#440154"
            ],
            [
             0.1111111111111111,
             "#482878"
            ],
            [
             0.2222222222222222,
             "#3e4989"
            ],
            [
             0.3333333333333333,
             "#31688e"
            ],
            [
             0.4444444444444444,
             "#26828e"
            ],
            [
             0.5555555555555556,
             "#1f9e89"
            ],
            [
             0.6666666666666666,
             "#35b779"
            ],
            [
             0.7777777777777778,
             "#6ece58"
            ],
            [
             0.8888888888888888,
             "#b5de2b"
            ],
            [
             1,
             "#fde725"
            ]
           ]
          },
          "colorway": [
           "#1F77B4",
           "#FF7F0E",
           "#2CA02C",
           "#D62728",
           "#9467BD",
           "#8C564B",
           "#E377C2",
           "#7F7F7F",
           "#BCBD22",
           "#17BECF"
          ],
          "font": {
           "color": "rgb(36,36,36)"
          },
          "geo": {
           "bgcolor": "white",
           "lakecolor": "white",
           "landcolor": "white",
           "showlakes": true,
           "showland": true,
           "subunitcolor": "white"
          },
          "hoverlabel": {
           "align": "left"
          },
          "hovermode": "closest",
          "mapbox": {
           "style": "light"
          },
          "paper_bgcolor": "white",
          "plot_bgcolor": "white",
          "polar": {
           "angularaxis": {
            "gridcolor": "rgb(232,232,232)",
            "linecolor": "rgb(36,36,36)",
            "showgrid": false,
            "showline": true,
            "ticks": "outside"
           },
           "bgcolor": "white",
           "radialaxis": {
            "gridcolor": "rgb(232,232,232)",
            "linecolor": "rgb(36,36,36)",
            "showgrid": false,
            "showline": true,
            "ticks": "outside"
           }
          },
          "scene": {
           "xaxis": {
            "backgroundcolor": "white",
            "gridcolor": "rgb(232,232,232)",
            "gridwidth": 2,
            "linecolor": "rgb(36,36,36)",
            "showbackground": true,
            "showgrid": false,
            "showline": true,
            "ticks": "outside",
            "zeroline": false,
            "zerolinecolor": "rgb(36,36,36)"
           },
           "yaxis": {
            "backgroundcolor": "white",
            "gridcolor": "rgb(232,232,232)",
            "gridwidth": 2,
            "linecolor": "rgb(36,36,36)",
            "showbackground": true,
            "showgrid": false,
            "showline": true,
            "ticks": "outside",
            "zeroline": false,
            "zerolinecolor": "rgb(36,36,36)"
           },
           "zaxis": {
            "backgroundcolor": "white",
            "gridcolor": "rgb(232,232,232)",
            "gridwidth": 2,
            "linecolor": "rgb(36,36,36)",
            "showbackground": true,
            "showgrid": false,
            "showline": true,
            "ticks": "outside",
            "zeroline": false,
            "zerolinecolor": "rgb(36,36,36)"
           }
          },
          "shapedefaults": {
           "fillcolor": "black",
           "line": {
            "width": 0
           },
           "opacity": 0.3
          },
          "ternary": {
           "aaxis": {
            "gridcolor": "rgb(232,232,232)",
            "linecolor": "rgb(36,36,36)",
            "showgrid": false,
            "showline": true,
            "ticks": "outside"
           },
           "baxis": {
            "gridcolor": "rgb(232,232,232)",
            "linecolor": "rgb(36,36,36)",
            "showgrid": false,
            "showline": true,
            "ticks": "outside"
           },
           "bgcolor": "white",
           "caxis": {
            "gridcolor": "rgb(232,232,232)",
            "linecolor": "rgb(36,36,36)",
            "showgrid": false,
            "showline": true,
            "ticks": "outside"
           }
          },
          "title": {
           "x": 0.05
          },
          "xaxis": {
           "automargin": true,
           "gridcolor": "rgb(232,232,232)",
           "linecolor": "rgb(36,36,36)",
           "showgrid": false,
           "showline": true,
           "ticks": "outside",
           "title": {
            "standoff": 15
           },
           "zeroline": false,
           "zerolinecolor": "rgb(36,36,36)"
          },
          "yaxis": {
           "automargin": true,
           "gridcolor": "rgb(232,232,232)",
           "linecolor": "rgb(36,36,36)",
           "showgrid": false,
           "showline": true,
           "ticks": "outside",
           "title": {
            "standoff": 15
           },
           "zeroline": false,
           "zerolinecolor": "rgb(36,36,36)"
          }
         }
        },
        "title": {
         "font": {
          "color": "Black",
          "size": 22
         },
         "text": "<b>Topics over Time</b>",
         "x": 0.4,
         "xanchor": "center",
         "y": 0.95,
         "yanchor": "top"
        },
        "width": 1250,
        "xaxis": {
         "showgrid": true
        },
        "yaxis": {
         "showgrid": true,
         "title": {
          "text": "Frequency"
         }
        }
       }
      }
     },
     "metadata": {},
     "output_type": "display_data"
    }
   ],
   "source": [
    "topic_model.visualize_topics_over_time(topics_over_time, top_n_topics = 10, height=600)"
   ]
  },
  {
   "cell_type": "code",
   "execution_count": null,
   "metadata": {},
   "outputs": [],
   "source": [
    "topic_model.get_topics()"
   ]
  },
  {
   "cell_type": "code",
   "execution_count": 84,
   "metadata": {},
   "outputs": [
    {
     "data": {
      "application/vnd.plotly.v1+json": {
       "config": {
        "plotlyServerURL": "https://plot.ly"
       },
       "data": [
        {
         "marker": {
          "color": "#D55E00"
         },
         "orientation": "h",
         "type": "bar",
         "x": [
          0.012906700453768322,
          0.013440538532726304,
          0.01424185619787592,
          0.017113661206380925,
          0.018270885826703796
         ],
         "xaxis": "x",
         "y": [
          "shocks  ",
          "risk  ",
          "policy  ",
          "financial  ",
          "model  "
         ],
         "yaxis": "y"
        },
        {
         "marker": {
          "color": "#0072B2"
         },
         "orientation": "h",
         "type": "bar",
         "x": [
          0.017731432184395053,
          0.017949556889882663,
          0.019506316686615476,
          0.019921627609960562,
          0.02141841381245336
         ],
         "xaxis": "x2",
         "y": [
          "preferences  ",
          "information  ",
          "games  ",
          "agent  ",
          "game  "
         ],
         "yaxis": "y2"
        },
        {
         "marker": {
          "color": "#CC79A7"
         },
         "orientation": "h",
         "type": "bar",
         "x": [
          0.035836563704874425,
          0.03954815601518689,
          0.04238639489808058,
          0.04962013207923995,
          0.05002404166619048
         ],
         "xaxis": "x3",
         "y": [
          "job  ",
          "labor  ",
          "unemployment  ",
          "workers  ",
          "wage  "
         ],
         "yaxis": "y3"
        },
        {
         "marker": {
          "color": "#E69F00"
         },
         "orientation": "h",
         "type": "bar",
         "x": [
          0.024391915553989736,
          0.0248996832335383,
          0.029675173522988867,
          0.03792594047835162,
          0.08206205646254974
         ],
         "xaxis": "x4",
         "y": [
          "exports  ",
          "countries  ",
          "firms  ",
          "export  ",
          "trade  "
         ],
         "yaxis": "y4"
        },
        {
         "marker": {
          "color": "#56B4E9"
         },
         "orientation": "h",
         "type": "bar",
         "x": [
          0.025532713719778423,
          0.028351800648151414,
          0.0293502890145912,
          0.0375373238518954,
          0.04350736056098882
         ],
         "xaxis": "x5",
         "y": [
          "market  ",
          "competition  ",
          "firms  ",
          "price  ",
          "consumers  "
         ],
         "yaxis": "y5"
        },
        {
         "marker": {
          "color": "#009E73"
         },
         "orientation": "h",
         "type": "bar",
         "x": [
          0.03234367454817244,
          0.035525278779450976,
          0.042702753859741274,
          0.04422976126115453,
          0.047364370167778586
         ],
         "xaxis": "x6",
         "y": [
          "carbon  ",
          "pollution  ",
          "energy  ",
          "environmental  ",
          "emissions  "
         ],
         "yaxis": "y6"
        },
        {
         "marker": {
          "color": "#F0E442"
         },
         "orientation": "h",
         "type": "bar",
         "x": [
          0.02256292065338022,
          0.023896461516669926,
          0.02869068883011213,
          0.043392717513753516,
          0.04419489508567719
         ],
         "xaxis": "x7",
         "y": [
          "electoral  ",
          "vote  ",
          "elections  ",
          "voters  ",
          "political  "
         ],
         "yaxis": "y7"
        },
        {
         "marker": {
          "color": "#D55E00"
         },
         "orientation": "h",
         "type": "bar",
         "x": [
          0.034555537038027065,
          0.03567682915990717,
          0.048595660812606585,
          0.06694885178405281,
          0.07871886168194031
         ],
         "xaxis": "x8",
         "y": [
          "student  ",
          "education  ",
          "schools  ",
          "school  ",
          "students  "
         ],
         "yaxis": "y8"
        }
       ],
       "layout": {
        "annotations": [
         {
          "font": {
           "size": 16
          },
          "showarrow": false,
          "text": "Topic 0",
          "x": 0.0875,
          "xanchor": "center",
          "xref": "paper",
          "y": 1,
          "yanchor": "bottom",
          "yref": "paper"
         },
         {
          "font": {
           "size": 16
          },
          "showarrow": false,
          "text": "Topic 1",
          "x": 0.36250000000000004,
          "xanchor": "center",
          "xref": "paper",
          "y": 1,
          "yanchor": "bottom",
          "yref": "paper"
         },
         {
          "font": {
           "size": 16
          },
          "showarrow": false,
          "text": "Topic 2",
          "x": 0.6375000000000001,
          "xanchor": "center",
          "xref": "paper",
          "y": 1,
          "yanchor": "bottom",
          "yref": "paper"
         },
         {
          "font": {
           "size": 16
          },
          "showarrow": false,
          "text": "Topic 3",
          "x": 0.9125,
          "xanchor": "center",
          "xref": "paper",
          "y": 1,
          "yanchor": "bottom",
          "yref": "paper"
         },
         {
          "font": {
           "size": 16
          },
          "showarrow": false,
          "text": "Topic 4",
          "x": 0.0875,
          "xanchor": "center",
          "xref": "paper",
          "y": 0.4,
          "yanchor": "bottom",
          "yref": "paper"
         },
         {
          "font": {
           "size": 16
          },
          "showarrow": false,
          "text": "Topic 5",
          "x": 0.36250000000000004,
          "xanchor": "center",
          "xref": "paper",
          "y": 0.4,
          "yanchor": "bottom",
          "yref": "paper"
         },
         {
          "font": {
           "size": 16
          },
          "showarrow": false,
          "text": "Topic 6",
          "x": 0.6375000000000001,
          "xanchor": "center",
          "xref": "paper",
          "y": 0.4,
          "yanchor": "bottom",
          "yref": "paper"
         },
         {
          "font": {
           "size": 16
          },
          "showarrow": false,
          "text": "Topic 7",
          "x": 0.9125,
          "xanchor": "center",
          "xref": "paper",
          "y": 0.4,
          "yanchor": "bottom",
          "yref": "paper"
         }
        ],
        "height": 600,
        "hoverlabel": {
         "bgcolor": "white",
         "font": {
          "family": "Rockwell",
          "size": 16
         }
        },
        "showlegend": false,
        "template": {
         "data": {
          "bar": [
           {
            "error_x": {
             "color": "#2a3f5f"
            },
            "error_y": {
             "color": "#2a3f5f"
            },
            "marker": {
             "line": {
              "color": "white",
              "width": 0.5
             },
             "pattern": {
              "fillmode": "overlay",
              "size": 10,
              "solidity": 0.2
             }
            },
            "type": "bar"
           }
          ],
          "barpolar": [
           {
            "marker": {
             "line": {
              "color": "white",
              "width": 0.5
             },
             "pattern": {
              "fillmode": "overlay",
              "size": 10,
              "solidity": 0.2
             }
            },
            "type": "barpolar"
           }
          ],
          "carpet": [
           {
            "aaxis": {
             "endlinecolor": "#2a3f5f",
             "gridcolor": "#C8D4E3",
             "linecolor": "#C8D4E3",
             "minorgridcolor": "#C8D4E3",
             "startlinecolor": "#2a3f5f"
            },
            "baxis": {
             "endlinecolor": "#2a3f5f",
             "gridcolor": "#C8D4E3",
             "linecolor": "#C8D4E3",
             "minorgridcolor": "#C8D4E3",
             "startlinecolor": "#2a3f5f"
            },
            "type": "carpet"
           }
          ],
          "choropleth": [
           {
            "colorbar": {
             "outlinewidth": 0,
             "ticks": ""
            },
            "type": "choropleth"
           }
          ],
          "contour": [
           {
            "colorbar": {
             "outlinewidth": 0,
             "ticks": ""
            },
            "colorscale": [
             [
              0,
              "#0d0887"
             ],
             [
              0.1111111111111111,
              "#46039f"
             ],
             [
              0.2222222222222222,
              "#7201a8"
             ],
             [
              0.3333333333333333,
              "#9c179e"
             ],
             [
              0.4444444444444444,
              "#bd3786"
             ],
             [
              0.5555555555555556,
              "#d8576b"
             ],
             [
              0.6666666666666666,
              "#ed7953"
             ],
             [
              0.7777777777777778,
              "#fb9f3a"
             ],
             [
              0.8888888888888888,
              "#fdca26"
             ],
             [
              1,
              "#f0f921"
             ]
            ],
            "type": "contour"
           }
          ],
          "contourcarpet": [
           {
            "colorbar": {
             "outlinewidth": 0,
             "ticks": ""
            },
            "type": "contourcarpet"
           }
          ],
          "heatmap": [
           {
            "colorbar": {
             "outlinewidth": 0,
             "ticks": ""
            },
            "colorscale": [
             [
              0,
              "#0d0887"
             ],
             [
              0.1111111111111111,
              "#46039f"
             ],
             [
              0.2222222222222222,
              "#7201a8"
             ],
             [
              0.3333333333333333,
              "#9c179e"
             ],
             [
              0.4444444444444444,
              "#bd3786"
             ],
             [
              0.5555555555555556,
              "#d8576b"
             ],
             [
              0.6666666666666666,
              "#ed7953"
             ],
             [
              0.7777777777777778,
              "#fb9f3a"
             ],
             [
              0.8888888888888888,
              "#fdca26"
             ],
             [
              1,
              "#f0f921"
             ]
            ],
            "type": "heatmap"
           }
          ],
          "heatmapgl": [
           {
            "colorbar": {
             "outlinewidth": 0,
             "ticks": ""
            },
            "colorscale": [
             [
              0,
              "#0d0887"
             ],
             [
              0.1111111111111111,
              "#46039f"
             ],
             [
              0.2222222222222222,
              "#7201a8"
             ],
             [
              0.3333333333333333,
              "#9c179e"
             ],
             [
              0.4444444444444444,
              "#bd3786"
             ],
             [
              0.5555555555555556,
              "#d8576b"
             ],
             [
              0.6666666666666666,
              "#ed7953"
             ],
             [
              0.7777777777777778,
              "#fb9f3a"
             ],
             [
              0.8888888888888888,
              "#fdca26"
             ],
             [
              1,
              "#f0f921"
             ]
            ],
            "type": "heatmapgl"
           }
          ],
          "histogram": [
           {
            "marker": {
             "pattern": {
              "fillmode": "overlay",
              "size": 10,
              "solidity": 0.2
             }
            },
            "type": "histogram"
           }
          ],
          "histogram2d": [
           {
            "colorbar": {
             "outlinewidth": 0,
             "ticks": ""
            },
            "colorscale": [
             [
              0,
              "#0d0887"
             ],
             [
              0.1111111111111111,
              "#46039f"
             ],
             [
              0.2222222222222222,
              "#7201a8"
             ],
             [
              0.3333333333333333,
              "#9c179e"
             ],
             [
              0.4444444444444444,
              "#bd3786"
             ],
             [
              0.5555555555555556,
              "#d8576b"
             ],
             [
              0.6666666666666666,
              "#ed7953"
             ],
             [
              0.7777777777777778,
              "#fb9f3a"
             ],
             [
              0.8888888888888888,
              "#fdca26"
             ],
             [
              1,
              "#f0f921"
             ]
            ],
            "type": "histogram2d"
           }
          ],
          "histogram2dcontour": [
           {
            "colorbar": {
             "outlinewidth": 0,
             "ticks": ""
            },
            "colorscale": [
             [
              0,
              "#0d0887"
             ],
             [
              0.1111111111111111,
              "#46039f"
             ],
             [
              0.2222222222222222,
              "#7201a8"
             ],
             [
              0.3333333333333333,
              "#9c179e"
             ],
             [
              0.4444444444444444,
              "#bd3786"
             ],
             [
              0.5555555555555556,
              "#d8576b"
             ],
             [
              0.6666666666666666,
              "#ed7953"
             ],
             [
              0.7777777777777778,
              "#fb9f3a"
             ],
             [
              0.8888888888888888,
              "#fdca26"
             ],
             [
              1,
              "#f0f921"
             ]
            ],
            "type": "histogram2dcontour"
           }
          ],
          "mesh3d": [
           {
            "colorbar": {
             "outlinewidth": 0,
             "ticks": ""
            },
            "type": "mesh3d"
           }
          ],
          "parcoords": [
           {
            "line": {
             "colorbar": {
              "outlinewidth": 0,
              "ticks": ""
             }
            },
            "type": "parcoords"
           }
          ],
          "pie": [
           {
            "automargin": true,
            "type": "pie"
           }
          ],
          "scatter": [
           {
            "fillpattern": {
             "fillmode": "overlay",
             "size": 10,
             "solidity": 0.2
            },
            "type": "scatter"
           }
          ],
          "scatter3d": [
           {
            "line": {
             "colorbar": {
              "outlinewidth": 0,
              "ticks": ""
             }
            },
            "marker": {
             "colorbar": {
              "outlinewidth": 0,
              "ticks": ""
             }
            },
            "type": "scatter3d"
           }
          ],
          "scattercarpet": [
           {
            "marker": {
             "colorbar": {
              "outlinewidth": 0,
              "ticks": ""
             }
            },
            "type": "scattercarpet"
           }
          ],
          "scattergeo": [
           {
            "marker": {
             "colorbar": {
              "outlinewidth": 0,
              "ticks": ""
             }
            },
            "type": "scattergeo"
           }
          ],
          "scattergl": [
           {
            "marker": {
             "colorbar": {
              "outlinewidth": 0,
              "ticks": ""
             }
            },
            "type": "scattergl"
           }
          ],
          "scattermapbox": [
           {
            "marker": {
             "colorbar": {
              "outlinewidth": 0,
              "ticks": ""
             }
            },
            "type": "scattermapbox"
           }
          ],
          "scatterpolar": [
           {
            "marker": {
             "colorbar": {
              "outlinewidth": 0,
              "ticks": ""
             }
            },
            "type": "scatterpolar"
           }
          ],
          "scatterpolargl": [
           {
            "marker": {
             "colorbar": {
              "outlinewidth": 0,
              "ticks": ""
             }
            },
            "type": "scatterpolargl"
           }
          ],
          "scatterternary": [
           {
            "marker": {
             "colorbar": {
              "outlinewidth": 0,
              "ticks": ""
             }
            },
            "type": "scatterternary"
           }
          ],
          "surface": [
           {
            "colorbar": {
             "outlinewidth": 0,
             "ticks": ""
            },
            "colorscale": [
             [
              0,
              "#0d0887"
             ],
             [
              0.1111111111111111,
              "#46039f"
             ],
             [
              0.2222222222222222,
              "#7201a8"
             ],
             [
              0.3333333333333333,
              "#9c179e"
             ],
             [
              0.4444444444444444,
              "#bd3786"
             ],
             [
              0.5555555555555556,
              "#d8576b"
             ],
             [
              0.6666666666666666,
              "#ed7953"
             ],
             [
              0.7777777777777778,
              "#fb9f3a"
             ],
             [
              0.8888888888888888,
              "#fdca26"
             ],
             [
              1,
              "#f0f921"
             ]
            ],
            "type": "surface"
           }
          ],
          "table": [
           {
            "cells": {
             "fill": {
              "color": "#EBF0F8"
             },
             "line": {
              "color": "white"
             }
            },
            "header": {
             "fill": {
              "color": "#C8D4E3"
             },
             "line": {
              "color": "white"
             }
            },
            "type": "table"
           }
          ]
         },
         "layout": {
          "annotationdefaults": {
           "arrowcolor": "#2a3f5f",
           "arrowhead": 0,
           "arrowwidth": 1
          },
          "autotypenumbers": "strict",
          "coloraxis": {
           "colorbar": {
            "outlinewidth": 0,
            "ticks": ""
           }
          },
          "colorscale": {
           "diverging": [
            [
             0,
             "#8e0152"
            ],
            [
             0.1,
             "#c51b7d"
            ],
            [
             0.2,
             "#de77ae"
            ],
            [
             0.3,
             "#f1b6da"
            ],
            [
             0.4,
             "#fde0ef"
            ],
            [
             0.5,
             "#f7f7f7"
            ],
            [
             0.6,
             "#e6f5d0"
            ],
            [
             0.7,
             "#b8e186"
            ],
            [
             0.8,
             "#7fbc41"
            ],
            [
             0.9,
             "#4d9221"
            ],
            [
             1,
             "#276419"
            ]
           ],
           "sequential": [
            [
             0,
             "#0d0887"
            ],
            [
             0.1111111111111111,
             "#46039f"
            ],
            [
             0.2222222222222222,
             "#7201a8"
            ],
            [
             0.3333333333333333,
             "#9c179e"
            ],
            [
             0.4444444444444444,
             "#bd3786"
            ],
            [
             0.5555555555555556,
             "#d8576b"
            ],
            [
             0.6666666666666666,
             "#ed7953"
            ],
            [
             0.7777777777777778,
             "#fb9f3a"
            ],
            [
             0.8888888888888888,
             "#fdca26"
            ],
            [
             1,
             "#f0f921"
            ]
           ],
           "sequentialminus": [
            [
             0,
             "#0d0887"
            ],
            [
             0.1111111111111111,
             "#46039f"
            ],
            [
             0.2222222222222222,
             "#7201a8"
            ],
            [
             0.3333333333333333,
             "#9c179e"
            ],
            [
             0.4444444444444444,
             "#bd3786"
            ],
            [
             0.5555555555555556,
             "#d8576b"
            ],
            [
             0.6666666666666666,
             "#ed7953"
            ],
            [
             0.7777777777777778,
             "#fb9f3a"
            ],
            [
             0.8888888888888888,
             "#fdca26"
            ],
            [
             1,
             "#f0f921"
            ]
           ]
          },
          "colorway": [
           "#636efa",
           "#EF553B",
           "#00cc96",
           "#ab63fa",
           "#FFA15A",
           "#19d3f3",
           "#FF6692",
           "#B6E880",
           "#FF97FF",
           "#FECB52"
          ],
          "font": {
           "color": "#2a3f5f"
          },
          "geo": {
           "bgcolor": "white",
           "lakecolor": "white",
           "landcolor": "white",
           "showlakes": true,
           "showland": true,
           "subunitcolor": "#C8D4E3"
          },
          "hoverlabel": {
           "align": "left"
          },
          "hovermode": "closest",
          "mapbox": {
           "style": "light"
          },
          "paper_bgcolor": "white",
          "plot_bgcolor": "white",
          "polar": {
           "angularaxis": {
            "gridcolor": "#EBF0F8",
            "linecolor": "#EBF0F8",
            "ticks": ""
           },
           "bgcolor": "white",
           "radialaxis": {
            "gridcolor": "#EBF0F8",
            "linecolor": "#EBF0F8",
            "ticks": ""
           }
          },
          "scene": {
           "xaxis": {
            "backgroundcolor": "white",
            "gridcolor": "#DFE8F3",
            "gridwidth": 2,
            "linecolor": "#EBF0F8",
            "showbackground": true,
            "ticks": "",
            "zerolinecolor": "#EBF0F8"
           },
           "yaxis": {
            "backgroundcolor": "white",
            "gridcolor": "#DFE8F3",
            "gridwidth": 2,
            "linecolor": "#EBF0F8",
            "showbackground": true,
            "ticks": "",
            "zerolinecolor": "#EBF0F8"
           },
           "zaxis": {
            "backgroundcolor": "white",
            "gridcolor": "#DFE8F3",
            "gridwidth": 2,
            "linecolor": "#EBF0F8",
            "showbackground": true,
            "ticks": "",
            "zerolinecolor": "#EBF0F8"
           }
          },
          "shapedefaults": {
           "line": {
            "color": "#2a3f5f"
           }
          },
          "ternary": {
           "aaxis": {
            "gridcolor": "#DFE8F3",
            "linecolor": "#A2B1C6",
            "ticks": ""
           },
           "baxis": {
            "gridcolor": "#DFE8F3",
            "linecolor": "#A2B1C6",
            "ticks": ""
           },
           "bgcolor": "white",
           "caxis": {
            "gridcolor": "#DFE8F3",
            "linecolor": "#A2B1C6",
            "ticks": ""
           }
          },
          "title": {
           "x": 0.05
          },
          "xaxis": {
           "automargin": true,
           "gridcolor": "#EBF0F8",
           "linecolor": "#EBF0F8",
           "ticks": "",
           "title": {
            "standoff": 15
           },
           "zerolinecolor": "#EBF0F8",
           "zerolinewidth": 2
          },
          "yaxis": {
           "automargin": true,
           "gridcolor": "#EBF0F8",
           "linecolor": "#EBF0F8",
           "ticks": "",
           "title": {
            "standoff": 15
           },
           "zerolinecolor": "#EBF0F8",
           "zerolinewidth": 2
          }
         }
        },
        "title": {
         "font": {
          "color": "Black",
          "size": 22
         },
         "text": "Topic Key Words in Each Economic Topics",
         "x": 0.5,
         "xanchor": "center",
         "yanchor": "top"
        },
        "width": 1200,
        "xaxis": {
         "anchor": "y",
         "domain": [
          0,
          0.175
         ],
         "showgrid": true
        },
        "xaxis2": {
         "anchor": "y2",
         "domain": [
          0.275,
          0.45
         ],
         "showgrid": true
        },
        "xaxis3": {
         "anchor": "y3",
         "domain": [
          0.55,
          0.7250000000000001
         ],
         "showgrid": true
        },
        "xaxis4": {
         "anchor": "y4",
         "domain": [
          0.825,
          1
         ],
         "showgrid": true
        },
        "xaxis5": {
         "anchor": "y5",
         "domain": [
          0,
          0.175
         ],
         "showgrid": true
        },
        "xaxis6": {
         "anchor": "y6",
         "domain": [
          0.275,
          0.45
         ],
         "showgrid": true
        },
        "xaxis7": {
         "anchor": "y7",
         "domain": [
          0.55,
          0.7250000000000001
         ],
         "showgrid": true
        },
        "xaxis8": {
         "anchor": "y8",
         "domain": [
          0.825,
          1
         ],
         "showgrid": true
        },
        "yaxis": {
         "anchor": "x",
         "domain": [
          0.6000000000000001,
          1
         ],
         "showgrid": true
        },
        "yaxis2": {
         "anchor": "x2",
         "domain": [
          0.6000000000000001,
          1
         ],
         "showgrid": true
        },
        "yaxis3": {
         "anchor": "x3",
         "domain": [
          0.6000000000000001,
          1
         ],
         "showgrid": true
        },
        "yaxis4": {
         "anchor": "x4",
         "domain": [
          0.6000000000000001,
          1
         ],
         "showgrid": true
        },
        "yaxis5": {
         "anchor": "x5",
         "domain": [
          0,
          0.4
         ],
         "showgrid": true
        },
        "yaxis6": {
         "anchor": "x6",
         "domain": [
          0,
          0.4
         ],
         "showgrid": true
        },
        "yaxis7": {
         "anchor": "x7",
         "domain": [
          0,
          0.4
         ],
         "showgrid": true
        },
        "yaxis8": {
         "anchor": "x8",
         "domain": [
          0,
          0.4
         ],
         "showgrid": true
        }
       }
      }
     },
     "metadata": {},
     "output_type": "display_data"
    }
   ],
   "source": [
    "topic_model.visualize_barchart(n_words = 5, top_n_topics = 8, width=300, height=300, title=\"Topic Key Words in Each Economic Topics\")"
   ]
  },
  {
   "cell_type": "code",
   "execution_count": 85,
   "metadata": {},
   "outputs": [
    {
     "data": {
      "application/vnd.plotly.v1+json": {
       "config": {
        "plotlyServerURL": "https://plot.ly"
       },
       "data": [
        {
         "coloraxis": "coloraxis",
         "hovertemplate": "x: %{x}<br>y: %{y}<br>Similarity Score: %{z}<extra></extra>",
         "name": "0",
         "type": "heatmap",
         "x": [
          "0_model_financial_policy",
          "1_game_agent_games",
          "2_wage_workers_unemployment",
          "3_trade_export_firms",
          "4_consumers_price_firms",
          "5_emissions_environmental_e...",
          "6_political_voters_elections",
          "7_students_school_schools",
          "8_marriage_children_child",
          "9_health_insurance_care"
         ],
         "xaxis": "x",
         "y": [
          "0_model_financial_policy",
          "1_game_agent_games",
          "2_wage_workers_unemployment",
          "3_trade_export_firms",
          "4_consumers_price_firms",
          "5_emissions_environmental_e...",
          "6_political_voters_elections",
          "7_students_school_schools",
          "8_marriage_children_child",
          "9_health_insurance_care"
         ],
         "yaxis": "y",
         "z": [
          [
           1.0000000000000002,
           0.7147984475534911,
           0.7014265407639376,
           0.7006396257199394,
           0.7778786047625297,
           0.5922797684354025,
           0.5022375439392693,
           0.5531182528435046,
           0.6001441770957048,
           0.6000236844562628
          ],
          [
           0.7147984475534911,
           1.0000000000000002,
           0.6284216212907492,
           0.6320490711101101,
           0.6804351140485507,
           0.5383010283871257,
           0.5738934063448802,
           0.6201421904336015,
           0.6294546660414082,
           0.566983817052494
          ],
          [
           0.7014265407639376,
           0.6284216212907492,
           1.0000000000000004,
           0.6609332232573086,
           0.6729068782699498,
           0.5061633122729859,
           0.4921872479800501,
           0.560295780574679,
           0.579782305444816,
           0.5661429379977096
          ],
          [
           0.7006396257199394,
           0.6320490711101101,
           0.6609332232573086,
           0.9999999999999999,
           0.7764920194289504,
           0.5144630801637335,
           0.4548392719816442,
           0.4376551486653905,
           0.44561409449929806,
           0.4406325828077863
          ],
          [
           0.7778786047625297,
           0.6804351140485507,
           0.6729068782699498,
           0.7764920194289504,
           0.9999999999999996,
           0.522163487970389,
           0.5066375660264243,
           0.5007192907620102,
           0.5236222975116621,
           0.49166176360780944
          ],
          [
           0.5922797684354025,
           0.5383010283871257,
           0.5061633122729859,
           0.5144630801637335,
           0.522163487970389,
           0.9999999999999999,
           0.4604255353650464,
           0.43793502148395347,
           0.503628961458128,
           0.42973176229642174
          ],
          [
           0.5022375439392693,
           0.5738934063448802,
           0.4921872479800501,
           0.4548392719816442,
           0.5066375660264243,
           0.4604255353650464,
           0.9999999999999996,
           0.49034459163657174,
           0.514394710505574,
           0.4131424753009892
          ],
          [
           0.5531182528435046,
           0.6201421904336015,
           0.560295780574679,
           0.4376551486653905,
           0.5007192907620102,
           0.43793502148395347,
           0.49034459163657174,
           0.9999999999999996,
           0.6035688122754659,
           0.4762564452741156
          ],
          [
           0.6001441770957048,
           0.6294546660414082,
           0.579782305444816,
           0.44561409449929806,
           0.5236222975116621,
           0.503628961458128,
           0.514394710505574,
           0.6035688122754659,
           0.9999999999999994,
           0.6035421588661118
          ],
          [
           0.6000236844562628,
           0.566983817052494,
           0.5661429379977096,
           0.4406325828077863,
           0.49166176360780944,
           0.42973176229642174,
           0.4131424753009892,
           0.4762564452741156,
           0.6035421588661118,
           0.9999999999999998
          ]
         ]
        }
       ],
       "layout": {
        "coloraxis": {
         "colorbar": {
          "title": {
           "text": "Similarity Score"
          }
         },
         "colorscale": [
          [
           0,
           "rgb(247,252,240)"
          ],
          [
           0.125,
           "rgb(224,243,219)"
          ],
          [
           0.25,
           "rgb(204,235,197)"
          ],
          [
           0.375,
           "rgb(168,221,181)"
          ],
          [
           0.5,
           "rgb(123,204,196)"
          ],
          [
           0.625,
           "rgb(78,179,211)"
          ],
          [
           0.75,
           "rgb(43,140,190)"
          ],
          [
           0.875,
           "rgb(8,104,172)"
          ],
          [
           1,
           "rgb(8,64,129)"
          ]
         ]
        },
        "height": 600,
        "hoverlabel": {
         "bgcolor": "white",
         "font": {
          "family": "Rockwell",
          "size": 16
         }
        },
        "legend": {
         "title": {
          "text": "Trend"
         }
        },
        "margin": {
         "t": 60
        },
        "showlegend": true,
        "template": {
         "data": {
          "bar": [
           {
            "error_x": {
             "color": "#2a3f5f"
            },
            "error_y": {
             "color": "#2a3f5f"
            },
            "marker": {
             "line": {
              "color": "#E5ECF6",
              "width": 0.5
             },
             "pattern": {
              "fillmode": "overlay",
              "size": 10,
              "solidity": 0.2
             }
            },
            "type": "bar"
           }
          ],
          "barpolar": [
           {
            "marker": {
             "line": {
              "color": "#E5ECF6",
              "width": 0.5
             },
             "pattern": {
              "fillmode": "overlay",
              "size": 10,
              "solidity": 0.2
             }
            },
            "type": "barpolar"
           }
          ],
          "carpet": [
           {
            "aaxis": {
             "endlinecolor": "#2a3f5f",
             "gridcolor": "white",
             "linecolor": "white",
             "minorgridcolor": "white",
             "startlinecolor": "#2a3f5f"
            },
            "baxis": {
             "endlinecolor": "#2a3f5f",
             "gridcolor": "white",
             "linecolor": "white",
             "minorgridcolor": "white",
             "startlinecolor": "#2a3f5f"
            },
            "type": "carpet"
           }
          ],
          "choropleth": [
           {
            "colorbar": {
             "outlinewidth": 0,
             "ticks": ""
            },
            "type": "choropleth"
           }
          ],
          "contour": [
           {
            "colorbar": {
             "outlinewidth": 0,
             "ticks": ""
            },
            "colorscale": [
             [
              0,
              "#0d0887"
             ],
             [
              0.1111111111111111,
              "#46039f"
             ],
             [
              0.2222222222222222,
              "#7201a8"
             ],
             [
              0.3333333333333333,
              "#9c179e"
             ],
             [
              0.4444444444444444,
              "#bd3786"
             ],
             [
              0.5555555555555556,
              "#d8576b"
             ],
             [
              0.6666666666666666,
              "#ed7953"
             ],
             [
              0.7777777777777778,
              "#fb9f3a"
             ],
             [
              0.8888888888888888,
              "#fdca26"
             ],
             [
              1,
              "#f0f921"
             ]
            ],
            "type": "contour"
           }
          ],
          "contourcarpet": [
           {
            "colorbar": {
             "outlinewidth": 0,
             "ticks": ""
            },
            "type": "contourcarpet"
           }
          ],
          "heatmap": [
           {
            "colorbar": {
             "outlinewidth": 0,
             "ticks": ""
            },
            "colorscale": [
             [
              0,
              "#0d0887"
             ],
             [
              0.1111111111111111,
              "#46039f"
             ],
             [
              0.2222222222222222,
              "#7201a8"
             ],
             [
              0.3333333333333333,
              "#9c179e"
             ],
             [
              0.4444444444444444,
              "#bd3786"
             ],
             [
              0.5555555555555556,
              "#d8576b"
             ],
             [
              0.6666666666666666,
              "#ed7953"
             ],
             [
              0.7777777777777778,
              "#fb9f3a"
             ],
             [
              0.8888888888888888,
              "#fdca26"
             ],
             [
              1,
              "#f0f921"
             ]
            ],
            "type": "heatmap"
           }
          ],
          "heatmapgl": [
           {
            "colorbar": {
             "outlinewidth": 0,
             "ticks": ""
            },
            "colorscale": [
             [
              0,
              "#0d0887"
             ],
             [
              0.1111111111111111,
              "#46039f"
             ],
             [
              0.2222222222222222,
              "#7201a8"
             ],
             [
              0.3333333333333333,
              "#9c179e"
             ],
             [
              0.4444444444444444,
              "#bd3786"
             ],
             [
              0.5555555555555556,
              "#d8576b"
             ],
             [
              0.6666666666666666,
              "#ed7953"
             ],
             [
              0.7777777777777778,
              "#fb9f3a"
             ],
             [
              0.8888888888888888,
              "#fdca26"
             ],
             [
              1,
              "#f0f921"
             ]
            ],
            "type": "heatmapgl"
           }
          ],
          "histogram": [
           {
            "marker": {
             "pattern": {
              "fillmode": "overlay",
              "size": 10,
              "solidity": 0.2
             }
            },
            "type": "histogram"
           }
          ],
          "histogram2d": [
           {
            "colorbar": {
             "outlinewidth": 0,
             "ticks": ""
            },
            "colorscale": [
             [
              0,
              "#0d0887"
             ],
             [
              0.1111111111111111,
              "#46039f"
             ],
             [
              0.2222222222222222,
              "#7201a8"
             ],
             [
              0.3333333333333333,
              "#9c179e"
             ],
             [
              0.4444444444444444,
              "#bd3786"
             ],
             [
              0.5555555555555556,
              "#d8576b"
             ],
             [
              0.6666666666666666,
              "#ed7953"
             ],
             [
              0.7777777777777778,
              "#fb9f3a"
             ],
             [
              0.8888888888888888,
              "#fdca26"
             ],
             [
              1,
              "#f0f921"
             ]
            ],
            "type": "histogram2d"
           }
          ],
          "histogram2dcontour": [
           {
            "colorbar": {
             "outlinewidth": 0,
             "ticks": ""
            },
            "colorscale": [
             [
              0,
              "#0d0887"
             ],
             [
              0.1111111111111111,
              "#46039f"
             ],
             [
              0.2222222222222222,
              "#7201a8"
             ],
             [
              0.3333333333333333,
              "#9c179e"
             ],
             [
              0.4444444444444444,
              "#bd3786"
             ],
             [
              0.5555555555555556,
              "#d8576b"
             ],
             [
              0.6666666666666666,
              "#ed7953"
             ],
             [
              0.7777777777777778,
              "#fb9f3a"
             ],
             [
              0.8888888888888888,
              "#fdca26"
             ],
             [
              1,
              "#f0f921"
             ]
            ],
            "type": "histogram2dcontour"
           }
          ],
          "mesh3d": [
           {
            "colorbar": {
             "outlinewidth": 0,
             "ticks": ""
            },
            "type": "mesh3d"
           }
          ],
          "parcoords": [
           {
            "line": {
             "colorbar": {
              "outlinewidth": 0,
              "ticks": ""
             }
            },
            "type": "parcoords"
           }
          ],
          "pie": [
           {
            "automargin": true,
            "type": "pie"
           }
          ],
          "scatter": [
           {
            "fillpattern": {
             "fillmode": "overlay",
             "size": 10,
             "solidity": 0.2
            },
            "type": "scatter"
           }
          ],
          "scatter3d": [
           {
            "line": {
             "colorbar": {
              "outlinewidth": 0,
              "ticks": ""
             }
            },
            "marker": {
             "colorbar": {
              "outlinewidth": 0,
              "ticks": ""
             }
            },
            "type": "scatter3d"
           }
          ],
          "scattercarpet": [
           {
            "marker": {
             "colorbar": {
              "outlinewidth": 0,
              "ticks": ""
             }
            },
            "type": "scattercarpet"
           }
          ],
          "scattergeo": [
           {
            "marker": {
             "colorbar": {
              "outlinewidth": 0,
              "ticks": ""
             }
            },
            "type": "scattergeo"
           }
          ],
          "scattergl": [
           {
            "marker": {
             "colorbar": {
              "outlinewidth": 0,
              "ticks": ""
             }
            },
            "type": "scattergl"
           }
          ],
          "scattermapbox": [
           {
            "marker": {
             "colorbar": {
              "outlinewidth": 0,
              "ticks": ""
             }
            },
            "type": "scattermapbox"
           }
          ],
          "scatterpolar": [
           {
            "marker": {
             "colorbar": {
              "outlinewidth": 0,
              "ticks": ""
             }
            },
            "type": "scatterpolar"
           }
          ],
          "scatterpolargl": [
           {
            "marker": {
             "colorbar": {
              "outlinewidth": 0,
              "ticks": ""
             }
            },
            "type": "scatterpolargl"
           }
          ],
          "scatterternary": [
           {
            "marker": {
             "colorbar": {
              "outlinewidth": 0,
              "ticks": ""
             }
            },
            "type": "scatterternary"
           }
          ],
          "surface": [
           {
            "colorbar": {
             "outlinewidth": 0,
             "ticks": ""
            },
            "colorscale": [
             [
              0,
              "#0d0887"
             ],
             [
              0.1111111111111111,
              "#46039f"
             ],
             [
              0.2222222222222222,
              "#7201a8"
             ],
             [
              0.3333333333333333,
              "#9c179e"
             ],
             [
              0.4444444444444444,
              "#bd3786"
             ],
             [
              0.5555555555555556,
              "#d8576b"
             ],
             [
              0.6666666666666666,
              "#ed7953"
             ],
             [
              0.7777777777777778,
              "#fb9f3a"
             ],
             [
              0.8888888888888888,
              "#fdca26"
             ],
             [
              1,
              "#f0f921"
             ]
            ],
            "type": "surface"
           }
          ],
          "table": [
           {
            "cells": {
             "fill": {
              "color": "#EBF0F8"
             },
             "line": {
              "color": "white"
             }
            },
            "header": {
             "fill": {
              "color": "#C8D4E3"
             },
             "line": {
              "color": "white"
             }
            },
            "type": "table"
           }
          ]
         },
         "layout": {
          "annotationdefaults": {
           "arrowcolor": "#2a3f5f",
           "arrowhead": 0,
           "arrowwidth": 1
          },
          "autotypenumbers": "strict",
          "coloraxis": {
           "colorbar": {
            "outlinewidth": 0,
            "ticks": ""
           }
          },
          "colorscale": {
           "diverging": [
            [
             0,
             "#8e0152"
            ],
            [
             0.1,
             "#c51b7d"
            ],
            [
             0.2,
             "#de77ae"
            ],
            [
             0.3,
             "#f1b6da"
            ],
            [
             0.4,
             "#fde0ef"
            ],
            [
             0.5,
             "#f7f7f7"
            ],
            [
             0.6,
             "#e6f5d0"
            ],
            [
             0.7,
             "#b8e186"
            ],
            [
             0.8,
             "#7fbc41"
            ],
            [
             0.9,
             "#4d9221"
            ],
            [
             1,
             "#276419"
            ]
           ],
           "sequential": [
            [
             0,
             "#0d0887"
            ],
            [
             0.1111111111111111,
             "#46039f"
            ],
            [
             0.2222222222222222,
             "#7201a8"
            ],
            [
             0.3333333333333333,
             "#9c179e"
            ],
            [
             0.4444444444444444,
             "#bd3786"
            ],
            [
             0.5555555555555556,
             "#d8576b"
            ],
            [
             0.6666666666666666,
             "#ed7953"
            ],
            [
             0.7777777777777778,
             "#fb9f3a"
            ],
            [
             0.8888888888888888,
             "#fdca26"
            ],
            [
             1,
             "#f0f921"
            ]
           ],
           "sequentialminus": [
            [
             0,
             "#0d0887"
            ],
            [
             0.1111111111111111,
             "#46039f"
            ],
            [
             0.2222222222222222,
             "#7201a8"
            ],
            [
             0.3333333333333333,
             "#9c179e"
            ],
            [
             0.4444444444444444,
             "#bd3786"
            ],
            [
             0.5555555555555556,
             "#d8576b"
            ],
            [
             0.6666666666666666,
             "#ed7953"
            ],
            [
             0.7777777777777778,
             "#fb9f3a"
            ],
            [
             0.8888888888888888,
             "#fdca26"
            ],
            [
             1,
             "#f0f921"
            ]
           ]
          },
          "colorway": [
           "#636efa",
           "#EF553B",
           "#00cc96",
           "#ab63fa",
           "#FFA15A",
           "#19d3f3",
           "#FF6692",
           "#B6E880",
           "#FF97FF",
           "#FECB52"
          ],
          "font": {
           "color": "#2a3f5f"
          },
          "geo": {
           "bgcolor": "white",
           "lakecolor": "white",
           "landcolor": "#E5ECF6",
           "showlakes": true,
           "showland": true,
           "subunitcolor": "white"
          },
          "hoverlabel": {
           "align": "left"
          },
          "hovermode": "closest",
          "mapbox": {
           "style": "light"
          },
          "paper_bgcolor": "white",
          "plot_bgcolor": "#E5ECF6",
          "polar": {
           "angularaxis": {
            "gridcolor": "white",
            "linecolor": "white",
            "ticks": ""
           },
           "bgcolor": "#E5ECF6",
           "radialaxis": {
            "gridcolor": "white",
            "linecolor": "white",
            "ticks": ""
           }
          },
          "scene": {
           "xaxis": {
            "backgroundcolor": "#E5ECF6",
            "gridcolor": "white",
            "gridwidth": 2,
            "linecolor": "white",
            "showbackground": true,
            "ticks": "",
            "zerolinecolor": "white"
           },
           "yaxis": {
            "backgroundcolor": "#E5ECF6",
            "gridcolor": "white",
            "gridwidth": 2,
            "linecolor": "white",
            "showbackground": true,
            "ticks": "",
            "zerolinecolor": "white"
           },
           "zaxis": {
            "backgroundcolor": "#E5ECF6",
            "gridcolor": "white",
            "gridwidth": 2,
            "linecolor": "white",
            "showbackground": true,
            "ticks": "",
            "zerolinecolor": "white"
           }
          },
          "shapedefaults": {
           "line": {
            "color": "#2a3f5f"
           }
          },
          "ternary": {
           "aaxis": {
            "gridcolor": "white",
            "linecolor": "white",
            "ticks": ""
           },
           "baxis": {
            "gridcolor": "white",
            "linecolor": "white",
            "ticks": ""
           },
           "bgcolor": "#E5ECF6",
           "caxis": {
            "gridcolor": "white",
            "linecolor": "white",
            "ticks": ""
           }
          },
          "title": {
           "x": 0.05
          },
          "xaxis": {
           "automargin": true,
           "gridcolor": "white",
           "linecolor": "white",
           "ticks": "",
           "title": {
            "standoff": 15
           },
           "zerolinecolor": "white",
           "zerolinewidth": 2
          },
          "yaxis": {
           "automargin": true,
           "gridcolor": "white",
           "linecolor": "white",
           "ticks": "",
           "title": {
            "standoff": 15
           },
           "zerolinecolor": "white",
           "zerolinewidth": 2
          }
         }
        },
        "title": {
         "font": {
          "color": "Black",
          "size": 22
         },
         "text": "<b>Similarity Matrix</b>",
         "x": 0.55,
         "xanchor": "center",
         "y": 0.95,
         "yanchor": "top"
        },
        "width": 600,
        "xaxis": {
         "anchor": "y",
         "constrain": "domain",
         "domain": [
          0,
          1
         ],
         "scaleanchor": "y"
        },
        "yaxis": {
         "anchor": "x",
         "autorange": "reversed",
         "constrain": "domain",
         "domain": [
          0,
          1
         ]
        }
       }
      }
     },
     "metadata": {},
     "output_type": "display_data"
    }
   ],
   "source": [
    "fig = topic_model.visualize_heatmap(top_n_topics = 10, width = 600, height = 600)\n",
    "fig\n",
    "# fig.write_html(\"similarity.html\")"
   ]
  },
  {
   "attachments": {},
   "cell_type": "markdown",
   "metadata": {},
   "source": [
    "## Further Split of the Dominating Topic 0"
   ]
  },
  {
   "cell_type": "code",
   "execution_count": 86,
   "metadata": {},
   "outputs": [
    {
     "data": {
      "text/html": [
       "<div>\n",
       "<style scoped>\n",
       "    .dataframe tbody tr th:only-of-type {\n",
       "        vertical-align: middle;\n",
       "    }\n",
       "\n",
       "    .dataframe tbody tr th {\n",
       "        vertical-align: top;\n",
       "    }\n",
       "\n",
       "    .dataframe thead th {\n",
       "        text-align: right;\n",
       "    }\n",
       "</style>\n",
       "<table border=\"1\" class=\"dataframe\">\n",
       "  <thead>\n",
       "    <tr style=\"text-align: right;\">\n",
       "      <th></th>\n",
       "      <th>doi</th>\n",
       "      <th>journal</th>\n",
       "      <th>title</th>\n",
       "      <th>abstract</th>\n",
       "      <th>date</th>\n",
       "      <th>name</th>\n",
       "      <th>rank</th>\n",
       "      <th>topic</th>\n",
       "    </tr>\n",
       "  </thead>\n",
       "  <tbody>\n",
       "    <tr>\n",
       "      <th>0</th>\n",
       "      <td>10.1257/aer.102.7.3774</td>\n",
       "      <td>American Economic Review</td>\n",
       "      <td>Growth Dynamics: The Myth of Economic Recovery...</td>\n",
       "      <td>comment highlights different ways coding crisi...</td>\n",
       "      <td>2012-12-15</td>\n",
       "      <td>Spanish National Research Council</td>\n",
       "      <td></td>\n",
       "      <td>18</td>\n",
       "    </tr>\n",
       "    <tr>\n",
       "      <th>1</th>\n",
       "      <td>10.1093/rfs/hhs063</td>\n",
       "      <td>Review of Financial Studies</td>\n",
       "      <td>Asymmetric Information, Portfolio Managers, an...</td>\n",
       "      <td>propose model delegated asset management expla...</td>\n",
       "      <td>2012-07-15</td>\n",
       "      <td>University of Toronto</td>\n",
       "      <td>71</td>\n",
       "      <td>0</td>\n",
       "    </tr>\n",
       "    <tr>\n",
       "      <th>2</th>\n",
       "      <td>10.1093/rfs/hhs054</td>\n",
       "      <td>Review of Financial Studies</td>\n",
       "      <td>Dynamic Compensation Contracts with Private Sa...</td>\n",
       "      <td>article studies dynamic agency problem risk-av...</td>\n",
       "      <td>2012-05-15</td>\n",
       "      <td>University of Chicago</td>\n",
       "      <td>9</td>\n",
       "      <td>-1</td>\n",
       "    </tr>\n",
       "    <tr>\n",
       "      <th>3</th>\n",
       "      <td>10.1016/j.econlet.2011.12.032</td>\n",
       "      <td>Economics Letters</td>\n",
       "      <td>Welfare of naive and sophisticated players in ...</td>\n",
       "      <td>abdulkadiroglu et al . ( 2011 ) show naive par...</td>\n",
       "      <td>2012-05-15</td>\n",
       "      <td>Pompeu Fabra University</td>\n",
       "      <td></td>\n",
       "      <td>-1</td>\n",
       "    </tr>\n",
       "    <tr>\n",
       "      <th>4</th>\n",
       "      <td>10.1093/rfs/hhr131</td>\n",
       "      <td>Review of Financial Studies</td>\n",
       "      <td>Optimal Corporate Governance and Compensation ...</td>\n",
       "      <td>model long-run firm performance , management c...</td>\n",
       "      <td>2012-02-15</td>\n",
       "      <td>University of Oxford</td>\n",
       "      <td>28</td>\n",
       "      <td>0</td>\n",
       "    </tr>\n",
       "  </tbody>\n",
       "</table>\n",
       "</div>"
      ],
      "text/plain": [
       "                             doi                      journal  \\\n",
       "0         10.1257/aer.102.7.3774     American Economic Review   \n",
       "1             10.1093/rfs/hhs063  Review of Financial Studies   \n",
       "2             10.1093/rfs/hhs054  Review of Financial Studies   \n",
       "3  10.1016/j.econlet.2011.12.032            Economics Letters   \n",
       "4             10.1093/rfs/hhr131  Review of Financial Studies   \n",
       "\n",
       "                                               title  \\\n",
       "0  Growth Dynamics: The Myth of Economic Recovery...   \n",
       "1  Asymmetric Information, Portfolio Managers, an...   \n",
       "2  Dynamic Compensation Contracts with Private Sa...   \n",
       "3  Welfare of naive and sophisticated players in ...   \n",
       "4  Optimal Corporate Governance and Compensation ...   \n",
       "\n",
       "                                            abstract       date  \\\n",
       "0  comment highlights different ways coding crisi... 2012-12-15   \n",
       "1  propose model delegated asset management expla... 2012-07-15   \n",
       "2  article studies dynamic agency problem risk-av... 2012-05-15   \n",
       "3  abdulkadiroglu et al . ( 2011 ) show naive par... 2012-05-15   \n",
       "4  model long-run firm performance , management c... 2012-02-15   \n",
       "\n",
       "                                name rank  topic  \n",
       "0  Spanish National Research Council          18  \n",
       "1              University of Toronto   71      0  \n",
       "2              University of Chicago    9     -1  \n",
       "3            Pompeu Fabra University          -1  \n",
       "4               University of Oxford   28      0  "
      ]
     },
     "execution_count": 86,
     "metadata": {},
     "output_type": "execute_result"
    }
   ],
   "source": [
    "# get the most significant topic an abstract belongs to \n",
    "df_s[\"topic\"] = topics\n",
    "df_s.head()"
   ]
  },
  {
   "cell_type": "code",
   "execution_count": 33,
   "metadata": {},
   "outputs": [],
   "source": [
    "abstracts = df_s[df_s[\"topic\"] == 0].abstract.to_list()\n",
    "dates = df_s[df_s[\"topic\"] == 0]['date'].to_list()"
   ]
  },
  {
   "cell_type": "code",
   "execution_count": 44,
   "metadata": {},
   "outputs": [
    {
     "data": {
      "application/vnd.jupyter.widget-view+json": {
       "model_id": "043d6c40bf714363a607d5ca2f03e473",
       "version_major": 2,
       "version_minor": 0
      },
      "text/plain": [
       "Batches:   0%|          | 0/172 [00:00<?, ?it/s]"
      ]
     },
     "metadata": {},
     "output_type": "display_data"
    },
    {
     "name": "stderr",
     "output_type": "stream",
     "text": [
      "2023-03-05 22:22:35,595 - BERTopic - Transformed documents to Embeddings\n",
      "2023-03-05 22:22:45,676 - BERTopic - Reduced dimensionality\n",
      "2023-03-05 22:22:45,904 - BERTopic - Clustered reduced embeddings\n",
      "60it [00:03, 17.36it/s]\n"
     ]
    }
   ],
   "source": [
    "# n_neighbors: smaller local strcuture lose connection, bigger all connection lose local structure\n",
    "# n_component: dimensionality of reduced dimension space\n",
    "# min_dist: how tightly UMAP is allowed to pack points together\n",
    "umap_model = UMAP(n_neighbors=15, n_components=10, \n",
    "                  min_dist=0.01, metric='euclidean', random_state=1)\n",
    "\n",
    "topic_model = BERTopic(min_topic_size=70,verbose=True,umap_model=umap_model)\n",
    "topics, probs = topic_model.fit_transform(abstracts)\n",
    "topics_over_time = topic_model.topics_over_time(abstracts, dates, evolution_tuning=True, global_tuning=True,  nr_bins=60)"
   ]
  },
  {
   "cell_type": "code",
   "execution_count": 45,
   "metadata": {},
   "outputs": [
    {
     "data": {
      "application/vnd.plotly.v1+json": {
       "config": {
        "plotlyServerURL": "https://plot.ly"
       },
       "data": [
        {
         "customdata": [
          [
           0,
           "returns | information | investors | market | stock",
           1066
          ],
          [
           1,
           "banks | bank | credit | lending | banking",
           415
          ],
          [
           2,
           "estimator | treatment | estimators | models | test",
           377
          ],
          [
           3,
           "inflation | policy | monetary | central | rate",
           245
          ],
          [
           4,
           "housing | house | mortgage | prices | price",
           237
          ],
          [
           5,
           "forecasts | forecasting | models | forecast | model",
           160
          ],
          [
           6,
           "fiscal | government | spending | multipliers | policy",
           127
          ],
          [
           7,
           "business | shocks | cycle | aggregate | fluctuations",
           120
          ],
          [
           8,
           "oil | price | prices | crude | volatility",
           105
          ],
          [
           9,
           "exchange | rate | currency | rates | real",
           100
          ],
          [
           10,
           "firms | debt | firm | leverage | financing",
           86
          ],
          [
           11,
           "uncertainty | shocks | economic | epu | us",
           83
          ],
          [
           12,
           "debt | default | sovereign | maturity | government",
           80
          ]
         ],
         "hovertemplate": "<b>Topic %{customdata[0]}</b><br>%{customdata[1]}<br>Size: %{customdata[2]}",
         "legendgroup": "",
         "marker": {
          "color": "#B0BEC5",
          "line": {
           "color": "DarkSlateGrey",
           "width": 2
          },
          "size": [
           1066,
           415,
           377,
           245,
           237,
           160,
           127,
           120,
           105,
           100,
           86,
           83,
           80
          ],
          "sizemode": "area",
          "sizeref": 0.66625,
          "symbol": "circle"
         },
         "mode": "markers",
         "name": "",
         "orientation": "v",
         "showlegend": false,
         "type": "scatter",
         "x": [
          5.808280944824219,
          6.21382999420166,
          14.638041496276855,
          2.085875988006592,
          6.3670501708984375,
          14.377466201782227,
          2.325989246368408,
          20.572832107543945,
          20.16098976135254,
          20.379077911376953,
          5.928712844848633,
          20.801864624023438,
          5.5926642417907715
         ],
         "xaxis": "x",
         "y": [
          8.58007526397705,
          8.771987915039062,
          10.773052215576172,
          6.006680488586426,
          8.388998031616211,
          10.512520790100098,
          6.206086158752441,
          -3.6955204010009766,
          -4.089099407196045,
          -3.8885536193847656,
          9.470968246459961,
          -3.4598937034606934,
          9.652168273925781
         ],
         "yaxis": "y"
        }
       ],
       "layout": {
        "annotations": [
         {
          "showarrow": false,
          "text": "D1",
          "x": 1.772994589805603,
          "y": 3.843272864818573,
          "yshift": 10
         },
         {
          "showarrow": false,
          "text": "D2",
          "x": 12.847569453716277,
          "xshift": 10,
          "y": 12.389010047912597
         }
        ],
        "height": 650,
        "hoverlabel": {
         "bgcolor": "white",
         "font": {
          "family": "Rockwell",
          "size": 16
         }
        },
        "legend": {
         "itemsizing": "constant",
         "tracegroupgap": 0
        },
        "margin": {
         "t": 60
        },
        "shapes": [
         {
          "line": {
           "color": "#CFD8DC",
           "width": 2
          },
          "type": "line",
          "x0": 12.847569453716277,
          "x1": 12.847569453716277,
          "y0": -4.702464318275451,
          "y1": 12.389010047912597
         },
         {
          "line": {
           "color": "#9E9E9E",
           "width": 2
          },
          "type": "line",
          "x0": 1.772994589805603,
          "x1": 23.92214431762695,
          "y0": 3.843272864818573,
          "y1": 3.843272864818573
         }
        ],
        "sliders": [
         {
          "active": 0,
          "pad": {
           "t": 50
          },
          "steps": [
           {
            "args": [
             {
              "marker.color": [
               [
                "red",
                "#B0BEC5",
                "#B0BEC5",
                "#B0BEC5",
                "#B0BEC5",
                "#B0BEC5",
                "#B0BEC5",
                "#B0BEC5",
                "#B0BEC5",
                "#B0BEC5",
                "#B0BEC5",
                "#B0BEC5",
                "#B0BEC5"
               ]
              ]
             }
            ],
            "label": "Topic 0",
            "method": "update"
           },
           {
            "args": [
             {
              "marker.color": [
               [
                "#B0BEC5",
                "red",
                "#B0BEC5",
                "#B0BEC5",
                "#B0BEC5",
                "#B0BEC5",
                "#B0BEC5",
                "#B0BEC5",
                "#B0BEC5",
                "#B0BEC5",
                "#B0BEC5",
                "#B0BEC5",
                "#B0BEC5"
               ]
              ]
             }
            ],
            "label": "Topic 1",
            "method": "update"
           },
           {
            "args": [
             {
              "marker.color": [
               [
                "#B0BEC5",
                "#B0BEC5",
                "red",
                "#B0BEC5",
                "#B0BEC5",
                "#B0BEC5",
                "#B0BEC5",
                "#B0BEC5",
                "#B0BEC5",
                "#B0BEC5",
                "#B0BEC5",
                "#B0BEC5",
                "#B0BEC5"
               ]
              ]
             }
            ],
            "label": "Topic 2",
            "method": "update"
           },
           {
            "args": [
             {
              "marker.color": [
               [
                "#B0BEC5",
                "#B0BEC5",
                "#B0BEC5",
                "red",
                "#B0BEC5",
                "#B0BEC5",
                "#B0BEC5",
                "#B0BEC5",
                "#B0BEC5",
                "#B0BEC5",
                "#B0BEC5",
                "#B0BEC5",
                "#B0BEC5"
               ]
              ]
             }
            ],
            "label": "Topic 3",
            "method": "update"
           },
           {
            "args": [
             {
              "marker.color": [
               [
                "#B0BEC5",
                "#B0BEC5",
                "#B0BEC5",
                "#B0BEC5",
                "red",
                "#B0BEC5",
                "#B0BEC5",
                "#B0BEC5",
                "#B0BEC5",
                "#B0BEC5",
                "#B0BEC5",
                "#B0BEC5",
                "#B0BEC5"
               ]
              ]
             }
            ],
            "label": "Topic 4",
            "method": "update"
           },
           {
            "args": [
             {
              "marker.color": [
               [
                "#B0BEC5",
                "#B0BEC5",
                "#B0BEC5",
                "#B0BEC5",
                "#B0BEC5",
                "red",
                "#B0BEC5",
                "#B0BEC5",
                "#B0BEC5",
                "#B0BEC5",
                "#B0BEC5",
                "#B0BEC5",
                "#B0BEC5"
               ]
              ]
             }
            ],
            "label": "Topic 5",
            "method": "update"
           },
           {
            "args": [
             {
              "marker.color": [
               [
                "#B0BEC5",
                "#B0BEC5",
                "#B0BEC5",
                "#B0BEC5",
                "#B0BEC5",
                "#B0BEC5",
                "red",
                "#B0BEC5",
                "#B0BEC5",
                "#B0BEC5",
                "#B0BEC5",
                "#B0BEC5",
                "#B0BEC5"
               ]
              ]
             }
            ],
            "label": "Topic 6",
            "method": "update"
           },
           {
            "args": [
             {
              "marker.color": [
               [
                "#B0BEC5",
                "#B0BEC5",
                "#B0BEC5",
                "#B0BEC5",
                "#B0BEC5",
                "#B0BEC5",
                "#B0BEC5",
                "red",
                "#B0BEC5",
                "#B0BEC5",
                "#B0BEC5",
                "#B0BEC5",
                "#B0BEC5"
               ]
              ]
             }
            ],
            "label": "Topic 7",
            "method": "update"
           },
           {
            "args": [
             {
              "marker.color": [
               [
                "#B0BEC5",
                "#B0BEC5",
                "#B0BEC5",
                "#B0BEC5",
                "#B0BEC5",
                "#B0BEC5",
                "#B0BEC5",
                "#B0BEC5",
                "red",
                "#B0BEC5",
                "#B0BEC5",
                "#B0BEC5",
                "#B0BEC5"
               ]
              ]
             }
            ],
            "label": "Topic 8",
            "method": "update"
           },
           {
            "args": [
             {
              "marker.color": [
               [
                "#B0BEC5",
                "#B0BEC5",
                "#B0BEC5",
                "#B0BEC5",
                "#B0BEC5",
                "#B0BEC5",
                "#B0BEC5",
                "#B0BEC5",
                "#B0BEC5",
                "red",
                "#B0BEC5",
                "#B0BEC5",
                "#B0BEC5"
               ]
              ]
             }
            ],
            "label": "Topic 9",
            "method": "update"
           },
           {
            "args": [
             {
              "marker.color": [
               [
                "#B0BEC5",
                "#B0BEC5",
                "#B0BEC5",
                "#B0BEC5",
                "#B0BEC5",
                "#B0BEC5",
                "#B0BEC5",
                "#B0BEC5",
                "#B0BEC5",
                "#B0BEC5",
                "red",
                "#B0BEC5",
                "#B0BEC5"
               ]
              ]
             }
            ],
            "label": "Topic 10",
            "method": "update"
           },
           {
            "args": [
             {
              "marker.color": [
               [
                "#B0BEC5",
                "#B0BEC5",
                "#B0BEC5",
                "#B0BEC5",
                "#B0BEC5",
                "#B0BEC5",
                "#B0BEC5",
                "#B0BEC5",
                "#B0BEC5",
                "#B0BEC5",
                "#B0BEC5",
                "red",
                "#B0BEC5"
               ]
              ]
             }
            ],
            "label": "Topic 11",
            "method": "update"
           },
           {
            "args": [
             {
              "marker.color": [
               [
                "#B0BEC5",
                "#B0BEC5",
                "#B0BEC5",
                "#B0BEC5",
                "#B0BEC5",
                "#B0BEC5",
                "#B0BEC5",
                "#B0BEC5",
                "#B0BEC5",
                "#B0BEC5",
                "#B0BEC5",
                "#B0BEC5",
                "red"
               ]
              ]
             }
            ],
            "label": "Topic 12",
            "method": "update"
           }
          ]
         }
        ],
        "template": {
         "data": {
          "bar": [
           {
            "error_x": {
             "color": "rgb(36,36,36)"
            },
            "error_y": {
             "color": "rgb(36,36,36)"
            },
            "marker": {
             "line": {
              "color": "white",
              "width": 0.5
             },
             "pattern": {
              "fillmode": "overlay",
              "size": 10,
              "solidity": 0.2
             }
            },
            "type": "bar"
           }
          ],
          "barpolar": [
           {
            "marker": {
             "line": {
              "color": "white",
              "width": 0.5
             },
             "pattern": {
              "fillmode": "overlay",
              "size": 10,
              "solidity": 0.2
             }
            },
            "type": "barpolar"
           }
          ],
          "carpet": [
           {
            "aaxis": {
             "endlinecolor": "rgb(36,36,36)",
             "gridcolor": "white",
             "linecolor": "white",
             "minorgridcolor": "white",
             "startlinecolor": "rgb(36,36,36)"
            },
            "baxis": {
             "endlinecolor": "rgb(36,36,36)",
             "gridcolor": "white",
             "linecolor": "white",
             "minorgridcolor": "white",
             "startlinecolor": "rgb(36,36,36)"
            },
            "type": "carpet"
           }
          ],
          "choropleth": [
           {
            "colorbar": {
             "outlinewidth": 1,
             "tickcolor": "rgb(36,36,36)",
             "ticks": "outside"
            },
            "type": "choropleth"
           }
          ],
          "contour": [
           {
            "colorbar": {
             "outlinewidth": 1,
             "tickcolor": "rgb(36,36,36)",
             "ticks": "outside"
            },
            "colorscale": [
             [
              0,
              "#440154"
             ],
             [
              0.1111111111111111,
              "#482878"
             ],
             [
              0.2222222222222222,
              "#3e4989"
             ],
             [
              0.3333333333333333,
              "#31688e"
             ],
             [
              0.4444444444444444,
              "#26828e"
             ],
             [
              0.5555555555555556,
              "#1f9e89"
             ],
             [
              0.6666666666666666,
              "#35b779"
             ],
             [
              0.7777777777777778,
              "#6ece58"
             ],
             [
              0.8888888888888888,
              "#b5de2b"
             ],
             [
              1,
              "#fde725"
             ]
            ],
            "type": "contour"
           }
          ],
          "contourcarpet": [
           {
            "colorbar": {
             "outlinewidth": 1,
             "tickcolor": "rgb(36,36,36)",
             "ticks": "outside"
            },
            "type": "contourcarpet"
           }
          ],
          "heatmap": [
           {
            "colorbar": {
             "outlinewidth": 1,
             "tickcolor": "rgb(36,36,36)",
             "ticks": "outside"
            },
            "colorscale": [
             [
              0,
              "#440154"
             ],
             [
              0.1111111111111111,
              "#482878"
             ],
             [
              0.2222222222222222,
              "#3e4989"
             ],
             [
              0.3333333333333333,
              "#31688e"
             ],
             [
              0.4444444444444444,
              "#26828e"
             ],
             [
              0.5555555555555556,
              "#1f9e89"
             ],
             [
              0.6666666666666666,
              "#35b779"
             ],
             [
              0.7777777777777778,
              "#6ece58"
             ],
             [
              0.8888888888888888,
              "#b5de2b"
             ],
             [
              1,
              "#fde725"
             ]
            ],
            "type": "heatmap"
           }
          ],
          "heatmapgl": [
           {
            "colorbar": {
             "outlinewidth": 1,
             "tickcolor": "rgb(36,36,36)",
             "ticks": "outside"
            },
            "colorscale": [
             [
              0,
              "#440154"
             ],
             [
              0.1111111111111111,
              "#482878"
             ],
             [
              0.2222222222222222,
              "#3e4989"
             ],
             [
              0.3333333333333333,
              "#31688e"
             ],
             [
              0.4444444444444444,
              "#26828e"
             ],
             [
              0.5555555555555556,
              "#1f9e89"
             ],
             [
              0.6666666666666666,
              "#35b779"
             ],
             [
              0.7777777777777778,
              "#6ece58"
             ],
             [
              0.8888888888888888,
              "#b5de2b"
             ],
             [
              1,
              "#fde725"
             ]
            ],
            "type": "heatmapgl"
           }
          ],
          "histogram": [
           {
            "marker": {
             "line": {
              "color": "white",
              "width": 0.6
             }
            },
            "type": "histogram"
           }
          ],
          "histogram2d": [
           {
            "colorbar": {
             "outlinewidth": 1,
             "tickcolor": "rgb(36,36,36)",
             "ticks": "outside"
            },
            "colorscale": [
             [
              0,
              "#440154"
             ],
             [
              0.1111111111111111,
              "#482878"
             ],
             [
              0.2222222222222222,
              "#3e4989"
             ],
             [
              0.3333333333333333,
              "#31688e"
             ],
             [
              0.4444444444444444,
              "#26828e"
             ],
             [
              0.5555555555555556,
              "#1f9e89"
             ],
             [
              0.6666666666666666,
              "#35b779"
             ],
             [
              0.7777777777777778,
              "#6ece58"
             ],
             [
              0.8888888888888888,
              "#b5de2b"
             ],
             [
              1,
              "#fde725"
             ]
            ],
            "type": "histogram2d"
           }
          ],
          "histogram2dcontour": [
           {
            "colorbar": {
             "outlinewidth": 1,
             "tickcolor": "rgb(36,36,36)",
             "ticks": "outside"
            },
            "colorscale": [
             [
              0,
              "#440154"
             ],
             [
              0.1111111111111111,
              "#482878"
             ],
             [
              0.2222222222222222,
              "#3e4989"
             ],
             [
              0.3333333333333333,
              "#31688e"
             ],
             [
              0.4444444444444444,
              "#26828e"
             ],
             [
              0.5555555555555556,
              "#1f9e89"
             ],
             [
              0.6666666666666666,
              "#35b779"
             ],
             [
              0.7777777777777778,
              "#6ece58"
             ],
             [
              0.8888888888888888,
              "#b5de2b"
             ],
             [
              1,
              "#fde725"
             ]
            ],
            "type": "histogram2dcontour"
           }
          ],
          "mesh3d": [
           {
            "colorbar": {
             "outlinewidth": 1,
             "tickcolor": "rgb(36,36,36)",
             "ticks": "outside"
            },
            "type": "mesh3d"
           }
          ],
          "parcoords": [
           {
            "line": {
             "colorbar": {
              "outlinewidth": 1,
              "tickcolor": "rgb(36,36,36)",
              "ticks": "outside"
             }
            },
            "type": "parcoords"
           }
          ],
          "pie": [
           {
            "automargin": true,
            "type": "pie"
           }
          ],
          "scatter": [
           {
            "fillpattern": {
             "fillmode": "overlay",
             "size": 10,
             "solidity": 0.2
            },
            "type": "scatter"
           }
          ],
          "scatter3d": [
           {
            "line": {
             "colorbar": {
              "outlinewidth": 1,
              "tickcolor": "rgb(36,36,36)",
              "ticks": "outside"
             }
            },
            "marker": {
             "colorbar": {
              "outlinewidth": 1,
              "tickcolor": "rgb(36,36,36)",
              "ticks": "outside"
             }
            },
            "type": "scatter3d"
           }
          ],
          "scattercarpet": [
           {
            "marker": {
             "colorbar": {
              "outlinewidth": 1,
              "tickcolor": "rgb(36,36,36)",
              "ticks": "outside"
             }
            },
            "type": "scattercarpet"
           }
          ],
          "scattergeo": [
           {
            "marker": {
             "colorbar": {
              "outlinewidth": 1,
              "tickcolor": "rgb(36,36,36)",
              "ticks": "outside"
             }
            },
            "type": "scattergeo"
           }
          ],
          "scattergl": [
           {
            "marker": {
             "colorbar": {
              "outlinewidth": 1,
              "tickcolor": "rgb(36,36,36)",
              "ticks": "outside"
             }
            },
            "type": "scattergl"
           }
          ],
          "scattermapbox": [
           {
            "marker": {
             "colorbar": {
              "outlinewidth": 1,
              "tickcolor": "rgb(36,36,36)",
              "ticks": "outside"
             }
            },
            "type": "scattermapbox"
           }
          ],
          "scatterpolar": [
           {
            "marker": {
             "colorbar": {
              "outlinewidth": 1,
              "tickcolor": "rgb(36,36,36)",
              "ticks": "outside"
             }
            },
            "type": "scatterpolar"
           }
          ],
          "scatterpolargl": [
           {
            "marker": {
             "colorbar": {
              "outlinewidth": 1,
              "tickcolor": "rgb(36,36,36)",
              "ticks": "outside"
             }
            },
            "type": "scatterpolargl"
           }
          ],
          "scatterternary": [
           {
            "marker": {
             "colorbar": {
              "outlinewidth": 1,
              "tickcolor": "rgb(36,36,36)",
              "ticks": "outside"
             }
            },
            "type": "scatterternary"
           }
          ],
          "surface": [
           {
            "colorbar": {
             "outlinewidth": 1,
             "tickcolor": "rgb(36,36,36)",
             "ticks": "outside"
            },
            "colorscale": [
             [
              0,
              "#440154"
             ],
             [
              0.1111111111111111,
              "#482878"
             ],
             [
              0.2222222222222222,
              "#3e4989"
             ],
             [
              0.3333333333333333,
              "#31688e"
             ],
             [
              0.4444444444444444,
              "#26828e"
             ],
             [
              0.5555555555555556,
              "#1f9e89"
             ],
             [
              0.6666666666666666,
              "#35b779"
             ],
             [
              0.7777777777777778,
              "#6ece58"
             ],
             [
              0.8888888888888888,
              "#b5de2b"
             ],
             [
              1,
              "#fde725"
             ]
            ],
            "type": "surface"
           }
          ],
          "table": [
           {
            "cells": {
             "fill": {
              "color": "rgb(237,237,237)"
             },
             "line": {
              "color": "white"
             }
            },
            "header": {
             "fill": {
              "color": "rgb(217,217,217)"
             },
             "line": {
              "color": "white"
             }
            },
            "type": "table"
           }
          ]
         },
         "layout": {
          "annotationdefaults": {
           "arrowhead": 0,
           "arrowwidth": 1
          },
          "autotypenumbers": "strict",
          "coloraxis": {
           "colorbar": {
            "outlinewidth": 1,
            "tickcolor": "rgb(36,36,36)",
            "ticks": "outside"
           }
          },
          "colorscale": {
           "diverging": [
            [
             0,
             "rgb(103,0,31)"
            ],
            [
             0.1,
             "rgb(178,24,43)"
            ],
            [
             0.2,
             "rgb(214,96,77)"
            ],
            [
             0.3,
             "rgb(244,165,130)"
            ],
            [
             0.4,
             "rgb(253,219,199)"
            ],
            [
             0.5,
             "rgb(247,247,247)"
            ],
            [
             0.6,
             "rgb(209,229,240)"
            ],
            [
             0.7,
             "rgb(146,197,222)"
            ],
            [
             0.8,
             "rgb(67,147,195)"
            ],
            [
             0.9,
             "rgb(33,102,172)"
            ],
            [
             1,
             "rgb(5,48,97)"
            ]
           ],
           "sequential": [
            [
             0,
             "#440154"
            ],
            [
             0.1111111111111111,
             "#482878"
            ],
            [
             0.2222222222222222,
             "#3e4989"
            ],
            [
             0.3333333333333333,
             "#31688e"
            ],
            [
             0.4444444444444444,
             "#26828e"
            ],
            [
             0.5555555555555556,
             "#1f9e89"
            ],
            [
             0.6666666666666666,
             "#35b779"
            ],
            [
             0.7777777777777778,
             "#6ece58"
            ],
            [
             0.8888888888888888,
             "#b5de2b"
            ],
            [
             1,
             "#fde725"
            ]
           ],
           "sequentialminus": [
            [
             0,
             "#440154"
            ],
            [
             0.1111111111111111,
             "#482878"
            ],
            [
             0.2222222222222222,
             "#3e4989"
            ],
            [
             0.3333333333333333,
             "#31688e"
            ],
            [
             0.4444444444444444,
             "#26828e"
            ],
            [
             0.5555555555555556,
             "#1f9e89"
            ],
            [
             0.6666666666666666,
             "#35b779"
            ],
            [
             0.7777777777777778,
             "#6ece58"
            ],
            [
             0.8888888888888888,
             "#b5de2b"
            ],
            [
             1,
             "#fde725"
            ]
           ]
          },
          "colorway": [
           "#1F77B4",
           "#FF7F0E",
           "#2CA02C",
           "#D62728",
           "#9467BD",
           "#8C564B",
           "#E377C2",
           "#7F7F7F",
           "#BCBD22",
           "#17BECF"
          ],
          "font": {
           "color": "rgb(36,36,36)"
          },
          "geo": {
           "bgcolor": "white",
           "lakecolor": "white",
           "landcolor": "white",
           "showlakes": true,
           "showland": true,
           "subunitcolor": "white"
          },
          "hoverlabel": {
           "align": "left"
          },
          "hovermode": "closest",
          "mapbox": {
           "style": "light"
          },
          "paper_bgcolor": "white",
          "plot_bgcolor": "white",
          "polar": {
           "angularaxis": {
            "gridcolor": "rgb(232,232,232)",
            "linecolor": "rgb(36,36,36)",
            "showgrid": false,
            "showline": true,
            "ticks": "outside"
           },
           "bgcolor": "white",
           "radialaxis": {
            "gridcolor": "rgb(232,232,232)",
            "linecolor": "rgb(36,36,36)",
            "showgrid": false,
            "showline": true,
            "ticks": "outside"
           }
          },
          "scene": {
           "xaxis": {
            "backgroundcolor": "white",
            "gridcolor": "rgb(232,232,232)",
            "gridwidth": 2,
            "linecolor": "rgb(36,36,36)",
            "showbackground": true,
            "showgrid": false,
            "showline": true,
            "ticks": "outside",
            "zeroline": false,
            "zerolinecolor": "rgb(36,36,36)"
           },
           "yaxis": {
            "backgroundcolor": "white",
            "gridcolor": "rgb(232,232,232)",
            "gridwidth": 2,
            "linecolor": "rgb(36,36,36)",
            "showbackground": true,
            "showgrid": false,
            "showline": true,
            "ticks": "outside",
            "zeroline": false,
            "zerolinecolor": "rgb(36,36,36)"
           },
           "zaxis": {
            "backgroundcolor": "white",
            "gridcolor": "rgb(232,232,232)",
            "gridwidth": 2,
            "linecolor": "rgb(36,36,36)",
            "showbackground": true,
            "showgrid": false,
            "showline": true,
            "ticks": "outside",
            "zeroline": false,
            "zerolinecolor": "rgb(36,36,36)"
           }
          },
          "shapedefaults": {
           "fillcolor": "black",
           "line": {
            "width": 0
           },
           "opacity": 0.3
          },
          "ternary": {
           "aaxis": {
            "gridcolor": "rgb(232,232,232)",
            "linecolor": "rgb(36,36,36)",
            "showgrid": false,
            "showline": true,
            "ticks": "outside"
           },
           "baxis": {
            "gridcolor": "rgb(232,232,232)",
            "linecolor": "rgb(36,36,36)",
            "showgrid": false,
            "showline": true,
            "ticks": "outside"
           },
           "bgcolor": "white",
           "caxis": {
            "gridcolor": "rgb(232,232,232)",
            "linecolor": "rgb(36,36,36)",
            "showgrid": false,
            "showline": true,
            "ticks": "outside"
           }
          },
          "title": {
           "x": 0.05
          },
          "xaxis": {
           "automargin": true,
           "gridcolor": "rgb(232,232,232)",
           "linecolor": "rgb(36,36,36)",
           "showgrid": false,
           "showline": true,
           "ticks": "outside",
           "title": {
            "standoff": 15
           },
           "zeroline": false,
           "zerolinecolor": "rgb(36,36,36)"
          },
          "yaxis": {
           "automargin": true,
           "gridcolor": "rgb(232,232,232)",
           "linecolor": "rgb(36,36,36)",
           "showgrid": false,
           "showline": true,
           "ticks": "outside",
           "title": {
            "standoff": 15
           },
           "zeroline": false,
           "zerolinecolor": "rgb(36,36,36)"
          }
         }
        },
        "title": {
         "font": {
          "color": "Black",
          "size": 22
         },
         "text": "<b>Intertopic Distance Map</b>",
         "x": 0.5,
         "xanchor": "center",
         "y": 0.95,
         "yanchor": "top"
        },
        "width": 650,
        "xaxis": {
         "anchor": "y",
         "domain": [
          0,
          1
         ],
         "range": [
          1.772994589805603,
          23.92214431762695
         ],
         "title": {
          "text": ""
         },
         "visible": false
        },
        "yaxis": {
         "anchor": "x",
         "domain": [
          0,
          1
         ],
         "range": [
          -4.702464318275451,
          12.389010047912597
         ],
         "title": {
          "text": ""
         },
         "visible": false
        }
       }
      }
     },
     "metadata": {},
     "output_type": "display_data"
    }
   ],
   "source": [
    "topic_model.visualize_topics()"
   ]
  },
  {
   "cell_type": "code",
   "execution_count": 46,
   "metadata": {},
   "outputs": [
    {
     "data": {
      "application/vnd.plotly.v1+json": {
       "config": {
        "plotlyServerURL": "https://plot.ly"
       },
       "data": [
        {
         "hoverinfo": "text",
         "hovertext": [
          "<b>Topic 0</b><br>Words: oxford, university, press, funds, stock",
          "<b>Topic 0</b><br>Words: media, risk, stock, returns, fund",
          "<b>Topic 0</b><br>Words: press, university, oxford, returns, information",
          "<b>Topic 0</b><br>Words: oxford, university, press, returns, investors",
          "<b>Topic 0</b><br>Words: funds, performance, university, oxford, press",
          "<b>Topic 0</b><br>Words: returns, fund, university, oxford, press",
          "<b>Topic 0</b><br>Words: oxford, university, press, funds, institutional",
          "<b>Topic 0</b><br>Words: university, oxford, press, board, governance",
          "<b>Topic 0</b><br>Words: market, investors, university, oxford, press",
          "<b>Topic 0</b><br>Words: university, oxford, press, risk, method",
          "<b>Topic 0</b><br>Words: oxford, university, press, returns, firms",
          "<b>Topic 0</b><br>Words: returns, firms, university, oxford, press",
          "<b>Topic 0</b><br>Words: traders, returns, behavior, information, trading",
          "<b>Topic 0</b><br>Words: investors, information, returns, advertising, performance",
          "<b>Topic 0</b><br>Words: returns, acquirers, asset, information, stock",
          "<b>Topic 0</b><br>Words: returns, stock, equity, information, performance",
          "<b>Topic 0</b><br>Words: stock, risk, market, information, compensation",
          "<b>Topic 0</b><br>Words: stock, firms, market, investors, earnings",
          "<b>Topic 0</b><br>Words: returns, stock, risk, managers, funds",
          "<b>Topic 0</b><br>Words: investors, returns, information, trading, reports",
          "<b>Topic 0</b><br>Words: standards, board, gsvi, ceo, valuation",
          "<b>Topic 0</b><br>Words: information, market, returns, funds, stock",
          "<b>Topic 0</b><br>Words: returns, performance, csp, stock, market",
          "<b>Topic 0</b><br>Words: investors, information, accepted, received, editor",
          "<b>Topic 0</b><br>Words: stock, firms, information, r2, proxy",
          "<b>Topic 0</b><br>Words: market, abnormal, trading, returns, equity",
          "<b>Topic 0</b><br>Words: managers, investors, returns, investment, ceo",
          "<b>Topic 0</b><br>Words: stock, market, returns, pirate, investor",
          "<b>Topic 0</b><br>Words: investors, returns, information, market, factors",
          "<b>Topic 0</b><br>Words: firms, firm, investors, managers, information",
          "<b>Topic 0</b><br>Words: returns, stock, firms, investment, information",
          "<b>Topic 0</b><br>Words: engagements, benchmarks, allocations, investors, asset",
          "<b>Topic 0</b><br>Words: information, funds, returns, market, investors",
          "<b>Topic 0</b><br>Words: investors, returns, information, market, risk",
          "<b>Topic 0</b><br>Words: fund, funds, market, returns, information",
          "<b>Topic 0</b><br>Words: trading, stock, returns, information, investors",
          "<b>Topic 0</b><br>Words: funds, asset, market, managers, investors",
          "<b>Topic 0</b><br>Words: managers, firms, information, editorial, link",
          "<b>Topic 0</b><br>Words: returns, trading, information, market, stock",
          "<b>Topic 0</b><br>Words: information, returns, stocks, trading, market",
          "<b>Topic 0</b><br>Words: investors, information, firms, risk, market",
          "<b>Topic 0</b><br>Words: information, investors, market, stock, price",
          "<b>Topic 0</b><br>Words: returns, investors, market, information, asset",
          "<b>Topic 0</b><br>Words: returns, market, investors, investment, stock",
          "<b>Topic 0</b><br>Words: employees, firms, trading, investment, information",
          "<b>Topic 0</b><br>Words: information, returns, internet, stock, risk",
          "<b>Topic 0</b><br>Words: returns, market, information, firms, future",
          "<b>Topic 0</b><br>Words: risk, returns, managers, funds, information",
          "<b>Topic 0</b><br>Words: funds, returns, market, information, investors",
          "<b>Topic 0</b><br>Words: investors, market, returns, trading, funds",
          "<b>Topic 0</b><br>Words: stock, market, trading, return, returns",
          "<b>Topic 0</b><br>Words: trading, investors, market, price, funds",
          "<b>Topic 0</b><br>Words: information, funds, market, investors, traders",
          "<b>Topic 0</b><br>Words: information, facial, performance, ceos, market",
          "<b>Topic 0</b><br>Words: returns, governance, market, firm, funds",
          "<b>Topic 0</b><br>Words: stock, investors, returns, market, portfolio",
          "<b>Topic 0</b><br>Words: firms, returns, risk, market, stock",
          "<b>Topic 0</b><br>Words: fund, stock, returns, firms, funds",
          "<b>Topic 0</b><br>Words: information, investors, returns, firms, performance",
          "<b>Topic 0</b><br>Words: investors, firms, returns, fraud, stock"
         ],
         "marker": {
          "color": "#E69F00"
         },
         "mode": "lines",
         "name": "0_returns_information_investors_market",
         "type": "scatter",
         "x": [
          "2011-12-27T23:58:33.600000",
          "2012-03-07T16:24:00",
          "2012-05-13T08:48:00",
          "2012-07-19T01:12:00",
          "2012-09-23T17:36:00",
          "2012-11-29T10:00:00",
          "2013-02-04T02:24:00",
          "2013-04-11T18:48:00",
          "2013-06-17T11:12:00",
          "2013-08-23T03:36:00",
          "2013-10-28T20:00:00",
          "2014-01-03T12:24:00",
          "2014-03-11T04:48:00",
          "2014-05-16T21:12:00",
          "2014-07-22T13:36:00",
          "2014-09-27T06:00:00",
          "2014-12-02T22:24:00",
          "2015-02-07T14:48:00",
          "2015-04-15T07:12:00",
          "2015-06-20T23:36:00",
          "2015-08-26T16:00:00",
          "2015-11-01T08:24:00",
          "2016-01-07T00:48:00",
          "2016-03-13T17:12:00",
          "2016-05-19T09:36:00",
          "2016-07-25T02:00:00",
          "2016-09-29T18:24:00",
          "2016-12-05T10:48:00",
          "2017-02-10T03:12:00",
          "2017-04-17T19:36:00",
          "2017-06-23T12:00:00",
          "2017-08-29T04:24:00",
          "2017-11-03T20:48:00",
          "2018-01-09T13:12:00",
          "2018-03-17T05:36:00",
          "2018-05-22T22:00:00",
          "2018-07-28T14:24:00",
          "2018-10-03T06:48:00",
          "2018-12-08T23:12:00",
          "2019-02-13T15:36:00",
          "2019-04-21T08:00:00",
          "2019-06-27T00:24:00",
          "2019-09-01T16:48:00",
          "2019-11-07T09:12:00",
          "2020-01-13T01:36:00",
          "2020-03-19T18:00:00",
          "2020-05-25T10:24:00",
          "2020-07-31T02:48:00",
          "2020-10-05T19:12:00",
          "2020-12-11T11:36:00",
          "2021-02-16T04:00:00",
          "2021-04-23T20:24:00",
          "2021-06-29T12:48:00",
          "2021-09-04T05:12:00",
          "2021-11-09T21:36:00",
          "2022-01-15T14:00:00",
          "2022-03-23T06:24:00",
          "2022-05-28T22:48:00",
          "2022-08-03T15:12:00",
          "2022-10-09T07:36:00"
         ],
         "y": [
          17,
          17,
          30,
          17,
          16,
          18,
          14,
          16,
          17,
          10,
          16,
          18,
          19,
          13,
          10,
          15,
          18,
          19,
          18,
          16,
          10,
          26,
          9,
          19,
          12,
          20,
          22,
          16,
          19,
          26,
          23,
          8,
          22,
          19,
          17,
          23,
          19,
          14,
          17,
          26,
          16,
          19,
          21,
          20,
          15,
          24,
          20,
          20,
          16,
          21,
          17,
          19,
          19,
          11,
          17,
          17,
          15,
          28,
          16,
          14
         ]
        },
        {
         "hoverinfo": "text",
         "hovertext": [
          "<b>Topic 1</b><br>Words: banks, bank, cpp, financial, infusions",
          "<b>Topic 1</b><br>Words: banks, banking, regulation, bank, liquidity",
          "<b>Topic 1</b><br>Words: banks, bank, lending, checks, credit",
          "<b>Topic 1</b><br>Words: banks, loan, credit, lending, bank",
          "<b>Topic 1</b><br>Words: banks, bank, loan, borrowers, parent",
          "<b>Topic 1</b><br>Words: banks, bank, credit, injections, failures",
          "<b>Topic 1</b><br>Words: loans, banks, basel, farmers, bank",
          "<b>Topic 1</b><br>Words: banks, credit, bank, frictions, banking",
          "<b>Topic 1</b><br>Words: banks, credit, bank, sector, bidding",
          "<b>Topic 1</b><br>Words: interest, credit, loan, caps, increase",
          "<b>Topic 1</b><br>Words: complexity, banks, commitment, financial, banking",
          "<b>Topic 1</b><br>Words: credit, employment, firms, relationships, lehman",
          "<b>Topic 1</b><br>Words: regulators, banks, bank, banking, insurance",
          "<b>Topic 1</b><br>Words: banks, regulatory, lending, bank, outflows",
          "<b>Topic 1</b><br>Words: banks, uninsured, credit, deposit, runs",
          "<b>Topic 1</b><br>Words: bank, depositors, left, banks, right",
          "<b>Topic 1</b><br>Words: banks, bank, systemic, banking, size",
          "<b>Topic 1</b><br>Words: banks, bank, banking, credit, tarp",
          "<b>Topic 1</b><br>Words: banks, loans, capital, borrowers, bank",
          "<b>Topic 1</b><br>Words: banks, regulator, dollar, lending, bank",
          "<b>Topic 1</b><br>Words: bank, incentive, banks, pay, banking",
          "<b>Topic 1</b><br>Words: bank, risk, banks, riskmanagement, loan",
          "<b>Topic 1</b><br>Words: banks, lending, banking, capital, bonanzas",
          "<b>Topic 1</b><br>Words: banks, banking, bank, crises, financial",
          "<b>Topic 1</b><br>Words: banks, lending, bank, credit, borrowers",
          "<b>Topic 1</b><br>Words: capital, banks, requirements, regulation, based",
          "<b>Topic 1</b><br>Words: banks, credit, bank, financial, lending",
          "<b>Topic 1</b><br>Words: banks, bank, lending, cocos, banking",
          "<b>Topic 1</b><br>Words: credit, banks, borrowers, bank, information",
          "<b>Topic 1</b><br>Words: bank, requirements, idiosyncratic, 1990s, lending",
          "<b>Topic 1</b><br>Words: banks, lending, products, credit, headline",
          "<b>Topic 1</b><br>Words: banks, credit, bank, loan, borrowers",
          "<b>Topic 1</b><br>Words: banks, banking, bank, credit, lending",
          "<b>Topic 1</b><br>Words: banks, credit, banking, lending, smes",
          "<b>Topic 1</b><br>Words: banks, bank, credit, lending, financial",
          "<b>Topic 1</b><br>Words: banks, credit, employment, bank, financial",
          "<b>Topic 1</b><br>Words: banks, loans, lending, loan, bank",
          "<b>Topic 1</b><br>Words: bank, race, banks, bonus, credit",
          "<b>Topic 1</b><br>Words: banks, monetary, firms, borrowing, policy",
          "<b>Topic 1</b><br>Words: banks, credit, loans, bank, banking",
          "<b>Topic 1</b><br>Words: banks, bank, credit, lending, risk",
          "<b>Topic 1</b><br>Words: banks, credit, bank, financial, loan",
          "<b>Topic 1</b><br>Words: npl, banks, distress, banking, divestitures",
          "<b>Topic 1</b><br>Words: banks, bank, credit, tbtf, cash",
          "<b>Topic 1</b><br>Words: banks, information, credit, firm, banking",
          "<b>Topic 1</b><br>Words: banks, bank, banking, concentration, credit",
          "<b>Topic 1</b><br>Words: banks, bank, credit, labourers, banking",
          "<b>Topic 1</b><br>Words: banks, bank, credit, regulatory, risk",
          "<b>Topic 1</b><br>Words: banks, credit, bank, loans, banking",
          "<b>Topic 1</b><br>Words: banks, bank, banking, loans, dw",
          "<b>Topic 1</b><br>Words: court, consumers, credit, bank, settle",
          "<b>Topic 1</b><br>Words: banks, credit, lenders, platform, bank",
          "<b>Topic 1</b><br>Words: bank, banks, lending, banking, disclosure",
          "<b>Topic 1</b><br>Words: banks, bank, credit, loan, lending",
          "<b>Topic 1</b><br>Words: banks, lending, credit, loans, bank",
          "<b>Topic 1</b><br>Words: banks, credit, enrollment, banking, idr",
          "<b>Topic 1</b><br>Words: banks, bank, lending, loans, zones",
          "<b>Topic 1</b><br>Words: banks, bank, funding, lending, regulation",
          "<b>Topic 1</b><br>Words: banks, credit, cost, bank, brrd",
          "<b>Topic 1</b><br>Words: banks, bank, credit, lending, loans"
         ],
         "marker": {
          "color": "#56B4E9"
         },
         "mode": "lines",
         "name": "1_banks_bank_credit_lending",
         "type": "scatter",
         "x": [
          "2011-12-27T23:58:33.600000",
          "2012-03-07T16:24:00",
          "2012-05-13T08:48:00",
          "2012-07-19T01:12:00",
          "2012-09-23T17:36:00",
          "2012-11-29T10:00:00",
          "2013-02-04T02:24:00",
          "2013-04-11T18:48:00",
          "2013-06-17T11:12:00",
          "2013-08-23T03:36:00",
          "2013-10-28T20:00:00",
          "2014-01-03T12:24:00",
          "2014-03-11T04:48:00",
          "2014-05-16T21:12:00",
          "2014-07-22T13:36:00",
          "2014-09-27T06:00:00",
          "2014-12-02T22:24:00",
          "2015-02-07T14:48:00",
          "2015-04-15T07:12:00",
          "2015-06-20T23:36:00",
          "2015-08-26T16:00:00",
          "2015-11-01T08:24:00",
          "2016-01-07T00:48:00",
          "2016-03-13T17:12:00",
          "2016-05-19T09:36:00",
          "2016-07-25T02:00:00",
          "2016-09-29T18:24:00",
          "2016-12-05T10:48:00",
          "2017-02-10T03:12:00",
          "2017-04-17T19:36:00",
          "2017-06-23T12:00:00",
          "2017-08-29T04:24:00",
          "2017-11-03T20:48:00",
          "2018-01-09T13:12:00",
          "2018-03-17T05:36:00",
          "2018-05-22T22:00:00",
          "2018-07-28T14:24:00",
          "2018-10-03T06:48:00",
          "2018-12-08T23:12:00",
          "2019-02-13T15:36:00",
          "2019-04-21T08:00:00",
          "2019-06-27T00:24:00",
          "2019-09-01T16:48:00",
          "2019-11-07T09:12:00",
          "2020-01-13T01:36:00",
          "2020-03-19T18:00:00",
          "2020-05-25T10:24:00",
          "2020-07-31T02:48:00",
          "2020-10-05T19:12:00",
          "2020-12-11T11:36:00",
          "2021-02-16T04:00:00",
          "2021-04-23T20:24:00",
          "2021-06-29T12:48:00",
          "2021-09-04T05:12:00",
          "2021-11-09T21:36:00",
          "2022-01-15T14:00:00",
          "2022-03-23T06:24:00",
          "2022-05-28T22:48:00",
          "2022-08-03T15:12:00",
          "2022-10-09T07:36:00"
         ],
         "y": [
          7,
          6,
          11,
          6,
          8,
          4,
          4,
          7,
          4,
          2,
          4,
          2,
          7,
          5,
          4,
          4,
          5,
          12,
          5,
          4,
          3,
          5,
          6,
          10,
          14,
          2,
          7,
          6,
          10,
          2,
          8,
          7,
          11,
          11,
          8,
          8,
          8,
          4,
          4,
          14,
          11,
          8,
          4,
          7,
          3,
          6,
          10,
          8,
          9,
          8,
          2,
          9,
          9,
          12,
          10,
          6,
          5,
          12,
          5,
          12
         ]
        },
        {
         "hoverinfo": "text",
         "hovertext": [
          "<b>Topic 2</b><br>Words: estimator, methods, distribution, spatial, iie",
          "<b>Topic 2</b><br>Words: estimators, identified, semiparametric, moment, partially",
          "<b>Topic 2</b><br>Words: estimator, treatment, holdout, mse, mean",
          "<b>Topic 2</b><br>Words: asymptotic, estimators, estimator, estimation, test",
          "<b>Topic 2</b><br>Words: estimator, estimation, regressor, fixed, ssp",
          "<b>Topic 2</b><br>Words: models, estimator, spatial, estimation, regression",
          "<b>Topic 2</b><br>Words: models, estimator, panel, semiparametric, bounds",
          "<b>Topic 2</b><br>Words: models, nonparametric, treatment, method, estimator",
          "<b>Topic 2</b><br>Words: samples, estimates, variables, bootstrap, explanatory",
          "<b>Topic 2</b><br>Words: estimator, treatment, covariance, estimators, mts",
          "<b>Topic 2</b><br>Words: test, locations, yamagata, teimouri, nadarajah",
          "<b>Topic 2</b><br>Words: estimator, moment, models, estimators, class",
          "<b>Topic 2</b><br>Words: treatment, inference, estimator, asymptotic, class",
          "<b>Topic 2</b><br>Words: estimator, test, serially, estimators, section",
          "<b>Topic 2</b><br>Words: models, spatial, parametric, distributional, sacd",
          "<b>Topic 2</b><br>Words: test, li, estimator, problem, moments",
          "<b>Topic 2</b><br>Words: simulator, ghk, probit, multivariate, estimator",
          "<b>Topic 2</b><br>Words: ftest, spatial, asymptotically, qml, estimator",
          "<b>Topic 2</b><br>Words: estimator, treatment, variables, pma, inference",
          "<b>Topic 2</b><br>Words: estimators, jackknife, bias, effects, intervals",
          "<b>Topic 2</b><br>Words: aicc, aic, average, estimator, estimators",
          "<b>Topic 2</b><br>Words: treatment, effect, test, models, error",
          "<b>Topic 2</b><br>Words: ranking, identification, gmm, treatment, ahn",
          "<b>Topic 2</b><br>Words: estimator, asymptotic, probit, steinlike, error",
          "<b>Topic 2</b><br>Words: error, mean, lag, models, conditional",
          "<b>Topic 2</b><br>Words: estimator, treatment, ts2sls, approach, asymptotically",
          "<b>Topic 2</b><br>Words: test, estimator, distribution, data, asymptotic",
          "<b>Topic 2</b><br>Words: dcs, models, proxy, conditional, heteroscedasticity",
          "<b>Topic 2</b><br>Words: estimator, identification, discuss, methods, tpm",
          "<b>Topic 2</b><br>Words: treatment, estimation, procedure, settings, test",
          "<b>Topic 2</b><br>Words: test, bootstrap, error, asymptotic, clusters",
          "<b>Topic 2</b><br>Words: samples, bias, logit, distribution, problem",
          "<b>Topic 2</b><br>Words: effects, models, measure, test, poisson",
          "<b>Topic 2</b><br>Words: treatment, estimators, estimator, models, test",
          "<b>Topic 2</b><br>Words: estimator, regression, treatment, models, identification",
          "<b>Topic 2</b><br>Words: estimator, approximations, omd, bias, main",
          "<b>Topic 2</b><br>Words: estimators, number, estimator, test, treatment",
          "<b>Topic 2</b><br>Words: test, models, css, sets, asymptotic",
          "<b>Topic 2</b><br>Words: phi, bias, secondorder, estimators, regression",
          "<b>Topic 2</b><br>Words: estimator, estimators, estimates, iv, errors",
          "<b>Topic 2</b><br>Words: estimator, regularization, estimation, inference, asymptotic",
          "<b>Topic 2</b><br>Words: error, test, spatial, estimator, measurement",
          "<b>Topic 2</b><br>Words: inequalities, panel, restriction, honore, data",
          "<b>Topic 2</b><br>Words: mte, quantile, treatment, gradient, estimator",
          "<b>Topic 2</b><br>Words: regression, estimator, test, designbased, errors",
          "<b>Topic 2</b><br>Words: panel, error, estimator, estimators, estimation",
          "<b>Topic 2</b><br>Words: bootstrap, estimator, model, sample, ivs",
          "<b>Topic 2</b><br>Words: estimator, estimators, linear, distribution, test",
          "<b>Topic 2</b><br>Words: quantile, squares, spatial, estimator, averaging",
          "<b>Topic 2</b><br>Words: estimators, deep, estimator, expectile, establish",
          "<b>Topic 2</b><br>Words: estimator, treatment, regression, model, erps",
          "<b>Topic 2</b><br>Words: estimator, md, estimators, asymptotic, estimation",
          "<b>Topic 2</b><br>Words: computing, grids, vastly, approaches, grid",
          "<b>Topic 2</b><br>Words: kernel, frontiers, assumption, estimator, choices",
          "<b>Topic 2</b><br>Words: estimator, 2sls, monotonicity, weighted, condition",
          "<b>Topic 2</b><br>Words: 1997, mullahy, windmeijer, panels, estimators",
          "<b>Topic 2</b><br>Words: tests, quasibayes, phacking, restrictions, estimator",
          "<b>Topic 2</b><br>Words: steps, functions, moment, estimators, orthogonal",
          "<b>Topic 2</b><br>Words: estimator, estimators, jump, asymptotic, discontinuity",
          "<b>Topic 2</b><br>Words: estimator, ebcis, treatment, method, means"
         ],
         "marker": {
          "color": "#009E73"
         },
         "mode": "lines",
         "name": "2_estimator_treatment_estimators_models",
         "type": "scatter",
         "x": [
          "2011-12-27T23:58:33.600000",
          "2012-03-07T16:24:00",
          "2012-05-13T08:48:00",
          "2012-07-19T01:12:00",
          "2012-09-23T17:36:00",
          "2012-11-29T10:00:00",
          "2013-02-04T02:24:00",
          "2013-04-11T18:48:00",
          "2013-06-17T11:12:00",
          "2013-08-23T03:36:00",
          "2013-10-28T20:00:00",
          "2014-01-03T12:24:00",
          "2014-03-11T04:48:00",
          "2014-05-16T21:12:00",
          "2014-07-22T13:36:00",
          "2014-09-27T06:00:00",
          "2014-12-02T22:24:00",
          "2015-02-07T14:48:00",
          "2015-04-15T07:12:00",
          "2015-06-20T23:36:00",
          "2015-08-26T16:00:00",
          "2015-11-01T08:24:00",
          "2016-01-07T00:48:00",
          "2016-03-13T17:12:00",
          "2016-05-19T09:36:00",
          "2016-07-25T02:00:00",
          "2016-09-29T18:24:00",
          "2016-12-05T10:48:00",
          "2017-02-10T03:12:00",
          "2017-04-17T19:36:00",
          "2017-06-23T12:00:00",
          "2017-08-29T04:24:00",
          "2017-11-03T20:48:00",
          "2018-01-09T13:12:00",
          "2018-03-17T05:36:00",
          "2018-05-22T22:00:00",
          "2018-07-28T14:24:00",
          "2018-10-03T06:48:00",
          "2018-12-08T23:12:00",
          "2019-02-13T15:36:00",
          "2019-04-21T08:00:00",
          "2019-06-27T00:24:00",
          "2019-09-01T16:48:00",
          "2019-11-07T09:12:00",
          "2020-01-13T01:36:00",
          "2020-03-19T18:00:00",
          "2020-05-25T10:24:00",
          "2020-07-31T02:48:00",
          "2020-10-05T19:12:00",
          "2020-12-11T11:36:00",
          "2021-02-16T04:00:00",
          "2021-04-23T20:24:00",
          "2021-06-29T12:48:00",
          "2021-09-04T05:12:00",
          "2021-11-09T21:36:00",
          "2022-01-15T14:00:00",
          "2022-03-23T06:24:00",
          "2022-05-28T22:48:00",
          "2022-08-03T15:12:00",
          "2022-10-09T07:36:00"
         ],
         "y": [
          12,
          6,
          6,
          15,
          8,
          12,
          6,
          10,
          4,
          6,
          6,
          5,
          8,
          4,
          4,
          7,
          6,
          6,
          10,
          2,
          2,
          7,
          2,
          3,
          5,
          7,
          10,
          4,
          7,
          9,
          9,
          3,
          4,
          9,
          10,
          2,
          8,
          7,
          4,
          5,
          6,
          5,
          6,
          5,
          9,
          7,
          8,
          11,
          3,
          7,
          10,
          10,
          2,
          3,
          3,
          1,
          7,
          2,
          4,
          8
         ]
        },
        {
         "hoverinfo": "text",
         "hovertext": [
          "<b>Topic 3</b><br>Words: inflation, policy, monetary, federal, output",
          "<b>Topic 3</b><br>Words: keynesian, inflation, new, marginal, phillips",
          "<b>Topic 3</b><br>Words: inflation, policy, monetary, keynes, passive",
          "<b>Topic 3</b><br>Words: inflation, skill, policy, heterogeneity, monetary",
          "<b>Topic 3</b><br>Words: inflation, policy, monetary, nominal, taylor",
          "<b>Topic 3</b><br>Words: inflation, policy, monetary, rate, central",
          "<b>Topic 3</b><br>Words: policy, bifurcation, monetary, inflation, inventories",
          "<b>Topic 3</b><br>Words: inflation, committee, meeting, policy, rousseau",
          "<b>Topic 3</b><br>Words: disinflations, rate, policy, rule, monetary",
          "<b>Topic 3</b><br>Words: inflation, policy, banks, monetary, central",
          "<b>Topic 3</b><br>Words: eurodollar, flattening, fomc, interest, explicit",
          "<b>Topic 3</b><br>Words: inflation, gap, level, keynesian, discretion",
          "<b>Topic 3</b><br>Words: inflation, rpv, riv, signals, price",
          "<b>Topic 3</b><br>Words: dissents, decisionmaking, voting, regressions, help",
          "<b>Topic 3</b><br>Words: inflation, monetary, policy, members, trend",
          "<b>Topic 3</b><br>Words: inflation, phillips, curve, target, expectations",
          "<b>Topic 3</b><br>Words: inflation, policy, monetary, costpush, unemployment",
          "<b>Topic 3</b><br>Words: inflation, domestic, growth, monetary, welfare",
          "<b>Topic 3</b><br>Words: policy, modest, guidance, forward, intervention",
          "<b>Topic 3</b><br>Words: inflation, linex, new, price, central",
          "<b>Topic 3</b><br>Words: inflation, policy, expectations, zlb, money",
          "<b>Topic 3</b><br>Words: fomc, inflation, released, economic, ramsey",
          "<b>Topic 3</b><br>Words: inflation, official, estimates, occasional, overstated",
          "<b>Topic 3</b><br>Words: inflation, persistently, low, undesirably, macroeconomic",
          "<b>Topic 3</b><br>Words: inflation, policy, monetary, central, guidance",
          "<b>Topic 3</b><br>Words: inflation, policy, target, expectations, learning",
          "<b>Topic 3</b><br>Words: inflation, local, taken, decisions, expectations",
          "<b>Topic 3</b><br>Words: inflation, sources, nonstabilization, monetary, policy",
          "<b>Topic 3</b><br>Words: consumers, convergent, debtbased, escaping, nonricardian",
          "<b>Topic 3</b><br>Words: inflation, entry, variability, rate, growth",
          "<b>Topic 3</b><br>Words: inflation, disinflation, credibility, policy, sacrifice",
          "<b>Topic 3</b><br>Words: inflation, unemployment, wpc, trend, wage",
          "<b>Topic 3</b><br>Words: keynesian, inflation, new, policy, productive",
          "<b>Topic 3</b><br>Words: inflation, policy, monetary, central, model",
          "<b>Topic 3</b><br>Words: friedman, inflation, monetary, policy, rate",
          "<b>Topic 3</b><br>Words: inflation, trend, policy, rate, monetary",
          "<b>Topic 3</b><br>Words: inflation, guidance, policy, rate, forward",
          "<b>Topic 3</b><br>Words: inflation, policy, guidance, forward, monetary",
          "<b>Topic 3</b><br>Words: news, nonmonetary, inflation, policy, monetary",
          "<b>Topic 3</b><br>Words: services, inflation, policy, monetary, intermediates",
          "<b>Topic 3</b><br>Words: inflation, minimum, wage, policy, output",
          "<b>Topic 3</b><br>Words: policy, inflation, guidance, forward, monetary",
          "<b>Topic 3</b><br>Words: policy, monetary, inflation, production, friction",
          "<b>Topic 3</b><br>Words: inflation, policy, monetary, interestrate, central",
          "<b>Topic 3</b><br>Words: inflation, optimal, policy, phillips, taylor",
          "<b>Topic 3</b><br>Words: inflation, policy, determinacy, monetary, output",
          "<b>Topic 3</b><br>Words: inflation, policy, monetary, guidance, passive",
          "<b>Topic 3</b><br>Words: inflation, wage, policy, output, monetary",
          "<b>Topic 3</b><br>Words: wage, tone, fomc, inflation, labor",
          "<b>Topic 3</b><br>Words: policy, inflation, monetary, growth, price",
          "<b>Topic 3</b><br>Words: inflation, policy, monetary, presidents, target",
          "<b>Topic 3</b><br>Words: inflation, dissent, ecb, expectations, anchored",
          "<b>Topic 3</b><br>Words: inflation, policy, central, monetary, entry",
          "<b>Topic 3</b><br>Words: shilnikov, chaos, inflation, policy, linearized",
          "<b>Topic 3</b><br>Words: debate, debates, rules, discretion, versus",
          "<b>Topic 3</b><br>Words: inflation, policy, central, monetary, bank",
          "<b>Topic 3</b><br>Words: inflation, monetary, policy, phillips, model",
          "<b>Topic 3</b><br>Words: inflation, low, nominal, monetary, frictions"
         ],
         "marker": {
          "color": "#F0E442"
         },
         "mode": "lines",
         "name": "3_inflation_policy_monetary_central",
         "type": "scatter",
         "x": [
          "2011-12-27T23:58:33.600000",
          "2012-03-07T16:24:00",
          "2012-05-13T08:48:00",
          "2012-07-19T01:12:00",
          "2012-09-23T17:36:00",
          "2012-11-29T10:00:00",
          "2013-02-04T02:24:00",
          "2013-04-11T18:48:00",
          "2013-06-17T11:12:00",
          "2013-08-23T03:36:00",
          "2013-10-28T20:00:00",
          "2014-01-03T12:24:00",
          "2014-03-11T04:48:00",
          "2014-07-22T13:36:00",
          "2014-09-27T06:00:00",
          "2014-12-02T22:24:00",
          "2015-02-07T14:48:00",
          "2015-06-20T23:36:00",
          "2015-08-26T16:00:00",
          "2015-11-01T08:24:00",
          "2016-01-07T00:48:00",
          "2016-03-13T17:12:00",
          "2016-05-19T09:36:00",
          "2016-07-25T02:00:00",
          "2016-09-29T18:24:00",
          "2016-12-05T10:48:00",
          "2017-02-10T03:12:00",
          "2017-04-17T19:36:00",
          "2017-06-23T12:00:00",
          "2017-08-29T04:24:00",
          "2017-11-03T20:48:00",
          "2018-01-09T13:12:00",
          "2018-03-17T05:36:00",
          "2018-05-22T22:00:00",
          "2018-07-28T14:24:00",
          "2018-10-03T06:48:00",
          "2018-12-08T23:12:00",
          "2019-02-13T15:36:00",
          "2019-04-21T08:00:00",
          "2019-06-27T00:24:00",
          "2019-09-01T16:48:00",
          "2019-11-07T09:12:00",
          "2020-01-13T01:36:00",
          "2020-03-19T18:00:00",
          "2020-05-25T10:24:00",
          "2020-07-31T02:48:00",
          "2020-10-05T19:12:00",
          "2020-12-11T11:36:00",
          "2021-02-16T04:00:00",
          "2021-04-23T20:24:00",
          "2021-06-29T12:48:00",
          "2021-09-04T05:12:00",
          "2021-11-09T21:36:00",
          "2022-01-15T14:00:00",
          "2022-03-23T06:24:00",
          "2022-05-28T22:48:00",
          "2022-08-03T15:12:00",
          "2022-10-09T07:36:00"
         ],
         "y": [
          4,
          3,
          9,
          4,
          9,
          5,
          3,
          6,
          2,
          4,
          1,
          3,
          5,
          1,
          7,
          4,
          5,
          2,
          2,
          4,
          5,
          2,
          2,
          1,
          9,
          5,
          3,
          4,
          1,
          2,
          3,
          4,
          2,
          4,
          6,
          7,
          4,
          6,
          3,
          4,
          5,
          16,
          3,
          6,
          5,
          4,
          7,
          7,
          3,
          4,
          3,
          2,
          5,
          2,
          1,
          4,
          6,
          2
         ]
        },
        {
         "hoverinfo": "text",
         "hovertext": [
          "<b>Topic 4</b><br>Words: housing, price, boom, prices, house",
          "<b>Topic 4</b><br>Words: housing, mortgage, homeownership, unemployment, labour",
          "<b>Topic 4</b><br>Words: housing, buildings, green, differences, among",
          "<b>Topic 4</b><br>Words: housing, wealth, prepayment, sales, house",
          "<b>Topic 4</b><br>Words: house, housing, prices, locations, rents",
          "<b>Topic 4</b><br>Words: subsidy, mortgage, households, housing, foreclosure",
          "<b>Topic 4</b><br>Words: house, housing, prices, globalization, mortgage",
          "<b>Topic 4</b><br>Words: house, housing, prices, buyers, houses",
          "<b>Topic 4</b><br>Words: housing, units, residential, cambridge, prices",
          "<b>Topic 4</b><br>Words: house, housing, prices, modification, mortgage",
          "<b>Topic 4</b><br>Words: housing, mid, delays, homeownership, house",
          "<b>Topic 4</b><br>Words: housing, mortgages, securitization, market, seasonality",
          "<b>Topic 4</b><br>Words: housing, house, mortgage, prices, income",
          "<b>Topic 4</b><br>Words: sellers, informed, neighborhood, buyers, put",
          "<b>Topic 4</b><br>Words: homeowners, house, mobility, housing, labor",
          "<b>Topic 4</b><br>Words: housing, house, foreclosures, nonjudicial, judicial",
          "<b>Topic 4</b><br>Words: house, secondhouse, outoftown, expectation, housing",
          "<b>Topic 4</b><br>Words: housing, house, prices, homeownership, mortgage",
          "<b>Topic 4</b><br>Words: mortgage, borrowers, house, housing, prices",
          "<b>Topic 4</b><br>Words: housing, house, harp, market, failure",
          "<b>Topic 4</b><br>Words: housing, default, mortgage, debt, kink",
          "<b>Topic 4</b><br>Words: housing, estate, mortgages, mortgage, real",
          "<b>Topic 4</b><br>Words: housing, house, mortgage, household, prices",
          "<b>Topic 4</b><br>Words: housing, mortgage, house, buildings, income",
          "<b>Topic 4</b><br>Words: stringency, house, housing, chinese, far",
          "<b>Topic 4</b><br>Words: housing, designation, homeowners, mortgages, conservation",
          "<b>Topic 4</b><br>Words: housing, house, mortgage, earlytomid, modification",
          "<b>Topic 4</b><br>Words: housing, mortgage, tax, house, prices",
          "<b>Topic 4</b><br>Words: housing, house, proposition, prices, collateral",
          "<b>Topic 4</b><br>Words: house, housing, price, mortgage, concave",
          "<b>Topic 4</b><br>Words: housing, homeownership, mortgage, prices, house",
          "<b>Topic 4</b><br>Words: housing, house, land, mortgage, price",
          "<b>Topic 4</b><br>Words: housing, 20102014, msas, downpayment, rental",
          "<b>Topic 4</b><br>Words: housing, regional, house, regions, prices",
          "<b>Topic 4</b><br>Words: house, housing, prices, lihtc, shocks",
          "<b>Topic 4</b><br>Words: housing, home, house, price, prices",
          "<b>Topic 4</b><br>Words: house, price, individuals, adjustablerate, mortgage",
          "<b>Topic 4</b><br>Words: homebuyers, mortgage, mortality, housing, house",
          "<b>Topic 4</b><br>Words: housing, segments, searchers, broad, search",
          "<b>Topic 4</b><br>Words: property, eis, housing, residential, mortgage",
          "<b>Topic 4</b><br>Words: housing, foreclosures, homes, refinancing, mortgage",
          "<b>Topic 4</b><br>Words: housing, house, refinancing, prices, enfranchisement",
          "<b>Topic 4</b><br>Words: housing, house, mortgage, refinancing, prices",
          "<b>Topic 4</b><br>Words: housing, mortgage, house, mortgages, homeownership",
          "<b>Topic 4</b><br>Words: housing, house, prices, mortgage, land",
          "<b>Topic 4</b><br>Words: house, hedonic, housing, prices, aversion",
          "<b>Topic 4</b><br>Words: housing, house, estate, prices, risk",
          "<b>Topic 4</b><br>Words: housing, house, mortgage, prices, oot",
          "<b>Topic 4</b><br>Words: mortgages, mortgage, lenders, riskweighted, wave",
          "<b>Topic 4</b><br>Words: housing, mortgage, house, mortgages, boom",
          "<b>Topic 4</b><br>Words: housing, mortgages, stickiness, arrears, mortgage",
          "<b>Topic 4</b><br>Words: housing, home, homeowners, house, mortgage",
          "<b>Topic 4</b><br>Words: house, housing, prices, price, residential",
          "<b>Topic 4</b><br>Words: housing, gains, reference, house, mortgage"
         ],
         "marker": {
          "color": "#D55E00"
         },
         "mode": "lines",
         "name": "4_housing_house_mortgage_prices",
         "type": "scatter",
         "x": [
          "2012-05-13T08:48:00",
          "2012-09-23T17:36:00",
          "2013-02-04T02:24:00",
          "2013-04-11T18:48:00",
          "2013-08-23T03:36:00",
          "2013-10-28T20:00:00",
          "2014-01-03T12:24:00",
          "2014-03-11T04:48:00",
          "2014-05-16T21:12:00",
          "2014-07-22T13:36:00",
          "2014-09-27T06:00:00",
          "2014-12-02T22:24:00",
          "2015-02-07T14:48:00",
          "2015-06-20T23:36:00",
          "2015-08-26T16:00:00",
          "2015-11-01T08:24:00",
          "2016-01-07T00:48:00",
          "2016-03-13T17:12:00",
          "2016-05-19T09:36:00",
          "2016-07-25T02:00:00",
          "2016-09-29T18:24:00",
          "2016-12-05T10:48:00",
          "2017-02-10T03:12:00",
          "2017-04-17T19:36:00",
          "2017-06-23T12:00:00",
          "2017-08-29T04:24:00",
          "2017-11-03T20:48:00",
          "2018-01-09T13:12:00",
          "2018-03-17T05:36:00",
          "2018-05-22T22:00:00",
          "2018-07-28T14:24:00",
          "2018-10-03T06:48:00",
          "2018-12-08T23:12:00",
          "2019-02-13T15:36:00",
          "2019-04-21T08:00:00",
          "2019-06-27T00:24:00",
          "2019-09-01T16:48:00",
          "2019-11-07T09:12:00",
          "2020-01-13T01:36:00",
          "2020-03-19T18:00:00",
          "2020-05-25T10:24:00",
          "2020-07-31T02:48:00",
          "2020-10-05T19:12:00",
          "2020-12-11T11:36:00",
          "2021-02-16T04:00:00",
          "2021-04-23T20:24:00",
          "2021-06-29T12:48:00",
          "2021-09-04T05:12:00",
          "2021-11-09T21:36:00",
          "2022-01-15T14:00:00",
          "2022-03-23T06:24:00",
          "2022-05-28T22:48:00",
          "2022-08-03T15:12:00",
          "2022-10-09T07:36:00"
         ],
         "y": [
          8,
          4,
          4,
          5,
          3,
          1,
          3,
          4,
          3,
          3,
          4,
          4,
          8,
          2,
          1,
          5,
          2,
          9,
          4,
          3,
          7,
          5,
          6,
          6,
          3,
          3,
          5,
          7,
          3,
          2,
          6,
          6,
          2,
          3,
          4,
          6,
          2,
          3,
          3,
          3,
          5,
          4,
          7,
          11,
          8,
          3,
          6,
          7,
          2,
          6,
          2,
          4,
          4,
          3
         ]
        },
        {
         "hoverinfo": "text",
         "hovertext": [
          "<b>Topic 5</b><br>Words: forecasts, resemblance, 19822009, directionally, bandpass",
          "<b>Topic 5</b><br>Words: sign, structural, patterns, reduced, form",
          "<b>Topic 5</b><br>Words: forecasts, model, forecasting, component, methods",
          "<b>Topic 5</b><br>Words: tests, breaks, cointegration, 1996a, hatemij",
          "<b>Topic 5</b><br>Words: model, rationality, estimation, forecast, econometric",
          "<b>Topic 5</b><br>Words: forecasts, forecasting, dgmdh, data, based",
          "<b>Topic 5</b><br>Words: fivar, forecasting, behavior, forecasts, professional",
          "<b>Topic 5</b><br>Words: models, samples, seasonal, forecasting, forecasts",
          "<b>Topic 5</b><br>Words: forecast, indicators, revisions, business, surveys",
          "<b>Topic 5</b><br>Words: bma, forecast, indicators, work, united",
          "<b>Topic 5</b><br>Words: forecasting, models, data, forecasts, forecast",
          "<b>Topic 5</b><br>Words: forecasts, survey, calibrations, algorithms, adjusted",
          "<b>Topic 5</b><br>Words: io, tables, forecasts, forecasting, model",
          "<b>Topic 5</b><br>Words: models, fractional, dsge, forecasting, cointegration",
          "<b>Topic 5</b><br>Words: forecasting, forecasts, security, administration, social",
          "<b>Topic 5</b><br>Words: forecasts, cointegration, ranking, test, ttype",
          "<b>Topic 5</b><br>Words: models, martingale, bayesian, series, var",
          "<b>Topic 5</b><br>Words: realtime, forecasting, arimax, h1, world",
          "<b>Topic 5</b><br>Words: rds, transformations, models, parameters, observationdriven",
          "<b>Topic 5</b><br>Words: hp, filter, representation, approximation, justification",
          "<b>Topic 5</b><br>Words: cns, svar, cogleynasonsims, montecarlo, approach",
          "<b>Topic 5</b><br>Words: forecasts, studentst, gdp, growth, forecast",
          "<b>Topic 5</b><br>Words: holtimsvr, hybrid, forecasting, holti, highs",
          "<b>Topic 5</b><br>Words: forecasting, pictures, series, dma, models",
          "<b>Topic 5</b><br>Words: model, growth, forecast, accuracy, longrun",
          "<b>Topic 5</b><br>Words: models, dsge, forecasts, identification, varma",
          "<b>Topic 5</b><br>Words: coefficients, components, data, accuracy, time",
          "<b>Topic 5</b><br>Words: econometric, lar, jpe, forecast, models",
          "<b>Topic 5</b><br>Words: forecasts, mixedfrequency, affine, cpi, loss",
          "<b>Topic 5</b><br>Words: parameterization, posterior, conjugate, uniformnormalinversewishart, normalgeneralizednormal",
          "<b>Topic 5</b><br>Words: multipredictor, phillips, inflation, wn, integrated",
          "<b>Topic 5</b><br>Words: forests, forecasts, random, optimality, institutes",
          "<b>Topic 5</b><br>Words: io, forecast, forecasts, data, forecasting",
          "<b>Topic 5</b><br>Words: gpumidas, forecasting, umidas, model, growth",
          "<b>Topic 5</b><br>Words: forecasts, series, tests, scan, time",
          "<b>Topic 5</b><br>Words: lp, slp, ir, ardl, estimation",
          "<b>Topic 5</b><br>Words: forecasting, forecast, multiscale, decomposition, ensemble",
          "<b>Topic 5</b><br>Words: plan, business, approaches, judges, dataset",
          "<b>Topic 5</b><br>Words: forecast, forecasts, predictor, epus, misspecification",
          "<b>Topic 5</b><br>Words: mfvars, methods, frequency, data, midassvar",
          "<b>Topic 5</b><br>Words: forecasts, method, mf, ets, time",
          "<b>Topic 5</b><br>Words: base, descriptive, informativeness, reader, worstcase",
          "<b>Topic 5</b><br>Words: model, method, structural, forecasts, forecasting",
          "<b>Topic 5</b><br>Words: tourism, accounting, forecasting, factor, forecast",
          "<b>Topic 5</b><br>Words: models, forecasting, exponential, smoothing, term",
          "<b>Topic 5</b><br>Words: tvpvarx, neutrality, forecasting, multipliers, parameters",
          "<b>Topic 5</b><br>Words: decision, haavelmo, statistical, wald, forecasts",
          "<b>Topic 5</b><br>Words: economics, journal, topics, economic, trigram",
          "<b>Topic 5</b><br>Words: descriptive, modelbased, analysis, cspa, forecasting",
          "<b>Topic 5</b><br>Words: forecasts, bpm, arctic, distortions, ice",
          "<b>Topic 5</b><br>Words: restrictions, structural, inference, reducedform, vars",
          "<b>Topic 5</b><br>Words: revisions, var, personal, saving, forecasts"
         ],
         "marker": {
          "color": "#0072B2"
         },
         "mode": "lines",
         "name": "5_forecasts_forecasting_models_forecast",
         "type": "scatter",
         "x": [
          "2011-12-27T23:58:33.600000",
          "2012-03-07T16:24:00",
          "2012-05-13T08:48:00",
          "2012-07-19T01:12:00",
          "2012-09-23T17:36:00",
          "2012-11-29T10:00:00",
          "2013-02-04T02:24:00",
          "2013-06-17T11:12:00",
          "2013-08-23T03:36:00",
          "2013-10-28T20:00:00",
          "2014-01-03T12:24:00",
          "2014-05-16T21:12:00",
          "2014-09-27T06:00:00",
          "2014-12-02T22:24:00",
          "2015-02-07T14:48:00",
          "2015-04-15T07:12:00",
          "2015-06-20T23:36:00",
          "2015-11-01T08:24:00",
          "2016-01-07T00:48:00",
          "2016-03-13T17:12:00",
          "2016-07-25T02:00:00",
          "2016-09-29T18:24:00",
          "2016-12-05T10:48:00",
          "2017-02-10T03:12:00",
          "2017-04-17T19:36:00",
          "2017-06-23T12:00:00",
          "2017-08-29T04:24:00",
          "2017-11-03T20:48:00",
          "2018-01-09T13:12:00",
          "2018-03-17T05:36:00",
          "2018-05-22T22:00:00",
          "2018-07-28T14:24:00",
          "2018-10-03T06:48:00",
          "2018-12-08T23:12:00",
          "2019-04-21T08:00:00",
          "2019-06-27T00:24:00",
          "2019-09-01T16:48:00",
          "2019-11-07T09:12:00",
          "2020-01-13T01:36:00",
          "2020-05-25T10:24:00",
          "2020-07-31T02:48:00",
          "2020-10-05T19:12:00",
          "2020-12-11T11:36:00",
          "2021-02-16T04:00:00",
          "2021-04-23T20:24:00",
          "2021-06-29T12:48:00",
          "2021-11-09T21:36:00",
          "2022-01-15T14:00:00",
          "2022-03-23T06:24:00",
          "2022-05-28T22:48:00",
          "2022-08-03T15:12:00",
          "2022-10-09T07:36:00"
         ],
         "y": [
          2,
          2,
          4,
          2,
          3,
          8,
          2,
          7,
          2,
          1,
          8,
          1,
          7,
          4,
          4,
          4,
          5,
          3,
          4,
          1,
          1,
          2,
          1,
          4,
          4,
          6,
          1,
          3,
          2,
          1,
          2,
          1,
          6,
          4,
          3,
          3,
          3,
          2,
          4,
          3,
          4,
          2,
          5,
          2,
          3,
          1,
          3,
          2,
          2,
          2,
          2,
          2
         ]
        },
        {
         "hoverinfo": "text",
         "hovertext": [
          "<b>Topic 6</b><br>Words: fiscal, spending, defense, government, debt",
          "<b>Topic 6</b><br>Words: fiscal, government, spending, confidence, limits",
          "<b>Topic 6</b><br>Words: spending, government, financed, fiscal, world",
          "<b>Topic 6</b><br>Words: spending, fiscal, government, shortrun, adjustment",
          "<b>Topic 6</b><br>Words: fiscal, spending, discretionary, public, policy",
          "<b>Topic 6</b><br>Words: fiscal, would, spending, government, policy",
          "<b>Topic 6</b><br>Words: multipliers, fiscal, government, spending, unity",
          "<b>Topic 6</b><br>Words: fiscal, spending, discretionary, government, policy",
          "<b>Topic 6</b><br>Words: fiscal, government, gsm, tax, transfers",
          "<b>Topic 6</b><br>Words: fiscal, government, expenditure, spending, mr",
          "<b>Topic 6</b><br>Words: multiplier, fiscal, durable, spending, government",
          "<b>Topic 6</b><br>Words: fiscal, consolidation, expansionary, effects, overstating",
          "<b>Topic 6</b><br>Words: fiscal, spending, government, rule, trap",
          "<b>Topic 6</b><br>Words: expenditure, multiplier, government, dollar, us",
          "<b>Topic 6</b><br>Words: target, debt, unknown, tax, fiscal",
          "<b>Topic 6</b><br>Words: fiscal, taxbased, spending, adjustments, simulation",
          "<b>Topic 6</b><br>Words: fiscal, government, spending, policy, tax",
          "<b>Topic 6</b><br>Words: fiscal, resource, revenues, government, debt",
          "<b>Topic 6</b><br>Words: fiscal, government, spending, unemployment, shocks",
          "<b>Topic 6</b><br>Words: spending, fiscal, government, public, effects",
          "<b>Topic 6</b><br>Words: fiscal, multiplier, spending, government, smallscale",
          "<b>Topic 6</b><br>Words: fiscal, rules, spanish, euroarea, government",
          "<b>Topic 6</b><br>Words: fiscal, government, taxes, spending, policy",
          "<b>Topic 6</b><br>Words: fiscal, government, spending, multipliers, rule",
          "<b>Topic 6</b><br>Words: multipliers, fiscal, spending, posterior, government",
          "<b>Topic 6</b><br>Words: fiscal, premodern, government, states, multiplier",
          "<b>Topic 6</b><br>Words: fiscal, multipliers, governments, runs, spending",
          "<b>Topic 6</b><br>Words: spending, government, fiscal, multiplier, shock",
          "<b>Topic 6</b><br>Words: government, multipliers, expenditures, spending, slack",
          "<b>Topic 6</b><br>Words: fiscal, government, public, laffer, lics",
          "<b>Topic 6</b><br>Words: rules, fiscal, government, consumption, public",
          "<b>Topic 6</b><br>Words: fiscal, durablegood, policy, transmission, key",
          "<b>Topic 6</b><br>Words: fiscal, policy, ambiguity, spending, rates",
          "<b>Topic 6</b><br>Words: fiscal, austerity, plans, taxbased, government",
          "<b>Topic 6</b><br>Words: fiscal, government, multiplier, programs, svar",
          "<b>Topic 6</b><br>Words: low, interest, rates, fiscal, debt",
          "<b>Topic 6</b><br>Words: fiscal, fertility, saving, spending, public",
          "<b>Topic 6</b><br>Words: multipliers, fiscal, policy, output, shortterm",
          "<b>Topic 6</b><br>Words: fiscal, government, rules, ratio, consolidations",
          "<b>Topic 6</b><br>Words: fiscal, states, sustainability, multipliers, expenditure",
          "<b>Topic 6</b><br>Words: fiscal, model, mtff, mediumterm, plans",
          "<b>Topic 6</b><br>Words: fiscal, position, weak, multipliers, stimulus",
          "<b>Topic 6</b><br>Words: fiscal, government, stimulus, multiplier, multipliers",
          "<b>Topic 6</b><br>Words: fiscal, consolidation, targets, iiau, trump",
          "<b>Topic 6</b><br>Words: separation, optimal, extraction, principle, signal",
          "<b>Topic 6</b><br>Words: stimulus, transfers, fiscal, debt, effects",
          "<b>Topic 6</b><br>Words: fiscal, inequality, restrictions, spending, revenuebased",
          "<b>Topic 6</b><br>Words: fiscal, rules, spending, multipliers, opposition",
          "<b>Topic 6</b><br>Words: fiscal, spending, government, steady, state",
          "<b>Topic 6</b><br>Words: government, fiscal, retroactive, multipliers, financing",
          "<b>Topic 6</b><br>Words: multipliers, fiscal, financing, local, transfer",
          "<b>Topic 6</b><br>Words: public, fiscal, government, life, spending",
          "<b>Topic 6</b><br>Words: multipliers, supplydriven, demanddriven, fiscal, spending"
         ],
         "marker": {
          "color": "#CC79A7"
         },
         "mode": "lines",
         "name": "6_fiscal_government_spending_multipliers",
         "type": "scatter",
         "x": [
          "2011-12-27T23:58:33.600000",
          "2012-03-07T16:24:00",
          "2012-05-13T08:48:00",
          "2012-09-23T17:36:00",
          "2012-11-29T10:00:00",
          "2013-02-04T02:24:00",
          "2013-04-11T18:48:00",
          "2013-06-17T11:12:00",
          "2013-08-23T03:36:00",
          "2014-01-03T12:24:00",
          "2014-03-11T04:48:00",
          "2014-07-22T13:36:00",
          "2014-09-27T06:00:00",
          "2015-04-15T07:12:00",
          "2015-06-20T23:36:00",
          "2015-08-26T16:00:00",
          "2015-11-01T08:24:00",
          "2016-01-07T00:48:00",
          "2016-03-13T17:12:00",
          "2016-07-25T02:00:00",
          "2016-09-29T18:24:00",
          "2016-12-05T10:48:00",
          "2017-02-10T03:12:00",
          "2017-04-17T19:36:00",
          "2017-06-23T12:00:00",
          "2017-08-29T04:24:00",
          "2017-11-03T20:48:00",
          "2018-01-09T13:12:00",
          "2018-03-17T05:36:00",
          "2018-05-22T22:00:00",
          "2018-07-28T14:24:00",
          "2018-10-03T06:48:00",
          "2018-12-08T23:12:00",
          "2019-02-13T15:36:00",
          "2019-04-21T08:00:00",
          "2019-06-27T00:24:00",
          "2019-09-01T16:48:00",
          "2019-11-07T09:12:00",
          "2020-01-13T01:36:00",
          "2020-03-19T18:00:00",
          "2020-05-25T10:24:00",
          "2020-07-31T02:48:00",
          "2020-10-05T19:12:00",
          "2020-12-11T11:36:00",
          "2021-02-16T04:00:00",
          "2021-04-23T20:24:00",
          "2021-06-29T12:48:00",
          "2021-09-04T05:12:00",
          "2021-11-09T21:36:00",
          "2022-01-15T14:00:00",
          "2022-03-23T06:24:00",
          "2022-08-03T15:12:00",
          "2022-10-09T07:36:00"
         ],
         "y": [
          1,
          2,
          3,
          1,
          4,
          2,
          4,
          2,
          4,
          5,
          3,
          1,
          2,
          1,
          1,
          1,
          3,
          3,
          5,
          4,
          2,
          2,
          6,
          2,
          1,
          4,
          2,
          3,
          2,
          2,
          3,
          1,
          2,
          3,
          2,
          1,
          3,
          1,
          4,
          3,
          1,
          1,
          4,
          2,
          1,
          2,
          2,
          2,
          4,
          2,
          1,
          2,
          2
         ]
        },
        {
         "hoverinfo": "text",
         "hovertext": [
          "<b>Topic 7</b><br>Words: business, producers, cycle, news, shocks",
          "<b>Topic 7</b><br>Words: investmentspecific, fluctuations, rbc, shocks, model",
          "<b>Topic 7</b><br>Words: consumers, productivity, movements, rationally, noisy",
          "<b>Topic 7</b><br>Words: cycle, technology, sectoral, business, manufacturing",
          "<b>Topic 7</b><br>Words: shocks, business, anticipated, cycles, model",
          "<b>Topic 7</b><br>Words: volatility, business, cycle, development, shocks",
          "<b>Topic 7</b><br>Words: modification, sensibly, proposed, disinflationary, fitting",
          "<b>Topic 7</b><br>Words: rbc, business, shocks, volatility, moderation",
          "<b>Topic 7</b><br>Words: shocks, business, productivity, cycle, aggregate",
          "<b>Topic 7</b><br>Words: blocklevel, shocks, noise, fluctuations, business",
          "<b>Topic 7</b><br>Words: spanish, business, economy, hours, shocks",
          "<b>Topic 7</b><br>Words: intangible, productivity, labor, business, capital",
          "<b>Topic 7</b><br>Words: emes, peaks, industrial, cycles, recessions",
          "<b>Topic 7</b><br>Words: production, network, business, cycle, aggregate",
          "<b>Topic 7</b><br>Words: business, cycle, ec, news, polarization",
          "<b>Topic 7</b><br>Words: producerlevel, secondmoment, dispersion, shocks, business",
          "<b>Topic 7</b><br>Words: moderation, shocks, great, investment, business",
          "<b>Topic 7</b><br>Words: substitution, effect, business, cycle, factor",
          "<b>Topic 7</b><br>Words: tradedependent, korea, globalization, south, open",
          "<b>Topic 7</b><br>Words: tfp, international, shocks, cycle, interact",
          "<b>Topic 7</b><br>Words: longrun, tfp, aggregate, business, shocks",
          "<b>Topic 7</b><br>Words: business, moderation, golden, cycle, postwar",
          "<b>Topic 7</b><br>Words: growth, business, shocks, cycle, fluctuations",
          "<b>Topic 7</b><br>Words: regimespecific, mean, postwar, growth, business",
          "<b>Topic 7</b><br>Words: gold, cycle, business, booming, international",
          "<b>Topic 7</b><br>Words: dsges, shocks, aggregate, nowcasting, swedish",
          "<b>Topic 7</b><br>Words: large, departures, downturns, fluctuations, gdp",
          "<b>Topic 7</b><br>Words: news, business, shocks, open, comovements",
          "<b>Topic 7</b><br>Words: news, shocks, disconnect, fluctuations, dsge",
          "<b>Topic 7</b><br>Words: fluctuations, shocks, consumption, business, news",
          "<b>Topic 7</b><br>Words: sectoral, shocks, business, cycle, moments",
          "<b>Topic 7</b><br>Words: cycle, business, models, generation, shocks",
          "<b>Topic 7</b><br>Words: news, tfp, business, cycles, aggregate",
          "<b>Topic 7</b><br>Words: sudden, stop, news, sectoral, shocks",
          "<b>Topic 7</b><br>Words: predetermined, rbc, suboptimal, unconditional, saving",
          "<b>Topic 7</b><br>Words: granular, adjustment, aggregate, dynamics, business",
          "<b>Topic 7</b><br>Words: aggregate, firm, dynamics, goods, recession",
          "<b>Topic 7</b><br>Words: shocks, sentiments, sentiment, confidence, various",
          "<b>Topic 7</b><br>Words: sectoral, shocks, sectors, shares, microeconomic",
          "<b>Topic 7</b><br>Words: recession, shocks, aggregate, expansion, business",
          "<b>Topic 7</b><br>Words: aggregate, regional, employment, wage, business",
          "<b>Topic 7</b><br>Words: business, cycle, shocks, tfp, disequilibrium",
          "<b>Topic 7</b><br>Words: gold, election, cleanly, commitment, identified",
          "<b>Topic 7</b><br>Words: aggregate, curve, news, rbc, labor",
          "<b>Topic 7</b><br>Words: news, shocks, business, cycle, data",
          "<b>Topic 7</b><br>Words: shocks, noise, plucking, business, input",
          "<b>Topic 7</b><br>Words: narratives, fluctuations, growth, business, cycle",
          "<b>Topic 7</b><br>Words: productivity, capital, news, shocks, revisions",
          "<b>Topic 7</b><br>Words: sloping, marginal, business, curves, cost",
          "<b>Topic 7</b><br>Words: recessions, recoveries, sectoral, media, recessionspecific",
          "<b>Topic 7</b><br>Words: news, hubs, shocks, business, tfp",
          "<b>Topic 7</b><br>Words: recession, recessions, great, business, negative",
          "<b>Topic 7</b><br>Words: shocks, gross, sentiment, inputoutput, flows",
          "<b>Topic 7</b><br>Words: tfp, indicators, shocks, news, spread"
         ],
         "marker": {
          "color": "#E69F00"
         },
         "mode": "lines",
         "name": "7_business_shocks_cycle_aggregate",
         "type": "scatter",
         "x": [
          "2012-03-07T16:24:00",
          "2012-05-13T08:48:00",
          "2012-07-19T01:12:00",
          "2012-09-23T17:36:00",
          "2012-11-29T10:00:00",
          "2013-02-04T02:24:00",
          "2013-04-11T18:48:00",
          "2013-06-17T11:12:00",
          "2013-08-23T03:36:00",
          "2013-10-28T20:00:00",
          "2014-01-03T12:24:00",
          "2014-03-11T04:48:00",
          "2014-05-16T21:12:00",
          "2014-07-22T13:36:00",
          "2014-09-27T06:00:00",
          "2014-12-02T22:24:00",
          "2015-02-07T14:48:00",
          "2015-04-15T07:12:00",
          "2015-06-20T23:36:00",
          "2015-08-26T16:00:00",
          "2015-11-01T08:24:00",
          "2016-01-07T00:48:00",
          "2016-03-13T17:12:00",
          "2016-05-19T09:36:00",
          "2016-07-25T02:00:00",
          "2016-09-29T18:24:00",
          "2016-12-05T10:48:00",
          "2017-02-10T03:12:00",
          "2017-06-23T12:00:00",
          "2017-08-29T04:24:00",
          "2017-11-03T20:48:00",
          "2018-03-17T05:36:00",
          "2018-05-22T22:00:00",
          "2018-07-28T14:24:00",
          "2018-10-03T06:48:00",
          "2018-12-08T23:12:00",
          "2019-02-13T15:36:00",
          "2019-04-21T08:00:00",
          "2019-06-27T00:24:00",
          "2019-09-01T16:48:00",
          "2019-11-07T09:12:00",
          "2020-01-13T01:36:00",
          "2020-05-25T10:24:00",
          "2020-07-31T02:48:00",
          "2020-10-05T19:12:00",
          "2020-12-11T11:36:00",
          "2021-02-16T04:00:00",
          "2021-04-23T20:24:00",
          "2021-06-29T12:48:00",
          "2021-11-09T21:36:00",
          "2022-01-15T14:00:00",
          "2022-03-23T06:24:00",
          "2022-05-28T22:48:00",
          "2022-08-03T15:12:00"
         ],
         "y": [
          2,
          1,
          1,
          2,
          4,
          2,
          1,
          2,
          6,
          3,
          2,
          5,
          1,
          4,
          4,
          1,
          4,
          2,
          1,
          2,
          3,
          2,
          2,
          1,
          1,
          2,
          1,
          1,
          1,
          7,
          1,
          2,
          2,
          2,
          1,
          2,
          2,
          1,
          4,
          3,
          1,
          3,
          2,
          1,
          3,
          4,
          2,
          3,
          1,
          2,
          2,
          2,
          2,
          1
         ]
        },
        {
         "hoverinfo": "text",
         "hovertext": [
          "<b>Topic 8</b><br>Words: oil, price, transitory, reserves, reit",
          "<b>Topic 8</b><br>Words: oil, gilbert, existed, yu, claim",
          "<b>Topic 8</b><br>Words: gas, prices, natural, relationship, granger",
          "<b>Topic 8</b><br>Words: oil, countries, netoil, emerging, price",
          "<b>Topic 8</b><br>Words: oil, markup, price, prices, shocks",
          "<b>Topic 8</b><br>Words: oil, prices, precrisis, period, exchange",
          "<b>Topic 8</b><br>Words: oil, price, m2, real, prices",
          "<b>Topic 8</b><br>Words: oil, price, crude, prices, uncertainty",
          "<b>Topic 8</b><br>Words: oil, expropriations, price, contracts, tax",
          "<b>Topic 8</b><br>Words: oil, gas, volatility, price, natural",
          "<b>Topic 8</b><br>Words: oil, price, futures, volatility, prices",
          "<b>Topic 8</b><br>Words: oil, price, prices, crude, stock",
          "<b>Topic 8</b><br>Words: prices, oil, reit, price, crude",
          "<b>Topic 8</b><br>Words: oil, prices, passthrough, volatility, price",
          "<b>Topic 8</b><br>Words: pairs, oil, crude, physicalchemical, opec",
          "<b>Topic 8</b><br>Words: oil, test, price, contagion, enrich",
          "<b>Topic 8</b><br>Words: oil, crude, price, stock, prices",
          "<b>Topic 8</b><br>Words: oil, prices, price, crude, gasoline",
          "<b>Topic 8</b><br>Words: oil, prices, spot, futures, gas",
          "<b>Topic 8</b><br>Words: oil, diesel, gasoline, price, road",
          "<b>Topic 8</b><br>Words: oil, price, us, supply, ltvr",
          "<b>Topic 8</b><br>Words: coke, oil, price, china, world",
          "<b>Topic 8</b><br>Words: crude, oil, price, products, prices",
          "<b>Topic 8</b><br>Words: oil, relation, reducedform, since, returns",
          "<b>Topic 8</b><br>Words: oil, volatility, futures, price, prices",
          "<b>Topic 8</b><br>Words: oil, price, importing, prices, exporting",
          "<b>Topic 8</b><br>Words: oil, relations, futures, prices, coincided",
          "<b>Topic 8</b><br>Words: manufactured, 19502011, 19501980, hypothesis, metals",
          "<b>Topic 8</b><br>Words: deflation, 20102015, risks, optionbased, oil",
          "<b>Topic 8</b><br>Words: oil, price, shocks, prices, demand",
          "<b>Topic 8</b><br>Words: oil, volatility, shocks, return, covariances",
          "<b>Topic 8</b><br>Words: oil, automobile, price, jump, return",
          "<b>Topic 8</b><br>Words: oil, economic, prices, elasticities, crude",
          "<b>Topic 8</b><br>Words: commodity, oil, price, classes, move",
          "<b>Topic 8</b><br>Words: oil, price, variables, macroeconomic, persistency",
          "<b>Topic 8</b><br>Words: oil, commodities, extreme, agricultural, stock",
          "<b>Topic 8</b><br>Words: oil, crude, fundamentals, price, exchange",
          "<b>Topic 8</b><br>Words: oil, crude, copula, refineries, nonlinear",
          "<b>Topic 8</b><br>Words: milk, copulas, price, powder, skim",
          "<b>Topic 8</b><br>Words: oil, crude, weakform, prices, horizon",
          "<b>Topic 8</b><br>Words: oil, ethanol, price, rins, volatility",
          "<b>Topic 8</b><br>Words: oil, price, coffee, inflation, markets",
          "<b>Topic 8</b><br>Words: oil, spd, price, crude, economic",
          "<b>Topic 8</b><br>Words: oil, price, uncertainty, global, agricultural"
         ],
         "marker": {
          "color": "#56B4E9"
         },
         "mode": "lines",
         "name": "8_oil_price_prices_crude",
         "type": "scatter",
         "x": [
          "2012-03-07T16:24:00",
          "2012-05-13T08:48:00",
          "2012-07-19T01:12:00",
          "2012-09-23T17:36:00",
          "2012-11-29T10:00:00",
          "2013-04-11T18:48:00",
          "2013-06-17T11:12:00",
          "2013-08-23T03:36:00",
          "2013-10-28T20:00:00",
          "2014-01-03T12:24:00",
          "2014-05-16T21:12:00",
          "2014-07-22T13:36:00",
          "2014-09-27T06:00:00",
          "2014-12-02T22:24:00",
          "2015-02-07T14:48:00",
          "2015-04-15T07:12:00",
          "2015-11-01T08:24:00",
          "2016-01-07T00:48:00",
          "2016-03-13T17:12:00",
          "2016-05-19T09:36:00",
          "2016-07-25T02:00:00",
          "2016-09-29T18:24:00",
          "2016-12-05T10:48:00",
          "2017-04-17T19:36:00",
          "2017-06-23T12:00:00",
          "2017-11-03T20:48:00",
          "2018-01-09T13:12:00",
          "2018-03-17T05:36:00",
          "2018-05-22T22:00:00",
          "2018-07-28T14:24:00",
          "2018-10-03T06:48:00",
          "2018-12-08T23:12:00",
          "2019-02-13T15:36:00",
          "2019-09-01T16:48:00",
          "2019-11-07T09:12:00",
          "2020-01-13T01:36:00",
          "2020-03-19T18:00:00",
          "2020-05-25T10:24:00",
          "2020-12-11T11:36:00",
          "2021-02-16T04:00:00",
          "2021-09-04T05:12:00",
          "2021-11-09T21:36:00",
          "2022-01-15T14:00:00",
          "2022-08-03T15:12:00"
         ],
         "y": [
          2,
          1,
          2,
          1,
          4,
          1,
          4,
          7,
          2,
          4,
          3,
          4,
          3,
          2,
          1,
          2,
          5,
          6,
          4,
          4,
          3,
          1,
          1,
          1,
          4,
          2,
          1,
          1,
          1,
          4,
          1,
          2,
          2,
          1,
          1,
          2,
          1,
          2,
          1,
          1,
          2,
          3,
          2,
          3
         ]
        },
        {
         "hoverinfo": "text",
         "hovertext": [
          "<b>Topic 9</b><br>Words: exchange, imbalances, cyclical, model, gourinchas",
          "<b>Topic 9</b><br>Words: exchange, east, rer, countries, rate",
          "<b>Topic 9</b><br>Words: exchange, rate, eurozone, currency, uip",
          "<b>Topic 9</b><br>Words: exchange, rate, transfer, fluctuations, goods",
          "<b>Topic 9</b><br>Words: exchange, rate, rates, countries, real",
          "<b>Topic 9</b><br>Words: exchange, rate, differentials, currency, fluctuations",
          "<b>Topic 9</b><br>Words: exchange, misalignment, rate, currency, international",
          "<b>Topic 9</b><br>Words: exchange, currency, rates, rate, relationship",
          "<b>Topic 9</b><br>Words: exchange, rates, rate, currency, economies",
          "<b>Topic 9</b><br>Words: forecasts, exchange, interval, ensemble, rate",
          "<b>Topic 9</b><br>Words: exchange, intensity, trade, ppp, currency",
          "<b>Topic 9</b><br>Words: exchange, uip, cis, armenia, differential",
          "<b>Topic 9</b><br>Words: black, exchange, rate, belarusian, market",
          "<b>Topic 9</b><br>Words: dollar, sterling, emergence, international, earlier",
          "<b>Topic 9</b><br>Words: exchange, rates, rate, scapegoats, shillingus",
          "<b>Topic 9</b><br>Words: exchange, feer, run, equilibrium, imbalances",
          "<b>Topic 9</b><br>Words: exchange, rate, rates, bilateral, uip",
          "<b>Topic 9</b><br>Words: exchange, currency, rate, realignments, halflife",
          "<b>Topic 9</b><br>Words: labor, exchange, rigid, real, rate",
          "<b>Topic 9</b><br>Words: exchange, world, capitaloutput, countries, industrialized",
          "<b>Topic 9</b><br>Words: exchange, north, trade, dollar, south",
          "<b>Topic 9</b><br>Words: currency, imbalance, external, exchange, imbalances",
          "<b>Topic 9</b><br>Words: currency, exchange, predictive, rates, real",
          "<b>Topic 9</b><br>Words: exchange, determination, monetary, rate, theoretical",
          "<b>Topic 9</b><br>Words: principles, exchange, rate, abiding, forecasting",
          "<b>Topic 9</b><br>Words: puzzle, abates, illusory, scrutiny, remained",
          "<b>Topic 9</b><br>Words: fixing, exchange, rate, rates, interest",
          "<b>Topic 9</b><br>Words: exchange, currency, exit, rate, low",
          "<b>Topic 9</b><br>Words: exchange, rates, real, sectoral, eurozone",
          "<b>Topic 9</b><br>Words: exchange, sterling, rate, passthrough, movements",
          "<b>Topic 9</b><br>Words: global, shocks, exposure, hmlnfa, sarno",
          "<b>Topic 9</b><br>Words: exchange, rate, foreign, stabilized, infinitely",
          "<b>Topic 9</b><br>Words: exchange, rate, currency, trade, parity",
          "<b>Topic 9</b><br>Words: exchange, rate, regimes, countries, global",
          "<b>Topic 9</b><br>Words: disconnect, exchange, horizons, fundamentals, rate",
          "<b>Topic 9</b><br>Words: impairment, autonomy, exchange, months, horizon",
          "<b>Topic 9</b><br>Words: exchange, rate, rates, paradigm, imports",
          "<b>Topic 9</b><br>Words: exchange, convenience, puzzle, kernels, uip",
          "<b>Topic 9</b><br>Words: exchange, rate, economy, role, breeds",
          "<b>Topic 9</b><br>Words: exchange, corners, rate, capital, controls",
          "<b>Topic 9</b><br>Words: exchange, prices, movements, reset, relative",
          "<b>Topic 9</b><br>Words: rate, news, bilateral, spot, exchange",
          "<b>Topic 9</b><br>Words: currency, dominant, invoicing, safe, exchange",
          "<b>Topic 9</b><br>Words: exchange, rate, connectedness, interest, puzzles",
          "<b>Topic 9</b><br>Words: criterion, anchor, rcep, currency, yen",
          "<b>Topic 9</b><br>Words: exchange, currency, dollar, rate, pressure",
          "<b>Topic 9</b><br>Words: exchange, commodity, rate, lbd, policy",
          "<b>Topic 9</b><br>Words: dominance, dominant, currency, regimes, asset",
          "<b>Topic 9</b><br>Words: exchange, comove, rates, codified, 20072012",
          "<b>Topic 9</b><br>Words: exchange, rate, premium, mussa, risk"
         ],
         "marker": {
          "color": "#009E73"
         },
         "mode": "lines",
         "name": "9_exchange_rate_currency_rates",
         "type": "scatter",
         "x": [
          "2011-12-27T23:58:33.600000",
          "2012-03-07T16:24:00",
          "2012-05-13T08:48:00",
          "2012-11-29T10:00:00",
          "2013-02-04T02:24:00",
          "2013-04-11T18:48:00",
          "2013-06-17T11:12:00",
          "2013-08-23T03:36:00",
          "2013-10-28T20:00:00",
          "2014-01-03T12:24:00",
          "2014-03-11T04:48:00",
          "2014-05-16T21:12:00",
          "2014-07-22T13:36:00",
          "2014-09-27T06:00:00",
          "2015-02-07T14:48:00",
          "2015-04-15T07:12:00",
          "2015-06-20T23:36:00",
          "2015-08-26T16:00:00",
          "2015-11-01T08:24:00",
          "2016-03-13T17:12:00",
          "2016-05-19T09:36:00",
          "2016-07-25T02:00:00",
          "2017-02-10T03:12:00",
          "2017-04-17T19:36:00",
          "2017-06-23T12:00:00",
          "2017-08-29T04:24:00",
          "2017-11-03T20:48:00",
          "2018-01-09T13:12:00",
          "2018-05-22T22:00:00",
          "2018-07-28T14:24:00",
          "2018-10-03T06:48:00",
          "2018-12-08T23:12:00",
          "2019-02-13T15:36:00",
          "2019-04-21T08:00:00",
          "2019-06-27T00:24:00",
          "2019-09-01T16:48:00",
          "2020-01-13T01:36:00",
          "2020-03-19T18:00:00",
          "2020-05-25T10:24:00",
          "2020-07-31T02:48:00",
          "2020-10-05T19:12:00",
          "2021-02-16T04:00:00",
          "2021-04-23T20:24:00",
          "2021-06-29T12:48:00",
          "2021-11-09T21:36:00",
          "2022-01-15T14:00:00",
          "2022-03-23T06:24:00",
          "2022-05-28T22:48:00",
          "2022-08-03T15:12:00",
          "2022-10-09T07:36:00"
         ],
         "y": [
          1,
          4,
          3,
          3,
          4,
          4,
          3,
          3,
          3,
          1,
          2,
          2,
          2,
          1,
          3,
          1,
          3,
          3,
          1,
          1,
          3,
          1,
          1,
          1,
          1,
          1,
          3,
          3,
          1,
          1,
          1,
          3,
          5,
          4,
          1,
          1,
          2,
          2,
          1,
          1,
          2,
          1,
          2,
          2,
          1,
          2,
          1,
          1,
          1,
          2
         ]
        }
       ],
       "layout": {
        "height": 600,
        "hoverlabel": {
         "bgcolor": "white",
         "font": {
          "family": "Rockwell",
          "size": 16
         }
        },
        "legend": {
         "title": {
          "text": "<b>Global Topic Representation"
         }
        },
        "template": {
         "data": {
          "bar": [
           {
            "error_x": {
             "color": "rgb(36,36,36)"
            },
            "error_y": {
             "color": "rgb(36,36,36)"
            },
            "marker": {
             "line": {
              "color": "white",
              "width": 0.5
             },
             "pattern": {
              "fillmode": "overlay",
              "size": 10,
              "solidity": 0.2
             }
            },
            "type": "bar"
           }
          ],
          "barpolar": [
           {
            "marker": {
             "line": {
              "color": "white",
              "width": 0.5
             },
             "pattern": {
              "fillmode": "overlay",
              "size": 10,
              "solidity": 0.2
             }
            },
            "type": "barpolar"
           }
          ],
          "carpet": [
           {
            "aaxis": {
             "endlinecolor": "rgb(36,36,36)",
             "gridcolor": "white",
             "linecolor": "white",
             "minorgridcolor": "white",
             "startlinecolor": "rgb(36,36,36)"
            },
            "baxis": {
             "endlinecolor": "rgb(36,36,36)",
             "gridcolor": "white",
             "linecolor": "white",
             "minorgridcolor": "white",
             "startlinecolor": "rgb(36,36,36)"
            },
            "type": "carpet"
           }
          ],
          "choropleth": [
           {
            "colorbar": {
             "outlinewidth": 1,
             "tickcolor": "rgb(36,36,36)",
             "ticks": "outside"
            },
            "type": "choropleth"
           }
          ],
          "contour": [
           {
            "colorbar": {
             "outlinewidth": 1,
             "tickcolor": "rgb(36,36,36)",
             "ticks": "outside"
            },
            "colorscale": [
             [
              0,
              "#440154"
             ],
             [
              0.1111111111111111,
              "#482878"
             ],
             [
              0.2222222222222222,
              "#3e4989"
             ],
             [
              0.3333333333333333,
              "#31688e"
             ],
             [
              0.4444444444444444,
              "#26828e"
             ],
             [
              0.5555555555555556,
              "#1f9e89"
             ],
             [
              0.6666666666666666,
              "#35b779"
             ],
             [
              0.7777777777777778,
              "#6ece58"
             ],
             [
              0.8888888888888888,
              "#b5de2b"
             ],
             [
              1,
              "#fde725"
             ]
            ],
            "type": "contour"
           }
          ],
          "contourcarpet": [
           {
            "colorbar": {
             "outlinewidth": 1,
             "tickcolor": "rgb(36,36,36)",
             "ticks": "outside"
            },
            "type": "contourcarpet"
           }
          ],
          "heatmap": [
           {
            "colorbar": {
             "outlinewidth": 1,
             "tickcolor": "rgb(36,36,36)",
             "ticks": "outside"
            },
            "colorscale": [
             [
              0,
              "#440154"
             ],
             [
              0.1111111111111111,
              "#482878"
             ],
             [
              0.2222222222222222,
              "#3e4989"
             ],
             [
              0.3333333333333333,
              "#31688e"
             ],
             [
              0.4444444444444444,
              "#26828e"
             ],
             [
              0.5555555555555556,
              "#1f9e89"
             ],
             [
              0.6666666666666666,
              "#35b779"
             ],
             [
              0.7777777777777778,
              "#6ece58"
             ],
             [
              0.8888888888888888,
              "#b5de2b"
             ],
             [
              1,
              "#fde725"
             ]
            ],
            "type": "heatmap"
           }
          ],
          "heatmapgl": [
           {
            "colorbar": {
             "outlinewidth": 1,
             "tickcolor": "rgb(36,36,36)",
             "ticks": "outside"
            },
            "colorscale": [
             [
              0,
              "#440154"
             ],
             [
              0.1111111111111111,
              "#482878"
             ],
             [
              0.2222222222222222,
              "#3e4989"
             ],
             [
              0.3333333333333333,
              "#31688e"
             ],
             [
              0.4444444444444444,
              "#26828e"
             ],
             [
              0.5555555555555556,
              "#1f9e89"
             ],
             [
              0.6666666666666666,
              "#35b779"
             ],
             [
              0.7777777777777778,
              "#6ece58"
             ],
             [
              0.8888888888888888,
              "#b5de2b"
             ],
             [
              1,
              "#fde725"
             ]
            ],
            "type": "heatmapgl"
           }
          ],
          "histogram": [
           {
            "marker": {
             "line": {
              "color": "white",
              "width": 0.6
             }
            },
            "type": "histogram"
           }
          ],
          "histogram2d": [
           {
            "colorbar": {
             "outlinewidth": 1,
             "tickcolor": "rgb(36,36,36)",
             "ticks": "outside"
            },
            "colorscale": [
             [
              0,
              "#440154"
             ],
             [
              0.1111111111111111,
              "#482878"
             ],
             [
              0.2222222222222222,
              "#3e4989"
             ],
             [
              0.3333333333333333,
              "#31688e"
             ],
             [
              0.4444444444444444,
              "#26828e"
             ],
             [
              0.5555555555555556,
              "#1f9e89"
             ],
             [
              0.6666666666666666,
              "#35b779"
             ],
             [
              0.7777777777777778,
              "#6ece58"
             ],
             [
              0.8888888888888888,
              "#b5de2b"
             ],
             [
              1,
              "#fde725"
             ]
            ],
            "type": "histogram2d"
           }
          ],
          "histogram2dcontour": [
           {
            "colorbar": {
             "outlinewidth": 1,
             "tickcolor": "rgb(36,36,36)",
             "ticks": "outside"
            },
            "colorscale": [
             [
              0,
              "#440154"
             ],
             [
              0.1111111111111111,
              "#482878"
             ],
             [
              0.2222222222222222,
              "#3e4989"
             ],
             [
              0.3333333333333333,
              "#31688e"
             ],
             [
              0.4444444444444444,
              "#26828e"
             ],
             [
              0.5555555555555556,
              "#1f9e89"
             ],
             [
              0.6666666666666666,
              "#35b779"
             ],
             [
              0.7777777777777778,
              "#6ece58"
             ],
             [
              0.8888888888888888,
              "#b5de2b"
             ],
             [
              1,
              "#fde725"
             ]
            ],
            "type": "histogram2dcontour"
           }
          ],
          "mesh3d": [
           {
            "colorbar": {
             "outlinewidth": 1,
             "tickcolor": "rgb(36,36,36)",
             "ticks": "outside"
            },
            "type": "mesh3d"
           }
          ],
          "parcoords": [
           {
            "line": {
             "colorbar": {
              "outlinewidth": 1,
              "tickcolor": "rgb(36,36,36)",
              "ticks": "outside"
             }
            },
            "type": "parcoords"
           }
          ],
          "pie": [
           {
            "automargin": true,
            "type": "pie"
           }
          ],
          "scatter": [
           {
            "fillpattern": {
             "fillmode": "overlay",
             "size": 10,
             "solidity": 0.2
            },
            "type": "scatter"
           }
          ],
          "scatter3d": [
           {
            "line": {
             "colorbar": {
              "outlinewidth": 1,
              "tickcolor": "rgb(36,36,36)",
              "ticks": "outside"
             }
            },
            "marker": {
             "colorbar": {
              "outlinewidth": 1,
              "tickcolor": "rgb(36,36,36)",
              "ticks": "outside"
             }
            },
            "type": "scatter3d"
           }
          ],
          "scattercarpet": [
           {
            "marker": {
             "colorbar": {
              "outlinewidth": 1,
              "tickcolor": "rgb(36,36,36)",
              "ticks": "outside"
             }
            },
            "type": "scattercarpet"
           }
          ],
          "scattergeo": [
           {
            "marker": {
             "colorbar": {
              "outlinewidth": 1,
              "tickcolor": "rgb(36,36,36)",
              "ticks": "outside"
             }
            },
            "type": "scattergeo"
           }
          ],
          "scattergl": [
           {
            "marker": {
             "colorbar": {
              "outlinewidth": 1,
              "tickcolor": "rgb(36,36,36)",
              "ticks": "outside"
             }
            },
            "type": "scattergl"
           }
          ],
          "scattermapbox": [
           {
            "marker": {
             "colorbar": {
              "outlinewidth": 1,
              "tickcolor": "rgb(36,36,36)",
              "ticks": "outside"
             }
            },
            "type": "scattermapbox"
           }
          ],
          "scatterpolar": [
           {
            "marker": {
             "colorbar": {
              "outlinewidth": 1,
              "tickcolor": "rgb(36,36,36)",
              "ticks": "outside"
             }
            },
            "type": "scatterpolar"
           }
          ],
          "scatterpolargl": [
           {
            "marker": {
             "colorbar": {
              "outlinewidth": 1,
              "tickcolor": "rgb(36,36,36)",
              "ticks": "outside"
             }
            },
            "type": "scatterpolargl"
           }
          ],
          "scatterternary": [
           {
            "marker": {
             "colorbar": {
              "outlinewidth": 1,
              "tickcolor": "rgb(36,36,36)",
              "ticks": "outside"
             }
            },
            "type": "scatterternary"
           }
          ],
          "surface": [
           {
            "colorbar": {
             "outlinewidth": 1,
             "tickcolor": "rgb(36,36,36)",
             "ticks": "outside"
            },
            "colorscale": [
             [
              0,
              "#440154"
             ],
             [
              0.1111111111111111,
              "#482878"
             ],
             [
              0.2222222222222222,
              "#3e4989"
             ],
             [
              0.3333333333333333,
              "#31688e"
             ],
             [
              0.4444444444444444,
              "#26828e"
             ],
             [
              0.5555555555555556,
              "#1f9e89"
             ],
             [
              0.6666666666666666,
              "#35b779"
             ],
             [
              0.7777777777777778,
              "#6ece58"
             ],
             [
              0.8888888888888888,
              "#b5de2b"
             ],
             [
              1,
              "#fde725"
             ]
            ],
            "type": "surface"
           }
          ],
          "table": [
           {
            "cells": {
             "fill": {
              "color": "rgb(237,237,237)"
             },
             "line": {
              "color": "white"
             }
            },
            "header": {
             "fill": {
              "color": "rgb(217,217,217)"
             },
             "line": {
              "color": "white"
             }
            },
            "type": "table"
           }
          ]
         },
         "layout": {
          "annotationdefaults": {
           "arrowhead": 0,
           "arrowwidth": 1
          },
          "autotypenumbers": "strict",
          "coloraxis": {
           "colorbar": {
            "outlinewidth": 1,
            "tickcolor": "rgb(36,36,36)",
            "ticks": "outside"
           }
          },
          "colorscale": {
           "diverging": [
            [
             0,
             "rgb(103,0,31)"
            ],
            [
             0.1,
             "rgb(178,24,43)"
            ],
            [
             0.2,
             "rgb(214,96,77)"
            ],
            [
             0.3,
             "rgb(244,165,130)"
            ],
            [
             0.4,
             "rgb(253,219,199)"
            ],
            [
             0.5,
             "rgb(247,247,247)"
            ],
            [
             0.6,
             "rgb(209,229,240)"
            ],
            [
             0.7,
             "rgb(146,197,222)"
            ],
            [
             0.8,
             "rgb(67,147,195)"
            ],
            [
             0.9,
             "rgb(33,102,172)"
            ],
            [
             1,
             "rgb(5,48,97)"
            ]
           ],
           "sequential": [
            [
             0,
             "#440154"
            ],
            [
             0.1111111111111111,
             "#482878"
            ],
            [
             0.2222222222222222,
             "#3e4989"
            ],
            [
             0.3333333333333333,
             "#31688e"
            ],
            [
             0.4444444444444444,
             "#26828e"
            ],
            [
             0.5555555555555556,
             "#1f9e89"
            ],
            [
             0.6666666666666666,
             "#35b779"
            ],
            [
             0.7777777777777778,
             "#6ece58"
            ],
            [
             0.8888888888888888,
             "#b5de2b"
            ],
            [
             1,
             "#fde725"
            ]
           ],
           "sequentialminus": [
            [
             0,
             "#440154"
            ],
            [
             0.1111111111111111,
             "#482878"
            ],
            [
             0.2222222222222222,
             "#3e4989"
            ],
            [
             0.3333333333333333,
             "#31688e"
            ],
            [
             0.4444444444444444,
             "#26828e"
            ],
            [
             0.5555555555555556,
             "#1f9e89"
            ],
            [
             0.6666666666666666,
             "#35b779"
            ],
            [
             0.7777777777777778,
             "#6ece58"
            ],
            [
             0.8888888888888888,
             "#b5de2b"
            ],
            [
             1,
             "#fde725"
            ]
           ]
          },
          "colorway": [
           "#1F77B4",
           "#FF7F0E",
           "#2CA02C",
           "#D62728",
           "#9467BD",
           "#8C564B",
           "#E377C2",
           "#7F7F7F",
           "#BCBD22",
           "#17BECF"
          ],
          "font": {
           "color": "rgb(36,36,36)"
          },
          "geo": {
           "bgcolor": "white",
           "lakecolor": "white",
           "landcolor": "white",
           "showlakes": true,
           "showland": true,
           "subunitcolor": "white"
          },
          "hoverlabel": {
           "align": "left"
          },
          "hovermode": "closest",
          "mapbox": {
           "style": "light"
          },
          "paper_bgcolor": "white",
          "plot_bgcolor": "white",
          "polar": {
           "angularaxis": {
            "gridcolor": "rgb(232,232,232)",
            "linecolor": "rgb(36,36,36)",
            "showgrid": false,
            "showline": true,
            "ticks": "outside"
           },
           "bgcolor": "white",
           "radialaxis": {
            "gridcolor": "rgb(232,232,232)",
            "linecolor": "rgb(36,36,36)",
            "showgrid": false,
            "showline": true,
            "ticks": "outside"
           }
          },
          "scene": {
           "xaxis": {
            "backgroundcolor": "white",
            "gridcolor": "rgb(232,232,232)",
            "gridwidth": 2,
            "linecolor": "rgb(36,36,36)",
            "showbackground": true,
            "showgrid": false,
            "showline": true,
            "ticks": "outside",
            "zeroline": false,
            "zerolinecolor": "rgb(36,36,36)"
           },
           "yaxis": {
            "backgroundcolor": "white",
            "gridcolor": "rgb(232,232,232)",
            "gridwidth": 2,
            "linecolor": "rgb(36,36,36)",
            "showbackground": true,
            "showgrid": false,
            "showline": true,
            "ticks": "outside",
            "zeroline": false,
            "zerolinecolor": "rgb(36,36,36)"
           },
           "zaxis": {
            "backgroundcolor": "white",
            "gridcolor": "rgb(232,232,232)",
            "gridwidth": 2,
            "linecolor": "rgb(36,36,36)",
            "showbackground": true,
            "showgrid": false,
            "showline": true,
            "ticks": "outside",
            "zeroline": false,
            "zerolinecolor": "rgb(36,36,36)"
           }
          },
          "shapedefaults": {
           "fillcolor": "black",
           "line": {
            "width": 0
           },
           "opacity": 0.3
          },
          "ternary": {
           "aaxis": {
            "gridcolor": "rgb(232,232,232)",
            "linecolor": "rgb(36,36,36)",
            "showgrid": false,
            "showline": true,
            "ticks": "outside"
           },
           "baxis": {
            "gridcolor": "rgb(232,232,232)",
            "linecolor": "rgb(36,36,36)",
            "showgrid": false,
            "showline": true,
            "ticks": "outside"
           },
           "bgcolor": "white",
           "caxis": {
            "gridcolor": "rgb(232,232,232)",
            "linecolor": "rgb(36,36,36)",
            "showgrid": false,
            "showline": true,
            "ticks": "outside"
           }
          },
          "title": {
           "x": 0.05
          },
          "xaxis": {
           "automargin": true,
           "gridcolor": "rgb(232,232,232)",
           "linecolor": "rgb(36,36,36)",
           "showgrid": false,
           "showline": true,
           "ticks": "outside",
           "title": {
            "standoff": 15
           },
           "zeroline": false,
           "zerolinecolor": "rgb(36,36,36)"
          },
          "yaxis": {
           "automargin": true,
           "gridcolor": "rgb(232,232,232)",
           "linecolor": "rgb(36,36,36)",
           "showgrid": false,
           "showline": true,
           "ticks": "outside",
           "title": {
            "standoff": 15
           },
           "zeroline": false,
           "zerolinecolor": "rgb(36,36,36)"
          }
         }
        },
        "title": {
         "font": {
          "color": "Black",
          "size": 22
         },
         "text": "<b>Topics over Time</b>",
         "x": 0.4,
         "xanchor": "center",
         "y": 0.95,
         "yanchor": "top"
        },
        "width": 1250,
        "xaxis": {
         "showgrid": true
        },
        "yaxis": {
         "showgrid": true,
         "title": {
          "text": "Frequency"
         }
        }
       }
      }
     },
     "metadata": {},
     "output_type": "display_data"
    }
   ],
   "source": [
    "topic_model.visualize_topics_over_time(topics_over_time, top_n_topics = 10, height=600)"
   ]
  },
  {
   "cell_type": "code",
   "execution_count": 47,
   "metadata": {},
   "outputs": [
    {
     "data": {
      "application/vnd.plotly.v1+json": {
       "config": {
        "plotlyServerURL": "https://plot.ly"
       },
       "data": [
        {
         "marker": {
          "color": "#D55E00"
         },
         "orientation": "h",
         "type": "bar",
         "x": [
          0.02241433558510852,
          0.02330114734378746,
          0.0243299134542074,
          0.024456687007900702,
          0.026692632513394005
         ],
         "xaxis": "x",
         "y": [
          "stock  ",
          "market  ",
          "investors  ",
          "information  ",
          "returns  "
         ],
         "yaxis": "y"
        },
        {
         "marker": {
          "color": "#0072B2"
         },
         "orientation": "h",
         "type": "bar",
         "x": [
          0.03183320499587005,
          0.03212835047480277,
          0.04122836089716303,
          0.04605947403279257,
          0.07591018595042151
         ],
         "xaxis": "x2",
         "y": [
          "banking  ",
          "lending  ",
          "credit  ",
          "bank  ",
          "banks  "
         ],
         "yaxis": "y2"
        },
        {
         "marker": {
          "color": "#CC79A7"
         },
         "orientation": "h",
         "type": "bar",
         "x": [
          0.028934523350527475,
          0.03225867888041826,
          0.033102199183861515,
          0.033577535879391204,
          0.04957411948073544
         ],
         "xaxis": "x3",
         "y": [
          "test  ",
          "models  ",
          "estimators  ",
          "treatment  ",
          "estimator  "
         ],
         "yaxis": "y3"
        },
        {
         "marker": {
          "color": "#E69F00"
         },
         "orientation": "h",
         "type": "bar",
         "x": [
          0.026825184659156488,
          0.030434607818393262,
          0.047477876707435536,
          0.057467592602116084,
          0.09085639694371729
         ],
         "xaxis": "x4",
         "y": [
          "rate  ",
          "central  ",
          "monetary  ",
          "policy  ",
          "inflation  "
         ],
         "yaxis": "y4"
        },
        {
         "marker": {
          "color": "#56B4E9"
         },
         "orientation": "h",
         "type": "bar",
         "x": [
          0.026821604896765945,
          0.041912202095257686,
          0.04744611392891884,
          0.060841130155463746,
          0.09344802056223833
         ],
         "xaxis": "x5",
         "y": [
          "price  ",
          "prices  ",
          "mortgage  ",
          "house  ",
          "housing  "
         ],
         "yaxis": "y5"
        },
        {
         "marker": {
          "color": "#009E73"
         },
         "orientation": "h",
         "type": "bar",
         "x": [
          0.03315707554240697,
          0.033444288486257294,
          0.038030191421451406,
          0.045552701213868056,
          0.04798790505916497
         ],
         "xaxis": "x6",
         "y": [
          "model  ",
          "forecast  ",
          "models  ",
          "forecasting  ",
          "forecasts  "
         ],
         "yaxis": "y6"
        },
        {
         "marker": {
          "color": "#F0E442"
         },
         "orientation": "h",
         "type": "bar",
         "x": [
          0.03637713328126906,
          0.04576137798183178,
          0.06537791857044332,
          0.07306981361401425,
          0.12368858274152937
         ],
         "xaxis": "x7",
         "y": [
          "policy  ",
          "multipliers  ",
          "spending  ",
          "government  ",
          "fiscal  "
         ],
         "yaxis": "y7"
        },
        {
         "marker": {
          "color": "#D55E00"
         },
         "orientation": "h",
         "type": "bar",
         "x": [
          0.04270171727408751,
          0.04501047492723749,
          0.054078227512293735,
          0.06617916372617422,
          0.06657010866419012
         ],
         "xaxis": "x8",
         "y": [
          "fluctuations  ",
          "aggregate  ",
          "cycle  ",
          "shocks  ",
          "business  "
         ],
         "yaxis": "y8"
        }
       ],
       "layout": {
        "annotations": [
         {
          "font": {
           "size": 16
          },
          "showarrow": false,
          "text": "Topic 0",
          "x": 0.0875,
          "xanchor": "center",
          "xref": "paper",
          "y": 1,
          "yanchor": "bottom",
          "yref": "paper"
         },
         {
          "font": {
           "size": 16
          },
          "showarrow": false,
          "text": "Topic 1",
          "x": 0.36250000000000004,
          "xanchor": "center",
          "xref": "paper",
          "y": 1,
          "yanchor": "bottom",
          "yref": "paper"
         },
         {
          "font": {
           "size": 16
          },
          "showarrow": false,
          "text": "Topic 2",
          "x": 0.6375000000000001,
          "xanchor": "center",
          "xref": "paper",
          "y": 1,
          "yanchor": "bottom",
          "yref": "paper"
         },
         {
          "font": {
           "size": 16
          },
          "showarrow": false,
          "text": "Topic 3",
          "x": 0.9125,
          "xanchor": "center",
          "xref": "paper",
          "y": 1,
          "yanchor": "bottom",
          "yref": "paper"
         },
         {
          "font": {
           "size": 16
          },
          "showarrow": false,
          "text": "Topic 4",
          "x": 0.0875,
          "xanchor": "center",
          "xref": "paper",
          "y": 0.4,
          "yanchor": "bottom",
          "yref": "paper"
         },
         {
          "font": {
           "size": 16
          },
          "showarrow": false,
          "text": "Topic 5",
          "x": 0.36250000000000004,
          "xanchor": "center",
          "xref": "paper",
          "y": 0.4,
          "yanchor": "bottom",
          "yref": "paper"
         },
         {
          "font": {
           "size": 16
          },
          "showarrow": false,
          "text": "Topic 6",
          "x": 0.6375000000000001,
          "xanchor": "center",
          "xref": "paper",
          "y": 0.4,
          "yanchor": "bottom",
          "yref": "paper"
         },
         {
          "font": {
           "size": 16
          },
          "showarrow": false,
          "text": "Topic 7",
          "x": 0.9125,
          "xanchor": "center",
          "xref": "paper",
          "y": 0.4,
          "yanchor": "bottom",
          "yref": "paper"
         }
        ],
        "height": 600,
        "hoverlabel": {
         "bgcolor": "white",
         "font": {
          "family": "Rockwell",
          "size": 16
         }
        },
        "showlegend": false,
        "template": {
         "data": {
          "bar": [
           {
            "error_x": {
             "color": "#2a3f5f"
            },
            "error_y": {
             "color": "#2a3f5f"
            },
            "marker": {
             "line": {
              "color": "white",
              "width": 0.5
             },
             "pattern": {
              "fillmode": "overlay",
              "size": 10,
              "solidity": 0.2
             }
            },
            "type": "bar"
           }
          ],
          "barpolar": [
           {
            "marker": {
             "line": {
              "color": "white",
              "width": 0.5
             },
             "pattern": {
              "fillmode": "overlay",
              "size": 10,
              "solidity": 0.2
             }
            },
            "type": "barpolar"
           }
          ],
          "carpet": [
           {
            "aaxis": {
             "endlinecolor": "#2a3f5f",
             "gridcolor": "#C8D4E3",
             "linecolor": "#C8D4E3",
             "minorgridcolor": "#C8D4E3",
             "startlinecolor": "#2a3f5f"
            },
            "baxis": {
             "endlinecolor": "#2a3f5f",
             "gridcolor": "#C8D4E3",
             "linecolor": "#C8D4E3",
             "minorgridcolor": "#C8D4E3",
             "startlinecolor": "#2a3f5f"
            },
            "type": "carpet"
           }
          ],
          "choropleth": [
           {
            "colorbar": {
             "outlinewidth": 0,
             "ticks": ""
            },
            "type": "choropleth"
           }
          ],
          "contour": [
           {
            "colorbar": {
             "outlinewidth": 0,
             "ticks": ""
            },
            "colorscale": [
             [
              0,
              "#0d0887"
             ],
             [
              0.1111111111111111,
              "#46039f"
             ],
             [
              0.2222222222222222,
              "#7201a8"
             ],
             [
              0.3333333333333333,
              "#9c179e"
             ],
             [
              0.4444444444444444,
              "#bd3786"
             ],
             [
              0.5555555555555556,
              "#d8576b"
             ],
             [
              0.6666666666666666,
              "#ed7953"
             ],
             [
              0.7777777777777778,
              "#fb9f3a"
             ],
             [
              0.8888888888888888,
              "#fdca26"
             ],
             [
              1,
              "#f0f921"
             ]
            ],
            "type": "contour"
           }
          ],
          "contourcarpet": [
           {
            "colorbar": {
             "outlinewidth": 0,
             "ticks": ""
            },
            "type": "contourcarpet"
           }
          ],
          "heatmap": [
           {
            "colorbar": {
             "outlinewidth": 0,
             "ticks": ""
            },
            "colorscale": [
             [
              0,
              "#0d0887"
             ],
             [
              0.1111111111111111,
              "#46039f"
             ],
             [
              0.2222222222222222,
              "#7201a8"
             ],
             [
              0.3333333333333333,
              "#9c179e"
             ],
             [
              0.4444444444444444,
              "#bd3786"
             ],
             [
              0.5555555555555556,
              "#d8576b"
             ],
             [
              0.6666666666666666,
              "#ed7953"
             ],
             [
              0.7777777777777778,
              "#fb9f3a"
             ],
             [
              0.8888888888888888,
              "#fdca26"
             ],
             [
              1,
              "#f0f921"
             ]
            ],
            "type": "heatmap"
           }
          ],
          "heatmapgl": [
           {
            "colorbar": {
             "outlinewidth": 0,
             "ticks": ""
            },
            "colorscale": [
             [
              0,
              "#0d0887"
             ],
             [
              0.1111111111111111,
              "#46039f"
             ],
             [
              0.2222222222222222,
              "#7201a8"
             ],
             [
              0.3333333333333333,
              "#9c179e"
             ],
             [
              0.4444444444444444,
              "#bd3786"
             ],
             [
              0.5555555555555556,
              "#d8576b"
             ],
             [
              0.6666666666666666,
              "#ed7953"
             ],
             [
              0.7777777777777778,
              "#fb9f3a"
             ],
             [
              0.8888888888888888,
              "#fdca26"
             ],
             [
              1,
              "#f0f921"
             ]
            ],
            "type": "heatmapgl"
           }
          ],
          "histogram": [
           {
            "marker": {
             "pattern": {
              "fillmode": "overlay",
              "size": 10,
              "solidity": 0.2
             }
            },
            "type": "histogram"
           }
          ],
          "histogram2d": [
           {
            "colorbar": {
             "outlinewidth": 0,
             "ticks": ""
            },
            "colorscale": [
             [
              0,
              "#0d0887"
             ],
             [
              0.1111111111111111,
              "#46039f"
             ],
             [
              0.2222222222222222,
              "#7201a8"
             ],
             [
              0.3333333333333333,
              "#9c179e"
             ],
             [
              0.4444444444444444,
              "#bd3786"
             ],
             [
              0.5555555555555556,
              "#d8576b"
             ],
             [
              0.6666666666666666,
              "#ed7953"
             ],
             [
              0.7777777777777778,
              "#fb9f3a"
             ],
             [
              0.8888888888888888,
              "#fdca26"
             ],
             [
              1,
              "#f0f921"
             ]
            ],
            "type": "histogram2d"
           }
          ],
          "histogram2dcontour": [
           {
            "colorbar": {
             "outlinewidth": 0,
             "ticks": ""
            },
            "colorscale": [
             [
              0,
              "#0d0887"
             ],
             [
              0.1111111111111111,
              "#46039f"
             ],
             [
              0.2222222222222222,
              "#7201a8"
             ],
             [
              0.3333333333333333,
              "#9c179e"
             ],
             [
              0.4444444444444444,
              "#bd3786"
             ],
             [
              0.5555555555555556,
              "#d8576b"
             ],
             [
              0.6666666666666666,
              "#ed7953"
             ],
             [
              0.7777777777777778,
              "#fb9f3a"
             ],
             [
              0.8888888888888888,
              "#fdca26"
             ],
             [
              1,
              "#f0f921"
             ]
            ],
            "type": "histogram2dcontour"
           }
          ],
          "mesh3d": [
           {
            "colorbar": {
             "outlinewidth": 0,
             "ticks": ""
            },
            "type": "mesh3d"
           }
          ],
          "parcoords": [
           {
            "line": {
             "colorbar": {
              "outlinewidth": 0,
              "ticks": ""
             }
            },
            "type": "parcoords"
           }
          ],
          "pie": [
           {
            "automargin": true,
            "type": "pie"
           }
          ],
          "scatter": [
           {
            "fillpattern": {
             "fillmode": "overlay",
             "size": 10,
             "solidity": 0.2
            },
            "type": "scatter"
           }
          ],
          "scatter3d": [
           {
            "line": {
             "colorbar": {
              "outlinewidth": 0,
              "ticks": ""
             }
            },
            "marker": {
             "colorbar": {
              "outlinewidth": 0,
              "ticks": ""
             }
            },
            "type": "scatter3d"
           }
          ],
          "scattercarpet": [
           {
            "marker": {
             "colorbar": {
              "outlinewidth": 0,
              "ticks": ""
             }
            },
            "type": "scattercarpet"
           }
          ],
          "scattergeo": [
           {
            "marker": {
             "colorbar": {
              "outlinewidth": 0,
              "ticks": ""
             }
            },
            "type": "scattergeo"
           }
          ],
          "scattergl": [
           {
            "marker": {
             "colorbar": {
              "outlinewidth": 0,
              "ticks": ""
             }
            },
            "type": "scattergl"
           }
          ],
          "scattermapbox": [
           {
            "marker": {
             "colorbar": {
              "outlinewidth": 0,
              "ticks": ""
             }
            },
            "type": "scattermapbox"
           }
          ],
          "scatterpolar": [
           {
            "marker": {
             "colorbar": {
              "outlinewidth": 0,
              "ticks": ""
             }
            },
            "type": "scatterpolar"
           }
          ],
          "scatterpolargl": [
           {
            "marker": {
             "colorbar": {
              "outlinewidth": 0,
              "ticks": ""
             }
            },
            "type": "scatterpolargl"
           }
          ],
          "scatterternary": [
           {
            "marker": {
             "colorbar": {
              "outlinewidth": 0,
              "ticks": ""
             }
            },
            "type": "scatterternary"
           }
          ],
          "surface": [
           {
            "colorbar": {
             "outlinewidth": 0,
             "ticks": ""
            },
            "colorscale": [
             [
              0,
              "#0d0887"
             ],
             [
              0.1111111111111111,
              "#46039f"
             ],
             [
              0.2222222222222222,
              "#7201a8"
             ],
             [
              0.3333333333333333,
              "#9c179e"
             ],
             [
              0.4444444444444444,
              "#bd3786"
             ],
             [
              0.5555555555555556,
              "#d8576b"
             ],
             [
              0.6666666666666666,
              "#ed7953"
             ],
             [
              0.7777777777777778,
              "#fb9f3a"
             ],
             [
              0.8888888888888888,
              "#fdca26"
             ],
             [
              1,
              "#f0f921"
             ]
            ],
            "type": "surface"
           }
          ],
          "table": [
           {
            "cells": {
             "fill": {
              "color": "#EBF0F8"
             },
             "line": {
              "color": "white"
             }
            },
            "header": {
             "fill": {
              "color": "#C8D4E3"
             },
             "line": {
              "color": "white"
             }
            },
            "type": "table"
           }
          ]
         },
         "layout": {
          "annotationdefaults": {
           "arrowcolor": "#2a3f5f",
           "arrowhead": 0,
           "arrowwidth": 1
          },
          "autotypenumbers": "strict",
          "coloraxis": {
           "colorbar": {
            "outlinewidth": 0,
            "ticks": ""
           }
          },
          "colorscale": {
           "diverging": [
            [
             0,
             "#8e0152"
            ],
            [
             0.1,
             "#c51b7d"
            ],
            [
             0.2,
             "#de77ae"
            ],
            [
             0.3,
             "#f1b6da"
            ],
            [
             0.4,
             "#fde0ef"
            ],
            [
             0.5,
             "#f7f7f7"
            ],
            [
             0.6,
             "#e6f5d0"
            ],
            [
             0.7,
             "#b8e186"
            ],
            [
             0.8,
             "#7fbc41"
            ],
            [
             0.9,
             "#4d9221"
            ],
            [
             1,
             "#276419"
            ]
           ],
           "sequential": [
            [
             0,
             "#0d0887"
            ],
            [
             0.1111111111111111,
             "#46039f"
            ],
            [
             0.2222222222222222,
             "#7201a8"
            ],
            [
             0.3333333333333333,
             "#9c179e"
            ],
            [
             0.4444444444444444,
             "#bd3786"
            ],
            [
             0.5555555555555556,
             "#d8576b"
            ],
            [
             0.6666666666666666,
             "#ed7953"
            ],
            [
             0.7777777777777778,
             "#fb9f3a"
            ],
            [
             0.8888888888888888,
             "#fdca26"
            ],
            [
             1,
             "#f0f921"
            ]
           ],
           "sequentialminus": [
            [
             0,
             "#0d0887"
            ],
            [
             0.1111111111111111,
             "#46039f"
            ],
            [
             0.2222222222222222,
             "#7201a8"
            ],
            [
             0.3333333333333333,
             "#9c179e"
            ],
            [
             0.4444444444444444,
             "#bd3786"
            ],
            [
             0.5555555555555556,
             "#d8576b"
            ],
            [
             0.6666666666666666,
             "#ed7953"
            ],
            [
             0.7777777777777778,
             "#fb9f3a"
            ],
            [
             0.8888888888888888,
             "#fdca26"
            ],
            [
             1,
             "#f0f921"
            ]
           ]
          },
          "colorway": [
           "#636efa",
           "#EF553B",
           "#00cc96",
           "#ab63fa",
           "#FFA15A",
           "#19d3f3",
           "#FF6692",
           "#B6E880",
           "#FF97FF",
           "#FECB52"
          ],
          "font": {
           "color": "#2a3f5f"
          },
          "geo": {
           "bgcolor": "white",
           "lakecolor": "white",
           "landcolor": "white",
           "showlakes": true,
           "showland": true,
           "subunitcolor": "#C8D4E3"
          },
          "hoverlabel": {
           "align": "left"
          },
          "hovermode": "closest",
          "mapbox": {
           "style": "light"
          },
          "paper_bgcolor": "white",
          "plot_bgcolor": "white",
          "polar": {
           "angularaxis": {
            "gridcolor": "#EBF0F8",
            "linecolor": "#EBF0F8",
            "ticks": ""
           },
           "bgcolor": "white",
           "radialaxis": {
            "gridcolor": "#EBF0F8",
            "linecolor": "#EBF0F8",
            "ticks": ""
           }
          },
          "scene": {
           "xaxis": {
            "backgroundcolor": "white",
            "gridcolor": "#DFE8F3",
            "gridwidth": 2,
            "linecolor": "#EBF0F8",
            "showbackground": true,
            "ticks": "",
            "zerolinecolor": "#EBF0F8"
           },
           "yaxis": {
            "backgroundcolor": "white",
            "gridcolor": "#DFE8F3",
            "gridwidth": 2,
            "linecolor": "#EBF0F8",
            "showbackground": true,
            "ticks": "",
            "zerolinecolor": "#EBF0F8"
           },
           "zaxis": {
            "backgroundcolor": "white",
            "gridcolor": "#DFE8F3",
            "gridwidth": 2,
            "linecolor": "#EBF0F8",
            "showbackground": true,
            "ticks": "",
            "zerolinecolor": "#EBF0F8"
           }
          },
          "shapedefaults": {
           "line": {
            "color": "#2a3f5f"
           }
          },
          "ternary": {
           "aaxis": {
            "gridcolor": "#DFE8F3",
            "linecolor": "#A2B1C6",
            "ticks": ""
           },
           "baxis": {
            "gridcolor": "#DFE8F3",
            "linecolor": "#A2B1C6",
            "ticks": ""
           },
           "bgcolor": "white",
           "caxis": {
            "gridcolor": "#DFE8F3",
            "linecolor": "#A2B1C6",
            "ticks": ""
           }
          },
          "title": {
           "x": 0.05
          },
          "xaxis": {
           "automargin": true,
           "gridcolor": "#EBF0F8",
           "linecolor": "#EBF0F8",
           "ticks": "",
           "title": {
            "standoff": 15
           },
           "zerolinecolor": "#EBF0F8",
           "zerolinewidth": 2
          },
          "yaxis": {
           "automargin": true,
           "gridcolor": "#EBF0F8",
           "linecolor": "#EBF0F8",
           "ticks": "",
           "title": {
            "standoff": 15
           },
           "zerolinecolor": "#EBF0F8",
           "zerolinewidth": 2
          }
         }
        },
        "title": {
         "font": {
          "color": "Black",
          "size": 22
         },
         "text": "Subtopics in Topic 0",
         "x": 0.5,
         "xanchor": "center",
         "yanchor": "top"
        },
        "width": 1200,
        "xaxis": {
         "anchor": "y",
         "domain": [
          0,
          0.175
         ],
         "showgrid": true
        },
        "xaxis2": {
         "anchor": "y2",
         "domain": [
          0.275,
          0.45
         ],
         "showgrid": true
        },
        "xaxis3": {
         "anchor": "y3",
         "domain": [
          0.55,
          0.7250000000000001
         ],
         "showgrid": true
        },
        "xaxis4": {
         "anchor": "y4",
         "domain": [
          0.825,
          1
         ],
         "showgrid": true
        },
        "xaxis5": {
         "anchor": "y5",
         "domain": [
          0,
          0.175
         ],
         "showgrid": true
        },
        "xaxis6": {
         "anchor": "y6",
         "domain": [
          0.275,
          0.45
         ],
         "showgrid": true
        },
        "xaxis7": {
         "anchor": "y7",
         "domain": [
          0.55,
          0.7250000000000001
         ],
         "showgrid": true
        },
        "xaxis8": {
         "anchor": "y8",
         "domain": [
          0.825,
          1
         ],
         "showgrid": true
        },
        "yaxis": {
         "anchor": "x",
         "domain": [
          0.6000000000000001,
          1
         ],
         "showgrid": true
        },
        "yaxis2": {
         "anchor": "x2",
         "domain": [
          0.6000000000000001,
          1
         ],
         "showgrid": true
        },
        "yaxis3": {
         "anchor": "x3",
         "domain": [
          0.6000000000000001,
          1
         ],
         "showgrid": true
        },
        "yaxis4": {
         "anchor": "x4",
         "domain": [
          0.6000000000000001,
          1
         ],
         "showgrid": true
        },
        "yaxis5": {
         "anchor": "x5",
         "domain": [
          0,
          0.4
         ],
         "showgrid": true
        },
        "yaxis6": {
         "anchor": "x6",
         "domain": [
          0,
          0.4
         ],
         "showgrid": true
        },
        "yaxis7": {
         "anchor": "x7",
         "domain": [
          0,
          0.4
         ],
         "showgrid": true
        },
        "yaxis8": {
         "anchor": "x8",
         "domain": [
          0,
          0.4
         ],
         "showgrid": true
        }
       }
      }
     },
     "metadata": {},
     "output_type": "display_data"
    }
   ],
   "source": [
    "topic_model.visualize_barchart(n_words = 5, top_n_topics = 8, width=300, height=300, title=\"Subtopics in Topic 0\")"
   ]
  },
  {
   "cell_type": "code",
   "execution_count": 51,
   "metadata": {},
   "outputs": [
    {
     "data": {
      "application/vnd.plotly.v1+json": {
       "config": {
        "plotlyServerURL": "https://plot.ly"
       },
       "data": [
        {
         "coloraxis": "coloraxis",
         "hovertemplate": "x: %{x}<br>y: %{y}<br>Similarity Score: %{z}<extra></extra>",
         "name": "0",
         "type": "heatmap",
         "x": [
          "0_returns_information_inves...",
          "1_banks_bank_credit",
          "2_estimator_treatment_estim...",
          "3_inflation_policy_monetary",
          "4_housing_house_mortgage",
          "5_forecasts_forecasting_mod...",
          "6_fiscal_government_spending",
          "7_business_shocks_cycle"
         ],
         "xaxis": "x",
         "y": [
          "0_returns_information_inves...",
          "1_banks_bank_credit",
          "2_estimator_treatment_estim...",
          "3_inflation_policy_monetary",
          "4_housing_house_mortgage",
          "5_forecasts_forecasting_mod...",
          "6_fiscal_government_spending",
          "7_business_shocks_cycle"
         ],
         "yaxis": "y",
         "z": [
          [
           0.9999999999999998,
           0.6688601962698483,
           0.5401444113181046,
           0.6938397736294497,
           0.6780831496392292,
           0.608469800606869,
           0.6283744148015149,
           0.7030394488795448
          ],
          [
           0.6688601962698483,
           1.0000000000000002,
           0.3446241014249334,
           0.561679883776331,
           0.6449720672687351,
           0.407164635488514,
           0.6042222313524908,
           0.5293436666104433
          ],
          [
           0.5401444113181046,
           0.3446241014249334,
           1.0000000000000004,
           0.6240466932902095,
           0.47274920276331545,
           0.7118095256032447,
           0.5373233840036239,
           0.6492156142938248
          ],
          [
           0.6938397736294497,
           0.561679883776331,
           0.6240466932902095,
           1.0000000000000004,
           0.6351803859980127,
           0.6691531051069582,
           0.7843141658509988,
           0.7486637483401815
          ],
          [
           0.6780831496392292,
           0.6449720672687351,
           0.47274920276331545,
           0.6351803859980127,
           0.9999999999999998,
           0.5383680973840752,
           0.5969726367543114,
           0.6151610433194699
          ],
          [
           0.608469800606869,
           0.407164635488514,
           0.7118095256032447,
           0.6691531051069582,
           0.5383680973840752,
           0.9999999999999998,
           0.5239402548723542,
           0.7394492589873405
          ],
          [
           0.6283744148015149,
           0.6042222313524908,
           0.5373233840036239,
           0.7843141658509988,
           0.5969726367543114,
           0.5239402548723542,
           1.0000000000000002,
           0.692685286679721
          ],
          [
           0.7030394488795448,
           0.5293436666104433,
           0.6492156142938248,
           0.7486637483401815,
           0.6151610433194699,
           0.7394492589873405,
           0.692685286679721,
           0.9999999999999999
          ]
         ]
        }
       ],
       "layout": {
        "coloraxis": {
         "colorbar": {
          "title": {
           "text": "Similarity Score"
          }
         },
         "colorscale": [
          [
           0,
           "rgb(247,252,240)"
          ],
          [
           0.125,
           "rgb(224,243,219)"
          ],
          [
           0.25,
           "rgb(204,235,197)"
          ],
          [
           0.375,
           "rgb(168,221,181)"
          ],
          [
           0.5,
           "rgb(123,204,196)"
          ],
          [
           0.625,
           "rgb(78,179,211)"
          ],
          [
           0.75,
           "rgb(43,140,190)"
          ],
          [
           0.875,
           "rgb(8,104,172)"
          ],
          [
           1,
           "rgb(8,64,129)"
          ]
         ]
        },
        "height": 550,
        "hoverlabel": {
         "bgcolor": "white",
         "font": {
          "family": "Rockwell",
          "size": 16
         }
        },
        "legend": {
         "title": {
          "text": "Trend"
         }
        },
        "margin": {
         "t": 60
        },
        "showlegend": true,
        "template": {
         "data": {
          "bar": [
           {
            "error_x": {
             "color": "#2a3f5f"
            },
            "error_y": {
             "color": "#2a3f5f"
            },
            "marker": {
             "line": {
              "color": "#E5ECF6",
              "width": 0.5
             },
             "pattern": {
              "fillmode": "overlay",
              "size": 10,
              "solidity": 0.2
             }
            },
            "type": "bar"
           }
          ],
          "barpolar": [
           {
            "marker": {
             "line": {
              "color": "#E5ECF6",
              "width": 0.5
             },
             "pattern": {
              "fillmode": "overlay",
              "size": 10,
              "solidity": 0.2
             }
            },
            "type": "barpolar"
           }
          ],
          "carpet": [
           {
            "aaxis": {
             "endlinecolor": "#2a3f5f",
             "gridcolor": "white",
             "linecolor": "white",
             "minorgridcolor": "white",
             "startlinecolor": "#2a3f5f"
            },
            "baxis": {
             "endlinecolor": "#2a3f5f",
             "gridcolor": "white",
             "linecolor": "white",
             "minorgridcolor": "white",
             "startlinecolor": "#2a3f5f"
            },
            "type": "carpet"
           }
          ],
          "choropleth": [
           {
            "colorbar": {
             "outlinewidth": 0,
             "ticks": ""
            },
            "type": "choropleth"
           }
          ],
          "contour": [
           {
            "colorbar": {
             "outlinewidth": 0,
             "ticks": ""
            },
            "colorscale": [
             [
              0,
              "#0d0887"
             ],
             [
              0.1111111111111111,
              "#46039f"
             ],
             [
              0.2222222222222222,
              "#7201a8"
             ],
             [
              0.3333333333333333,
              "#9c179e"
             ],
             [
              0.4444444444444444,
              "#bd3786"
             ],
             [
              0.5555555555555556,
              "#d8576b"
             ],
             [
              0.6666666666666666,
              "#ed7953"
             ],
             [
              0.7777777777777778,
              "#fb9f3a"
             ],
             [
              0.8888888888888888,
              "#fdca26"
             ],
             [
              1,
              "#f0f921"
             ]
            ],
            "type": "contour"
           }
          ],
          "contourcarpet": [
           {
            "colorbar": {
             "outlinewidth": 0,
             "ticks": ""
            },
            "type": "contourcarpet"
           }
          ],
          "heatmap": [
           {
            "colorbar": {
             "outlinewidth": 0,
             "ticks": ""
            },
            "colorscale": [
             [
              0,
              "#0d0887"
             ],
             [
              0.1111111111111111,
              "#46039f"
             ],
             [
              0.2222222222222222,
              "#7201a8"
             ],
             [
              0.3333333333333333,
              "#9c179e"
             ],
             [
              0.4444444444444444,
              "#bd3786"
             ],
             [
              0.5555555555555556,
              "#d8576b"
             ],
             [
              0.6666666666666666,
              "#ed7953"
             ],
             [
              0.7777777777777778,
              "#fb9f3a"
             ],
             [
              0.8888888888888888,
              "#fdca26"
             ],
             [
              1,
              "#f0f921"
             ]
            ],
            "type": "heatmap"
           }
          ],
          "heatmapgl": [
           {
            "colorbar": {
             "outlinewidth": 0,
             "ticks": ""
            },
            "colorscale": [
             [
              0,
              "#0d0887"
             ],
             [
              0.1111111111111111,
              "#46039f"
             ],
             [
              0.2222222222222222,
              "#7201a8"
             ],
             [
              0.3333333333333333,
              "#9c179e"
             ],
             [
              0.4444444444444444,
              "#bd3786"
             ],
             [
              0.5555555555555556,
              "#d8576b"
             ],
             [
              0.6666666666666666,
              "#ed7953"
             ],
             [
              0.7777777777777778,
              "#fb9f3a"
             ],
             [
              0.8888888888888888,
              "#fdca26"
             ],
             [
              1,
              "#f0f921"
             ]
            ],
            "type": "heatmapgl"
           }
          ],
          "histogram": [
           {
            "marker": {
             "pattern": {
              "fillmode": "overlay",
              "size": 10,
              "solidity": 0.2
             }
            },
            "type": "histogram"
           }
          ],
          "histogram2d": [
           {
            "colorbar": {
             "outlinewidth": 0,
             "ticks": ""
            },
            "colorscale": [
             [
              0,
              "#0d0887"
             ],
             [
              0.1111111111111111,
              "#46039f"
             ],
             [
              0.2222222222222222,
              "#7201a8"
             ],
             [
              0.3333333333333333,
              "#9c179e"
             ],
             [
              0.4444444444444444,
              "#bd3786"
             ],
             [
              0.5555555555555556,
              "#d8576b"
             ],
             [
              0.6666666666666666,
              "#ed7953"
             ],
             [
              0.7777777777777778,
              "#fb9f3a"
             ],
             [
              0.8888888888888888,
              "#fdca26"
             ],
             [
              1,
              "#f0f921"
             ]
            ],
            "type": "histogram2d"
           }
          ],
          "histogram2dcontour": [
           {
            "colorbar": {
             "outlinewidth": 0,
             "ticks": ""
            },
            "colorscale": [
             [
              0,
              "#0d0887"
             ],
             [
              0.1111111111111111,
              "#46039f"
             ],
             [
              0.2222222222222222,
              "#7201a8"
             ],
             [
              0.3333333333333333,
              "#9c179e"
             ],
             [
              0.4444444444444444,
              "#bd3786"
             ],
             [
              0.5555555555555556,
              "#d8576b"
             ],
             [
              0.6666666666666666,
              "#ed7953"
             ],
             [
              0.7777777777777778,
              "#fb9f3a"
             ],
             [
              0.8888888888888888,
              "#fdca26"
             ],
             [
              1,
              "#f0f921"
             ]
            ],
            "type": "histogram2dcontour"
           }
          ],
          "mesh3d": [
           {
            "colorbar": {
             "outlinewidth": 0,
             "ticks": ""
            },
            "type": "mesh3d"
           }
          ],
          "parcoords": [
           {
            "line": {
             "colorbar": {
              "outlinewidth": 0,
              "ticks": ""
             }
            },
            "type": "parcoords"
           }
          ],
          "pie": [
           {
            "automargin": true,
            "type": "pie"
           }
          ],
          "scatter": [
           {
            "fillpattern": {
             "fillmode": "overlay",
             "size": 10,
             "solidity": 0.2
            },
            "type": "scatter"
           }
          ],
          "scatter3d": [
           {
            "line": {
             "colorbar": {
              "outlinewidth": 0,
              "ticks": ""
             }
            },
            "marker": {
             "colorbar": {
              "outlinewidth": 0,
              "ticks": ""
             }
            },
            "type": "scatter3d"
           }
          ],
          "scattercarpet": [
           {
            "marker": {
             "colorbar": {
              "outlinewidth": 0,
              "ticks": ""
             }
            },
            "type": "scattercarpet"
           }
          ],
          "scattergeo": [
           {
            "marker": {
             "colorbar": {
              "outlinewidth": 0,
              "ticks": ""
             }
            },
            "type": "scattergeo"
           }
          ],
          "scattergl": [
           {
            "marker": {
             "colorbar": {
              "outlinewidth": 0,
              "ticks": ""
             }
            },
            "type": "scattergl"
           }
          ],
          "scattermapbox": [
           {
            "marker": {
             "colorbar": {
              "outlinewidth": 0,
              "ticks": ""
             }
            },
            "type": "scattermapbox"
           }
          ],
          "scatterpolar": [
           {
            "marker": {
             "colorbar": {
              "outlinewidth": 0,
              "ticks": ""
             }
            },
            "type": "scatterpolar"
           }
          ],
          "scatterpolargl": [
           {
            "marker": {
             "colorbar": {
              "outlinewidth": 0,
              "ticks": ""
             }
            },
            "type": "scatterpolargl"
           }
          ],
          "scatterternary": [
           {
            "marker": {
             "colorbar": {
              "outlinewidth": 0,
              "ticks": ""
             }
            },
            "type": "scatterternary"
           }
          ],
          "surface": [
           {
            "colorbar": {
             "outlinewidth": 0,
             "ticks": ""
            },
            "colorscale": [
             [
              0,
              "#0d0887"
             ],
             [
              0.1111111111111111,
              "#46039f"
             ],
             [
              0.2222222222222222,
              "#7201a8"
             ],
             [
              0.3333333333333333,
              "#9c179e"
             ],
             [
              0.4444444444444444,
              "#bd3786"
             ],
             [
              0.5555555555555556,
              "#d8576b"
             ],
             [
              0.6666666666666666,
              "#ed7953"
             ],
             [
              0.7777777777777778,
              "#fb9f3a"
             ],
             [
              0.8888888888888888,
              "#fdca26"
             ],
             [
              1,
              "#f0f921"
             ]
            ],
            "type": "surface"
           }
          ],
          "table": [
           {
            "cells": {
             "fill": {
              "color": "#EBF0F8"
             },
             "line": {
              "color": "white"
             }
            },
            "header": {
             "fill": {
              "color": "#C8D4E3"
             },
             "line": {
              "color": "white"
             }
            },
            "type": "table"
           }
          ]
         },
         "layout": {
          "annotationdefaults": {
           "arrowcolor": "#2a3f5f",
           "arrowhead": 0,
           "arrowwidth": 1
          },
          "autotypenumbers": "strict",
          "coloraxis": {
           "colorbar": {
            "outlinewidth": 0,
            "ticks": ""
           }
          },
          "colorscale": {
           "diverging": [
            [
             0,
             "#8e0152"
            ],
            [
             0.1,
             "#c51b7d"
            ],
            [
             0.2,
             "#de77ae"
            ],
            [
             0.3,
             "#f1b6da"
            ],
            [
             0.4,
             "#fde0ef"
            ],
            [
             0.5,
             "#f7f7f7"
            ],
            [
             0.6,
             "#e6f5d0"
            ],
            [
             0.7,
             "#b8e186"
            ],
            [
             0.8,
             "#7fbc41"
            ],
            [
             0.9,
             "#4d9221"
            ],
            [
             1,
             "#276419"
            ]
           ],
           "sequential": [
            [
             0,
             "#0d0887"
            ],
            [
             0.1111111111111111,
             "#46039f"
            ],
            [
             0.2222222222222222,
             "#7201a8"
            ],
            [
             0.3333333333333333,
             "#9c179e"
            ],
            [
             0.4444444444444444,
             "#bd3786"
            ],
            [
             0.5555555555555556,
             "#d8576b"
            ],
            [
             0.6666666666666666,
             "#ed7953"
            ],
            [
             0.7777777777777778,
             "#fb9f3a"
            ],
            [
             0.8888888888888888,
             "#fdca26"
            ],
            [
             1,
             "#f0f921"
            ]
           ],
           "sequentialminus": [
            [
             0,
             "#0d0887"
            ],
            [
             0.1111111111111111,
             "#46039f"
            ],
            [
             0.2222222222222222,
             "#7201a8"
            ],
            [
             0.3333333333333333,
             "#9c179e"
            ],
            [
             0.4444444444444444,
             "#bd3786"
            ],
            [
             0.5555555555555556,
             "#d8576b"
            ],
            [
             0.6666666666666666,
             "#ed7953"
            ],
            [
             0.7777777777777778,
             "#fb9f3a"
            ],
            [
             0.8888888888888888,
             "#fdca26"
            ],
            [
             1,
             "#f0f921"
            ]
           ]
          },
          "colorway": [
           "#636efa",
           "#EF553B",
           "#00cc96",
           "#ab63fa",
           "#FFA15A",
           "#19d3f3",
           "#FF6692",
           "#B6E880",
           "#FF97FF",
           "#FECB52"
          ],
          "font": {
           "color": "#2a3f5f"
          },
          "geo": {
           "bgcolor": "white",
           "lakecolor": "white",
           "landcolor": "#E5ECF6",
           "showlakes": true,
           "showland": true,
           "subunitcolor": "white"
          },
          "hoverlabel": {
           "align": "left"
          },
          "hovermode": "closest",
          "mapbox": {
           "style": "light"
          },
          "paper_bgcolor": "white",
          "plot_bgcolor": "#E5ECF6",
          "polar": {
           "angularaxis": {
            "gridcolor": "white",
            "linecolor": "white",
            "ticks": ""
           },
           "bgcolor": "#E5ECF6",
           "radialaxis": {
            "gridcolor": "white",
            "linecolor": "white",
            "ticks": ""
           }
          },
          "scene": {
           "xaxis": {
            "backgroundcolor": "#E5ECF6",
            "gridcolor": "white",
            "gridwidth": 2,
            "linecolor": "white",
            "showbackground": true,
            "ticks": "",
            "zerolinecolor": "white"
           },
           "yaxis": {
            "backgroundcolor": "#E5ECF6",
            "gridcolor": "white",
            "gridwidth": 2,
            "linecolor": "white",
            "showbackground": true,
            "ticks": "",
            "zerolinecolor": "white"
           },
           "zaxis": {
            "backgroundcolor": "#E5ECF6",
            "gridcolor": "white",
            "gridwidth": 2,
            "linecolor": "white",
            "showbackground": true,
            "ticks": "",
            "zerolinecolor": "white"
           }
          },
          "shapedefaults": {
           "line": {
            "color": "#2a3f5f"
           }
          },
          "ternary": {
           "aaxis": {
            "gridcolor": "white",
            "linecolor": "white",
            "ticks": ""
           },
           "baxis": {
            "gridcolor": "white",
            "linecolor": "white",
            "ticks": ""
           },
           "bgcolor": "#E5ECF6",
           "caxis": {
            "gridcolor": "white",
            "linecolor": "white",
            "ticks": ""
           }
          },
          "title": {
           "x": 0.05
          },
          "xaxis": {
           "automargin": true,
           "gridcolor": "white",
           "linecolor": "white",
           "ticks": "",
           "title": {
            "standoff": 15
           },
           "zerolinecolor": "white",
           "zerolinewidth": 2
          },
          "yaxis": {
           "automargin": true,
           "gridcolor": "white",
           "linecolor": "white",
           "ticks": "",
           "title": {
            "standoff": 15
           },
           "zerolinecolor": "white",
           "zerolinewidth": 2
          }
         }
        },
        "title": {
         "font": {
          "color": "Black",
          "size": 22
         },
         "text": "<b>Similarity Matrix</b>",
         "x": 0.55,
         "xanchor": "center",
         "y": 0.95,
         "yanchor": "top"
        },
        "width": 550,
        "xaxis": {
         "anchor": "y",
         "constrain": "domain",
         "domain": [
          0,
          1
         ],
         "scaleanchor": "y"
        },
        "yaxis": {
         "anchor": "x",
         "autorange": "reversed",
         "constrain": "domain",
         "domain": [
          0,
          1
         ]
        }
       }
      }
     },
     "metadata": {},
     "output_type": "display_data"
    }
   ],
   "source": [
    "fig = topic_model.visualize_heatmap(top_n_topics = 8, width = 550, height = 550)\n",
    "fig\n",
    "# fig.write_html(\"similarity.html\")"
   ]
  },
  {
   "attachments": {},
   "cell_type": "markdown",
   "metadata": {},
   "source": [
    "## To see what topics some of the institutions are interested in"
   ]
  },
  {
   "cell_type": "code",
   "execution_count": 89,
   "metadata": {},
   "outputs": [],
   "source": [
    "df_univ_by_topics = df_s[df_s[\"topic\"] == 0].groupby([\"name\"]).count()[[\"doi\"]].rename(columns={\"doi\":\"cnt\"}).sort_values(by=[\"cnt\"], ascending=False)"
   ]
  },
  {
   "cell_type": "code",
   "execution_count": 90,
   "metadata": {},
   "outputs": [
    {
     "data": {
      "application/vnd.plotly.v1+json": {
       "config": {
        "plotlyServerURL": "https://plot.ly"
       },
       "data": [
        {
         "marker": {
          "color": [
           89,
           88,
           85,
           81,
           79,
           79,
           76,
           75,
           75,
           72
          ],
          "colorscale": [
           [
            0,
            "rgb(243, 203, 211)"
           ],
           [
            0.16666666666666666,
            "rgb(234, 169, 189)"
           ],
           [
            0.3333333333333333,
            "rgb(221, 136, 172)"
           ],
           [
            0.5,
            "rgb(202, 105, 157)"
           ],
           [
            0.6666666666666666,
            "rgb(177, 77, 142)"
           ],
           [
            0.8333333333333334,
            "rgb(145, 53, 125)"
           ],
           [
            1,
            "rgb(108, 33, 103)"
           ]
          ]
         },
         "orientation": "h",
         "text": [
          89,
          88,
          85,
          81,
          79,
          79,
          76,
          75,
          75,
          72
         ],
         "type": "bar",
         "x": [
          89,
          88,
          85,
          81,
          79,
          79,
          76,
          75,
          75,
          72
         ],
         "y": [
          "University of Chicago",
          "US Federal Reserve Board",
          "New York University",
          "Stanford University",
          "Harvard University",
          "University of Pennsylvania",
          "Columbia University",
          "International Monetary Fund",
          "London School of Economics",
          "Massachusetts Institute of Technology"
         ]
        }
       ],
       "layout": {
        "height": 600,
        "template": {
         "data": {
          "bar": [
           {
            "error_x": {
             "color": "#2a3f5f"
            },
            "error_y": {
             "color": "#2a3f5f"
            },
            "marker": {
             "line": {
              "color": "#E5ECF6",
              "width": 0.5
             },
             "pattern": {
              "fillmode": "overlay",
              "size": 10,
              "solidity": 0.2
             }
            },
            "type": "bar"
           }
          ],
          "barpolar": [
           {
            "marker": {
             "line": {
              "color": "#E5ECF6",
              "width": 0.5
             },
             "pattern": {
              "fillmode": "overlay",
              "size": 10,
              "solidity": 0.2
             }
            },
            "type": "barpolar"
           }
          ],
          "carpet": [
           {
            "aaxis": {
             "endlinecolor": "#2a3f5f",
             "gridcolor": "white",
             "linecolor": "white",
             "minorgridcolor": "white",
             "startlinecolor": "#2a3f5f"
            },
            "baxis": {
             "endlinecolor": "#2a3f5f",
             "gridcolor": "white",
             "linecolor": "white",
             "minorgridcolor": "white",
             "startlinecolor": "#2a3f5f"
            },
            "type": "carpet"
           }
          ],
          "choropleth": [
           {
            "colorbar": {
             "outlinewidth": 0,
             "ticks": ""
            },
            "type": "choropleth"
           }
          ],
          "contour": [
           {
            "colorbar": {
             "outlinewidth": 0,
             "ticks": ""
            },
            "colorscale": [
             [
              0,
              "#0d0887"
             ],
             [
              0.1111111111111111,
              "#46039f"
             ],
             [
              0.2222222222222222,
              "#7201a8"
             ],
             [
              0.3333333333333333,
              "#9c179e"
             ],
             [
              0.4444444444444444,
              "#bd3786"
             ],
             [
              0.5555555555555556,
              "#d8576b"
             ],
             [
              0.6666666666666666,
              "#ed7953"
             ],
             [
              0.7777777777777778,
              "#fb9f3a"
             ],
             [
              0.8888888888888888,
              "#fdca26"
             ],
             [
              1,
              "#f0f921"
             ]
            ],
            "type": "contour"
           }
          ],
          "contourcarpet": [
           {
            "colorbar": {
             "outlinewidth": 0,
             "ticks": ""
            },
            "type": "contourcarpet"
           }
          ],
          "heatmap": [
           {
            "colorbar": {
             "outlinewidth": 0,
             "ticks": ""
            },
            "colorscale": [
             [
              0,
              "#0d0887"
             ],
             [
              0.1111111111111111,
              "#46039f"
             ],
             [
              0.2222222222222222,
              "#7201a8"
             ],
             [
              0.3333333333333333,
              "#9c179e"
             ],
             [
              0.4444444444444444,
              "#bd3786"
             ],
             [
              0.5555555555555556,
              "#d8576b"
             ],
             [
              0.6666666666666666,
              "#ed7953"
             ],
             [
              0.7777777777777778,
              "#fb9f3a"
             ],
             [
              0.8888888888888888,
              "#fdca26"
             ],
             [
              1,
              "#f0f921"
             ]
            ],
            "type": "heatmap"
           }
          ],
          "heatmapgl": [
           {
            "colorbar": {
             "outlinewidth": 0,
             "ticks": ""
            },
            "colorscale": [
             [
              0,
              "#0d0887"
             ],
             [
              0.1111111111111111,
              "#46039f"
             ],
             [
              0.2222222222222222,
              "#7201a8"
             ],
             [
              0.3333333333333333,
              "#9c179e"
             ],
             [
              0.4444444444444444,
              "#bd3786"
             ],
             [
              0.5555555555555556,
              "#d8576b"
             ],
             [
              0.6666666666666666,
              "#ed7953"
             ],
             [
              0.7777777777777778,
              "#fb9f3a"
             ],
             [
              0.8888888888888888,
              "#fdca26"
             ],
             [
              1,
              "#f0f921"
             ]
            ],
            "type": "heatmapgl"
           }
          ],
          "histogram": [
           {
            "marker": {
             "pattern": {
              "fillmode": "overlay",
              "size": 10,
              "solidity": 0.2
             }
            },
            "type": "histogram"
           }
          ],
          "histogram2d": [
           {
            "colorbar": {
             "outlinewidth": 0,
             "ticks": ""
            },
            "colorscale": [
             [
              0,
              "#0d0887"
             ],
             [
              0.1111111111111111,
              "#46039f"
             ],
             [
              0.2222222222222222,
              "#7201a8"
             ],
             [
              0.3333333333333333,
              "#9c179e"
             ],
             [
              0.4444444444444444,
              "#bd3786"
             ],
             [
              0.5555555555555556,
              "#d8576b"
             ],
             [
              0.6666666666666666,
              "#ed7953"
             ],
             [
              0.7777777777777778,
              "#fb9f3a"
             ],
             [
              0.8888888888888888,
              "#fdca26"
             ],
             [
              1,
              "#f0f921"
             ]
            ],
            "type": "histogram2d"
           }
          ],
          "histogram2dcontour": [
           {
            "colorbar": {
             "outlinewidth": 0,
             "ticks": ""
            },
            "colorscale": [
             [
              0,
              "#0d0887"
             ],
             [
              0.1111111111111111,
              "#46039f"
             ],
             [
              0.2222222222222222,
              "#7201a8"
             ],
             [
              0.3333333333333333,
              "#9c179e"
             ],
             [
              0.4444444444444444,
              "#bd3786"
             ],
             [
              0.5555555555555556,
              "#d8576b"
             ],
             [
              0.6666666666666666,
              "#ed7953"
             ],
             [
              0.7777777777777778,
              "#fb9f3a"
             ],
             [
              0.8888888888888888,
              "#fdca26"
             ],
             [
              1,
              "#f0f921"
             ]
            ],
            "type": "histogram2dcontour"
           }
          ],
          "mesh3d": [
           {
            "colorbar": {
             "outlinewidth": 0,
             "ticks": ""
            },
            "type": "mesh3d"
           }
          ],
          "parcoords": [
           {
            "line": {
             "colorbar": {
              "outlinewidth": 0,
              "ticks": ""
             }
            },
            "type": "parcoords"
           }
          ],
          "pie": [
           {
            "automargin": true,
            "type": "pie"
           }
          ],
          "scatter": [
           {
            "fillpattern": {
             "fillmode": "overlay",
             "size": 10,
             "solidity": 0.2
            },
            "type": "scatter"
           }
          ],
          "scatter3d": [
           {
            "line": {
             "colorbar": {
              "outlinewidth": 0,
              "ticks": ""
             }
            },
            "marker": {
             "colorbar": {
              "outlinewidth": 0,
              "ticks": ""
             }
            },
            "type": "scatter3d"
           }
          ],
          "scattercarpet": [
           {
            "marker": {
             "colorbar": {
              "outlinewidth": 0,
              "ticks": ""
             }
            },
            "type": "scattercarpet"
           }
          ],
          "scattergeo": [
           {
            "marker": {
             "colorbar": {
              "outlinewidth": 0,
              "ticks": ""
             }
            },
            "type": "scattergeo"
           }
          ],
          "scattergl": [
           {
            "marker": {
             "colorbar": {
              "outlinewidth": 0,
              "ticks": ""
             }
            },
            "type": "scattergl"
           }
          ],
          "scattermapbox": [
           {
            "marker": {
             "colorbar": {
              "outlinewidth": 0,
              "ticks": ""
             }
            },
            "type": "scattermapbox"
           }
          ],
          "scatterpolar": [
           {
            "marker": {
             "colorbar": {
              "outlinewidth": 0,
              "ticks": ""
             }
            },
            "type": "scatterpolar"
           }
          ],
          "scatterpolargl": [
           {
            "marker": {
             "colorbar": {
              "outlinewidth": 0,
              "ticks": ""
             }
            },
            "type": "scatterpolargl"
           }
          ],
          "scatterternary": [
           {
            "marker": {
             "colorbar": {
              "outlinewidth": 0,
              "ticks": ""
             }
            },
            "type": "scatterternary"
           }
          ],
          "surface": [
           {
            "colorbar": {
             "outlinewidth": 0,
             "ticks": ""
            },
            "colorscale": [
             [
              0,
              "#0d0887"
             ],
             [
              0.1111111111111111,
              "#46039f"
             ],
             [
              0.2222222222222222,
              "#7201a8"
             ],
             [
              0.3333333333333333,
              "#9c179e"
             ],
             [
              0.4444444444444444,
              "#bd3786"
             ],
             [
              0.5555555555555556,
              "#d8576b"
             ],
             [
              0.6666666666666666,
              "#ed7953"
             ],
             [
              0.7777777777777778,
              "#fb9f3a"
             ],
             [
              0.8888888888888888,
              "#fdca26"
             ],
             [
              1,
              "#f0f921"
             ]
            ],
            "type": "surface"
           }
          ],
          "table": [
           {
            "cells": {
             "fill": {
              "color": "#EBF0F8"
             },
             "line": {
              "color": "white"
             }
            },
            "header": {
             "fill": {
              "color": "#C8D4E3"
             },
             "line": {
              "color": "white"
             }
            },
            "type": "table"
           }
          ]
         },
         "layout": {
          "annotationdefaults": {
           "arrowcolor": "#2a3f5f",
           "arrowhead": 0,
           "arrowwidth": 1
          },
          "autotypenumbers": "strict",
          "coloraxis": {
           "colorbar": {
            "outlinewidth": 0,
            "ticks": ""
           }
          },
          "colorscale": {
           "diverging": [
            [
             0,
             "#8e0152"
            ],
            [
             0.1,
             "#c51b7d"
            ],
            [
             0.2,
             "#de77ae"
            ],
            [
             0.3,
             "#f1b6da"
            ],
            [
             0.4,
             "#fde0ef"
            ],
            [
             0.5,
             "#f7f7f7"
            ],
            [
             0.6,
             "#e6f5d0"
            ],
            [
             0.7,
             "#b8e186"
            ],
            [
             0.8,
             "#7fbc41"
            ],
            [
             0.9,
             "#4d9221"
            ],
            [
             1,
             "#276419"
            ]
           ],
           "sequential": [
            [
             0,
             "#0d0887"
            ],
            [
             0.1111111111111111,
             "#46039f"
            ],
            [
             0.2222222222222222,
             "#7201a8"
            ],
            [
             0.3333333333333333,
             "#9c179e"
            ],
            [
             0.4444444444444444,
             "#bd3786"
            ],
            [
             0.5555555555555556,
             "#d8576b"
            ],
            [
             0.6666666666666666,
             "#ed7953"
            ],
            [
             0.7777777777777778,
             "#fb9f3a"
            ],
            [
             0.8888888888888888,
             "#fdca26"
            ],
            [
             1,
             "#f0f921"
            ]
           ],
           "sequentialminus": [
            [
             0,
             "#0d0887"
            ],
            [
             0.1111111111111111,
             "#46039f"
            ],
            [
             0.2222222222222222,
             "#7201a8"
            ],
            [
             0.3333333333333333,
             "#9c179e"
            ],
            [
             0.4444444444444444,
             "#bd3786"
            ],
            [
             0.5555555555555556,
             "#d8576b"
            ],
            [
             0.6666666666666666,
             "#ed7953"
            ],
            [
             0.7777777777777778,
             "#fb9f3a"
            ],
            [
             0.8888888888888888,
             "#fdca26"
            ],
            [
             1,
             "#f0f921"
            ]
           ]
          },
          "colorway": [
           "#636efa",
           "#EF553B",
           "#00cc96",
           "#ab63fa",
           "#FFA15A",
           "#19d3f3",
           "#FF6692",
           "#B6E880",
           "#FF97FF",
           "#FECB52"
          ],
          "font": {
           "color": "#2a3f5f"
          },
          "geo": {
           "bgcolor": "white",
           "lakecolor": "white",
           "landcolor": "#E5ECF6",
           "showlakes": true,
           "showland": true,
           "subunitcolor": "white"
          },
          "hoverlabel": {
           "align": "left"
          },
          "hovermode": "closest",
          "mapbox": {
           "style": "light"
          },
          "paper_bgcolor": "white",
          "plot_bgcolor": "#E5ECF6",
          "polar": {
           "angularaxis": {
            "gridcolor": "white",
            "linecolor": "white",
            "ticks": ""
           },
           "bgcolor": "#E5ECF6",
           "radialaxis": {
            "gridcolor": "white",
            "linecolor": "white",
            "ticks": ""
           }
          },
          "scene": {
           "xaxis": {
            "backgroundcolor": "#E5ECF6",
            "gridcolor": "white",
            "gridwidth": 2,
            "linecolor": "white",
            "showbackground": true,
            "ticks": "",
            "zerolinecolor": "white"
           },
           "yaxis": {
            "backgroundcolor": "#E5ECF6",
            "gridcolor": "white",
            "gridwidth": 2,
            "linecolor": "white",
            "showbackground": true,
            "ticks": "",
            "zerolinecolor": "white"
           },
           "zaxis": {
            "backgroundcolor": "#E5ECF6",
            "gridcolor": "white",
            "gridwidth": 2,
            "linecolor": "white",
            "showbackground": true,
            "ticks": "",
            "zerolinecolor": "white"
           }
          },
          "shapedefaults": {
           "line": {
            "color": "#2a3f5f"
           }
          },
          "ternary": {
           "aaxis": {
            "gridcolor": "white",
            "linecolor": "white",
            "ticks": ""
           },
           "baxis": {
            "gridcolor": "white",
            "linecolor": "white",
            "ticks": ""
           },
           "bgcolor": "#E5ECF6",
           "caxis": {
            "gridcolor": "white",
            "linecolor": "white",
            "ticks": ""
           }
          },
          "title": {
           "x": 0.05
          },
          "xaxis": {
           "automargin": true,
           "gridcolor": "white",
           "linecolor": "white",
           "ticks": "",
           "title": {
            "standoff": 15
           },
           "zerolinecolor": "white",
           "zerolinewidth": 2
          },
          "yaxis": {
           "automargin": true,
           "gridcolor": "white",
           "linecolor": "white",
           "ticks": "",
           "title": {
            "standoff": 15
           },
           "zerolinecolor": "white",
           "zerolinewidth": 2
          }
         }
        },
        "title": {
         "text": "Top 10 Instutitons for Topic 4: consumers, price, firms, competition, market"
        },
        "width": 800,
        "yaxis": {
         "categoryorder": "total ascending"
        }
       }
      }
     },
     "metadata": {},
     "output_type": "display_data"
    }
   ],
   "source": [
    "fig = go.Figure()\n",
    "fig.add_trace(\n",
    "    go.Bar(\n",
    "        y = df_univ_by_topics.index[:10],\n",
    "        x = df_univ_by_topics.cnt[:10],\n",
    "        text = df_univ_by_topics.cnt[:10],\n",
    "        orientation = \"h\",\n",
    "        marker={'color': df_univ_by_topics.cnt[:10],\n",
    "                'colorscale': 'Magenta'}\n",
    "    )\n",
    ")\n",
    "fig.update_layout(title_text=\"Top 10 Instutitons for Topic 4: consumers, price, firms, competition, market\",\n",
    "#                 template=\"plotly_dark\",\n",
    "                  yaxis={'categoryorder':'total ascending'},\n",
    "                  width=800,\n",
    "                  height=600\n",
    "                  )\n",
    "fig.show()"
   ]
  },
  {
   "cell_type": "code",
   "execution_count": 91,
   "metadata": {},
   "outputs": [
    {
     "data": {
      "text/html": [
       "<div>\n",
       "<style scoped>\n",
       "    .dataframe tbody tr th:only-of-type {\n",
       "        vertical-align: middle;\n",
       "    }\n",
       "\n",
       "    .dataframe tbody tr th {\n",
       "        vertical-align: top;\n",
       "    }\n",
       "\n",
       "    .dataframe thead th {\n",
       "        text-align: right;\n",
       "    }\n",
       "</style>\n",
       "<table border=\"1\" class=\"dataframe\">\n",
       "  <thead>\n",
       "    <tr style=\"text-align: right;\">\n",
       "      <th></th>\n",
       "      <th>cnt</th>\n",
       "      <th>keywords</th>\n",
       "    </tr>\n",
       "    <tr>\n",
       "      <th>topic</th>\n",
       "      <th></th>\n",
       "      <th></th>\n",
       "    </tr>\n",
       "  </thead>\n",
       "  <tbody>\n",
       "    <tr>\n",
       "      <th>0</th>\n",
       "      <td>88</td>\n",
       "      <td>0: model financial policy risk shocks</td>\n",
       "    </tr>\n",
       "    <tr>\n",
       "      <th>2</th>\n",
       "      <td>6</td>\n",
       "      <td>2: wage workers unemployment labor job</td>\n",
       "    </tr>\n",
       "    <tr>\n",
       "      <th>3</th>\n",
       "      <td>4</td>\n",
       "      <td>3: trade export firms countries exports</td>\n",
       "    </tr>\n",
       "    <tr>\n",
       "      <th>7</th>\n",
       "      <td>3</td>\n",
       "      <td>7: students school schools education student</td>\n",
       "    </tr>\n",
       "    <tr>\n",
       "      <th>12</th>\n",
       "      <td>3</td>\n",
       "      <td>12: inequality income wealth consumption house...</td>\n",
       "    </tr>\n",
       "  </tbody>\n",
       "</table>\n",
       "</div>"
      ],
      "text/plain": [
       "       cnt                                           keywords\n",
       "topic                                                        \n",
       "0       88              0: model financial policy risk shocks\n",
       "2        6             2: wage workers unemployment labor job\n",
       "3        4            3: trade export firms countries exports\n",
       "7        3       7: students school schools education student\n",
       "12       3  12: inequality income wealth consumption house..."
      ]
     },
     "execution_count": 91,
     "metadata": {},
     "output_type": "execute_result"
    }
   ],
   "source": [
    "df_grouby_univ = df_s[(df_s[\"name\"] == \"US Federal Reserve Board\") & (df_s[\"topic\"] != -1)].groupby(\"topic\").count()[[\"doi\"]].rename(columns={\"doi\":\"cnt\"}).sort_values(by=[\"cnt\"], ascending=False)\n",
    "df_grouby_univ[\"keywords\"] = list(pd.Series(df_grouby_univ.index).apply(lambda x: str(x)+\": \"+\" \".join([t[0] for t in topic_model.get_topic(topic=x)[:5]])))\n",
    "df_grouby_univ.head()"
   ]
  },
  {
   "cell_type": "code",
   "execution_count": 92,
   "metadata": {},
   "outputs": [
    {
     "data": {
      "application/vnd.plotly.v1+json": {
       "config": {
        "plotlyServerURL": "https://plot.ly"
       },
       "data": [
        {
         "customdata": [
          [
           88
          ],
          [
           6
          ],
          [
           4
          ],
          [
           3
          ],
          [
           3
          ],
          [
           1
          ],
          [
           1
          ],
          [
           1
          ]
         ],
         "domain": {
          "x": [
           0,
           1
          ],
          "y": [
           0,
           1
          ]
         },
         "hovertemplate": "keywords=%{label}<br>cnt=%{customdata[0]}<extra></extra>",
         "labels": [
          "0: model financial policy risk shocks",
          "2: wage workers unemployment labor job",
          "3: trade export firms countries exports",
          "7: students school schools education student",
          "12: inequality income wealth consumption households",
          "9: health insurance care retirement medicare",
          "13: gender women female men gap",
          "19: productivity growth knowledge technology spillovers"
         ],
         "legendgroup": "",
         "marker": {
          "colors": [
           "rgb(158,1,66)",
           "rgb(213,62,79)",
           "rgb(244,109,67)",
           "rgb(253,174,97)",
           "rgb(253,174,97)",
           "rgb(254,224,139)",
           "rgb(254,224,139)",
           "rgb(254,224,139)"
          ]
         },
         "name": "",
         "showlegend": true,
         "textinfo": "percent",
         "type": "pie",
         "values": [
          88,
          6,
          4,
          3,
          3,
          1,
          1,
          1
         ]
        }
       ],
       "layout": {
        "legend": {
         "tracegroupgap": 0
        },
        "piecolorway": [
         "rgb(158,1,66)",
         "rgb(213,62,79)",
         "rgb(244,109,67)",
         "rgb(253,174,97)",
         "rgb(254,224,139)",
         "rgb(255,255,191)",
         "rgb(230,245,152)",
         "rgb(171,221,164)",
         "rgb(102,194,165)",
         "rgb(50,136,189)",
         "rgb(94,79,162)"
        ],
        "template": {
         "data": {
          "bar": [
           {
            "error_x": {
             "color": "#2a3f5f"
            },
            "error_y": {
             "color": "#2a3f5f"
            },
            "marker": {
             "line": {
              "color": "#E5ECF6",
              "width": 0.5
             },
             "pattern": {
              "fillmode": "overlay",
              "size": 10,
              "solidity": 0.2
             }
            },
            "type": "bar"
           }
          ],
          "barpolar": [
           {
            "marker": {
             "line": {
              "color": "#E5ECF6",
              "width": 0.5
             },
             "pattern": {
              "fillmode": "overlay",
              "size": 10,
              "solidity": 0.2
             }
            },
            "type": "barpolar"
           }
          ],
          "carpet": [
           {
            "aaxis": {
             "endlinecolor": "#2a3f5f",
             "gridcolor": "white",
             "linecolor": "white",
             "minorgridcolor": "white",
             "startlinecolor": "#2a3f5f"
            },
            "baxis": {
             "endlinecolor": "#2a3f5f",
             "gridcolor": "white",
             "linecolor": "white",
             "minorgridcolor": "white",
             "startlinecolor": "#2a3f5f"
            },
            "type": "carpet"
           }
          ],
          "choropleth": [
           {
            "colorbar": {
             "outlinewidth": 0,
             "ticks": ""
            },
            "type": "choropleth"
           }
          ],
          "contour": [
           {
            "colorbar": {
             "outlinewidth": 0,
             "ticks": ""
            },
            "colorscale": [
             [
              0,
              "#0d0887"
             ],
             [
              0.1111111111111111,
              "#46039f"
             ],
             [
              0.2222222222222222,
              "#7201a8"
             ],
             [
              0.3333333333333333,
              "#9c179e"
             ],
             [
              0.4444444444444444,
              "#bd3786"
             ],
             [
              0.5555555555555556,
              "#d8576b"
             ],
             [
              0.6666666666666666,
              "#ed7953"
             ],
             [
              0.7777777777777778,
              "#fb9f3a"
             ],
             [
              0.8888888888888888,
              "#fdca26"
             ],
             [
              1,
              "#f0f921"
             ]
            ],
            "type": "contour"
           }
          ],
          "contourcarpet": [
           {
            "colorbar": {
             "outlinewidth": 0,
             "ticks": ""
            },
            "type": "contourcarpet"
           }
          ],
          "heatmap": [
           {
            "colorbar": {
             "outlinewidth": 0,
             "ticks": ""
            },
            "colorscale": [
             [
              0,
              "#0d0887"
             ],
             [
              0.1111111111111111,
              "#46039f"
             ],
             [
              0.2222222222222222,
              "#7201a8"
             ],
             [
              0.3333333333333333,
              "#9c179e"
             ],
             [
              0.4444444444444444,
              "#bd3786"
             ],
             [
              0.5555555555555556,
              "#d8576b"
             ],
             [
              0.6666666666666666,
              "#ed7953"
             ],
             [
              0.7777777777777778,
              "#fb9f3a"
             ],
             [
              0.8888888888888888,
              "#fdca26"
             ],
             [
              1,
              "#f0f921"
             ]
            ],
            "type": "heatmap"
           }
          ],
          "heatmapgl": [
           {
            "colorbar": {
             "outlinewidth": 0,
             "ticks": ""
            },
            "colorscale": [
             [
              0,
              "#0d0887"
             ],
             [
              0.1111111111111111,
              "#46039f"
             ],
             [
              0.2222222222222222,
              "#7201a8"
             ],
             [
              0.3333333333333333,
              "#9c179e"
             ],
             [
              0.4444444444444444,
              "#bd3786"
             ],
             [
              0.5555555555555556,
              "#d8576b"
             ],
             [
              0.6666666666666666,
              "#ed7953"
             ],
             [
              0.7777777777777778,
              "#fb9f3a"
             ],
             [
              0.8888888888888888,
              "#fdca26"
             ],
             [
              1,
              "#f0f921"
             ]
            ],
            "type": "heatmapgl"
           }
          ],
          "histogram": [
           {
            "marker": {
             "pattern": {
              "fillmode": "overlay",
              "size": 10,
              "solidity": 0.2
             }
            },
            "type": "histogram"
           }
          ],
          "histogram2d": [
           {
            "colorbar": {
             "outlinewidth": 0,
             "ticks": ""
            },
            "colorscale": [
             [
              0,
              "#0d0887"
             ],
             [
              0.1111111111111111,
              "#46039f"
             ],
             [
              0.2222222222222222,
              "#7201a8"
             ],
             [
              0.3333333333333333,
              "#9c179e"
             ],
             [
              0.4444444444444444,
              "#bd3786"
             ],
             [
              0.5555555555555556,
              "#d8576b"
             ],
             [
              0.6666666666666666,
              "#ed7953"
             ],
             [
              0.7777777777777778,
              "#fb9f3a"
             ],
             [
              0.8888888888888888,
              "#fdca26"
             ],
             [
              1,
              "#f0f921"
             ]
            ],
            "type": "histogram2d"
           }
          ],
          "histogram2dcontour": [
           {
            "colorbar": {
             "outlinewidth": 0,
             "ticks": ""
            },
            "colorscale": [
             [
              0,
              "#0d0887"
             ],
             [
              0.1111111111111111,
              "#46039f"
             ],
             [
              0.2222222222222222,
              "#7201a8"
             ],
             [
              0.3333333333333333,
              "#9c179e"
             ],
             [
              0.4444444444444444,
              "#bd3786"
             ],
             [
              0.5555555555555556,
              "#d8576b"
             ],
             [
              0.6666666666666666,
              "#ed7953"
             ],
             [
              0.7777777777777778,
              "#fb9f3a"
             ],
             [
              0.8888888888888888,
              "#fdca26"
             ],
             [
              1,
              "#f0f921"
             ]
            ],
            "type": "histogram2dcontour"
           }
          ],
          "mesh3d": [
           {
            "colorbar": {
             "outlinewidth": 0,
             "ticks": ""
            },
            "type": "mesh3d"
           }
          ],
          "parcoords": [
           {
            "line": {
             "colorbar": {
              "outlinewidth": 0,
              "ticks": ""
             }
            },
            "type": "parcoords"
           }
          ],
          "pie": [
           {
            "automargin": true,
            "type": "pie"
           }
          ],
          "scatter": [
           {
            "fillpattern": {
             "fillmode": "overlay",
             "size": 10,
             "solidity": 0.2
            },
            "type": "scatter"
           }
          ],
          "scatter3d": [
           {
            "line": {
             "colorbar": {
              "outlinewidth": 0,
              "ticks": ""
             }
            },
            "marker": {
             "colorbar": {
              "outlinewidth": 0,
              "ticks": ""
             }
            },
            "type": "scatter3d"
           }
          ],
          "scattercarpet": [
           {
            "marker": {
             "colorbar": {
              "outlinewidth": 0,
              "ticks": ""
             }
            },
            "type": "scattercarpet"
           }
          ],
          "scattergeo": [
           {
            "marker": {
             "colorbar": {
              "outlinewidth": 0,
              "ticks": ""
             }
            },
            "type": "scattergeo"
           }
          ],
          "scattergl": [
           {
            "marker": {
             "colorbar": {
              "outlinewidth": 0,
              "ticks": ""
             }
            },
            "type": "scattergl"
           }
          ],
          "scattermapbox": [
           {
            "marker": {
             "colorbar": {
              "outlinewidth": 0,
              "ticks": ""
             }
            },
            "type": "scattermapbox"
           }
          ],
          "scatterpolar": [
           {
            "marker": {
             "colorbar": {
              "outlinewidth": 0,
              "ticks": ""
             }
            },
            "type": "scatterpolar"
           }
          ],
          "scatterpolargl": [
           {
            "marker": {
             "colorbar": {
              "outlinewidth": 0,
              "ticks": ""
             }
            },
            "type": "scatterpolargl"
           }
          ],
          "scatterternary": [
           {
            "marker": {
             "colorbar": {
              "outlinewidth": 0,
              "ticks": ""
             }
            },
            "type": "scatterternary"
           }
          ],
          "surface": [
           {
            "colorbar": {
             "outlinewidth": 0,
             "ticks": ""
            },
            "colorscale": [
             [
              0,
              "#0d0887"
             ],
             [
              0.1111111111111111,
              "#46039f"
             ],
             [
              0.2222222222222222,
              "#7201a8"
             ],
             [
              0.3333333333333333,
              "#9c179e"
             ],
             [
              0.4444444444444444,
              "#bd3786"
             ],
             [
              0.5555555555555556,
              "#d8576b"
             ],
             [
              0.6666666666666666,
              "#ed7953"
             ],
             [
              0.7777777777777778,
              "#fb9f3a"
             ],
             [
              0.8888888888888888,
              "#fdca26"
             ],
             [
              1,
              "#f0f921"
             ]
            ],
            "type": "surface"
           }
          ],
          "table": [
           {
            "cells": {
             "fill": {
              "color": "#EBF0F8"
             },
             "line": {
              "color": "white"
             }
            },
            "header": {
             "fill": {
              "color": "#C8D4E3"
             },
             "line": {
              "color": "white"
             }
            },
            "type": "table"
           }
          ]
         },
         "layout": {
          "annotationdefaults": {
           "arrowcolor": "#2a3f5f",
           "arrowhead": 0,
           "arrowwidth": 1
          },
          "autotypenumbers": "strict",
          "coloraxis": {
           "colorbar": {
            "outlinewidth": 0,
            "ticks": ""
           }
          },
          "colorscale": {
           "diverging": [
            [
             0,
             "#8e0152"
            ],
            [
             0.1,
             "#c51b7d"
            ],
            [
             0.2,
             "#de77ae"
            ],
            [
             0.3,
             "#f1b6da"
            ],
            [
             0.4,
             "#fde0ef"
            ],
            [
             0.5,
             "#f7f7f7"
            ],
            [
             0.6,
             "#e6f5d0"
            ],
            [
             0.7,
             "#b8e186"
            ],
            [
             0.8,
             "#7fbc41"
            ],
            [
             0.9,
             "#4d9221"
            ],
            [
             1,
             "#276419"
            ]
           ],
           "sequential": [
            [
             0,
             "#0d0887"
            ],
            [
             0.1111111111111111,
             "#46039f"
            ],
            [
             0.2222222222222222,
             "#7201a8"
            ],
            [
             0.3333333333333333,
             "#9c179e"
            ],
            [
             0.4444444444444444,
             "#bd3786"
            ],
            [
             0.5555555555555556,
             "#d8576b"
            ],
            [
             0.6666666666666666,
             "#ed7953"
            ],
            [
             0.7777777777777778,
             "#fb9f3a"
            ],
            [
             0.8888888888888888,
             "#fdca26"
            ],
            [
             1,
             "#f0f921"
            ]
           ],
           "sequentialminus": [
            [
             0,
             "#0d0887"
            ],
            [
             0.1111111111111111,
             "#46039f"
            ],
            [
             0.2222222222222222,
             "#7201a8"
            ],
            [
             0.3333333333333333,
             "#9c179e"
            ],
            [
             0.4444444444444444,
             "#bd3786"
            ],
            [
             0.5555555555555556,
             "#d8576b"
            ],
            [
             0.6666666666666666,
             "#ed7953"
            ],
            [
             0.7777777777777778,
             "#fb9f3a"
            ],
            [
             0.8888888888888888,
             "#fdca26"
            ],
            [
             1,
             "#f0f921"
            ]
           ]
          },
          "colorway": [
           "#636efa",
           "#EF553B",
           "#00cc96",
           "#ab63fa",
           "#FFA15A",
           "#19d3f3",
           "#FF6692",
           "#B6E880",
           "#FF97FF",
           "#FECB52"
          ],
          "font": {
           "color": "#2a3f5f"
          },
          "geo": {
           "bgcolor": "white",
           "lakecolor": "white",
           "landcolor": "#E5ECF6",
           "showlakes": true,
           "showland": true,
           "subunitcolor": "white"
          },
          "hoverlabel": {
           "align": "left"
          },
          "hovermode": "closest",
          "mapbox": {
           "style": "light"
          },
          "paper_bgcolor": "white",
          "plot_bgcolor": "#E5ECF6",
          "polar": {
           "angularaxis": {
            "gridcolor": "white",
            "linecolor": "white",
            "ticks": ""
           },
           "bgcolor": "#E5ECF6",
           "radialaxis": {
            "gridcolor": "white",
            "linecolor": "white",
            "ticks": ""
           }
          },
          "scene": {
           "xaxis": {
            "backgroundcolor": "#E5ECF6",
            "gridcolor": "white",
            "gridwidth": 2,
            "linecolor": "white",
            "showbackground": true,
            "ticks": "",
            "zerolinecolor": "white"
           },
           "yaxis": {
            "backgroundcolor": "#E5ECF6",
            "gridcolor": "white",
            "gridwidth": 2,
            "linecolor": "white",
            "showbackground": true,
            "ticks": "",
            "zerolinecolor": "white"
           },
           "zaxis": {
            "backgroundcolor": "#E5ECF6",
            "gridcolor": "white",
            "gridwidth": 2,
            "linecolor": "white",
            "showbackground": true,
            "ticks": "",
            "zerolinecolor": "white"
           }
          },
          "shapedefaults": {
           "line": {
            "color": "#2a3f5f"
           }
          },
          "ternary": {
           "aaxis": {
            "gridcolor": "white",
            "linecolor": "white",
            "ticks": ""
           },
           "baxis": {
            "gridcolor": "white",
            "linecolor": "white",
            "ticks": ""
           },
           "bgcolor": "#E5ECF6",
           "caxis": {
            "gridcolor": "white",
            "linecolor": "white",
            "ticks": ""
           }
          },
          "title": {
           "x": 0.05
          },
          "xaxis": {
           "automargin": true,
           "gridcolor": "white",
           "linecolor": "white",
           "ticks": "",
           "title": {
            "standoff": 15
           },
           "zerolinecolor": "white",
           "zerolinewidth": 2
          },
          "yaxis": {
           "automargin": true,
           "gridcolor": "white",
           "linecolor": "white",
           "ticks": "",
           "title": {
            "standoff": 15
           },
           "zerolinecolor": "white",
           "zerolinewidth": 2
          }
         }
        },
        "title": {
         "text": "US Federal Reserve Board: Topics Distribution of Top Econ Publications"
        },
        "width": 800
       }
      }
     },
     "metadata": {},
     "output_type": "display_data"
    }
   ],
   "source": [
    "fig = px.pie(df_grouby_univ, \n",
    "             values=\"cnt\", \n",
    "             names=\"keywords\",\n",
    "             color=\"cnt\",\n",
    "             color_discrete_sequence=px.colors.diverging.Spectral,\n",
    "             width=800,\n",
    "#            height=400,\n",
    "             title=\"US Federal Reserve Board: Topics Distribution of Top Econ Publications\")\n",
    "fig.update_traces(textinfo='percent')\n",
    "fig.show()"
   ]
  },
  {
   "cell_type": "code",
   "execution_count": 113,
   "metadata": {},
   "outputs": [
    {
     "data": {
      "text/html": [
       "<div>\n",
       "<style scoped>\n",
       "    .dataframe tbody tr th:only-of-type {\n",
       "        vertical-align: middle;\n",
       "    }\n",
       "\n",
       "    .dataframe tbody tr th {\n",
       "        vertical-align: top;\n",
       "    }\n",
       "\n",
       "    .dataframe thead th {\n",
       "        text-align: right;\n",
       "    }\n",
       "</style>\n",
       "<table border=\"1\" class=\"dataframe\">\n",
       "  <thead>\n",
       "    <tr style=\"text-align: right;\">\n",
       "      <th></th>\n",
       "      <th>cnt</th>\n",
       "      <th>keywords</th>\n",
       "    </tr>\n",
       "    <tr>\n",
       "      <th>topic</th>\n",
       "      <th></th>\n",
       "      <th></th>\n",
       "    </tr>\n",
       "  </thead>\n",
       "  <tbody>\n",
       "    <tr>\n",
       "      <th>0</th>\n",
       "      <td>79</td>\n",
       "      <td>0: model financial policy risk shocks</td>\n",
       "    </tr>\n",
       "    <tr>\n",
       "      <th>1</th>\n",
       "      <td>10</td>\n",
       "      <td>1: game agent games information preferences</td>\n",
       "    </tr>\n",
       "    <tr>\n",
       "      <th>9</th>\n",
       "      <td>7</td>\n",
       "      <td>9: health insurance care retirement medicare</td>\n",
       "    </tr>\n",
       "    <tr>\n",
       "      <th>4</th>\n",
       "      <td>6</td>\n",
       "      <td>4: consumers price firms competition market</td>\n",
       "    </tr>\n",
       "    <tr>\n",
       "      <th>7</th>\n",
       "      <td>5</td>\n",
       "      <td>7: students school schools education student</td>\n",
       "    </tr>\n",
       "  </tbody>\n",
       "</table>\n",
       "</div>"
      ],
      "text/plain": [
       "       cnt                                      keywords\n",
       "topic                                                   \n",
       "0       79         0: model financial policy risk shocks\n",
       "1       10   1: game agent games information preferences\n",
       "9        7  9: health insurance care retirement medicare\n",
       "4        6   4: consumers price firms competition market\n",
       "7        5  7: students school schools education student"
      ]
     },
     "execution_count": 113,
     "metadata": {},
     "output_type": "execute_result"
    }
   ],
   "source": [
    "df_grouby_univ = df_s[(df_s[\"name\"] == \"University of Pennsylvania\") & (df_s[\"topic\"] != -1)].groupby(\"topic\").count()[[\"doi\"]].rename(columns={\"doi\":\"cnt\"}).sort_values(by=[\"cnt\"], ascending=False)\n",
    "df_grouby_univ[\"keywords\"] = list(pd.Series(df_grouby_univ.index).apply(lambda x: str(x)+\": \"+\" \".join([t[0] for t in topic_model.get_topic(topic=x)[:5]])))\n",
    "df_grouby_univ.head()"
   ]
  },
  {
   "cell_type": "code",
   "execution_count": 114,
   "metadata": {},
   "outputs": [
    {
     "data": {
      "application/vnd.plotly.v1+json": {
       "config": {
        "plotlyServerURL": "https://plot.ly"
       },
       "data": [
        {
         "customdata": [
          [
           79
          ],
          [
           10
          ],
          [
           7
          ],
          [
           6
          ],
          [
           5
          ],
          [
           2
          ],
          [
           2
          ],
          [
           2
          ],
          [
           2
          ],
          [
           2
          ],
          [
           2
          ],
          [
           2
          ],
          [
           2
          ],
          [
           1
          ],
          [
           1
          ],
          [
           1
          ]
         ],
         "domain": {
          "x": [
           0,
           1
          ],
          "y": [
           0,
           1
          ]
         },
         "hovertemplate": "keywords=%{label}<br>cnt=%{customdata[0]}<extra></extra>",
         "labels": [
          "0: model financial policy risk shocks",
          "1: game agent games information preferences",
          "9: health insurance care retirement medicare",
          "4: consumers price firms competition market",
          "7: students school schools education student",
          "2: wage workers unemployment labor job",
          "6: political voters elections vote electoral",
          "8: marriage children child fertility women",
          "10: migration migrants immigration immigrants labor",
          "11: tax taxes income taxation capital",
          "12: inequality income wealth consumption households",
          "14: crime criminal police crimes judges",
          "20: infrastructure cities road transport transportation",
          "5: emissions environmental energy pollution carbon",
          "13: gender women female men gap",
          "19: productivity growth knowledge technology spillovers"
         ],
         "legendgroup": "",
         "marker": {
          "colors": [
           "rgb(158,1,66)",
           "rgb(213,62,79)",
           "rgb(244,109,67)",
           "rgb(253,174,97)",
           "rgb(254,224,139)",
           "rgb(255,255,191)",
           "rgb(255,255,191)",
           "rgb(255,255,191)",
           "rgb(255,255,191)",
           "rgb(255,255,191)",
           "rgb(255,255,191)",
           "rgb(255,255,191)",
           "rgb(255,255,191)",
           "rgb(230,245,152)",
           "rgb(230,245,152)",
           "rgb(230,245,152)"
          ]
         },
         "name": "",
         "showlegend": true,
         "textinfo": "percent",
         "type": "pie",
         "values": [
          79,
          10,
          7,
          6,
          5,
          2,
          2,
          2,
          2,
          2,
          2,
          2,
          2,
          1,
          1,
          1
         ]
        }
       ],
       "layout": {
        "height": 600,
        "legend": {
         "tracegroupgap": 0
        },
        "piecolorway": [
         "rgb(158,1,66)",
         "rgb(213,62,79)",
         "rgb(244,109,67)",
         "rgb(253,174,97)",
         "rgb(254,224,139)",
         "rgb(255,255,191)",
         "rgb(230,245,152)",
         "rgb(171,221,164)",
         "rgb(102,194,165)",
         "rgb(50,136,189)",
         "rgb(94,79,162)"
        ],
        "template": {
         "data": {
          "bar": [
           {
            "error_x": {
             "color": "#2a3f5f"
            },
            "error_y": {
             "color": "#2a3f5f"
            },
            "marker": {
             "line": {
              "color": "#E5ECF6",
              "width": 0.5
             },
             "pattern": {
              "fillmode": "overlay",
              "size": 10,
              "solidity": 0.2
             }
            },
            "type": "bar"
           }
          ],
          "barpolar": [
           {
            "marker": {
             "line": {
              "color": "#E5ECF6",
              "width": 0.5
             },
             "pattern": {
              "fillmode": "overlay",
              "size": 10,
              "solidity": 0.2
             }
            },
            "type": "barpolar"
           }
          ],
          "carpet": [
           {
            "aaxis": {
             "endlinecolor": "#2a3f5f",
             "gridcolor": "white",
             "linecolor": "white",
             "minorgridcolor": "white",
             "startlinecolor": "#2a3f5f"
            },
            "baxis": {
             "endlinecolor": "#2a3f5f",
             "gridcolor": "white",
             "linecolor": "white",
             "minorgridcolor": "white",
             "startlinecolor": "#2a3f5f"
            },
            "type": "carpet"
           }
          ],
          "choropleth": [
           {
            "colorbar": {
             "outlinewidth": 0,
             "ticks": ""
            },
            "type": "choropleth"
           }
          ],
          "contour": [
           {
            "colorbar": {
             "outlinewidth": 0,
             "ticks": ""
            },
            "colorscale": [
             [
              0,
              "#0d0887"
             ],
             [
              0.1111111111111111,
              "#46039f"
             ],
             [
              0.2222222222222222,
              "#7201a8"
             ],
             [
              0.3333333333333333,
              "#9c179e"
             ],
             [
              0.4444444444444444,
              "#bd3786"
             ],
             [
              0.5555555555555556,
              "#d8576b"
             ],
             [
              0.6666666666666666,
              "#ed7953"
             ],
             [
              0.7777777777777778,
              "#fb9f3a"
             ],
             [
              0.8888888888888888,
              "#fdca26"
             ],
             [
              1,
              "#f0f921"
             ]
            ],
            "type": "contour"
           }
          ],
          "contourcarpet": [
           {
            "colorbar": {
             "outlinewidth": 0,
             "ticks": ""
            },
            "type": "contourcarpet"
           }
          ],
          "heatmap": [
           {
            "colorbar": {
             "outlinewidth": 0,
             "ticks": ""
            },
            "colorscale": [
             [
              0,
              "#0d0887"
             ],
             [
              0.1111111111111111,
              "#46039f"
             ],
             [
              0.2222222222222222,
              "#7201a8"
             ],
             [
              0.3333333333333333,
              "#9c179e"
             ],
             [
              0.4444444444444444,
              "#bd3786"
             ],
             [
              0.5555555555555556,
              "#d8576b"
             ],
             [
              0.6666666666666666,
              "#ed7953"
             ],
             [
              0.7777777777777778,
              "#fb9f3a"
             ],
             [
              0.8888888888888888,
              "#fdca26"
             ],
             [
              1,
              "#f0f921"
             ]
            ],
            "type": "heatmap"
           }
          ],
          "heatmapgl": [
           {
            "colorbar": {
             "outlinewidth": 0,
             "ticks": ""
            },
            "colorscale": [
             [
              0,
              "#0d0887"
             ],
             [
              0.1111111111111111,
              "#46039f"
             ],
             [
              0.2222222222222222,
              "#7201a8"
             ],
             [
              0.3333333333333333,
              "#9c179e"
             ],
             [
              0.4444444444444444,
              "#bd3786"
             ],
             [
              0.5555555555555556,
              "#d8576b"
             ],
             [
              0.6666666666666666,
              "#ed7953"
             ],
             [
              0.7777777777777778,
              "#fb9f3a"
             ],
             [
              0.8888888888888888,
              "#fdca26"
             ],
             [
              1,
              "#f0f921"
             ]
            ],
            "type": "heatmapgl"
           }
          ],
          "histogram": [
           {
            "marker": {
             "pattern": {
              "fillmode": "overlay",
              "size": 10,
              "solidity": 0.2
             }
            },
            "type": "histogram"
           }
          ],
          "histogram2d": [
           {
            "colorbar": {
             "outlinewidth": 0,
             "ticks": ""
            },
            "colorscale": [
             [
              0,
              "#0d0887"
             ],
             [
              0.1111111111111111,
              "#46039f"
             ],
             [
              0.2222222222222222,
              "#7201a8"
             ],
             [
              0.3333333333333333,
              "#9c179e"
             ],
             [
              0.4444444444444444,
              "#bd3786"
             ],
             [
              0.5555555555555556,
              "#d8576b"
             ],
             [
              0.6666666666666666,
              "#ed7953"
             ],
             [
              0.7777777777777778,
              "#fb9f3a"
             ],
             [
              0.8888888888888888,
              "#fdca26"
             ],
             [
              1,
              "#f0f921"
             ]
            ],
            "type": "histogram2d"
           }
          ],
          "histogram2dcontour": [
           {
            "colorbar": {
             "outlinewidth": 0,
             "ticks": ""
            },
            "colorscale": [
             [
              0,
              "#0d0887"
             ],
             [
              0.1111111111111111,
              "#46039f"
             ],
             [
              0.2222222222222222,
              "#7201a8"
             ],
             [
              0.3333333333333333,
              "#9c179e"
             ],
             [
              0.4444444444444444,
              "#bd3786"
             ],
             [
              0.5555555555555556,
              "#d8576b"
             ],
             [
              0.6666666666666666,
              "#ed7953"
             ],
             [
              0.7777777777777778,
              "#fb9f3a"
             ],
             [
              0.8888888888888888,
              "#fdca26"
             ],
             [
              1,
              "#f0f921"
             ]
            ],
            "type": "histogram2dcontour"
           }
          ],
          "mesh3d": [
           {
            "colorbar": {
             "outlinewidth": 0,
             "ticks": ""
            },
            "type": "mesh3d"
           }
          ],
          "parcoords": [
           {
            "line": {
             "colorbar": {
              "outlinewidth": 0,
              "ticks": ""
             }
            },
            "type": "parcoords"
           }
          ],
          "pie": [
           {
            "automargin": true,
            "type": "pie"
           }
          ],
          "scatter": [
           {
            "fillpattern": {
             "fillmode": "overlay",
             "size": 10,
             "solidity": 0.2
            },
            "type": "scatter"
           }
          ],
          "scatter3d": [
           {
            "line": {
             "colorbar": {
              "outlinewidth": 0,
              "ticks": ""
             }
            },
            "marker": {
             "colorbar": {
              "outlinewidth": 0,
              "ticks": ""
             }
            },
            "type": "scatter3d"
           }
          ],
          "scattercarpet": [
           {
            "marker": {
             "colorbar": {
              "outlinewidth": 0,
              "ticks": ""
             }
            },
            "type": "scattercarpet"
           }
          ],
          "scattergeo": [
           {
            "marker": {
             "colorbar": {
              "outlinewidth": 0,
              "ticks": ""
             }
            },
            "type": "scattergeo"
           }
          ],
          "scattergl": [
           {
            "marker": {
             "colorbar": {
              "outlinewidth": 0,
              "ticks": ""
             }
            },
            "type": "scattergl"
           }
          ],
          "scattermapbox": [
           {
            "marker": {
             "colorbar": {
              "outlinewidth": 0,
              "ticks": ""
             }
            },
            "type": "scattermapbox"
           }
          ],
          "scatterpolar": [
           {
            "marker": {
             "colorbar": {
              "outlinewidth": 0,
              "ticks": ""
             }
            },
            "type": "scatterpolar"
           }
          ],
          "scatterpolargl": [
           {
            "marker": {
             "colorbar": {
              "outlinewidth": 0,
              "ticks": ""
             }
            },
            "type": "scatterpolargl"
           }
          ],
          "scatterternary": [
           {
            "marker": {
             "colorbar": {
              "outlinewidth": 0,
              "ticks": ""
             }
            },
            "type": "scatterternary"
           }
          ],
          "surface": [
           {
            "colorbar": {
             "outlinewidth": 0,
             "ticks": ""
            },
            "colorscale": [
             [
              0,
              "#0d0887"
             ],
             [
              0.1111111111111111,
              "#46039f"
             ],
             [
              0.2222222222222222,
              "#7201a8"
             ],
             [
              0.3333333333333333,
              "#9c179e"
             ],
             [
              0.4444444444444444,
              "#bd3786"
             ],
             [
              0.5555555555555556,
              "#d8576b"
             ],
             [
              0.6666666666666666,
              "#ed7953"
             ],
             [
              0.7777777777777778,
              "#fb9f3a"
             ],
             [
              0.8888888888888888,
              "#fdca26"
             ],
             [
              1,
              "#f0f921"
             ]
            ],
            "type": "surface"
           }
          ],
          "table": [
           {
            "cells": {
             "fill": {
              "color": "#EBF0F8"
             },
             "line": {
              "color": "white"
             }
            },
            "header": {
             "fill": {
              "color": "#C8D4E3"
             },
             "line": {
              "color": "white"
             }
            },
            "type": "table"
           }
          ]
         },
         "layout": {
          "annotationdefaults": {
           "arrowcolor": "#2a3f5f",
           "arrowhead": 0,
           "arrowwidth": 1
          },
          "autotypenumbers": "strict",
          "coloraxis": {
           "colorbar": {
            "outlinewidth": 0,
            "ticks": ""
           }
          },
          "colorscale": {
           "diverging": [
            [
             0,
             "#8e0152"
            ],
            [
             0.1,
             "#c51b7d"
            ],
            [
             0.2,
             "#de77ae"
            ],
            [
             0.3,
             "#f1b6da"
            ],
            [
             0.4,
             "#fde0ef"
            ],
            [
             0.5,
             "#f7f7f7"
            ],
            [
             0.6,
             "#e6f5d0"
            ],
            [
             0.7,
             "#b8e186"
            ],
            [
             0.8,
             "#7fbc41"
            ],
            [
             0.9,
             "#4d9221"
            ],
            [
             1,
             "#276419"
            ]
           ],
           "sequential": [
            [
             0,
             "#0d0887"
            ],
            [
             0.1111111111111111,
             "#46039f"
            ],
            [
             0.2222222222222222,
             "#7201a8"
            ],
            [
             0.3333333333333333,
             "#9c179e"
            ],
            [
             0.4444444444444444,
             "#bd3786"
            ],
            [
             0.5555555555555556,
             "#d8576b"
            ],
            [
             0.6666666666666666,
             "#ed7953"
            ],
            [
             0.7777777777777778,
             "#fb9f3a"
            ],
            [
             0.8888888888888888,
             "#fdca26"
            ],
            [
             1,
             "#f0f921"
            ]
           ],
           "sequentialminus": [
            [
             0,
             "#0d0887"
            ],
            [
             0.1111111111111111,
             "#46039f"
            ],
            [
             0.2222222222222222,
             "#7201a8"
            ],
            [
             0.3333333333333333,
             "#9c179e"
            ],
            [
             0.4444444444444444,
             "#bd3786"
            ],
            [
             0.5555555555555556,
             "#d8576b"
            ],
            [
             0.6666666666666666,
             "#ed7953"
            ],
            [
             0.7777777777777778,
             "#fb9f3a"
            ],
            [
             0.8888888888888888,
             "#fdca26"
            ],
            [
             1,
             "#f0f921"
            ]
           ]
          },
          "colorway": [
           "#636efa",
           "#EF553B",
           "#00cc96",
           "#ab63fa",
           "#FFA15A",
           "#19d3f3",
           "#FF6692",
           "#B6E880",
           "#FF97FF",
           "#FECB52"
          ],
          "font": {
           "color": "#2a3f5f"
          },
          "geo": {
           "bgcolor": "white",
           "lakecolor": "white",
           "landcolor": "#E5ECF6",
           "showlakes": true,
           "showland": true,
           "subunitcolor": "white"
          },
          "hoverlabel": {
           "align": "left"
          },
          "hovermode": "closest",
          "mapbox": {
           "style": "light"
          },
          "paper_bgcolor": "white",
          "plot_bgcolor": "#E5ECF6",
          "polar": {
           "angularaxis": {
            "gridcolor": "white",
            "linecolor": "white",
            "ticks": ""
           },
           "bgcolor": "#E5ECF6",
           "radialaxis": {
            "gridcolor": "white",
            "linecolor": "white",
            "ticks": ""
           }
          },
          "scene": {
           "xaxis": {
            "backgroundcolor": "#E5ECF6",
            "gridcolor": "white",
            "gridwidth": 2,
            "linecolor": "white",
            "showbackground": true,
            "ticks": "",
            "zerolinecolor": "white"
           },
           "yaxis": {
            "backgroundcolor": "#E5ECF6",
            "gridcolor": "white",
            "gridwidth": 2,
            "linecolor": "white",
            "showbackground": true,
            "ticks": "",
            "zerolinecolor": "white"
           },
           "zaxis": {
            "backgroundcolor": "#E5ECF6",
            "gridcolor": "white",
            "gridwidth": 2,
            "linecolor": "white",
            "showbackground": true,
            "ticks": "",
            "zerolinecolor": "white"
           }
          },
          "shapedefaults": {
           "line": {
            "color": "#2a3f5f"
           }
          },
          "ternary": {
           "aaxis": {
            "gridcolor": "white",
            "linecolor": "white",
            "ticks": ""
           },
           "baxis": {
            "gridcolor": "white",
            "linecolor": "white",
            "ticks": ""
           },
           "bgcolor": "#E5ECF6",
           "caxis": {
            "gridcolor": "white",
            "linecolor": "white",
            "ticks": ""
           }
          },
          "title": {
           "x": 0.05
          },
          "xaxis": {
           "automargin": true,
           "gridcolor": "white",
           "linecolor": "white",
           "ticks": "",
           "title": {
            "standoff": 15
           },
           "zerolinecolor": "white",
           "zerolinewidth": 2
          },
          "yaxis": {
           "automargin": true,
           "gridcolor": "white",
           "linecolor": "white",
           "ticks": "",
           "title": {
            "standoff": 15
           },
           "zerolinecolor": "white",
           "zerolinewidth": 2
          }
         }
        },
        "title": {
         "text": "University of Pennsylvania: Topics Distribution of Top Econ Publications"
        },
        "width": 800
       }
      }
     },
     "metadata": {},
     "output_type": "display_data"
    }
   ],
   "source": [
    "fig = px.pie(df_grouby_univ, \n",
    "             values=\"cnt\", \n",
    "             names=\"keywords\",\n",
    "             color=\"cnt\",\n",
    "             color_discrete_sequence=px.colors.diverging.Spectral,\n",
    "             width=800,\n",
    "             height=600,\n",
    "             title=\"University of Pennsylvania: Topics Distribution of Top Econ Publications\")\n",
    "fig.update_traces(textinfo='percent')\n",
    "fig.show()"
   ]
  },
  {
   "attachments": {},
   "cell_type": "markdown",
   "metadata": {},
   "source": [
    "## Comparison of Centralities' Topic Distribution"
   ]
  },
  {
   "cell_type": "code",
   "execution_count": 142,
   "metadata": {},
   "outputs": [],
   "source": [
    "centralities = [\"New York University\",\"University of California, Berkeley\", \"University of Chicago\",\n",
    "                \"Harvard University\", \"Columbia University\", \"London School of Economics\",\n",
    "                \"World Bank\", \"Stanford University\", \"Massachusetts Institute of Technology\",\n",
    "                \"University of Pennsylvania\"]\n",
    "centralities_abbr = [\"NYU\",\"UCB\", \"UChicago\",\n",
    "                    \"Harvard\", \"ColumbiaU\", \"LSE\",\n",
    "                    \"World Bank\", \"Stanford\", \"MIT\",\n",
    "                    \"UPenn\"]\n",
    "topics = list(range(22))"
   ]
  },
  {
   "cell_type": "code",
   "execution_count": 143,
   "metadata": {},
   "outputs": [
    {
     "data": {
      "text/html": [
       "<div>\n",
       "<style scoped>\n",
       "    .dataframe tbody tr th:only-of-type {\n",
       "        vertical-align: middle;\n",
       "    }\n",
       "\n",
       "    .dataframe tbody tr th {\n",
       "        vertical-align: top;\n",
       "    }\n",
       "\n",
       "    .dataframe thead th {\n",
       "        text-align: right;\n",
       "    }\n",
       "</style>\n",
       "<table border=\"1\" class=\"dataframe\">\n",
       "  <thead>\n",
       "    <tr style=\"text-align: right;\">\n",
       "      <th></th>\n",
       "      <th>cnt</th>\n",
       "      <th>name</th>\n",
       "      <th>keywords</th>\n",
       "      <th>proportion</th>\n",
       "    </tr>\n",
       "    <tr>\n",
       "      <th>topic</th>\n",
       "      <th></th>\n",
       "      <th></th>\n",
       "      <th></th>\n",
       "      <th></th>\n",
       "    </tr>\n",
       "  </thead>\n",
       "  <tbody>\n",
       "    <tr>\n",
       "      <th>0</th>\n",
       "      <td>85.0</td>\n",
       "      <td>New York University</td>\n",
       "      <td>0: model financial policy risk shocks</td>\n",
       "      <td>0.544872</td>\n",
       "    </tr>\n",
       "    <tr>\n",
       "      <th>1</th>\n",
       "      <td>19.0</td>\n",
       "      <td>New York University</td>\n",
       "      <td>1: game agent games information preferences</td>\n",
       "      <td>0.121795</td>\n",
       "    </tr>\n",
       "    <tr>\n",
       "      <th>2</th>\n",
       "      <td>8.0</td>\n",
       "      <td>New York University</td>\n",
       "      <td>2: wage workers unemployment labor job</td>\n",
       "      <td>0.051282</td>\n",
       "    </tr>\n",
       "    <tr>\n",
       "      <th>3</th>\n",
       "      <td>6.0</td>\n",
       "      <td>New York University</td>\n",
       "      <td>3: trade export firms countries exports</td>\n",
       "      <td>0.038462</td>\n",
       "    </tr>\n",
       "    <tr>\n",
       "      <th>4</th>\n",
       "      <td>1.0</td>\n",
       "      <td>New York University</td>\n",
       "      <td>4: consumers price firms competition market</td>\n",
       "      <td>0.006410</td>\n",
       "    </tr>\n",
       "  </tbody>\n",
       "</table>\n",
       "</div>"
      ],
      "text/plain": [
       "        cnt                 name                                     keywords  \\\n",
       "topic                                                                           \n",
       "0      85.0  New York University        0: model financial policy risk shocks   \n",
       "1      19.0  New York University  1: game agent games information preferences   \n",
       "2       8.0  New York University       2: wage workers unemployment labor job   \n",
       "3       6.0  New York University      3: trade export firms countries exports   \n",
       "4       1.0  New York University  4: consumers price firms competition market   \n",
       "\n",
       "       proportion  \n",
       "topic              \n",
       "0        0.544872  \n",
       "1        0.121795  \n",
       "2        0.051282  \n",
       "3        0.038462  \n",
       "4        0.006410  "
      ]
     },
     "execution_count": 143,
     "metadata": {},
     "output_type": "execute_result"
    }
   ],
   "source": [
    "df_groupby_inst = pd.DataFrame({\"topic\":[],\"cnt\":[],\"name\":[],\"keywords\":[],\"proportion\":[]}).set_index(\"topic\")\n",
    "\n",
    "for c in centralities:\n",
    "    df_temp = df_s[(df_s[\"name\"] == c) & (df_s[\"topic\"] != -1)].groupby(\"topic\").count()[[\"doi\"]].rename(columns={\"doi\":\"cnt\"})\n",
    "    # fill in missing topics\n",
    "    for topic in topics:\n",
    "        if topic not in df_temp.index:\n",
    "            df_temp.loc[topic] = [0]\n",
    "\n",
    "    df_temp[\"name\"] = c\n",
    "    df_temp[\"keywords\"] = list(pd.Series(df_temp.index).apply(lambda x: str(x)+\": \"+\" \".join([t[0] for t in topic_model.get_topic(topic=x)[:5]])))\n",
    "\n",
    "    total = sum(df_temp[\"cnt\"])\n",
    "    df_temp[\"proportion\"] = df_temp.cnt.apply(lambda x: x / total)\n",
    "    df_temp.sort_index(inplace=True)\n",
    "\n",
    "    df_groupby_inst = pd.concat([df_groupby_inst, df_temp])\n",
    "\n",
    "df_groupby_inst.head()"
   ]
  },
  {
   "cell_type": "code",
   "execution_count": 144,
   "metadata": {},
   "outputs": [
    {
     "data": {
      "text/html": [
       "<div>\n",
       "<style scoped>\n",
       "    .dataframe tbody tr th:only-of-type {\n",
       "        vertical-align: middle;\n",
       "    }\n",
       "\n",
       "    .dataframe tbody tr th {\n",
       "        vertical-align: top;\n",
       "    }\n",
       "\n",
       "    .dataframe thead th {\n",
       "        text-align: right;\n",
       "    }\n",
       "</style>\n",
       "<table border=\"1\" class=\"dataframe\">\n",
       "  <thead>\n",
       "    <tr style=\"text-align: right;\">\n",
       "      <th></th>\n",
       "      <th>name</th>\n",
       "      <th>ds</th>\n",
       "    </tr>\n",
       "  </thead>\n",
       "  <tbody>\n",
       "    <tr>\n",
       "      <th>0</th>\n",
       "      <td>Columbia University</td>\n",
       "      <td>0.3368</td>\n",
       "    </tr>\n",
       "    <tr>\n",
       "      <th>1</th>\n",
       "      <td>London School of Economics</td>\n",
       "      <td>0.3442</td>\n",
       "    </tr>\n",
       "    <tr>\n",
       "      <th>2</th>\n",
       "      <td>Stanford University</td>\n",
       "      <td>0.3652</td>\n",
       "    </tr>\n",
       "    <tr>\n",
       "      <th>3</th>\n",
       "      <td>New York University</td>\n",
       "      <td>0.3678</td>\n",
       "    </tr>\n",
       "    <tr>\n",
       "      <th>4</th>\n",
       "      <td>Harvard University</td>\n",
       "      <td>0.3888</td>\n",
       "    </tr>\n",
       "    <tr>\n",
       "      <th>5</th>\n",
       "      <td>University of Pennsylvania</td>\n",
       "      <td>0.4737</td>\n",
       "    </tr>\n",
       "    <tr>\n",
       "      <th>6</th>\n",
       "      <td>University of California, Berkeley</td>\n",
       "      <td>0.5521</td>\n",
       "    </tr>\n",
       "    <tr>\n",
       "      <th>7</th>\n",
       "      <td>Massachusetts Institute of Technology</td>\n",
       "      <td>0.6245</td>\n",
       "    </tr>\n",
       "    <tr>\n",
       "      <th>8</th>\n",
       "      <td>World Bank</td>\n",
       "      <td>0.7026</td>\n",
       "    </tr>\n",
       "  </tbody>\n",
       "</table>\n",
       "</div>"
      ],
      "text/plain": [
       "                                    name      ds\n",
       "0                    Columbia University  0.3368\n",
       "1             London School of Economics  0.3442\n",
       "2                    Stanford University  0.3652\n",
       "3                    New York University  0.3678\n",
       "4                     Harvard University  0.3888\n",
       "5             University of Pennsylvania  0.4737\n",
       "6     University of California, Berkeley  0.5521\n",
       "7  Massachusetts Institute of Technology  0.6245\n",
       "8                             World Bank  0.7026"
      ]
     },
     "execution_count": 144,
     "metadata": {},
     "output_type": "execute_result"
    }
   ],
   "source": [
    "# calculate the discrepancy score\n",
    "df_ds = pd.DataFrame({\"name\":[],\"ds\":[]})\n",
    "df_uchicago = df_groupby_inst[df_groupby_inst[\"name\"] == \"University of Chicago\"]\n",
    "for c in centralities:\n",
    "    if c != \"University of Chicago\":\n",
    "        df_b = df_groupby_inst[df_groupby_inst[\"name\"] == c]\n",
    "        ds = round(sum([abs(df_uchicago.loc[t,\"proportion\"] - df_b.loc[t,\"proportion\"]) for t in df_uchicago.index]),4)\n",
    "        df_ds.loc[len(df_ds)] = [c, ds]\n",
    "\n",
    "df_ds = df_ds.sort_values(by=[\"ds\"]).reset_index(drop=True)\n",
    "df_ds.head(10)"
   ]
  },
  {
   "cell_type": "code",
   "execution_count": 145,
   "metadata": {},
   "outputs": [
    {
     "data": {
      "application/vnd.plotly.v1+json": {
       "config": {
        "plotlyServerURL": "https://plot.ly"
       },
       "data": [
        {
         "marker": {
          "color": [
           0.3368,
           0.3442,
           0.3652,
           0.3678,
           0.3888,
           0.4737,
           0.5521,
           0.6245,
           0.7026
          ],
          "colorscale": [
           [
            0,
            "rgb(253, 224, 197)"
           ],
           [
            0.16666666666666666,
            "rgb(250, 203, 166)"
           ],
           [
            0.3333333333333333,
            "rgb(248, 181, 139)"
           ],
           [
            0.5,
            "rgb(245, 158, 114)"
           ],
           [
            0.6666666666666666,
            "rgb(242, 133, 93)"
           ],
           [
            0.8333333333333334,
            "rgb(239, 106, 76)"
           ],
           [
            1,
            "rgb(235, 74, 64)"
           ]
          ]
         },
         "orientation": "h",
         "text": [
          0.3368,
          0.3442,
          0.3652,
          0.3678,
          0.3888,
          0.4737,
          0.5521,
          0.6245,
          0.7026
         ],
         "type": "bar",
         "x": [
          0.3368,
          0.3442,
          0.3652,
          0.3678,
          0.3888,
          0.4737,
          0.5521,
          0.6245,
          0.7026
         ],
         "y": [
          "Columbia University",
          "London School of Economics",
          "Stanford University",
          "New York University",
          "Harvard University",
          "University of Pennsylvania",
          "University of California, Berkeley",
          "Massachusetts Institute of Technology",
          "World Bank"
         ]
        }
       ],
       "layout": {
        "height": 600,
        "template": {
         "data": {
          "bar": [
           {
            "error_x": {
             "color": "#2a3f5f"
            },
            "error_y": {
             "color": "#2a3f5f"
            },
            "marker": {
             "line": {
              "color": "#E5ECF6",
              "width": 0.5
             },
             "pattern": {
              "fillmode": "overlay",
              "size": 10,
              "solidity": 0.2
             }
            },
            "type": "bar"
           }
          ],
          "barpolar": [
           {
            "marker": {
             "line": {
              "color": "#E5ECF6",
              "width": 0.5
             },
             "pattern": {
              "fillmode": "overlay",
              "size": 10,
              "solidity": 0.2
             }
            },
            "type": "barpolar"
           }
          ],
          "carpet": [
           {
            "aaxis": {
             "endlinecolor": "#2a3f5f",
             "gridcolor": "white",
             "linecolor": "white",
             "minorgridcolor": "white",
             "startlinecolor": "#2a3f5f"
            },
            "baxis": {
             "endlinecolor": "#2a3f5f",
             "gridcolor": "white",
             "linecolor": "white",
             "minorgridcolor": "white",
             "startlinecolor": "#2a3f5f"
            },
            "type": "carpet"
           }
          ],
          "choropleth": [
           {
            "colorbar": {
             "outlinewidth": 0,
             "ticks": ""
            },
            "type": "choropleth"
           }
          ],
          "contour": [
           {
            "colorbar": {
             "outlinewidth": 0,
             "ticks": ""
            },
            "colorscale": [
             [
              0,
              "#0d0887"
             ],
             [
              0.1111111111111111,
              "#46039f"
             ],
             [
              0.2222222222222222,
              "#7201a8"
             ],
             [
              0.3333333333333333,
              "#9c179e"
             ],
             [
              0.4444444444444444,
              "#bd3786"
             ],
             [
              0.5555555555555556,
              "#d8576b"
             ],
             [
              0.6666666666666666,
              "#ed7953"
             ],
             [
              0.7777777777777778,
              "#fb9f3a"
             ],
             [
              0.8888888888888888,
              "#fdca26"
             ],
             [
              1,
              "#f0f921"
             ]
            ],
            "type": "contour"
           }
          ],
          "contourcarpet": [
           {
            "colorbar": {
             "outlinewidth": 0,
             "ticks": ""
            },
            "type": "contourcarpet"
           }
          ],
          "heatmap": [
           {
            "colorbar": {
             "outlinewidth": 0,
             "ticks": ""
            },
            "colorscale": [
             [
              0,
              "#0d0887"
             ],
             [
              0.1111111111111111,
              "#46039f"
             ],
             [
              0.2222222222222222,
              "#7201a8"
             ],
             [
              0.3333333333333333,
              "#9c179e"
             ],
             [
              0.4444444444444444,
              "#bd3786"
             ],
             [
              0.5555555555555556,
              "#d8576b"
             ],
             [
              0.6666666666666666,
              "#ed7953"
             ],
             [
              0.7777777777777778,
              "#fb9f3a"
             ],
             [
              0.8888888888888888,
              "#fdca26"
             ],
             [
              1,
              "#f0f921"
             ]
            ],
            "type": "heatmap"
           }
          ],
          "heatmapgl": [
           {
            "colorbar": {
             "outlinewidth": 0,
             "ticks": ""
            },
            "colorscale": [
             [
              0,
              "#0d0887"
             ],
             [
              0.1111111111111111,
              "#46039f"
             ],
             [
              0.2222222222222222,
              "#7201a8"
             ],
             [
              0.3333333333333333,
              "#9c179e"
             ],
             [
              0.4444444444444444,
              "#bd3786"
             ],
             [
              0.5555555555555556,
              "#d8576b"
             ],
             [
              0.6666666666666666,
              "#ed7953"
             ],
             [
              0.7777777777777778,
              "#fb9f3a"
             ],
             [
              0.8888888888888888,
              "#fdca26"
             ],
             [
              1,
              "#f0f921"
             ]
            ],
            "type": "heatmapgl"
           }
          ],
          "histogram": [
           {
            "marker": {
             "pattern": {
              "fillmode": "overlay",
              "size": 10,
              "solidity": 0.2
             }
            },
            "type": "histogram"
           }
          ],
          "histogram2d": [
           {
            "colorbar": {
             "outlinewidth": 0,
             "ticks": ""
            },
            "colorscale": [
             [
              0,
              "#0d0887"
             ],
             [
              0.1111111111111111,
              "#46039f"
             ],
             [
              0.2222222222222222,
              "#7201a8"
             ],
             [
              0.3333333333333333,
              "#9c179e"
             ],
             [
              0.4444444444444444,
              "#bd3786"
             ],
             [
              0.5555555555555556,
              "#d8576b"
             ],
             [
              0.6666666666666666,
              "#ed7953"
             ],
             [
              0.7777777777777778,
              "#fb9f3a"
             ],
             [
              0.8888888888888888,
              "#fdca26"
             ],
             [
              1,
              "#f0f921"
             ]
            ],
            "type": "histogram2d"
           }
          ],
          "histogram2dcontour": [
           {
            "colorbar": {
             "outlinewidth": 0,
             "ticks": ""
            },
            "colorscale": [
             [
              0,
              "#0d0887"
             ],
             [
              0.1111111111111111,
              "#46039f"
             ],
             [
              0.2222222222222222,
              "#7201a8"
             ],
             [
              0.3333333333333333,
              "#9c179e"
             ],
             [
              0.4444444444444444,
              "#bd3786"
             ],
             [
              0.5555555555555556,
              "#d8576b"
             ],
             [
              0.6666666666666666,
              "#ed7953"
             ],
             [
              0.7777777777777778,
              "#fb9f3a"
             ],
             [
              0.8888888888888888,
              "#fdca26"
             ],
             [
              1,
              "#f0f921"
             ]
            ],
            "type": "histogram2dcontour"
           }
          ],
          "mesh3d": [
           {
            "colorbar": {
             "outlinewidth": 0,
             "ticks": ""
            },
            "type": "mesh3d"
           }
          ],
          "parcoords": [
           {
            "line": {
             "colorbar": {
              "outlinewidth": 0,
              "ticks": ""
             }
            },
            "type": "parcoords"
           }
          ],
          "pie": [
           {
            "automargin": true,
            "type": "pie"
           }
          ],
          "scatter": [
           {
            "fillpattern": {
             "fillmode": "overlay",
             "size": 10,
             "solidity": 0.2
            },
            "type": "scatter"
           }
          ],
          "scatter3d": [
           {
            "line": {
             "colorbar": {
              "outlinewidth": 0,
              "ticks": ""
             }
            },
            "marker": {
             "colorbar": {
              "outlinewidth": 0,
              "ticks": ""
             }
            },
            "type": "scatter3d"
           }
          ],
          "scattercarpet": [
           {
            "marker": {
             "colorbar": {
              "outlinewidth": 0,
              "ticks": ""
             }
            },
            "type": "scattercarpet"
           }
          ],
          "scattergeo": [
           {
            "marker": {
             "colorbar": {
              "outlinewidth": 0,
              "ticks": ""
             }
            },
            "type": "scattergeo"
           }
          ],
          "scattergl": [
           {
            "marker": {
             "colorbar": {
              "outlinewidth": 0,
              "ticks": ""
             }
            },
            "type": "scattergl"
           }
          ],
          "scattermapbox": [
           {
            "marker": {
             "colorbar": {
              "outlinewidth": 0,
              "ticks": ""
             }
            },
            "type": "scattermapbox"
           }
          ],
          "scatterpolar": [
           {
            "marker": {
             "colorbar": {
              "outlinewidth": 0,
              "ticks": ""
             }
            },
            "type": "scatterpolar"
           }
          ],
          "scatterpolargl": [
           {
            "marker": {
             "colorbar": {
              "outlinewidth": 0,
              "ticks": ""
             }
            },
            "type": "scatterpolargl"
           }
          ],
          "scatterternary": [
           {
            "marker": {
             "colorbar": {
              "outlinewidth": 0,
              "ticks": ""
             }
            },
            "type": "scatterternary"
           }
          ],
          "surface": [
           {
            "colorbar": {
             "outlinewidth": 0,
             "ticks": ""
            },
            "colorscale": [
             [
              0,
              "#0d0887"
             ],
             [
              0.1111111111111111,
              "#46039f"
             ],
             [
              0.2222222222222222,
              "#7201a8"
             ],
             [
              0.3333333333333333,
              "#9c179e"
             ],
             [
              0.4444444444444444,
              "#bd3786"
             ],
             [
              0.5555555555555556,
              "#d8576b"
             ],
             [
              0.6666666666666666,
              "#ed7953"
             ],
             [
              0.7777777777777778,
              "#fb9f3a"
             ],
             [
              0.8888888888888888,
              "#fdca26"
             ],
             [
              1,
              "#f0f921"
             ]
            ],
            "type": "surface"
           }
          ],
          "table": [
           {
            "cells": {
             "fill": {
              "color": "#EBF0F8"
             },
             "line": {
              "color": "white"
             }
            },
            "header": {
             "fill": {
              "color": "#C8D4E3"
             },
             "line": {
              "color": "white"
             }
            },
            "type": "table"
           }
          ]
         },
         "layout": {
          "annotationdefaults": {
           "arrowcolor": "#2a3f5f",
           "arrowhead": 0,
           "arrowwidth": 1
          },
          "autotypenumbers": "strict",
          "coloraxis": {
           "colorbar": {
            "outlinewidth": 0,
            "ticks": ""
           }
          },
          "colorscale": {
           "diverging": [
            [
             0,
             "#8e0152"
            ],
            [
             0.1,
             "#c51b7d"
            ],
            [
             0.2,
             "#de77ae"
            ],
            [
             0.3,
             "#f1b6da"
            ],
            [
             0.4,
             "#fde0ef"
            ],
            [
             0.5,
             "#f7f7f7"
            ],
            [
             0.6,
             "#e6f5d0"
            ],
            [
             0.7,
             "#b8e186"
            ],
            [
             0.8,
             "#7fbc41"
            ],
            [
             0.9,
             "#4d9221"
            ],
            [
             1,
             "#276419"
            ]
           ],
           "sequential": [
            [
             0,
             "#0d0887"
            ],
            [
             0.1111111111111111,
             "#46039f"
            ],
            [
             0.2222222222222222,
             "#7201a8"
            ],
            [
             0.3333333333333333,
             "#9c179e"
            ],
            [
             0.4444444444444444,
             "#bd3786"
            ],
            [
             0.5555555555555556,
             "#d8576b"
            ],
            [
             0.6666666666666666,
             "#ed7953"
            ],
            [
             0.7777777777777778,
             "#fb9f3a"
            ],
            [
             0.8888888888888888,
             "#fdca26"
            ],
            [
             1,
             "#f0f921"
            ]
           ],
           "sequentialminus": [
            [
             0,
             "#0d0887"
            ],
            [
             0.1111111111111111,
             "#46039f"
            ],
            [
             0.2222222222222222,
             "#7201a8"
            ],
            [
             0.3333333333333333,
             "#9c179e"
            ],
            [
             0.4444444444444444,
             "#bd3786"
            ],
            [
             0.5555555555555556,
             "#d8576b"
            ],
            [
             0.6666666666666666,
             "#ed7953"
            ],
            [
             0.7777777777777778,
             "#fb9f3a"
            ],
            [
             0.8888888888888888,
             "#fdca26"
            ],
            [
             1,
             "#f0f921"
            ]
           ]
          },
          "colorway": [
           "#636efa",
           "#EF553B",
           "#00cc96",
           "#ab63fa",
           "#FFA15A",
           "#19d3f3",
           "#FF6692",
           "#B6E880",
           "#FF97FF",
           "#FECB52"
          ],
          "font": {
           "color": "#2a3f5f"
          },
          "geo": {
           "bgcolor": "white",
           "lakecolor": "white",
           "landcolor": "#E5ECF6",
           "showlakes": true,
           "showland": true,
           "subunitcolor": "white"
          },
          "hoverlabel": {
           "align": "left"
          },
          "hovermode": "closest",
          "mapbox": {
           "style": "light"
          },
          "paper_bgcolor": "white",
          "plot_bgcolor": "#E5ECF6",
          "polar": {
           "angularaxis": {
            "gridcolor": "white",
            "linecolor": "white",
            "ticks": ""
           },
           "bgcolor": "#E5ECF6",
           "radialaxis": {
            "gridcolor": "white",
            "linecolor": "white",
            "ticks": ""
           }
          },
          "scene": {
           "xaxis": {
            "backgroundcolor": "#E5ECF6",
            "gridcolor": "white",
            "gridwidth": 2,
            "linecolor": "white",
            "showbackground": true,
            "ticks": "",
            "zerolinecolor": "white"
           },
           "yaxis": {
            "backgroundcolor": "#E5ECF6",
            "gridcolor": "white",
            "gridwidth": 2,
            "linecolor": "white",
            "showbackground": true,
            "ticks": "",
            "zerolinecolor": "white"
           },
           "zaxis": {
            "backgroundcolor": "#E5ECF6",
            "gridcolor": "white",
            "gridwidth": 2,
            "linecolor": "white",
            "showbackground": true,
            "ticks": "",
            "zerolinecolor": "white"
           }
          },
          "shapedefaults": {
           "line": {
            "color": "#2a3f5f"
           }
          },
          "ternary": {
           "aaxis": {
            "gridcolor": "white",
            "linecolor": "white",
            "ticks": ""
           },
           "baxis": {
            "gridcolor": "white",
            "linecolor": "white",
            "ticks": ""
           },
           "bgcolor": "#E5ECF6",
           "caxis": {
            "gridcolor": "white",
            "linecolor": "white",
            "ticks": ""
           }
          },
          "title": {
           "x": 0.05
          },
          "xaxis": {
           "automargin": true,
           "gridcolor": "white",
           "linecolor": "white",
           "ticks": "",
           "title": {
            "standoff": 15
           },
           "zerolinecolor": "white",
           "zerolinewidth": 2
          },
          "yaxis": {
           "automargin": true,
           "gridcolor": "white",
           "linecolor": "white",
           "ticks": "",
           "title": {
            "standoff": 15
           },
           "zerolinecolor": "white",
           "zerolinewidth": 2
          }
         }
        },
        "title": {
         "text": "Discrepancy Score: UChicago vs Other Institutions"
        },
        "width": 800,
        "yaxis": {
         "categoryorder": "total descending"
        }
       }
      }
     },
     "metadata": {},
     "output_type": "display_data"
    }
   ],
   "source": [
    "fig = go.Figure()\n",
    "fig.add_trace(\n",
    "    go.Bar(\n",
    "        y = df_ds.name,\n",
    "        x = df_ds.ds,\n",
    "        text = df_ds.ds,\n",
    "        orientation = \"h\",\n",
    "        marker={'color': df_ds.ds,\n",
    "                'colorscale': 'Peach'}\n",
    "    )\n",
    ")\n",
    "fig.update_layout(title_text=\"Discrepancy Score: UChicago vs Other Institutions\",\n",
    "#                 template=\"plotly_dark\",\n",
    "                  yaxis={'categoryorder':'total descending'},\n",
    "                  width=800,\n",
    "                  height=600\n",
    "                  )\n",
    "fig.show()"
   ]
  },
  {
   "cell_type": "code",
   "execution_count": 157,
   "metadata": {},
   "outputs": [],
   "source": [
    "# create a matrix to store discrepancy score\n",
    "ds_matrix = np.zeros((10,10))\n",
    "\n",
    "# calculate the discrepancy score\n",
    "for i,a in enumerate(centralities):\n",
    "    df_a = df_groupby_inst[df_groupby_inst[\"name\"] == a]\n",
    "    for j,b in enumerate(centralities):\n",
    "        if b != a:\n",
    "            df_b = df_groupby_inst[df_groupby_inst[\"name\"] == b]\n",
    "            ds = round(sum([abs(df_a.loc[t,\"proportion\"] - df_b.loc[t,\"proportion\"]) for t in df_a.index]),4)\n",
    "            ds_matrix[i,j] = ds"
   ]
  },
  {
   "cell_type": "code",
   "execution_count": 158,
   "metadata": {},
   "outputs": [
    {
     "data": {
      "application/vnd.plotly.v1+json": {
       "config": {
        "plotlyServerURL": "https://plot.ly"
       },
       "data": [
        {
         "coloraxis": "coloraxis",
         "hovertemplate": "Centrality: %{x}<br>Centrality: %{y}<br>Discrepancy Score: %{z}<extra></extra>",
         "name": "0",
         "texttemplate": "%{z}",
         "type": "heatmap",
         "x": [
          "NYU",
          "UCB",
          "UChicago",
          "Harvard",
          "ColumbiaU",
          "LSE",
          "World Bank",
          "Stanford",
          "MIT",
          "UPenn"
         ],
         "xaxis": "x",
         "y": [
          "NYU",
          "UCB",
          "UChicago",
          "Harvard",
          "ColumbiaU",
          "LSE",
          "World Bank",
          "Stanford",
          "MIT",
          "UPenn"
         ],
         "yaxis": "y",
         "z": [
          [
           0,
           0.6894,
           0.3678,
           0.6635,
           0.3365,
           0.4144,
           0.9077,
           0.4388,
           0.6174,
           0.4994
          ],
          [
           0.6894,
           0,
           0.5521,
           0.4257,
           0.6347,
           0.6817,
           0.7546,
           0.4919,
           0.4457,
           0.7714
          ],
          [
           0.3678,
           0.5521,
           0,
           0.3888,
           0.3368,
           0.3442,
           0.7026,
           0.3652,
           0.6245,
           0.4737
          ],
          [
           0.6635,
           0.4257,
           0.3888,
           0,
           0.4762,
           0.585,
           0.7818,
           0.4401,
           0.3947,
           0.6122
          ],
          [
           0.3365,
           0.6347,
           0.3368,
           0.4762,
           0,
           0.4544,
           0.8211,
           0.4206,
           0.5389,
           0.369
          ],
          [
           0.4144,
           0.6817,
           0.3442,
           0.585,
           0.4544,
           0,
           0.7213,
           0.5785,
           0.7401,
           0.5321
          ],
          [
           0.9077,
           0.7546,
           0.7026,
           0.7818,
           0.8211,
           0.7213,
           0,
           0.8819,
           0.8291,
           0.9513
          ],
          [
           0.4388,
           0.4919,
           0.3652,
           0.4401,
           0.4206,
           0.5785,
           0.8819,
           0,
           0.4843,
           0.5026
          ],
          [
           0.6174,
           0.4457,
           0.6245,
           0.3947,
           0.5389,
           0.7401,
           0.8291,
           0.4843,
           0,
           0.6943
          ],
          [
           0.4994,
           0.7714,
           0.4737,
           0.6122,
           0.369,
           0.5321,
           0.9513,
           0.5026,
           0.6943,
           0
          ]
         ]
        }
       ],
       "layout": {
        "coloraxis": {
         "colorbar": {
          "title": {
           "text": "Discrepancy Score"
          }
         },
         "colorscale": [
          [
           0,
           "#0d0887"
          ],
          [
           0.1111111111111111,
           "#46039f"
          ],
          [
           0.2222222222222222,
           "#7201a8"
          ],
          [
           0.3333333333333333,
           "#9c179e"
          ],
          [
           0.4444444444444444,
           "#bd3786"
          ],
          [
           0.5555555555555556,
           "#d8576b"
          ],
          [
           0.6666666666666666,
           "#ed7953"
          ],
          [
           0.7777777777777778,
           "#fb9f3a"
          ],
          [
           0.8888888888888888,
           "#fdca26"
          ],
          [
           1,
           "#f0f921"
          ]
         ]
        },
        "height": 800,
        "margin": {
         "t": 60
        },
        "template": {
         "data": {
          "bar": [
           {
            "error_x": {
             "color": "#2a3f5f"
            },
            "error_y": {
             "color": "#2a3f5f"
            },
            "marker": {
             "line": {
              "color": "#E5ECF6",
              "width": 0.5
             },
             "pattern": {
              "fillmode": "overlay",
              "size": 10,
              "solidity": 0.2
             }
            },
            "type": "bar"
           }
          ],
          "barpolar": [
           {
            "marker": {
             "line": {
              "color": "#E5ECF6",
              "width": 0.5
             },
             "pattern": {
              "fillmode": "overlay",
              "size": 10,
              "solidity": 0.2
             }
            },
            "type": "barpolar"
           }
          ],
          "carpet": [
           {
            "aaxis": {
             "endlinecolor": "#2a3f5f",
             "gridcolor": "white",
             "linecolor": "white",
             "minorgridcolor": "white",
             "startlinecolor": "#2a3f5f"
            },
            "baxis": {
             "endlinecolor": "#2a3f5f",
             "gridcolor": "white",
             "linecolor": "white",
             "minorgridcolor": "white",
             "startlinecolor": "#2a3f5f"
            },
            "type": "carpet"
           }
          ],
          "choropleth": [
           {
            "colorbar": {
             "outlinewidth": 0,
             "ticks": ""
            },
            "type": "choropleth"
           }
          ],
          "contour": [
           {
            "colorbar": {
             "outlinewidth": 0,
             "ticks": ""
            },
            "colorscale": [
             [
              0,
              "#0d0887"
             ],
             [
              0.1111111111111111,
              "#46039f"
             ],
             [
              0.2222222222222222,
              "#7201a8"
             ],
             [
              0.3333333333333333,
              "#9c179e"
             ],
             [
              0.4444444444444444,
              "#bd3786"
             ],
             [
              0.5555555555555556,
              "#d8576b"
             ],
             [
              0.6666666666666666,
              "#ed7953"
             ],
             [
              0.7777777777777778,
              "#fb9f3a"
             ],
             [
              0.8888888888888888,
              "#fdca26"
             ],
             [
              1,
              "#f0f921"
             ]
            ],
            "type": "contour"
           }
          ],
          "contourcarpet": [
           {
            "colorbar": {
             "outlinewidth": 0,
             "ticks": ""
            },
            "type": "contourcarpet"
           }
          ],
          "heatmap": [
           {
            "colorbar": {
             "outlinewidth": 0,
             "ticks": ""
            },
            "colorscale": [
             [
              0,
              "#0d0887"
             ],
             [
              0.1111111111111111,
              "#46039f"
             ],
             [
              0.2222222222222222,
              "#7201a8"
             ],
             [
              0.3333333333333333,
              "#9c179e"
             ],
             [
              0.4444444444444444,
              "#bd3786"
             ],
             [
              0.5555555555555556,
              "#d8576b"
             ],
             [
              0.6666666666666666,
              "#ed7953"
             ],
             [
              0.7777777777777778,
              "#fb9f3a"
             ],
             [
              0.8888888888888888,
              "#fdca26"
             ],
             [
              1,
              "#f0f921"
             ]
            ],
            "type": "heatmap"
           }
          ],
          "heatmapgl": [
           {
            "colorbar": {
             "outlinewidth": 0,
             "ticks": ""
            },
            "colorscale": [
             [
              0,
              "#0d0887"
             ],
             [
              0.1111111111111111,
              "#46039f"
             ],
             [
              0.2222222222222222,
              "#7201a8"
             ],
             [
              0.3333333333333333,
              "#9c179e"
             ],
             [
              0.4444444444444444,
              "#bd3786"
             ],
             [
              0.5555555555555556,
              "#d8576b"
             ],
             [
              0.6666666666666666,
              "#ed7953"
             ],
             [
              0.7777777777777778,
              "#fb9f3a"
             ],
             [
              0.8888888888888888,
              "#fdca26"
             ],
             [
              1,
              "#f0f921"
             ]
            ],
            "type": "heatmapgl"
           }
          ],
          "histogram": [
           {
            "marker": {
             "pattern": {
              "fillmode": "overlay",
              "size": 10,
              "solidity": 0.2
             }
            },
            "type": "histogram"
           }
          ],
          "histogram2d": [
           {
            "colorbar": {
             "outlinewidth": 0,
             "ticks": ""
            },
            "colorscale": [
             [
              0,
              "#0d0887"
             ],
             [
              0.1111111111111111,
              "#46039f"
             ],
             [
              0.2222222222222222,
              "#7201a8"
             ],
             [
              0.3333333333333333,
              "#9c179e"
             ],
             [
              0.4444444444444444,
              "#bd3786"
             ],
             [
              0.5555555555555556,
              "#d8576b"
             ],
             [
              0.6666666666666666,
              "#ed7953"
             ],
             [
              0.7777777777777778,
              "#fb9f3a"
             ],
             [
              0.8888888888888888,
              "#fdca26"
             ],
             [
              1,
              "#f0f921"
             ]
            ],
            "type": "histogram2d"
           }
          ],
          "histogram2dcontour": [
           {
            "colorbar": {
             "outlinewidth": 0,
             "ticks": ""
            },
            "colorscale": [
             [
              0,
              "#0d0887"
             ],
             [
              0.1111111111111111,
              "#46039f"
             ],
             [
              0.2222222222222222,
              "#7201a8"
             ],
             [
              0.3333333333333333,
              "#9c179e"
             ],
             [
              0.4444444444444444,
              "#bd3786"
             ],
             [
              0.5555555555555556,
              "#d8576b"
             ],
             [
              0.6666666666666666,
              "#ed7953"
             ],
             [
              0.7777777777777778,
              "#fb9f3a"
             ],
             [
              0.8888888888888888,
              "#fdca26"
             ],
             [
              1,
              "#f0f921"
             ]
            ],
            "type": "histogram2dcontour"
           }
          ],
          "mesh3d": [
           {
            "colorbar": {
             "outlinewidth": 0,
             "ticks": ""
            },
            "type": "mesh3d"
           }
          ],
          "parcoords": [
           {
            "line": {
             "colorbar": {
              "outlinewidth": 0,
              "ticks": ""
             }
            },
            "type": "parcoords"
           }
          ],
          "pie": [
           {
            "automargin": true,
            "type": "pie"
           }
          ],
          "scatter": [
           {
            "fillpattern": {
             "fillmode": "overlay",
             "size": 10,
             "solidity": 0.2
            },
            "type": "scatter"
           }
          ],
          "scatter3d": [
           {
            "line": {
             "colorbar": {
              "outlinewidth": 0,
              "ticks": ""
             }
            },
            "marker": {
             "colorbar": {
              "outlinewidth": 0,
              "ticks": ""
             }
            },
            "type": "scatter3d"
           }
          ],
          "scattercarpet": [
           {
            "marker": {
             "colorbar": {
              "outlinewidth": 0,
              "ticks": ""
             }
            },
            "type": "scattercarpet"
           }
          ],
          "scattergeo": [
           {
            "marker": {
             "colorbar": {
              "outlinewidth": 0,
              "ticks": ""
             }
            },
            "type": "scattergeo"
           }
          ],
          "scattergl": [
           {
            "marker": {
             "colorbar": {
              "outlinewidth": 0,
              "ticks": ""
             }
            },
            "type": "scattergl"
           }
          ],
          "scattermapbox": [
           {
            "marker": {
             "colorbar": {
              "outlinewidth": 0,
              "ticks": ""
             }
            },
            "type": "scattermapbox"
           }
          ],
          "scatterpolar": [
           {
            "marker": {
             "colorbar": {
              "outlinewidth": 0,
              "ticks": ""
             }
            },
            "type": "scatterpolar"
           }
          ],
          "scatterpolargl": [
           {
            "marker": {
             "colorbar": {
              "outlinewidth": 0,
              "ticks": ""
             }
            },
            "type": "scatterpolargl"
           }
          ],
          "scatterternary": [
           {
            "marker": {
             "colorbar": {
              "outlinewidth": 0,
              "ticks": ""
             }
            },
            "type": "scatterternary"
           }
          ],
          "surface": [
           {
            "colorbar": {
             "outlinewidth": 0,
             "ticks": ""
            },
            "colorscale": [
             [
              0,
              "#0d0887"
             ],
             [
              0.1111111111111111,
              "#46039f"
             ],
             [
              0.2222222222222222,
              "#7201a8"
             ],
             [
              0.3333333333333333,
              "#9c179e"
             ],
             [
              0.4444444444444444,
              "#bd3786"
             ],
             [
              0.5555555555555556,
              "#d8576b"
             ],
             [
              0.6666666666666666,
              "#ed7953"
             ],
             [
              0.7777777777777778,
              "#fb9f3a"
             ],
             [
              0.8888888888888888,
              "#fdca26"
             ],
             [
              1,
              "#f0f921"
             ]
            ],
            "type": "surface"
           }
          ],
          "table": [
           {
            "cells": {
             "fill": {
              "color": "#EBF0F8"
             },
             "line": {
              "color": "white"
             }
            },
            "header": {
             "fill": {
              "color": "#C8D4E3"
             },
             "line": {
              "color": "white"
             }
            },
            "type": "table"
           }
          ]
         },
         "layout": {
          "annotationdefaults": {
           "arrowcolor": "#2a3f5f",
           "arrowhead": 0,
           "arrowwidth": 1
          },
          "autotypenumbers": "strict",
          "coloraxis": {
           "colorbar": {
            "outlinewidth": 0,
            "ticks": ""
           }
          },
          "colorscale": {
           "diverging": [
            [
             0,
             "#8e0152"
            ],
            [
             0.1,
             "#c51b7d"
            ],
            [
             0.2,
             "#de77ae"
            ],
            [
             0.3,
             "#f1b6da"
            ],
            [
             0.4,
             "#fde0ef"
            ],
            [
             0.5,
             "#f7f7f7"
            ],
            [
             0.6,
             "#e6f5d0"
            ],
            [
             0.7,
             "#b8e186"
            ],
            [
             0.8,
             "#7fbc41"
            ],
            [
             0.9,
             "#4d9221"
            ],
            [
             1,
             "#276419"
            ]
           ],
           "sequential": [
            [
             0,
             "#0d0887"
            ],
            [
             0.1111111111111111,
             "#46039f"
            ],
            [
             0.2222222222222222,
             "#7201a8"
            ],
            [
             0.3333333333333333,
             "#9c179e"
            ],
            [
             0.4444444444444444,
             "#bd3786"
            ],
            [
             0.5555555555555556,
             "#d8576b"
            ],
            [
             0.6666666666666666,
             "#ed7953"
            ],
            [
             0.7777777777777778,
             "#fb9f3a"
            ],
            [
             0.8888888888888888,
             "#fdca26"
            ],
            [
             1,
             "#f0f921"
            ]
           ],
           "sequentialminus": [
            [
             0,
             "#0d0887"
            ],
            [
             0.1111111111111111,
             "#46039f"
            ],
            [
             0.2222222222222222,
             "#7201a8"
            ],
            [
             0.3333333333333333,
             "#9c179e"
            ],
            [
             0.4444444444444444,
             "#bd3786"
            ],
            [
             0.5555555555555556,
             "#d8576b"
            ],
            [
             0.6666666666666666,
             "#ed7953"
            ],
            [
             0.7777777777777778,
             "#fb9f3a"
            ],
            [
             0.8888888888888888,
             "#fdca26"
            ],
            [
             1,
             "#f0f921"
            ]
           ]
          },
          "colorway": [
           "#636efa",
           "#EF553B",
           "#00cc96",
           "#ab63fa",
           "#FFA15A",
           "#19d3f3",
           "#FF6692",
           "#B6E880",
           "#FF97FF",
           "#FECB52"
          ],
          "font": {
           "color": "#2a3f5f"
          },
          "geo": {
           "bgcolor": "white",
           "lakecolor": "white",
           "landcolor": "#E5ECF6",
           "showlakes": true,
           "showland": true,
           "subunitcolor": "white"
          },
          "hoverlabel": {
           "align": "left"
          },
          "hovermode": "closest",
          "mapbox": {
           "style": "light"
          },
          "paper_bgcolor": "white",
          "plot_bgcolor": "#E5ECF6",
          "polar": {
           "angularaxis": {
            "gridcolor": "white",
            "linecolor": "white",
            "ticks": ""
           },
           "bgcolor": "#E5ECF6",
           "radialaxis": {
            "gridcolor": "white",
            "linecolor": "white",
            "ticks": ""
           }
          },
          "scene": {
           "xaxis": {
            "backgroundcolor": "#E5ECF6",
            "gridcolor": "white",
            "gridwidth": 2,
            "linecolor": "white",
            "showbackground": true,
            "ticks": "",
            "zerolinecolor": "white"
           },
           "yaxis": {
            "backgroundcolor": "#E5ECF6",
            "gridcolor": "white",
            "gridwidth": 2,
            "linecolor": "white",
            "showbackground": true,
            "ticks": "",
            "zerolinecolor": "white"
           },
           "zaxis": {
            "backgroundcolor": "#E5ECF6",
            "gridcolor": "white",
            "gridwidth": 2,
            "linecolor": "white",
            "showbackground": true,
            "ticks": "",
            "zerolinecolor": "white"
           }
          },
          "shapedefaults": {
           "line": {
            "color": "#2a3f5f"
           }
          },
          "ternary": {
           "aaxis": {
            "gridcolor": "white",
            "linecolor": "white",
            "ticks": ""
           },
           "baxis": {
            "gridcolor": "white",
            "linecolor": "white",
            "ticks": ""
           },
           "bgcolor": "#E5ECF6",
           "caxis": {
            "gridcolor": "white",
            "linecolor": "white",
            "ticks": ""
           }
          },
          "title": {
           "x": 0.05
          },
          "xaxis": {
           "automargin": true,
           "gridcolor": "white",
           "linecolor": "white",
           "ticks": "",
           "title": {
            "standoff": 15
           },
           "zerolinecolor": "white",
           "zerolinewidth": 2
          },
          "yaxis": {
           "automargin": true,
           "gridcolor": "white",
           "linecolor": "white",
           "ticks": "",
           "title": {
            "standoff": 15
           },
           "zerolinecolor": "white",
           "zerolinewidth": 2
          }
         }
        },
        "width": 1000,
        "xaxis": {
         "anchor": "y",
         "constrain": "domain",
         "domain": [
          0,
          1
         ],
         "scaleanchor": "y",
         "side": "top",
         "title": {
          "text": "Centrality"
         }
        },
        "yaxis": {
         "anchor": "x",
         "autorange": "reversed",
         "constrain": "domain",
         "domain": [
          0,
          1
         ],
         "title": {
          "text": "Centrality"
         }
        }
       }
      }
     },
     "metadata": {},
     "output_type": "display_data"
    }
   ],
   "source": [
    "# create heatmap\n",
    "fig = px.imshow(ds_matrix,\n",
    "                labels=dict(x=\"Centrality\", y=\"Centrality\", color=\"Discrepancy Score\"),\n",
    "                x=centralities_abbr,\n",
    "                y=centralities_abbr,\n",
    "                width=1000,\n",
    "                height=800,\n",
    "                text_auto=True\n",
    "               )\n",
    "fig.update_xaxes(side=\"top\")\n",
    "fig.show()"
   ]
  },
  {
   "cell_type": "code",
   "execution_count": 478,
   "metadata": {},
   "outputs": [],
   "source": [
    "# get similariy scores among topics\n",
    "sim_matrix = np.array([[1.0000000000000002,0.7147984475534911,0.7014265407639376,0.7006396257199394,0.7778786047625297,0.5922797684354025,0.5022375439392693,0.5531182528435046,0.6001441770957048,0.6000236844562628,0.4625063111998686,0.6409650879315685,0.7227618739555189,0.555888913090619,0.5581763156546831,0.600151910176733,0.592229711028879,0.5269338979616478,0.547177802969863,0.702776718479375,0.6435280282007646,0.6592394189551795],[0.7147984475534911,1.0000000000000002,0.6284216212907492,0.6320490711101101,0.6804351140485507,0.5383010283871257,0.5738934063448802,0.6201421904336015,0.6294546660414082,0.566983817052494,0.4504401945996297,0.4514997242208933,0.6067436943480378,0.6325297009597531,0.5798112478875728,0.5046660575559667,0.5308512925363487,0.5218729787726594,0.6567495082773667,0.6099382385810952,0.6130405139788322,0.5575090733972362],[0.7014265407639376,0.6284216212907492,1.0000000000000004,0.6609332232573086,0.6729068782699498,0.5061633122729859,0.4921872479800501,0.560295780574679,0.579782305444816,0.5661429379977096,0.6050782762250435,0.584749404966878,0.6869079862452971,0.5820507666292603,0.5838313301774724,0.5095852241440804,0.5702718115933102,0.5960230118171184,0.5500748885764796,0.6648252032810669,0.5989703814337206,0.6250668888446331],[0.7006396257199394,0.6320490711101101,0.6609332232573086,0.9999999999999999,0.7764920194289504,0.5144630801637335,0.4548392719816442,0.4376551486653905,0.44561409449929806,0.4406325828077863,0.5555709770108007,0.596077314120969,0.5988384129727505,0.4923721079923043,0.4453615289772871,0.5348859849786131,0.6269861881015292,0.5367347815342356,0.5221263234562231,0.6248715174932555,0.6095426447934813,0.508840112984511],[0.7778786047625297,0.6804351140485507,0.6729068782699498,0.7764920194289504,0.9999999999999996,0.522163487970389,0.5066375660264243,0.5007192907620102,0.5236222975116621,0.49166176360780944,0.4383826395830004,0.5233785367642482,0.641346095047594,0.5496025529163614,0.505388839227404,0.6219539795586883,0.6956947818026169,0.5206727045689543,0.5429115093813152,0.6735153440794649,0.6111579801155391,0.5634829268435186],[0.5922797684354025,0.5383010283871257,0.5061633122729859,0.5144630801637335,0.522163487970389,0.9999999999999999,0.4604255353650464,0.43793502148395347,0.503628961458128,0.42973176229642174,0.4283888814309866,0.4342395969823304,0.53466014998095,0.457750025584157,0.4134285261639455,0.46584466680974956,0.2969539009334088,0.5186201661086887,0.5196024113236934,0.5861059367305141,0.6054199448901427,0.48030883077476183],[0.5022375439392693,0.5738934063448802,0.4921872479800501,0.4548392719816442,0.5066375660264243,0.4604255353650464,0.9999999999999996,0.49034459163657174,0.514394710505574,0.4131424753009892,0.4619417518732485,0.4139491183643704,0.44927017482420134,0.48038035084794084,0.5004357017786182,0.3270087419837477,0.44235901378147924,0.430363432858759,0.594282711295201,0.40752581662021475,0.4944405864031689,0.45586974897823995],[0.5531182528435046,0.6201421904336015,0.560295780574679,0.4376551486653905,0.5007192907620102,0.43793502148395347,0.49034459163657174,0.9999999999999996,0.6035688122754659,0.4762564452741156,0.43320159794931795,0.3773128277169012,0.5121162390795809,0.5310415626895615,0.5008588489040519,0.4299054920020871,0.3643768599423658,0.46454818627782474,0.5144713867793365,0.5443445663791564,0.5517992645446195,0.5275232216684699],[0.6001441770957048,0.6294546660414082,0.579782305444816,0.44561409449929806,0.5236222975116621,0.503628961458128,0.514394710505574,0.6035688122754659,0.9999999999999994,0.6035421588661116,0.4896537623099643,0.4176780569812582,0.6084741752330263,0.6798275471926655,0.5265016590201328,0.4638790885681924,0.3835771707156729,0.5472753083558389,0.6245939542416146,0.535742357367783,0.5035541009322053,0.6158697913676973],[0.6000236844562628,0.566983817052494,0.5661429379977096,0.4406325828077863,0.49166176360780944,0.42973176229642174,0.4131424753009892,0.4762564452741156,0.6035421588661116,0.9999999999999999,0.4209121378108677,0.43880480059702837,0.555724172352225,0.4751212052153899,0.4557333731149137,0.507394118113269,0.34579421947632066,0.430261629309888,0.5049714512989767,0.5148631029697484,0.4829168514225163,0.5213726694445988],[0.4625063111998686,0.4504401945996297,0.6050782762250435,0.5555709770108007,0.4383826395830004,0.4283888814309866,0.4619417518732485,0.43320159794931795,0.4896537623099643,0.4209121378108677,1.0,0.3883062832676293,0.47991109306795515,0.4294628338291644,0.4719169399721731,0.373630509095245,0.3357652220086118,0.5583867567335257,0.5573541389561089,0.47781387417905374,0.5849969763665227,0.5114869075540638],[0.6409650879315685,0.4514997242208933,0.584749404966878,0.596077314120969,0.5233785367642482,0.4342395969823304,0.4139491183643704,0.3773128277169012,0.4176780569812582,0.43880480059702837,0.3883062832676293,1.0000000000000002,0.6445289302254054,0.3823617457849751,0.4173155661478176,0.44837276117831026,0.4512385478249868,0.44242005876232626,0.39297934834158954,0.48614121445411795,0.47472813801510083,0.5373132590176808],[0.7227618739555189,0.6067436943480378,0.6869079862452971,0.5988384129727505,0.641346095047594,0.53466014998095,0.44927017482420134,0.5121162390795809,0.6084741752330263,0.555724172352225,0.47991109306795515,0.6445289302254054,0.9999999999999998,0.5106811733030785,0.43534405189186076,0.4936846011897392,0.501048766571092,0.5806219525925604,0.5120045251765157,0.6662545437522298,0.572861282774108,0.8251717931649691],[0.555888913090619,0.6325297009597531,0.5820507666292603,0.4923721079923043,0.5496025529163614,0.457750025584157,0.48038035084794084,0.5310415626895615,0.6798275471926655,0.4751212052153899,0.4294628338291644,0.3823617457849751,0.5106811733030785,0.9999999999999998,0.4475717617963131,0.40396264206225746,0.4157966948868965,0.44197917566119355,0.586042888401972,0.4836532209238663,0.5021880123386631,0.48154316508847894],[0.5581763156546831,0.5798112478875728,0.5838313301774724,0.4453615289772871,0.505388839227404,0.4134285261639455,0.5004357017786182,0.5008588489040519,0.5265016590201328,0.4557333731149137,0.4719169399721731,0.4173155661478176,0.43534405189186076,0.4475717617963131,1.0,0.4502399630768949,0.38690183406697465,0.4066290498760969,0.5826451205855495,0.4456876652295271,0.5216934336627665,0.4631428825275372],[0.600151910176733,0.5046660575559667,0.5095852241440804,0.5348859849786131,0.6219539795586883,0.46584466680974956,0.3270087419837477,0.4299054920020871,0.4638790885681924,0.507394118113269,0.373630509095245,0.44837276117831026,0.4936846011897392,0.40396264206225746,0.4502399630768949,1.0,0.4084621707638882,0.43888430003206785,0.4387783139124419,0.7231455557188894,0.49830651122417696,0.42990637893943334],[0.592229711028879,0.5308512925363487,0.5702718115933102,0.6269861881015292,0.6956947818026169,0.2969539009334088,0.44235901378147924,0.3643768599423658,0.3835771707156729,0.34579421947632066,0.3357652220086118,0.4512385478249868,0.501048766571092,0.4157966948868965,0.38690183406697465,0.4084621707638882,1.0,0.3887277642480377,0.3968220703579022,0.3843326076284886,0.4092515174645326,0.41297481842897904],[0.5269338979616478,0.5218729787726594,0.5960230118171184,0.5367347815342356,0.5206727045689543,0.5186201661086887,0.430363432858759,0.46454818627782474,0.5472753083558389,0.430261629309888,0.5583867567335257,0.44242005876232626,0.5806219525925604,0.44197917566119355,0.4066290498760969,0.43888430003206785,0.3887277642480377,0.9999999999999998,0.5284727614396312,0.5987386361704146,0.6154958682392577,0.5984958338977379],[0.547177802969863,0.6567495082773667,0.5500748885764796,0.5221263234562231,0.5429115093813152,0.5196024113236934,0.594282711295201,0.5144713867793365,0.6245939542416146,0.5049714512989767,0.5573541389561089,0.39297934834158954,0.5120045251765157,0.586042888401972,0.5826451205855495,0.4387783139124419,0.3968220703579022,0.5284727614396312,0.9999999999999997,0.5300451691553256,0.5637201065241644,0.529620642955999],[0.702776718479375,0.6099382385810952,0.6648252032810669,0.6248715174932555,0.6735153440794649,0.5861059367305141,0.40752581662021475,0.5443445663791564,0.535742357367783,0.5148631029697484,0.47781387417905374,0.48614121445411795,0.6662545437522298,0.4836532209238663,0.4456876652295271,0.7231455557188894,0.3843326076284886,0.5987386361704146,0.5300451691553256,1.0,0.6626945175998177,0.5669410194954438],[0.6435280282007646,0.6130405139788322,0.5989703814337206,0.6095426447934813,0.6111579801155391,0.6054199448901427,0.4944405864031689,0.5517992645446195,0.5035541009322053,0.4829168514225163,0.5849969763665227,0.47472813801510083,0.572861282774108,0.5021880123386631,0.5216934336627665,0.49830651122417696,0.4092515174645326,0.6154958682392577,0.5637201065241644,0.6626945175998177,0.9999999999999996,0.5571531889215439],[0.6592394189551795,0.5575090733972362,0.6250668888446331,0.508840112984511,0.5634829268435186,0.48030883077476183,0.45586974897823995,0.5275232216684699,0.6158697913676973,0.5213726694445988,0.5114869075540638,0.5373132590176808,0.8251717931649691,0.48154316508847894,0.4631428825275372,0.42990637893943334,0.41297481842897904,0.5984958338977379,0.529620642955999,0.5669410194954438,0.5571531889215439,0.9999999999999997]])"
   ]
  },
  {
   "cell_type": "code",
   "execution_count": 479,
   "metadata": {},
   "outputs": [],
   "source": [
    "min_sim = np.amin(sim_matrix)\n",
    "max_sim = 1\n",
    "for i in range(len(sim_matrix)):\n",
    "    for j in range(len(sim_matrix)):\n",
    "        sim_matrix[i][j] = (sim_matrix[i][j] - min_sim) / (max_sim - min_sim)"
   ]
  },
  {
   "cell_type": "code",
   "execution_count": 55,
   "metadata": {},
   "outputs": [],
   "source": [
    "# calculate documents similarity given a time period\n",
    "def cal_sim(data, univ):\n",
    "    '''\n",
    "    univ: university name\n",
    "    '''\n",
    "    df = data[data[\"name\"] == univ]\n",
    "    cnt = len(df)\n",
    "    total_comb = math.comb(cnt,2)\n",
    "    sum_sim = 0\n",
    "    for i in range(cnt - 1):\n",
    "        for j in range(cnt - i - 1):\n",
    "            sum_sim += int(data[\"topic\"][i] == data[\"topic\"][j+i+1])\n",
    "    try:\n",
    "        ave_sim = sum_sim / total_comb\n",
    "    except:\n",
    "        ave_sim = 1\n",
    "    return ave_sim"
   ]
  },
  {
   "cell_type": "code",
   "execution_count": 413,
   "metadata": {},
   "outputs": [
    {
     "data": {
      "application/vnd.jupyter.widget-view+json": {
       "model_id": "17c7a095bb3c47aeaff451af0465c891",
       "version_major": 2,
       "version_minor": 0
      },
      "text/plain": [
       "Batches:   0%|          | 0/1 [00:00<?, ?it/s]"
      ]
     },
     "metadata": {},
     "output_type": "display_data"
    },
    {
     "name": "stderr",
     "output_type": "stream",
     "text": [
      "2023-02-28 00:06:45,756 - BERTopic - Reduced dimensionality\n",
      "2023-02-28 00:06:45,757 - BERTopic - Predicted clusters\n"
     ]
    }
   ],
   "source": [
    "# predicted_topics, predicted_probs = topic_model.transform(abstracts[100])"
   ]
  },
  {
   "cell_type": "code",
   "execution_count": 56,
   "metadata": {},
   "outputs": [],
   "source": [
    "df_ranked_aff = df_s[df_s[\"rank\"] != \"\"].drop_duplicates(subset=[\"name\"])[[\"name\",\"rank\"]]"
   ]
  },
  {
   "cell_type": "code",
   "execution_count": 57,
   "metadata": {},
   "outputs": [
    {
     "data": {
      "text/plain": [
       "201"
      ]
     },
     "execution_count": 57,
     "metadata": {},
     "output_type": "execute_result"
    }
   ],
   "source": [
    "len(df_ranked_aff)"
   ]
  },
  {
   "cell_type": "code",
   "execution_count": 58,
   "metadata": {},
   "outputs": [],
   "source": [
    "# calculate similarity score per year over time\n",
    "sim_score_by_univ = []\n",
    "for univ in list(df_ranked_aff.name):\n",
    "    sim_score_by_univ.append(cal_sim(df_s, univ))"
   ]
  },
  {
   "cell_type": "code",
   "execution_count": 59,
   "metadata": {},
   "outputs": [
    {
     "data": {
      "text/html": [
       "<div>\n",
       "<style scoped>\n",
       "    .dataframe tbody tr th:only-of-type {\n",
       "        vertical-align: middle;\n",
       "    }\n",
       "\n",
       "    .dataframe tbody tr th {\n",
       "        vertical-align: top;\n",
       "    }\n",
       "\n",
       "    .dataframe thead th {\n",
       "        text-align: right;\n",
       "    }\n",
       "</style>\n",
       "<table border=\"1\" class=\"dataframe\">\n",
       "  <thead>\n",
       "    <tr style=\"text-align: right;\">\n",
       "      <th></th>\n",
       "      <th>rank</th>\n",
       "      <th>sim_score</th>\n",
       "    </tr>\n",
       "    <tr>\n",
       "      <th>name</th>\n",
       "      <th></th>\n",
       "      <th></th>\n",
       "    </tr>\n",
       "  </thead>\n",
       "  <tbody>\n",
       "    <tr>\n",
       "      <th>University of Toronto</th>\n",
       "      <td>71</td>\n",
       "      <td>0.208739</td>\n",
       "    </tr>\n",
       "    <tr>\n",
       "      <th>University of Chicago</th>\n",
       "      <td>9</td>\n",
       "      <td>0.225666</td>\n",
       "    </tr>\n",
       "    <tr>\n",
       "      <th>University of Oxford</th>\n",
       "      <td>28</td>\n",
       "      <td>0.220448</td>\n",
       "    </tr>\n",
       "    <tr>\n",
       "      <th>University of Michigan</th>\n",
       "      <td>73</td>\n",
       "      <td>0.211125</td>\n",
       "    </tr>\n",
       "    <tr>\n",
       "      <th>Cardiff University</th>\n",
       "      <td>385</td>\n",
       "      <td>0.361905</td>\n",
       "    </tr>\n",
       "  </tbody>\n",
       "</table>\n",
       "</div>"
      ],
      "text/plain": [
       "                        rank  sim_score\n",
       "name                                   \n",
       "University of Toronto     71   0.208739\n",
       "University of Chicago      9   0.225666\n",
       "University of Oxford      28   0.220448\n",
       "University of Michigan    73   0.211125\n",
       "Cardiff University       385   0.361905"
      ]
     },
     "execution_count": 59,
     "metadata": {},
     "output_type": "execute_result"
    }
   ],
   "source": [
    "df_ranked_aff[\"sim_score\"] = sim_score_by_univ\n",
    "df_ranked_aff = df_ranked_aff.astype({\"rank\":\"int\"}).set_index(\"name\")\n",
    "df_ranked_aff.head()"
   ]
  },
  {
   "cell_type": "code",
   "execution_count": 60,
   "metadata": {},
   "outputs": [
    {
     "data": {
      "application/vnd.plotly.v1+json": {
       "config": {
        "plotlyServerURL": "https://plot.ly"
       },
       "data": [
        {
         "hovertemplate": "rank=%{x}<br>sim_score=%{y}<extra></extra>",
         "legendgroup": "",
         "marker": {
          "color": "#636efa",
          "symbol": "circle"
         },
         "mode": "markers",
         "name": "",
         "orientation": "v",
         "showlegend": false,
         "type": "scatter",
         "x": [
          71,
          9,
          28,
          73,
          385,
          164,
          65,
          14,
          159,
          83,
          20,
          38,
          35,
          50,
          93,
          8,
          52,
          81,
          268,
          55,
          54,
          100,
          63,
          69,
          346,
          194,
          4,
          31,
          151,
          128,
          5,
          188,
          155,
          119,
          276,
          70,
          2,
          441,
          12,
          310,
          25,
          17,
          335,
          514,
          542,
          176,
          264,
          89,
          448,
          407,
          78,
          235,
          117,
          480,
          43,
          449,
          10,
          87,
          1,
          220,
          338,
          92,
          138,
          231,
          112,
          250,
          287,
          193,
          415,
          147,
          320,
          99,
          177,
          44,
          345,
          114,
          410,
          182,
          11,
          364,
          143,
          211,
          22,
          127,
          141,
          357,
          457,
          348,
          124,
          197,
          49,
          360,
          221,
          308,
          157,
          305,
          406,
          462,
          524,
          96,
          169,
          408,
          213,
          126,
          29,
          113,
          165,
          293,
          125,
          399,
          253,
          460,
          108,
          313,
          190,
          84,
          523,
          498,
          238,
          260,
          527,
          219,
          257,
          77,
          536,
          326,
          472,
          270,
          388,
          271,
          299,
          466,
          311,
          424,
          375,
          142,
          30,
          298,
          396,
          330,
          334,
          279,
          404,
          163,
          504,
          207,
          484,
          26,
          519,
          289,
          465,
          229,
          458,
          416,
          241,
          333,
          402,
          321,
          490,
          522,
          218,
          401,
          423,
          445,
          302,
          286,
          40,
          140,
          309,
          436,
          539,
          440,
          371,
          139,
          51,
          483,
          526,
          535,
          255,
          196,
          296,
          150,
          506,
          192,
          502,
          288,
          363,
          202,
          398,
          329,
          487,
          536,
          534,
          249,
          288,
          309,
          29,
          331,
          288,
          537,
          273
         ],
         "xaxis": "x",
         "y": [
          0.2087390761548065,
          0.22566625666256662,
          0.22044817927170868,
          0.2111251580278129,
          0.3619047619047619,
          0.23512658227848102,
          0.22880414661236578,
          0.2266987951807229,
          0.42,
          0.2522474881015336,
          0.21043610740811275,
          0.21724137931034482,
          0.21002613447374674,
          0.21866243721913825,
          0.21526610644257704,
          0.22463501410869832,
          0.2206174777603349,
          0.2946859903381642,
          0.3684210526315789,
          0.20636889991728702,
          0.21370274914089346,
          0.25846994535519124,
          0.346031746031746,
          0.2412617220801364,
          0.37662337662337664,
          0.33681765389082463,
          0.20786846741045215,
          0.22088353413654618,
          0.22880414661236578,
          0.3619047619047619,
          0.22633665488053145,
          0.31721194879089615,
          0.23512658227848102,
          0.2882205513784461,
          0.3224101479915433,
          0.3522167487684729,
          0.21247881488920972,
          0.36363636363636365,
          0.3139784946236559,
          0.27358490566037735,
          0.348780487804878,
          0.2111251580278129,
          0.4338461538461538,
          0.391304347826087,
          0.3684210526315789,
          0.391304347826087,
          0.30808080808080807,
          0.23478260869565218,
          0.375,
          0.30808080808080807,
          0.375,
          0.4057971014492754,
          0.28549019607843135,
          0.3224101479915433,
          0.2166160081053698,
          0.3619047619047619,
          0.20736434108527133,
          0.2462686567164179,
          0.22724994303941673,
          0.3619047619047619,
          0.3333333333333333,
          0.3106060606060606,
          0.27358490566037735,
          0.3684210526315789,
          0.4338461538461538,
          0.3224101479915433,
          0.4045584045584046,
          0.32661290322580644,
          0.391304347826087,
          0.28549019607843135,
          0.3619047619047619,
          0.3224101479915433,
          0.303422756706753,
          0.27235534774985387,
          0.3684210526315789,
          0.3139784946236559,
          0.4045584045584046,
          0.25857654889912957,
          0.2882154882154882,
          0.3619047619047619,
          0.3289036544850498,
          0.32661290322580644,
          0.32793522267206476,
          0.3384615384615385,
          0.27358490566037735,
          0.375,
          0.3333333333333333,
          0.3787878787878788,
          0.3289036544850498,
          0.37662337662337664,
          0.3522167487684729,
          0.32793522267206476,
          0.3787878787878788,
          0.4175824175824176,
          0.348780487804878,
          0.3508771929824561,
          0.3783068783068783,
          0.3787878787878788,
          0.42,
          0.27235534774985387,
          0.31721194879089615,
          0.2882154882154882,
          0.3333333333333333,
          0.3106060606060606,
          0.2161422708618331,
          0.2672316384180791,
          0.3289036544850498,
          0.303422756706753,
          0.42,
          0.32142857142857145,
          0.32661290322580644,
          0.32142857142857145,
          0.3224101479915433,
          0.36363636363636365,
          0.2882154882154882,
          0.21321388577827546,
          0.391304347826087,
          0.3333333333333333,
          0.3783068783068783,
          0.4057971014492754,
          0.3333333333333333,
          0.28549019607843135,
          0.3684210526315789,
          0.25857654889912957,
          0.2,
          0.3226381461675579,
          0.3333333333333333,
          0.28191167574107684,
          0.3333333333333333,
          0.25857654889912957,
          0.30808080808080807,
          0.4045584045584046,
          0.4057971014492754,
          0.3333333333333333,
          0.3619047619047619,
          0.2857142857142857,
          0.375,
          0.4057971014492754,
          0.32142857142857145,
          0.3333333333333333,
          0.30697278911564624,
          0.37662337662337664,
          0.4175824175824176,
          0.3226381461675579,
          0.3508771929824561,
          0.3333333333333333,
          0.4175824175824176,
          0.3224101479915433,
          0.36363636363636365,
          0.32142857142857145,
          0.2882205513784461,
          0.4338461538461538,
          0.2857142857142857,
          0.3783068783068783,
          0.3384615384615385,
          0.16666666666666666,
          0.391304347826087,
          0.3783068783068783,
          0.4175824175824176,
          0.38333333333333336,
          0.26666666666666666,
          0.42,
          0.3333333333333333,
          0.36363636363636365,
          0.32661290322580644,
          0.36363636363636365,
          0.36363636363636365,
          0.32661290322580644,
          0.35555555555555557,
          0.16666666666666666,
          0.35555555555555557,
          0.4045584045584046,
          0.38333333333333336,
          0.4338461538461538,
          0.42,
          0.3333333333333333,
          0,
          0.3974358974358974,
          0.37662337662337664,
          0.4057971014492754,
          0.3619047619047619,
          0.375,
          0.3974358974358974,
          0.3333333333333333,
          0.2,
          0.3619047619047619,
          0.4045584045584046,
          0.36363636363636365,
          0.36363636363636365,
          0.3787878787878788,
          0.16666666666666666,
          0.37662337662337664,
          0.35555555555555557,
          0.16666666666666666,
          1,
          1,
          0.2,
          0,
          0,
          0.16666666666666666,
          1
         ],
         "yaxis": "y"
        },
        {
         "hovertemplate": "<b>LOWESS trendline</b><br><br>rank=%{x}<br>sim_score=%{y} <b>(trend)</b><extra></extra>",
         "legendgroup": "",
         "marker": {
          "color": "#636efa",
          "symbol": "circle"
         },
         "mode": "lines",
         "name": "",
         "showlegend": false,
         "type": "scatter",
         "x": [
          1,
          2,
          4,
          5,
          8,
          9,
          10,
          11,
          12,
          14,
          17,
          20,
          22,
          25,
          26,
          28,
          29,
          29,
          30,
          31,
          35,
          38,
          40,
          43,
          44,
          49,
          50,
          51,
          52,
          54,
          55,
          63,
          65,
          69,
          70,
          71,
          73,
          77,
          78,
          81,
          83,
          84,
          87,
          89,
          92,
          93,
          96,
          99,
          100,
          108,
          112,
          113,
          114,
          117,
          119,
          124,
          125,
          126,
          127,
          128,
          138,
          139,
          140,
          141,
          142,
          143,
          147,
          150,
          151,
          155,
          157,
          159,
          163,
          164,
          165,
          169,
          176,
          177,
          182,
          188,
          190,
          192,
          193,
          194,
          196,
          197,
          202,
          207,
          211,
          213,
          218,
          219,
          220,
          221,
          229,
          231,
          235,
          238,
          241,
          249,
          250,
          253,
          255,
          257,
          260,
          264,
          268,
          270,
          271,
          273,
          276,
          279,
          286,
          287,
          288,
          288,
          288,
          289,
          293,
          296,
          298,
          299,
          302,
          305,
          308,
          309,
          309,
          310,
          311,
          313,
          320,
          321,
          326,
          329,
          330,
          331,
          333,
          334,
          335,
          338,
          345,
          346,
          348,
          357,
          360,
          363,
          364,
          371,
          375,
          385,
          388,
          396,
          398,
          399,
          401,
          402,
          404,
          406,
          407,
          408,
          410,
          415,
          416,
          423,
          424,
          436,
          440,
          441,
          445,
          448,
          449,
          457,
          458,
          460,
          462,
          465,
          466,
          472,
          480,
          483,
          484,
          487,
          490,
          498,
          502,
          504,
          506,
          514,
          519,
          522,
          523,
          524,
          526,
          527,
          534,
          535,
          536,
          536,
          537,
          539,
          542
         ],
         "xaxis": "x",
         "y": [
          0.22455897437524294,
          0.22514394028160944,
          0.2263144743084094,
          0.22690004578270861,
          0.2286580173221398,
          0.22924443938243408,
          0.22983108383576326,
          0.23041795552881303,
          0.23100506009609892,
          0.23217996758897647,
          0.2339440047816065,
          0.2357099449509523,
          0.23688825565745933,
          0.23865719908453165,
          0.23924721621799724,
          0.24042773429112688,
          0.24101819917115203,
          0.24101819917115203,
          0.24160877862663838,
          0.24219945978733937,
          0.2445629233734127,
          0.2463359224753775,
          0.24751793558768448,
          0.24929075943126985,
          0.2498815942759953,
          0.25283434975418895,
          0.25342451234236085,
          0.25401450479280696,
          0.2546043080292834,
          0.25578327194943434,
          0.2563723982011298,
          0.26107529703950466,
          0.2622478269405381,
          0.2645883138442689,
          0.2651723999310089,
          0.26575604423601623,
          0.2669219436020851,
          0.26924785129988693,
          0.26982804943931393,
          0.27156543209330863,
          0.27272088178133763,
          0.2732977201639673,
          0.2750245454384107,
          0.2761726193312527,
          0.2778899857626847,
          0.27846119650458917,
          0.28017121831349184,
          0.28187620666254604,
          0.2824435350824349,
          0.2869698930683152,
          0.2892323439449556,
          0.2897991244812114,
          0.2903667356565491,
          0.2920770968537103,
          0.29322687404559455,
          0.29616137517704494,
          0.2967630518866827,
          0.29734610994039495,
          0.2979080586471825,
          0.2984951524538917,
          0.3043426659462826,
          0.30490166627495124,
          0.30549495159253415,
          0.3060877953332546,
          0.306679931681659,
          0.30727106096475737,
          0.3096181949424107,
          0.31135036929891474,
          0.3119203760002709,
          0.31401551670307914,
          0.3150944845997407,
          0.316229675312419,
          0.31811986120418484,
          0.31861726597654555,
          0.3191966876131382,
          0.3212019855134981,
          0.3241134091926877,
          0.3246304942985619,
          0.32681826769657846,
          0.32870523530612156,
          0.32958594448585565,
          0.33033995578826525,
          0.33075048529556333,
          0.33097810536560096,
          0.33151417103160274,
          0.3319008057789177,
          0.33336021181025466,
          0.33479266661768425,
          0.33583246318179055,
          0.33624568758891327,
          0.337495077556561,
          0.3377413620298437,
          0.337944489795265,
          0.33814798246254446,
          0.3400302339891123,
          0.34056348815808823,
          0.3414347981591661,
          0.34214141178069296,
          0.3430150361584374,
          0.34488823496037146,
          0.34509531703933627,
          0.34575550468041494,
          0.3462045688163314,
          0.34668926837696695,
          0.3474060118237231,
          0.34842092348035797,
          0.3492602382431484,
          0.34976173011942163,
          0.35000323921338117,
          0.3504664702795304,
          0.35096145188394445,
          0.3514603316093667,
          0.3524421471854493,
          0.3525637691773613,
          0.352682855341194,
          0.352682855341194,
          0.352682855341194,
          0.3527994529765236,
          0.35337014609114326,
          0.35379864916806747,
          0.35399898548272346,
          0.3541502530926626,
          0.3545105595974112,
          0.35485315221899655,
          0.3551233465595888,
          0.3552498915532264,
          0.3552498915532264,
          0.35537246603156225,
          0.3554759858586346,
          0.3556644453326503,
          0.35636448719191327,
          0.35645247058233703,
          0.3568552561969612,
          0.35706720042006385,
          0.3571216091552351,
          0.35717178149331613,
          0.3573435839231532,
          0.3574286779440011,
          0.3574719091292837,
          0.357677120008431,
          0.3578864967255618,
          0.3578974745440743,
          0.3579802348456942,
          0.3583747628335119,
          0.35836745791990965,
          0.35849269714413057,
          0.3584887025650721,
          0.3587356935135792,
          0.35886448726047165,
          0.3592783026080947,
          0.35943485606284065,
          0.35975059369045215,
          0.3598311283651256,
          0.35986262066767766,
          0.35994157819802797,
          0.3599881393802708,
          0.36009288543874574,
          0.3602097426684272,
          0.3602715355886741,
          0.3603350197807698,
          0.3604657083940783,
          0.36080268157794765,
          0.36087044147150493,
          0.36133684385226805,
          0.36140179381014104,
          0.3621439371883987,
          0.36237738733543695,
          0.36243479966057773,
          0.3626608704685299,
          0.36282683433800245,
          0.362881503948558,
          0.3633078839253907,
          0.36335988740756975,
          0.36346310573669705,
          0.36356535689032526,
          0.3637171671097525,
          0.3637674056963426,
          0.36406597043631084,
          0.364459937505014,
          0.3646076454395693,
          0.3646569834754295,
          0.364805499604908,
          0.36495501435212424,
          0.36536048995338094,
          0.3655677294389339,
          0.36567268018788024,
          0.3657786079673699,
          0.36621331691154596,
          0.3664948831455778,
          0.366667722310378,
          0.3667260032541646,
          0.3667846212318428,
          0.36690286012446527,
          0.36696247150217604,
          0.367388630311902,
          0.36745075298669455,
          0.36751318057821636,
          0.36751318057821636,
          0.3675759097423878,
          0.3677022578194491,
          0.36789395420297333
         ],
         "yaxis": "y"
        }
       ],
       "layout": {
        "height": 600,
        "legend": {
         "tracegroupgap": 0,
         "x": 0.35,
         "xanchor": "left",
         "y": 1,
         "yanchor": "bottom"
        },
        "margin": {
         "t": 60
        },
        "template": {
         "data": {
          "bar": [
           {
            "error_x": {
             "color": "#f2f5fa"
            },
            "error_y": {
             "color": "#f2f5fa"
            },
            "marker": {
             "line": {
              "color": "rgb(17,17,17)",
              "width": 0.5
             },
             "pattern": {
              "fillmode": "overlay",
              "size": 10,
              "solidity": 0.2
             }
            },
            "type": "bar"
           }
          ],
          "barpolar": [
           {
            "marker": {
             "line": {
              "color": "rgb(17,17,17)",
              "width": 0.5
             },
             "pattern": {
              "fillmode": "overlay",
              "size": 10,
              "solidity": 0.2
             }
            },
            "type": "barpolar"
           }
          ],
          "carpet": [
           {
            "aaxis": {
             "endlinecolor": "#A2B1C6",
             "gridcolor": "#506784",
             "linecolor": "#506784",
             "minorgridcolor": "#506784",
             "startlinecolor": "#A2B1C6"
            },
            "baxis": {
             "endlinecolor": "#A2B1C6",
             "gridcolor": "#506784",
             "linecolor": "#506784",
             "minorgridcolor": "#506784",
             "startlinecolor": "#A2B1C6"
            },
            "type": "carpet"
           }
          ],
          "choropleth": [
           {
            "colorbar": {
             "outlinewidth": 0,
             "ticks": ""
            },
            "type": "choropleth"
           }
          ],
          "contour": [
           {
            "colorbar": {
             "outlinewidth": 0,
             "ticks": ""
            },
            "colorscale": [
             [
              0,
              "#0d0887"
             ],
             [
              0.1111111111111111,
              "#46039f"
             ],
             [
              0.2222222222222222,
              "#7201a8"
             ],
             [
              0.3333333333333333,
              "#9c179e"
             ],
             [
              0.4444444444444444,
              "#bd3786"
             ],
             [
              0.5555555555555556,
              "#d8576b"
             ],
             [
              0.6666666666666666,
              "#ed7953"
             ],
             [
              0.7777777777777778,
              "#fb9f3a"
             ],
             [
              0.8888888888888888,
              "#fdca26"
             ],
             [
              1,
              "#f0f921"
             ]
            ],
            "type": "contour"
           }
          ],
          "contourcarpet": [
           {
            "colorbar": {
             "outlinewidth": 0,
             "ticks": ""
            },
            "type": "contourcarpet"
           }
          ],
          "heatmap": [
           {
            "colorbar": {
             "outlinewidth": 0,
             "ticks": ""
            },
            "colorscale": [
             [
              0,
              "#0d0887"
             ],
             [
              0.1111111111111111,
              "#46039f"
             ],
             [
              0.2222222222222222,
              "#7201a8"
             ],
             [
              0.3333333333333333,
              "#9c179e"
             ],
             [
              0.4444444444444444,
              "#bd3786"
             ],
             [
              0.5555555555555556,
              "#d8576b"
             ],
             [
              0.6666666666666666,
              "#ed7953"
             ],
             [
              0.7777777777777778,
              "#fb9f3a"
             ],
             [
              0.8888888888888888,
              "#fdca26"
             ],
             [
              1,
              "#f0f921"
             ]
            ],
            "type": "heatmap"
           }
          ],
          "heatmapgl": [
           {
            "colorbar": {
             "outlinewidth": 0,
             "ticks": ""
            },
            "colorscale": [
             [
              0,
              "#0d0887"
             ],
             [
              0.1111111111111111,
              "#46039f"
             ],
             [
              0.2222222222222222,
              "#7201a8"
             ],
             [
              0.3333333333333333,
              "#9c179e"
             ],
             [
              0.4444444444444444,
              "#bd3786"
             ],
             [
              0.5555555555555556,
              "#d8576b"
             ],
             [
              0.6666666666666666,
              "#ed7953"
             ],
             [
              0.7777777777777778,
              "#fb9f3a"
             ],
             [
              0.8888888888888888,
              "#fdca26"
             ],
             [
              1,
              "#f0f921"
             ]
            ],
            "type": "heatmapgl"
           }
          ],
          "histogram": [
           {
            "marker": {
             "pattern": {
              "fillmode": "overlay",
              "size": 10,
              "solidity": 0.2
             }
            },
            "type": "histogram"
           }
          ],
          "histogram2d": [
           {
            "colorbar": {
             "outlinewidth": 0,
             "ticks": ""
            },
            "colorscale": [
             [
              0,
              "#0d0887"
             ],
             [
              0.1111111111111111,
              "#46039f"
             ],
             [
              0.2222222222222222,
              "#7201a8"
             ],
             [
              0.3333333333333333,
              "#9c179e"
             ],
             [
              0.4444444444444444,
              "#bd3786"
             ],
             [
              0.5555555555555556,
              "#d8576b"
             ],
             [
              0.6666666666666666,
              "#ed7953"
             ],
             [
              0.7777777777777778,
              "#fb9f3a"
             ],
             [
              0.8888888888888888,
              "#fdca26"
             ],
             [
              1,
              "#f0f921"
             ]
            ],
            "type": "histogram2d"
           }
          ],
          "histogram2dcontour": [
           {
            "colorbar": {
             "outlinewidth": 0,
             "ticks": ""
            },
            "colorscale": [
             [
              0,
              "#0d0887"
             ],
             [
              0.1111111111111111,
              "#46039f"
             ],
             [
              0.2222222222222222,
              "#7201a8"
             ],
             [
              0.3333333333333333,
              "#9c179e"
             ],
             [
              0.4444444444444444,
              "#bd3786"
             ],
             [
              0.5555555555555556,
              "#d8576b"
             ],
             [
              0.6666666666666666,
              "#ed7953"
             ],
             [
              0.7777777777777778,
              "#fb9f3a"
             ],
             [
              0.8888888888888888,
              "#fdca26"
             ],
             [
              1,
              "#f0f921"
             ]
            ],
            "type": "histogram2dcontour"
           }
          ],
          "mesh3d": [
           {
            "colorbar": {
             "outlinewidth": 0,
             "ticks": ""
            },
            "type": "mesh3d"
           }
          ],
          "parcoords": [
           {
            "line": {
             "colorbar": {
              "outlinewidth": 0,
              "ticks": ""
             }
            },
            "type": "parcoords"
           }
          ],
          "pie": [
           {
            "automargin": true,
            "type": "pie"
           }
          ],
          "scatter": [
           {
            "marker": {
             "line": {
              "color": "#283442"
             }
            },
            "type": "scatter"
           }
          ],
          "scatter3d": [
           {
            "line": {
             "colorbar": {
              "outlinewidth": 0,
              "ticks": ""
             }
            },
            "marker": {
             "colorbar": {
              "outlinewidth": 0,
              "ticks": ""
             }
            },
            "type": "scatter3d"
           }
          ],
          "scattercarpet": [
           {
            "marker": {
             "colorbar": {
              "outlinewidth": 0,
              "ticks": ""
             }
            },
            "type": "scattercarpet"
           }
          ],
          "scattergeo": [
           {
            "marker": {
             "colorbar": {
              "outlinewidth": 0,
              "ticks": ""
             }
            },
            "type": "scattergeo"
           }
          ],
          "scattergl": [
           {
            "marker": {
             "line": {
              "color": "#283442"
             }
            },
            "type": "scattergl"
           }
          ],
          "scattermapbox": [
           {
            "marker": {
             "colorbar": {
              "outlinewidth": 0,
              "ticks": ""
             }
            },
            "type": "scattermapbox"
           }
          ],
          "scatterpolar": [
           {
            "marker": {
             "colorbar": {
              "outlinewidth": 0,
              "ticks": ""
             }
            },
            "type": "scatterpolar"
           }
          ],
          "scatterpolargl": [
           {
            "marker": {
             "colorbar": {
              "outlinewidth": 0,
              "ticks": ""
             }
            },
            "type": "scatterpolargl"
           }
          ],
          "scatterternary": [
           {
            "marker": {
             "colorbar": {
              "outlinewidth": 0,
              "ticks": ""
             }
            },
            "type": "scatterternary"
           }
          ],
          "surface": [
           {
            "colorbar": {
             "outlinewidth": 0,
             "ticks": ""
            },
            "colorscale": [
             [
              0,
              "#0d0887"
             ],
             [
              0.1111111111111111,
              "#46039f"
             ],
             [
              0.2222222222222222,
              "#7201a8"
             ],
             [
              0.3333333333333333,
              "#9c179e"
             ],
             [
              0.4444444444444444,
              "#bd3786"
             ],
             [
              0.5555555555555556,
              "#d8576b"
             ],
             [
              0.6666666666666666,
              "#ed7953"
             ],
             [
              0.7777777777777778,
              "#fb9f3a"
             ],
             [
              0.8888888888888888,
              "#fdca26"
             ],
             [
              1,
              "#f0f921"
             ]
            ],
            "type": "surface"
           }
          ],
          "table": [
           {
            "cells": {
             "fill": {
              "color": "#506784"
             },
             "line": {
              "color": "rgb(17,17,17)"
             }
            },
            "header": {
             "fill": {
              "color": "#2a3f5f"
             },
             "line": {
              "color": "rgb(17,17,17)"
             }
            },
            "type": "table"
           }
          ]
         },
         "layout": {
          "annotationdefaults": {
           "arrowcolor": "#f2f5fa",
           "arrowhead": 0,
           "arrowwidth": 1
          },
          "autotypenumbers": "strict",
          "coloraxis": {
           "colorbar": {
            "outlinewidth": 0,
            "ticks": ""
           }
          },
          "colorscale": {
           "diverging": [
            [
             0,
             "#8e0152"
            ],
            [
             0.1,
             "#c51b7d"
            ],
            [
             0.2,
             "#de77ae"
            ],
            [
             0.3,
             "#f1b6da"
            ],
            [
             0.4,
             "#fde0ef"
            ],
            [
             0.5,
             "#f7f7f7"
            ],
            [
             0.6,
             "#e6f5d0"
            ],
            [
             0.7,
             "#b8e186"
            ],
            [
             0.8,
             "#7fbc41"
            ],
            [
             0.9,
             "#4d9221"
            ],
            [
             1,
             "#276419"
            ]
           ],
           "sequential": [
            [
             0,
             "#0d0887"
            ],
            [
             0.1111111111111111,
             "#46039f"
            ],
            [
             0.2222222222222222,
             "#7201a8"
            ],
            [
             0.3333333333333333,
             "#9c179e"
            ],
            [
             0.4444444444444444,
             "#bd3786"
            ],
            [
             0.5555555555555556,
             "#d8576b"
            ],
            [
             0.6666666666666666,
             "#ed7953"
            ],
            [
             0.7777777777777778,
             "#fb9f3a"
            ],
            [
             0.8888888888888888,
             "#fdca26"
            ],
            [
             1,
             "#f0f921"
            ]
           ],
           "sequentialminus": [
            [
             0,
             "#0d0887"
            ],
            [
             0.1111111111111111,
             "#46039f"
            ],
            [
             0.2222222222222222,
             "#7201a8"
            ],
            [
             0.3333333333333333,
             "#9c179e"
            ],
            [
             0.4444444444444444,
             "#bd3786"
            ],
            [
             0.5555555555555556,
             "#d8576b"
            ],
            [
             0.6666666666666666,
             "#ed7953"
            ],
            [
             0.7777777777777778,
             "#fb9f3a"
            ],
            [
             0.8888888888888888,
             "#fdca26"
            ],
            [
             1,
             "#f0f921"
            ]
           ]
          },
          "colorway": [
           "#636efa",
           "#EF553B",
           "#00cc96",
           "#ab63fa",
           "#FFA15A",
           "#19d3f3",
           "#FF6692",
           "#B6E880",
           "#FF97FF",
           "#FECB52"
          ],
          "font": {
           "color": "#f2f5fa"
          },
          "geo": {
           "bgcolor": "rgb(17,17,17)",
           "lakecolor": "rgb(17,17,17)",
           "landcolor": "rgb(17,17,17)",
           "showlakes": true,
           "showland": true,
           "subunitcolor": "#506784"
          },
          "hoverlabel": {
           "align": "left"
          },
          "hovermode": "closest",
          "mapbox": {
           "style": "dark"
          },
          "paper_bgcolor": "rgb(17,17,17)",
          "plot_bgcolor": "rgb(17,17,17)",
          "polar": {
           "angularaxis": {
            "gridcolor": "#506784",
            "linecolor": "#506784",
            "ticks": ""
           },
           "bgcolor": "rgb(17,17,17)",
           "radialaxis": {
            "gridcolor": "#506784",
            "linecolor": "#506784",
            "ticks": ""
           }
          },
          "scene": {
           "xaxis": {
            "backgroundcolor": "rgb(17,17,17)",
            "gridcolor": "#506784",
            "gridwidth": 2,
            "linecolor": "#506784",
            "showbackground": true,
            "ticks": "",
            "zerolinecolor": "#C8D4E3"
           },
           "yaxis": {
            "backgroundcolor": "rgb(17,17,17)",
            "gridcolor": "#506784",
            "gridwidth": 2,
            "linecolor": "#506784",
            "showbackground": true,
            "ticks": "",
            "zerolinecolor": "#C8D4E3"
           },
           "zaxis": {
            "backgroundcolor": "rgb(17,17,17)",
            "gridcolor": "#506784",
            "gridwidth": 2,
            "linecolor": "#506784",
            "showbackground": true,
            "ticks": "",
            "zerolinecolor": "#C8D4E3"
           }
          },
          "shapedefaults": {
           "line": {
            "color": "#f2f5fa"
           }
          },
          "sliderdefaults": {
           "bgcolor": "#C8D4E3",
           "bordercolor": "rgb(17,17,17)",
           "borderwidth": 1,
           "tickwidth": 0
          },
          "ternary": {
           "aaxis": {
            "gridcolor": "#506784",
            "linecolor": "#506784",
            "ticks": ""
           },
           "baxis": {
            "gridcolor": "#506784",
            "linecolor": "#506784",
            "ticks": ""
           },
           "bgcolor": "rgb(17,17,17)",
           "caxis": {
            "gridcolor": "#506784",
            "linecolor": "#506784",
            "ticks": ""
           }
          },
          "title": {
           "x": 0.05
          },
          "updatemenudefaults": {
           "bgcolor": "#506784",
           "borderwidth": 0
          },
          "xaxis": {
           "automargin": true,
           "gridcolor": "#283442",
           "linecolor": "#506784",
           "ticks": "",
           "title": {
            "standoff": 15
           },
           "zerolinecolor": "#283442",
           "zerolinewidth": 2
          },
          "yaxis": {
           "automargin": true,
           "gridcolor": "#283442",
           "linecolor": "#506784",
           "ticks": "",
           "title": {
            "standoff": 15
           },
           "zerolinecolor": "#283442",
           "zerolinewidth": 2
          }
         }
        },
        "title": {
         "text": "Sim Score vs rank"
        },
        "width": 800,
        "xaxis": {
         "anchor": "y",
         "domain": [
          0,
          1
         ],
         "title": {
          "text": "rank"
         }
        },
        "yaxis": {
         "anchor": "x",
         "domain": [
          0,
          1
         ],
         "title": {
          "text": "Sim Score"
         }
        }
       }
      }
     },
     "metadata": {},
     "output_type": "display_data"
    }
   ],
   "source": [
    "fig = px.scatter(df_ranked_aff, \n",
    "                 x=\"rank\", \n",
    "                 y=\"sim_score\", \n",
    "                 trendline=\"lowess\",\n",
    "                 trendline_options=dict(frac=0.5))\n",
    "\n",
    "fig.update_layout(title_text = \"Sim Score vs rank\",\n",
    "                  xaxis_title = \"rank\",\n",
    "                  yaxis_title = \"Sim Score\",\n",
    "                  template = \"plotly_dark\",\n",
    "                  width = 800,\n",
    "                  height = 600,\n",
    "                  legend=dict(\n",
    "                    yanchor=\"bottom\",\n",
    "                    y=1.00,\n",
    "                    xanchor=\"left\",\n",
    "                    x=0.35\n",
    "                    )\n",
    "                  )\n",
    "fig.show()"
   ]
  },
  {
   "cell_type": "code",
   "execution_count": 38,
   "metadata": {},
   "outputs": [
    {
     "data": {
      "text/plain": [
       "15400"
      ]
     },
     "execution_count": 38,
     "metadata": {},
     "output_type": "execute_result"
    }
   ],
   "source": [
    "# sum of all freq equal to the number of docs\n",
    "sum([topic_model.get_topic_freq(topic=i-1) for i in range(26)])"
   ]
  },
  {
   "cell_type": "code",
   "execution_count": 493,
   "metadata": {},
   "outputs": [
    {
     "data": {
      "text/plain": [
       "4001"
      ]
     },
     "execution_count": 493,
     "metadata": {},
     "output_type": "execute_result"
    }
   ],
   "source": [
    "topic_model.get_topic_freq(topic=-1)"
   ]
  },
  {
   "cell_type": "code",
   "execution_count": 281,
   "metadata": {},
   "outputs": [
    {
     "data": {
      "text/plain": [
       "78"
      ]
     },
     "execution_count": 281,
     "metadata": {},
     "output_type": "execute_result"
    }
   ],
   "source": [
    "sum([item == 20 for item in df_s[\"topic\"]])"
   ]
  },
  {
   "cell_type": "code",
   "execution_count": 504,
   "metadata": {},
   "outputs": [
    {
     "data": {
      "text/plain": [
       "[('model', 0.012883202647841381),\n",
       " ('growth', 0.012353077984280625),\n",
       " ('economic', 0.011588927976575852),\n",
       " ('firms', 0.01132543937807906),\n",
       " ('countries', 0.011183940862236376),\n",
       " ('show', 0.010724626462491265),\n",
       " ('results', 0.01024150923327465),\n",
       " ('income', 0.010203913712682889),\n",
       " ('social', 0.009226047289390658),\n",
       " ('also', 0.008846088013882203)]"
      ]
     },
     "execution_count": 504,
     "metadata": {},
     "output_type": "execute_result"
    }
   ],
   "source": [
    "# select the best params\n",
    "topic_model.get_topic(topic=-1)"
   ]
  }
 ],
 "metadata": {
  "kernelspec": {
   "display_name": "base",
   "language": "python",
   "name": "python3"
  },
  "language_info": {
   "codemirror_mode": {
    "name": "ipython",
    "version": 3
   },
   "file_extension": ".py",
   "mimetype": "text/x-python",
   "name": "python",
   "nbconvert_exporter": "python",
   "pygments_lexer": "ipython3",
   "version": "3.9.12"
  },
  "orig_nbformat": 4,
  "vscode": {
   "interpreter": {
    "hash": "49cb93f377a7abe7414b7b0f21fb3017538004a126cf690fb524202736b7fb92"
   }
  }
 },
 "nbformat": 4,
 "nbformat_minor": 2
}
