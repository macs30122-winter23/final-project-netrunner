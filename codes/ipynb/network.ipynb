{
 "cells": [
  {
   "attachments": {},
   "cell_type": "markdown",
   "metadata": {},
   "source": [
    "## Network Analysis of Both Individual and Instutional Level"
   ]
  },
  {
   "cell_type": "code",
   "execution_count": 179,
   "metadata": {},
   "outputs": [],
   "source": [
    "import pandas as pd\n",
    "import matplotlib.pyplot as plt\n",
    "import networkx as nx\n",
    "from pyvis.network import Network\n",
    "import sqlite3\n",
    "import plotly.figure_factory as ff\n",
    "import plotly.express as px\n",
    "import plotly.graph_objects as go\n",
    "# import networkx.algorithms.community"
   ]
  },
  {
   "cell_type": "code",
   "execution_count": 86,
   "metadata": {},
   "outputs": [],
   "source": [
    "# connect to database\n",
    "conn = sqlite3.connect(\"econtop.db\")\n",
    "cur = conn.cursor()"
   ]
  },
  {
   "cell_type": "code",
   "execution_count": 87,
   "metadata": {},
   "outputs": [
    {
     "data": {
      "text/html": [
       "<div>\n",
       "<style scoped>\n",
       "    .dataframe tbody tr th:only-of-type {\n",
       "        vertical-align: middle;\n",
       "    }\n",
       "\n",
       "    .dataframe tbody tr th {\n",
       "        vertical-align: top;\n",
       "    }\n",
       "\n",
       "    .dataframe thead th {\n",
       "        text-align: right;\n",
       "    }\n",
       "</style>\n",
       "<table border=\"1\" class=\"dataframe\">\n",
       "  <thead>\n",
       "    <tr style=\"text-align: right;\">\n",
       "      <th></th>\n",
       "      <th>journal</th>\n",
       "      <th>title</th>\n",
       "      <th>date</th>\n",
       "      <th>authorname</th>\n",
       "      <th>name</th>\n",
       "      <th>rank</th>\n",
       "    </tr>\n",
       "    <tr>\n",
       "      <th>doi</th>\n",
       "      <th></th>\n",
       "      <th></th>\n",
       "      <th></th>\n",
       "      <th></th>\n",
       "      <th></th>\n",
       "      <th></th>\n",
       "    </tr>\n",
       "  </thead>\n",
       "  <tbody>\n",
       "    <tr>\n",
       "      <th>10.1093/rfs/hhr069</th>\n",
       "      <td>Review of Financial Studies</td>\n",
       "      <td>The Inventory Growth Spread</td>\n",
       "      <td>2012-01-15</td>\n",
       "      <td>Frederico Belo</td>\n",
       "      <td>INSEAD</td>\n",
       "      <td></td>\n",
       "    </tr>\n",
       "    <tr>\n",
       "      <th>10.1093/rfs/hhr069</th>\n",
       "      <td>Review of Financial Studies</td>\n",
       "      <td>The Inventory Growth Spread</td>\n",
       "      <td>2012-01-15</td>\n",
       "      <td>Xiaoji Lin</td>\n",
       "      <td>University of Minnesota</td>\n",
       "      <td>164</td>\n",
       "    </tr>\n",
       "    <tr>\n",
       "      <th>10.1093/rfs/hhr109</th>\n",
       "      <td>Review of Financial Studies</td>\n",
       "      <td>Takeovers and Divergence of Investor Opinion</td>\n",
       "      <td>2012-01-15</td>\n",
       "      <td>Kose John</td>\n",
       "      <td>New York University</td>\n",
       "      <td>50</td>\n",
       "    </tr>\n",
       "    <tr>\n",
       "      <th>10.1093/rfs/hhr081</th>\n",
       "      <td>Review of Financial Studies</td>\n",
       "      <td>Corporate Governance Objectives of Labor Union...</td>\n",
       "      <td>2012-01-15</td>\n",
       "      <td>Ashwini Agrawal</td>\n",
       "      <td>London School of Economics</td>\n",
       "      <td>1</td>\n",
       "    </tr>\n",
       "    <tr>\n",
       "      <th>10.1093/rfs/hhr076</th>\n",
       "      <td>Review of Financial Studies</td>\n",
       "      <td>Managerial Attributes and Executive Compensation</td>\n",
       "      <td>2012-01-15</td>\n",
       "      <td>Si Li</td>\n",
       "      <td>Wilfrid Laurier University</td>\n",
       "      <td></td>\n",
       "    </tr>\n",
       "  </tbody>\n",
       "</table>\n",
       "</div>"
      ],
      "text/plain": [
       "                                        journal  \\\n",
       "doi                                               \n",
       "10.1093/rfs/hhr069  Review of Financial Studies   \n",
       "10.1093/rfs/hhr069  Review of Financial Studies   \n",
       "10.1093/rfs/hhr109  Review of Financial Studies   \n",
       "10.1093/rfs/hhr081  Review of Financial Studies   \n",
       "10.1093/rfs/hhr076  Review of Financial Studies   \n",
       "\n",
       "                                                                title  \\\n",
       "doi                                                                     \n",
       "10.1093/rfs/hhr069                        The Inventory Growth Spread   \n",
       "10.1093/rfs/hhr069                        The Inventory Growth Spread   \n",
       "10.1093/rfs/hhr109       Takeovers and Divergence of Investor Opinion   \n",
       "10.1093/rfs/hhr081  Corporate Governance Objectives of Labor Union...   \n",
       "10.1093/rfs/hhr076   Managerial Attributes and Executive Compensation   \n",
       "\n",
       "                         date       authorname                        name  \\\n",
       "doi                                                                          \n",
       "10.1093/rfs/hhr069 2012-01-15   Frederico Belo                      INSEAD   \n",
       "10.1093/rfs/hhr069 2012-01-15       Xiaoji Lin     University of Minnesota   \n",
       "10.1093/rfs/hhr109 2012-01-15        Kose John         New York University   \n",
       "10.1093/rfs/hhr081 2012-01-15  Ashwini Agrawal  London School of Economics   \n",
       "10.1093/rfs/hhr076 2012-01-15            Si Li  Wilfrid Laurier University   \n",
       "\n",
       "                   rank  \n",
       "doi                      \n",
       "10.1093/rfs/hhr069       \n",
       "10.1093/rfs/hhr069  164  \n",
       "10.1093/rfs/hhr109   50  \n",
       "10.1093/rfs/hhr081    1  \n",
       "10.1093/rfs/hhr076       "
      ]
     },
     "execution_count": 87,
     "metadata": {},
     "output_type": "execute_result"
    }
   ],
   "source": [
    "# extract journal, title, date, institution name, from 2012 to 2022\n",
    "q = \"\"\"\n",
    "    SELECT  art.doi, art.journal, art.title, art.date, au.authorname, af.name, af.rank\n",
    "    FROM author_article AS aa JOIN author AS au JOIN article AS art JOIN affiliation AS af\n",
    "    ON aa.authorid = au.authorid AND\n",
    "    aa.doi = art.doi AND\n",
    "    au.affiliationid = af.affiliationid\n",
    "    WHERE art.date >= '2012-01-01' AND\n",
    "    art.date < '2023-01-01'\n",
    "    \"\"\"\n",
    "\n",
    "df = pd.read_sql_query(q, conn).astype(\"str\")\n",
    "df[\"date\"] = pd.to_datetime(df[\"date\"])   # convert date to datetime\n",
    "df.set_index(\"doi\", inplace = True)\n",
    "# df = df[df[\"rank\"] != \"\"]   # has ranks\n",
    "df.head()"
   ]
  },
  {
   "cell_type": "code",
   "execution_count": null,
   "metadata": {},
   "outputs": [],
   "source": [
    "# add institutions tiers to each record\n",
    "df[\"tier\"] = df[\"rank\"].apply(lambda x: -1 if x == \"\" else int(x) // 50)"
   ]
  },
  {
   "cell_type": "code",
   "execution_count": 221,
   "metadata": {},
   "outputs": [
    {
     "data": {
      "text/plain": [
       "18086"
      ]
     },
     "execution_count": 221,
     "metadata": {},
     "output_type": "execute_result"
    }
   ],
   "source": [
    "# number of articles\n",
    "df.index.nunique()"
   ]
  },
  {
   "cell_type": "code",
   "execution_count": 222,
   "metadata": {},
   "outputs": [
    {
     "data": {
      "text/plain": [
       "13654"
      ]
     },
     "execution_count": 222,
     "metadata": {},
     "output_type": "execute_result"
    }
   ],
   "source": [
    "# number of authors\n",
    "len(df.drop_duplicates(subset=[\"authorname\"]))"
   ]
  },
  {
   "cell_type": "code",
   "execution_count": 223,
   "metadata": {},
   "outputs": [
    {
     "data": {
      "text/plain": [
       "1329"
      ]
     },
     "execution_count": 223,
     "metadata": {},
     "output_type": "execute_result"
    }
   ],
   "source": [
    "# number of institutions\n",
    "len(df.drop_duplicates(subset=[\"name\"]))"
   ]
  },
  {
   "cell_type": "code",
   "execution_count": 89,
   "metadata": {},
   "outputs": [],
   "source": [
    "# collaboration freq, dictionary {(ins1, ins2): num of colab, [...,...]: ...}, tuple as keys\n",
    "links = {}\n",
    "\n",
    "for doi in df.index:\n",
    "    try:\n",
    "        df.loc[doi][0]  # check if is only single record, if not there is collaboration!\n",
    "    except:\n",
    "        df_new = df.loc[doi].sort_values(\"name\")   # to prevent duplicated records like (A, B) and (B, A) in the results\n",
    "        length = len(df_new)\n",
    "\n",
    "        for i in range(length-1):\n",
    "            for j in range(length-1-i):\n",
    "                try:\n",
    "                    links[(df_new[\"name\"][i], df_new[\"name\"][i+j+1])] += 1\n",
    "                except:\n",
    "                    links[(df_new[\"name\"][i], df_new[\"name\"][i+j+1])] = 1"
   ]
  },
  {
   "cell_type": "code",
   "execution_count": 90,
   "metadata": {},
   "outputs": [
    {
     "data": {
      "text/plain": [
       "[(('Harvard University', 'Harvard University'), 254),\n",
       " (('Harvard University', 'Massachusetts Institute of Technology'), 229),\n",
       " (('World Bank', 'World Bank'), 219),\n",
       " (('University of California, Berkeley', 'University of California, Berkeley'),\n",
       "  219),\n",
       " (('Massachusetts Institute of Technology',\n",
       "   'Massachusetts Institute of Technology'),\n",
       "  198)]"
      ]
     },
     "execution_count": 90,
     "metadata": {},
     "output_type": "execute_result"
    }
   ],
   "source": [
    "links_sorted = sorted(links.items(), key=lambda x:x[1], reverse = True)\n",
    "links_sorted[:5]"
   ]
  },
  {
   "cell_type": "code",
   "execution_count": 91,
   "metadata": {},
   "outputs": [],
   "source": [
    "# collaboration freq, dictionary {(tier1, tier2): num of colab, [...,...]: ...}, tuple as keys\n",
    "links_tiers = {}\n",
    "\n",
    "for doi in df.index:\n",
    "    try:\n",
    "        df.loc[doi][0]  # check if is only single record, if not there is collaboration!\n",
    "    except:\n",
    "        df_new = df.loc[doi].sort_values(\"tier\")   # to prevent duplicated records like (A, B) and (B, A) in the results\n",
    "        length = len(df_new)\n",
    "\n",
    "        for i in range(length-1):\n",
    "            for j in range(length-1-i):\n",
    "                try:\n",
    "                    links_tiers[(df_new[\"tier\"][i], df_new[\"tier\"][i+j+1])] += 1\n",
    "                except:\n",
    "                    links_tiers[(df_new[\"tier\"][i], df_new[\"tier\"][i+j+1])] = 1"
   ]
  },
  {
   "cell_type": "code",
   "execution_count": 92,
   "metadata": {},
   "outputs": [],
   "source": [
    "# convert dict into a list of triple-element lists ([[ins1,ins2,num_coau],[,,],[,,],])\n",
    "# all links for cross-rank scores analysis\n",
    "links_all = [[key[0],key[1],links[key]] for key in links.keys()]\n",
    "# cross-school links for network construction\n",
    "links_diff = [[key[0],key[1],links[key]] for key in links.keys() if key[0] != key[1]]"
   ]
  },
  {
   "cell_type": "code",
   "execution_count": 170,
   "metadata": {},
   "outputs": [
    {
     "data": {
      "application/vnd.plotly.v1+json": {
       "config": {
        "plotlyServerURL": "https://plot.ly"
       },
       "data": [
        {
         "autobinx": false,
         "histnorm": "probability density",
         "legendgroup": "Matched Economic Institutions",
         "marker": {
          "color": "rgb(31, 119, 180)"
         },
         "name": "Matched Economic Institutions",
         "opacity": 0.7,
         "type": "histogram",
         "x": [
          11,
          3,
          3,
          5,
          8,
          2,
          3,
          3,
          3,
          2,
          2,
          5,
          3,
          13,
          6,
          2,
          4,
          41,
          8,
          2,
          2,
          9,
          2,
          2,
          2,
          2,
          32,
          2,
          8,
          105,
          27,
          3,
          3,
          13,
          3,
          3,
          5,
          4,
          24,
          3,
          3,
          18,
          57,
          16,
          48,
          13,
          2,
          15,
          9,
          11,
          4,
          2,
          5,
          142,
          2,
          13,
          7,
          6,
          3,
          10,
          14,
          10,
          5,
          3,
          3,
          6,
          8,
          3,
          6,
          2,
          11,
          2,
          2,
          3,
          3,
          6,
          16,
          16,
          8,
          6,
          4,
          4,
          7,
          7,
          7,
          12,
          6,
          3,
          3,
          14,
          12,
          9,
          14,
          2,
          10,
          2,
          8,
          2,
          9,
          2,
          81,
          10,
          22,
          2,
          29,
          9,
          12,
          6,
          3,
          3,
          3,
          2,
          11,
          9,
          3,
          3,
          2,
          2,
          8,
          5,
          3,
          6,
          11,
          10,
          25,
          2,
          21,
          2,
          3,
          3,
          3,
          88,
          6,
          6,
          2,
          89,
          8,
          2,
          2,
          7,
          2,
          3,
          3,
          18,
          14,
          27,
          5,
          39,
          3,
          8,
          229,
          2,
          12,
          4,
          4,
          2,
          6,
          12,
          15,
          3,
          3,
          19,
          54,
          13,
          3,
          6,
          7,
          2,
          3,
          3,
          3,
          7,
          2,
          3,
          3,
          3,
          3,
          3,
          3,
          10,
          3,
          3,
          9,
          2,
          3,
          3,
          3,
          3,
          3,
          3,
          2,
          2,
          6,
          3,
          6,
          2,
          3,
          3,
          18,
          11,
          15,
          3,
          15,
          2,
          9,
          2,
          2,
          19,
          16,
          7,
          2,
          6,
          2,
          6,
          4,
          8,
          3,
          11,
          3,
          4,
          4,
          11,
          4,
          4,
          4,
          6,
          4,
          2,
          6,
          3,
          10,
          3,
          9,
          2,
          4,
          2,
          3,
          3,
          2,
          6,
          7,
          5,
          5,
          3,
          2,
          3,
          3,
          3,
          8,
          4,
          8,
          16,
          6,
          8,
          11,
          8,
          6,
          2,
          5,
          3,
          3,
          3,
          8,
          8,
          11,
          17,
          12,
          2,
          2,
          8,
          2,
          5,
          72,
          9,
          2,
          4,
          7,
          6,
          4,
          4,
          4,
          2,
          3,
          13,
          5,
          9,
          6,
          2,
          2,
          3,
          7,
          3,
          8,
          3,
          3,
          2,
          2,
          6,
          8,
          2,
          15,
          14,
          6,
          7,
          3,
          3,
          2,
          6,
          6,
          6,
          14,
          4,
          2,
          6,
          22,
          3,
          5,
          3,
          27,
          2,
          23,
          2,
          4,
          13,
          2,
          13,
          8,
          3,
          16,
          5,
          2,
          2,
          11,
          9,
          2,
          2,
          7,
          5,
          3,
          7,
          44,
          9,
          4,
          7,
          3,
          3,
          6,
          17,
          2,
          5,
          3,
          6,
          2,
          2,
          14,
          4,
          2,
          18,
          3,
          3,
          3,
          3,
          7,
          7,
          3,
          3,
          2,
          2,
          4,
          3,
          3,
          5,
          44,
          2,
          8,
          3,
          3,
          3,
          4,
          10,
          5,
          5,
          3,
          6,
          2,
          2,
          6,
          2,
          6,
          4,
          4,
          2,
          14,
          3,
          8,
          12,
          3,
          22,
          3,
          2,
          2,
          2,
          3,
          9,
          30,
          4,
          12,
          6,
          99,
          2,
          2,
          3,
          5,
          6,
          2,
          2,
          11,
          3,
          8,
          55,
          2,
          19,
          3,
          6,
          3,
          25,
          5,
          3,
          15,
          9,
          3,
          3,
          61,
          3,
          3,
          49,
          2,
          14,
          3,
          3,
          4,
          5,
          3,
          3,
          3,
          3,
          3,
          2,
          6,
          4,
          11,
          3,
          3,
          3,
          6,
          3,
          4,
          10,
          3,
          11,
          6,
          5,
          4,
          8,
          4,
          8,
          4,
          24,
          5,
          2,
          2,
          2,
          6,
          6,
          2,
          20,
          2,
          2,
          4,
          4,
          5,
          6,
          11,
          3,
          6,
          3,
          5,
          13,
          3,
          2,
          2,
          28,
          5,
          5,
          6,
          3,
          2,
          9,
          3,
          3,
          2,
          6,
          2,
          2,
          3,
          3,
          9,
          4,
          3,
          3,
          133,
          11,
          5,
          3,
          7,
          3,
          3,
          3,
          3,
          3,
          4,
          3,
          3,
          2,
          2,
          4,
          2,
          6,
          6,
          6,
          2,
          5,
          21,
          20,
          25,
          3,
          6,
          5,
          2,
          4,
          2,
          8,
          2,
          2,
          2,
          3,
          3,
          8,
          7,
          4,
          6,
          22,
          3,
          3,
          3,
          2,
          3,
          3,
          3,
          5,
          6,
          9,
          6,
          2,
          2,
          5,
          3,
          11,
          2,
          2,
          2,
          6,
          6,
          3,
          3,
          3,
          6,
          2,
          30,
          4,
          3,
          3,
          3,
          5,
          3,
          2,
          4,
          2,
          2,
          4,
          2,
          3,
          3,
          9,
          2,
          2,
          2,
          6,
          14,
          2,
          3,
          3,
          3,
          13,
          6,
          12,
          41,
          6,
          5,
          3,
          25,
          23,
          10,
          4,
          7,
          4,
          2,
          4,
          4,
          6,
          4,
          4,
          4,
          88,
          91,
          6,
          4,
          12,
          3,
          11,
          2,
          14,
          3,
          8,
          8,
          9,
          2,
          18,
          2,
          3,
          3,
          2,
          2,
          6,
          2,
          3,
          6,
          2,
          2,
          6,
          10,
          2,
          2,
          11,
          6,
          2,
          5,
          2,
          2,
          2,
          2,
          2,
          3,
          3,
          3,
          2,
          6,
          2,
          2,
          2,
          2,
          2,
          3,
          3,
          5,
          2,
          2,
          7,
          8,
          7,
          7,
          7,
          2,
          21,
          18,
          6,
          3,
          7,
          6,
          13,
          12,
          2,
          6,
          2,
          2,
          15,
          5,
          3,
          2,
          17,
          5,
          23,
          2,
          2,
          51,
          2,
          3,
          3,
          6,
          36,
          3,
          6,
          2,
          18,
          6,
          3,
          9,
          9,
          11,
          10,
          8,
          4,
          2,
          2,
          3,
          3,
          3,
          2,
          12,
          3,
          5,
          8,
          6,
          3,
          3,
          2,
          2,
          14,
          8,
          3,
          3,
          3,
          3,
          6,
          12,
          2,
          4,
          4,
          3,
          3,
          3,
          3,
          3,
          2,
          24,
          2,
          2,
          6,
          2,
          2,
          3,
          3,
          3,
          9,
          2,
          3,
          3,
          5,
          2,
          16,
          3,
          11,
          2,
          14,
          8,
          2,
          5,
          10,
          3,
          3,
          3,
          3,
          3,
          3,
          3,
          9,
          7,
          12,
          2,
          2,
          3,
          3,
          3,
          2,
          2,
          2,
          2,
          2,
          2,
          2,
          3,
          5,
          2,
          7,
          8,
          6,
          8,
          5,
          3,
          3,
          4,
          2,
          2,
          5,
          11,
          3,
          3,
          4,
          3,
          7,
          3,
          3,
          2,
          3,
          3,
          6,
          2,
          12,
          3,
          3,
          3,
          3,
          2,
          2,
          2,
          2,
          2,
          9,
          3,
          3,
          14,
          5,
          3,
          3,
          3,
          3,
          5,
          3,
          3,
          6,
          3,
          3,
          5,
          14,
          2,
          7,
          3,
          3,
          3,
          12,
          3,
          7,
          7,
          10,
          3,
          3,
          5,
          3,
          3,
          6,
          2,
          5,
          3,
          3,
          2,
          31,
          42,
          4,
          2,
          2,
          2,
          3,
          5,
          9,
          2,
          2,
          2,
          2,
          2,
          6,
          2,
          90,
          6,
          3,
          3,
          5,
          8,
          55,
          6,
          6,
          5,
          2,
          4,
          6,
          3,
          3,
          4,
          3,
          3,
          3,
          3,
          2,
          3,
          3,
          3,
          2,
          24,
          2,
          2,
          23,
          4,
          37,
          3,
          3,
          12,
          2,
          2,
          4,
          4,
          4,
          4,
          4,
          4,
          6,
          2,
          65,
          3,
          5,
          2,
          2,
          4,
          3,
          3,
          3,
          5,
          10,
          10,
          8,
          2,
          3,
          15,
          3,
          4,
          3,
          3,
          10,
          20,
          3,
          3,
          3,
          6,
          13,
          3,
          15,
          13,
          23,
          6,
          2,
          3,
          3,
          6,
          3,
          3,
          10,
          13,
          8,
          8,
          113,
          2,
          3,
          9,
          6,
          5,
          5,
          42,
          38,
          3,
          3,
          3,
          7,
          14,
          2,
          2,
          2,
          4,
          12,
          3,
          5,
          2,
          3,
          3,
          3,
          2,
          2,
          6,
          4,
          59,
          13,
          2,
          2,
          34,
          16,
          53,
          57,
          17,
          5,
          3,
          6,
          9,
          2,
          4,
          2,
          2,
          3,
          3,
          5,
          75,
          11,
          3,
          3,
          3,
          2,
          5,
          3,
          3,
          2,
          5,
          7,
          14,
          9,
          2,
          3,
          6,
          4,
          2,
          2,
          2,
          2,
          5,
          5,
          9,
          3,
          3,
          7,
          17,
          3,
          7,
          9,
          3,
          3,
          5,
          8,
          11,
          16,
          9,
          32,
          3,
          6,
          6,
          4,
          2,
          10,
          4,
          4,
          4,
          4,
          4,
          4,
          24,
          6,
          5,
          9,
          15,
          10,
          5,
          2,
          2,
          12,
          4,
          15,
          3,
          3,
          8,
          3,
          8,
          9,
          41,
          6,
          9,
          2,
          13,
          22,
          15,
          2,
          2,
          113,
          7,
          26,
          2,
          8,
          3,
          3,
          3,
          2,
          2,
          2,
          6,
          8,
          2,
          20,
          38,
          3,
          3,
          3,
          2,
          5,
          6,
          22,
          9,
          9,
          9,
          7,
          4,
          4,
          23,
          29,
          21,
          2,
          8,
          28,
          2,
          12,
          12,
          3,
          16,
          19,
          10,
          22,
          2,
          2,
          11,
          9,
          9,
          22,
          3,
          10,
          5,
          2,
          3,
          15,
          5,
          9,
          3,
          3,
          4,
          5,
          8,
          32,
          11,
          3,
          16,
          7,
          6,
          6,
          6,
          2,
          5,
          2,
          2,
          12,
          10,
          6,
          4,
          2,
          5,
          2,
          3,
          3,
          3,
          9,
          9,
          9,
          3,
          9,
          8,
          3,
          3,
          3,
          2,
          28,
          6,
          10,
          8,
          11,
          3,
          27,
          2,
          6,
          11,
          12,
          2,
          8,
          6,
          12,
          2,
          2,
          22,
          30,
          56,
          13,
          23,
          23,
          18,
          2,
          6,
          3,
          3,
          10,
          2,
          2,
          8,
          3,
          20,
          31,
          7,
          2,
          16,
          2,
          2,
          31,
          35,
          2,
          2,
          7,
          2,
          13,
          2,
          2,
          2,
          2,
          2,
          3,
          8,
          11,
          6,
          5,
          6,
          2,
          17,
          6,
          6,
          12,
          4,
          7,
          2,
          2,
          7,
          2,
          5,
          8,
          7,
          4,
          2,
          7,
          9,
          27,
          6,
          2,
          4,
          2,
          10,
          2,
          34,
          15,
          8,
          3,
          6,
          3,
          3,
          18,
          2,
          12,
          18,
          4,
          12,
          4,
          38,
          38,
          12,
          2,
          20,
          2,
          5,
          4,
          2,
          2,
          4,
          2,
          3,
          3,
          3,
          2,
          2,
          9,
          7,
          3,
          10,
          2,
          4,
          9,
          6,
          12,
          2,
          2,
          2,
          2,
          12,
          22,
          9,
          16,
          3,
          3,
          4,
          3,
          3,
          3,
          2,
          2,
          8,
          12,
          9,
          23,
          9,
          8,
          6,
          5,
          2,
          5,
          3,
          3,
          6,
          6,
          2,
          4,
          2,
          2,
          2,
          6,
          2,
          2,
          17,
          16,
          2,
          14,
          3,
          3,
          3,
          2,
          10,
          6,
          3,
          4,
          4,
          10,
          4,
          3,
          6,
          3,
          8,
          2,
          2,
          11,
          2,
          46,
          2,
          7,
          5,
          9,
          4,
          2,
          2,
          2,
          2,
          9,
          9,
          20,
          4,
          2,
          4,
          6,
          32,
          6,
          14,
          9,
          3,
          2,
          6,
          6,
          11,
          7,
          26,
          14,
          3,
          3,
          3,
          2,
          5,
          2,
          10,
          3,
          3,
          2,
          2,
          7,
          2,
          2,
          5,
          9,
          2,
          2,
          4,
          9,
          9,
          8,
          14,
          3,
          5,
          2,
          14,
          6,
          5,
          14,
          6,
          5,
          2,
          5,
          3,
          3,
          11,
          4,
          3,
          3,
          2,
          6,
          2,
          29,
          38,
          6,
          28,
          8,
          5,
          16,
          2,
          5,
          15,
          2,
          10,
          7,
          5,
          2,
          7,
          10,
          4,
          2,
          8,
          12,
          10,
          7,
          3,
          16,
          8,
          11,
          19,
          9,
          6,
          2,
          5,
          2,
          13,
          8,
          4,
          13,
          3,
          8,
          6,
          2,
          11,
          21,
          11,
          2,
          2,
          4,
          8,
          2,
          2,
          2,
          2,
          4,
          3,
          5,
          3,
          3,
          7,
          8,
          2,
          8,
          2,
          8,
          9,
          2,
          8,
          8,
          2,
          2,
          5,
          5,
          2,
          28,
          15,
          8,
          8,
          15,
          7,
          19,
          2,
          2,
          6,
          5,
          15,
          6,
          3,
          8,
          3,
          12,
          2,
          11,
          8,
          8,
          3,
          4,
          6,
          10,
          15,
          3,
          8,
          2,
          2,
          2,
          9,
          37,
          32,
          8,
          2,
          2,
          11,
          2,
          14,
          2,
          6,
          4,
          9,
          3,
          3,
          3,
          2,
          2,
          5,
          6,
          8,
          42,
          2,
          9,
          3,
          3,
          4,
          2,
          3,
          9,
          3,
          2,
          3,
          3,
          3,
          2,
          2,
          2,
          2,
          2,
          11,
          3,
          5,
          3,
          5,
          3,
          3,
          2,
          3,
          3,
          8,
          3,
          2,
          2,
          2,
          11,
          4,
          5,
          8,
          6,
          5,
          2,
          11,
          7,
          7,
          6,
          3,
          3,
          4,
          8,
          4,
          2,
          2,
          4,
          3,
          5,
          3,
          12,
          7,
          2,
          2,
          2,
          4,
          22,
          3,
          3,
          5,
          2,
          8,
          2,
          18,
          2,
          7,
          5,
          2,
          3,
          3,
          3,
          44,
          2,
          2,
          3,
          2,
          6,
          7,
          5,
          3,
          8,
          3,
          3,
          4,
          2,
          3,
          3,
          3,
          2,
          3,
          2,
          2,
          8,
          6,
          5,
          6,
          3,
          15,
          2,
          3,
          18,
          2,
          8,
          2,
          8,
          17,
          2,
          2,
          15,
          54,
          3,
          3,
          3,
          3,
          6,
          3,
          11,
          15,
          6,
          2,
          4,
          13,
          11,
          3,
          3,
          2,
          9,
          7,
          4,
          6,
          10,
          2,
          2,
          2,
          11,
          8,
          6,
          6,
          11,
          4,
          5,
          3,
          2,
          3,
          3,
          7,
          2,
          3,
          3,
          3,
          4,
          8,
          18,
          6,
          6,
          6,
          6,
          6,
          8,
          2,
          12,
          3,
          2,
          3,
          2,
          3,
          3,
          5,
          3,
          2,
          14,
          6,
          2,
          9,
          5,
          6,
          3,
          11,
          15,
          3,
          3,
          3,
          2,
          5,
          2,
          6,
          3,
          3,
          2,
          2,
          25,
          18,
          22,
          6,
          3,
          13,
          5,
          4,
          8,
          2,
          2,
          8,
          2,
          2,
          3,
          3,
          3,
          10,
          2,
          6,
          12,
          6,
          6,
          2,
          3,
          3,
          2,
          9,
          12,
          15,
          2,
          21,
          12,
          6,
          2,
          5,
          3,
          3,
          3,
          2,
          3,
          3,
          3,
          2,
          11,
          11,
          9,
          6,
          16,
          3,
          8,
          5,
          2,
          4,
          4,
          2,
          3,
          3,
          2,
          16,
          4,
          4,
          10,
          9,
          3,
          3,
          2,
          3,
          3,
          4,
          4,
          2,
          3,
          3,
          3,
          2,
          5,
          15,
          14,
          6,
          4,
          6,
          8,
          9,
          10,
          3,
          5,
          2,
          7,
          3,
          3,
          3,
          11,
          4,
          17,
          4,
          17,
          4,
          6,
          2,
          2,
          6,
          6,
          6,
          6,
          3,
          3,
          15,
          2,
          2,
          2,
          6,
          18,
          2,
          2,
          2,
          4,
          2,
          6,
          13,
          6,
          10,
          6,
          3,
          5,
          5,
          5,
          6,
          2,
          2,
          3,
          5,
          3,
          17,
          2,
          3,
          3,
          3,
          4,
          2,
          6,
          2,
          4,
          2,
          5,
          2,
          6,
          3,
          3,
          14,
          41,
          2,
          3,
          3,
          2,
          5,
          3,
          3,
          6,
          8,
          9,
          9,
          2,
          2,
          3,
          5,
          2,
          6,
          3,
          6,
          6,
          2,
          9,
          8,
          4,
          4,
          2,
          8,
          3,
          19,
          3,
          4,
          4,
          4,
          12,
          3,
          5,
          3,
          6,
          3,
          3,
          5,
          3,
          3,
          2,
          16,
          5,
          3,
          5,
          3,
          4,
          8,
          6,
          2,
          4,
          11,
          2,
          11,
          3,
          3,
          3,
          3,
          3,
          2,
          4,
          4,
          4,
          4,
          4,
          4,
          8,
          4,
          9,
          3,
          5,
          2,
          2,
          5,
          8,
          6,
          6,
          2,
          15,
          6,
          2,
          3,
          15,
          10,
          10,
          2,
          3,
          3,
          3,
          3,
          5,
          3,
          3,
          8,
          3,
          12,
          3,
          3,
          2,
          6,
          5,
          13,
          3,
          4,
          4,
          8,
          4,
          4,
          3,
          3,
          2,
          2,
          17,
          3,
          3,
          3,
          6,
          4,
          4,
          4,
          4,
          8,
          4,
          10,
          5,
          3,
          3,
          2,
          5,
          8,
          2,
          3,
          10,
          7,
          5,
          5,
          2,
          8,
          3,
          3,
          2,
          4,
          2,
          22,
          18,
          3,
          3,
          3,
          3,
          3,
          5,
          3,
          6,
          3,
          11,
          4,
          3,
          2,
          8,
          4,
          5,
          4,
          4,
          4,
          9,
          4,
          4,
          2,
          2,
          6,
          6,
          7,
          4,
          12,
          2,
          3,
          3,
          7,
          20,
          8,
          8,
          9,
          3,
          3,
          2,
          2,
          6,
          2,
          4,
          2,
          26,
          2,
          15,
          8,
          5,
          17,
          2,
          6,
          3,
          3,
          2,
          8,
          8,
          14,
          6,
          6,
          2,
          6,
          6,
          2,
          3,
          3,
          10,
          2,
          4,
          4,
          8,
          3,
          3,
          7,
          6,
          10,
          14,
          4,
          6,
          6,
          2,
          25,
          8,
          2,
          5,
          5,
          3,
          3,
          3,
          3,
          2,
          2,
          6,
          2,
          7,
          2,
          3,
          3,
          3,
          16,
          2,
          9,
          3,
          3,
          3,
          3,
          6,
          3,
          4,
          3,
          3,
          13,
          2,
          6,
          3,
          3,
          12,
          8,
          6,
          12,
          6,
          2,
          3,
          3,
          2,
          6,
          12,
          23,
          3,
          3,
          2,
          4,
          22,
          2,
          3,
          5,
          15,
          6,
          6,
          3,
          3,
          3,
          3,
          3,
          3,
          3,
          4,
          6,
          7,
          3,
          6,
          3,
          4,
          4,
          4,
          2,
          2,
          2,
          2,
          11,
          4,
          2,
          17,
          3,
          3,
          7,
          4,
          4,
          12,
          3,
          3,
          3,
          2,
          2,
          3,
          3,
          6,
          2,
          2,
          2,
          3,
          6,
          2,
          3,
          3,
          3,
          2,
          6,
          2,
          5,
          5,
          2,
          7,
          2,
          6,
          2,
          6,
          7,
          2,
          8,
          6,
          6,
          8,
          6,
          6,
          2,
          2,
          2,
          2,
          4,
          5,
          2,
          2,
          3,
          11,
          3,
          6,
          6,
          6,
          6,
          8,
          9,
          6,
          8,
          8,
          10,
          6,
          10,
          3,
          3,
          5,
          2,
          12,
          3,
          3,
          4,
          2,
          3,
          8,
          8,
          13,
          5,
          5,
          12,
          4,
          15,
          15,
          6,
          5,
          2,
          2,
          2,
          7,
          5,
          4,
          3,
          6,
          3,
          2,
          2,
          2,
          3,
          3,
          2,
          4,
          8,
          2,
          2,
          3,
          3,
          3,
          4,
          2,
          4,
          4,
          4,
          4,
          4,
          4,
          2,
          2,
          2,
          3,
          3,
          9,
          5,
          2,
          4,
          2,
          3,
          3,
          6,
          3,
          9,
          5,
          2,
          6,
          9,
          4,
          2,
          3,
          5,
          6,
          2,
          7,
          9,
          11,
          6,
          2,
          3,
          6,
          6,
          8,
          8,
          6,
          7,
          8,
          4,
          7,
          35,
          6,
          2,
          5,
          6,
          3,
          3,
          10,
          3,
          3,
          4,
          6,
          3,
          3,
          3,
          2,
          2,
          4,
          17,
          4,
          4,
          4,
          2,
          20,
          3,
          2,
          4,
          4,
          4,
          4,
          9,
          4,
          3,
          3,
          7,
          10,
          3,
          3,
          5,
          4,
          50,
          10,
          9,
          6,
          2,
          5,
          6,
          8,
          30,
          10,
          8,
          3,
          3,
          3,
          3,
          6,
          4,
          4,
          9,
          10,
          2,
          2,
          3,
          9,
          3,
          2,
          3,
          3,
          5,
          2,
          2,
          2,
          6,
          2,
          4,
          4,
          6,
          9,
          6,
          2,
          6,
          15,
          2,
          3,
          3,
          11,
          7,
          5,
          3,
          3,
          3,
          11,
          6,
          3,
          3,
          5,
          9,
          6,
          6,
          28,
          5,
          6,
          2,
          5,
          3,
          14,
          3,
          3,
          3,
          3,
          3,
          13,
          2,
          6,
          4,
          3,
          3,
          2,
          9,
          4,
          6,
          8,
          15,
          3,
          8,
          6,
          13,
          4,
          2,
          4,
          4,
          2,
          6,
          8,
          6,
          6,
          2,
          2,
          3,
          3,
          7,
          11,
          2,
          7,
          3,
          2,
          3,
          3,
          3,
          2,
          21,
          2,
          4,
          2,
          2,
          15,
          8,
          4,
          5,
          14,
          3,
          3,
          2,
          8,
          4,
          30,
          6,
          6,
          12,
          2,
          11,
          6,
          3,
          2,
          2,
          2,
          9,
          6,
          6,
          9,
          18,
          4,
          4,
          3,
          3,
          3,
          2,
          2,
          3,
          3,
          3,
          3,
          30,
          17,
          8,
          8,
          19,
          14,
          2,
          3,
          2,
          4,
          2,
          3,
          8,
          3,
          4,
          9,
          8,
          2,
          3,
          6,
          14,
          3,
          2,
          3,
          3,
          3,
          2,
          10,
          6,
          6,
          5,
          3,
          11,
          6,
          6,
          2,
          3,
          3,
          2,
          2,
          2,
          2,
          2,
          7,
          4,
          8,
          8,
          17,
          2,
          3,
          6,
          3,
          2,
          2,
          4,
          2,
          3,
          8,
          5,
          16,
          6,
          6,
          4,
          2,
          3,
          3,
          3,
          2,
          4,
          4,
          4,
          4,
          8,
          2,
          10,
          9,
          7,
          3,
          11,
          3,
          6,
          9,
          6,
          2,
          6,
          5,
          12,
          16,
          4,
          13,
          6,
          4,
          8,
          8,
          6,
          7,
          7,
          4,
          2,
          6,
          7,
          8,
          8,
          3,
          2,
          15,
          7,
          2,
          3,
          5,
          5,
          3,
          3,
          6,
          4,
          2,
          2,
          2,
          11,
          3,
          3,
          3,
          11,
          5,
          6,
          2,
          2,
          3,
          3,
          5,
          2,
          5,
          3,
          3,
          8,
          6,
          6,
          8,
          5,
          2,
          3,
          3,
          3,
          3,
          6,
          5,
          3,
          2,
          3,
          4,
          3,
          5,
          12,
          2,
          6,
          9,
          5,
          3,
          11,
          5,
          3,
          9,
          7,
          3,
          2,
          4,
          8,
          3,
          2,
          6,
          3,
          3,
          16,
          2,
          2,
          5,
          6,
          3,
          3,
          3,
          4,
          2,
          3,
          3,
          5,
          17,
          3,
          4,
          5,
          6,
          3,
          6,
          2,
          3,
          5,
          3,
          5,
          3,
          7,
          18,
          6,
          6,
          6,
          6,
          2,
          2,
          2,
          5,
          2,
          2,
          6,
          4,
          4,
          4,
          4,
          4,
          2,
          2,
          6,
          3,
          3,
          3,
          2,
          2,
          22,
          2,
          2,
          7,
          2,
          3,
          3,
          2,
          2,
          22,
          6,
          2,
          13,
          7,
          3,
          3,
          3,
          3,
          3,
          9,
          2,
          7,
          4,
          4,
          6,
          2,
          3,
          3,
          4,
          4,
          4,
          2,
          8,
          8,
          4,
          2,
          6,
          6,
          6,
          3,
          3,
          3,
          12,
          6,
          2,
          4,
          4,
          7,
          7,
          7,
          4,
          7,
          8,
          3,
          2,
          6,
          4,
          6,
          10,
          6,
          8,
          3,
          3,
          3,
          8,
          11,
          5,
          3,
          3,
          3,
          3,
          2,
          8,
          4,
          8,
          5,
          3,
          3,
          3,
          3,
          14,
          2,
          4,
          2,
          4,
          3,
          2,
          4,
          4,
          4,
          2,
          3,
          4,
          4,
          4,
          3,
          3,
          5,
          3,
          6,
          2,
          4,
          4,
          4,
          4,
          2,
          3,
          3,
          3,
          2,
          3,
          3,
          3,
          3,
          3,
          5,
          6,
          2,
          12,
          5,
          4,
          2,
          6,
          2,
          2,
          6,
          3,
          7,
          3,
          3,
          2,
          2,
          8,
          8,
          3,
          3,
          3,
          3,
          2,
          2,
          3,
          3,
          5,
          6,
          7,
          7,
          11,
          4,
          2,
          9,
          2,
          3,
          6,
          3,
          5,
          6,
          2,
          5,
          2,
          3,
          6,
          3,
          2,
          8,
          6,
          2,
          8,
          6,
          2,
          3,
          3,
          6,
          8,
          4,
          3,
          3,
          4,
          4,
          4,
          4,
          4,
          3,
          3,
          3,
          6,
          4,
          5,
          2,
          2,
          3,
          8,
          8,
          3,
          3,
          4,
          4,
          4,
          3,
          2,
          5,
          3,
          3,
          3,
          10,
          2,
          3,
          10,
          3,
          3,
          3,
          8,
          2,
          2,
          4,
          12,
          6,
          3,
          5,
          3,
          3,
          3,
          3,
          2,
          2,
          6,
          6,
          2,
          3,
          3,
          6,
          2,
          2,
          13,
          7,
          6,
          2,
          2,
          2,
          10,
          3,
          3,
          6,
          5,
          2,
          2,
          8,
          2,
          3,
          3,
          2,
          2,
          2,
          2,
          2,
          2,
          5,
          3,
          2,
          6,
          2,
          3,
          8,
          3,
          6,
          3,
          3,
          3,
          4,
          2,
          5,
          3,
          3,
          3,
          3,
          2,
          2,
          3,
          8,
          2,
          11,
          2,
          3,
          3,
          6,
          5,
          3,
          2,
          2,
          2,
          4,
          4,
          4,
          4,
          4,
          2,
          2,
          4,
          2,
          6,
          6,
          3,
          3,
          3,
          2,
          3,
          6,
          2,
          4,
          5,
          6,
          6,
          2,
          9,
          5,
          3,
          2,
          2,
          4,
          2,
          3,
          11,
          3,
          2,
          9,
          6,
          2,
          5,
          3,
          8,
          3,
          6,
          2,
          2,
          4,
          4,
          6,
          8,
          2,
          8,
          6,
          2,
          6,
          2,
          2,
          3,
          3,
          3,
          2,
          2,
          3,
          3,
          3,
          3,
          2,
          2,
          3,
          3,
          2,
          3,
          2,
          4,
          2,
          3,
          3,
          3,
          3,
          3,
          11,
          3,
          3,
          14,
          3,
          2,
          2,
          3,
          2,
          2,
          11,
          2,
          2,
          2,
          2,
          2,
          2,
          2,
          6,
          6,
          6,
          4,
          4,
          2,
          2,
          2,
          8,
          8,
          2,
          3,
          3,
          2,
          3,
          2,
          2,
          8,
          8,
          6,
          4,
          4,
          4,
          4,
          6,
          8,
          8,
          7,
          3,
          5,
          6,
          3,
          3,
          3,
          4,
          4,
          2,
          2,
          2,
          3,
          3,
          3,
          3,
          2,
          12,
          8,
          4,
          2,
          2,
          3,
          11,
          2,
          2,
          2,
          3,
          5,
          3,
          5,
          6,
          2,
          3,
          3,
          2,
          3,
          6,
          3,
          3,
          3,
          3,
          3,
          2,
          5,
          2,
          2,
          4,
          2,
          2,
          4,
          4,
          2,
          3,
          5,
          3,
          3,
          3,
          3,
          2,
          5,
          2,
          2,
          2,
          8,
          3,
          3,
          5,
          3,
          2,
          2,
          3,
          2,
          19,
          11,
          2,
          3,
          3,
          2,
          2,
          5,
          3,
          5,
          2,
          10,
          6,
          2,
          19,
          2,
          6,
          2,
          3,
          3,
          3,
          3,
          21,
          2,
          2,
          2,
          2,
          2,
          6,
          2,
          2,
          2,
          5,
          2,
          2,
          5,
          6,
          6,
          2,
          3,
          5,
          3,
          10,
          3,
          3,
          2,
          5,
          2,
          13,
          3,
          3,
          5,
          2,
          2,
          10,
          2,
          2,
          2,
          2,
          2,
          5,
          3,
          3,
          2,
          4,
          2,
          2,
          6,
          12,
          3,
          3,
          3,
          4,
          5,
          3,
          3,
          2,
          2,
          3,
          5,
          8,
          4,
          4,
          9,
          3,
          3,
          3,
          3,
          3,
          2,
          2,
          3,
          3,
          2,
          3,
          9,
          2,
          2,
          2,
          11,
          6,
          2,
          2,
          18,
          4,
          2,
          3,
          3,
          3,
          5,
          6,
          3,
          5,
          4,
          2,
          2,
          2,
          2,
          2,
          16,
          4,
          2,
          2,
          5,
          2,
          2,
          2,
          3,
          3,
          12,
          2,
          6,
          2,
          3,
          3,
          3,
          12,
          2,
          2,
          2,
          2,
          3,
          3,
          6,
          2,
          2,
          2,
          6,
          2,
          9,
          18,
          2,
          6,
          2,
          2,
          2,
          2,
          3,
          3,
          5,
          2,
          6,
          2,
          6,
          2,
          2,
          23,
          4,
          2,
          10,
          2,
          2,
          2,
          6,
          2,
          2,
          8,
          2,
          8,
          2,
          9,
          2,
          2,
          2,
          3,
          3,
          9,
          3,
          3,
          12,
          8,
          8,
          10,
          3,
          3,
          8,
          2,
          14,
          16,
          12,
          6,
          2,
          2,
          8,
          4,
          2,
          2,
          22,
          3,
          3,
          2,
          8,
          9,
          4,
          4,
          4,
          4,
          2,
          2,
          6,
          6,
          2,
          2,
          8,
          2,
          14,
          6,
          2,
          2,
          3,
          3,
          5,
          6,
          2,
          2,
          2,
          3,
          5,
          3,
          2,
          2,
          6,
          2,
          2,
          2,
          6,
          3,
          3,
          3,
          2,
          8,
          8,
          6,
          5,
          2,
          20,
          3,
          9,
          2,
          4,
          2,
          4,
          8,
          2,
          2,
          3,
          3,
          3,
          6,
          6,
          12,
          6,
          6,
          6,
          2,
          4,
          6,
          2,
          7,
          9,
          4,
          24,
          3,
          3,
          3,
          3,
          3,
          3,
          3,
          3,
          4,
          6,
          8,
          2,
          3,
          3,
          3,
          10,
          8,
          4,
          8,
          3,
          3,
          3,
          2,
          5,
          3,
          3,
          3,
          2,
          2,
          3,
          3,
          9,
          2,
          3,
          3,
          2,
          6,
          2,
          6,
          3,
          3,
          2,
          3,
          3,
          6,
          4,
          2,
          2,
          4,
          9,
          4,
          4,
          4,
          2,
          2,
          2,
          2,
          2,
          2,
          3,
          3,
          3,
          2,
          2,
          2,
          2,
          2,
          2,
          2,
          2,
          2,
          3,
          2,
          2,
          3,
          3,
          9,
          3,
          3,
          6,
          2,
          4,
          21,
          6,
          11,
          2,
          2,
          2,
          2,
          2,
          2,
          2,
          3,
          3,
          3,
          3,
          3,
          3,
          12,
          2,
          2,
          2,
          2,
          2,
          6,
          2,
          2,
          2,
          3,
          3,
          2,
          5,
          3,
          2,
          15,
          2,
          2,
          4,
          7,
          7,
          2,
          2,
          2,
          2,
          2,
          2,
          2,
          3,
          5,
          7,
          4,
          2,
          2,
          2,
          11,
          2,
          3,
          3,
          3,
          3,
          2,
          2,
          4,
          4,
          6,
          4,
          3,
          6,
          3,
          3,
          5,
          10,
          6,
          4,
          2,
          10,
          2,
          2,
          4,
          4,
          4,
          4,
          2,
          3,
          3,
          4,
          3,
          3,
          2,
          2,
          2,
          5,
          3,
          3,
          2,
          5,
          3,
          2,
          2,
          4,
          3,
          5,
          18,
          6,
          3,
          3,
          2,
          3,
          3,
          40,
          3,
          19,
          9,
          11,
          3,
          3,
          2,
          7,
          3,
          3,
          4,
          3,
          3,
          3,
          3,
          19,
          3,
          3,
          3,
          3,
          12,
          6,
          2,
          2,
          2,
          5,
          2,
          3,
          3,
          6,
          2,
          3,
          6,
          6,
          2,
          3,
          3,
          3,
          3,
          6,
          3,
          3,
          3,
          3,
          2,
          32,
          2,
          2,
          2,
          4,
          6,
          2,
          2,
          2,
          2,
          2,
          6,
          9,
          3,
          3,
          3,
          2,
          3,
          3,
          3,
          2,
          2,
          3,
          3,
          3,
          13,
          3,
          2,
          2,
          4,
          8,
          8,
          5,
          2,
          4,
          5,
          4,
          2,
          6,
          3,
          3,
          3,
          3,
          5,
          3,
          3,
          2,
          6,
          5,
          2,
          2,
          4,
          4,
          2,
          2,
          2,
          3,
          5,
          3,
          2,
          2,
          2,
          4,
          3,
          3,
          5,
          2,
          4,
          2,
          5,
          2,
          2,
          2,
          4,
          3,
          3,
          3,
          2,
          2,
          2,
          4,
          4,
          4,
          6,
          6,
          2,
          7,
          2,
          2,
          4,
          2,
          3,
          3,
          3,
          2,
          3,
          5,
          3,
          2,
          2,
          2,
          3,
          3,
          2,
          5,
          6,
          4,
          33,
          4,
          4,
          4,
          7,
          2,
          8,
          2,
          2,
          4,
          2,
          12,
          3,
          4,
          4,
          2,
          2,
          2,
          4,
          2,
          2,
          3,
          3,
          4,
          2,
          39,
          2,
          3,
          3,
          2,
          2,
          2,
          3,
          3,
          9,
          4,
          3,
          5,
          3,
          2,
          2,
          3,
          6,
          3,
          4,
          4,
          4,
          4,
          7,
          4,
          2,
          2,
          3,
          3,
          3,
          2,
          2,
          2,
          4,
          8,
          4,
          2,
          2,
          2,
          12,
          12,
          2,
          3,
          3,
          3,
          2,
          12,
          4,
          2,
          8,
          8,
          4,
          2,
          2,
          2,
          2,
          2,
          3,
          3,
          3,
          3,
          3,
          3,
          6,
          2,
          2,
          2,
          4,
          3,
          3,
          3,
          2,
          8,
          4,
          8,
          2,
          9,
          9,
          9,
          2,
          2,
          8,
          2,
          2,
          4,
          4,
          6,
          4,
          4,
          8,
          2,
          2,
          7,
          10,
          2,
          5,
          2,
          2,
          4,
          3,
          3,
          5,
          2,
          2,
          2,
          4,
          2,
          4,
          2,
          11,
          2,
          3,
          7,
          3,
          7,
          4,
          4,
          8,
          3,
          5,
          3,
          2,
          2,
          2,
          2,
          2,
          2,
          2,
          3,
          3,
          3,
          2,
          2,
          2,
          4,
          2,
          3,
          3,
          3,
          2,
          2,
          2,
          7,
          3,
          3,
          4,
          4,
          8,
          2,
          2,
          2,
          2,
          6,
          2,
          3,
          6,
          6,
          4,
          2,
          2,
          4,
          2,
          2,
          7,
          4,
          4,
          4,
          4,
          4,
          4,
          4,
          4,
          4,
          4,
          4,
          8,
          16,
          6,
          3,
          3,
          3,
          3,
          5,
          3,
          14,
          2,
          2,
          4,
          13,
          6,
          2,
          2,
          6,
          4,
          3,
          6,
          2,
          9,
          2,
          2,
          2,
          8,
          3,
          3,
          3,
          2,
          2,
          2,
          2,
          2,
          6,
          3,
          3,
          3,
          6,
          6,
          3,
          3,
          5,
          9,
          2,
          3,
          3,
          3,
          3,
          3,
          3,
          2,
          3,
          3,
          2,
          3,
          6,
          3,
          3,
          14,
          3,
          4,
          4,
          4,
          4,
          4,
          7,
          2,
          2,
          6,
          2,
          2,
          2,
          2,
          2,
          3,
          3,
          3,
          12,
          4,
          8,
          8,
          2,
          6,
          12,
          6,
          5,
          3,
          2,
          6,
          2,
          2,
          6,
          6,
          2,
          2,
          2,
          3,
          6,
          14,
          3,
          3,
          3,
          2,
          6,
          6,
          2,
          2,
          2,
          3,
          6,
          10,
          6,
          2,
          6,
          8,
          8,
          2,
          2,
          5,
          5,
          2,
          2,
          6,
          4,
          4,
          11,
          11,
          2,
          2,
          6,
          2,
          3,
          3,
          3,
          2,
          4,
          8,
          2,
          2,
          6,
          2,
          2,
          2,
          2,
          2,
          5,
          21,
          9,
          8,
          4,
          2,
          2,
          2,
          6,
          2,
          6,
          4,
          2,
          2,
          2,
          4,
          3,
          3,
          3,
          2,
          2,
          2,
          2,
          2,
          2,
          2,
          3,
          10,
          3,
          13,
          3,
          3,
          3,
          3,
          2,
          8,
          3,
          2,
          2,
          8,
          15,
          15,
          4,
          6,
          4,
          4,
          4,
          4,
          3,
          3,
          3,
          2,
          2,
          2,
          6,
          2,
          2,
          2,
          2,
          12,
          2,
          4,
          24,
          8,
          3,
          3,
          3,
          2,
          2,
          2,
          2,
          6,
          2,
          3,
          11,
          3,
          2,
          4,
          12,
          2,
          2,
          3,
          3,
          3,
          2,
          15,
          2,
          9,
          3,
          5,
          3,
          2,
          2,
          9,
          3,
          3,
          4,
          2,
          2,
          2,
          2,
          2,
          2,
          3,
          3,
          3,
          2,
          2,
          2,
          3,
          3,
          4,
          6,
          6,
          6,
          2,
          11,
          3,
          6,
          8,
          4,
          3,
          3,
          2,
          2,
          2,
          2,
          3,
          3,
          5,
          2,
          6,
          14,
          4,
          7,
          4,
          4,
          4,
          8,
          6,
          2,
          2,
          6,
          2,
          6,
          2,
          6,
          2,
          3,
          3,
          3,
          2,
          4,
          4,
          7,
          2,
          4,
          2,
          2,
          3,
          9,
          3,
          2,
          2,
          4,
          2,
          2,
          2,
          2,
          2,
          3,
          3,
          3,
          5,
          3,
          3,
          6,
          2,
          2,
          6,
          2,
          2,
          2,
          2,
          2,
          2,
          2,
          3,
          2,
          2,
          2,
          2,
          2,
          8,
          14,
          4,
          4,
          3,
          3,
          2,
          4,
          2,
          4,
          6,
          6,
          2,
          2,
          2,
          2,
          2,
          9,
          2,
          2,
          2,
          2,
          2,
          5,
          2,
          3,
          3,
          7,
          6,
          3,
          3,
          2,
          2,
          6,
          3,
          3,
          3,
          2,
          2,
          4,
          4,
          4,
          11,
          19,
          13,
          2,
          6,
          3,
          12,
          2,
          2,
          2,
          2,
          6,
          2,
          2,
          2,
          8,
          8,
          22,
          3,
          6,
          3,
          8,
          3,
          3,
          3,
          4,
          3,
          3,
          16,
          3,
          3,
          3,
          3,
          3,
          2,
          2,
          8,
          8,
          4,
          3,
          3,
          2,
          2,
          3,
          15,
          10,
          10,
          5,
          5,
          5,
          6,
          2,
          3,
          5,
          4,
          2,
          2,
          2,
          2,
          6,
          4,
          3,
          13,
          3,
          2,
          3,
          6,
          4,
          2,
          2,
          2,
          2,
          2,
          4,
          2,
          3,
          3,
          4,
          8,
          4,
          2,
          6,
          3,
          3,
          4,
          2,
          3,
          3,
          3,
          3,
          4,
          2,
          2,
          2,
          2,
          2,
          2,
          6,
          4,
          4,
          4,
          2,
          5,
          3,
          3,
          4,
          5,
          2,
          4,
          2,
          2,
          4,
          3,
          3,
          3,
          2,
          3,
          3,
          3,
          2,
          2,
          3,
          3,
          3,
          3,
          3,
          3,
          3,
          2,
          6,
          4,
          4,
          4,
          2,
          2,
          2,
          8,
          8,
          2,
          3,
          3,
          5,
          2,
          3,
          9,
          3,
          2,
          2,
          4,
          2,
          4,
          2,
          2,
          2,
          2,
          2,
          2,
          2,
          2,
          2,
          2,
          2,
          2,
          2,
          2,
          6,
          3,
          3,
          3,
          2,
          2,
          6,
          6,
          4,
          2,
          8,
          4,
          2,
          2,
          4,
          2,
          3,
          3,
          3,
          2,
          2,
          2,
          2,
          2,
          6,
          2,
          2,
          2,
          2,
          7,
          4,
          4,
          6,
          6,
          4,
          2,
          11,
          9,
          15,
          6,
          2,
          8,
          3,
          3,
          3,
          2,
          2,
          2,
          6,
          2,
          2,
          2,
          2,
          6,
          2,
          2,
          2,
          4,
          3,
          3,
          2,
          2,
          2,
          2,
          2,
          2,
          2,
          2,
          4,
          2,
          2,
          2,
          3,
          3,
          3,
          2,
          2,
          3,
          3,
          3,
          3,
          3,
          8,
          4,
          3,
          3,
          2,
          2,
          2,
          2,
          2,
          3,
          3,
          3,
          3,
          9,
          3,
          3,
          2,
          4,
          3,
          3,
          3,
          3,
          3,
          2,
          8,
          2,
          6,
          2,
          12,
          2,
          7,
          3,
          3,
          3,
          6,
          3,
          2,
          5,
          6,
          3,
          3,
          2,
          2,
          2,
          2,
          4,
          6,
          4,
          4,
          4,
          6,
          6,
          2,
          2,
          2,
          3,
          3,
          3,
          3,
          3,
          4,
          2,
          8,
          12,
          6,
          5,
          3,
          3,
          2,
          6,
          3,
          3,
          3,
          2,
          3,
          3,
          2,
          2,
          2,
          3,
          3,
          3,
          3,
          3,
          2,
          2,
          2,
          2,
          2,
          6,
          5,
          3,
          3,
          2,
          4,
          2,
          2,
          2,
          2,
          2,
          6,
          6,
          6,
          3,
          3,
          2,
          2,
          2,
          3,
          3,
          3,
          2,
          5,
          3,
          3,
          4,
          4,
          4,
          4,
          4,
          2,
          2,
          2,
          2,
          2,
          5,
          2,
          2,
          3,
          3,
          3,
          2,
          6,
          6,
          6,
          2,
          2,
          2,
          2,
          3,
          3,
          3,
          4,
          2,
          2,
          2,
          6,
          5,
          3,
          3,
          3,
          5,
          3,
          2,
          2,
          2,
          2,
          2,
          2,
          2,
          2,
          2,
          2,
          2,
          3,
          3,
          9,
          2,
          2,
          2,
          3,
          3,
          3,
          11,
          5,
          3,
          6,
          2,
          5,
          3,
          4,
          19,
          4,
          6,
          2,
          3,
          3,
          3,
          2,
          6,
          2,
          2,
          3,
          3,
          6,
          5,
          4,
          2,
          2,
          2,
          6,
          2,
          6,
          2,
          3,
          9,
          3,
          3,
          3,
          2,
          3,
          3,
          2,
          2,
          2,
          2,
          2,
          2,
          6,
          6,
          6,
          4,
          2,
          2,
          2,
          2,
          2,
          2,
          2,
          2,
          2,
          7,
          2,
          3,
          3,
          2,
          12,
          4,
          2,
          2,
          3,
          3,
          3,
          2,
          2,
          3,
          3,
          3,
          2,
          2,
          2,
          2,
          4,
          4,
          4,
          4,
          4,
          2,
          6,
          2,
          4,
          2,
          2,
          2,
          2,
          7,
          2,
          2,
          6,
          4,
          2,
          2,
          3,
          3,
          6,
          3,
          3,
          3,
          2,
          3,
          3,
          3,
          3,
          3,
          3,
          9,
          2,
          2,
          4,
          2,
          2,
          3,
          3,
          2,
          2,
          5,
          3,
          3,
          3,
          2,
          2,
          2,
          3,
          3,
          3,
          3,
          3,
          2,
          2,
          7,
          3,
          3,
          6,
          3,
          2,
          2,
          2,
          3,
          3,
          3,
          5,
          3,
          3,
          5,
          2,
          2,
          2,
          5,
          2,
          2,
          3,
          3,
          2,
          2,
          2,
          2,
          2,
          2,
          2,
          2,
          3,
          3,
          3,
          2,
          2,
          2,
          3,
          3,
          2,
          2,
          3,
          3,
          3,
          6,
          4,
          4,
          4,
          6,
          4,
          2,
          2,
          2,
          2,
          4,
          2,
          2,
          3,
          3,
          8,
          2,
          2,
          2,
          2,
          2,
          2,
          2,
          2,
          3,
          3,
          3,
          3,
          3,
          3,
          2,
          2,
          2,
          2,
          8,
          3,
          2,
          2,
          2,
          3,
          3,
          2,
          2,
          4,
          2,
          2,
          2,
          2,
          2,
          9,
          2,
          2,
          3,
          3,
          3,
          2,
          2,
          5,
          10,
          5,
          10,
          13,
          2,
          2,
          2,
          2,
          6,
          2,
          2,
          2,
          4,
          2,
          4,
          4,
          4,
          4,
          4,
          4,
          4,
          4,
          4,
          4,
          6,
          2,
          3,
          3,
          3,
          2,
          3,
          3,
          3,
          2,
          7,
          3,
          3,
          3,
          2,
          8,
          4,
          8,
          2,
          3,
          3,
          3,
          3,
          2,
          4,
          2,
          3,
          3,
          3,
          2,
          2,
          2,
          6,
          4,
          4,
          2,
          4,
          9,
          2,
          6,
          6,
          2,
          6,
          2,
          3,
          3,
          3,
          3,
          3,
          3,
          6,
          4,
          2,
          2,
          3,
          9,
          3,
          2,
          6,
          2,
          2,
          2,
          2,
          2,
          2,
          3,
          3,
          3,
          16,
          11,
          8,
          3,
          3,
          5,
          2,
          4,
          2,
          3,
          3,
          3,
          2,
          2,
          3,
          3,
          3,
          2,
          2,
          2,
          2,
          2,
          2,
          2,
          2,
          2,
          3,
          3,
          3,
          3,
          3,
          3,
          3,
          3,
          2,
          5,
          2,
          3,
          3,
          3,
          2,
          6,
          2,
          8,
          13,
          4,
          3,
          3,
          10,
          8,
          4,
          8,
          3,
          5,
          3,
          2,
          2,
          2,
          2,
          2,
          6,
          3,
          3,
          3,
          2,
          2,
          9,
          4,
          6,
          6,
          2,
          6,
          10,
          2,
          2,
          2,
          6,
          6,
          8,
          11,
          6,
          2,
          2,
          2,
          3,
          3,
          3,
          12,
          6,
          2,
          2,
          2,
          2,
          2,
          2,
          3,
          3,
          3,
          2,
          2,
          2,
          2,
          2,
          2,
          4,
          2,
          2,
          4,
          2,
          4,
          2,
          2,
          3,
          3,
          3,
          3,
          2,
          11,
          2,
          2,
          2,
          3,
          2,
          2,
          2,
          6,
          6,
          3,
          3,
          2,
          2,
          6,
          2,
          2,
          6,
          6,
          2,
          3,
          2,
          6,
          8,
          6,
          6,
          2,
          2,
          6,
          2,
          4,
          2,
          2,
          2,
          2,
          3,
          3,
          3,
          6,
          2,
          3,
          3,
          3,
          2,
          2,
          2,
          2,
          2,
          8,
          6,
          6,
          2,
          2,
          2,
          2,
          2,
          2,
          3,
          3,
          12,
          2,
          2,
          2,
          3,
          3,
          3,
          5,
          5,
          3,
          3,
          3,
          3,
          7,
          3,
          2,
          3,
          3,
          3,
          2,
          3,
          5,
          3,
          3,
          5,
          2,
          3,
          3,
          3,
          2,
          3,
          3,
          7,
          2,
          2,
          2,
          2,
          2,
          2,
          2,
          2,
          6,
          2,
          2,
          2,
          2,
          2,
          2,
          6,
          6,
          2,
          2,
          8,
          3,
          8,
          3,
          2,
          2,
          17,
          3,
          3,
          2,
          3,
          3,
          3,
          3,
          10,
          3,
          2,
          2,
          2,
          7,
          2,
          2,
          3,
          3,
          3,
          2,
          2,
          2,
          2,
          2,
          2,
          2,
          12,
          3,
          3,
          3,
          2,
          3,
          3,
          3,
          2,
          2,
          2,
          2,
          2,
          3,
          3,
          3,
          3,
          3,
          2,
          6,
          6,
          3,
          3,
          3,
          5,
          3,
          3,
          4,
          2,
          2,
          3,
          3,
          2,
          3,
          3,
          3,
          2,
          2,
          2,
          2,
          2,
          2,
          2,
          2,
          2,
          2,
          2,
          2,
          2,
          2,
          3,
          3,
          3,
          3,
          3,
          2,
          9,
          2,
          3,
          5,
          4,
          7,
          2,
          3,
          3,
          3,
          2,
          2,
          2,
          2,
          12,
          3,
          6,
          3,
          6,
          2,
          2,
          2,
          2,
          12,
          2,
          2,
          8,
          5,
          9,
          2,
          4,
          8,
          8,
          2,
          2,
          2,
          2,
          2,
          2,
          2,
          2,
          6,
          2,
          3,
          3,
          3,
          6,
          3,
          3,
          3,
          6,
          2,
          3,
          3,
          3,
          3,
          2,
          2,
          2,
          2,
          6,
          3,
          3,
          3,
          3,
          3,
          3,
          2,
          2,
          2,
          2,
          6,
          2,
          2,
          2,
          2,
          6,
          3,
          3,
          3,
          2,
          2,
          2,
          3,
          3,
          4,
          2,
          3,
          3,
          2,
          2,
          6,
          5,
          3,
          3,
          2,
          2,
          2,
          2,
          2,
          2,
          3,
          3,
          2,
          3,
          3,
          3,
          6,
          2,
          2,
          2,
          2,
          2,
          6,
          6,
          2,
          2,
          2,
          2,
          2,
          2,
          2,
          2,
          2,
          6,
          2,
          6,
          2,
          2,
          2,
          2,
          2,
          2,
          2,
          2,
          2,
          12,
          3,
          3,
          3,
          2,
          2,
          4,
          2,
          2,
          2,
          2,
          2,
          3,
          3,
          2,
          2,
          2,
          2,
          4,
          4,
          4,
          4,
          4,
          2,
          2,
          2,
          2,
          2,
          2,
          2,
          4,
          2,
          2,
          2,
          2,
          2,
          5,
          2,
          2,
          3,
          3,
          2,
          2,
          2,
          2,
          3,
          3,
          3,
          2,
          2,
          2,
          2,
          2,
          3,
          3,
          3,
          2,
          2,
          2,
          2,
          2,
          2,
          2,
          2,
          2,
          8,
          8,
          4,
          2,
          2,
          4,
          2,
          2,
          2,
          3,
          6,
          2,
          10,
          2,
          2,
          2,
          6,
          2,
          6,
          2,
          4,
          2,
          2,
          2,
          4,
          9,
          3,
          3,
          6,
          3,
          3,
          3,
          2,
          2,
          16,
          3,
          6,
          3,
          2,
          2,
          2,
          2,
          6,
          9,
          6,
          7,
          39,
          3,
          3,
          3,
          3,
          3,
          5,
          2,
          2,
          4,
          4,
          4,
          6,
          6,
          2,
          3,
          3,
          3,
          2,
          2,
          4,
          3,
          3,
          3,
          3,
          3,
          2,
          2,
          2,
          2,
          2,
          2,
          2,
          4,
          4,
          8,
          13,
          6,
          4,
          4,
          4,
          4,
          7,
          4,
          4,
          6,
          3,
          2,
          6,
          10,
          10,
          10,
          2,
          3,
          3,
          4,
          10,
          4,
          4,
          4,
          6,
          3,
          3,
          2,
          2,
          3,
          3,
          2,
          3,
          3,
          3,
          4,
          2,
          2,
          2,
          6,
          2,
          3,
          3,
          3,
          2,
          2,
          12,
          2,
          2,
          5,
          3,
          2,
          2,
          2,
          4,
          2,
          3,
          3,
          3,
          2,
          13,
          17,
          3,
          3,
          3,
          3,
          3,
          3,
          2,
          2,
          3,
          5,
          2,
          3,
          3,
          5,
          3,
          6,
          2,
          2,
          2,
          6,
          8,
          6,
          9,
          2,
          2,
          3,
          5,
          2,
          4,
          4,
          4,
          7,
          13,
          2,
          7,
          3,
          9,
          4,
          4,
          4,
          3,
          3,
          3,
          2,
          2,
          2,
          2,
          3,
          3,
          3,
          2,
          3,
          3,
          4,
          4,
          7,
          4,
          4,
          4,
          4,
          7,
          7,
          2,
          3,
          3,
          3,
          3,
          3,
          3,
          3,
          2,
          2,
          3,
          3,
          2,
          2,
          6,
          6,
          9,
          9,
          19,
          2,
          2,
          2,
          2,
          2,
          4,
          4,
          4,
          3,
          3,
          5,
          7,
          3,
          11,
          5,
          3,
          3,
          3,
          3,
          3,
          6,
          4,
          3,
          3,
          3,
          2,
          2,
          3,
          3,
          3,
          3,
          3,
          2,
          3,
          3,
          3,
          6,
          3,
          3,
          2,
          2,
          3,
          3,
          3,
          3,
          2,
          2,
          2,
          4,
          5,
          3,
          3,
          2,
          2,
          6,
          6,
          4,
          8,
          8,
          9,
          2,
          2,
          3,
          3,
          3,
          3,
          3,
          3,
          2,
          3,
          3,
          3,
          3,
          6,
          2,
          3,
          2,
          2,
          3,
          3,
          3,
          3,
          3,
          3,
          3,
          3,
          2,
          2,
          2,
          2,
          2,
          2,
          2,
          2,
          4,
          8,
          4,
          2,
          2,
          2,
          2,
          2,
          2,
          2,
          8,
          2,
          2,
          2,
          4,
          2,
          2,
          3,
          3,
          3,
          3,
          3,
          7,
          2,
          2,
          8,
          3,
          6,
          3,
          3,
          7,
          2,
          2,
          4,
          2,
          2,
          6,
          2,
          2,
          12,
          2,
          2,
          4,
          7,
          4,
          2,
          4,
          2,
          3,
          3,
          2,
          2,
          2,
          2,
          2,
          4,
          4,
          4,
          2,
          2,
          2,
          2,
          2,
          2,
          3,
          3,
          6,
          3,
          3,
          2,
          6,
          2,
          2,
          3,
          3,
          3,
          3,
          3,
          3,
          2,
          2,
          2,
          6,
          2,
          2,
          4,
          4,
          3,
          5,
          4,
          8,
          3,
          3,
          2,
          2,
          2,
          4,
          3,
          6,
          2,
          3,
          4,
          4,
          4,
          4,
          4,
          4,
          2,
          2,
          2,
          3,
          3,
          2,
          2,
          2,
          6,
          9,
          3,
          2,
          2,
          8,
          8,
          4,
          2,
          12,
          3,
          3,
          3,
          5,
          2,
          2,
          2,
          10,
          4,
          2,
          4,
          3,
          3,
          6,
          6,
          2,
          4,
          3,
          3,
          2,
          5,
          2,
          2,
          2,
          2,
          2,
          6,
          3,
          3,
          3,
          2,
          2,
          2,
          3,
          3,
          2,
          2,
          4,
          8,
          2,
          4,
          8,
          3,
          3,
          2,
          6,
          2,
          6,
          2,
          2,
          2,
          3,
          2,
          2,
          2,
          2,
          2,
          2,
          8,
          8,
          2,
          2,
          2,
          2,
          3,
          3,
          9,
          2,
          3,
          4,
          2,
          2,
          2,
          2,
          2,
          2,
          4,
          2,
          2,
          6,
          2,
          2,
          5,
          2,
          6,
          2,
          2,
          2,
          2,
          6,
          6,
          2,
          6,
          2,
          3,
          3,
          3,
          2,
          2,
          3,
          3,
          2,
          4,
          18,
          2,
          4,
          2,
          3,
          6,
          5,
          2,
          2,
          2,
          2,
          5,
          3,
          3,
          2,
          2,
          2,
          2,
          3,
          3,
          2,
          6,
          6,
          2,
          3,
          3,
          3,
          2,
          2,
          2,
          2,
          11,
          4,
          2,
          3,
          3,
          2,
          2,
          2,
          29,
          4,
          3,
          3,
          2,
          2,
          3,
          2,
          3,
          3,
          4,
          2,
          2,
          3,
          3,
          2,
          2,
          2,
          2,
          2,
          2,
          2,
          3,
          3,
          2,
          2,
          3,
          3,
          2,
          2,
          2,
          2,
          2,
          5,
          6,
          2,
          6,
          3,
          2,
          6,
          3,
          3,
          2,
          2,
          3,
          3,
          6,
          6,
          6,
          2,
          3,
          5,
          8,
          4,
          2,
          3,
          3,
          2,
          2,
          2,
          2,
          2,
          3,
          3,
          4,
          7,
          3,
          3,
          3,
          3,
          2,
          2,
          2,
          2,
          2,
          2,
          2,
          3,
          3,
          3,
          3,
          3,
          2,
          16,
          4,
          4,
          7,
          3,
          3,
          3,
          2,
          2,
          3,
          3,
          6,
          2,
          2,
          2,
          4,
          2,
          2,
          4,
          2,
          2,
          2,
          3,
          3,
          8,
          8,
          4,
          3,
          3,
          3,
          3,
          4,
          4,
          4,
          6,
          4,
          3,
          3,
          2,
          2,
          2,
          2,
          3,
          6,
          7,
          7,
          4,
          8,
          4,
          2,
          12,
          2,
          2,
          3,
          6,
          3,
          9,
          3,
          3,
          3,
          3,
          10,
          6,
          6,
          3,
          3,
          3,
          3,
          3,
          3,
          2,
          2,
          2,
          2,
          2,
          8,
          4,
          3,
          3,
          3,
          2,
          2,
          4,
          4,
          6,
          3,
          3,
          3,
          3,
          3,
          3,
          2,
          3,
          3,
          3,
          2,
          6,
          2,
          4,
          4,
          4,
          4,
          4,
          3,
          3,
          3,
          3,
          8,
          2,
          13,
          9,
          2,
          4,
          3,
          3,
          3,
          5,
          3,
          3,
          3,
          2,
          3,
          3,
          3,
          4,
          2,
          3,
          3,
          3,
          4,
          2,
          4,
          4,
          4,
          4,
          4,
          4,
          2,
          3,
          3,
          3,
          3,
          2,
          4,
          2,
          3,
          3,
          2,
          2,
          2,
          2,
          2,
          2,
          2,
          3,
          9,
          3,
          4,
          2,
          3,
          3,
          3,
          4,
          2,
          2,
          6,
          2,
          4,
          4,
          4,
          4,
          6,
          3,
          3,
          3,
          3,
          3,
          3,
          3,
          3,
          3,
          5,
          2,
          2,
          2,
          3,
          2,
          2,
          4,
          4,
          4,
          4,
          4,
          2,
          4,
          3,
          12,
          3,
          3,
          3,
          2,
          2,
          3,
          3,
          2,
          4,
          2,
          3,
          3,
          3,
          3,
          2,
          2,
          2,
          4,
          2,
          2,
          6,
          3,
          3,
          2,
          4,
          5,
          3,
          3,
          3,
          2,
          2,
          5,
          9,
          3,
          3,
          2,
          6,
          6,
          5,
          3,
          3,
          2,
          2,
          6,
          2,
          5,
          3,
          3,
          3,
          2,
          2,
          2,
          2,
          2,
          2,
          2,
          2,
          8,
          3,
          3,
          2,
          2,
          3,
          2,
          2,
          3,
          3,
          3,
          3,
          2,
          2,
          2,
          4,
          2,
          6,
          2,
          2,
          3,
          3,
          3,
          6,
          2,
          2,
          3,
          3,
          5,
          3,
          3,
          2,
          2,
          8,
          4,
          2,
          4,
          7,
          4,
          3,
          3,
          3,
          8,
          2,
          2,
          2,
          3,
          3,
          3,
          2,
          3,
          3,
          2,
          2,
          3,
          2,
          4,
          2,
          2,
          2,
          2,
          2,
          3,
          3,
          5,
          2,
          2,
          5,
          6,
          6,
          6,
          2,
          3,
          3,
          3,
          3,
          3,
          3,
          2,
          2,
          6,
          6,
          6,
          3,
          4,
          2,
          2,
          3,
          3,
          2,
          2,
          4,
          4,
          3,
          2,
          2,
          2,
          4,
          4,
          3,
          3,
          2,
          2,
          2,
          8,
          8,
          2,
          3,
          3,
          2,
          6,
          2,
          8,
          3,
          2,
          6,
          3,
          3,
          3,
          3,
          4,
          2,
          3,
          3,
          3,
          2,
          3,
          2,
          2,
          6,
          3,
          2,
          3,
          3,
          2,
          2,
          2,
          6,
          3,
          3,
          3,
          3,
          2,
          3,
          3,
          6,
          3,
          3,
          8,
          2,
          3,
          3,
          3,
          2,
          2,
          2,
          3,
          6,
          3,
          3,
          4,
          2,
          6,
          2,
          2,
          2,
          4,
          4,
          3,
          3,
          4,
          2,
          3,
          3,
          3,
          3,
          3,
          6,
          3,
          3,
          4,
          4,
          4,
          4,
          4,
          3,
          2,
          2,
          2,
          2,
          2,
          5,
          3,
          2,
          2,
          6,
          2,
          3,
          3,
          2,
          2,
          3,
          3,
          2,
          2,
          3,
          3,
          3,
          3,
          4,
          8,
          2,
          6,
          2,
          3,
          8,
          2,
          3,
          3,
          5,
          3,
          2,
          2,
          3,
          3,
          3,
          3,
          3,
          2,
          2,
          2,
          2,
          8,
          3,
          11,
          3,
          3,
          3,
          3,
          2,
          2,
          3,
          3,
          3,
          3,
          2,
          2,
          3,
          5,
          5,
          2,
          2,
          6,
          3,
          3,
          2,
          3,
          3,
          4,
          4,
          4,
          4,
          2,
          3,
          3,
          6,
          2,
          2,
          3,
          3,
          6,
          5,
          3,
          2,
          2,
          3,
          2,
          3,
          3,
          6,
          3,
          6,
          3,
          3,
          8,
          9,
          2,
          7,
          3,
          4,
          3,
          3,
          3,
          3,
          2,
          3,
          3,
          4,
          2,
          3,
          3,
          2,
          2,
          3,
          2,
          3,
          6,
          2,
          2,
          3,
          3,
          2,
          3,
          3,
          2,
          6,
          3,
          3,
          3,
          3,
          3,
          3,
          5,
          2,
          2,
          2,
          2,
          4,
          4,
          4,
          3,
          3,
          3,
          2,
          4,
          6,
          4,
          4,
          6,
          6,
          3,
          3,
          3,
          3,
          2,
          3,
          3,
          3,
          14,
          2,
          6,
          2,
          3,
          5,
          3,
          3,
          2,
          2,
          2,
          2,
          2,
          2,
          2,
          2,
          3,
          6,
          3,
          3,
          2,
          3,
          2,
          3,
          3,
          8,
          2,
          3,
          6,
          2,
          3,
          3,
          3,
          3,
          3,
          3,
          8,
          2,
          2,
          2,
          2,
          2,
          6,
          2,
          3,
          3,
          3,
          3,
          2,
          3,
          3,
          3,
          2,
          6,
          6,
          2,
          3,
          2,
          2,
          2,
          3,
          3,
          2,
          3,
          2,
          3,
          3,
          3,
          2,
          2,
          3,
          3,
          6,
          2,
          2,
          3,
          3,
          3,
          2,
          2,
          3,
          3,
          5,
          12,
          11,
          7,
          3,
          3,
          3,
          2,
          2,
          2,
          2,
          6,
          2,
          3,
          2,
          3,
          3,
          3,
          6,
          3,
          3,
          3,
          3,
          3,
          2,
          3,
          3,
          3,
          3,
          2,
          3,
          3,
          3,
          6,
          2,
          2,
          2,
          8,
          4,
          6,
          2,
          2,
          5,
          2,
          2,
          3,
          5,
          3,
          2,
          3,
          3,
          3,
          2,
          2,
          2,
          2,
          3,
          3,
          3,
          3,
          2,
          3,
          3,
          2,
          2,
          2,
          2,
          2,
          2,
          2,
          4,
          8,
          2,
          3,
          2,
          2,
          6,
          2,
          2,
          2,
          2,
          2,
          2,
          3,
          2,
          3,
          2,
          2,
          2,
          2,
          2,
          2,
          2,
          2,
          2,
          6,
          2,
          2,
          2,
          16,
          2,
          8,
          11,
          4,
          2,
          2,
          3,
          3,
          3,
          3,
          3,
          2,
          5,
          3,
          3,
          3,
          2,
          6,
          3,
          3,
          3,
          3,
          3,
          3,
          3,
          2,
          2,
          2,
          2,
          2,
          3,
          3,
          2,
          3,
          3,
          2,
          2,
          3,
          3,
          3,
          3,
          2,
          2,
          2,
          2,
          2,
          2,
          2,
          2,
          2,
          6,
          2,
          3,
          3,
          3,
          3,
          3,
          3,
          3,
          3,
          2,
          3,
          3,
          3,
          3,
          4,
          2,
          2,
          3,
          3,
          3,
          2,
          6,
          4,
          2,
          2,
          3,
          3,
          3,
          2,
          2,
          2,
          2,
          2,
          2,
          2,
          2,
          3,
          3,
          3,
          2,
          4,
          2,
          2,
          3,
          3,
          2,
          3,
          6,
          2,
          2,
          4,
          2,
          3,
          3,
          3,
          2,
          2,
          2,
          2,
          2,
          3,
          3,
          2,
          6,
          2,
          2,
          2,
          2,
          3,
          3,
          2,
          2,
          2,
          2,
          2,
          2,
          2,
          2,
          2,
          3,
          3,
          2,
          2,
          2,
          2,
          2,
          2,
          2,
          2,
          2,
          2,
          2,
          2,
          2,
          2,
          2,
          2,
          2,
          2,
          6,
          6,
          2,
          2,
          6,
          6,
          6,
          2,
          2,
          3,
          3,
          2,
          2,
          3,
          3,
          2,
          3,
          3,
          2,
          6,
          3,
          2,
          2,
          3,
          3,
          3,
          3,
          3,
          3,
          3,
          2,
          4,
          8,
          3,
          3,
          3,
          3,
          2,
          3,
          3,
          3,
          2,
          3,
          2,
          2,
          2,
          2,
          3,
          2,
          3,
          3,
          6,
          3,
          3,
          3,
          2,
          2,
          2,
          2,
          2,
          2,
          2,
          3,
          2,
          2,
          6,
          8,
          4,
          3,
          3,
          3,
          2,
          2,
          3,
          3,
          3,
          2,
          5,
          3,
          3,
          3,
          3,
          3,
          3,
          3,
          3,
          3,
          3,
          3,
          2,
          2,
          2,
          2,
          2,
          2,
          2,
          3,
          3,
          6,
          2,
          2,
          11,
          2,
          2,
          2,
          2,
          8,
          2,
          2,
          6,
          3,
          3,
          3,
          3,
          3,
          3,
          2,
          2,
          4,
          4,
          2,
          2,
          3,
          3,
          3,
          3,
          3,
          2,
          6,
          6,
          3,
          6,
          2,
          3,
          3,
          2,
          2,
          6,
          4,
          4,
          4,
          4,
          6,
          2,
          3,
          3,
          5,
          6,
          2,
          3,
          3,
          2,
          2,
          2,
          3,
          3,
          2,
          3,
          2,
          3,
          5,
          3,
          3,
          5,
          5,
          2,
          6,
          3,
          3,
          3,
          2,
          6,
          2,
          2,
          2,
          6,
          2,
          2,
          3,
          3,
          2,
          2,
          3,
          3,
          2,
          2,
          3,
          3,
          3,
          2,
          2,
          3,
          3,
          2,
          2,
          2,
          2,
          2,
          2,
          2,
          2,
          3,
          3,
          3,
          2,
          3,
          3,
          3,
          2,
          2,
          2,
          2,
          3,
          2,
          2,
          2,
          2,
          2,
          3,
          3,
          6,
          3,
          3,
          3,
          3,
          6,
          6,
          3,
          3,
          2,
          3,
          2,
          2,
          2,
          2,
          3,
          3,
          3,
          2,
          2,
          2,
          3,
          3,
          3,
          2,
          3,
          3,
          2,
          3,
          3,
          2,
          2,
          2,
          2,
          2,
          2,
          3,
          3,
          2,
          2,
          2,
          2,
          3,
          3,
          3,
          2,
          2,
          2,
          3,
          3,
          3,
          2,
          3,
          3,
          4,
          4,
          3,
          3,
          3,
          3,
          3,
          2,
          2,
          2,
          2,
          2,
          2,
          3,
          3,
          3,
          3,
          3,
          2,
          2,
          2,
          2
         ],
         "xaxis": "x",
         "xbins": {
          "end": 229,
          "size": 1,
          "start": 2
         },
         "yaxis": "y"
        },
        {
         "legendgroup": "Matched Economic Institutions",
         "marker": {
          "color": "rgb(31, 119, 180)"
         },
         "mode": "lines",
         "name": "Matched Economic Institutions",
         "showlegend": false,
         "type": "scatter",
         "x": [
          2,
          2.454,
          2.908,
          3.362,
          3.816,
          4.27,
          4.724,
          5.178,
          5.632,
          6.086,
          6.54,
          6.994,
          7.448,
          7.902,
          8.356,
          8.809999999999999,
          9.264,
          9.718,
          10.172,
          10.626,
          11.08,
          11.534,
          11.988,
          12.442,
          12.896,
          13.35,
          13.804,
          14.258,
          14.712,
          15.166,
          15.62,
          16.073999999999998,
          16.528,
          16.982,
          17.436,
          17.89,
          18.344,
          18.798,
          19.252,
          19.706,
          20.16,
          20.614,
          21.068,
          21.522,
          21.976,
          22.43,
          22.884,
          23.338,
          23.792,
          24.246,
          24.7,
          25.154,
          25.608,
          26.062,
          26.516,
          26.97,
          27.424,
          27.878,
          28.332,
          28.786,
          29.24,
          29.694,
          30.148,
          30.602,
          31.056,
          31.51,
          31.964,
          32.418,
          32.872,
          33.326,
          33.78,
          34.234,
          34.688,
          35.142,
          35.596,
          36.05,
          36.504,
          36.958,
          37.412,
          37.866,
          38.32,
          38.774,
          39.228,
          39.682,
          40.136,
          40.59,
          41.044,
          41.498,
          41.952,
          42.406,
          42.86,
          43.314,
          43.768,
          44.222,
          44.676,
          45.13,
          45.584,
          46.038,
          46.492,
          46.946,
          47.4,
          47.854,
          48.308,
          48.762,
          49.216,
          49.67,
          50.124,
          50.578,
          51.032,
          51.486,
          51.94,
          52.394,
          52.848,
          53.302,
          53.756,
          54.21,
          54.664,
          55.118,
          55.572,
          56.026,
          56.48,
          56.934,
          57.388,
          57.842,
          58.296,
          58.75,
          59.204,
          59.658,
          60.112,
          60.566,
          61.02,
          61.474,
          61.928,
          62.382,
          62.836,
          63.29,
          63.744,
          64.19800000000001,
          64.652,
          65.106,
          65.56,
          66.014,
          66.468,
          66.922,
          67.376,
          67.83,
          68.284,
          68.738,
          69.192,
          69.646,
          70.1,
          70.554,
          71.008,
          71.462,
          71.916,
          72.37,
          72.824,
          73.278,
          73.732,
          74.186,
          74.64,
          75.094,
          75.548,
          76.002,
          76.456,
          76.91,
          77.364,
          77.818,
          78.272,
          78.726,
          79.18,
          79.634,
          80.088,
          80.542,
          80.996,
          81.45,
          81.904,
          82.358,
          82.812,
          83.266,
          83.72,
          84.174,
          84.628,
          85.082,
          85.536,
          85.99,
          86.444,
          86.898,
          87.352,
          87.806,
          88.26,
          88.714,
          89.168,
          89.622,
          90.076,
          90.53,
          90.984,
          91.438,
          91.892,
          92.346,
          92.8,
          93.254,
          93.708,
          94.162,
          94.616,
          95.07,
          95.524,
          95.978,
          96.432,
          96.886,
          97.34,
          97.794,
          98.248,
          98.702,
          99.156,
          99.61,
          100.064,
          100.518,
          100.972,
          101.426,
          101.88,
          102.334,
          102.788,
          103.242,
          103.696,
          104.15,
          104.604,
          105.058,
          105.512,
          105.966,
          106.42,
          106.874,
          107.328,
          107.782,
          108.236,
          108.69,
          109.144,
          109.598,
          110.052,
          110.506,
          110.96,
          111.414,
          111.868,
          112.322,
          112.776,
          113.23,
          113.684,
          114.138,
          114.592,
          115.046,
          115.5,
          115.954,
          116.408,
          116.862,
          117.316,
          117.77,
          118.224,
          118.678,
          119.132,
          119.586,
          120.04,
          120.494,
          120.948,
          121.402,
          121.856,
          122.31,
          122.764,
          123.218,
          123.672,
          124.126,
          124.58,
          125.034,
          125.488,
          125.942,
          126.396,
          126.85,
          127.304,
          127.758,
          128.212,
          128.666,
          129.12,
          129.574,
          130.028,
          130.482,
          130.936,
          131.39,
          131.844,
          132.298,
          132.752,
          133.206,
          133.66,
          134.114,
          134.568,
          135.022,
          135.476,
          135.93,
          136.384,
          136.838,
          137.292,
          137.746,
          138.2,
          138.654,
          139.108,
          139.562,
          140.016,
          140.47,
          140.924,
          141.378,
          141.832,
          142.286,
          142.74,
          143.194,
          143.648,
          144.102,
          144.556,
          145.01,
          145.464,
          145.918,
          146.372,
          146.826,
          147.28,
          147.734,
          148.188,
          148.642,
          149.096,
          149.55,
          150.004,
          150.458,
          150.912,
          151.366,
          151.82,
          152.274,
          152.728,
          153.182,
          153.636,
          154.09,
          154.544,
          154.998,
          155.452,
          155.906,
          156.36,
          156.814,
          157.268,
          157.722,
          158.176,
          158.63,
          159.084,
          159.538,
          159.992,
          160.446,
          160.9,
          161.354,
          161.808,
          162.262,
          162.716,
          163.17,
          163.624,
          164.078,
          164.532,
          164.986,
          165.44,
          165.894,
          166.348,
          166.802,
          167.256,
          167.71,
          168.164,
          168.618,
          169.072,
          169.526,
          169.98,
          170.434,
          170.888,
          171.342,
          171.796,
          172.25,
          172.704,
          173.158,
          173.612,
          174.066,
          174.52,
          174.974,
          175.428,
          175.882,
          176.336,
          176.79,
          177.244,
          177.698,
          178.152,
          178.606,
          179.06,
          179.514,
          179.968,
          180.422,
          180.876,
          181.33,
          181.784,
          182.238,
          182.692,
          183.146,
          183.6,
          184.054,
          184.508,
          184.962,
          185.416,
          185.87,
          186.324,
          186.778,
          187.232,
          187.686,
          188.14,
          188.594,
          189.048,
          189.502,
          189.956,
          190.41,
          190.864,
          191.318,
          191.772,
          192.226,
          192.68,
          193.134,
          193.588,
          194.042,
          194.496,
          194.95,
          195.404,
          195.858,
          196.312,
          196.766,
          197.22,
          197.674,
          198.128,
          198.582,
          199.036,
          199.49,
          199.944,
          200.398,
          200.852,
          201.306,
          201.76,
          202.214,
          202.668,
          203.122,
          203.576,
          204.03,
          204.484,
          204.938,
          205.392,
          205.846,
          206.3,
          206.754,
          207.208,
          207.662,
          208.116,
          208.57,
          209.024,
          209.478,
          209.932,
          210.386,
          210.84,
          211.294,
          211.748,
          212.202,
          212.656,
          213.11,
          213.564,
          214.018,
          214.472,
          214.926,
          215.38,
          215.834,
          216.288,
          216.742,
          217.196,
          217.65,
          218.104,
          218.558,
          219.012,
          219.466,
          219.92,
          220.374,
          220.828,
          221.282,
          221.736,
          222.19,
          222.644,
          223.098,
          223.552,
          224.006,
          224.46,
          224.914,
          225.368,
          225.822,
          226.276,
          226.73,
          227.184,
          227.638,
          228.092,
          228.546
         ],
         "xaxis": "x",
         "y": [
          0.19207402476812135,
          0.21164050299925383,
          0.20944192264213252,
          0.18843663402511482,
          0.15690881411600371,
          0.12429466894772112,
          0.09731763156539648,
          0.07824757100415987,
          0.06564927755600787,
          0.056638625834384435,
          0.04902193004481068,
          0.042091616670646446,
          0.036050749676453456,
          0.031064923999164645,
          0.026892515791767078,
          0.023165409625934823,
          0.01975461748598241,
          0.016802775973948355,
          0.014492170807577401,
          0.012834851485968942,
          0.011645494529334317,
          0.010660773695132936,
          0.009685094937721735,
          0.008666985202853559,
          0.00767692096825771,
          0.006820667624047875,
          0.006154627285393566,
          0.005655128316162022,
          0.0052462880941895025,
          0.004852059581265977,
          0.004434276867119803,
          0.0039998641303271186,
          0.003582291126418078,
          0.003213304496235621,
          0.002902338772429572,
          0.0026347853297949758,
          0.0023877018310295484,
          0.002149661295017734,
          0.00193014859841139,
          0.0017536788121480327,
          0.0016442851690911483,
          0.0016094129417943452,
          0.001630798296926217,
          0.0016677181667357666,
          0.0016733754284857763,
          0.0016165575376863145,
          0.0014947706389335901,
          0.001330326176363971,
          0.0011541942778531945,
          0.0009907306662842528,
          0.0008525068614253245,
          0.0007442704174324642,
          0.0006685084678121983,
          0.0006265066545317002,
          0.0006151911884663425,
          0.0006248441436623099,
          0.0006416672845269384,
          0.0006539378583862434,
          0.000656738030885178,
          0.0006515111108768834,
          0.0006416060449075533,
          0.0006285680492884451,
          0.0006121753481271085,
          0.000592082290184255,
          0.0005673499315984001,
          0.0005346641513540508,
          0.0004897305912028386,
          0.00043252809006381074,
          0.00037062136579288,
          0.0003155616892692922,
          0.00027531203901551846,
          0.00025021439292828985,
          0.00023583051280702758,
          0.0002290057381345887,
          0.00023138433268582985,
          0.0002477787050674687,
          0.0002809915488690698,
          0.00032694063904727756,
          0.00037379201078991347,
          0.0004065790921609465,
          0.0004151737076455791,
          0.00040052842839729104,
          0.00037447285656944096,
          0.0003524720649011394,
          0.0003438306426086508,
          0.00034604348185713317,
          0.00034741225560070446,
          0.00033608755184841413,
          0.0003087492300346051,
          0.0002723551553649514,
          0.00023790402241793005,
          0.00021172102715069014,
          0.0001918105290440655,
          0.0001719259478134609,
          0.00014849352970576558,
          0.00012342577403439935,
          0.00010135655987050268,
          0.00008575495646121097,
          0.00007781863661185337,
          0.00007743054747023284,
          0.00008362909716998812,
          0.00009421566066655527,
          0.00010591776232523883,
          0.00011555472581421479,
          0.00012110400894844645,
          0.000121790528216311,
          0.00011766101921915488,
          0.00010963732543326022,
          0.0001002011984967825,
          0.0000937022160614301,
          0.0000951788818358727,
          0.00010786960378604362,
          0.00013103579300470934,
          0.00015975227406411007,
          0.0001869005671308798,
          0.0002061720932775801,
          0.00021448952891267906,
          0.0002126741856186426,
          0.00020400410950333867,
          0.00019154178932102826,
          0.0001762745332318704,
          0.00015772755972305743,
          0.00013629880950189737,
          0.00011454415043250115,
          0.0000958512535248522,
          0.00008214981402205567,
          0.00007323360955936717,
          0.00006780934553195738,
          0.00006434072756276223,
          0.000060912469036214364,
          0.000055371254676925045,
          0.000046586037347400784,
          0.000035688381004354505,
          0.000025784780542572903,
          0.00002026358170434873,
          0.00002101216611032515,
          0.000027444139336542707,
          0.000036504150366610264,
          0.00004375078425068783,
          0.000045414887557467804,
          0.00004040120486944689,
          0.00003071947775970503,
          0.000019951377969404313,
          0.000011067998380084953,
          0.000005253870205053038,
          0.0000021783233675739484,
          9.622289370053898e-7,
          9.897611497585098e-7,
          0.0000022775952129344675,
          0.000005466779433412364,
          0.000011434493035293038,
          0.000020470218196110582,
          0.00003134185885970674,
          0.00004113779250751738,
          0.00004660857007235897,
          0.000046433545106381096,
          0.00004253949692688103,
          0.00003899119798346603,
          0.00003903768548943074,
          0.00004263739934108833,
          0.00004649018202147944,
          0.00004654980757887257,
          0.00004095903555968654,
          0.00003110427886017264,
          0.00002025987072762744,
          0.000011341824265930655,
          0.000005645465158214614,
          0.0000031184505293776046,
          0.0000033886546573691145,
          0.000006508708660725419,
          0.000012863821761953505,
          0.000022298240972909943,
          0.000033118798106237556,
          0.00004202403325198233,
          0.00004553866119685553,
          0.000042140758988053043,
          0.00003330137371761031,
          0.000022473264276120495,
          0.000012953653526543834,
          0.000006390437505532654,
          0.000002761180159740421,
          0.000001302148466430012,
          0.0000014956614470917247,
          0.0000037021102825690074,
          0.000009404419568360859,
          0.000020904571686700825,
          0.00004014124916826179,
          0.00006680478520511876,
          0.00009702680801643904,
          0.00012427667474574532,
          0.00014252562046031836,
          0.0001493859060305601,
          0.00014659228360060407,
          0.0001376419266544059,
          0.00012498829640702217,
          0.00010916759429039358,
          0.0000900586886580167,
          0.00006860119165539189,
          0.00004726463965810254,
          0.00002897856070174612,
          0.00001562298293393587,
          0.000007343355480668612,
          0.000002991981128499041,
          0.00000105702449596782,
          3.4677738517378673e-7,
          2.053845936541088e-7,
          4.637814354173536e-7,
          0.0000013821262683557783,
          0.0000036443361769134724,
          0.00000822420130461064,
          0.000015851321238077223,
          0.000026090210838545596,
          0.00003667132871602915,
          0.00004401619550982867,
          0.000045116537132698094,
          0.000039491294396464806,
          0.00002952223556595811,
          0.00001886256117396735,
          0.000010361669056908462,
          0.0000051226447022690546,
          0.0000029951829274086372,
          0.0000036389981440763705,
          0.000007178614098419012,
          0.000013989195616166368,
          0.00002375442893122326,
          0.00003453320910109734,
          0.00004288478584810523,
          0.000045480297115010666,
          0.00004118908591787093,
          0.00003185502728105564,
          0.000021038299952825145,
          0.000011865380971500124,
          0.000005715004579380644,
          0.000002353024401423533,
          8.407795537445806e-7,
          3.216808881375988e-7,
          3.699001709798166e-7,
          0.0000010964647022665529,
          0.000003268138681111059,
          0.000008412095143456624,
          0.000018503232924866707,
          0.000034757339477501976,
          0.000055754932623574466,
          0.00007637598677081384,
          0.00008934434621180825,
          0.00008925118966080161,
          0.00007613733119055104,
          0.000055464867892500776,
          0.000034504442409112146,
          0.000018330264920256507,
          0.000008315706778013959,
          0.0000032215604877916316,
          0.000001065786243393708,
          3.0109991155445835e-7,
          7.264200839361379e-8,
          1.4965862658859852e-8,
          2.633009131116272e-9,
          3.9558486973518586e-10,
          5.075322888922221e-11,
          5.560634872802826e-12,
          5.202616073540752e-13,
          4.156768852296071e-14,
          2.8361334971054334e-15,
          1.6524721956748078e-16,
          8.22201670975612e-18,
          3.4935326887654706e-19,
          1.2846397663656636e-20,
          5.931746621263795e-21,
          1.5362440326339052e-19,
          3.638047280057608e-18,
          7.357707024767499e-17,
          1.2707302484979349e-15,
          1.8741353079619103e-14,
          2.360397873684537e-13,
          2.538669610104071e-12,
          2.331652637505217e-11,
          1.8287663219216937e-10,
          1.224867966612087e-9,
          7.00578872233574e-9,
          3.42185413173476e-8,
          1.4272585262375866e-7,
          5.083706827762482e-7,
          0.0000015463045929090665,
          0.000004016486317211748,
          0.000008909108235692648,
          0.00001687558651986455,
          0.000027297332766701116,
          0.00003770667602712553,
          0.00004447879186952784,
          0.000044804786556477726,
          0.0000385418485428586,
          0.000028312444338255957,
          0.000017760651339838614,
          0.000009514306203017871,
          0.000004352436100416842,
          0.0000017003264069377863,
          5.674791701277294e-7,
          1.6327562256167294e-7,
          4.868290385837389e-8,
          5.268446641528867e-8,
          1.8203774077408434e-7,
          6.258057224862157e-7,
          0.0000018506604584259932,
          0.000004675090041669941,
          0.000010085466825060103,
          0.000018579712713516513,
          0.000029229318717290597,
          0.00003926766606996309,
          0.00004504931407961091,
          0.000044134475919921475,
          0.00003692363611658598,
          0.000026379566120352822,
          0.000016094130978755567,
          0.000008385020178100905,
          0.000003730588868849915,
          0.000001417383476227023,
          4.598688980513038e-7,
          1.2741407581389962e-7,
          3.014654012860718e-8,
          6.0910791228135e-9,
          1.0509636697094043e-9,
          1.5485237232648593e-10,
          1.948429607204131e-11,
          2.0935738003220173e-12,
          1.92100513901132e-13,
          1.5052390479257052e-14,
          1.0072078981049936e-15,
          5.75531988104786e-17,
          2.8083841172247896e-18,
          1.1702543040529417e-19,
          4.1642872892624706e-21,
          1.2654290989392337e-22,
          3.2837618120802635e-24,
          7.276829116901493e-26,
          1.3770490255400945e-27,
          2.2253243773080502e-29,
          3.0709584891198095e-31,
          3.61902234007225e-33,
          3.642044764036394e-35,
          3.129939854339318e-37,
          2.2970127311343228e-39,
          1.4395525057202216e-41,
          7.70421359277485e-44,
          3.520998313444586e-46,
          1.3741685877767823e-48,
          4.579846411256941e-51,
          1.303462401220236e-53,
          3.1679826920338997e-56,
          6.575121606090031e-59,
          1.1653636732167482e-61,
          1.763826487536814e-64,
          2.2797485155180307e-67,
          2.516255402852412e-70,
          2.371696958367156e-73,
          1.9089755684356946e-76,
          1.312134157513643e-79,
          7.701810159675788e-83,
          3.860504609566152e-86,
          1.6524641203740206e-89,
          6.040274826773657e-93,
          1.8854631853325376e-96,
          5.025926259451309e-100,
          1.144065435867214e-103,
          2.2239361541118352e-107,
          3.691734521226218e-111,
          5.23329609634579e-115,
          6.335149233922767e-119,
          6.549001493359692e-123,
          5.7813601754018684e-127,
          4.3583455578778407e-131,
          2.805756597441414e-135,
          1.542463947818311e-139,
          7.241303474327131e-144,
          2.9030543901137952e-148,
          9.938716303256522e-153,
          2.90564205578553e-157,
          7.254218439800734e-162,
          1.5465922960527776e-166,
          2.8157737341694606e-171,
          4.377804484584712e-176,
          5.812348787232656e-181,
          6.589973537447949e-186,
          6.380465594547403e-191,
          5.275428837838915e-196,
          3.724773461386965e-201,
          2.2458391951462732e-206,
          1.156362893303746e-211,
          5.0844775552356e-217,
          1.9091287568348562e-222,
          6.1215415500088e-228,
          1.6761893665436794e-233,
          3.919422290874719e-239,
          7.82632236857735e-245,
          1.3345354185504385e-250,
          1.9432969704932342e-256,
          2.4164896546353487e-262,
          2.566063528966875e-268,
          2.326947395801729e-274,
          1.8019487059556547e-280,
          1.1916123081164546e-286,
          6.729212359102022e-293,
          3.245115694293272e-299,
          1.3363888180077065e-305,
          4.69972210463e-312,
          1.416625e-318,
          1.8470533035e-314,
          5.568157683463795e-308,
          1.4334426414870709e-301,
          3.1512714222437593e-295,
          5.915997746182044e-289,
          9.48433501422942e-283,
          1.2984417453340553e-276,
          1.5180104133783047e-270,
          1.5155271787145332e-264,
          1.292080002602537e-258,
          9.407013736392855e-253,
          5.848585575048037e-247,
          3.105178830827658e-241,
          1.4078587426883747e-235,
          5.450900378510248e-230,
          1.8022461440385647e-224,
          5.0885806547772033e-219,
          1.2269190720079888e-213,
          2.5262240756396616e-208,
          4.441856453849117e-203,
          6.6695090557015086e-198,
          8.551846777083194e-193,
          9.364026906241659e-188,
          8.755926194823975e-183,
          6.991626645488425e-178,
          4.767503964414762e-173,
          2.7761350817208717e-168,
          1.3804695231738649e-163,
          5.862053116637219e-159,
          2.1257362221525294e-154,
          6.582724719688004e-150,
          1.7407592526627654e-145,
          3.9310487352275963e-141,
          7.580796546196768e-137,
          1.2484120493805502e-132,
          1.7556492675921565e-128,
          2.10840610456312e-124,
          2.1622577763928872e-120,
          1.8936397777280828e-116,
          1.4161979626785472e-112,
          9.04455616850397e-109,
          4.932728955590742e-105,
          2.2973329526561843e-101,
          9.136867546003843e-98,
          3.1031831868756143e-94,
          9.000242174701331e-91,
          2.229141692001248e-87,
          4.714741120244818e-84,
          8.515589645713287e-81,
          1.3134341276996841e-77,
          1.7299699738975331e-74,
          1.9458328525976757e-71,
          1.8689995426820507e-68,
          1.5330261254555287e-65,
          1.0738079485858858e-62,
          6.423036206305871e-60,
          3.2808836043543345e-57,
          1.4311263357546996e-54,
          5.3309157825458695e-52,
          1.6957521130521454e-49,
          4.606378384197996e-47,
          1.0685468038821386e-44,
          2.1167237714514865e-42,
          3.5807295634904547e-40,
          5.172679307839581e-38,
          6.381110772212218e-36,
          6.722235310413467e-34,
          6.04738801920737e-32,
          4.6457801813165564e-30,
          3.0477979748609613e-28,
          1.7074594271303e-26,
          8.16866915351298e-25,
          3.337251354625625e-23,
          1.1642955210100051e-21,
          3.4687598433916687e-20,
          8.82514676126817e-19,
          1.9173718073165486e-17,
          3.5573568723675236e-16,
          5.6361848894766885e-15,
          7.625700149228001e-14,
          8.810710160463735e-13,
          8.693182611954503e-12,
          7.324591150013282e-11,
          5.270170558753979e-10,
          3.238192410327664e-9,
          1.6990936936358057e-8,
          7.613225661052651e-8,
          2.913109268246882e-7,
          9.518785591121388e-7,
          0.0000026560913745124936,
          0.000006329088607434774,
          0.000012878818939779006,
          0.000022379356610575776,
          0.00003320900421190813,
          0.000042082429756715106
         ],
         "yaxis": "y"
        }
       ],
       "layout": {
        "barmode": "overlay",
        "height": 500,
        "hovermode": "closest",
        "legend": {
         "traceorder": "reversed",
         "x": 0.35,
         "xanchor": "left",
         "y": 1,
         "yanchor": "bottom"
        },
        "template": {
         "data": {
          "bar": [
           {
            "error_x": {
             "color": "#2a3f5f"
            },
            "error_y": {
             "color": "#2a3f5f"
            },
            "marker": {
             "line": {
              "color": "#E5ECF6",
              "width": 0.5
             },
             "pattern": {
              "fillmode": "overlay",
              "size": 10,
              "solidity": 0.2
             }
            },
            "type": "bar"
           }
          ],
          "barpolar": [
           {
            "marker": {
             "line": {
              "color": "#E5ECF6",
              "width": 0.5
             },
             "pattern": {
              "fillmode": "overlay",
              "size": 10,
              "solidity": 0.2
             }
            },
            "type": "barpolar"
           }
          ],
          "carpet": [
           {
            "aaxis": {
             "endlinecolor": "#2a3f5f",
             "gridcolor": "white",
             "linecolor": "white",
             "minorgridcolor": "white",
             "startlinecolor": "#2a3f5f"
            },
            "baxis": {
             "endlinecolor": "#2a3f5f",
             "gridcolor": "white",
             "linecolor": "white",
             "minorgridcolor": "white",
             "startlinecolor": "#2a3f5f"
            },
            "type": "carpet"
           }
          ],
          "choropleth": [
           {
            "colorbar": {
             "outlinewidth": 0,
             "ticks": ""
            },
            "type": "choropleth"
           }
          ],
          "contour": [
           {
            "colorbar": {
             "outlinewidth": 0,
             "ticks": ""
            },
            "colorscale": [
             [
              0,
              "#0d0887"
             ],
             [
              0.1111111111111111,
              "#46039f"
             ],
             [
              0.2222222222222222,
              "#7201a8"
             ],
             [
              0.3333333333333333,
              "#9c179e"
             ],
             [
              0.4444444444444444,
              "#bd3786"
             ],
             [
              0.5555555555555556,
              "#d8576b"
             ],
             [
              0.6666666666666666,
              "#ed7953"
             ],
             [
              0.7777777777777778,
              "#fb9f3a"
             ],
             [
              0.8888888888888888,
              "#fdca26"
             ],
             [
              1,
              "#f0f921"
             ]
            ],
            "type": "contour"
           }
          ],
          "contourcarpet": [
           {
            "colorbar": {
             "outlinewidth": 0,
             "ticks": ""
            },
            "type": "contourcarpet"
           }
          ],
          "heatmap": [
           {
            "colorbar": {
             "outlinewidth": 0,
             "ticks": ""
            },
            "colorscale": [
             [
              0,
              "#0d0887"
             ],
             [
              0.1111111111111111,
              "#46039f"
             ],
             [
              0.2222222222222222,
              "#7201a8"
             ],
             [
              0.3333333333333333,
              "#9c179e"
             ],
             [
              0.4444444444444444,
              "#bd3786"
             ],
             [
              0.5555555555555556,
              "#d8576b"
             ],
             [
              0.6666666666666666,
              "#ed7953"
             ],
             [
              0.7777777777777778,
              "#fb9f3a"
             ],
             [
              0.8888888888888888,
              "#fdca26"
             ],
             [
              1,
              "#f0f921"
             ]
            ],
            "type": "heatmap"
           }
          ],
          "heatmapgl": [
           {
            "colorbar": {
             "outlinewidth": 0,
             "ticks": ""
            },
            "colorscale": [
             [
              0,
              "#0d0887"
             ],
             [
              0.1111111111111111,
              "#46039f"
             ],
             [
              0.2222222222222222,
              "#7201a8"
             ],
             [
              0.3333333333333333,
              "#9c179e"
             ],
             [
              0.4444444444444444,
              "#bd3786"
             ],
             [
              0.5555555555555556,
              "#d8576b"
             ],
             [
              0.6666666666666666,
              "#ed7953"
             ],
             [
              0.7777777777777778,
              "#fb9f3a"
             ],
             [
              0.8888888888888888,
              "#fdca26"
             ],
             [
              1,
              "#f0f921"
             ]
            ],
            "type": "heatmapgl"
           }
          ],
          "histogram": [
           {
            "marker": {
             "pattern": {
              "fillmode": "overlay",
              "size": 10,
              "solidity": 0.2
             }
            },
            "type": "histogram"
           }
          ],
          "histogram2d": [
           {
            "colorbar": {
             "outlinewidth": 0,
             "ticks": ""
            },
            "colorscale": [
             [
              0,
              "#0d0887"
             ],
             [
              0.1111111111111111,
              "#46039f"
             ],
             [
              0.2222222222222222,
              "#7201a8"
             ],
             [
              0.3333333333333333,
              "#9c179e"
             ],
             [
              0.4444444444444444,
              "#bd3786"
             ],
             [
              0.5555555555555556,
              "#d8576b"
             ],
             [
              0.6666666666666666,
              "#ed7953"
             ],
             [
              0.7777777777777778,
              "#fb9f3a"
             ],
             [
              0.8888888888888888,
              "#fdca26"
             ],
             [
              1,
              "#f0f921"
             ]
            ],
            "type": "histogram2d"
           }
          ],
          "histogram2dcontour": [
           {
            "colorbar": {
             "outlinewidth": 0,
             "ticks": ""
            },
            "colorscale": [
             [
              0,
              "#0d0887"
             ],
             [
              0.1111111111111111,
              "#46039f"
             ],
             [
              0.2222222222222222,
              "#7201a8"
             ],
             [
              0.3333333333333333,
              "#9c179e"
             ],
             [
              0.4444444444444444,
              "#bd3786"
             ],
             [
              0.5555555555555556,
              "#d8576b"
             ],
             [
              0.6666666666666666,
              "#ed7953"
             ],
             [
              0.7777777777777778,
              "#fb9f3a"
             ],
             [
              0.8888888888888888,
              "#fdca26"
             ],
             [
              1,
              "#f0f921"
             ]
            ],
            "type": "histogram2dcontour"
           }
          ],
          "mesh3d": [
           {
            "colorbar": {
             "outlinewidth": 0,
             "ticks": ""
            },
            "type": "mesh3d"
           }
          ],
          "parcoords": [
           {
            "line": {
             "colorbar": {
              "outlinewidth": 0,
              "ticks": ""
             }
            },
            "type": "parcoords"
           }
          ],
          "pie": [
           {
            "automargin": true,
            "type": "pie"
           }
          ],
          "scatter": [
           {
            "fillpattern": {
             "fillmode": "overlay",
             "size": 10,
             "solidity": 0.2
            },
            "type": "scatter"
           }
          ],
          "scatter3d": [
           {
            "line": {
             "colorbar": {
              "outlinewidth": 0,
              "ticks": ""
             }
            },
            "marker": {
             "colorbar": {
              "outlinewidth": 0,
              "ticks": ""
             }
            },
            "type": "scatter3d"
           }
          ],
          "scattercarpet": [
           {
            "marker": {
             "colorbar": {
              "outlinewidth": 0,
              "ticks": ""
             }
            },
            "type": "scattercarpet"
           }
          ],
          "scattergeo": [
           {
            "marker": {
             "colorbar": {
              "outlinewidth": 0,
              "ticks": ""
             }
            },
            "type": "scattergeo"
           }
          ],
          "scattergl": [
           {
            "marker": {
             "colorbar": {
              "outlinewidth": 0,
              "ticks": ""
             }
            },
            "type": "scattergl"
           }
          ],
          "scattermapbox": [
           {
            "marker": {
             "colorbar": {
              "outlinewidth": 0,
              "ticks": ""
             }
            },
            "type": "scattermapbox"
           }
          ],
          "scatterpolar": [
           {
            "marker": {
             "colorbar": {
              "outlinewidth": 0,
              "ticks": ""
             }
            },
            "type": "scatterpolar"
           }
          ],
          "scatterpolargl": [
           {
            "marker": {
             "colorbar": {
              "outlinewidth": 0,
              "ticks": ""
             }
            },
            "type": "scatterpolargl"
           }
          ],
          "scatterternary": [
           {
            "marker": {
             "colorbar": {
              "outlinewidth": 0,
              "ticks": ""
             }
            },
            "type": "scatterternary"
           }
          ],
          "surface": [
           {
            "colorbar": {
             "outlinewidth": 0,
             "ticks": ""
            },
            "colorscale": [
             [
              0,
              "#0d0887"
             ],
             [
              0.1111111111111111,
              "#46039f"
             ],
             [
              0.2222222222222222,
              "#7201a8"
             ],
             [
              0.3333333333333333,
              "#9c179e"
             ],
             [
              0.4444444444444444,
              "#bd3786"
             ],
             [
              0.5555555555555556,
              "#d8576b"
             ],
             [
              0.6666666666666666,
              "#ed7953"
             ],
             [
              0.7777777777777778,
              "#fb9f3a"
             ],
             [
              0.8888888888888888,
              "#fdca26"
             ],
             [
              1,
              "#f0f921"
             ]
            ],
            "type": "surface"
           }
          ],
          "table": [
           {
            "cells": {
             "fill": {
              "color": "#EBF0F8"
             },
             "line": {
              "color": "white"
             }
            },
            "header": {
             "fill": {
              "color": "#C8D4E3"
             },
             "line": {
              "color": "white"
             }
            },
            "type": "table"
           }
          ]
         },
         "layout": {
          "annotationdefaults": {
           "arrowcolor": "#2a3f5f",
           "arrowhead": 0,
           "arrowwidth": 1
          },
          "autotypenumbers": "strict",
          "coloraxis": {
           "colorbar": {
            "outlinewidth": 0,
            "ticks": ""
           }
          },
          "colorscale": {
           "diverging": [
            [
             0,
             "#8e0152"
            ],
            [
             0.1,
             "#c51b7d"
            ],
            [
             0.2,
             "#de77ae"
            ],
            [
             0.3,
             "#f1b6da"
            ],
            [
             0.4,
             "#fde0ef"
            ],
            [
             0.5,
             "#f7f7f7"
            ],
            [
             0.6,
             "#e6f5d0"
            ],
            [
             0.7,
             "#b8e186"
            ],
            [
             0.8,
             "#7fbc41"
            ],
            [
             0.9,
             "#4d9221"
            ],
            [
             1,
             "#276419"
            ]
           ],
           "sequential": [
            [
             0,
             "#0d0887"
            ],
            [
             0.1111111111111111,
             "#46039f"
            ],
            [
             0.2222222222222222,
             "#7201a8"
            ],
            [
             0.3333333333333333,
             "#9c179e"
            ],
            [
             0.4444444444444444,
             "#bd3786"
            ],
            [
             0.5555555555555556,
             "#d8576b"
            ],
            [
             0.6666666666666666,
             "#ed7953"
            ],
            [
             0.7777777777777778,
             "#fb9f3a"
            ],
            [
             0.8888888888888888,
             "#fdca26"
            ],
            [
             1,
             "#f0f921"
            ]
           ],
           "sequentialminus": [
            [
             0,
             "#0d0887"
            ],
            [
             0.1111111111111111,
             "#46039f"
            ],
            [
             0.2222222222222222,
             "#7201a8"
            ],
            [
             0.3333333333333333,
             "#9c179e"
            ],
            [
             0.4444444444444444,
             "#bd3786"
            ],
            [
             0.5555555555555556,
             "#d8576b"
            ],
            [
             0.6666666666666666,
             "#ed7953"
            ],
            [
             0.7777777777777778,
             "#fb9f3a"
            ],
            [
             0.8888888888888888,
             "#fdca26"
            ],
            [
             1,
             "#f0f921"
            ]
           ]
          },
          "colorway": [
           "#636efa",
           "#EF553B",
           "#00cc96",
           "#ab63fa",
           "#FFA15A",
           "#19d3f3",
           "#FF6692",
           "#B6E880",
           "#FF97FF",
           "#FECB52"
          ],
          "font": {
           "color": "#2a3f5f"
          },
          "geo": {
           "bgcolor": "white",
           "lakecolor": "white",
           "landcolor": "#E5ECF6",
           "showlakes": true,
           "showland": true,
           "subunitcolor": "white"
          },
          "hoverlabel": {
           "align": "left"
          },
          "hovermode": "closest",
          "mapbox": {
           "style": "light"
          },
          "paper_bgcolor": "white",
          "plot_bgcolor": "#E5ECF6",
          "polar": {
           "angularaxis": {
            "gridcolor": "white",
            "linecolor": "white",
            "ticks": ""
           },
           "bgcolor": "#E5ECF6",
           "radialaxis": {
            "gridcolor": "white",
            "linecolor": "white",
            "ticks": ""
           }
          },
          "scene": {
           "xaxis": {
            "backgroundcolor": "#E5ECF6",
            "gridcolor": "white",
            "gridwidth": 2,
            "linecolor": "white",
            "showbackground": true,
            "ticks": "",
            "zerolinecolor": "white"
           },
           "yaxis": {
            "backgroundcolor": "#E5ECF6",
            "gridcolor": "white",
            "gridwidth": 2,
            "linecolor": "white",
            "showbackground": true,
            "ticks": "",
            "zerolinecolor": "white"
           },
           "zaxis": {
            "backgroundcolor": "#E5ECF6",
            "gridcolor": "white",
            "gridwidth": 2,
            "linecolor": "white",
            "showbackground": true,
            "ticks": "",
            "zerolinecolor": "white"
           }
          },
          "shapedefaults": {
           "line": {
            "color": "#2a3f5f"
           }
          },
          "ternary": {
           "aaxis": {
            "gridcolor": "white",
            "linecolor": "white",
            "ticks": ""
           },
           "baxis": {
            "gridcolor": "white",
            "linecolor": "white",
            "ticks": ""
           },
           "bgcolor": "#E5ECF6",
           "caxis": {
            "gridcolor": "white",
            "linecolor": "white",
            "ticks": ""
           }
          },
          "title": {
           "x": 0.05
          },
          "xaxis": {
           "automargin": true,
           "gridcolor": "white",
           "linecolor": "white",
           "ticks": "",
           "title": {
            "standoff": 15
           },
           "zerolinecolor": "white",
           "zerolinewidth": 2
          },
          "yaxis": {
           "automargin": true,
           "gridcolor": "white",
           "linecolor": "white",
           "ticks": "",
           "title": {
            "standoff": 15
           },
           "zerolinecolor": "white",
           "zerolinewidth": 2
          }
         }
        },
        "title": {
         "text": "Between-Institution Coauthorships Distributuion"
        },
        "width": 600,
        "xaxis": {
         "anchor": "y2",
         "domain": [
          0,
          1
         ],
         "range": [
          0,
          30
         ],
         "title": {
          "text": "Number of Coauthorships"
         },
         "zeroline": false
        },
        "yaxis": {
         "anchor": "free",
         "domain": [
          0,
          1
         ],
         "position": 0,
         "title": {
          "text": "Density"
         }
        }
       }
      }
     },
     "metadata": {},
     "output_type": "display_data"
    }
   ],
   "source": [
    "# df_univ_rank.crscore.plot.density(color='green')\n",
    "# plt.title('Density plot for crscore')\n",
    "# plt.show()\n",
    "fig = ff.create_distplot([[link[2] for link in links_diff]], \n",
    "                         [\"Matched Economic Institutions\"],\n",
    "                         bin_size=1,\n",
    "                         show_rug = False\n",
    "                         )\n",
    "\n",
    "fig.update_layout(title_text = \"Between-Institution Coauthorships Distributuion\",\n",
    "                  xaxis_title = \"Number of Coauthorships\",\n",
    "                  yaxis_title = \"Density\",\n",
    "#                 template = \"plotly_dark\",\n",
    "                  width = 600,\n",
    "                  height = 500,\n",
    "                  legend=dict(\n",
    "                    yanchor=\"bottom\",\n",
    "                    y=1.00,\n",
    "                    xanchor=\"left\",\n",
    "                    x=0.35\n",
    "                    )\n",
    "                  )\n",
    "fig.update_xaxes(range=[0, 30])\n",
    "\n",
    "fig.show()"
   ]
  },
  {
   "cell_type": "code",
   "execution_count": 93,
   "metadata": {},
   "outputs": [],
   "source": [
    "links_all_tiers = [[key[0],key[1],links_tiers[key]] for key in links_tiers.keys()]\n",
    "links_diff_tiers = [[key[0],key[1],links_tiers[key]] for key in links_tiers.keys() if key[0] != key[1]]"
   ]
  },
  {
   "cell_type": "code",
   "execution_count": 68,
   "metadata": {},
   "outputs": [],
   "source": [
    "# normalize the weights into 0 to 1\n",
    "# max_num = max([l[2] for l in links_diff])\n",
    "# min_num = min([l[2] for l in links_diff])\n",
    "# norm_links_diff = [[l[0],l[1],(l[2]-min_num)/(max_num-min_num)] for l in links_diff]"
   ]
  },
  {
   "cell_type": "code",
   "execution_count": 172,
   "metadata": {},
   "outputs": [
    {
     "data": {
      "text/plain": [
       "0.012322998537377243"
      ]
     },
     "execution_count": 172,
     "metadata": {},
     "output_type": "execute_result"
    }
   ],
   "source": [
    "# building institutioanl network here\n",
    "G = nx.Graph()\n",
    "# G.add_weighted_edges_from(norm_links_diff)\n",
    "G.add_weighted_edges_from(links_diff)  # add nodes, edges, and weights\n",
    "nx.density(G)"
   ]
  },
  {
   "cell_type": "code",
   "execution_count": 102,
   "metadata": {},
   "outputs": [
    {
     "data": {
      "text/plain": [
       "1.0"
      ]
     },
     "execution_count": 102,
     "metadata": {},
     "output_type": "execute_result"
    }
   ],
   "source": [
    "# build tier level network\n",
    "G_tier = nx.Graph()\n",
    "G_tier.add_weighted_edges_from([link for link in links_diff_tiers if (link[0] != -1) and (link[1] != -1)])\n",
    "nx.density(G_tier)"
   ]
  },
  {
   "cell_type": "code",
   "execution_count": 173,
   "metadata": {},
   "outputs": [
    {
     "name": "stdout",
     "output_type": "stream",
     "text": [
      "Density:\n",
      "Institutional:  0.012322998537377243\n",
      "Tier:  1.0\n"
     ]
    }
   ],
   "source": [
    "# density\n",
    "print(\"Density:\")\n",
    "print(\"Institutional: \", nx.density(G))\n",
    "print(\"Tier: \", nx.density(G_tier))"
   ]
  },
  {
   "cell_type": "code",
   "execution_count": 180,
   "metadata": {},
   "outputs": [],
   "source": [
    "# degree centrality\n",
    "degree_centrality = nx.centrality.degree_centrality(G)  \n",
    "degree_list = (sorted(degree_centrality.items(), key=lambda item: item[1], reverse=True))[:10]"
   ]
  },
  {
   "cell_type": "code",
   "execution_count": 196,
   "metadata": {},
   "outputs": [
    {
     "data": {
      "application/vnd.plotly.v1+json": {
       "config": {
        "plotlyServerURL": "https://plot.ly"
       },
       "data": [
        {
         "marker": {
          "color": [
           0.13721973094170403,
           0.13273542600896862,
           0.13094170403587443,
           0.1273542600896861,
           0.1273542600896861,
           0.12017937219730941,
           0.11659192825112108,
           0.11569506726457399,
           0.11390134529147983,
           0.10493273542600896
          ],
          "colorscale": [
           [
            0,
            "rgb(253, 224, 197)"
           ],
           [
            0.16666666666666666,
            "rgb(250, 203, 166)"
           ],
           [
            0.3333333333333333,
            "rgb(248, 181, 139)"
           ],
           [
            0.5,
            "rgb(245, 158, 114)"
           ],
           [
            0.6666666666666666,
            "rgb(242, 133, 93)"
           ],
           [
            0.8333333333333334,
            "rgb(239, 106, 76)"
           ],
           [
            1,
            "rgb(235, 74, 64)"
           ]
          ]
         },
         "orientation": "h",
         "text": [
          "0.1372",
          "0.1327",
          "0.1309",
          "0.1274",
          "0.1274",
          "0.1202",
          "0.1166",
          "0.1157",
          "0.1139",
          "0.1049"
         ],
         "type": "bar",
         "x": [
          0.13721973094170403,
          0.13273542600896862,
          0.13094170403587443,
          0.1273542600896861,
          0.1273542600896861,
          0.12017937219730941,
          0.11659192825112108,
          0.11569506726457399,
          0.11390134529147983,
          0.10493273542600896
         ],
         "y": [
          "New York University",
          "University of California, Berkeley",
          "University of Chicago",
          "Columbia University",
          "Harvard University",
          "London School of Economics",
          "World Bank",
          "Stanford University",
          "Massachusetts Institute of Technology",
          "University of Pennsylvania"
         ]
        }
       ],
       "layout": {
        "height": 600,
        "template": {
         "data": {
          "bar": [
           {
            "error_x": {
             "color": "#2a3f5f"
            },
            "error_y": {
             "color": "#2a3f5f"
            },
            "marker": {
             "line": {
              "color": "#E5ECF6",
              "width": 0.5
             },
             "pattern": {
              "fillmode": "overlay",
              "size": 10,
              "solidity": 0.2
             }
            },
            "type": "bar"
           }
          ],
          "barpolar": [
           {
            "marker": {
             "line": {
              "color": "#E5ECF6",
              "width": 0.5
             },
             "pattern": {
              "fillmode": "overlay",
              "size": 10,
              "solidity": 0.2
             }
            },
            "type": "barpolar"
           }
          ],
          "carpet": [
           {
            "aaxis": {
             "endlinecolor": "#2a3f5f",
             "gridcolor": "white",
             "linecolor": "white",
             "minorgridcolor": "white",
             "startlinecolor": "#2a3f5f"
            },
            "baxis": {
             "endlinecolor": "#2a3f5f",
             "gridcolor": "white",
             "linecolor": "white",
             "minorgridcolor": "white",
             "startlinecolor": "#2a3f5f"
            },
            "type": "carpet"
           }
          ],
          "choropleth": [
           {
            "colorbar": {
             "outlinewidth": 0,
             "ticks": ""
            },
            "type": "choropleth"
           }
          ],
          "contour": [
           {
            "colorbar": {
             "outlinewidth": 0,
             "ticks": ""
            },
            "colorscale": [
             [
              0,
              "#0d0887"
             ],
             [
              0.1111111111111111,
              "#46039f"
             ],
             [
              0.2222222222222222,
              "#7201a8"
             ],
             [
              0.3333333333333333,
              "#9c179e"
             ],
             [
              0.4444444444444444,
              "#bd3786"
             ],
             [
              0.5555555555555556,
              "#d8576b"
             ],
             [
              0.6666666666666666,
              "#ed7953"
             ],
             [
              0.7777777777777778,
              "#fb9f3a"
             ],
             [
              0.8888888888888888,
              "#fdca26"
             ],
             [
              1,
              "#f0f921"
             ]
            ],
            "type": "contour"
           }
          ],
          "contourcarpet": [
           {
            "colorbar": {
             "outlinewidth": 0,
             "ticks": ""
            },
            "type": "contourcarpet"
           }
          ],
          "heatmap": [
           {
            "colorbar": {
             "outlinewidth": 0,
             "ticks": ""
            },
            "colorscale": [
             [
              0,
              "#0d0887"
             ],
             [
              0.1111111111111111,
              "#46039f"
             ],
             [
              0.2222222222222222,
              "#7201a8"
             ],
             [
              0.3333333333333333,
              "#9c179e"
             ],
             [
              0.4444444444444444,
              "#bd3786"
             ],
             [
              0.5555555555555556,
              "#d8576b"
             ],
             [
              0.6666666666666666,
              "#ed7953"
             ],
             [
              0.7777777777777778,
              "#fb9f3a"
             ],
             [
              0.8888888888888888,
              "#fdca26"
             ],
             [
              1,
              "#f0f921"
             ]
            ],
            "type": "heatmap"
           }
          ],
          "heatmapgl": [
           {
            "colorbar": {
             "outlinewidth": 0,
             "ticks": ""
            },
            "colorscale": [
             [
              0,
              "#0d0887"
             ],
             [
              0.1111111111111111,
              "#46039f"
             ],
             [
              0.2222222222222222,
              "#7201a8"
             ],
             [
              0.3333333333333333,
              "#9c179e"
             ],
             [
              0.4444444444444444,
              "#bd3786"
             ],
             [
              0.5555555555555556,
              "#d8576b"
             ],
             [
              0.6666666666666666,
              "#ed7953"
             ],
             [
              0.7777777777777778,
              "#fb9f3a"
             ],
             [
              0.8888888888888888,
              "#fdca26"
             ],
             [
              1,
              "#f0f921"
             ]
            ],
            "type": "heatmapgl"
           }
          ],
          "histogram": [
           {
            "marker": {
             "pattern": {
              "fillmode": "overlay",
              "size": 10,
              "solidity": 0.2
             }
            },
            "type": "histogram"
           }
          ],
          "histogram2d": [
           {
            "colorbar": {
             "outlinewidth": 0,
             "ticks": ""
            },
            "colorscale": [
             [
              0,
              "#0d0887"
             ],
             [
              0.1111111111111111,
              "#46039f"
             ],
             [
              0.2222222222222222,
              "#7201a8"
             ],
             [
              0.3333333333333333,
              "#9c179e"
             ],
             [
              0.4444444444444444,
              "#bd3786"
             ],
             [
              0.5555555555555556,
              "#d8576b"
             ],
             [
              0.6666666666666666,
              "#ed7953"
             ],
             [
              0.7777777777777778,
              "#fb9f3a"
             ],
             [
              0.8888888888888888,
              "#fdca26"
             ],
             [
              1,
              "#f0f921"
             ]
            ],
            "type": "histogram2d"
           }
          ],
          "histogram2dcontour": [
           {
            "colorbar": {
             "outlinewidth": 0,
             "ticks": ""
            },
            "colorscale": [
             [
              0,
              "#0d0887"
             ],
             [
              0.1111111111111111,
              "#46039f"
             ],
             [
              0.2222222222222222,
              "#7201a8"
             ],
             [
              0.3333333333333333,
              "#9c179e"
             ],
             [
              0.4444444444444444,
              "#bd3786"
             ],
             [
              0.5555555555555556,
              "#d8576b"
             ],
             [
              0.6666666666666666,
              "#ed7953"
             ],
             [
              0.7777777777777778,
              "#fb9f3a"
             ],
             [
              0.8888888888888888,
              "#fdca26"
             ],
             [
              1,
              "#f0f921"
             ]
            ],
            "type": "histogram2dcontour"
           }
          ],
          "mesh3d": [
           {
            "colorbar": {
             "outlinewidth": 0,
             "ticks": ""
            },
            "type": "mesh3d"
           }
          ],
          "parcoords": [
           {
            "line": {
             "colorbar": {
              "outlinewidth": 0,
              "ticks": ""
             }
            },
            "type": "parcoords"
           }
          ],
          "pie": [
           {
            "automargin": true,
            "type": "pie"
           }
          ],
          "scatter": [
           {
            "fillpattern": {
             "fillmode": "overlay",
             "size": 10,
             "solidity": 0.2
            },
            "type": "scatter"
           }
          ],
          "scatter3d": [
           {
            "line": {
             "colorbar": {
              "outlinewidth": 0,
              "ticks": ""
             }
            },
            "marker": {
             "colorbar": {
              "outlinewidth": 0,
              "ticks": ""
             }
            },
            "type": "scatter3d"
           }
          ],
          "scattercarpet": [
           {
            "marker": {
             "colorbar": {
              "outlinewidth": 0,
              "ticks": ""
             }
            },
            "type": "scattercarpet"
           }
          ],
          "scattergeo": [
           {
            "marker": {
             "colorbar": {
              "outlinewidth": 0,
              "ticks": ""
             }
            },
            "type": "scattergeo"
           }
          ],
          "scattergl": [
           {
            "marker": {
             "colorbar": {
              "outlinewidth": 0,
              "ticks": ""
             }
            },
            "type": "scattergl"
           }
          ],
          "scattermapbox": [
           {
            "marker": {
             "colorbar": {
              "outlinewidth": 0,
              "ticks": ""
             }
            },
            "type": "scattermapbox"
           }
          ],
          "scatterpolar": [
           {
            "marker": {
             "colorbar": {
              "outlinewidth": 0,
              "ticks": ""
             }
            },
            "type": "scatterpolar"
           }
          ],
          "scatterpolargl": [
           {
            "marker": {
             "colorbar": {
              "outlinewidth": 0,
              "ticks": ""
             }
            },
            "type": "scatterpolargl"
           }
          ],
          "scatterternary": [
           {
            "marker": {
             "colorbar": {
              "outlinewidth": 0,
              "ticks": ""
             }
            },
            "type": "scatterternary"
           }
          ],
          "surface": [
           {
            "colorbar": {
             "outlinewidth": 0,
             "ticks": ""
            },
            "colorscale": [
             [
              0,
              "#0d0887"
             ],
             [
              0.1111111111111111,
              "#46039f"
             ],
             [
              0.2222222222222222,
              "#7201a8"
             ],
             [
              0.3333333333333333,
              "#9c179e"
             ],
             [
              0.4444444444444444,
              "#bd3786"
             ],
             [
              0.5555555555555556,
              "#d8576b"
             ],
             [
              0.6666666666666666,
              "#ed7953"
             ],
             [
              0.7777777777777778,
              "#fb9f3a"
             ],
             [
              0.8888888888888888,
              "#fdca26"
             ],
             [
              1,
              "#f0f921"
             ]
            ],
            "type": "surface"
           }
          ],
          "table": [
           {
            "cells": {
             "fill": {
              "color": "#EBF0F8"
             },
             "line": {
              "color": "white"
             }
            },
            "header": {
             "fill": {
              "color": "#C8D4E3"
             },
             "line": {
              "color": "white"
             }
            },
            "type": "table"
           }
          ]
         },
         "layout": {
          "annotationdefaults": {
           "arrowcolor": "#2a3f5f",
           "arrowhead": 0,
           "arrowwidth": 1
          },
          "autotypenumbers": "strict",
          "coloraxis": {
           "colorbar": {
            "outlinewidth": 0,
            "ticks": ""
           }
          },
          "colorscale": {
           "diverging": [
            [
             0,
             "#8e0152"
            ],
            [
             0.1,
             "#c51b7d"
            ],
            [
             0.2,
             "#de77ae"
            ],
            [
             0.3,
             "#f1b6da"
            ],
            [
             0.4,
             "#fde0ef"
            ],
            [
             0.5,
             "#f7f7f7"
            ],
            [
             0.6,
             "#e6f5d0"
            ],
            [
             0.7,
             "#b8e186"
            ],
            [
             0.8,
             "#7fbc41"
            ],
            [
             0.9,
             "#4d9221"
            ],
            [
             1,
             "#276419"
            ]
           ],
           "sequential": [
            [
             0,
             "#0d0887"
            ],
            [
             0.1111111111111111,
             "#46039f"
            ],
            [
             0.2222222222222222,
             "#7201a8"
            ],
            [
             0.3333333333333333,
             "#9c179e"
            ],
            [
             0.4444444444444444,
             "#bd3786"
            ],
            [
             0.5555555555555556,
             "#d8576b"
            ],
            [
             0.6666666666666666,
             "#ed7953"
            ],
            [
             0.7777777777777778,
             "#fb9f3a"
            ],
            [
             0.8888888888888888,
             "#fdca26"
            ],
            [
             1,
             "#f0f921"
            ]
           ],
           "sequentialminus": [
            [
             0,
             "#0d0887"
            ],
            [
             0.1111111111111111,
             "#46039f"
            ],
            [
             0.2222222222222222,
             "#7201a8"
            ],
            [
             0.3333333333333333,
             "#9c179e"
            ],
            [
             0.4444444444444444,
             "#bd3786"
            ],
            [
             0.5555555555555556,
             "#d8576b"
            ],
            [
             0.6666666666666666,
             "#ed7953"
            ],
            [
             0.7777777777777778,
             "#fb9f3a"
            ],
            [
             0.8888888888888888,
             "#fdca26"
            ],
            [
             1,
             "#f0f921"
            ]
           ]
          },
          "colorway": [
           "#636efa",
           "#EF553B",
           "#00cc96",
           "#ab63fa",
           "#FFA15A",
           "#19d3f3",
           "#FF6692",
           "#B6E880",
           "#FF97FF",
           "#FECB52"
          ],
          "font": {
           "color": "#2a3f5f"
          },
          "geo": {
           "bgcolor": "white",
           "lakecolor": "white",
           "landcolor": "#E5ECF6",
           "showlakes": true,
           "showland": true,
           "subunitcolor": "white"
          },
          "hoverlabel": {
           "align": "left"
          },
          "hovermode": "closest",
          "mapbox": {
           "style": "light"
          },
          "paper_bgcolor": "white",
          "plot_bgcolor": "#E5ECF6",
          "polar": {
           "angularaxis": {
            "gridcolor": "white",
            "linecolor": "white",
            "ticks": ""
           },
           "bgcolor": "#E5ECF6",
           "radialaxis": {
            "gridcolor": "white",
            "linecolor": "white",
            "ticks": ""
           }
          },
          "scene": {
           "xaxis": {
            "backgroundcolor": "#E5ECF6",
            "gridcolor": "white",
            "gridwidth": 2,
            "linecolor": "white",
            "showbackground": true,
            "ticks": "",
            "zerolinecolor": "white"
           },
           "yaxis": {
            "backgroundcolor": "#E5ECF6",
            "gridcolor": "white",
            "gridwidth": 2,
            "linecolor": "white",
            "showbackground": true,
            "ticks": "",
            "zerolinecolor": "white"
           },
           "zaxis": {
            "backgroundcolor": "#E5ECF6",
            "gridcolor": "white",
            "gridwidth": 2,
            "linecolor": "white",
            "showbackground": true,
            "ticks": "",
            "zerolinecolor": "white"
           }
          },
          "shapedefaults": {
           "line": {
            "color": "#2a3f5f"
           }
          },
          "ternary": {
           "aaxis": {
            "gridcolor": "white",
            "linecolor": "white",
            "ticks": ""
           },
           "baxis": {
            "gridcolor": "white",
            "linecolor": "white",
            "ticks": ""
           },
           "bgcolor": "#E5ECF6",
           "caxis": {
            "gridcolor": "white",
            "linecolor": "white",
            "ticks": ""
           }
          },
          "title": {
           "x": 0.05
          },
          "xaxis": {
           "automargin": true,
           "gridcolor": "white",
           "linecolor": "white",
           "ticks": "",
           "title": {
            "standoff": 15
           },
           "zerolinecolor": "white",
           "zerolinewidth": 2
          },
          "yaxis": {
           "automargin": true,
           "gridcolor": "white",
           "linecolor": "white",
           "ticks": "",
           "title": {
            "standoff": 15
           },
           "zerolinecolor": "white",
           "zerolinewidth": 2
          }
         }
        },
        "title": {
         "text": "Top 10 Degree Centralities of Economic Instutitions"
        },
        "width": 800,
        "yaxis": {
         "categoryorder": "total ascending"
        }
       }
      }
     },
     "metadata": {},
     "output_type": "display_data"
    }
   ],
   "source": [
    "fig = go.Figure()\n",
    "fig.add_trace(\n",
    "    go.Bar(\n",
    "        y = [item[0] for item in degree_list],\n",
    "        x = [item[1] for item in degree_list],\n",
    "        text = [round(item[1],4) for item in degree_list],\n",
    "        orientation = \"h\",\n",
    "        marker={'color': [item[1] for item in degree_list],\n",
    "                'colorscale': 'Peach'}\n",
    "    )\n",
    ")\n",
    "fig.update_layout(title_text=\"Top 10 Degree Centralities of Economic Instutitions\",\n",
    "#                 template=\"plotly_dark\",\n",
    "                  yaxis={'categoryorder':'total ascending'},\n",
    "                  width=800,\n",
    "                  height=600\n",
    "                  )\n",
    "fig.show()"
   ]
  },
  {
   "cell_type": "code",
   "execution_count": 185,
   "metadata": {},
   "outputs": [],
   "source": [
    "# betweenness centrality\n",
    "betweenness_centrality = nx.centrality.betweenness_centrality(G)\n",
    "betweenness_list = (sorted(betweenness_centrality.items(), key=lambda item: item[1], reverse=True))[:10]"
   ]
  },
  {
   "cell_type": "code",
   "execution_count": 197,
   "metadata": {},
   "outputs": [
    {
     "data": {
      "application/vnd.plotly.v1+json": {
       "config": {
        "plotlyServerURL": "https://plot.ly"
       },
       "data": [
        {
         "marker": {
          "color": [
           0.04708569158499478,
           0.04255795553621171,
           0.03898552305559797,
           0.03738043207692804,
           0.03682974968341149,
           0.03613348138426302,
           0.03131185250232046,
           0.031041040021729957,
           0.025759108700856174,
           0.023462673974189212
          ],
          "colorscale": [
           [
            0,
            "rgb(247,252,240)"
           ],
           [
            0.125,
            "rgb(224,243,219)"
           ],
           [
            0.25,
            "rgb(204,235,197)"
           ],
           [
            0.375,
            "rgb(168,221,181)"
           ],
           [
            0.5,
            "rgb(123,204,196)"
           ],
           [
            0.625,
            "rgb(78,179,211)"
           ],
           [
            0.75,
            "rgb(43,140,190)"
           ],
           [
            0.875,
            "rgb(8,104,172)"
           ],
           [
            1,
            "rgb(8,64,129)"
           ]
          ]
         },
         "orientation": "h",
         "text": [
          "0.0471",
          "0.0426",
          "0.039",
          "0.0374",
          "0.0368",
          "0.0361",
          "0.0313",
          "0.031",
          "0.0258",
          "0.0235"
         ],
         "type": "bar",
         "x": [
          0.04708569158499478,
          0.04255795553621171,
          0.03898552305559797,
          0.03738043207692804,
          0.03682974968341149,
          0.03613348138426302,
          0.03131185250232046,
          0.031041040021729957,
          0.025759108700856174,
          0.023462673974189212
         ],
         "y": [
          "World Bank",
          "Monash University",
          "New York University",
          "London School of Economics",
          "Harvard University",
          "Columbia University",
          "University of Chicago",
          "University of California, Berkeley",
          "University of Nottingham",
          "Cornell University"
         ]
        }
       ],
       "layout": {
        "height": 600,
        "template": {
         "data": {
          "bar": [
           {
            "error_x": {
             "color": "#2a3f5f"
            },
            "error_y": {
             "color": "#2a3f5f"
            },
            "marker": {
             "line": {
              "color": "#E5ECF6",
              "width": 0.5
             },
             "pattern": {
              "fillmode": "overlay",
              "size": 10,
              "solidity": 0.2
             }
            },
            "type": "bar"
           }
          ],
          "barpolar": [
           {
            "marker": {
             "line": {
              "color": "#E5ECF6",
              "width": 0.5
             },
             "pattern": {
              "fillmode": "overlay",
              "size": 10,
              "solidity": 0.2
             }
            },
            "type": "barpolar"
           }
          ],
          "carpet": [
           {
            "aaxis": {
             "endlinecolor": "#2a3f5f",
             "gridcolor": "white",
             "linecolor": "white",
             "minorgridcolor": "white",
             "startlinecolor": "#2a3f5f"
            },
            "baxis": {
             "endlinecolor": "#2a3f5f",
             "gridcolor": "white",
             "linecolor": "white",
             "minorgridcolor": "white",
             "startlinecolor": "#2a3f5f"
            },
            "type": "carpet"
           }
          ],
          "choropleth": [
           {
            "colorbar": {
             "outlinewidth": 0,
             "ticks": ""
            },
            "type": "choropleth"
           }
          ],
          "contour": [
           {
            "colorbar": {
             "outlinewidth": 0,
             "ticks": ""
            },
            "colorscale": [
             [
              0,
              "#0d0887"
             ],
             [
              0.1111111111111111,
              "#46039f"
             ],
             [
              0.2222222222222222,
              "#7201a8"
             ],
             [
              0.3333333333333333,
              "#9c179e"
             ],
             [
              0.4444444444444444,
              "#bd3786"
             ],
             [
              0.5555555555555556,
              "#d8576b"
             ],
             [
              0.6666666666666666,
              "#ed7953"
             ],
             [
              0.7777777777777778,
              "#fb9f3a"
             ],
             [
              0.8888888888888888,
              "#fdca26"
             ],
             [
              1,
              "#f0f921"
             ]
            ],
            "type": "contour"
           }
          ],
          "contourcarpet": [
           {
            "colorbar": {
             "outlinewidth": 0,
             "ticks": ""
            },
            "type": "contourcarpet"
           }
          ],
          "heatmap": [
           {
            "colorbar": {
             "outlinewidth": 0,
             "ticks": ""
            },
            "colorscale": [
             [
              0,
              "#0d0887"
             ],
             [
              0.1111111111111111,
              "#46039f"
             ],
             [
              0.2222222222222222,
              "#7201a8"
             ],
             [
              0.3333333333333333,
              "#9c179e"
             ],
             [
              0.4444444444444444,
              "#bd3786"
             ],
             [
              0.5555555555555556,
              "#d8576b"
             ],
             [
              0.6666666666666666,
              "#ed7953"
             ],
             [
              0.7777777777777778,
              "#fb9f3a"
             ],
             [
              0.8888888888888888,
              "#fdca26"
             ],
             [
              1,
              "#f0f921"
             ]
            ],
            "type": "heatmap"
           }
          ],
          "heatmapgl": [
           {
            "colorbar": {
             "outlinewidth": 0,
             "ticks": ""
            },
            "colorscale": [
             [
              0,
              "#0d0887"
             ],
             [
              0.1111111111111111,
              "#46039f"
             ],
             [
              0.2222222222222222,
              "#7201a8"
             ],
             [
              0.3333333333333333,
              "#9c179e"
             ],
             [
              0.4444444444444444,
              "#bd3786"
             ],
             [
              0.5555555555555556,
              "#d8576b"
             ],
             [
              0.6666666666666666,
              "#ed7953"
             ],
             [
              0.7777777777777778,
              "#fb9f3a"
             ],
             [
              0.8888888888888888,
              "#fdca26"
             ],
             [
              1,
              "#f0f921"
             ]
            ],
            "type": "heatmapgl"
           }
          ],
          "histogram": [
           {
            "marker": {
             "pattern": {
              "fillmode": "overlay",
              "size": 10,
              "solidity": 0.2
             }
            },
            "type": "histogram"
           }
          ],
          "histogram2d": [
           {
            "colorbar": {
             "outlinewidth": 0,
             "ticks": ""
            },
            "colorscale": [
             [
              0,
              "#0d0887"
             ],
             [
              0.1111111111111111,
              "#46039f"
             ],
             [
              0.2222222222222222,
              "#7201a8"
             ],
             [
              0.3333333333333333,
              "#9c179e"
             ],
             [
              0.4444444444444444,
              "#bd3786"
             ],
             [
              0.5555555555555556,
              "#d8576b"
             ],
             [
              0.6666666666666666,
              "#ed7953"
             ],
             [
              0.7777777777777778,
              "#fb9f3a"
             ],
             [
              0.8888888888888888,
              "#fdca26"
             ],
             [
              1,
              "#f0f921"
             ]
            ],
            "type": "histogram2d"
           }
          ],
          "histogram2dcontour": [
           {
            "colorbar": {
             "outlinewidth": 0,
             "ticks": ""
            },
            "colorscale": [
             [
              0,
              "#0d0887"
             ],
             [
              0.1111111111111111,
              "#46039f"
             ],
             [
              0.2222222222222222,
              "#7201a8"
             ],
             [
              0.3333333333333333,
              "#9c179e"
             ],
             [
              0.4444444444444444,
              "#bd3786"
             ],
             [
              0.5555555555555556,
              "#d8576b"
             ],
             [
              0.6666666666666666,
              "#ed7953"
             ],
             [
              0.7777777777777778,
              "#fb9f3a"
             ],
             [
              0.8888888888888888,
              "#fdca26"
             ],
             [
              1,
              "#f0f921"
             ]
            ],
            "type": "histogram2dcontour"
           }
          ],
          "mesh3d": [
           {
            "colorbar": {
             "outlinewidth": 0,
             "ticks": ""
            },
            "type": "mesh3d"
           }
          ],
          "parcoords": [
           {
            "line": {
             "colorbar": {
              "outlinewidth": 0,
              "ticks": ""
             }
            },
            "type": "parcoords"
           }
          ],
          "pie": [
           {
            "automargin": true,
            "type": "pie"
           }
          ],
          "scatter": [
           {
            "fillpattern": {
             "fillmode": "overlay",
             "size": 10,
             "solidity": 0.2
            },
            "type": "scatter"
           }
          ],
          "scatter3d": [
           {
            "line": {
             "colorbar": {
              "outlinewidth": 0,
              "ticks": ""
             }
            },
            "marker": {
             "colorbar": {
              "outlinewidth": 0,
              "ticks": ""
             }
            },
            "type": "scatter3d"
           }
          ],
          "scattercarpet": [
           {
            "marker": {
             "colorbar": {
              "outlinewidth": 0,
              "ticks": ""
             }
            },
            "type": "scattercarpet"
           }
          ],
          "scattergeo": [
           {
            "marker": {
             "colorbar": {
              "outlinewidth": 0,
              "ticks": ""
             }
            },
            "type": "scattergeo"
           }
          ],
          "scattergl": [
           {
            "marker": {
             "colorbar": {
              "outlinewidth": 0,
              "ticks": ""
             }
            },
            "type": "scattergl"
           }
          ],
          "scattermapbox": [
           {
            "marker": {
             "colorbar": {
              "outlinewidth": 0,
              "ticks": ""
             }
            },
            "type": "scattermapbox"
           }
          ],
          "scatterpolar": [
           {
            "marker": {
             "colorbar": {
              "outlinewidth": 0,
              "ticks": ""
             }
            },
            "type": "scatterpolar"
           }
          ],
          "scatterpolargl": [
           {
            "marker": {
             "colorbar": {
              "outlinewidth": 0,
              "ticks": ""
             }
            },
            "type": "scatterpolargl"
           }
          ],
          "scatterternary": [
           {
            "marker": {
             "colorbar": {
              "outlinewidth": 0,
              "ticks": ""
             }
            },
            "type": "scatterternary"
           }
          ],
          "surface": [
           {
            "colorbar": {
             "outlinewidth": 0,
             "ticks": ""
            },
            "colorscale": [
             [
              0,
              "#0d0887"
             ],
             [
              0.1111111111111111,
              "#46039f"
             ],
             [
              0.2222222222222222,
              "#7201a8"
             ],
             [
              0.3333333333333333,
              "#9c179e"
             ],
             [
              0.4444444444444444,
              "#bd3786"
             ],
             [
              0.5555555555555556,
              "#d8576b"
             ],
             [
              0.6666666666666666,
              "#ed7953"
             ],
             [
              0.7777777777777778,
              "#fb9f3a"
             ],
             [
              0.8888888888888888,
              "#fdca26"
             ],
             [
              1,
              "#f0f921"
             ]
            ],
            "type": "surface"
           }
          ],
          "table": [
           {
            "cells": {
             "fill": {
              "color": "#EBF0F8"
             },
             "line": {
              "color": "white"
             }
            },
            "header": {
             "fill": {
              "color": "#C8D4E3"
             },
             "line": {
              "color": "white"
             }
            },
            "type": "table"
           }
          ]
         },
         "layout": {
          "annotationdefaults": {
           "arrowcolor": "#2a3f5f",
           "arrowhead": 0,
           "arrowwidth": 1
          },
          "autotypenumbers": "strict",
          "coloraxis": {
           "colorbar": {
            "outlinewidth": 0,
            "ticks": ""
           }
          },
          "colorscale": {
           "diverging": [
            [
             0,
             "#8e0152"
            ],
            [
             0.1,
             "#c51b7d"
            ],
            [
             0.2,
             "#de77ae"
            ],
            [
             0.3,
             "#f1b6da"
            ],
            [
             0.4,
             "#fde0ef"
            ],
            [
             0.5,
             "#f7f7f7"
            ],
            [
             0.6,
             "#e6f5d0"
            ],
            [
             0.7,
             "#b8e186"
            ],
            [
             0.8,
             "#7fbc41"
            ],
            [
             0.9,
             "#4d9221"
            ],
            [
             1,
             "#276419"
            ]
           ],
           "sequential": [
            [
             0,
             "#0d0887"
            ],
            [
             0.1111111111111111,
             "#46039f"
            ],
            [
             0.2222222222222222,
             "#7201a8"
            ],
            [
             0.3333333333333333,
             "#9c179e"
            ],
            [
             0.4444444444444444,
             "#bd3786"
            ],
            [
             0.5555555555555556,
             "#d8576b"
            ],
            [
             0.6666666666666666,
             "#ed7953"
            ],
            [
             0.7777777777777778,
             "#fb9f3a"
            ],
            [
             0.8888888888888888,
             "#fdca26"
            ],
            [
             1,
             "#f0f921"
            ]
           ],
           "sequentialminus": [
            [
             0,
             "#0d0887"
            ],
            [
             0.1111111111111111,
             "#46039f"
            ],
            [
             0.2222222222222222,
             "#7201a8"
            ],
            [
             0.3333333333333333,
             "#9c179e"
            ],
            [
             0.4444444444444444,
             "#bd3786"
            ],
            [
             0.5555555555555556,
             "#d8576b"
            ],
            [
             0.6666666666666666,
             "#ed7953"
            ],
            [
             0.7777777777777778,
             "#fb9f3a"
            ],
            [
             0.8888888888888888,
             "#fdca26"
            ],
            [
             1,
             "#f0f921"
            ]
           ]
          },
          "colorway": [
           "#636efa",
           "#EF553B",
           "#00cc96",
           "#ab63fa",
           "#FFA15A",
           "#19d3f3",
           "#FF6692",
           "#B6E880",
           "#FF97FF",
           "#FECB52"
          ],
          "font": {
           "color": "#2a3f5f"
          },
          "geo": {
           "bgcolor": "white",
           "lakecolor": "white",
           "landcolor": "#E5ECF6",
           "showlakes": true,
           "showland": true,
           "subunitcolor": "white"
          },
          "hoverlabel": {
           "align": "left"
          },
          "hovermode": "closest",
          "mapbox": {
           "style": "light"
          },
          "paper_bgcolor": "white",
          "plot_bgcolor": "#E5ECF6",
          "polar": {
           "angularaxis": {
            "gridcolor": "white",
            "linecolor": "white",
            "ticks": ""
           },
           "bgcolor": "#E5ECF6",
           "radialaxis": {
            "gridcolor": "white",
            "linecolor": "white",
            "ticks": ""
           }
          },
          "scene": {
           "xaxis": {
            "backgroundcolor": "#E5ECF6",
            "gridcolor": "white",
            "gridwidth": 2,
            "linecolor": "white",
            "showbackground": true,
            "ticks": "",
            "zerolinecolor": "white"
           },
           "yaxis": {
            "backgroundcolor": "#E5ECF6",
            "gridcolor": "white",
            "gridwidth": 2,
            "linecolor": "white",
            "showbackground": true,
            "ticks": "",
            "zerolinecolor": "white"
           },
           "zaxis": {
            "backgroundcolor": "#E5ECF6",
            "gridcolor": "white",
            "gridwidth": 2,
            "linecolor": "white",
            "showbackground": true,
            "ticks": "",
            "zerolinecolor": "white"
           }
          },
          "shapedefaults": {
           "line": {
            "color": "#2a3f5f"
           }
          },
          "ternary": {
           "aaxis": {
            "gridcolor": "white",
            "linecolor": "white",
            "ticks": ""
           },
           "baxis": {
            "gridcolor": "white",
            "linecolor": "white",
            "ticks": ""
           },
           "bgcolor": "#E5ECF6",
           "caxis": {
            "gridcolor": "white",
            "linecolor": "white",
            "ticks": ""
           }
          },
          "title": {
           "x": 0.05
          },
          "xaxis": {
           "automargin": true,
           "gridcolor": "white",
           "linecolor": "white",
           "ticks": "",
           "title": {
            "standoff": 15
           },
           "zerolinecolor": "white",
           "zerolinewidth": 2
          },
          "yaxis": {
           "automargin": true,
           "gridcolor": "white",
           "linecolor": "white",
           "ticks": "",
           "title": {
            "standoff": 15
           },
           "zerolinecolor": "white",
           "zerolinewidth": 2
          }
         }
        },
        "title": {
         "text": "Top 10 Betweenness Centralities of Economic Instutitions"
        },
        "width": 800,
        "yaxis": {
         "categoryorder": "total ascending"
        }
       }
      }
     },
     "metadata": {},
     "output_type": "display_data"
    }
   ],
   "source": [
    "fig = go.Figure()\n",
    "fig.add_trace(\n",
    "    go.Bar(\n",
    "        y = [item[0] for item in betweenness_list],\n",
    "        x = [item[1] for item in betweenness_list],\n",
    "        text = [round(item[1],4) for item in betweenness_list],\n",
    "        orientation = \"h\",\n",
    "#       marker_color = \"gold\",\n",
    "        marker={'color': [item[1] for item in betweenness_list],\n",
    "                'colorscale': 'Gnbu'}\n",
    "    )\n",
    ")\n",
    "fig.update_layout(title_text=\"Top 10 Betweenness Centralities of Economic Instutitions\",\n",
    "#                 template=\"plotly_dark\",\n",
    "                  yaxis={'categoryorder':'total ascending'},\n",
    "                  width=800,\n",
    "                  height=600\n",
    "                  )\n",
    "fig.show()"
   ]
  },
  {
   "cell_type": "code",
   "execution_count": 188,
   "metadata": {},
   "outputs": [],
   "source": [
    "# eigenvector centrality\n",
    "eigenvector_centrality = nx.centrality.eigenvector_centrality(G)\n",
    "eigenvector_list = (sorted(eigenvector_centrality.items(), key=lambda item: item[1], reverse=True))[:10]"
   ]
  },
  {
   "cell_type": "code",
   "execution_count": 194,
   "metadata": {},
   "outputs": [
    {
     "data": {
      "application/vnd.plotly.v1+json": {
       "config": {
        "plotlyServerURL": "https://plot.ly"
       },
       "data": [
        {
         "marker": {
          "color": [
           0.16386626349186592,
           0.16050968263381118,
           0.1580038232106032,
           0.1565288108587206,
           0.1542340598955705,
           0.15214684995900674,
           0.15202640358993164,
           0.14638475961647676,
           0.14206771884043692,
           0.14021857694192993
          ],
          "colorscale": [
           [
            0,
            "rgb(249, 221, 218)"
           ],
           [
            0.16666666666666666,
            "rgb(242, 185, 196)"
           ],
           [
            0.3333333333333333,
            "rgb(229, 151, 185)"
           ],
           [
            0.5,
            "rgb(206, 120, 179)"
           ],
           [
            0.6666666666666666,
            "rgb(173, 95, 173)"
           ],
           [
            0.8333333333333334,
            "rgb(131, 75, 160)"
           ],
           [
            1,
            "rgb(87, 59, 136)"
           ]
          ]
         },
         "orientation": "h",
         "text": [
          "0.1639",
          "0.1605",
          "0.158",
          "0.1565",
          "0.1542",
          "0.1521",
          "0.152",
          "0.1464",
          "0.1421",
          "0.1402"
         ],
         "type": "bar",
         "x": [
          0.16386626349186592,
          0.16050968263381118,
          0.1580038232106032,
          0.1565288108587206,
          0.1542340598955705,
          0.15214684995900674,
          0.15202640358993164,
          0.14638475961647676,
          0.14206771884043692,
          0.14021857694192993
         ],
         "y": [
          "University of Chicago",
          "University of California, Berkeley",
          "New York University",
          "Columbia University",
          "Massachusetts Institute of Technology",
          "Harvard University",
          "Stanford University",
          "University of Pennsylvania",
          "London School of Economics",
          "Yale University"
         ]
        }
       ],
       "layout": {
        "height": 600,
        "template": {
         "data": {
          "bar": [
           {
            "error_x": {
             "color": "#2a3f5f"
            },
            "error_y": {
             "color": "#2a3f5f"
            },
            "marker": {
             "line": {
              "color": "#E5ECF6",
              "width": 0.5
             },
             "pattern": {
              "fillmode": "overlay",
              "size": 10,
              "solidity": 0.2
             }
            },
            "type": "bar"
           }
          ],
          "barpolar": [
           {
            "marker": {
             "line": {
              "color": "#E5ECF6",
              "width": 0.5
             },
             "pattern": {
              "fillmode": "overlay",
              "size": 10,
              "solidity": 0.2
             }
            },
            "type": "barpolar"
           }
          ],
          "carpet": [
           {
            "aaxis": {
             "endlinecolor": "#2a3f5f",
             "gridcolor": "white",
             "linecolor": "white",
             "minorgridcolor": "white",
             "startlinecolor": "#2a3f5f"
            },
            "baxis": {
             "endlinecolor": "#2a3f5f",
             "gridcolor": "white",
             "linecolor": "white",
             "minorgridcolor": "white",
             "startlinecolor": "#2a3f5f"
            },
            "type": "carpet"
           }
          ],
          "choropleth": [
           {
            "colorbar": {
             "outlinewidth": 0,
             "ticks": ""
            },
            "type": "choropleth"
           }
          ],
          "contour": [
           {
            "colorbar": {
             "outlinewidth": 0,
             "ticks": ""
            },
            "colorscale": [
             [
              0,
              "#0d0887"
             ],
             [
              0.1111111111111111,
              "#46039f"
             ],
             [
              0.2222222222222222,
              "#7201a8"
             ],
             [
              0.3333333333333333,
              "#9c179e"
             ],
             [
              0.4444444444444444,
              "#bd3786"
             ],
             [
              0.5555555555555556,
              "#d8576b"
             ],
             [
              0.6666666666666666,
              "#ed7953"
             ],
             [
              0.7777777777777778,
              "#fb9f3a"
             ],
             [
              0.8888888888888888,
              "#fdca26"
             ],
             [
              1,
              "#f0f921"
             ]
            ],
            "type": "contour"
           }
          ],
          "contourcarpet": [
           {
            "colorbar": {
             "outlinewidth": 0,
             "ticks": ""
            },
            "type": "contourcarpet"
           }
          ],
          "heatmap": [
           {
            "colorbar": {
             "outlinewidth": 0,
             "ticks": ""
            },
            "colorscale": [
             [
              0,
              "#0d0887"
             ],
             [
              0.1111111111111111,
              "#46039f"
             ],
             [
              0.2222222222222222,
              "#7201a8"
             ],
             [
              0.3333333333333333,
              "#9c179e"
             ],
             [
              0.4444444444444444,
              "#bd3786"
             ],
             [
              0.5555555555555556,
              "#d8576b"
             ],
             [
              0.6666666666666666,
              "#ed7953"
             ],
             [
              0.7777777777777778,
              "#fb9f3a"
             ],
             [
              0.8888888888888888,
              "#fdca26"
             ],
             [
              1,
              "#f0f921"
             ]
            ],
            "type": "heatmap"
           }
          ],
          "heatmapgl": [
           {
            "colorbar": {
             "outlinewidth": 0,
             "ticks": ""
            },
            "colorscale": [
             [
              0,
              "#0d0887"
             ],
             [
              0.1111111111111111,
              "#46039f"
             ],
             [
              0.2222222222222222,
              "#7201a8"
             ],
             [
              0.3333333333333333,
              "#9c179e"
             ],
             [
              0.4444444444444444,
              "#bd3786"
             ],
             [
              0.5555555555555556,
              "#d8576b"
             ],
             [
              0.6666666666666666,
              "#ed7953"
             ],
             [
              0.7777777777777778,
              "#fb9f3a"
             ],
             [
              0.8888888888888888,
              "#fdca26"
             ],
             [
              1,
              "#f0f921"
             ]
            ],
            "type": "heatmapgl"
           }
          ],
          "histogram": [
           {
            "marker": {
             "pattern": {
              "fillmode": "overlay",
              "size": 10,
              "solidity": 0.2
             }
            },
            "type": "histogram"
           }
          ],
          "histogram2d": [
           {
            "colorbar": {
             "outlinewidth": 0,
             "ticks": ""
            },
            "colorscale": [
             [
              0,
              "#0d0887"
             ],
             [
              0.1111111111111111,
              "#46039f"
             ],
             [
              0.2222222222222222,
              "#7201a8"
             ],
             [
              0.3333333333333333,
              "#9c179e"
             ],
             [
              0.4444444444444444,
              "#bd3786"
             ],
             [
              0.5555555555555556,
              "#d8576b"
             ],
             [
              0.6666666666666666,
              "#ed7953"
             ],
             [
              0.7777777777777778,
              "#fb9f3a"
             ],
             [
              0.8888888888888888,
              "#fdca26"
             ],
             [
              1,
              "#f0f921"
             ]
            ],
            "type": "histogram2d"
           }
          ],
          "histogram2dcontour": [
           {
            "colorbar": {
             "outlinewidth": 0,
             "ticks": ""
            },
            "colorscale": [
             [
              0,
              "#0d0887"
             ],
             [
              0.1111111111111111,
              "#46039f"
             ],
             [
              0.2222222222222222,
              "#7201a8"
             ],
             [
              0.3333333333333333,
              "#9c179e"
             ],
             [
              0.4444444444444444,
              "#bd3786"
             ],
             [
              0.5555555555555556,
              "#d8576b"
             ],
             [
              0.6666666666666666,
              "#ed7953"
             ],
             [
              0.7777777777777778,
              "#fb9f3a"
             ],
             [
              0.8888888888888888,
              "#fdca26"
             ],
             [
              1,
              "#f0f921"
             ]
            ],
            "type": "histogram2dcontour"
           }
          ],
          "mesh3d": [
           {
            "colorbar": {
             "outlinewidth": 0,
             "ticks": ""
            },
            "type": "mesh3d"
           }
          ],
          "parcoords": [
           {
            "line": {
             "colorbar": {
              "outlinewidth": 0,
              "ticks": ""
             }
            },
            "type": "parcoords"
           }
          ],
          "pie": [
           {
            "automargin": true,
            "type": "pie"
           }
          ],
          "scatter": [
           {
            "fillpattern": {
             "fillmode": "overlay",
             "size": 10,
             "solidity": 0.2
            },
            "type": "scatter"
           }
          ],
          "scatter3d": [
           {
            "line": {
             "colorbar": {
              "outlinewidth": 0,
              "ticks": ""
             }
            },
            "marker": {
             "colorbar": {
              "outlinewidth": 0,
              "ticks": ""
             }
            },
            "type": "scatter3d"
           }
          ],
          "scattercarpet": [
           {
            "marker": {
             "colorbar": {
              "outlinewidth": 0,
              "ticks": ""
             }
            },
            "type": "scattercarpet"
           }
          ],
          "scattergeo": [
           {
            "marker": {
             "colorbar": {
              "outlinewidth": 0,
              "ticks": ""
             }
            },
            "type": "scattergeo"
           }
          ],
          "scattergl": [
           {
            "marker": {
             "colorbar": {
              "outlinewidth": 0,
              "ticks": ""
             }
            },
            "type": "scattergl"
           }
          ],
          "scattermapbox": [
           {
            "marker": {
             "colorbar": {
              "outlinewidth": 0,
              "ticks": ""
             }
            },
            "type": "scattermapbox"
           }
          ],
          "scatterpolar": [
           {
            "marker": {
             "colorbar": {
              "outlinewidth": 0,
              "ticks": ""
             }
            },
            "type": "scatterpolar"
           }
          ],
          "scatterpolargl": [
           {
            "marker": {
             "colorbar": {
              "outlinewidth": 0,
              "ticks": ""
             }
            },
            "type": "scatterpolargl"
           }
          ],
          "scatterternary": [
           {
            "marker": {
             "colorbar": {
              "outlinewidth": 0,
              "ticks": ""
             }
            },
            "type": "scatterternary"
           }
          ],
          "surface": [
           {
            "colorbar": {
             "outlinewidth": 0,
             "ticks": ""
            },
            "colorscale": [
             [
              0,
              "#0d0887"
             ],
             [
              0.1111111111111111,
              "#46039f"
             ],
             [
              0.2222222222222222,
              "#7201a8"
             ],
             [
              0.3333333333333333,
              "#9c179e"
             ],
             [
              0.4444444444444444,
              "#bd3786"
             ],
             [
              0.5555555555555556,
              "#d8576b"
             ],
             [
              0.6666666666666666,
              "#ed7953"
             ],
             [
              0.7777777777777778,
              "#fb9f3a"
             ],
             [
              0.8888888888888888,
              "#fdca26"
             ],
             [
              1,
              "#f0f921"
             ]
            ],
            "type": "surface"
           }
          ],
          "table": [
           {
            "cells": {
             "fill": {
              "color": "#EBF0F8"
             },
             "line": {
              "color": "white"
             }
            },
            "header": {
             "fill": {
              "color": "#C8D4E3"
             },
             "line": {
              "color": "white"
             }
            },
            "type": "table"
           }
          ]
         },
         "layout": {
          "annotationdefaults": {
           "arrowcolor": "#2a3f5f",
           "arrowhead": 0,
           "arrowwidth": 1
          },
          "autotypenumbers": "strict",
          "coloraxis": {
           "colorbar": {
            "outlinewidth": 0,
            "ticks": ""
           }
          },
          "colorscale": {
           "diverging": [
            [
             0,
             "#8e0152"
            ],
            [
             0.1,
             "#c51b7d"
            ],
            [
             0.2,
             "#de77ae"
            ],
            [
             0.3,
             "#f1b6da"
            ],
            [
             0.4,
             "#fde0ef"
            ],
            [
             0.5,
             "#f7f7f7"
            ],
            [
             0.6,
             "#e6f5d0"
            ],
            [
             0.7,
             "#b8e186"
            ],
            [
             0.8,
             "#7fbc41"
            ],
            [
             0.9,
             "#4d9221"
            ],
            [
             1,
             "#276419"
            ]
           ],
           "sequential": [
            [
             0,
             "#0d0887"
            ],
            [
             0.1111111111111111,
             "#46039f"
            ],
            [
             0.2222222222222222,
             "#7201a8"
            ],
            [
             0.3333333333333333,
             "#9c179e"
            ],
            [
             0.4444444444444444,
             "#bd3786"
            ],
            [
             0.5555555555555556,
             "#d8576b"
            ],
            [
             0.6666666666666666,
             "#ed7953"
            ],
            [
             0.7777777777777778,
             "#fb9f3a"
            ],
            [
             0.8888888888888888,
             "#fdca26"
            ],
            [
             1,
             "#f0f921"
            ]
           ],
           "sequentialminus": [
            [
             0,
             "#0d0887"
            ],
            [
             0.1111111111111111,
             "#46039f"
            ],
            [
             0.2222222222222222,
             "#7201a8"
            ],
            [
             0.3333333333333333,
             "#9c179e"
            ],
            [
             0.4444444444444444,
             "#bd3786"
            ],
            [
             0.5555555555555556,
             "#d8576b"
            ],
            [
             0.6666666666666666,
             "#ed7953"
            ],
            [
             0.7777777777777778,
             "#fb9f3a"
            ],
            [
             0.8888888888888888,
             "#fdca26"
            ],
            [
             1,
             "#f0f921"
            ]
           ]
          },
          "colorway": [
           "#636efa",
           "#EF553B",
           "#00cc96",
           "#ab63fa",
           "#FFA15A",
           "#19d3f3",
           "#FF6692",
           "#B6E880",
           "#FF97FF",
           "#FECB52"
          ],
          "font": {
           "color": "#2a3f5f"
          },
          "geo": {
           "bgcolor": "white",
           "lakecolor": "white",
           "landcolor": "#E5ECF6",
           "showlakes": true,
           "showland": true,
           "subunitcolor": "white"
          },
          "hoverlabel": {
           "align": "left"
          },
          "hovermode": "closest",
          "mapbox": {
           "style": "light"
          },
          "paper_bgcolor": "white",
          "plot_bgcolor": "#E5ECF6",
          "polar": {
           "angularaxis": {
            "gridcolor": "white",
            "linecolor": "white",
            "ticks": ""
           },
           "bgcolor": "#E5ECF6",
           "radialaxis": {
            "gridcolor": "white",
            "linecolor": "white",
            "ticks": ""
           }
          },
          "scene": {
           "xaxis": {
            "backgroundcolor": "#E5ECF6",
            "gridcolor": "white",
            "gridwidth": 2,
            "linecolor": "white",
            "showbackground": true,
            "ticks": "",
            "zerolinecolor": "white"
           },
           "yaxis": {
            "backgroundcolor": "#E5ECF6",
            "gridcolor": "white",
            "gridwidth": 2,
            "linecolor": "white",
            "showbackground": true,
            "ticks": "",
            "zerolinecolor": "white"
           },
           "zaxis": {
            "backgroundcolor": "#E5ECF6",
            "gridcolor": "white",
            "gridwidth": 2,
            "linecolor": "white",
            "showbackground": true,
            "ticks": "",
            "zerolinecolor": "white"
           }
          },
          "shapedefaults": {
           "line": {
            "color": "#2a3f5f"
           }
          },
          "ternary": {
           "aaxis": {
            "gridcolor": "white",
            "linecolor": "white",
            "ticks": ""
           },
           "baxis": {
            "gridcolor": "white",
            "linecolor": "white",
            "ticks": ""
           },
           "bgcolor": "#E5ECF6",
           "caxis": {
            "gridcolor": "white",
            "linecolor": "white",
            "ticks": ""
           }
          },
          "title": {
           "x": 0.05
          },
          "xaxis": {
           "automargin": true,
           "gridcolor": "white",
           "linecolor": "white",
           "ticks": "",
           "title": {
            "standoff": 15
           },
           "zerolinecolor": "white",
           "zerolinewidth": 2
          },
          "yaxis": {
           "automargin": true,
           "gridcolor": "white",
           "linecolor": "white",
           "ticks": "",
           "title": {
            "standoff": 15
           },
           "zerolinecolor": "white",
           "zerolinewidth": 2
          }
         }
        },
        "title": {
         "text": "Top 10 Eigenvector Centralities of Economic Instutitions"
        },
        "width": 800,
        "yaxis": {
         "categoryorder": "total ascending"
        }
       }
      }
     },
     "metadata": {},
     "output_type": "display_data"
    }
   ],
   "source": [
    "fig = go.Figure()\n",
    "fig.add_trace(\n",
    "    go.Bar(\n",
    "        y = [item[0] for item in eigenvector_list],\n",
    "        x = [item[1] for item in eigenvector_list],\n",
    "        text = [round(item[1],4) for item in eigenvector_list],\n",
    "        orientation = \"h\",\n",
    " #      marker_color = \"skyblue\",\n",
    "        marker={'color': [item[1] for item in eigenvector_list],\n",
    "                'colorscale': 'Purpor'}\n",
    "    )\n",
    ")\n",
    "fig.update_layout(title_text=\"Top 10 Eigenvector Centralities of Economic Instutitions\",\n",
    "#                 template=\"plotly_dark\",\n",
    "                  yaxis={'categoryorder':'total ascending'},\n",
    "                  width=800,\n",
    "                  height=600\n",
    "                  )\n",
    "fig.show()"
   ]
  },
  {
   "cell_type": "code",
   "execution_count": 203,
   "metadata": {},
   "outputs": [],
   "source": [
    "# add up 3 centrality and take average\n",
    "average_centrality = [(key,\n",
    "                      (degree_centrality[key]+\n",
    "                       betweenness_centrality[key]+\n",
    "                       eigenvector_centrality[key]) / 3) for key in degree_centrality.keys()]\n",
    "\n",
    "centrality_list = (sorted(degree_centrality.items(), key=lambda item: item[1], reverse=True))[:10]"
   ]
  },
  {
   "cell_type": "code",
   "execution_count": 204,
   "metadata": {},
   "outputs": [
    {
     "data": {
      "application/vnd.plotly.v1+json": {
       "config": {
        "plotlyServerURL": "https://plot.ly"
       },
       "data": [
        {
         "marker": {
          "color": [
           0.13721973094170403,
           0.13273542600896862,
           0.13094170403587443,
           0.1273542600896861,
           0.1273542600896861,
           0.12017937219730941,
           0.11659192825112108,
           0.11569506726457399,
           0.11390134529147983,
           0.10493273542600896
          ],
          "colorscale": [
           [
            0,
            "rgb(255,245,240)"
           ],
           [
            0.125,
            "rgb(254,224,210)"
           ],
           [
            0.25,
            "rgb(252,187,161)"
           ],
           [
            0.375,
            "rgb(252,146,114)"
           ],
           [
            0.5,
            "rgb(251,106,74)"
           ],
           [
            0.625,
            "rgb(239,59,44)"
           ],
           [
            0.75,
            "rgb(203,24,29)"
           ],
           [
            0.875,
            "rgb(165,15,21)"
           ],
           [
            1,
            "rgb(103,0,13)"
           ]
          ]
         },
         "orientation": "h",
         "text": [
          "0.1372",
          "0.1327",
          "0.1309",
          "0.1274",
          "0.1274",
          "0.1202",
          "0.1166",
          "0.1157",
          "0.1139",
          "0.1049"
         ],
         "type": "bar",
         "x": [
          0.13721973094170403,
          0.13273542600896862,
          0.13094170403587443,
          0.1273542600896861,
          0.1273542600896861,
          0.12017937219730941,
          0.11659192825112108,
          0.11569506726457399,
          0.11390134529147983,
          0.10493273542600896
         ],
         "y": [
          "New York University",
          "University of California, Berkeley",
          "University of Chicago",
          "Columbia University",
          "Harvard University",
          "London School of Economics",
          "World Bank",
          "Stanford University",
          "Massachusetts Institute of Technology",
          "University of Pennsylvania"
         ]
        }
       ],
       "layout": {
        "height": 600,
        "template": {
         "data": {
          "bar": [
           {
            "error_x": {
             "color": "#2a3f5f"
            },
            "error_y": {
             "color": "#2a3f5f"
            },
            "marker": {
             "line": {
              "color": "#E5ECF6",
              "width": 0.5
             },
             "pattern": {
              "fillmode": "overlay",
              "size": 10,
              "solidity": 0.2
             }
            },
            "type": "bar"
           }
          ],
          "barpolar": [
           {
            "marker": {
             "line": {
              "color": "#E5ECF6",
              "width": 0.5
             },
             "pattern": {
              "fillmode": "overlay",
              "size": 10,
              "solidity": 0.2
             }
            },
            "type": "barpolar"
           }
          ],
          "carpet": [
           {
            "aaxis": {
             "endlinecolor": "#2a3f5f",
             "gridcolor": "white",
             "linecolor": "white",
             "minorgridcolor": "white",
             "startlinecolor": "#2a3f5f"
            },
            "baxis": {
             "endlinecolor": "#2a3f5f",
             "gridcolor": "white",
             "linecolor": "white",
             "minorgridcolor": "white",
             "startlinecolor": "#2a3f5f"
            },
            "type": "carpet"
           }
          ],
          "choropleth": [
           {
            "colorbar": {
             "outlinewidth": 0,
             "ticks": ""
            },
            "type": "choropleth"
           }
          ],
          "contour": [
           {
            "colorbar": {
             "outlinewidth": 0,
             "ticks": ""
            },
            "colorscale": [
             [
              0,
              "#0d0887"
             ],
             [
              0.1111111111111111,
              "#46039f"
             ],
             [
              0.2222222222222222,
              "#7201a8"
             ],
             [
              0.3333333333333333,
              "#9c179e"
             ],
             [
              0.4444444444444444,
              "#bd3786"
             ],
             [
              0.5555555555555556,
              "#d8576b"
             ],
             [
              0.6666666666666666,
              "#ed7953"
             ],
             [
              0.7777777777777778,
              "#fb9f3a"
             ],
             [
              0.8888888888888888,
              "#fdca26"
             ],
             [
              1,
              "#f0f921"
             ]
            ],
            "type": "contour"
           }
          ],
          "contourcarpet": [
           {
            "colorbar": {
             "outlinewidth": 0,
             "ticks": ""
            },
            "type": "contourcarpet"
           }
          ],
          "heatmap": [
           {
            "colorbar": {
             "outlinewidth": 0,
             "ticks": ""
            },
            "colorscale": [
             [
              0,
              "#0d0887"
             ],
             [
              0.1111111111111111,
              "#46039f"
             ],
             [
              0.2222222222222222,
              "#7201a8"
             ],
             [
              0.3333333333333333,
              "#9c179e"
             ],
             [
              0.4444444444444444,
              "#bd3786"
             ],
             [
              0.5555555555555556,
              "#d8576b"
             ],
             [
              0.6666666666666666,
              "#ed7953"
             ],
             [
              0.7777777777777778,
              "#fb9f3a"
             ],
             [
              0.8888888888888888,
              "#fdca26"
             ],
             [
              1,
              "#f0f921"
             ]
            ],
            "type": "heatmap"
           }
          ],
          "heatmapgl": [
           {
            "colorbar": {
             "outlinewidth": 0,
             "ticks": ""
            },
            "colorscale": [
             [
              0,
              "#0d0887"
             ],
             [
              0.1111111111111111,
              "#46039f"
             ],
             [
              0.2222222222222222,
              "#7201a8"
             ],
             [
              0.3333333333333333,
              "#9c179e"
             ],
             [
              0.4444444444444444,
              "#bd3786"
             ],
             [
              0.5555555555555556,
              "#d8576b"
             ],
             [
              0.6666666666666666,
              "#ed7953"
             ],
             [
              0.7777777777777778,
              "#fb9f3a"
             ],
             [
              0.8888888888888888,
              "#fdca26"
             ],
             [
              1,
              "#f0f921"
             ]
            ],
            "type": "heatmapgl"
           }
          ],
          "histogram": [
           {
            "marker": {
             "pattern": {
              "fillmode": "overlay",
              "size": 10,
              "solidity": 0.2
             }
            },
            "type": "histogram"
           }
          ],
          "histogram2d": [
           {
            "colorbar": {
             "outlinewidth": 0,
             "ticks": ""
            },
            "colorscale": [
             [
              0,
              "#0d0887"
             ],
             [
              0.1111111111111111,
              "#46039f"
             ],
             [
              0.2222222222222222,
              "#7201a8"
             ],
             [
              0.3333333333333333,
              "#9c179e"
             ],
             [
              0.4444444444444444,
              "#bd3786"
             ],
             [
              0.5555555555555556,
              "#d8576b"
             ],
             [
              0.6666666666666666,
              "#ed7953"
             ],
             [
              0.7777777777777778,
              "#fb9f3a"
             ],
             [
              0.8888888888888888,
              "#fdca26"
             ],
             [
              1,
              "#f0f921"
             ]
            ],
            "type": "histogram2d"
           }
          ],
          "histogram2dcontour": [
           {
            "colorbar": {
             "outlinewidth": 0,
             "ticks": ""
            },
            "colorscale": [
             [
              0,
              "#0d0887"
             ],
             [
              0.1111111111111111,
              "#46039f"
             ],
             [
              0.2222222222222222,
              "#7201a8"
             ],
             [
              0.3333333333333333,
              "#9c179e"
             ],
             [
              0.4444444444444444,
              "#bd3786"
             ],
             [
              0.5555555555555556,
              "#d8576b"
             ],
             [
              0.6666666666666666,
              "#ed7953"
             ],
             [
              0.7777777777777778,
              "#fb9f3a"
             ],
             [
              0.8888888888888888,
              "#fdca26"
             ],
             [
              1,
              "#f0f921"
             ]
            ],
            "type": "histogram2dcontour"
           }
          ],
          "mesh3d": [
           {
            "colorbar": {
             "outlinewidth": 0,
             "ticks": ""
            },
            "type": "mesh3d"
           }
          ],
          "parcoords": [
           {
            "line": {
             "colorbar": {
              "outlinewidth": 0,
              "ticks": ""
             }
            },
            "type": "parcoords"
           }
          ],
          "pie": [
           {
            "automargin": true,
            "type": "pie"
           }
          ],
          "scatter": [
           {
            "fillpattern": {
             "fillmode": "overlay",
             "size": 10,
             "solidity": 0.2
            },
            "type": "scatter"
           }
          ],
          "scatter3d": [
           {
            "line": {
             "colorbar": {
              "outlinewidth": 0,
              "ticks": ""
             }
            },
            "marker": {
             "colorbar": {
              "outlinewidth": 0,
              "ticks": ""
             }
            },
            "type": "scatter3d"
           }
          ],
          "scattercarpet": [
           {
            "marker": {
             "colorbar": {
              "outlinewidth": 0,
              "ticks": ""
             }
            },
            "type": "scattercarpet"
           }
          ],
          "scattergeo": [
           {
            "marker": {
             "colorbar": {
              "outlinewidth": 0,
              "ticks": ""
             }
            },
            "type": "scattergeo"
           }
          ],
          "scattergl": [
           {
            "marker": {
             "colorbar": {
              "outlinewidth": 0,
              "ticks": ""
             }
            },
            "type": "scattergl"
           }
          ],
          "scattermapbox": [
           {
            "marker": {
             "colorbar": {
              "outlinewidth": 0,
              "ticks": ""
             }
            },
            "type": "scattermapbox"
           }
          ],
          "scatterpolar": [
           {
            "marker": {
             "colorbar": {
              "outlinewidth": 0,
              "ticks": ""
             }
            },
            "type": "scatterpolar"
           }
          ],
          "scatterpolargl": [
           {
            "marker": {
             "colorbar": {
              "outlinewidth": 0,
              "ticks": ""
             }
            },
            "type": "scatterpolargl"
           }
          ],
          "scatterternary": [
           {
            "marker": {
             "colorbar": {
              "outlinewidth": 0,
              "ticks": ""
             }
            },
            "type": "scatterternary"
           }
          ],
          "surface": [
           {
            "colorbar": {
             "outlinewidth": 0,
             "ticks": ""
            },
            "colorscale": [
             [
              0,
              "#0d0887"
             ],
             [
              0.1111111111111111,
              "#46039f"
             ],
             [
              0.2222222222222222,
              "#7201a8"
             ],
             [
              0.3333333333333333,
              "#9c179e"
             ],
             [
              0.4444444444444444,
              "#bd3786"
             ],
             [
              0.5555555555555556,
              "#d8576b"
             ],
             [
              0.6666666666666666,
              "#ed7953"
             ],
             [
              0.7777777777777778,
              "#fb9f3a"
             ],
             [
              0.8888888888888888,
              "#fdca26"
             ],
             [
              1,
              "#f0f921"
             ]
            ],
            "type": "surface"
           }
          ],
          "table": [
           {
            "cells": {
             "fill": {
              "color": "#EBF0F8"
             },
             "line": {
              "color": "white"
             }
            },
            "header": {
             "fill": {
              "color": "#C8D4E3"
             },
             "line": {
              "color": "white"
             }
            },
            "type": "table"
           }
          ]
         },
         "layout": {
          "annotationdefaults": {
           "arrowcolor": "#2a3f5f",
           "arrowhead": 0,
           "arrowwidth": 1
          },
          "autotypenumbers": "strict",
          "coloraxis": {
           "colorbar": {
            "outlinewidth": 0,
            "ticks": ""
           }
          },
          "colorscale": {
           "diverging": [
            [
             0,
             "#8e0152"
            ],
            [
             0.1,
             "#c51b7d"
            ],
            [
             0.2,
             "#de77ae"
            ],
            [
             0.3,
             "#f1b6da"
            ],
            [
             0.4,
             "#fde0ef"
            ],
            [
             0.5,
             "#f7f7f7"
            ],
            [
             0.6,
             "#e6f5d0"
            ],
            [
             0.7,
             "#b8e186"
            ],
            [
             0.8,
             "#7fbc41"
            ],
            [
             0.9,
             "#4d9221"
            ],
            [
             1,
             "#276419"
            ]
           ],
           "sequential": [
            [
             0,
             "#0d0887"
            ],
            [
             0.1111111111111111,
             "#46039f"
            ],
            [
             0.2222222222222222,
             "#7201a8"
            ],
            [
             0.3333333333333333,
             "#9c179e"
            ],
            [
             0.4444444444444444,
             "#bd3786"
            ],
            [
             0.5555555555555556,
             "#d8576b"
            ],
            [
             0.6666666666666666,
             "#ed7953"
            ],
            [
             0.7777777777777778,
             "#fb9f3a"
            ],
            [
             0.8888888888888888,
             "#fdca26"
            ],
            [
             1,
             "#f0f921"
            ]
           ],
           "sequentialminus": [
            [
             0,
             "#0d0887"
            ],
            [
             0.1111111111111111,
             "#46039f"
            ],
            [
             0.2222222222222222,
             "#7201a8"
            ],
            [
             0.3333333333333333,
             "#9c179e"
            ],
            [
             0.4444444444444444,
             "#bd3786"
            ],
            [
             0.5555555555555556,
             "#d8576b"
            ],
            [
             0.6666666666666666,
             "#ed7953"
            ],
            [
             0.7777777777777778,
             "#fb9f3a"
            ],
            [
             0.8888888888888888,
             "#fdca26"
            ],
            [
             1,
             "#f0f921"
            ]
           ]
          },
          "colorway": [
           "#636efa",
           "#EF553B",
           "#00cc96",
           "#ab63fa",
           "#FFA15A",
           "#19d3f3",
           "#FF6692",
           "#B6E880",
           "#FF97FF",
           "#FECB52"
          ],
          "font": {
           "color": "#2a3f5f"
          },
          "geo": {
           "bgcolor": "white",
           "lakecolor": "white",
           "landcolor": "#E5ECF6",
           "showlakes": true,
           "showland": true,
           "subunitcolor": "white"
          },
          "hoverlabel": {
           "align": "left"
          },
          "hovermode": "closest",
          "mapbox": {
           "style": "light"
          },
          "paper_bgcolor": "white",
          "plot_bgcolor": "#E5ECF6",
          "polar": {
           "angularaxis": {
            "gridcolor": "white",
            "linecolor": "white",
            "ticks": ""
           },
           "bgcolor": "#E5ECF6",
           "radialaxis": {
            "gridcolor": "white",
            "linecolor": "white",
            "ticks": ""
           }
          },
          "scene": {
           "xaxis": {
            "backgroundcolor": "#E5ECF6",
            "gridcolor": "white",
            "gridwidth": 2,
            "linecolor": "white",
            "showbackground": true,
            "ticks": "",
            "zerolinecolor": "white"
           },
           "yaxis": {
            "backgroundcolor": "#E5ECF6",
            "gridcolor": "white",
            "gridwidth": 2,
            "linecolor": "white",
            "showbackground": true,
            "ticks": "",
            "zerolinecolor": "white"
           },
           "zaxis": {
            "backgroundcolor": "#E5ECF6",
            "gridcolor": "white",
            "gridwidth": 2,
            "linecolor": "white",
            "showbackground": true,
            "ticks": "",
            "zerolinecolor": "white"
           }
          },
          "shapedefaults": {
           "line": {
            "color": "#2a3f5f"
           }
          },
          "ternary": {
           "aaxis": {
            "gridcolor": "white",
            "linecolor": "white",
            "ticks": ""
           },
           "baxis": {
            "gridcolor": "white",
            "linecolor": "white",
            "ticks": ""
           },
           "bgcolor": "#E5ECF6",
           "caxis": {
            "gridcolor": "white",
            "linecolor": "white",
            "ticks": ""
           }
          },
          "title": {
           "x": 0.05
          },
          "xaxis": {
           "automargin": true,
           "gridcolor": "white",
           "linecolor": "white",
           "ticks": "",
           "title": {
            "standoff": 15
           },
           "zerolinecolor": "white",
           "zerolinewidth": 2
          },
          "yaxis": {
           "automargin": true,
           "gridcolor": "white",
           "linecolor": "white",
           "ticks": "",
           "title": {
            "standoff": 15
           },
           "zerolinecolor": "white",
           "zerolinewidth": 2
          }
         }
        },
        "title": {
         "text": "Top 10 Average Centralities of Economic Instutitions"
        },
        "width": 800,
        "yaxis": {
         "categoryorder": "total ascending"
        }
       }
      }
     },
     "metadata": {},
     "output_type": "display_data"
    }
   ],
   "source": [
    "fig = go.Figure()\n",
    "fig.add_trace(\n",
    "    go.Bar(\n",
    "        y = [item[0] for item in centrality_list],\n",
    "        x = [item[1] for item in centrality_list],\n",
    "        text = [round(item[1],4) for item in centrality_list],\n",
    "        orientation = \"h\",\n",
    " #      marker_color = \"skyblue\",\n",
    "        marker={'color': [item[1] for item in centrality_list],\n",
    "                'colorscale': 'Reds'}\n",
    "    )\n",
    ")\n",
    "fig.update_layout(title_text=\"Top 10 Average Centralities of Economic Instutitions\",\n",
    "#                 template=\"plotly_dark\",\n",
    "                  yaxis={'categoryorder':'total ascending'},\n",
    "                  width=800,\n",
    "                  height=600\n",
    "                  )\n",
    "fig.show()"
   ]
  },
  {
   "attachments": {},
   "cell_type": "markdown",
   "metadata": {},
   "source": [
    "Is there any centrality measures that take weights into account?"
   ]
  },
  {
   "cell_type": "code",
   "execution_count": null,
   "metadata": {},
   "outputs": [],
   "source": [
    "# save to html\n",
    "# net = Network(notebook = True)\n",
    "# net.from_nx(G)\n",
    "# net.show(\"sample.html\")"
   ]
  },
  {
   "cell_type": "code",
   "execution_count": 101,
   "metadata": {},
   "outputs": [],
   "source": [
    "# save to gexf file, and further process in Gephi interface\n",
    "nx.write_gexf(G, 'raw_institutional_network.gexf')\n",
    "nx.write_gexf(G_tier, 'raw_tier_network.gexf')"
   ]
  },
  {
   "cell_type": "code",
   "execution_count": 47,
   "metadata": {},
   "outputs": [],
   "source": [
    "# communities = networkx.algorithms.community.greedy_modularity_communities(G)"
   ]
  },
  {
   "cell_type": "code",
   "execution_count": 103,
   "metadata": {},
   "outputs": [
    {
     "data": {
      "text/html": [
       "<div>\n",
       "<style scoped>\n",
       "    .dataframe tbody tr th:only-of-type {\n",
       "        vertical-align: middle;\n",
       "    }\n",
       "\n",
       "    .dataframe tbody tr th {\n",
       "        vertical-align: top;\n",
       "    }\n",
       "\n",
       "    .dataframe thead th {\n",
       "        text-align: right;\n",
       "    }\n",
       "</style>\n",
       "<table border=\"1\" class=\"dataframe\">\n",
       "  <thead>\n",
       "    <tr style=\"text-align: right;\">\n",
       "      <th></th>\n",
       "      <th>rank</th>\n",
       "      <th>crscore</th>\n",
       "    </tr>\n",
       "    <tr>\n",
       "      <th>name</th>\n",
       "      <th></th>\n",
       "      <th></th>\n",
       "    </tr>\n",
       "  </thead>\n",
       "  <tbody>\n",
       "    <tr>\n",
       "      <th>University of Minnesota</th>\n",
       "      <td>164</td>\n",
       "      <td>118.295950</td>\n",
       "    </tr>\n",
       "    <tr>\n",
       "      <th>New York University</th>\n",
       "      <td>50</td>\n",
       "      <td>90.403344</td>\n",
       "    </tr>\n",
       "    <tr>\n",
       "      <th>London School of Economics</th>\n",
       "      <td>1</td>\n",
       "      <td>96.413699</td>\n",
       "    </tr>\n",
       "    <tr>\n",
       "      <th>McMaster University</th>\n",
       "      <td>449</td>\n",
       "      <td>233.791667</td>\n",
       "    </tr>\n",
       "    <tr>\n",
       "      <th>Duke University</th>\n",
       "      <td>84</td>\n",
       "      <td>92.403131</td>\n",
       "    </tr>\n",
       "  </tbody>\n",
       "</table>\n",
       "</div>"
      ],
      "text/plain": [
       "                            rank     crscore\n",
       "name                                        \n",
       "University of Minnesota      164  118.295950\n",
       "New York University           50   90.403344\n",
       "London School of Economics     1   96.413699\n",
       "McMaster University          449  233.791667\n",
       "Duke University               84   92.403131"
      ]
     },
     "execution_count": 103,
     "metadata": {},
     "output_type": "execute_result"
    }
   ],
   "source": [
    "# calculate school's cross-rank score to measure cooperation freedom cross hieraichy\n",
    "# we only consider the institutions which are ranked as Top 10% of all economic instutitions\n",
    "\n",
    "df_univ_rank = df[[\"name\",\"rank\"]][df[\"rank\"] != \"\"].drop_duplicates().set_index(\"name\").astype({\"rank\":\"int\"})\n",
    "crscores = []   # list of cross-rank scores\n",
    "\n",
    "for univ in df_univ_rank.index:\n",
    "    sum_coau_num = 0\n",
    "    sum_score = 0\n",
    "    for link in links_all:\n",
    "        if univ in link:\n",
    "            try:\n",
    "                univ_a = df_univ_rank.loc[link[0],\"rank\"]\n",
    "                univ_b = df_univ_rank.loc[link[1],\"rank\"]\n",
    "                # add coauthor number, add crscores\n",
    "                sum_coau_num += link[2]   # add on number of coauthorships\n",
    "                sum_score += abs(univ_a-univ_b) * link[2]   # add on rank difference * number of coauthorships\n",
    "            except:\n",
    "                pass   # the coauthor univ not ranked, pass\n",
    "\n",
    "    # append to list\n",
    "    try:\n",
    "        crscores.append(sum_score / sum_coau_num)   # to deal with zero denominator\n",
    "    except:\n",
    "        crscores.append(0)\n",
    "\n",
    "df_univ_rank[\"crscore\"] = crscores   # append to df\n",
    "df_univ_rank.head()    # show result"
   ]
  },
  {
   "cell_type": "code",
   "execution_count": 105,
   "metadata": {},
   "outputs": [
    {
     "data": {
      "application/vnd.plotly.v1+json": {
       "config": {
        "plotlyServerURL": "https://plot.ly"
       },
       "data": [
        {
         "autobinx": false,
         "histnorm": "probability density",
         "legendgroup": "Matched Top 10% Economic Institutions",
         "marker": {
          "color": "rgb(31, 119, 180)"
         },
         "name": "Matched Top 10% Economic Institutions",
         "opacity": 0.7,
         "type": "histogram",
         "x": [
          118.29595015576324,
          90.40334378265413,
          96.41369863013699,
          233.79166666666666,
          92.40313111545989,
          66.5076071922545,
          132.91145833333334,
          281.35714285714283,
          175.1153846153846,
          74.9532967032967,
          233.27397260273972,
          164.2289156626506,
          121.98190045248869,
          112.30555555555556,
          63.0006435006435,
          87.07963594994311,
          103.5119760479042,
          82.15606242496999,
          121.51818181818182,
          76.89293598233995,
          65.20083682008368,
          52.02825947334618,
          132.20289855072463,
          276.359375,
          89.56844547563806,
          100.96031746031746,
          72.9950248756219,
          190.9433962264151,
          92.6470588235294,
          88.27926078028747,
          64.15300546448087,
          88.01282051282051,
          114.40983606557377,
          78.31132075471699,
          61.20463847203274,
          65.83564118001205,
          107.97029702970298,
          94.55555555555556,
          85.6544502617801,
          91.29508196721312,
          241.7887323943662,
          74.4234693877551,
          104.61917098445596,
          59.12597809076682,
          128.26455026455025,
          138.81730769230768,
          298.52657004830917,
          343.5,
          103.1310975609756,
          113.2069970845481,
          98.62878787878788,
          250.17741935483872,
          164.87254901960785,
          77.49673202614379,
          330.24528301886795,
          153.15315315315314,
          72.28787878787878,
          155.1095890410959,
          110.04195804195804,
          74.57364341085271,
          147.56493506493507,
          104.78729281767956,
          87.89686098654708,
          283.93220338983053,
          168.07111111111112,
          68.86786786786787,
          251.86046511627907,
          135.78571428571428,
          181.89265536723164,
          246.66666666666666,
          89.3225806451613,
          147.33333333333334,
          160.33644859813083,
          85.77777777777777,
          62.905660377358494,
          226.17821782178217,
          113.1549815498155,
          215.11818181818182,
          153.49606299212599,
          147.0731707317073,
          55.37162162162162,
          74.66,
          89,
          133.56451612903226,
          105.67955801104972,
          195.51388888888889,
          125.64485981308411,
          121.025,
          123.33050847457628,
          75.77391304347826,
          79.22916666666667,
          390.14814814814815,
          351.8125,
          179.4891304347826,
          163.79381443298968,
          173.29268292682926,
          86.8962962962963,
          250,
          251.02777777777777,
          105.03225806451613,
          141.7,
          198.9090909090909,
          349.82978723404256,
          100.22335025380711,
          102.4980079681275,
          108.10271903323263,
          124.26470588235294,
          88.01801801801801,
          165.7,
          224.00819672131146,
          193.67021276595744,
          93.504,
          218.35294117647058,
          83.16017316017316,
          101.4509090909091,
          115.78787878787878,
          143.1951219512195,
          106.1842105263158,
          102.5625,
          135.8,
          87.58196721311475,
          104.64634146341463,
          188.76136363636363,
          153.07407407407408,
          142.03571428571428,
          100.7159090909091,
          154.19867549668874,
          272.53846153846155,
          245.80769230769232,
          207.79032258064515,
          115.9090909090909,
          91.93333333333334,
          121.27868852459017,
          252.7642857142857,
          67.58715596330275,
          68.82758620689656,
          190.1818181818182,
          261.8636363636364,
          95.76666666666667,
          85.9396551724138,
          118.23853211009174,
          248.53333333333333,
          154.88571428571427,
          76.23557692307692,
          108.28676470588235,
          136.14285714285714,
          77.22727272727273,
          100.22077922077922,
          328.258064516129,
          226.140625,
          160.17391304347825,
          69.21951219512195,
          99.6969696969697,
          106.30927835051547,
          260.5238095238095,
          78.65346534653466,
          186.52380952380952,
          166.21621621621622,
          344.2857142857143,
          134.36144578313252,
          76.97080291970804,
          244.02631578947367,
          210.775,
          86.8625,
          197.1346153846154,
          104.88,
          163.95833333333334,
          270,
          95.75714285714285,
          259.5,
          186.075,
          203.77142857142857,
          394.6,
          121.7,
          146.1818181818182,
          81.69343065693431,
          0,
          186.7058823529412,
          130.8,
          228.74074074074073,
          241.27027027027026,
          142.74418604651163,
          0,
          238.44262295081967,
          156.3,
          199.01333333333332,
          120.82857142857142,
          37,
          18.258064516129032,
          170.83333333333334,
          318.09090909090907,
          103.17948717948718,
          0,
          231.5,
          86.92307692307692,
          422,
          144,
          344.8,
          0,
          104.28571428571429,
          396
         ],
         "xaxis": "x",
         "xbins": {
          "end": 422,
          "size": 20,
          "start": 0
         },
         "yaxis": "y"
        },
        {
         "legendgroup": "Matched Top 10% Economic Institutions",
         "marker": {
          "color": "rgb(31, 119, 180)"
         },
         "mode": "lines",
         "name": "Matched Top 10% Economic Institutions",
         "showlegend": false,
         "type": "scatter",
         "x": [
          0,
          0.844,
          1.688,
          2.532,
          3.376,
          4.22,
          5.064,
          5.908,
          6.752,
          7.596,
          8.44,
          9.284,
          10.128,
          10.972,
          11.816,
          12.66,
          13.504,
          14.348,
          15.192,
          16.036,
          16.88,
          17.724,
          18.568,
          19.412,
          20.256,
          21.1,
          21.944,
          22.788,
          23.632,
          24.476,
          25.32,
          26.164,
          27.008,
          27.852,
          28.696,
          29.54,
          30.384,
          31.228,
          32.072,
          32.916,
          33.76,
          34.604,
          35.448,
          36.292,
          37.136,
          37.98,
          38.824,
          39.668,
          40.512,
          41.356,
          42.2,
          43.044,
          43.888,
          44.732,
          45.576,
          46.42,
          47.264,
          48.108,
          48.952,
          49.796,
          50.64,
          51.484,
          52.328,
          53.172,
          54.016,
          54.86,
          55.704,
          56.548,
          57.392,
          58.236,
          59.08,
          59.924,
          60.768,
          61.612,
          62.456,
          63.3,
          64.144,
          64.988,
          65.832,
          66.676,
          67.52,
          68.364,
          69.208,
          70.052,
          70.896,
          71.74,
          72.584,
          73.428,
          74.272,
          75.116,
          75.96,
          76.804,
          77.648,
          78.492,
          79.336,
          80.18,
          81.024,
          81.868,
          82.712,
          83.556,
          84.4,
          85.244,
          86.088,
          86.932,
          87.776,
          88.62,
          89.464,
          90.308,
          91.152,
          91.996,
          92.84,
          93.684,
          94.528,
          95.372,
          96.216,
          97.06,
          97.904,
          98.748,
          99.592,
          100.436,
          101.28,
          102.124,
          102.968,
          103.812,
          104.656,
          105.5,
          106.344,
          107.188,
          108.032,
          108.876,
          109.72,
          110.564,
          111.408,
          112.252,
          113.096,
          113.94,
          114.784,
          115.628,
          116.472,
          117.316,
          118.16,
          119.004,
          119.848,
          120.692,
          121.536,
          122.38,
          123.224,
          124.068,
          124.912,
          125.756,
          126.6,
          127.444,
          128.288,
          129.132,
          129.976,
          130.82,
          131.664,
          132.508,
          133.352,
          134.196,
          135.04,
          135.884,
          136.728,
          137.572,
          138.416,
          139.26,
          140.104,
          140.948,
          141.792,
          142.636,
          143.48,
          144.324,
          145.168,
          146.012,
          146.856,
          147.7,
          148.544,
          149.388,
          150.232,
          151.076,
          151.92,
          152.764,
          153.608,
          154.452,
          155.296,
          156.14,
          156.984,
          157.828,
          158.672,
          159.516,
          160.36,
          161.204,
          162.048,
          162.892,
          163.736,
          164.58,
          165.424,
          166.268,
          167.112,
          167.956,
          168.8,
          169.644,
          170.488,
          171.332,
          172.176,
          173.02,
          173.864,
          174.708,
          175.552,
          176.396,
          177.24,
          178.084,
          178.928,
          179.772,
          180.616,
          181.46,
          182.304,
          183.148,
          183.992,
          184.836,
          185.68,
          186.524,
          187.368,
          188.212,
          189.056,
          189.9,
          190.744,
          191.588,
          192.432,
          193.276,
          194.12,
          194.964,
          195.808,
          196.652,
          197.496,
          198.34,
          199.184,
          200.028,
          200.872,
          201.716,
          202.56,
          203.404,
          204.248,
          205.092,
          205.936,
          206.78,
          207.624,
          208.468,
          209.312,
          210.156,
          211,
          211.844,
          212.688,
          213.532,
          214.376,
          215.22,
          216.064,
          216.908,
          217.752,
          218.596,
          219.44,
          220.284,
          221.128,
          221.972,
          222.816,
          223.66,
          224.504,
          225.348,
          226.192,
          227.036,
          227.88,
          228.724,
          229.568,
          230.412,
          231.256,
          232.1,
          232.944,
          233.788,
          234.632,
          235.476,
          236.32,
          237.164,
          238.008,
          238.852,
          239.696,
          240.54,
          241.384,
          242.228,
          243.072,
          243.916,
          244.76,
          245.604,
          246.448,
          247.292,
          248.136,
          248.98,
          249.824,
          250.668,
          251.512,
          252.356,
          253.2,
          254.044,
          254.888,
          255.732,
          256.576,
          257.42,
          258.264,
          259.108,
          259.952,
          260.796,
          261.64,
          262.484,
          263.328,
          264.172,
          265.016,
          265.86,
          266.704,
          267.548,
          268.392,
          269.236,
          270.08,
          270.924,
          271.768,
          272.612,
          273.456,
          274.3,
          275.144,
          275.988,
          276.832,
          277.676,
          278.52,
          279.364,
          280.208,
          281.052,
          281.896,
          282.74,
          283.584,
          284.428,
          285.272,
          286.116,
          286.96,
          287.804,
          288.648,
          289.492,
          290.336,
          291.18,
          292.024,
          292.868,
          293.712,
          294.556,
          295.4,
          296.244,
          297.088,
          297.932,
          298.776,
          299.62,
          300.464,
          301.308,
          302.152,
          302.996,
          303.84,
          304.684,
          305.528,
          306.372,
          307.216,
          308.06,
          308.904,
          309.748,
          310.592,
          311.436,
          312.28,
          313.124,
          313.968,
          314.812,
          315.656,
          316.5,
          317.344,
          318.188,
          319.032,
          319.876,
          320.72,
          321.564,
          322.408,
          323.252,
          324.096,
          324.94,
          325.784,
          326.628,
          327.472,
          328.316,
          329.16,
          330.004,
          330.848,
          331.692,
          332.536,
          333.38,
          334.224,
          335.068,
          335.912,
          336.756,
          337.6,
          338.444,
          339.288,
          340.132,
          340.976,
          341.82,
          342.664,
          343.508,
          344.352,
          345.196,
          346.04,
          346.884,
          347.728,
          348.572,
          349.416,
          350.26,
          351.104,
          351.948,
          352.792,
          353.636,
          354.48,
          355.324,
          356.168,
          357.012,
          357.856,
          358.7,
          359.544,
          360.388,
          361.232,
          362.076,
          362.92,
          363.764,
          364.608,
          365.452,
          366.296,
          367.14,
          367.984,
          368.828,
          369.672,
          370.516,
          371.36,
          372.204,
          373.048,
          373.892,
          374.736,
          375.58,
          376.424,
          377.268,
          378.112,
          378.956,
          379.8,
          380.644,
          381.488,
          382.332,
          383.176,
          384.02,
          384.864,
          385.708,
          386.552,
          387.396,
          388.24,
          389.084,
          389.928,
          390.772,
          391.616,
          392.46,
          393.304,
          394.148,
          394.992,
          395.836,
          396.68,
          397.524,
          398.368,
          399.212,
          400.056,
          400.9,
          401.744,
          402.588,
          403.432,
          404.276,
          405.12,
          405.964,
          406.808,
          407.652,
          408.496,
          409.34,
          410.184,
          411.028,
          411.872,
          412.716,
          413.56,
          414.404,
          415.248,
          416.092,
          416.936,
          417.78,
          418.624,
          419.468,
          420.312,
          421.156
         ],
         "xaxis": "x",
         "y": [
          0.0005012778007593489,
          0.0005133633754431067,
          0.0005258077887457386,
          0.0005386369812767208,
          0.0005518781478444321,
          0.0005655597078134048,
          0.0005797112689187166,
          0.0005943635844467189,
          0.0006095485037188907,
          0.0006252989158441676,
          0.0006416486867345483,
          0.000658632589408937,
          0.0006762862276409554,
          0.0006946459530377157,
          0.0007137487756681143,
          0.000733632268390976,
          0.0007543344650652031,
          0.0007758937528557945,
          0.0007983487588810719,
          0.0008217382314775472,
          0.0008461009163893774,
          0.0008714754282192329,
          0.000897900117506406,
          0.0009254129338260404,
          0.000954051285330255,
          0.0009838518951776351,
          0.0010148506553217856,
          0.0010470824781523781,
          0.001080581146503212,
          0.001115379162561081,
          0.0011515075962266193,
          0.0011889959334936706,
          0.0012278719254270086,
          0.0012681614383292096,
          0.0013098883056962734,
          0.0013530741825678691,
          0.0013977384028819595,
          0.0014438978404449517,
          0.0014915667741271603,
          0.001540756757889617,
          0.0015914764962416397,
          0.0016437317257193597,
          0.0016975251029635173,
          0.001752856099960165,
          0.0018097209069906513,
          0.0018681123438172933,
          0.0019280197796085316,
          0.0019894290620822972,
          0.0020523224563185533,
          0.0021166785936620404,
          0.0021824724311037508,
          0.002249675221495066,
          0.0023182544949117445,
          0.0023881740514462356,
          0.0024593939656662018,
          0.0025318706029348863,
          0.0026055566477452023,
          0.0026804011441742387,
          0.0027563495485186567,
          0.0028333437941240897,
          0.00291132236837367,
          0.0029902204017522005,
          0.003069969768853508,
          0.0031504992011493795,
          0.0032317344112896525,
          0.003313598228654098,
          0.003396010745828835,
          0.003478889475632571,
          0.0035621495182715968,
          0.0036457037381573297,
          0.0037294629498767014,
          0.0038133361127634215,
          0.003897230533478355,
          0.003981052075968977,
          0.004064705378142295,
          0.004148094074552448,
          0.004231121024373328,
          0.004313688543899283,
          0.0043956986427917105,
          0.004477053263268106,
          0.004557654521411418,
          0.0046374049497629405,
          0.004716207740350016,
          0.0047939669872921545,
          0.004870587928124746,
          0.0049459771829786885,
          0.005020042990757594,
          0.005092695441460626,
          0.00516384670380986,
          0.005233411247354842,
          0.005301306058245175,
          0.0053674508478833574,
          0.005431768253694756,
          0.005494184031280604,
          0.00555462723725117,
          0.0056130304020714575,
          0.005669329692289954,
          0.005723465061561725,
          0.005775380389921074,
          0.005825023610805148,
          0.005872346825378773,
          0.005917306403761309,
          0.005959863072809386,
          0.005999981990163667,
          0.006037632804323686,
          0.006072789700571992,
          0.006105431432626828,
          0.00613554133996113,
          0.006163107350784904,
          0.006188121970747055,
          0.006210582257471758,
          0.0062304897811030205,
          0.0062478505710888135,
          0.006262675049492782,
          0.006274977951177283,
          0.006284778231254763,
          0.006292098960256948,
          0.006296967207520832,
          0.006299413913337872,
          0.006299473750457816,
          0.0062971849755800256,
          0.006292589271504531,
          0.006285731580650104,
          0.006276659930679052,
          0.006265425252996408,
          0.0062520811949162165,
          0.0062366839263078705,
          0.0062192919415522616,
          0.006199965857649926,
          0.006178768209331492,
          0.006155763242024831,
          0.006131016703533189,
          0.006104595635273723,
          0.006076568163917496,
          0.006047003294258814,
          0.006015970704125057,
          0.005983540542117049,
          0.005949783228945349,
          0.005914769263099297,
          0.005878569031553907,
          0.005841252626184189,
          0.0058028896665184605,
          0.005763549129420884,
          0.005723299186249847,
          0.005682207047992749,
          0.005640338818829927,
          0.0055977593585303945,
          0.005554532154031555,
          0.0055107192005021755,
          0.005466380892135718,
          0.005421575922867235,
          0.0053763611971540965,
          0.005330791750907191,
          0.005284920682607182,
          0.005238799094588156,
          0.005192476044420818,
          0.005145998506278323,
          0.005099411342120244,
          0.005052757282485406,
          0.005006076916640839,
          0.004959408691794064,
          0.004912788921037786,
          0.004866251799661634,
          0.004819829429433241,
          0.00477355185042292,
          0.004727447079920398,
          0.004681541157970477,
          0.004635858199035741,
          0.004590420449279573,
          0.004545248348951122,
          0.004500360599345703,
          0.00445577423380943,
          0.004411504692255452,
          0.004367565898660945,
          0.004323970341018938,
          0.004280729153226851,
          0.0042378521984043184,
          0.004195348153146064,
          0.00415322459223121,
          0.004111488073328469,
          0.004070144221256209,
          0.0040291978113782805,
          0.003988652851739492,
          0.003948512663569104,
          0.003908779959806124,
          0.003869456921326715,
          0.0038305452705805387,
          0.0037920463423705255,
          0.003753961151537614,
          0.003716290457339423,
          0.0036790348243388726,
          0.00364219467964531,
          0.0036057703663765137,
          0.0035697621932352036,
          0.0035341704801179143,
          0.0034989955996970585,
          0.0034642380149392162,
          0.0034298983125433213,
          0.003395977232301948,
          0.0033624756924069675,
          0.003329394810737719,
          0.0032967359221850252,
          0.0032645005920786093,
          0.003232690625797938,
          0.0032013080746580345,
          0.0031703552381717915,
          0.0031398346627993486,
          0.0031097491373028065,
          0.00308010168483151,
          0.0030508955518688207,
          0.003022134194176557,
          0.002993821259877437,
          0.002965960569819683,
          0.002938556095371128,
          0.002911611933792884,
          0.0028851322813452135,
          0.002859121404280391,
          0.002833583607879554,
          0.002808523203692496,
          0.00278394447514152,
          0.0027598516416525356,
          0.0027362488214788677,
          0.0027131399933855763,
          0.00269052895736472,
          0.0026684192945546094,
          0.002646814326539115,
          0.002625717074205941,
          0.0026051302163461517,
          0.002585056048180161,
          0.00256549643999889,
          0.002546452796111746,
          0.0025279260142962055,
          0.002509916445946572,
          0.0024924238571220067,
          0.0024754473906959383,
          0.0024589855298106835,
          0.002443036062841991,
          0.002427596050078541,
          0.0024126617923209224,
          0.002398228801603113,
          0.0023842917742371186,
          0.002370844566377837,
          0.0023578801723006227,
          0.002345390705577945,
          0.0023333673833345592,
          0.0023218005137518273,
          0.0023106794869821295,
          0.002299992769622904,
          0.0022897279028872308,
          0.0022798715045938573,
          0.002270409275084237,
          0.0022613260071574063,
          0.0022526056000957673,
          0.0022442310778357957,
          0.0022361846113175886,
          0.0022284475450262274,
          0.002221000427716093,
          0.0022138230472867806,
          0.0022068944697562288,
          0.0022001930822533374,
          0.002193696639928656,
          0.0021873823166582438,
          0.0021812267593921963,
          0.002175206145976294,
          0.002169296246252588,
          0.0021634724862228194,
          0.0021577100150375573,
          0.0021519837745540464,
          0.0021462685711869304,
          0.0021405391497588493,
          0.002134770269042038,
          0.0021289367786681028,
          0.002123013697070865,
          0.002116976290116967,
          0.002110800150070632,
          0.002104461274532963,
          0.002097936144992216,
          0.0020912018046198716,
          0.0020842359349479366,
          0.0020770169310657966,
          0.0020695239749801845,
          0.002061737106789145,
          0.0020536372933306125,
          0.002045206493977836,
          0.0020364277232677603,
          0.0020272851100641524,
          0.0020177639529747994,
          0.0020078507717613495,
          0.0019975333545011707,
          0.001986800800282691,
          0.0019756435572391524,
          0.001964053455750077,
          0.001952023736665052,
          0.0019395490744303807,
          0.001926625595025579,
          0.0019132508886434436,
          0.0018994240170741728,
          0.0018851455157807935,
          0.0018704173906795355,
          0.0018552431096647915,
          0.0018396275889436165,
          0.0018235771742692566,
          0.0018070996171867667,
          0.0017902040464262798,
          0.0017729009346007054,
          0.0017552020603845667,
          0.0017371204663691666,
          0.0017186704128061502,
          0.0016998673274669297,
          0.0016807277518590162,
          0.0016612692840523716,
          0.0016415105183790284,
          0.0016214709822778024,
          0.001601171070562677,
          0.0015806319773984977,
          0.0015598756262709783,
          0.001538924598239893,
          0.0015178020587643503,
          0.001496531683387937,
          0.0014751375825686167,
          0.001453644225934367,
          0.0014320763662401446,
          0.0014104589632954279,
          0.0013888171081241042,
          0.00136717594761011,
          0.0013455606098731138,
          0.0013239961306086288,
          0.001302507380616568,
          0.0012811189947313153,
          0.0012598553023551468,
          0.0012387402597853656,
          0.0012177973845137375,
          0.0011970496916651895,
          0.0011765196327309603,
          0.001156229036739696,
          0.0011361990539986893,
          0.0011164501025260083,
          0.0010970018172834824,
          0.0010778730023097297,
          0.0010590815858422206,
          0.001040644578507369,
          0.0010225780346481842,
          0.0010048970168498373,
          0.0009876155637148336,
          0.0009707466609310489,
          0.0009543022156680199,
          0.0009382930343291648,
          0.0009227288036804009,
          0.0009076180753685159,
          0.0008929682538359512,
          0.0008787855876320689,
          0.0008650751641145755,
          0.0008518409075284943,
          0.0008390855804438675,
          0.0008268107885272043,
          0.0008150169886154753,
          0.0008037035000552242,
          0.0007928685192629929,
          0.000782509137456809,
          0.0007726213615018355,
          0.0007632001378064789,
          0.0007542393791982278,
          0.0007457319947012762,
          0.0007376699221305381,
          0.0007300441634090258,
          0.0007228448225076774,
          0.0007160611458986988,
          0.0007096815654052594,
          0.0007036937433220912,
          0.0006980846196730437,
          0.0006928404614632649,
          0.0006879469137751715,
          0.0006833890525490095,
          0.0006791514388805517,
          0.0006752181746604518,
          0.0006715729593720081,
          0.0006681991478566778,
          0.0006650798088497444,
          0.0006621977840820816,
          0.0006595357477381249,
          0.000657076266055012,
          0.0006548018568434725,
          0.0006526950487074968,
          0.0006507384397372335,
          0.0006489147554478975,
          0.0006472069057369613,
          0.0006455980406324287,
          0.000644071604606743,
          0.0006426113892338307,
          0.0006412015839709969,
          0.0006398268248528668,
          0.0006384722408913706,
          0.0006371234979838467,
          0.0006357668401407444,
          0.0006343891278550602,
          0.0006329778734475836,
          0.0006315212732351508,
          0.000630008236383417,
          0.0006284284103210361,
          0.0006267722026085659,
          0.0006250307991727557,
          0.0006231961788350757,
          0.0006212611240822523,
          0.0006192192280461226,
          0.0006170648976801471,
          0.000614793353140297,
          0.0006124006233986711,
          0.0006098835381388493,
          0.0006072397160026576,
          0.000604467549278393,
          0.0006015661851406179,
          0.0005985355035711574,
          0.0005953760921097734,
          0.0005920892176010648,
          0.0005886767951212063,
          0.0005851413542841496,
          0.0005814860031416941,
          0.0005777143899052703,
          0.0005738306627292622,
          0.0005698394278061342,
          0.0005657457060324202,
          0.0005615548885117048,
          0.0005572726911660233,
          0.0005529051087305796,
          0.0005484583684082774,
          0.0005439388834602884,
          0.0005393532070067418,
          0.0005347079863075734,
          0.0005300099177877314,
          0.0005252657030632778,
          0.0005204820062155222,
          0.0005156654125493142,
          0.0005108223890589587,
          0.0005059592468111822,
          0.0005010821054391077,
          0.0004961968599245578,
          0.0004913091498282402,
          0.0004864243311086759,
          0.00048154745065123885,
          0.00047668322360855554,
          0.0004718360136328976,
          0.0004670098160603166,
          0.00046220824408521464,
          0.00045743451794303714,
          0.0004526914570979482,
          0.0004479814754118921,
          0.0004433065792514956,
          0.00043866836846997683,
          0.0004340680401827609,
          0.00042950639523796846,
          0.00042498384726647733,
          0.00042050043418099246,
          0.00041605583197955255,
          0.00041164937069628724,
          0.0004072800523310621,
          0.00040294657057998615,
          0.0003986473321806571,
          0.000394380479679481,
          0.0003901439154235144,
          0.0003859353265759516,
          0.00038175221095269234,
          0.00037759190347727426,
          0.0003734516030528713,
          0.000369328399652932,
          0.0003652193014363411,
          0.0003611212616986355,
          0.00035703120547771845,
          0.00035294605564059253,
          0.0003488627582867858,
          0.0003447783073142398,
          0.0003406897680043995,
          0.0003365942994949137,
          0.0003324891760206547,
          0.00032837180681654976,
          0.0003242397545888556,
          0.00032009075247490946,
          0.00031592271942489797,
          0.0003117337739527254,
          0.00030752224621646796,
          0.00030328668840213705,
          0.00029902588339736347,
          0.00029473885175412384,
          0.0002904248569516334,
          0.0002860834089819716,
          0.0002817142662918031,
          0.0002773174361236565,
          0.00027289317330955547,
          0.000268441977578353,
          0.0002639645894458133,
          0.00025946198476336124,
          0.000254935368007376,
          0.0002503861643960209,
          0.000245816010924813,
          0.00024122674641548791,
          0.00023662040067520284,
          0.000231999182864788,
          0.00022736546917561225,
          0.00022272178991472673,
          0.00021807081609730497,
          0.0002134153456440972
         ],
         "yaxis": "y"
        }
       ],
       "layout": {
        "barmode": "overlay",
        "height": 500,
        "hovermode": "closest",
        "legend": {
         "traceorder": "reversed",
         "x": 0.35,
         "xanchor": "left",
         "y": 1,
         "yanchor": "bottom"
        },
        "template": {
         "data": {
          "bar": [
           {
            "error_x": {
             "color": "#2a3f5f"
            },
            "error_y": {
             "color": "#2a3f5f"
            },
            "marker": {
             "line": {
              "color": "#E5ECF6",
              "width": 0.5
             },
             "pattern": {
              "fillmode": "overlay",
              "size": 10,
              "solidity": 0.2
             }
            },
            "type": "bar"
           }
          ],
          "barpolar": [
           {
            "marker": {
             "line": {
              "color": "#E5ECF6",
              "width": 0.5
             },
             "pattern": {
              "fillmode": "overlay",
              "size": 10,
              "solidity": 0.2
             }
            },
            "type": "barpolar"
           }
          ],
          "carpet": [
           {
            "aaxis": {
             "endlinecolor": "#2a3f5f",
             "gridcolor": "white",
             "linecolor": "white",
             "minorgridcolor": "white",
             "startlinecolor": "#2a3f5f"
            },
            "baxis": {
             "endlinecolor": "#2a3f5f",
             "gridcolor": "white",
             "linecolor": "white",
             "minorgridcolor": "white",
             "startlinecolor": "#2a3f5f"
            },
            "type": "carpet"
           }
          ],
          "choropleth": [
           {
            "colorbar": {
             "outlinewidth": 0,
             "ticks": ""
            },
            "type": "choropleth"
           }
          ],
          "contour": [
           {
            "colorbar": {
             "outlinewidth": 0,
             "ticks": ""
            },
            "colorscale": [
             [
              0,
              "#0d0887"
             ],
             [
              0.1111111111111111,
              "#46039f"
             ],
             [
              0.2222222222222222,
              "#7201a8"
             ],
             [
              0.3333333333333333,
              "#9c179e"
             ],
             [
              0.4444444444444444,
              "#bd3786"
             ],
             [
              0.5555555555555556,
              "#d8576b"
             ],
             [
              0.6666666666666666,
              "#ed7953"
             ],
             [
              0.7777777777777778,
              "#fb9f3a"
             ],
             [
              0.8888888888888888,
              "#fdca26"
             ],
             [
              1,
              "#f0f921"
             ]
            ],
            "type": "contour"
           }
          ],
          "contourcarpet": [
           {
            "colorbar": {
             "outlinewidth": 0,
             "ticks": ""
            },
            "type": "contourcarpet"
           }
          ],
          "heatmap": [
           {
            "colorbar": {
             "outlinewidth": 0,
             "ticks": ""
            },
            "colorscale": [
             [
              0,
              "#0d0887"
             ],
             [
              0.1111111111111111,
              "#46039f"
             ],
             [
              0.2222222222222222,
              "#7201a8"
             ],
             [
              0.3333333333333333,
              "#9c179e"
             ],
             [
              0.4444444444444444,
              "#bd3786"
             ],
             [
              0.5555555555555556,
              "#d8576b"
             ],
             [
              0.6666666666666666,
              "#ed7953"
             ],
             [
              0.7777777777777778,
              "#fb9f3a"
             ],
             [
              0.8888888888888888,
              "#fdca26"
             ],
             [
              1,
              "#f0f921"
             ]
            ],
            "type": "heatmap"
           }
          ],
          "heatmapgl": [
           {
            "colorbar": {
             "outlinewidth": 0,
             "ticks": ""
            },
            "colorscale": [
             [
              0,
              "#0d0887"
             ],
             [
              0.1111111111111111,
              "#46039f"
             ],
             [
              0.2222222222222222,
              "#7201a8"
             ],
             [
              0.3333333333333333,
              "#9c179e"
             ],
             [
              0.4444444444444444,
              "#bd3786"
             ],
             [
              0.5555555555555556,
              "#d8576b"
             ],
             [
              0.6666666666666666,
              "#ed7953"
             ],
             [
              0.7777777777777778,
              "#fb9f3a"
             ],
             [
              0.8888888888888888,
              "#fdca26"
             ],
             [
              1,
              "#f0f921"
             ]
            ],
            "type": "heatmapgl"
           }
          ],
          "histogram": [
           {
            "marker": {
             "pattern": {
              "fillmode": "overlay",
              "size": 10,
              "solidity": 0.2
             }
            },
            "type": "histogram"
           }
          ],
          "histogram2d": [
           {
            "colorbar": {
             "outlinewidth": 0,
             "ticks": ""
            },
            "colorscale": [
             [
              0,
              "#0d0887"
             ],
             [
              0.1111111111111111,
              "#46039f"
             ],
             [
              0.2222222222222222,
              "#7201a8"
             ],
             [
              0.3333333333333333,
              "#9c179e"
             ],
             [
              0.4444444444444444,
              "#bd3786"
             ],
             [
              0.5555555555555556,
              "#d8576b"
             ],
             [
              0.6666666666666666,
              "#ed7953"
             ],
             [
              0.7777777777777778,
              "#fb9f3a"
             ],
             [
              0.8888888888888888,
              "#fdca26"
             ],
             [
              1,
              "#f0f921"
             ]
            ],
            "type": "histogram2d"
           }
          ],
          "histogram2dcontour": [
           {
            "colorbar": {
             "outlinewidth": 0,
             "ticks": ""
            },
            "colorscale": [
             [
              0,
              "#0d0887"
             ],
             [
              0.1111111111111111,
              "#46039f"
             ],
             [
              0.2222222222222222,
              "#7201a8"
             ],
             [
              0.3333333333333333,
              "#9c179e"
             ],
             [
              0.4444444444444444,
              "#bd3786"
             ],
             [
              0.5555555555555556,
              "#d8576b"
             ],
             [
              0.6666666666666666,
              "#ed7953"
             ],
             [
              0.7777777777777778,
              "#fb9f3a"
             ],
             [
              0.8888888888888888,
              "#fdca26"
             ],
             [
              1,
              "#f0f921"
             ]
            ],
            "type": "histogram2dcontour"
           }
          ],
          "mesh3d": [
           {
            "colorbar": {
             "outlinewidth": 0,
             "ticks": ""
            },
            "type": "mesh3d"
           }
          ],
          "parcoords": [
           {
            "line": {
             "colorbar": {
              "outlinewidth": 0,
              "ticks": ""
             }
            },
            "type": "parcoords"
           }
          ],
          "pie": [
           {
            "automargin": true,
            "type": "pie"
           }
          ],
          "scatter": [
           {
            "fillpattern": {
             "fillmode": "overlay",
             "size": 10,
             "solidity": 0.2
            },
            "type": "scatter"
           }
          ],
          "scatter3d": [
           {
            "line": {
             "colorbar": {
              "outlinewidth": 0,
              "ticks": ""
             }
            },
            "marker": {
             "colorbar": {
              "outlinewidth": 0,
              "ticks": ""
             }
            },
            "type": "scatter3d"
           }
          ],
          "scattercarpet": [
           {
            "marker": {
             "colorbar": {
              "outlinewidth": 0,
              "ticks": ""
             }
            },
            "type": "scattercarpet"
           }
          ],
          "scattergeo": [
           {
            "marker": {
             "colorbar": {
              "outlinewidth": 0,
              "ticks": ""
             }
            },
            "type": "scattergeo"
           }
          ],
          "scattergl": [
           {
            "marker": {
             "colorbar": {
              "outlinewidth": 0,
              "ticks": ""
             }
            },
            "type": "scattergl"
           }
          ],
          "scattermapbox": [
           {
            "marker": {
             "colorbar": {
              "outlinewidth": 0,
              "ticks": ""
             }
            },
            "type": "scattermapbox"
           }
          ],
          "scatterpolar": [
           {
            "marker": {
             "colorbar": {
              "outlinewidth": 0,
              "ticks": ""
             }
            },
            "type": "scatterpolar"
           }
          ],
          "scatterpolargl": [
           {
            "marker": {
             "colorbar": {
              "outlinewidth": 0,
              "ticks": ""
             }
            },
            "type": "scatterpolargl"
           }
          ],
          "scatterternary": [
           {
            "marker": {
             "colorbar": {
              "outlinewidth": 0,
              "ticks": ""
             }
            },
            "type": "scatterternary"
           }
          ],
          "surface": [
           {
            "colorbar": {
             "outlinewidth": 0,
             "ticks": ""
            },
            "colorscale": [
             [
              0,
              "#0d0887"
             ],
             [
              0.1111111111111111,
              "#46039f"
             ],
             [
              0.2222222222222222,
              "#7201a8"
             ],
             [
              0.3333333333333333,
              "#9c179e"
             ],
             [
              0.4444444444444444,
              "#bd3786"
             ],
             [
              0.5555555555555556,
              "#d8576b"
             ],
             [
              0.6666666666666666,
              "#ed7953"
             ],
             [
              0.7777777777777778,
              "#fb9f3a"
             ],
             [
              0.8888888888888888,
              "#fdca26"
             ],
             [
              1,
              "#f0f921"
             ]
            ],
            "type": "surface"
           }
          ],
          "table": [
           {
            "cells": {
             "fill": {
              "color": "#EBF0F8"
             },
             "line": {
              "color": "white"
             }
            },
            "header": {
             "fill": {
              "color": "#C8D4E3"
             },
             "line": {
              "color": "white"
             }
            },
            "type": "table"
           }
          ]
         },
         "layout": {
          "annotationdefaults": {
           "arrowcolor": "#2a3f5f",
           "arrowhead": 0,
           "arrowwidth": 1
          },
          "autotypenumbers": "strict",
          "coloraxis": {
           "colorbar": {
            "outlinewidth": 0,
            "ticks": ""
           }
          },
          "colorscale": {
           "diverging": [
            [
             0,
             "#8e0152"
            ],
            [
             0.1,
             "#c51b7d"
            ],
            [
             0.2,
             "#de77ae"
            ],
            [
             0.3,
             "#f1b6da"
            ],
            [
             0.4,
             "#fde0ef"
            ],
            [
             0.5,
             "#f7f7f7"
            ],
            [
             0.6,
             "#e6f5d0"
            ],
            [
             0.7,
             "#b8e186"
            ],
            [
             0.8,
             "#7fbc41"
            ],
            [
             0.9,
             "#4d9221"
            ],
            [
             1,
             "#276419"
            ]
           ],
           "sequential": [
            [
             0,
             "#0d0887"
            ],
            [
             0.1111111111111111,
             "#46039f"
            ],
            [
             0.2222222222222222,
             "#7201a8"
            ],
            [
             0.3333333333333333,
             "#9c179e"
            ],
            [
             0.4444444444444444,
             "#bd3786"
            ],
            [
             0.5555555555555556,
             "#d8576b"
            ],
            [
             0.6666666666666666,
             "#ed7953"
            ],
            [
             0.7777777777777778,
             "#fb9f3a"
            ],
            [
             0.8888888888888888,
             "#fdca26"
            ],
            [
             1,
             "#f0f921"
            ]
           ],
           "sequentialminus": [
            [
             0,
             "#0d0887"
            ],
            [
             0.1111111111111111,
             "#46039f"
            ],
            [
             0.2222222222222222,
             "#7201a8"
            ],
            [
             0.3333333333333333,
             "#9c179e"
            ],
            [
             0.4444444444444444,
             "#bd3786"
            ],
            [
             0.5555555555555556,
             "#d8576b"
            ],
            [
             0.6666666666666666,
             "#ed7953"
            ],
            [
             0.7777777777777778,
             "#fb9f3a"
            ],
            [
             0.8888888888888888,
             "#fdca26"
            ],
            [
             1,
             "#f0f921"
            ]
           ]
          },
          "colorway": [
           "#636efa",
           "#EF553B",
           "#00cc96",
           "#ab63fa",
           "#FFA15A",
           "#19d3f3",
           "#FF6692",
           "#B6E880",
           "#FF97FF",
           "#FECB52"
          ],
          "font": {
           "color": "#2a3f5f"
          },
          "geo": {
           "bgcolor": "white",
           "lakecolor": "white",
           "landcolor": "#E5ECF6",
           "showlakes": true,
           "showland": true,
           "subunitcolor": "white"
          },
          "hoverlabel": {
           "align": "left"
          },
          "hovermode": "closest",
          "mapbox": {
           "style": "light"
          },
          "paper_bgcolor": "white",
          "plot_bgcolor": "#E5ECF6",
          "polar": {
           "angularaxis": {
            "gridcolor": "white",
            "linecolor": "white",
            "ticks": ""
           },
           "bgcolor": "#E5ECF6",
           "radialaxis": {
            "gridcolor": "white",
            "linecolor": "white",
            "ticks": ""
           }
          },
          "scene": {
           "xaxis": {
            "backgroundcolor": "#E5ECF6",
            "gridcolor": "white",
            "gridwidth": 2,
            "linecolor": "white",
            "showbackground": true,
            "ticks": "",
            "zerolinecolor": "white"
           },
           "yaxis": {
            "backgroundcolor": "#E5ECF6",
            "gridcolor": "white",
            "gridwidth": 2,
            "linecolor": "white",
            "showbackground": true,
            "ticks": "",
            "zerolinecolor": "white"
           },
           "zaxis": {
            "backgroundcolor": "#E5ECF6",
            "gridcolor": "white",
            "gridwidth": 2,
            "linecolor": "white",
            "showbackground": true,
            "ticks": "",
            "zerolinecolor": "white"
           }
          },
          "shapedefaults": {
           "line": {
            "color": "#2a3f5f"
           }
          },
          "ternary": {
           "aaxis": {
            "gridcolor": "white",
            "linecolor": "white",
            "ticks": ""
           },
           "baxis": {
            "gridcolor": "white",
            "linecolor": "white",
            "ticks": ""
           },
           "bgcolor": "#E5ECF6",
           "caxis": {
            "gridcolor": "white",
            "linecolor": "white",
            "ticks": ""
           }
          },
          "title": {
           "x": 0.05
          },
          "xaxis": {
           "automargin": true,
           "gridcolor": "white",
           "linecolor": "white",
           "ticks": "",
           "title": {
            "standoff": 15
           },
           "zerolinecolor": "white",
           "zerolinewidth": 2
          },
          "yaxis": {
           "automargin": true,
           "gridcolor": "white",
           "linecolor": "white",
           "ticks": "",
           "title": {
            "standoff": 15
           },
           "zerolinecolor": "white",
           "zerolinewidth": 2
          }
         }
        },
        "title": {
         "text": "Cross-rank Scores Distributuion"
        },
        "width": 600,
        "xaxis": {
         "anchor": "y2",
         "domain": [
          0,
          1
         ],
         "title": {
          "text": "Cross-rank Scores"
         },
         "zeroline": false
        },
        "yaxis": {
         "anchor": "free",
         "domain": [
          0,
          1
         ],
         "position": 0,
         "title": {
          "text": "Density"
         }
        }
       }
      }
     },
     "metadata": {},
     "output_type": "display_data"
    }
   ],
   "source": [
    "# df_univ_rank.crscore.plot.density(color='green')\n",
    "# plt.title('Density plot for crscore')\n",
    "# plt.show()\n",
    "fig = ff.create_distplot([df_univ_rank[\"crscore\"]], \n",
    "                         [\"Matched Top 10% Economic Institutions\"],\n",
    "                         bin_size=20,\n",
    "                         show_rug = False\n",
    "                         )\n",
    "\n",
    "fig.update_layout(title_text = \"Cross-rank Scores Distributuion\",\n",
    "                  xaxis_title = \"Cross-rank Scores\",\n",
    "                  yaxis_title = \"Density\",\n",
    "#                 template = \"plotly_dark\",\n",
    "                  width = 600,\n",
    "                  height = 500,\n",
    "                  legend=dict(\n",
    "                    yanchor=\"bottom\",\n",
    "                    y=1.00,\n",
    "                    xanchor=\"left\",\n",
    "                    x=0.35\n",
    "                    )\n",
    "                  )\n",
    "fig.show()"
   ]
  },
  {
   "cell_type": "code",
   "execution_count": 110,
   "metadata": {},
   "outputs": [
    {
     "data": {
      "application/vnd.plotly.v1+json": {
       "config": {
        "plotlyServerURL": "https://plot.ly"
       },
       "data": [
        {
         "hovertemplate": "rank=%{x}<br>crscore=%{marker.color}<extra></extra>",
         "legendgroup": "",
         "marker": {
          "color": [
           118.29595015576324,
           90.40334378265413,
           96.41369863013699,
           233.79166666666666,
           92.40313111545989,
           66.5076071922545,
           132.91145833333334,
           281.35714285714283,
           175.1153846153846,
           74.9532967032967,
           233.27397260273972,
           164.2289156626506,
           121.98190045248869,
           112.30555555555556,
           63.0006435006435,
           87.07963594994311,
           103.5119760479042,
           82.15606242496999,
           121.51818181818182,
           76.89293598233995,
           65.20083682008368,
           52.02825947334618,
           132.20289855072463,
           276.359375,
           89.56844547563806,
           100.96031746031746,
           72.9950248756219,
           190.9433962264151,
           92.6470588235294,
           88.27926078028747,
           64.15300546448087,
           88.01282051282051,
           114.40983606557377,
           78.31132075471699,
           61.20463847203274,
           65.83564118001205,
           107.97029702970298,
           94.55555555555556,
           85.6544502617801,
           91.29508196721312,
           241.7887323943662,
           74.4234693877551,
           104.61917098445596,
           59.12597809076682,
           128.26455026455025,
           138.81730769230768,
           298.52657004830917,
           343.5,
           103.1310975609756,
           113.2069970845481,
           98.62878787878788,
           250.17741935483872,
           164.87254901960785,
           77.49673202614379,
           330.24528301886795,
           153.15315315315314,
           72.28787878787878,
           155.1095890410959,
           110.04195804195804,
           74.57364341085271,
           147.56493506493507,
           104.78729281767956,
           87.89686098654708,
           283.93220338983053,
           168.07111111111112,
           68.86786786786787,
           251.86046511627907,
           135.78571428571428,
           181.89265536723164,
           246.66666666666666,
           89.3225806451613,
           147.33333333333334,
           160.33644859813083,
           85.77777777777777,
           62.905660377358494,
           226.17821782178217,
           113.1549815498155,
           215.11818181818182,
           153.49606299212599,
           147.0731707317073,
           55.37162162162162,
           74.66,
           89,
           133.56451612903226,
           105.67955801104972,
           195.51388888888889,
           125.64485981308411,
           121.025,
           123.33050847457628,
           75.77391304347826,
           79.22916666666667,
           390.14814814814815,
           351.8125,
           179.4891304347826,
           163.79381443298968,
           173.29268292682926,
           86.8962962962963,
           250,
           251.02777777777777,
           105.03225806451613,
           141.7,
           198.9090909090909,
           349.82978723404256,
           100.22335025380711,
           102.4980079681275,
           108.10271903323263,
           124.26470588235294,
           88.01801801801801,
           165.7,
           224.00819672131146,
           193.67021276595744,
           93.504,
           218.35294117647058,
           83.16017316017316,
           101.4509090909091,
           115.78787878787878,
           143.1951219512195,
           106.1842105263158,
           102.5625,
           135.8,
           87.58196721311475,
           104.64634146341463,
           188.76136363636363,
           153.07407407407408,
           142.03571428571428,
           100.7159090909091,
           154.19867549668874,
           272.53846153846155,
           245.80769230769232,
           207.79032258064515,
           115.9090909090909,
           91.93333333333334,
           121.27868852459017,
           252.7642857142857,
           67.58715596330275,
           68.82758620689656,
           190.1818181818182,
           261.8636363636364,
           95.76666666666667,
           85.9396551724138,
           118.23853211009174,
           248.53333333333333,
           154.88571428571427,
           76.23557692307692,
           108.28676470588235,
           136.14285714285714,
           77.22727272727273,
           100.22077922077922,
           328.258064516129,
           226.140625,
           160.17391304347825,
           69.21951219512195,
           99.6969696969697,
           106.30927835051547,
           260.5238095238095,
           78.65346534653466,
           186.52380952380952,
           166.21621621621622,
           344.2857142857143,
           134.36144578313252,
           76.97080291970804,
           244.02631578947367,
           210.775,
           86.8625,
           197.1346153846154,
           104.88,
           163.95833333333334,
           270,
           95.75714285714285,
           259.5,
           186.075,
           203.77142857142857,
           394.6,
           121.7,
           146.1818181818182,
           81.69343065693431,
           0,
           186.7058823529412,
           130.8,
           228.74074074074073,
           241.27027027027026,
           142.74418604651163,
           0,
           238.44262295081967,
           156.3,
           199.01333333333332,
           120.82857142857142,
           37,
           18.258064516129032,
           170.83333333333334,
           318.09090909090907,
           103.17948717948718,
           0,
           231.5,
           86.92307692307692,
           422,
           144,
           344.8,
           0,
           104.28571428571429,
           396
          ],
          "coloraxis": "coloraxis",
          "symbol": "circle"
         },
         "mode": "markers",
         "name": "",
         "orientation": "v",
         "showlegend": false,
         "type": "scatter",
         "x": [
          164,
          50,
          1,
          449,
          84,
          43,
          264,
          484,
          364,
          28,
          423,
          363,
          177,
          220,
          9,
          2,
          38,
          55,
          194,
          52,
          73,
          8,
          51,
          472,
          71,
          70,
          100,
          334,
          142,
          93,
          35,
          147,
          159,
          108,
          20,
          5,
          182,
          196,
          10,
          176,
          440,
          54,
          65,
          14,
          219,
          124,
          480,
          523,
          155,
          113,
          165,
          408,
          326,
          188,
          441,
          17,
          22,
          321,
          69,
          83,
          250,
          151,
          126,
          465,
          310,
          31,
          527,
          357,
          293,
          401,
          49,
          235,
          253,
          127,
          26,
          415,
          77,
          462,
          270,
          268,
          29,
          4,
          11,
          207,
          138,
          320,
          211,
          448,
          257,
          143,
          92,
          490,
          536,
          330,
          302,
          457,
          125,
          504,
          410,
          255,
          346,
          466,
          424,
          117,
          271,
          87,
          416,
          96,
          524,
          335,
          360,
          119,
          402,
          25,
          190,
          40,
          338,
          296,
          193,
          298,
          141,
          63,
          276,
          260,
          150,
          89,
          299,
          539,
          445,
          221,
          231,
          197,
          313,
          407,
          157,
          192,
          519,
          458,
          163,
          114,
          241,
          396,
          329,
          44,
          81,
          229,
          30,
          169,
          506,
          311,
          309,
          12,
          112,
          99,
          371,
          238,
          345,
          287,
          522,
          288,
          139,
          398,
          404,
          279,
          388,
          202,
          305,
          514,
          213,
          333,
          375,
          289,
          526,
          460,
          348,
          140,
          309,
          534,
          218,
          542,
          535,
          385,
          273,
          498,
          29,
          399,
          308,
          249,
          406,
          286,
          487,
          128,
          288,
          483,
          537,
          536,
          331,
          502,
          288,
          78,
          436
         ],
         "xaxis": "x",
         "y": [
          118.29595015576324,
          90.40334378265413,
          96.41369863013699,
          233.79166666666666,
          92.40313111545989,
          66.5076071922545,
          132.91145833333334,
          281.35714285714283,
          175.1153846153846,
          74.9532967032967,
          233.27397260273972,
          164.2289156626506,
          121.98190045248869,
          112.30555555555556,
          63.0006435006435,
          87.07963594994311,
          103.5119760479042,
          82.15606242496999,
          121.51818181818182,
          76.89293598233995,
          65.20083682008368,
          52.02825947334618,
          132.20289855072463,
          276.359375,
          89.56844547563806,
          100.96031746031746,
          72.9950248756219,
          190.9433962264151,
          92.6470588235294,
          88.27926078028747,
          64.15300546448087,
          88.01282051282051,
          114.40983606557377,
          78.31132075471699,
          61.20463847203274,
          65.83564118001205,
          107.97029702970298,
          94.55555555555556,
          85.6544502617801,
          91.29508196721312,
          241.7887323943662,
          74.4234693877551,
          104.61917098445596,
          59.12597809076682,
          128.26455026455025,
          138.81730769230768,
          298.52657004830917,
          343.5,
          103.1310975609756,
          113.2069970845481,
          98.62878787878788,
          250.17741935483872,
          164.87254901960785,
          77.49673202614379,
          330.24528301886795,
          153.15315315315314,
          72.28787878787878,
          155.1095890410959,
          110.04195804195804,
          74.57364341085271,
          147.56493506493507,
          104.78729281767956,
          87.89686098654708,
          283.93220338983053,
          168.07111111111112,
          68.86786786786787,
          251.86046511627907,
          135.78571428571428,
          181.89265536723164,
          246.66666666666666,
          89.3225806451613,
          147.33333333333334,
          160.33644859813083,
          85.77777777777777,
          62.905660377358494,
          226.17821782178217,
          113.1549815498155,
          215.11818181818182,
          153.49606299212599,
          147.0731707317073,
          55.37162162162162,
          74.66,
          89,
          133.56451612903226,
          105.67955801104972,
          195.51388888888889,
          125.64485981308411,
          121.025,
          123.33050847457628,
          75.77391304347826,
          79.22916666666667,
          390.14814814814815,
          351.8125,
          179.4891304347826,
          163.79381443298968,
          173.29268292682926,
          86.8962962962963,
          250,
          251.02777777777777,
          105.03225806451613,
          141.7,
          198.9090909090909,
          349.82978723404256,
          100.22335025380711,
          102.4980079681275,
          108.10271903323263,
          124.26470588235294,
          88.01801801801801,
          165.7,
          224.00819672131146,
          193.67021276595744,
          93.504,
          218.35294117647058,
          83.16017316017316,
          101.4509090909091,
          115.78787878787878,
          143.1951219512195,
          106.1842105263158,
          102.5625,
          135.8,
          87.58196721311475,
          104.64634146341463,
          188.76136363636363,
          153.07407407407408,
          142.03571428571428,
          100.7159090909091,
          154.19867549668874,
          272.53846153846155,
          245.80769230769232,
          207.79032258064515,
          115.9090909090909,
          91.93333333333334,
          121.27868852459017,
          252.7642857142857,
          67.58715596330275,
          68.82758620689656,
          190.1818181818182,
          261.8636363636364,
          95.76666666666667,
          85.9396551724138,
          118.23853211009174,
          248.53333333333333,
          154.88571428571427,
          76.23557692307692,
          108.28676470588235,
          136.14285714285714,
          77.22727272727273,
          100.22077922077922,
          328.258064516129,
          226.140625,
          160.17391304347825,
          69.21951219512195,
          99.6969696969697,
          106.30927835051547,
          260.5238095238095,
          78.65346534653466,
          186.52380952380952,
          166.21621621621622,
          344.2857142857143,
          134.36144578313252,
          76.97080291970804,
          244.02631578947367,
          210.775,
          86.8625,
          197.1346153846154,
          104.88,
          163.95833333333334,
          270,
          95.75714285714285,
          259.5,
          186.075,
          203.77142857142857,
          394.6,
          121.7,
          146.1818181818182,
          81.69343065693431,
          0,
          186.7058823529412,
          130.8,
          228.74074074074073,
          241.27027027027026,
          142.74418604651163,
          0,
          238.44262295081967,
          156.3,
          199.01333333333332,
          120.82857142857142,
          37,
          18.258064516129032,
          170.83333333333334,
          318.09090909090907,
          103.17948717948718,
          0,
          231.5,
          86.92307692307692,
          422,
          144,
          344.8,
          0,
          104.28571428571429,
          396
         ],
         "yaxis": "y"
        },
        {
         "hovertemplate": "<b>LOWESS trendline</b><br><br>rank=%{x}<br>crscore=%{y} <b>(trend)</b><extra></extra>",
         "legendgroup": "",
         "marker": {
          "symbol": "circle"
         },
         "mode": "lines",
         "name": "",
         "showlegend": false,
         "type": "scatter",
         "x": [
          1,
          2,
          4,
          5,
          8,
          9,
          10,
          11,
          12,
          14,
          17,
          20,
          22,
          25,
          26,
          28,
          29,
          29,
          30,
          31,
          35,
          38,
          40,
          43,
          44,
          49,
          50,
          51,
          52,
          54,
          55,
          63,
          65,
          69,
          70,
          71,
          73,
          77,
          78,
          81,
          83,
          84,
          87,
          89,
          92,
          93,
          96,
          99,
          100,
          108,
          112,
          113,
          114,
          117,
          119,
          124,
          125,
          126,
          127,
          128,
          138,
          139,
          140,
          141,
          142,
          143,
          147,
          150,
          151,
          155,
          157,
          159,
          163,
          164,
          165,
          169,
          176,
          177,
          182,
          188,
          190,
          192,
          193,
          194,
          196,
          197,
          202,
          207,
          211,
          213,
          218,
          219,
          220,
          221,
          229,
          231,
          235,
          238,
          241,
          249,
          250,
          253,
          255,
          257,
          260,
          264,
          268,
          270,
          271,
          273,
          276,
          279,
          286,
          287,
          288,
          288,
          288,
          289,
          293,
          296,
          298,
          299,
          302,
          305,
          308,
          309,
          309,
          310,
          311,
          313,
          320,
          321,
          326,
          329,
          330,
          331,
          333,
          334,
          335,
          338,
          345,
          346,
          348,
          357,
          360,
          363,
          364,
          371,
          375,
          385,
          388,
          396,
          398,
          399,
          401,
          402,
          404,
          406,
          407,
          408,
          410,
          415,
          416,
          423,
          424,
          436,
          440,
          441,
          445,
          448,
          449,
          457,
          458,
          460,
          462,
          465,
          466,
          472,
          480,
          483,
          484,
          487,
          490,
          498,
          502,
          504,
          506,
          514,
          519,
          522,
          523,
          524,
          526,
          527,
          534,
          535,
          536,
          536,
          537,
          539,
          542
         ],
         "xaxis": "x",
         "y": [
          76.7755931485081,
          76.94303407304452,
          77.27714482799259,
          77.44380300246884,
          77.9421253325678,
          78.10766744648457,
          78.27292206686495,
          78.43788848818805,
          78.60256558789214,
          78.93104511806041,
          79.42156933402701,
          79.90946862568887,
          80.23327051935954,
          80.71679057908915,
          80.87738886591222,
          81.19773642776161,
          81.35749280674678,
          81.35749280674678,
          81.51697655044197,
          81.6761925194576,
          82.31050078333975,
          82.78375316886445,
          83.09820334563103,
          83.5684587503659,
          83.7248573367244,
          84.50455445827029,
          84.66009828523921,
          84.81553208878915,
          84.97086459394187,
          85.28125434486145,
          85.43632662642675,
          86.67517308943822,
          86.98477630126695,
          87.60441863477102,
          87.75947334731951,
          87.91460256168584,
          88.22511081134454,
          88.84733061525642,
          89.00318655887824,
          89.47159616246583,
          89.78462336621926,
          89.94137518903688,
          90.41263336926478,
          90.72767879797532,
          91.20158639187962,
          91.3599092850549,
          91.83591919490138,
          92.31343702247989,
          92.47292357936209,
          93.75273171230998,
          94.39230590606691,
          94.5515621303781,
          94.71035451146778,
          95.18232292903772,
          95.49110117579541,
          96.22383510585891,
          96.36053786095015,
          96.50752983268016,
          96.67030605353835,
          96.81919628086426,
          98.43887920116492,
          98.63670352521241,
          98.80160640784999,
          98.96786279635009,
          99.13559215943604,
          99.30493956455739,
          100.00073080265743,
          100.5446865426779,
          100.73091112108426,
          101.62125715268813,
          102.0260004888962,
          102.3795817234798,
          103.37450290649971,
          103.60084579778785,
          103.76397816036965,
          104.64852493611076,
          106.60745868129172,
          106.80882570530925,
          108.09045409241587,
          110.13598191335967,
          110.62716748696319,
          111.2049515154606,
          111.46542774556126,
          111.86356899736394,
          112.59762194558304,
          112.87031458150632,
          114.59332532503363,
          116.31083587377655,
          117.76479048168729,
          118.60815280032001,
          120.4790588984667,
          120.85813902680312,
          121.28830558882335,
          121.71838984981233,
          124.88855824091854,
          125.62858111794114,
          127.30129786200465,
          128.50877278761013,
          129.6183791706858,
          132.9112915292965,
          133.33510923405655,
          134.59063588904525,
          135.42398066998243,
          136.24829516466573,
          137.49377054648417,
          139.160934212663,
          140.87280247718272,
          141.72372410182982,
          142.15338895554052,
          143.0219970860962,
          144.35963221370642,
          145.7309677399888,
          149.1866765958626,
          149.71740714231424,
          150.25517142292065,
          150.25517142292065,
          150.25517142292065,
          150.79932684701345,
          152.84917296709233,
          154.37280016748542,
          155.52261142569043,
          156.0098522096112,
          157.6239264730418,
          159.25860735911314,
          161.05826239082984,
          161.5655269005898,
          161.5655269005898,
          162.07386610244416,
          162.63276142852254,
          163.8046406395122,
          167.6335653490686,
          168.20782907379706,
          171.14407816057465,
          172.93065814230317,
          173.55341256123342,
          174.1740931001599,
          175.2640991036659,
          175.81234103420252,
          176.4355879820353,
          178.166407093388,
          182.43849556074707,
          183.0542922167167,
          184.23736228497577,
          189.55786616262142,
          191.40305778479228,
          193.18524286515338,
          193.79989949992722,
          197.99748661286836,
          200.4117850869269,
          206.46845232835145,
          208.28769202717024,
          213.21461761552072,
          214.45574637539832,
          215.08106451955777,
          216.32548507183472,
          216.94382677105037,
          218.17205315589723,
          219.38924102651677,
          219.99401626320287,
          220.59648421700098,
          221.79526306082062,
          224.76467339243572,
          225.35509071175377,
          229.4693846476593,
          230.05538640485628,
          237.07331047072458,
          239.40950417161997,
          239.9933894187082,
          242.32826073048355,
          244.07863343925104,
          244.66192281313891,
          249.32471272320302,
          249.90707370422226,
          251.07144245610513,
          252.23532535855966,
          253.98021339283173,
          254.56159539137917,
          258.0473174639163,
          262.6881976388016,
          264.4264191972133,
          265.0055443606756,
          266.7420290281571,
          268.4770913647031,
          273.09563809002117,
          275.39966110251004,
          276.55025317586393,
          277.6998606802159,
          282.28781176687033,
          285.1459591430291,
          286.8571665703533,
          287.42694017623387,
          287.9963914621147,
          289.13428807269264,
          289.7027131202609,
          293.67126214173715,
          294.2366463492689,
          294.80162876165724,
          294.80162876165724,
          295.36620812962667,
          296.4941436306611,
          298.18294452254617
         ],
         "yaxis": "y"
        }
       ],
       "layout": {
        "coloraxis": {
         "colorbar": {
          "title": {
           "text": "crscore"
          }
         },
         "colorscale": [
          [
           0,
           "rgb(243, 224, 247)"
          ],
          [
           0.16666666666666666,
           "rgb(228, 199, 241)"
          ],
          [
           0.3333333333333333,
           "rgb(209, 175, 232)"
          ],
          [
           0.5,
           "rgb(185, 152, 221)"
          ],
          [
           0.6666666666666666,
           "rgb(159, 130, 206)"
          ],
          [
           0.8333333333333334,
           "rgb(130, 109, 186)"
          ],
          [
           1,
           "rgb(99, 88, 159)"
          ]
         ]
        },
        "height": 600,
        "legend": {
         "tracegroupgap": 0,
         "x": 0.35,
         "xanchor": "left",
         "y": 1,
         "yanchor": "bottom"
        },
        "margin": {
         "t": 60
        },
        "template": {
         "data": {
          "bar": [
           {
            "error_x": {
             "color": "#2a3f5f"
            },
            "error_y": {
             "color": "#2a3f5f"
            },
            "marker": {
             "line": {
              "color": "#E5ECF6",
              "width": 0.5
             },
             "pattern": {
              "fillmode": "overlay",
              "size": 10,
              "solidity": 0.2
             }
            },
            "type": "bar"
           }
          ],
          "barpolar": [
           {
            "marker": {
             "line": {
              "color": "#E5ECF6",
              "width": 0.5
             },
             "pattern": {
              "fillmode": "overlay",
              "size": 10,
              "solidity": 0.2
             }
            },
            "type": "barpolar"
           }
          ],
          "carpet": [
           {
            "aaxis": {
             "endlinecolor": "#2a3f5f",
             "gridcolor": "white",
             "linecolor": "white",
             "minorgridcolor": "white",
             "startlinecolor": "#2a3f5f"
            },
            "baxis": {
             "endlinecolor": "#2a3f5f",
             "gridcolor": "white",
             "linecolor": "white",
             "minorgridcolor": "white",
             "startlinecolor": "#2a3f5f"
            },
            "type": "carpet"
           }
          ],
          "choropleth": [
           {
            "colorbar": {
             "outlinewidth": 0,
             "ticks": ""
            },
            "type": "choropleth"
           }
          ],
          "contour": [
           {
            "colorbar": {
             "outlinewidth": 0,
             "ticks": ""
            },
            "colorscale": [
             [
              0,
              "#0d0887"
             ],
             [
              0.1111111111111111,
              "#46039f"
             ],
             [
              0.2222222222222222,
              "#7201a8"
             ],
             [
              0.3333333333333333,
              "#9c179e"
             ],
             [
              0.4444444444444444,
              "#bd3786"
             ],
             [
              0.5555555555555556,
              "#d8576b"
             ],
             [
              0.6666666666666666,
              "#ed7953"
             ],
             [
              0.7777777777777778,
              "#fb9f3a"
             ],
             [
              0.8888888888888888,
              "#fdca26"
             ],
             [
              1,
              "#f0f921"
             ]
            ],
            "type": "contour"
           }
          ],
          "contourcarpet": [
           {
            "colorbar": {
             "outlinewidth": 0,
             "ticks": ""
            },
            "type": "contourcarpet"
           }
          ],
          "heatmap": [
           {
            "colorbar": {
             "outlinewidth": 0,
             "ticks": ""
            },
            "colorscale": [
             [
              0,
              "#0d0887"
             ],
             [
              0.1111111111111111,
              "#46039f"
             ],
             [
              0.2222222222222222,
              "#7201a8"
             ],
             [
              0.3333333333333333,
              "#9c179e"
             ],
             [
              0.4444444444444444,
              "#bd3786"
             ],
             [
              0.5555555555555556,
              "#d8576b"
             ],
             [
              0.6666666666666666,
              "#ed7953"
             ],
             [
              0.7777777777777778,
              "#fb9f3a"
             ],
             [
              0.8888888888888888,
              "#fdca26"
             ],
             [
              1,
              "#f0f921"
             ]
            ],
            "type": "heatmap"
           }
          ],
          "heatmapgl": [
           {
            "colorbar": {
             "outlinewidth": 0,
             "ticks": ""
            },
            "colorscale": [
             [
              0,
              "#0d0887"
             ],
             [
              0.1111111111111111,
              "#46039f"
             ],
             [
              0.2222222222222222,
              "#7201a8"
             ],
             [
              0.3333333333333333,
              "#9c179e"
             ],
             [
              0.4444444444444444,
              "#bd3786"
             ],
             [
              0.5555555555555556,
              "#d8576b"
             ],
             [
              0.6666666666666666,
              "#ed7953"
             ],
             [
              0.7777777777777778,
              "#fb9f3a"
             ],
             [
              0.8888888888888888,
              "#fdca26"
             ],
             [
              1,
              "#f0f921"
             ]
            ],
            "type": "heatmapgl"
           }
          ],
          "histogram": [
           {
            "marker": {
             "pattern": {
              "fillmode": "overlay",
              "size": 10,
              "solidity": 0.2
             }
            },
            "type": "histogram"
           }
          ],
          "histogram2d": [
           {
            "colorbar": {
             "outlinewidth": 0,
             "ticks": ""
            },
            "colorscale": [
             [
              0,
              "#0d0887"
             ],
             [
              0.1111111111111111,
              "#46039f"
             ],
             [
              0.2222222222222222,
              "#7201a8"
             ],
             [
              0.3333333333333333,
              "#9c179e"
             ],
             [
              0.4444444444444444,
              "#bd3786"
             ],
             [
              0.5555555555555556,
              "#d8576b"
             ],
             [
              0.6666666666666666,
              "#ed7953"
             ],
             [
              0.7777777777777778,
              "#fb9f3a"
             ],
             [
              0.8888888888888888,
              "#fdca26"
             ],
             [
              1,
              "#f0f921"
             ]
            ],
            "type": "histogram2d"
           }
          ],
          "histogram2dcontour": [
           {
            "colorbar": {
             "outlinewidth": 0,
             "ticks": ""
            },
            "colorscale": [
             [
              0,
              "#0d0887"
             ],
             [
              0.1111111111111111,
              "#46039f"
             ],
             [
              0.2222222222222222,
              "#7201a8"
             ],
             [
              0.3333333333333333,
              "#9c179e"
             ],
             [
              0.4444444444444444,
              "#bd3786"
             ],
             [
              0.5555555555555556,
              "#d8576b"
             ],
             [
              0.6666666666666666,
              "#ed7953"
             ],
             [
              0.7777777777777778,
              "#fb9f3a"
             ],
             [
              0.8888888888888888,
              "#fdca26"
             ],
             [
              1,
              "#f0f921"
             ]
            ],
            "type": "histogram2dcontour"
           }
          ],
          "mesh3d": [
           {
            "colorbar": {
             "outlinewidth": 0,
             "ticks": ""
            },
            "type": "mesh3d"
           }
          ],
          "parcoords": [
           {
            "line": {
             "colorbar": {
              "outlinewidth": 0,
              "ticks": ""
             }
            },
            "type": "parcoords"
           }
          ],
          "pie": [
           {
            "automargin": true,
            "type": "pie"
           }
          ],
          "scatter": [
           {
            "fillpattern": {
             "fillmode": "overlay",
             "size": 10,
             "solidity": 0.2
            },
            "type": "scatter"
           }
          ],
          "scatter3d": [
           {
            "line": {
             "colorbar": {
              "outlinewidth": 0,
              "ticks": ""
             }
            },
            "marker": {
             "colorbar": {
              "outlinewidth": 0,
              "ticks": ""
             }
            },
            "type": "scatter3d"
           }
          ],
          "scattercarpet": [
           {
            "marker": {
             "colorbar": {
              "outlinewidth": 0,
              "ticks": ""
             }
            },
            "type": "scattercarpet"
           }
          ],
          "scattergeo": [
           {
            "marker": {
             "colorbar": {
              "outlinewidth": 0,
              "ticks": ""
             }
            },
            "type": "scattergeo"
           }
          ],
          "scattergl": [
           {
            "marker": {
             "colorbar": {
              "outlinewidth": 0,
              "ticks": ""
             }
            },
            "type": "scattergl"
           }
          ],
          "scattermapbox": [
           {
            "marker": {
             "colorbar": {
              "outlinewidth": 0,
              "ticks": ""
             }
            },
            "type": "scattermapbox"
           }
          ],
          "scatterpolar": [
           {
            "marker": {
             "colorbar": {
              "outlinewidth": 0,
              "ticks": ""
             }
            },
            "type": "scatterpolar"
           }
          ],
          "scatterpolargl": [
           {
            "marker": {
             "colorbar": {
              "outlinewidth": 0,
              "ticks": ""
             }
            },
            "type": "scatterpolargl"
           }
          ],
          "scatterternary": [
           {
            "marker": {
             "colorbar": {
              "outlinewidth": 0,
              "ticks": ""
             }
            },
            "type": "scatterternary"
           }
          ],
          "surface": [
           {
            "colorbar": {
             "outlinewidth": 0,
             "ticks": ""
            },
            "colorscale": [
             [
              0,
              "#0d0887"
             ],
             [
              0.1111111111111111,
              "#46039f"
             ],
             [
              0.2222222222222222,
              "#7201a8"
             ],
             [
              0.3333333333333333,
              "#9c179e"
             ],
             [
              0.4444444444444444,
              "#bd3786"
             ],
             [
              0.5555555555555556,
              "#d8576b"
             ],
             [
              0.6666666666666666,
              "#ed7953"
             ],
             [
              0.7777777777777778,
              "#fb9f3a"
             ],
             [
              0.8888888888888888,
              "#fdca26"
             ],
             [
              1,
              "#f0f921"
             ]
            ],
            "type": "surface"
           }
          ],
          "table": [
           {
            "cells": {
             "fill": {
              "color": "#EBF0F8"
             },
             "line": {
              "color": "white"
             }
            },
            "header": {
             "fill": {
              "color": "#C8D4E3"
             },
             "line": {
              "color": "white"
             }
            },
            "type": "table"
           }
          ]
         },
         "layout": {
          "annotationdefaults": {
           "arrowcolor": "#2a3f5f",
           "arrowhead": 0,
           "arrowwidth": 1
          },
          "autotypenumbers": "strict",
          "coloraxis": {
           "colorbar": {
            "outlinewidth": 0,
            "ticks": ""
           }
          },
          "colorscale": {
           "diverging": [
            [
             0,
             "#8e0152"
            ],
            [
             0.1,
             "#c51b7d"
            ],
            [
             0.2,
             "#de77ae"
            ],
            [
             0.3,
             "#f1b6da"
            ],
            [
             0.4,
             "#fde0ef"
            ],
            [
             0.5,
             "#f7f7f7"
            ],
            [
             0.6,
             "#e6f5d0"
            ],
            [
             0.7,
             "#b8e186"
            ],
            [
             0.8,
             "#7fbc41"
            ],
            [
             0.9,
             "#4d9221"
            ],
            [
             1,
             "#276419"
            ]
           ],
           "sequential": [
            [
             0,
             "#0d0887"
            ],
            [
             0.1111111111111111,
             "#46039f"
            ],
            [
             0.2222222222222222,
             "#7201a8"
            ],
            [
             0.3333333333333333,
             "#9c179e"
            ],
            [
             0.4444444444444444,
             "#bd3786"
            ],
            [
             0.5555555555555556,
             "#d8576b"
            ],
            [
             0.6666666666666666,
             "#ed7953"
            ],
            [
             0.7777777777777778,
             "#fb9f3a"
            ],
            [
             0.8888888888888888,
             "#fdca26"
            ],
            [
             1,
             "#f0f921"
            ]
           ],
           "sequentialminus": [
            [
             0,
             "#0d0887"
            ],
            [
             0.1111111111111111,
             "#46039f"
            ],
            [
             0.2222222222222222,
             "#7201a8"
            ],
            [
             0.3333333333333333,
             "#9c179e"
            ],
            [
             0.4444444444444444,
             "#bd3786"
            ],
            [
             0.5555555555555556,
             "#d8576b"
            ],
            [
             0.6666666666666666,
             "#ed7953"
            ],
            [
             0.7777777777777778,
             "#fb9f3a"
            ],
            [
             0.8888888888888888,
             "#fdca26"
            ],
            [
             1,
             "#f0f921"
            ]
           ]
          },
          "colorway": [
           "#636efa",
           "#EF553B",
           "#00cc96",
           "#ab63fa",
           "#FFA15A",
           "#19d3f3",
           "#FF6692",
           "#B6E880",
           "#FF97FF",
           "#FECB52"
          ],
          "font": {
           "color": "#2a3f5f"
          },
          "geo": {
           "bgcolor": "white",
           "lakecolor": "white",
           "landcolor": "#E5ECF6",
           "showlakes": true,
           "showland": true,
           "subunitcolor": "white"
          },
          "hoverlabel": {
           "align": "left"
          },
          "hovermode": "closest",
          "mapbox": {
           "style": "light"
          },
          "paper_bgcolor": "white",
          "plot_bgcolor": "#E5ECF6",
          "polar": {
           "angularaxis": {
            "gridcolor": "white",
            "linecolor": "white",
            "ticks": ""
           },
           "bgcolor": "#E5ECF6",
           "radialaxis": {
            "gridcolor": "white",
            "linecolor": "white",
            "ticks": ""
           }
          },
          "scene": {
           "xaxis": {
            "backgroundcolor": "#E5ECF6",
            "gridcolor": "white",
            "gridwidth": 2,
            "linecolor": "white",
            "showbackground": true,
            "ticks": "",
            "zerolinecolor": "white"
           },
           "yaxis": {
            "backgroundcolor": "#E5ECF6",
            "gridcolor": "white",
            "gridwidth": 2,
            "linecolor": "white",
            "showbackground": true,
            "ticks": "",
            "zerolinecolor": "white"
           },
           "zaxis": {
            "backgroundcolor": "#E5ECF6",
            "gridcolor": "white",
            "gridwidth": 2,
            "linecolor": "white",
            "showbackground": true,
            "ticks": "",
            "zerolinecolor": "white"
           }
          },
          "shapedefaults": {
           "line": {
            "color": "#2a3f5f"
           }
          },
          "ternary": {
           "aaxis": {
            "gridcolor": "white",
            "linecolor": "white",
            "ticks": ""
           },
           "baxis": {
            "gridcolor": "white",
            "linecolor": "white",
            "ticks": ""
           },
           "bgcolor": "#E5ECF6",
           "caxis": {
            "gridcolor": "white",
            "linecolor": "white",
            "ticks": ""
           }
          },
          "title": {
           "x": 0.05
          },
          "xaxis": {
           "automargin": true,
           "gridcolor": "white",
           "linecolor": "white",
           "ticks": "",
           "title": {
            "standoff": 15
           },
           "zerolinecolor": "white",
           "zerolinewidth": 2
          },
          "yaxis": {
           "automargin": true,
           "gridcolor": "white",
           "linecolor": "white",
           "ticks": "",
           "title": {
            "standoff": 15
           },
           "zerolinecolor": "white",
           "zerolinewidth": 2
          }
         }
        },
        "title": {
         "text": "Cross-rank Score vs Rank by Economic Research"
        },
        "width": 800,
        "xaxis": {
         "anchor": "y",
         "domain": [
          0,
          1
         ],
         "title": {
          "text": "Rank"
         }
        },
        "yaxis": {
         "anchor": "x",
         "domain": [
          0,
          1
         ],
         "title": {
          "text": "Cross-rank Score"
         }
        }
       }
      }
     },
     "metadata": {},
     "output_type": "display_data"
    }
   ],
   "source": [
    "fig = px.scatter(df_univ_rank, \n",
    "                 x=\"rank\", \n",
    "                 y=\"crscore\", \n",
    "                 trendline=\"lowess\",\n",
    "                 trendline_options=dict(frac=0.5),\n",
    "                 color=\"crscore\",\n",
    "                 color_continuous_scale=px.colors.sequential.Purp)\n",
    "\n",
    "fig.update_layout(title_text = \"Cross-rank Score vs Rank by Economic Research\",\n",
    "                  xaxis_title = \"Rank\",\n",
    "                  yaxis_title = \"Cross-rank Score\",\n",
    "#                 template = \"plotly_dark\",\n",
    "                  width = 800,\n",
    "                  height = 600,\n",
    "                  legend=dict(\n",
    "                    yanchor=\"bottom\",\n",
    "                    y=1.00,\n",
    "                    xanchor=\"left\",\n",
    "                    x=0.35\n",
    "                    )\n",
    "                  )\n",
    "fig.show()"
   ]
  },
  {
   "cell_type": "code",
   "execution_count": 161,
   "metadata": {},
   "outputs": [
    {
     "data": {
      "text/html": [
       "<div>\n",
       "<style scoped>\n",
       "    .dataframe tbody tr th:only-of-type {\n",
       "        vertical-align: middle;\n",
       "    }\n",
       "\n",
       "    .dataframe tbody tr th {\n",
       "        vertical-align: top;\n",
       "    }\n",
       "\n",
       "    .dataframe thead th {\n",
       "        text-align: right;\n",
       "    }\n",
       "</style>\n",
       "<table border=\"1\" class=\"dataframe\">\n",
       "  <thead>\n",
       "    <tr style=\"text-align: right;\">\n",
       "      <th></th>\n",
       "      <th>crscore</th>\n",
       "      <th>totalcoau</th>\n",
       "      <th>txt</th>\n",
       "    </tr>\n",
       "    <tr>\n",
       "      <th>tier</th>\n",
       "      <th></th>\n",
       "      <th></th>\n",
       "      <th></th>\n",
       "    </tr>\n",
       "  </thead>\n",
       "  <tbody>\n",
       "    <tr>\n",
       "      <th>3</th>\n",
       "      <td>138.75</td>\n",
       "      <td>4562</td>\n",
       "      <td>Tier3: 138.75</td>\n",
       "    </tr>\n",
       "    <tr>\n",
       "      <th>1</th>\n",
       "      <td>95.11</td>\n",
       "      <td>9904</td>\n",
       "      <td>Tier1: 95.11</td>\n",
       "    </tr>\n",
       "    <tr>\n",
       "      <th>0</th>\n",
       "      <td>71.88</td>\n",
       "      <td>15027</td>\n",
       "      <td>Tier0: 71.88</td>\n",
       "    </tr>\n",
       "    <tr>\n",
       "      <th>8</th>\n",
       "      <td>303.67</td>\n",
       "      <td>1880</td>\n",
       "      <td>Tier8: 303.67</td>\n",
       "    </tr>\n",
       "    <tr>\n",
       "      <th>5</th>\n",
       "      <td>201.64</td>\n",
       "      <td>3205</td>\n",
       "      <td>Tier5: 201.64</td>\n",
       "    </tr>\n",
       "  </tbody>\n",
       "</table>\n",
       "</div>"
      ],
      "text/plain": [
       "      crscore  totalcoau            txt\n",
       "tier                                   \n",
       "3      138.75       4562  Tier3: 138.75\n",
       "1       95.11       9904   Tier1: 95.11\n",
       "0       71.88      15027   Tier0: 71.88\n",
       "8      303.67       1880  Tier8: 303.67\n",
       "5      201.64       3205  Tier5: 201.64"
      ]
     },
     "execution_count": 161,
     "metadata": {},
     "output_type": "execute_result"
    }
   ],
   "source": [
    "df_tier_rank = df[[\"tier\"]][df[\"tier\"] != -1].drop_duplicates().set_index(\"tier\")\n",
    "crscores = []   # list of cross-rank scores\n",
    "coau_num = []\n",
    "\n",
    "for tier in df_tier_rank.index:\n",
    "    sum_coau_num = 0\n",
    "    sum_score = 0\n",
    "    for link in links_all_tiers:\n",
    "        if tier in link:\n",
    "            univ_a = link[0]\n",
    "            univ_b = link[1]\n",
    "            sum_coau_num += link[2]   # add on number of coauthorships\n",
    "            sum_score += 50 * abs(univ_a-univ_b) * link[2]   # add on rank difference * number of coauthorships\n",
    "\n",
    "    # append to list\n",
    "    try:\n",
    "        crscores.append(round(sum_score / sum_coau_num,2))   # to deal with zero denominator\n",
    "    except:\n",
    "        crscores.append(0)\n",
    "\n",
    "    coau_num.append(sum_coau_num)\n",
    "\n",
    "df_tier_rank[\"crscore\"] = crscores   # append to df\n",
    "df_tier_rank[\"totalcoau\"] = coau_num\n",
    "df_tier_rank[\"txt\"] = [\"Tier\"+str(tier)+\": \"+str(df_tier_rank.loc[tier,\"crscore\"]) for tier in df_tier_rank.index]\n",
    "df_tier_rank.head()    # show result"
   ]
  },
  {
   "cell_type": "code",
   "execution_count": null,
   "metadata": {},
   "outputs": [],
   "source": [
    "len(df.drop_duplicates(subset=[\"name\"])[df.drop_duplicates(subset=[\"name\"])[\"tier\"] == 11])"
   ]
  },
  {
   "cell_type": "code",
   "execution_count": 164,
   "metadata": {},
   "outputs": [
    {
     "data": {
      "application/vnd.plotly.v1+json": {
       "config": {
        "plotlyServerURL": "https://plot.ly"
       },
       "data": [
        {
         "hovertemplate": "tier=%{x}<br>crscore=%{marker.color}<br>totalcoau=%{marker.size}<br>txt=%{text}<extra></extra>",
         "legendgroup": "",
         "marker": {
          "color": [
           138.75,
           95.11,
           71.88,
           303.67,
           201.64,
           358.41,
           267.57,
           172.25,
           110.03,
           238.55,
           415.74
          ],
          "coloraxis": "coloraxis",
          "line": {
           "color": "Skyblue",
           "width": 3
          },
          "size": [
           4562,
           9904,
           15027,
           1880,
           3205,
           1664,
           1076,
           1663,
           4123,
           2253,
           1058
          ],
          "sizemode": "area",
          "sizeref": 0.6678666666666667,
          "symbol": "circle"
         },
         "mode": "markers+text",
         "name": "",
         "orientation": "v",
         "showlegend": false,
         "text": [
          "Tier3: 138.75",
          "Tier1: 95.11",
          "Tier0: 71.88",
          "Tier8: 303.67",
          "Tier5: 201.64",
          "Tier9: 358.41",
          "Tier7: 267.57",
          "Tier4: 172.25",
          "Tier2: 110.03",
          "Tier6: 238.55",
          "Tier10: 415.74"
         ],
         "textposition": "middle center",
         "type": "scatter",
         "x": [
          3,
          1,
          0,
          8,
          5,
          9,
          7,
          4,
          2,
          6,
          10
         ],
         "xaxis": "x",
         "y": [
          138.75,
          95.11,
          71.88,
          303.67,
          201.64,
          358.41,
          267.57,
          172.25,
          110.03,
          238.55,
          415.74
         ],
         "yaxis": "y"
        }
       ],
       "layout": {
        "coloraxis": {
         "colorbar": {
          "title": {
           "text": "crscore"
          }
         },
         "colorscale": [
          [
           0,
           "rgb(243, 224, 247)"
          ],
          [
           0.16666666666666666,
           "rgb(228, 199, 241)"
          ],
          [
           0.3333333333333333,
           "rgb(209, 175, 232)"
          ],
          [
           0.5,
           "rgb(185, 152, 221)"
          ],
          [
           0.6666666666666666,
           "rgb(159, 130, 206)"
          ],
          [
           0.8333333333333334,
           "rgb(130, 109, 186)"
          ],
          [
           1,
           "rgb(99, 88, 159)"
          ]
         ]
        },
        "height": 800,
        "legend": {
         "itemsizing": "constant",
         "tracegroupgap": 0,
         "x": 0.35,
         "xanchor": "left",
         "y": 1,
         "yanchor": "bottom"
        },
        "margin": {
         "t": 60
        },
        "template": {
         "data": {
          "bar": [
           {
            "error_x": {
             "color": "#2a3f5f"
            },
            "error_y": {
             "color": "#2a3f5f"
            },
            "marker": {
             "line": {
              "color": "#E5ECF6",
              "width": 0.5
             },
             "pattern": {
              "fillmode": "overlay",
              "size": 10,
              "solidity": 0.2
             }
            },
            "type": "bar"
           }
          ],
          "barpolar": [
           {
            "marker": {
             "line": {
              "color": "#E5ECF6",
              "width": 0.5
             },
             "pattern": {
              "fillmode": "overlay",
              "size": 10,
              "solidity": 0.2
             }
            },
            "type": "barpolar"
           }
          ],
          "carpet": [
           {
            "aaxis": {
             "endlinecolor": "#2a3f5f",
             "gridcolor": "white",
             "linecolor": "white",
             "minorgridcolor": "white",
             "startlinecolor": "#2a3f5f"
            },
            "baxis": {
             "endlinecolor": "#2a3f5f",
             "gridcolor": "white",
             "linecolor": "white",
             "minorgridcolor": "white",
             "startlinecolor": "#2a3f5f"
            },
            "type": "carpet"
           }
          ],
          "choropleth": [
           {
            "colorbar": {
             "outlinewidth": 0,
             "ticks": ""
            },
            "type": "choropleth"
           }
          ],
          "contour": [
           {
            "colorbar": {
             "outlinewidth": 0,
             "ticks": ""
            },
            "colorscale": [
             [
              0,
              "#0d0887"
             ],
             [
              0.1111111111111111,
              "#46039f"
             ],
             [
              0.2222222222222222,
              "#7201a8"
             ],
             [
              0.3333333333333333,
              "#9c179e"
             ],
             [
              0.4444444444444444,
              "#bd3786"
             ],
             [
              0.5555555555555556,
              "#d8576b"
             ],
             [
              0.6666666666666666,
              "#ed7953"
             ],
             [
              0.7777777777777778,
              "#fb9f3a"
             ],
             [
              0.8888888888888888,
              "#fdca26"
             ],
             [
              1,
              "#f0f921"
             ]
            ],
            "type": "contour"
           }
          ],
          "contourcarpet": [
           {
            "colorbar": {
             "outlinewidth": 0,
             "ticks": ""
            },
            "type": "contourcarpet"
           }
          ],
          "heatmap": [
           {
            "colorbar": {
             "outlinewidth": 0,
             "ticks": ""
            },
            "colorscale": [
             [
              0,
              "#0d0887"
             ],
             [
              0.1111111111111111,
              "#46039f"
             ],
             [
              0.2222222222222222,
              "#7201a8"
             ],
             [
              0.3333333333333333,
              "#9c179e"
             ],
             [
              0.4444444444444444,
              "#bd3786"
             ],
             [
              0.5555555555555556,
              "#d8576b"
             ],
             [
              0.6666666666666666,
              "#ed7953"
             ],
             [
              0.7777777777777778,
              "#fb9f3a"
             ],
             [
              0.8888888888888888,
              "#fdca26"
             ],
             [
              1,
              "#f0f921"
             ]
            ],
            "type": "heatmap"
           }
          ],
          "heatmapgl": [
           {
            "colorbar": {
             "outlinewidth": 0,
             "ticks": ""
            },
            "colorscale": [
             [
              0,
              "#0d0887"
             ],
             [
              0.1111111111111111,
              "#46039f"
             ],
             [
              0.2222222222222222,
              "#7201a8"
             ],
             [
              0.3333333333333333,
              "#9c179e"
             ],
             [
              0.4444444444444444,
              "#bd3786"
             ],
             [
              0.5555555555555556,
              "#d8576b"
             ],
             [
              0.6666666666666666,
              "#ed7953"
             ],
             [
              0.7777777777777778,
              "#fb9f3a"
             ],
             [
              0.8888888888888888,
              "#fdca26"
             ],
             [
              1,
              "#f0f921"
             ]
            ],
            "type": "heatmapgl"
           }
          ],
          "histogram": [
           {
            "marker": {
             "pattern": {
              "fillmode": "overlay",
              "size": 10,
              "solidity": 0.2
             }
            },
            "type": "histogram"
           }
          ],
          "histogram2d": [
           {
            "colorbar": {
             "outlinewidth": 0,
             "ticks": ""
            },
            "colorscale": [
             [
              0,
              "#0d0887"
             ],
             [
              0.1111111111111111,
              "#46039f"
             ],
             [
              0.2222222222222222,
              "#7201a8"
             ],
             [
              0.3333333333333333,
              "#9c179e"
             ],
             [
              0.4444444444444444,
              "#bd3786"
             ],
             [
              0.5555555555555556,
              "#d8576b"
             ],
             [
              0.6666666666666666,
              "#ed7953"
             ],
             [
              0.7777777777777778,
              "#fb9f3a"
             ],
             [
              0.8888888888888888,
              "#fdca26"
             ],
             [
              1,
              "#f0f921"
             ]
            ],
            "type": "histogram2d"
           }
          ],
          "histogram2dcontour": [
           {
            "colorbar": {
             "outlinewidth": 0,
             "ticks": ""
            },
            "colorscale": [
             [
              0,
              "#0d0887"
             ],
             [
              0.1111111111111111,
              "#46039f"
             ],
             [
              0.2222222222222222,
              "#7201a8"
             ],
             [
              0.3333333333333333,
              "#9c179e"
             ],
             [
              0.4444444444444444,
              "#bd3786"
             ],
             [
              0.5555555555555556,
              "#d8576b"
             ],
             [
              0.6666666666666666,
              "#ed7953"
             ],
             [
              0.7777777777777778,
              "#fb9f3a"
             ],
             [
              0.8888888888888888,
              "#fdca26"
             ],
             [
              1,
              "#f0f921"
             ]
            ],
            "type": "histogram2dcontour"
           }
          ],
          "mesh3d": [
           {
            "colorbar": {
             "outlinewidth": 0,
             "ticks": ""
            },
            "type": "mesh3d"
           }
          ],
          "parcoords": [
           {
            "line": {
             "colorbar": {
              "outlinewidth": 0,
              "ticks": ""
             }
            },
            "type": "parcoords"
           }
          ],
          "pie": [
           {
            "automargin": true,
            "type": "pie"
           }
          ],
          "scatter": [
           {
            "fillpattern": {
             "fillmode": "overlay",
             "size": 10,
             "solidity": 0.2
            },
            "type": "scatter"
           }
          ],
          "scatter3d": [
           {
            "line": {
             "colorbar": {
              "outlinewidth": 0,
              "ticks": ""
             }
            },
            "marker": {
             "colorbar": {
              "outlinewidth": 0,
              "ticks": ""
             }
            },
            "type": "scatter3d"
           }
          ],
          "scattercarpet": [
           {
            "marker": {
             "colorbar": {
              "outlinewidth": 0,
              "ticks": ""
             }
            },
            "type": "scattercarpet"
           }
          ],
          "scattergeo": [
           {
            "marker": {
             "colorbar": {
              "outlinewidth": 0,
              "ticks": ""
             }
            },
            "type": "scattergeo"
           }
          ],
          "scattergl": [
           {
            "marker": {
             "colorbar": {
              "outlinewidth": 0,
              "ticks": ""
             }
            },
            "type": "scattergl"
           }
          ],
          "scattermapbox": [
           {
            "marker": {
             "colorbar": {
              "outlinewidth": 0,
              "ticks": ""
             }
            },
            "type": "scattermapbox"
           }
          ],
          "scatterpolar": [
           {
            "marker": {
             "colorbar": {
              "outlinewidth": 0,
              "ticks": ""
             }
            },
            "type": "scatterpolar"
           }
          ],
          "scatterpolargl": [
           {
            "marker": {
             "colorbar": {
              "outlinewidth": 0,
              "ticks": ""
             }
            },
            "type": "scatterpolargl"
           }
          ],
          "scatterternary": [
           {
            "marker": {
             "colorbar": {
              "outlinewidth": 0,
              "ticks": ""
             }
            },
            "type": "scatterternary"
           }
          ],
          "surface": [
           {
            "colorbar": {
             "outlinewidth": 0,
             "ticks": ""
            },
            "colorscale": [
             [
              0,
              "#0d0887"
             ],
             [
              0.1111111111111111,
              "#46039f"
             ],
             [
              0.2222222222222222,
              "#7201a8"
             ],
             [
              0.3333333333333333,
              "#9c179e"
             ],
             [
              0.4444444444444444,
              "#bd3786"
             ],
             [
              0.5555555555555556,
              "#d8576b"
             ],
             [
              0.6666666666666666,
              "#ed7953"
             ],
             [
              0.7777777777777778,
              "#fb9f3a"
             ],
             [
              0.8888888888888888,
              "#fdca26"
             ],
             [
              1,
              "#f0f921"
             ]
            ],
            "type": "surface"
           }
          ],
          "table": [
           {
            "cells": {
             "fill": {
              "color": "#EBF0F8"
             },
             "line": {
              "color": "white"
             }
            },
            "header": {
             "fill": {
              "color": "#C8D4E3"
             },
             "line": {
              "color": "white"
             }
            },
            "type": "table"
           }
          ]
         },
         "layout": {
          "annotationdefaults": {
           "arrowcolor": "#2a3f5f",
           "arrowhead": 0,
           "arrowwidth": 1
          },
          "autotypenumbers": "strict",
          "coloraxis": {
           "colorbar": {
            "outlinewidth": 0,
            "ticks": ""
           }
          },
          "colorscale": {
           "diverging": [
            [
             0,
             "#8e0152"
            ],
            [
             0.1,
             "#c51b7d"
            ],
            [
             0.2,
             "#de77ae"
            ],
            [
             0.3,
             "#f1b6da"
            ],
            [
             0.4,
             "#fde0ef"
            ],
            [
             0.5,
             "#f7f7f7"
            ],
            [
             0.6,
             "#e6f5d0"
            ],
            [
             0.7,
             "#b8e186"
            ],
            [
             0.8,
             "#7fbc41"
            ],
            [
             0.9,
             "#4d9221"
            ],
            [
             1,
             "#276419"
            ]
           ],
           "sequential": [
            [
             0,
             "#0d0887"
            ],
            [
             0.1111111111111111,
             "#46039f"
            ],
            [
             0.2222222222222222,
             "#7201a8"
            ],
            [
             0.3333333333333333,
             "#9c179e"
            ],
            [
             0.4444444444444444,
             "#bd3786"
            ],
            [
             0.5555555555555556,
             "#d8576b"
            ],
            [
             0.6666666666666666,
             "#ed7953"
            ],
            [
             0.7777777777777778,
             "#fb9f3a"
            ],
            [
             0.8888888888888888,
             "#fdca26"
            ],
            [
             1,
             "#f0f921"
            ]
           ],
           "sequentialminus": [
            [
             0,
             "#0d0887"
            ],
            [
             0.1111111111111111,
             "#46039f"
            ],
            [
             0.2222222222222222,
             "#7201a8"
            ],
            [
             0.3333333333333333,
             "#9c179e"
            ],
            [
             0.4444444444444444,
             "#bd3786"
            ],
            [
             0.5555555555555556,
             "#d8576b"
            ],
            [
             0.6666666666666666,
             "#ed7953"
            ],
            [
             0.7777777777777778,
             "#fb9f3a"
            ],
            [
             0.8888888888888888,
             "#fdca26"
            ],
            [
             1,
             "#f0f921"
            ]
           ]
          },
          "colorway": [
           "#636efa",
           "#EF553B",
           "#00cc96",
           "#ab63fa",
           "#FFA15A",
           "#19d3f3",
           "#FF6692",
           "#B6E880",
           "#FF97FF",
           "#FECB52"
          ],
          "font": {
           "color": "#2a3f5f"
          },
          "geo": {
           "bgcolor": "white",
           "lakecolor": "white",
           "landcolor": "#E5ECF6",
           "showlakes": true,
           "showland": true,
           "subunitcolor": "white"
          },
          "hoverlabel": {
           "align": "left"
          },
          "hovermode": "closest",
          "mapbox": {
           "style": "light"
          },
          "paper_bgcolor": "white",
          "plot_bgcolor": "#E5ECF6",
          "polar": {
           "angularaxis": {
            "gridcolor": "white",
            "linecolor": "white",
            "ticks": ""
           },
           "bgcolor": "#E5ECF6",
           "radialaxis": {
            "gridcolor": "white",
            "linecolor": "white",
            "ticks": ""
           }
          },
          "scene": {
           "xaxis": {
            "backgroundcolor": "#E5ECF6",
            "gridcolor": "white",
            "gridwidth": 2,
            "linecolor": "white",
            "showbackground": true,
            "ticks": "",
            "zerolinecolor": "white"
           },
           "yaxis": {
            "backgroundcolor": "#E5ECF6",
            "gridcolor": "white",
            "gridwidth": 2,
            "linecolor": "white",
            "showbackground": true,
            "ticks": "",
            "zerolinecolor": "white"
           },
           "zaxis": {
            "backgroundcolor": "#E5ECF6",
            "gridcolor": "white",
            "gridwidth": 2,
            "linecolor": "white",
            "showbackground": true,
            "ticks": "",
            "zerolinecolor": "white"
           }
          },
          "shapedefaults": {
           "line": {
            "color": "#2a3f5f"
           }
          },
          "ternary": {
           "aaxis": {
            "gridcolor": "white",
            "linecolor": "white",
            "ticks": ""
           },
           "baxis": {
            "gridcolor": "white",
            "linecolor": "white",
            "ticks": ""
           },
           "bgcolor": "#E5ECF6",
           "caxis": {
            "gridcolor": "white",
            "linecolor": "white",
            "ticks": ""
           }
          },
          "title": {
           "x": 0.05
          },
          "xaxis": {
           "automargin": true,
           "gridcolor": "white",
           "linecolor": "white",
           "ticks": "",
           "title": {
            "standoff": 15
           },
           "zerolinecolor": "white",
           "zerolinewidth": 2
          },
          "yaxis": {
           "automargin": true,
           "gridcolor": "white",
           "linecolor": "white",
           "ticks": "",
           "title": {
            "standoff": 15
           },
           "zerolinecolor": "white",
           "zerolinewidth": 2
          }
         }
        },
        "title": {
         "text": "Cross-rank Score vs Tier by Economic Research"
        },
        "width": 1200,
        "xaxis": {
         "anchor": "y",
         "domain": [
          0,
          1
         ],
         "title": {
          "text": "Tier"
         }
        },
        "yaxis": {
         "anchor": "x",
         "domain": [
          0,
          1
         ],
         "title": {
          "text": "Cross-rank Score"
         }
        }
       }
      }
     },
     "metadata": {},
     "output_type": "display_data"
    }
   ],
   "source": [
    "fig = px.scatter(df_tier_rank, \n",
    "                 x=df_tier_rank.index, \n",
    "                 y=\"crscore\", \n",
    "#                trendline=\"lowess\",\n",
    "#                trendline_options=dict(frac=0.5),\n",
    "                 color=\"crscore\",\n",
    "\t\t\t\t size=\"totalcoau\",\n",
    "\t\t\t\t size_max=150,\n",
    "                 color_continuous_scale=px.colors.sequential.Purp,\n",
    "                 text=\"txt\"\n",
    "                 )\n",
    "\n",
    "fig.update_traces(marker=dict(\n",
    "                  line=dict(width=3,\n",
    "                  color='Skyblue')),\n",
    "                  textposition='middle center',\n",
    "\t\t\t\t )\n",
    "\t\t\t\t \n",
    "fig.update_layout(title_text = \"Cross-rank Score vs Tier by Economic Research\",\n",
    "                  xaxis_title = \"Tier\",\n",
    "                  yaxis_title = \"Cross-rank Score\",\n",
    "#                 template = \"plotly_dark\",\n",
    "                  width = 1200,\n",
    "                  height = 800,\n",
    "                  legend=dict(\n",
    "                  yanchor=\"bottom\",\n",
    "                  y=1.00,\n",
    "                  xanchor=\"left\",\n",
    "                  x=0.35\n",
    "                  )\n",
    "                  )\n",
    "fig.show()"
   ]
  },
  {
   "attachments": {},
   "cell_type": "markdown",
   "metadata": {},
   "source": [
    "Upward or downward collaboration?"
   ]
  },
  {
   "cell_type": "code",
   "execution_count": 102,
   "metadata": {},
   "outputs": [
    {
     "data": {
      "text/html": [
       "<div>\n",
       "<style scoped>\n",
       "    .dataframe tbody tr th:only-of-type {\n",
       "        vertical-align: middle;\n",
       "    }\n",
       "\n",
       "    .dataframe tbody tr th {\n",
       "        vertical-align: top;\n",
       "    }\n",
       "\n",
       "    .dataframe thead th {\n",
       "        text-align: right;\n",
       "    }\n",
       "</style>\n",
       "<table border=\"1\" class=\"dataframe\">\n",
       "  <thead>\n",
       "    <tr style=\"text-align: right;\">\n",
       "      <th></th>\n",
       "      <th>rank</th>\n",
       "    </tr>\n",
       "    <tr>\n",
       "      <th>name</th>\n",
       "      <th></th>\n",
       "    </tr>\n",
       "  </thead>\n",
       "  <tbody>\n",
       "    <tr>\n",
       "      <th>INSEAD</th>\n",
       "      <td></td>\n",
       "    </tr>\n",
       "    <tr>\n",
       "      <th>Wilfrid Laurier University</th>\n",
       "      <td></td>\n",
       "    </tr>\n",
       "    <tr>\n",
       "      <th>University of California, Irvine</th>\n",
       "      <td></td>\n",
       "    </tr>\n",
       "    <tr>\n",
       "      <th>University of Lugano</th>\n",
       "      <td></td>\n",
       "    </tr>\n",
       "    <tr>\n",
       "      <th>Massey University</th>\n",
       "      <td></td>\n",
       "    </tr>\n",
       "  </tbody>\n",
       "</table>\n",
       "</div>"
      ],
      "text/plain": [
       "                                 rank\n",
       "name                                 \n",
       "INSEAD                               \n",
       "Wilfrid Laurier University           \n",
       "University of California, Irvine     \n",
       "University of Lugano                 \n",
       "Massey University                    "
      ]
     },
     "execution_count": 102,
     "metadata": {},
     "output_type": "execute_result"
    }
   ],
   "source": [
    "df_univ_unranked = df[[\"name\",\"rank\"]][df[\"rank\"] == \"\"].drop_duplicates().set_index(\"name\")\n",
    "df_univ_unranked.head()"
   ]
  },
  {
   "cell_type": "code",
   "execution_count": 111,
   "metadata": {},
   "outputs": [
    {
     "data": {
      "text/html": [
       "<div>\n",
       "<style scoped>\n",
       "    .dataframe tbody tr th:only-of-type {\n",
       "        vertical-align: middle;\n",
       "    }\n",
       "\n",
       "    .dataframe tbody tr th {\n",
       "        vertical-align: top;\n",
       "    }\n",
       "\n",
       "    .dataframe thead th {\n",
       "        text-align: right;\n",
       "    }\n",
       "</style>\n",
       "<table border=\"1\" class=\"dataframe\">\n",
       "  <thead>\n",
       "    <tr style=\"text-align: right;\">\n",
       "      <th></th>\n",
       "      <th>rank</th>\n",
       "      <th>crscore</th>\n",
       "      <th>prob_of_coau_unranked</th>\n",
       "    </tr>\n",
       "    <tr>\n",
       "      <th>name</th>\n",
       "      <th></th>\n",
       "      <th></th>\n",
       "      <th></th>\n",
       "    </tr>\n",
       "  </thead>\n",
       "  <tbody>\n",
       "    <tr>\n",
       "      <th>University of Minnesota</th>\n",
       "      <td>164</td>\n",
       "      <td>118.295950</td>\n",
       "      <td>0.260369</td>\n",
       "    </tr>\n",
       "    <tr>\n",
       "      <th>New York University</th>\n",
       "      <td>50</td>\n",
       "      <td>90.403344</td>\n",
       "      <td>0.234400</td>\n",
       "    </tr>\n",
       "    <tr>\n",
       "      <th>London School of Economics</th>\n",
       "      <td>1</td>\n",
       "      <td>96.413699</td>\n",
       "      <td>0.307400</td>\n",
       "    </tr>\n",
       "    <tr>\n",
       "      <th>McMaster University</th>\n",
       "      <td>449</td>\n",
       "      <td>233.791667</td>\n",
       "      <td>0.294118</td>\n",
       "    </tr>\n",
       "    <tr>\n",
       "      <th>Duke University</th>\n",
       "      <td>84</td>\n",
       "      <td>92.403131</td>\n",
       "      <td>0.247423</td>\n",
       "    </tr>\n",
       "  </tbody>\n",
       "</table>\n",
       "</div>"
      ],
      "text/plain": [
       "                            rank     crscore  prob_of_coau_unranked\n",
       "name                                                               \n",
       "University of Minnesota      164  118.295950               0.260369\n",
       "New York University           50   90.403344               0.234400\n",
       "London School of Economics     1   96.413699               0.307400\n",
       "McMaster University          449  233.791667               0.294118\n",
       "Duke University               84   92.403131               0.247423"
      ]
     },
     "execution_count": 111,
     "metadata": {},
     "output_type": "execute_result"
    }
   ],
   "source": [
    "# the probability of working with an institution that is not ranked\n",
    "\n",
    "unrankedprobs = []\n",
    "\n",
    "for univ in df_univ_rank.index:\n",
    "    sum_coau_num = 0\n",
    "    sum_unranked = 0\n",
    "    for link in links_all:\n",
    "        if univ in link:\n",
    "            sum_coau_num += link[2]   # add on to coauthor number\n",
    "            if (link[0] in list(df_univ_unranked.index)) or (link[1] in list(df_univ_unranked.index)):\n",
    "                sum_unranked += link[2]   # add on to unranked count\n",
    "            \n",
    "    # append to list\n",
    "    try:\n",
    "        unrankedprobs.append(sum_unranked / sum_coau_num)\n",
    "    except:\n",
    "        unrankedprobs.append(0)\n",
    "\n",
    "df_univ_rank[\"prob_of_coau_unranked\"] = unrankedprobs\n",
    "df_univ_rank.head()"
   ]
  },
  {
   "cell_type": "code",
   "execution_count": 112,
   "metadata": {},
   "outputs": [
    {
     "data": {
      "text/plain": [
       "<AxesSubplot:xlabel='rank', ylabel='prob_of_coau_unranked'>"
      ]
     },
     "execution_count": 112,
     "metadata": {},
     "output_type": "execute_result"
    },
    {
     "data": {
      "image/png": "[encoded data removed]",
      "text/plain": [
       "<Figure size 432x288 with 1 Axes>"
      ]
     },
     "metadata": {
      "needs_background": "light"
     },
     "output_type": "display_data"
    }
   ],
   "source": [
    "df_univ_rank.plot.scatter(x=\"rank\",y=\"prob_of_coau_unranked\")"
   ]
  },
  {
   "cell_type": "code",
   "execution_count": 113,
   "metadata": {},
   "outputs": [
    {
     "data": {
      "text/html": [
       "<div>\n",
       "<style scoped>\n",
       "    .dataframe tbody tr th:only-of-type {\n",
       "        vertical-align: middle;\n",
       "    }\n",
       "\n",
       "    .dataframe tbody tr th {\n",
       "        vertical-align: top;\n",
       "    }\n",
       "\n",
       "    .dataframe thead th {\n",
       "        text-align: right;\n",
       "    }\n",
       "</style>\n",
       "<table border=\"1\" class=\"dataframe\">\n",
       "  <thead>\n",
       "    <tr style=\"text-align: right;\">\n",
       "      <th></th>\n",
       "      <th>rank</th>\n",
       "      <th>crscore</th>\n",
       "      <th>prob_of_coau_unranked</th>\n",
       "      <th>prob_of_coau_top50ranked</th>\n",
       "    </tr>\n",
       "    <tr>\n",
       "      <th>name</th>\n",
       "      <th></th>\n",
       "      <th></th>\n",
       "      <th></th>\n",
       "      <th></th>\n",
       "    </tr>\n",
       "  </thead>\n",
       "  <tbody>\n",
       "    <tr>\n",
       "      <th>University of Minnesota</th>\n",
       "      <td>164</td>\n",
       "      <td>118.295950</td>\n",
       "      <td>0.260369</td>\n",
       "      <td>0.235023</td>\n",
       "    </tr>\n",
       "    <tr>\n",
       "      <th>New York University</th>\n",
       "      <td>50</td>\n",
       "      <td>90.403344</td>\n",
       "      <td>0.234400</td>\n",
       "      <td>0.363200</td>\n",
       "    </tr>\n",
       "    <tr>\n",
       "      <th>London School of Economics</th>\n",
       "      <td>1</td>\n",
       "      <td>96.413699</td>\n",
       "      <td>0.307400</td>\n",
       "      <td>0.378558</td>\n",
       "    </tr>\n",
       "    <tr>\n",
       "      <th>McMaster University</th>\n",
       "      <td>449</td>\n",
       "      <td>233.791667</td>\n",
       "      <td>0.294118</td>\n",
       "      <td>0.073529</td>\n",
       "    </tr>\n",
       "    <tr>\n",
       "      <th>Duke University</th>\n",
       "      <td>84</td>\n",
       "      <td>92.403131</td>\n",
       "      <td>0.247423</td>\n",
       "      <td>0.281296</td>\n",
       "    </tr>\n",
       "  </tbody>\n",
       "</table>\n",
       "</div>"
      ],
      "text/plain": [
       "                            rank     crscore  prob_of_coau_unranked  \\\n",
       "name                                                                  \n",
       "University of Minnesota      164  118.295950               0.260369   \n",
       "New York University           50   90.403344               0.234400   \n",
       "London School of Economics     1   96.413699               0.307400   \n",
       "McMaster University          449  233.791667               0.294118   \n",
       "Duke University               84   92.403131               0.247423   \n",
       "\n",
       "                            prob_of_coau_top50ranked  \n",
       "name                                                  \n",
       "University of Minnesota                     0.235023  \n",
       "New York University                         0.363200  \n",
       "London School of Economics                  0.378558  \n",
       "McMaster University                         0.073529  \n",
       "Duke University                             0.281296  "
      ]
     },
     "execution_count": 113,
     "metadata": {},
     "output_type": "execute_result"
    }
   ],
   "source": [
    "# the probability of working with an institution that ranked top 50\n",
    "\n",
    "top50rankedprobs = []\n",
    "\n",
    "for univ in df_univ_rank.index:\n",
    "    sum_coau_num = 0\n",
    "    sum_top50ranked = 0\n",
    "    for link in links_all:\n",
    "        if univ in link:\n",
    "            sum_coau_num += link[2]   # add on to coauthor number\n",
    "            if univ == link[0]:\n",
    "                try:\n",
    "                    corank = int(df_univ_rank.loc[link[1],\"rank\"])\n",
    "                except:\n",
    "                    corank = 1000\n",
    "            else:\n",
    "                try:\n",
    "                    corank = int(df_univ_rank.loc[link[0],\"rank\"])\n",
    "                except:\n",
    "                    corank = 1000\n",
    "            # add if corank <= 50\n",
    "            if corank <= 50:\n",
    "                sum_top50ranked += link[2]\n",
    "\n",
    "    # append to list\n",
    "    try:\n",
    "        top50rankedprobs.append(sum_top50ranked / sum_coau_num)\n",
    "    except:\n",
    "        top50rankedprobs.append(0)\n",
    "\n",
    "df_univ_rank[\"prob_of_coau_top50ranked\"] = top50rankedprobs\n",
    "df_univ_rank.head()"
   ]
  },
  {
   "cell_type": "code",
   "execution_count": 114,
   "metadata": {},
   "outputs": [
    {
     "data": {
      "text/plain": [
       "<AxesSubplot:xlabel='rank', ylabel='prob_of_coau_top50ranked'>"
      ]
     },
     "execution_count": 114,
     "metadata": {},
     "output_type": "execute_result"
    },
    {
     "data": {
      "image/png": "[encoded data removed]",
      "text/plain": [
       "<Figure size 432x288 with 1 Axes>"
      ]
     },
     "metadata": {
      "needs_background": "light"
     },
     "output_type": "display_data"
    }
   ],
   "source": [
    "df_univ_rank.plot.scatter(x=\"rank\",y=\"prob_of_coau_top50ranked\")"
   ]
  }
 ],
 "metadata": {
  "kernelspec": {
   "display_name": "base",
   "language": "python",
   "name": "python3"
  },
  "language_info": {
   "codemirror_mode": {
    "name": "ipython",
    "version": 3
   },
   "file_extension": ".py",
   "mimetype": "text/x-python",
   "name": "python",
   "nbconvert_exporter": "python",
   "pygments_lexer": "ipython3",
   "version": "3.9.12"
  },
  "orig_nbformat": 4,
  "vscode": {
   "interpreter": {
    "hash": "49cb93f377a7abe7414b7b0f21fb3017538004a126cf690fb524202736b7fb92"
   }
  }
 },
 "nbformat": 4,
 "nbformat_minor": 2
}
