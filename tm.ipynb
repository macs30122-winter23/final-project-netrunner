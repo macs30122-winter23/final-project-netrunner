{
 "cells": [
  {
   "attachments": {},
   "cell_type": "markdown",
   "metadata": {},
   "source": [
    "# Topic Modeling for Abstract - BERTopic"
   ]
  },
  {
   "cell_type": "code",
   "execution_count": 20,
   "metadata": {},
   "outputs": [
    {
     "name": "stderr",
     "output_type": "stream",
     "text": [
      "[nltk_data] Downloading package stopwords to C:\\Users\\Jerry\n",
      "[nltk_data]     CHENG\\AppData\\Roaming\\nltk_data...\n",
      "[nltk_data]   Package stopwords is already up-to-date!\n"
     ]
    }
   ],
   "source": [
    "# import libraries\n",
    "from bertopic import BERTopic\n",
    "import pandas as pd\n",
    "import sqlite3\n",
    "from umap import UMAP\n",
    "import nltk\n",
    "from nltk.corpus import stopwords\n",
    "nltk.download('stopwords')\n",
    "from nltk.tokenize import word_tokenize"
   ]
  },
  {
   "cell_type": "code",
   "execution_count": 2,
   "metadata": {},
   "outputs": [],
   "source": [
    "# connect to database\n",
    "conn = sqlite3.connect(\"econtop.db\")\n",
    "cur = conn.cursor()"
   ]
  },
  {
   "cell_type": "code",
   "execution_count": 3,
   "metadata": {},
   "outputs": [
    {
     "data": {
      "text/html": [
       "<div>\n",
       "<style scoped>\n",
       "    .dataframe tbody tr th:only-of-type {\n",
       "        vertical-align: middle;\n",
       "    }\n",
       "\n",
       "    .dataframe tbody tr th {\n",
       "        vertical-align: top;\n",
       "    }\n",
       "\n",
       "    .dataframe thead th {\n",
       "        text-align: right;\n",
       "    }\n",
       "</style>\n",
       "<table border=\"1\" class=\"dataframe\">\n",
       "  <thead>\n",
       "    <tr style=\"text-align: right;\">\n",
       "      <th></th>\n",
       "      <th>journal</th>\n",
       "      <th>title</th>\n",
       "      <th>abstract</th>\n",
       "      <th>date</th>\n",
       "    </tr>\n",
       "  </thead>\n",
       "  <tbody>\n",
       "    <tr>\n",
       "      <th>0</th>\n",
       "      <td>Review of Financial Studies</td>\n",
       "      <td>The Inventory Growth Spread</td>\n",
       "      <td>Previous studies show that firms with low inve...</td>\n",
       "      <td>2012-01-15</td>\n",
       "    </tr>\n",
       "    <tr>\n",
       "      <th>2</th>\n",
       "      <td>Review of Financial Studies</td>\n",
       "      <td>Takeovers and Divergence of Investor Opinion</td>\n",
       "      <td>We test several hypotheses on how takeover pre...</td>\n",
       "      <td>2012-01-15</td>\n",
       "    </tr>\n",
       "    <tr>\n",
       "      <th>3</th>\n",
       "      <td>Review of Financial Studies</td>\n",
       "      <td>Corporate Governance Objectives of Labor Union...</td>\n",
       "      <td>Labor union pension funds have become increasi...</td>\n",
       "      <td>2012-01-15</td>\n",
       "    </tr>\n",
       "    <tr>\n",
       "      <th>4</th>\n",
       "      <td>Review of Financial Studies</td>\n",
       "      <td>Managerial Attributes and Executive Compensation</td>\n",
       "      <td>We study the role of firm- and manager-specifi...</td>\n",
       "      <td>2012-01-15</td>\n",
       "    </tr>\n",
       "    <tr>\n",
       "      <th>7</th>\n",
       "      <td>Review of Financial Studies</td>\n",
       "      <td>The Road Less Traveled: Strategy Distinctivene...</td>\n",
       "      <td>We investigate whether skilled hedge fund mana...</td>\n",
       "      <td>2012-01-15</td>\n",
       "    </tr>\n",
       "  </tbody>\n",
       "</table>\n",
       "</div>"
      ],
      "text/plain": [
       "                       journal  \\\n",
       "0  Review of Financial Studies   \n",
       "2  Review of Financial Studies   \n",
       "3  Review of Financial Studies   \n",
       "4  Review of Financial Studies   \n",
       "7  Review of Financial Studies   \n",
       "\n",
       "                                               title  \\\n",
       "0                        The Inventory Growth Spread   \n",
       "2       Takeovers and Divergence of Investor Opinion   \n",
       "3  Corporate Governance Objectives of Labor Union...   \n",
       "4   Managerial Attributes and Executive Compensation   \n",
       "7  The Road Less Traveled: Strategy Distinctivene...   \n",
       "\n",
       "                                            abstract       date  \n",
       "0  Previous studies show that firms with low inve... 2012-01-15  \n",
       "2  We test several hypotheses on how takeover pre... 2012-01-15  \n",
       "3  Labor union pension funds have become increasi... 2012-01-15  \n",
       "4  We study the role of firm- and manager-specifi... 2012-01-15  \n",
       "7  We investigate whether skilled hedge fund mana... 2012-01-15  "
      ]
     },
     "execution_count": 3,
     "metadata": {},
     "output_type": "execute_result"
    }
   ],
   "source": [
    "# extract title, abstract, date, and journal from database, starting from 2012-2022\n",
    "q = \"\"\"\n",
    "    SELECT art.journal, art.title, art.abstract, art.date\n",
    "    FROM author_article AS aa JOIN author AS au JOIN article AS art JOIN affiliation AS af\n",
    "    ON aa.authorid = au.authorid AND\n",
    "    aa.doi = art.doi AND\n",
    "    au.affiliationid = af.affiliationid\n",
    "    WHERE art.date >= '2012-01-01' AND\n",
    "    art.date < '2023-01-01'\n",
    "    \"\"\"\n",
    "\n",
    "# remove duplicated abstracts, set as strings\n",
    "df = pd.read_sql_query(q, conn).drop_duplicates(subset=[\"abstract\"]).astype(\"str\")\n",
    "df[\"date\"] = pd.to_datetime(df[\"date\"])   # convert date to datetime\n",
    "df.head()"
   ]
  },
  {
   "cell_type": "code",
   "execution_count": 4,
   "metadata": {},
   "outputs": [
    {
     "data": {
      "text/plain": [
       "17835"
      ]
     },
     "execution_count": 4,
     "metadata": {},
     "output_type": "execute_result"
    }
   ],
   "source": [
    "len(df)"
   ]
  },
  {
   "cell_type": "code",
   "execution_count": 14,
   "metadata": {},
   "outputs": [
    {
     "data": {
      "text/html": [
       "<div>\n",
       "<style scoped>\n",
       "    .dataframe tbody tr th:only-of-type {\n",
       "        vertical-align: middle;\n",
       "    }\n",
       "\n",
       "    .dataframe tbody tr th {\n",
       "        vertical-align: top;\n",
       "    }\n",
       "\n",
       "    .dataframe thead th {\n",
       "        text-align: right;\n",
       "    }\n",
       "</style>\n",
       "<table border=\"1\" class=\"dataframe\">\n",
       "  <thead>\n",
       "    <tr style=\"text-align: right;\">\n",
       "      <th></th>\n",
       "      <th>journal</th>\n",
       "      <th>title</th>\n",
       "      <th>abstract</th>\n",
       "      <th>date</th>\n",
       "    </tr>\n",
       "  </thead>\n",
       "  <tbody>\n",
       "    <tr>\n",
       "      <th>15395</th>\n",
       "      <td>Review of Economic Studies</td>\n",
       "      <td>A Theory of Monetary Union and Financial Integ...</td>\n",
       "      <td>Since the creation of the euro, capital flows ...</td>\n",
       "      <td>2022-08-01</td>\n",
       "    </tr>\n",
       "    <tr>\n",
       "      <th>15396</th>\n",
       "      <td>Economic Modelling</td>\n",
       "      <td>COVID-19 regulations, culture, and the environ...</td>\n",
       "      <td>The economic and social disruptions caused by ...</td>\n",
       "      <td>2022-08-15</td>\n",
       "    </tr>\n",
       "    <tr>\n",
       "      <th>15397</th>\n",
       "      <td>European Economic Review</td>\n",
       "      <td>Signalling creditworthiness with fiscal austerity</td>\n",
       "      <td>Sovereign borrowers may tighten their fiscal s...</td>\n",
       "      <td>2022-05-15</td>\n",
       "    </tr>\n",
       "    <tr>\n",
       "      <th>15398</th>\n",
       "      <td>Economic Modelling</td>\n",
       "      <td>Unemployment claims during COVID-19 and econom...</td>\n",
       "      <td>Governments want to know how effective COVID-1...</td>\n",
       "      <td>2022-08-15</td>\n",
       "    </tr>\n",
       "    <tr>\n",
       "      <th>15399</th>\n",
       "      <td>Economics Letters</td>\n",
       "      <td>The personal saving rate: Data revisions and f...</td>\n",
       "      <td>Revisions to the U.S. personal saving rate are...</td>\n",
       "      <td>2022-10-15</td>\n",
       "    </tr>\n",
       "  </tbody>\n",
       "</table>\n",
       "</div>"
      ],
      "text/plain": [
       "                          journal  \\\n",
       "15395  Review of Economic Studies   \n",
       "15396          Economic Modelling   \n",
       "15397    European Economic Review   \n",
       "15398          Economic Modelling   \n",
       "15399           Economics Letters   \n",
       "\n",
       "                                                   title  \\\n",
       "15395  A Theory of Monetary Union and Financial Integ...   \n",
       "15396  COVID-19 regulations, culture, and the environ...   \n",
       "15397  Signalling creditworthiness with fiscal austerity   \n",
       "15398  Unemployment claims during COVID-19 and econom...   \n",
       "15399  The personal saving rate: Data revisions and f...   \n",
       "\n",
       "                                                abstract       date  \n",
       "15395  Since the creation of the euro, capital flows ... 2022-08-01  \n",
       "15396  The economic and social disruptions caused by ... 2022-08-15  \n",
       "15397  Sovereign borrowers may tighten their fiscal s... 2022-05-15  \n",
       "15398  Governments want to know how effective COVID-1... 2022-08-15  \n",
       "15399  Revisions to the U.S. personal saving rate are... 2022-10-15  "
      ]
     },
     "execution_count": 14,
     "metadata": {},
     "output_type": "execute_result"
    }
   ],
   "source": [
    "# generate time bins\n",
    "timebins = []\n",
    "for i in range(2023-2012):\n",
    "    timebins.append((pd.to_datetime(str(i+2012)+\"-01-01\"), pd.to_datetime(str(i+2013)+\"-01-01\")))\n",
    "\n",
    "# sample \n",
    "df_s = pd.concat([df[(df[\"date\"] < bin[1]) & (df[\"date\"] >= bin[0])].sample(n=1400, random_state=0) for bin in timebins]).reset_index(drop=True)\n",
    "df_s.tail(5)"
   ]
  },
  {
   "cell_type": "code",
   "execution_count": 15,
   "metadata": {},
   "outputs": [],
   "source": [
    "# df_s = df\n",
    "sw = stopwords.words(\"english\")+[\"jel\"]\n",
    "df_s.abstract = df_s.abstract.apply(lambda x: \" \".join([word for word in word_tokenize(x.lower()) if word not in sw]))"
   ]
  },
  {
   "cell_type": "code",
   "execution_count": 16,
   "metadata": {},
   "outputs": [],
   "source": [
    "abstracts = df_s.abstract.to_list()\n",
    "dates = df_s['date'].to_list()"
   ]
  },
  {
   "cell_type": "code",
   "execution_count": 24,
   "metadata": {},
   "outputs": [
    {
     "data": {
      "application/vnd.jupyter.widget-view+json": {
       "model_id": "88a082e398bd4d0ab05f476bc1acd270",
       "version_major": 2,
       "version_minor": 0
      },
      "text/plain": [
       "Batches:   0%|          | 0/482 [00:00<?, ?it/s]"
      ]
     },
     "metadata": {},
     "output_type": "display_data"
    },
    {
     "name": "stderr",
     "output_type": "stream",
     "text": [
      "2023-02-25 18:10:35,436 - BERTopic - Transformed documents to Embeddings\n",
      "2023-02-25 18:10:44,677 - BERTopic - Reduced dimensionality\n",
      "2023-02-25 18:10:45,263 - BERTopic - Clustered reduced embeddings\n",
      "30it [00:05,  5.03it/s]\n"
     ]
    }
   ],
   "source": [
    "umap_model = UMAP(n_neighbors=15, n_components=5, \n",
    "                  min_dist=0.0, metric='cosine', random_state=0)\n",
    "\n",
    "topic_model = BERTopic(min_topic_size=50,verbose=True,umap_model=umap_model)\n",
    "topics, probs = topic_model.fit_transform(abstracts)\n",
    "topics_over_time = topic_model.topics_over_time(abstracts, dates, global_tuning=True, evolution_tuning=True, nr_bins=30)"
   ]
  },
  {
   "cell_type": "code",
   "execution_count": 25,
   "metadata": {},
   "outputs": [
    {
     "data": {
      "application/vnd.plotly.v1+json": {
       "config": {
        "plotlyServerURL": "https://plot.ly"
       },
       "data": [
        {
         "customdata": [
          [
           0,
           "model | financial | policy | risk | shocks",
           5501
          ],
          [
           1,
           "information | game | agent | agents | preferences",
           1705
          ],
          [
           2,
           "workers | wage | unemployment | labor | job",
           707
          ],
          [
           3,
           "trade | export | firms | exports | countries",
           627
          ],
          [
           4,
           "consumers | price | firms | competition | market",
           482
          ],
          [
           5,
           "emissions | energy | environmental | pollution | carbon",
           397
          ],
          [
           6,
           "students | school | schools | student | education",
           339
          ],
          [
           7,
           "children | child | marriage | fertility | women",
           302
          ],
          [
           8,
           "tax | taxes | income | taxation | capital",
           298
          ],
          [
           9,
           "voters | political | elections | electoral | party",
           260
          ],
          [
           10,
           "migration | immigration | migrants | immigrants | labor",
           220
          ],
          [
           11,
           "inequality | wealth | income | consumption | households",
           214
          ],
          [
           12,
           "health | insurance | care | hospital | medicare",
           172
          ],
          [
           13,
           "gender | women | female | men | gap",
           164
          ],
          [
           14,
           "agricultural | land | farmers | productivity | agriculture",
           141
          ],
          [
           15,
           "crime | criminal | police | incarceration | crimes",
           129
          ],
          [
           16,
           "productivity | growth | knowledge | innovation | firms",
           128
          ],
          [
           17,
           "conflict | ethnic | terrorism | violence | war",
           125
          ],
          [
           18,
           "patent | innovation | patents | protection | licensing",
           115
          ],
          [
           19,
           "covid19 | pandemic | health | disease | economic",
           93
          ],
          [
           20,
           "infrastructure | cities | transportation | road | agglomeration",
           85
          ],
          [
           21,
           "retirement | pension | security | longevity | life",
           75
          ],
          [
           22,
           "poverty | households | household | poor | income",
           69
          ],
          [
           23,
           "journals | economics | papers | journal | articles",
           68
          ],
          [
           24,
           "price | prices | changes | index | data",
           63
          ]
         ],
         "hovertemplate": "<b>Topic %{customdata[0]}</b><br>%{customdata[1]}<br>Size: %{customdata[2]}",
         "legendgroup": "",
         "marker": {
          "color": "#B0BEC5",
          "line": {
           "color": "DarkSlateGrey",
           "width": 2
          },
          "size": [
           5501,
           1705,
           707,
           627,
           482,
           397,
           339,
           302,
           298,
           260,
           220,
           214,
           172,
           164,
           141,
           129,
           128,
           125,
           115,
           93,
           85,
           75,
           69,
           68,
           63
          ],
          "sizemode": "area",
          "sizeref": 3.438125,
          "symbol": "circle"
         },
         "mode": "markers",
         "name": "",
         "orientation": "v",
         "showlegend": false,
         "type": "scatter",
         "x": [
          7.988585948944092,
          15.973848342895508,
          7.779550075531006,
          15.317917823791504,
          15.597138404846191,
          7.069204330444336,
          0.410335898399353,
          9.555109977722168,
          6.7932024002075195,
          6.8495001792907715,
          9.165020942687988,
          9.335893630981445,
          6.657365322113037,
          0.2747785151004791,
          9.0357666015625,
          9.624520301818848,
          15.792755126953125,
          9.02368450164795,
          16.08644676208496,
          9.333988189697266,
          15.92615032196045,
          7.283089637756348,
          9.389932632446289,
          0.66525799036026,
          9.108819961547852
         ],
         "xaxis": "x",
         "y": [
          4.386720657348633,
          -0.18555404245853424,
          4.656427383422852,
          0.4282633662223816,
          0.1060938835144043,
          2.1285722255706787,
          3.607438564300537,
          5.718546390533447,
          1.8739850521087646,
          2.719123363494873,
          4.932272434234619,
          7.230106353759766,
          2.3285059928894043,
          3.47080659866333,
          5.689114570617676,
          5.072742938995361,
          0.9606862664222717,
          5.266274452209473,
          1.0280675888061523,
          5.510751724243164,
          0.8176698684692383,
          2.3796279430389404,
          7.330688953399658,
          3.861478328704834,
          7.600025177001953
         ],
         "yaxis": "y"
        }
       ],
       "layout": {
        "annotations": [
         {
          "showarrow": false,
          "text": "D1",
          "x": 0.23356173783540726,
          "y": 4.263320902362466,
          "yshift": 10
         },
         {
          "showarrow": false,
          "text": "D2",
          "x": 9.366487757116557,
          "xshift": 10,
          "y": 8.740028953552246
         }
        ],
        "height": 650,
        "hoverlabel": {
         "bgcolor": "white",
         "font": {
          "family": "Rockwell",
          "size": 16
         }
        },
        "legend": {
         "itemsizing": "constant",
         "tracegroupgap": 0
        },
        "margin": {
         "t": 60
        },
        "shapes": [
         {
          "line": {
           "color": "#CFD8DC",
           "width": 2
          },
          "type": "line",
          "x0": 9.366487757116557,
          "x1": 9.366487757116557,
          "y0": -0.21338714882731438,
          "y1": 8.740028953552246
         },
         {
          "line": {
           "color": "#9E9E9E",
           "width": 2
          },
          "type": "line",
          "x0": 0.23356173783540726,
          "x1": 18.499413776397706,
          "y0": 4.263320902362466,
          "y1": 4.263320902362466
         }
        ],
        "sliders": [
         {
          "active": 0,
          "pad": {
           "t": 50
          },
          "steps": [
           {
            "args": [
             {
              "marker.color": [
               [
                "red",
                "#B0BEC5",
                "#B0BEC5",
                "#B0BEC5",
                "#B0BEC5",
                "#B0BEC5",
                "#B0BEC5",
                "#B0BEC5",
                "#B0BEC5",
                "#B0BEC5",
                "#B0BEC5",
                "#B0BEC5",
                "#B0BEC5",
                "#B0BEC5",
                "#B0BEC5",
                "#B0BEC5",
                "#B0BEC5",
                "#B0BEC5",
                "#B0BEC5",
                "#B0BEC5",
                "#B0BEC5",
                "#B0BEC5",
                "#B0BEC5",
                "#B0BEC5",
                "#B0BEC5"
               ]
              ]
             }
            ],
            "label": "Topic 0",
            "method": "update"
           },
           {
            "args": [
             {
              "marker.color": [
               [
                "#B0BEC5",
                "red",
                "#B0BEC5",
                "#B0BEC5",
                "#B0BEC5",
                "#B0BEC5",
                "#B0BEC5",
                "#B0BEC5",
                "#B0BEC5",
                "#B0BEC5",
                "#B0BEC5",
                "#B0BEC5",
                "#B0BEC5",
                "#B0BEC5",
                "#B0BEC5",
                "#B0BEC5",
                "#B0BEC5",
                "#B0BEC5",
                "#B0BEC5",
                "#B0BEC5",
                "#B0BEC5",
                "#B0BEC5",
                "#B0BEC5",
                "#B0BEC5",
                "#B0BEC5"
               ]
              ]
             }
            ],
            "label": "Topic 1",
            "method": "update"
           },
           {
            "args": [
             {
              "marker.color": [
               [
                "#B0BEC5",
                "#B0BEC5",
                "red",
                "#B0BEC5",
                "#B0BEC5",
                "#B0BEC5",
                "#B0BEC5",
                "#B0BEC5",
                "#B0BEC5",
                "#B0BEC5",
                "#B0BEC5",
                "#B0BEC5",
                "#B0BEC5",
                "#B0BEC5",
                "#B0BEC5",
                "#B0BEC5",
                "#B0BEC5",
                "#B0BEC5",
                "#B0BEC5",
                "#B0BEC5",
                "#B0BEC5",
                "#B0BEC5",
                "#B0BEC5",
                "#B0BEC5",
                "#B0BEC5"
               ]
              ]
             }
            ],
            "label": "Topic 2",
            "method": "update"
           },
           {
            "args": [
             {
              "marker.color": [
               [
                "#B0BEC5",
                "#B0BEC5",
                "#B0BEC5",
                "red",
                "#B0BEC5",
                "#B0BEC5",
                "#B0BEC5",
                "#B0BEC5",
                "#B0BEC5",
                "#B0BEC5",
                "#B0BEC5",
                "#B0BEC5",
                "#B0BEC5",
                "#B0BEC5",
                "#B0BEC5",
                "#B0BEC5",
                "#B0BEC5",
                "#B0BEC5",
                "#B0BEC5",
                "#B0BEC5",
                "#B0BEC5",
                "#B0BEC5",
                "#B0BEC5",
                "#B0BEC5",
                "#B0BEC5"
               ]
              ]
             }
            ],
            "label": "Topic 3",
            "method": "update"
           },
           {
            "args": [
             {
              "marker.color": [
               [
                "#B0BEC5",
                "#B0BEC5",
                "#B0BEC5",
                "#B0BEC5",
                "red",
                "#B0BEC5",
                "#B0BEC5",
                "#B0BEC5",
                "#B0BEC5",
                "#B0BEC5",
                "#B0BEC5",
                "#B0BEC5",
                "#B0BEC5",
                "#B0BEC5",
                "#B0BEC5",
                "#B0BEC5",
                "#B0BEC5",
                "#B0BEC5",
                "#B0BEC5",
                "#B0BEC5",
                "#B0BEC5",
                "#B0BEC5",
                "#B0BEC5",
                "#B0BEC5",
                "#B0BEC5"
               ]
              ]
             }
            ],
            "label": "Topic 4",
            "method": "update"
           },
           {
            "args": [
             {
              "marker.color": [
               [
                "#B0BEC5",
                "#B0BEC5",
                "#B0BEC5",
                "#B0BEC5",
                "#B0BEC5",
                "red",
                "#B0BEC5",
                "#B0BEC5",
                "#B0BEC5",
                "#B0BEC5",
                "#B0BEC5",
                "#B0BEC5",
                "#B0BEC5",
                "#B0BEC5",
                "#B0BEC5",
                "#B0BEC5",
                "#B0BEC5",
                "#B0BEC5",
                "#B0BEC5",
                "#B0BEC5",
                "#B0BEC5",
                "#B0BEC5",
                "#B0BEC5",
                "#B0BEC5",
                "#B0BEC5"
               ]
              ]
             }
            ],
            "label": "Topic 5",
            "method": "update"
           },
           {
            "args": [
             {
              "marker.color": [
               [
                "#B0BEC5",
                "#B0BEC5",
                "#B0BEC5",
                "#B0BEC5",
                "#B0BEC5",
                "#B0BEC5",
                "red",
                "#B0BEC5",
                "#B0BEC5",
                "#B0BEC5",
                "#B0BEC5",
                "#B0BEC5",
                "#B0BEC5",
                "#B0BEC5",
                "#B0BEC5",
                "#B0BEC5",
                "#B0BEC5",
                "#B0BEC5",
                "#B0BEC5",
                "#B0BEC5",
                "#B0BEC5",
                "#B0BEC5",
                "#B0BEC5",
                "#B0BEC5",
                "#B0BEC5"
               ]
              ]
             }
            ],
            "label": "Topic 6",
            "method": "update"
           },
           {
            "args": [
             {
              "marker.color": [
               [
                "#B0BEC5",
                "#B0BEC5",
                "#B0BEC5",
                "#B0BEC5",
                "#B0BEC5",
                "#B0BEC5",
                "#B0BEC5",
                "red",
                "#B0BEC5",
                "#B0BEC5",
                "#B0BEC5",
                "#B0BEC5",
                "#B0BEC5",
                "#B0BEC5",
                "#B0BEC5",
                "#B0BEC5",
                "#B0BEC5",
                "#B0BEC5",
                "#B0BEC5",
                "#B0BEC5",
                "#B0BEC5",
                "#B0BEC5",
                "#B0BEC5",
                "#B0BEC5",
                "#B0BEC5"
               ]
              ]
             }
            ],
            "label": "Topic 7",
            "method": "update"
           },
           {
            "args": [
             {
              "marker.color": [
               [
                "#B0BEC5",
                "#B0BEC5",
                "#B0BEC5",
                "#B0BEC5",
                "#B0BEC5",
                "#B0BEC5",
                "#B0BEC5",
                "#B0BEC5",
                "red",
                "#B0BEC5",
                "#B0BEC5",
                "#B0BEC5",
                "#B0BEC5",
                "#B0BEC5",
                "#B0BEC5",
                "#B0BEC5",
                "#B0BEC5",
                "#B0BEC5",
                "#B0BEC5",
                "#B0BEC5",
                "#B0BEC5",
                "#B0BEC5",
                "#B0BEC5",
                "#B0BEC5",
                "#B0BEC5"
               ]
              ]
             }
            ],
            "label": "Topic 8",
            "method": "update"
           },
           {
            "args": [
             {
              "marker.color": [
               [
                "#B0BEC5",
                "#B0BEC5",
                "#B0BEC5",
                "#B0BEC5",
                "#B0BEC5",
                "#B0BEC5",
                "#B0BEC5",
                "#B0BEC5",
                "#B0BEC5",
                "red",
                "#B0BEC5",
                "#B0BEC5",
                "#B0BEC5",
                "#B0BEC5",
                "#B0BEC5",
                "#B0BEC5",
                "#B0BEC5",
                "#B0BEC5",
                "#B0BEC5",
                "#B0BEC5",
                "#B0BEC5",
                "#B0BEC5",
                "#B0BEC5",
                "#B0BEC5",
                "#B0BEC5"
               ]
              ]
             }
            ],
            "label": "Topic 9",
            "method": "update"
           },
           {
            "args": [
             {
              "marker.color": [
               [
                "#B0BEC5",
                "#B0BEC5",
                "#B0BEC5",
                "#B0BEC5",
                "#B0BEC5",
                "#B0BEC5",
                "#B0BEC5",
                "#B0BEC5",
                "#B0BEC5",
                "#B0BEC5",
                "red",
                "#B0BEC5",
                "#B0BEC5",
                "#B0BEC5",
                "#B0BEC5",
                "#B0BEC5",
                "#B0BEC5",
                "#B0BEC5",
                "#B0BEC5",
                "#B0BEC5",
                "#B0BEC5",
                "#B0BEC5",
                "#B0BEC5",
                "#B0BEC5",
                "#B0BEC5"
               ]
              ]
             }
            ],
            "label": "Topic 10",
            "method": "update"
           },
           {
            "args": [
             {
              "marker.color": [
               [
                "#B0BEC5",
                "#B0BEC5",
                "#B0BEC5",
                "#B0BEC5",
                "#B0BEC5",
                "#B0BEC5",
                "#B0BEC5",
                "#B0BEC5",
                "#B0BEC5",
                "#B0BEC5",
                "#B0BEC5",
                "red",
                "#B0BEC5",
                "#B0BEC5",
                "#B0BEC5",
                "#B0BEC5",
                "#B0BEC5",
                "#B0BEC5",
                "#B0BEC5",
                "#B0BEC5",
                "#B0BEC5",
                "#B0BEC5",
                "#B0BEC5",
                "#B0BEC5",
                "#B0BEC5"
               ]
              ]
             }
            ],
            "label": "Topic 11",
            "method": "update"
           },
           {
            "args": [
             {
              "marker.color": [
               [
                "#B0BEC5",
                "#B0BEC5",
                "#B0BEC5",
                "#B0BEC5",
                "#B0BEC5",
                "#B0BEC5",
                "#B0BEC5",
                "#B0BEC5",
                "#B0BEC5",
                "#B0BEC5",
                "#B0BEC5",
                "#B0BEC5",
                "red",
                "#B0BEC5",
                "#B0BEC5",
                "#B0BEC5",
                "#B0BEC5",
                "#B0BEC5",
                "#B0BEC5",
                "#B0BEC5",
                "#B0BEC5",
                "#B0BEC5",
                "#B0BEC5",
                "#B0BEC5",
                "#B0BEC5"
               ]
              ]
             }
            ],
            "label": "Topic 12",
            "method": "update"
           },
           {
            "args": [
             {
              "marker.color": [
               [
                "#B0BEC5",
                "#B0BEC5",
                "#B0BEC5",
                "#B0BEC5",
                "#B0BEC5",
                "#B0BEC5",
                "#B0BEC5",
                "#B0BEC5",
                "#B0BEC5",
                "#B0BEC5",
                "#B0BEC5",
                "#B0BEC5",
                "#B0BEC5",
                "red",
                "#B0BEC5",
                "#B0BEC5",
                "#B0BEC5",
                "#B0BEC5",
                "#B0BEC5",
                "#B0BEC5",
                "#B0BEC5",
                "#B0BEC5",
                "#B0BEC5",
                "#B0BEC5",
                "#B0BEC5"
               ]
              ]
             }
            ],
            "label": "Topic 13",
            "method": "update"
           },
           {
            "args": [
             {
              "marker.color": [
               [
                "#B0BEC5",
                "#B0BEC5",
                "#B0BEC5",
                "#B0BEC5",
                "#B0BEC5",
                "#B0BEC5",
                "#B0BEC5",
                "#B0BEC5",
                "#B0BEC5",
                "#B0BEC5",
                "#B0BEC5",
                "#B0BEC5",
                "#B0BEC5",
                "#B0BEC5",
                "red",
                "#B0BEC5",
                "#B0BEC5",
                "#B0BEC5",
                "#B0BEC5",
                "#B0BEC5",
                "#B0BEC5",
                "#B0BEC5",
                "#B0BEC5",
                "#B0BEC5",
                "#B0BEC5"
               ]
              ]
             }
            ],
            "label": "Topic 14",
            "method": "update"
           },
           {
            "args": [
             {
              "marker.color": [
               [
                "#B0BEC5",
                "#B0BEC5",
                "#B0BEC5",
                "#B0BEC5",
                "#B0BEC5",
                "#B0BEC5",
                "#B0BEC5",
                "#B0BEC5",
                "#B0BEC5",
                "#B0BEC5",
                "#B0BEC5",
                "#B0BEC5",
                "#B0BEC5",
                "#B0BEC5",
                "#B0BEC5",
                "red",
                "#B0BEC5",
                "#B0BEC5",
                "#B0BEC5",
                "#B0BEC5",
                "#B0BEC5",
                "#B0BEC5",
                "#B0BEC5",
                "#B0BEC5",
                "#B0BEC5"
               ]
              ]
             }
            ],
            "label": "Topic 15",
            "method": "update"
           },
           {
            "args": [
             {
              "marker.color": [
               [
                "#B0BEC5",
                "#B0BEC5",
                "#B0BEC5",
                "#B0BEC5",
                "#B0BEC5",
                "#B0BEC5",
                "#B0BEC5",
                "#B0BEC5",
                "#B0BEC5",
                "#B0BEC5",
                "#B0BEC5",
                "#B0BEC5",
                "#B0BEC5",
                "#B0BEC5",
                "#B0BEC5",
                "#B0BEC5",
                "red",
                "#B0BEC5",
                "#B0BEC5",
                "#B0BEC5",
                "#B0BEC5",
                "#B0BEC5",
                "#B0BEC5",
                "#B0BEC5",
                "#B0BEC5"
               ]
              ]
             }
            ],
            "label": "Topic 16",
            "method": "update"
           },
           {
            "args": [
             {
              "marker.color": [
               [
                "#B0BEC5",
                "#B0BEC5",
                "#B0BEC5",
                "#B0BEC5",
                "#B0BEC5",
                "#B0BEC5",
                "#B0BEC5",
                "#B0BEC5",
                "#B0BEC5",
                "#B0BEC5",
                "#B0BEC5",
                "#B0BEC5",
                "#B0BEC5",
                "#B0BEC5",
                "#B0BEC5",
                "#B0BEC5",
                "#B0BEC5",
                "red",
                "#B0BEC5",
                "#B0BEC5",
                "#B0BEC5",
                "#B0BEC5",
                "#B0BEC5",
                "#B0BEC5",
                "#B0BEC5"
               ]
              ]
             }
            ],
            "label": "Topic 17",
            "method": "update"
           },
           {
            "args": [
             {
              "marker.color": [
               [
                "#B0BEC5",
                "#B0BEC5",
                "#B0BEC5",
                "#B0BEC5",
                "#B0BEC5",
                "#B0BEC5",
                "#B0BEC5",
                "#B0BEC5",
                "#B0BEC5",
                "#B0BEC5",
                "#B0BEC5",
                "#B0BEC5",
                "#B0BEC5",
                "#B0BEC5",
                "#B0BEC5",
                "#B0BEC5",
                "#B0BEC5",
                "#B0BEC5",
                "red",
                "#B0BEC5",
                "#B0BEC5",
                "#B0BEC5",
                "#B0BEC5",
                "#B0BEC5",
                "#B0BEC5"
               ]
              ]
             }
            ],
            "label": "Topic 18",
            "method": "update"
           },
           {
            "args": [
             {
              "marker.color": [
               [
                "#B0BEC5",
                "#B0BEC5",
                "#B0BEC5",
                "#B0BEC5",
                "#B0BEC5",
                "#B0BEC5",
                "#B0BEC5",
                "#B0BEC5",
                "#B0BEC5",
                "#B0BEC5",
                "#B0BEC5",
                "#B0BEC5",
                "#B0BEC5",
                "#B0BEC5",
                "#B0BEC5",
                "#B0BEC5",
                "#B0BEC5",
                "#B0BEC5",
                "#B0BEC5",
                "red",
                "#B0BEC5",
                "#B0BEC5",
                "#B0BEC5",
                "#B0BEC5",
                "#B0BEC5"
               ]
              ]
             }
            ],
            "label": "Topic 19",
            "method": "update"
           },
           {
            "args": [
             {
              "marker.color": [
               [
                "#B0BEC5",
                "#B0BEC5",
                "#B0BEC5",
                "#B0BEC5",
                "#B0BEC5",
                "#B0BEC5",
                "#B0BEC5",
                "#B0BEC5",
                "#B0BEC5",
                "#B0BEC5",
                "#B0BEC5",
                "#B0BEC5",
                "#B0BEC5",
                "#B0BEC5",
                "#B0BEC5",
                "#B0BEC5",
                "#B0BEC5",
                "#B0BEC5",
                "#B0BEC5",
                "#B0BEC5",
                "red",
                "#B0BEC5",
                "#B0BEC5",
                "#B0BEC5",
                "#B0BEC5"
               ]
              ]
             }
            ],
            "label": "Topic 20",
            "method": "update"
           },
           {
            "args": [
             {
              "marker.color": [
               [
                "#B0BEC5",
                "#B0BEC5",
                "#B0BEC5",
                "#B0BEC5",
                "#B0BEC5",
                "#B0BEC5",
                "#B0BEC5",
                "#B0BEC5",
                "#B0BEC5",
                "#B0BEC5",
                "#B0BEC5",
                "#B0BEC5",
                "#B0BEC5",
                "#B0BEC5",
                "#B0BEC5",
                "#B0BEC5",
                "#B0BEC5",
                "#B0BEC5",
                "#B0BEC5",
                "#B0BEC5",
                "#B0BEC5",
                "red",
                "#B0BEC5",
                "#B0BEC5",
                "#B0BEC5"
               ]
              ]
             }
            ],
            "label": "Topic 21",
            "method": "update"
           },
           {
            "args": [
             {
              "marker.color": [
               [
                "#B0BEC5",
                "#B0BEC5",
                "#B0BEC5",
                "#B0BEC5",
                "#B0BEC5",
                "#B0BEC5",
                "#B0BEC5",
                "#B0BEC5",
                "#B0BEC5",
                "#B0BEC5",
                "#B0BEC5",
                "#B0BEC5",
                "#B0BEC5",
                "#B0BEC5",
                "#B0BEC5",
                "#B0BEC5",
                "#B0BEC5",
                "#B0BEC5",
                "#B0BEC5",
                "#B0BEC5",
                "#B0BEC5",
                "#B0BEC5",
                "red",
                "#B0BEC5",
                "#B0BEC5"
               ]
              ]
             }
            ],
            "label": "Topic 22",
            "method": "update"
           },
           {
            "args": [
             {
              "marker.color": [
               [
                "#B0BEC5",
                "#B0BEC5",
                "#B0BEC5",
                "#B0BEC5",
                "#B0BEC5",
                "#B0BEC5",
                "#B0BEC5",
                "#B0BEC5",
                "#B0BEC5",
                "#B0BEC5",
                "#B0BEC5",
                "#B0BEC5",
                "#B0BEC5",
                "#B0BEC5",
                "#B0BEC5",
                "#B0BEC5",
                "#B0BEC5",
                "#B0BEC5",
                "#B0BEC5",
                "#B0BEC5",
                "#B0BEC5",
                "#B0BEC5",
                "#B0BEC5",
                "red",
                "#B0BEC5"
               ]
              ]
             }
            ],
            "label": "Topic 23",
            "method": "update"
           },
           {
            "args": [
             {
              "marker.color": [
               [
                "#B0BEC5",
                "#B0BEC5",
                "#B0BEC5",
                "#B0BEC5",
                "#B0BEC5",
                "#B0BEC5",
                "#B0BEC5",
                "#B0BEC5",
                "#B0BEC5",
                "#B0BEC5",
                "#B0BEC5",
                "#B0BEC5",
                "#B0BEC5",
                "#B0BEC5",
                "#B0BEC5",
                "#B0BEC5",
                "#B0BEC5",
                "#B0BEC5",
                "#B0BEC5",
                "#B0BEC5",
                "#B0BEC5",
                "#B0BEC5",
                "#B0BEC5",
                "#B0BEC5",
                "red"
               ]
              ]
             }
            ],
            "label": "Topic 24",
            "method": "update"
           }
          ]
         }
        ],
        "template": {
         "data": {
          "bar": [
           {
            "error_x": {
             "color": "rgb(36,36,36)"
            },
            "error_y": {
             "color": "rgb(36,36,36)"
            },
            "marker": {
             "line": {
              "color": "white",
              "width": 0.5
             },
             "pattern": {
              "fillmode": "overlay",
              "size": 10,
              "solidity": 0.2
             }
            },
            "type": "bar"
           }
          ],
          "barpolar": [
           {
            "marker": {
             "line": {
              "color": "white",
              "width": 0.5
             },
             "pattern": {
              "fillmode": "overlay",
              "size": 10,
              "solidity": 0.2
             }
            },
            "type": "barpolar"
           }
          ],
          "carpet": [
           {
            "aaxis": {
             "endlinecolor": "rgb(36,36,36)",
             "gridcolor": "white",
             "linecolor": "white",
             "minorgridcolor": "white",
             "startlinecolor": "rgb(36,36,36)"
            },
            "baxis": {
             "endlinecolor": "rgb(36,36,36)",
             "gridcolor": "white",
             "linecolor": "white",
             "minorgridcolor": "white",
             "startlinecolor": "rgb(36,36,36)"
            },
            "type": "carpet"
           }
          ],
          "choropleth": [
           {
            "colorbar": {
             "outlinewidth": 1,
             "tickcolor": "rgb(36,36,36)",
             "ticks": "outside"
            },
            "type": "choropleth"
           }
          ],
          "contour": [
           {
            "colorbar": {
             "outlinewidth": 1,
             "tickcolor": "rgb(36,36,36)",
             "ticks": "outside"
            },
            "colorscale": [
             [
              0,
              "#440154"
             ],
             [
              0.1111111111111111,
              "#482878"
             ],
             [
              0.2222222222222222,
              "#3e4989"
             ],
             [
              0.3333333333333333,
              "#31688e"
             ],
             [
              0.4444444444444444,
              "#26828e"
             ],
             [
              0.5555555555555556,
              "#1f9e89"
             ],
             [
              0.6666666666666666,
              "#35b779"
             ],
             [
              0.7777777777777778,
              "#6ece58"
             ],
             [
              0.8888888888888888,
              "#b5de2b"
             ],
             [
              1,
              "#fde725"
             ]
            ],
            "type": "contour"
           }
          ],
          "contourcarpet": [
           {
            "colorbar": {
             "outlinewidth": 1,
             "tickcolor": "rgb(36,36,36)",
             "ticks": "outside"
            },
            "type": "contourcarpet"
           }
          ],
          "heatmap": [
           {
            "colorbar": {
             "outlinewidth": 1,
             "tickcolor": "rgb(36,36,36)",
             "ticks": "outside"
            },
            "colorscale": [
             [
              0,
              "#440154"
             ],
             [
              0.1111111111111111,
              "#482878"
             ],
             [
              0.2222222222222222,
              "#3e4989"
             ],
             [
              0.3333333333333333,
              "#31688e"
             ],
             [
              0.4444444444444444,
              "#26828e"
             ],
             [
              0.5555555555555556,
              "#1f9e89"
             ],
             [
              0.6666666666666666,
              "#35b779"
             ],
             [
              0.7777777777777778,
              "#6ece58"
             ],
             [
              0.8888888888888888,
              "#b5de2b"
             ],
             [
              1,
              "#fde725"
             ]
            ],
            "type": "heatmap"
           }
          ],
          "heatmapgl": [
           {
            "colorbar": {
             "outlinewidth": 1,
             "tickcolor": "rgb(36,36,36)",
             "ticks": "outside"
            },
            "colorscale": [
             [
              0,
              "#440154"
             ],
             [
              0.1111111111111111,
              "#482878"
             ],
             [
              0.2222222222222222,
              "#3e4989"
             ],
             [
              0.3333333333333333,
              "#31688e"
             ],
             [
              0.4444444444444444,
              "#26828e"
             ],
             [
              0.5555555555555556,
              "#1f9e89"
             ],
             [
              0.6666666666666666,
              "#35b779"
             ],
             [
              0.7777777777777778,
              "#6ece58"
             ],
             [
              0.8888888888888888,
              "#b5de2b"
             ],
             [
              1,
              "#fde725"
             ]
            ],
            "type": "heatmapgl"
           }
          ],
          "histogram": [
           {
            "marker": {
             "line": {
              "color": "white",
              "width": 0.6
             }
            },
            "type": "histogram"
           }
          ],
          "histogram2d": [
           {
            "colorbar": {
             "outlinewidth": 1,
             "tickcolor": "rgb(36,36,36)",
             "ticks": "outside"
            },
            "colorscale": [
             [
              0,
              "#440154"
             ],
             [
              0.1111111111111111,
              "#482878"
             ],
             [
              0.2222222222222222,
              "#3e4989"
             ],
             [
              0.3333333333333333,
              "#31688e"
             ],
             [
              0.4444444444444444,
              "#26828e"
             ],
             [
              0.5555555555555556,
              "#1f9e89"
             ],
             [
              0.6666666666666666,
              "#35b779"
             ],
             [
              0.7777777777777778,
              "#6ece58"
             ],
             [
              0.8888888888888888,
              "#b5de2b"
             ],
             [
              1,
              "#fde725"
             ]
            ],
            "type": "histogram2d"
           }
          ],
          "histogram2dcontour": [
           {
            "colorbar": {
             "outlinewidth": 1,
             "tickcolor": "rgb(36,36,36)",
             "ticks": "outside"
            },
            "colorscale": [
             [
              0,
              "#440154"
             ],
             [
              0.1111111111111111,
              "#482878"
             ],
             [
              0.2222222222222222,
              "#3e4989"
             ],
             [
              0.3333333333333333,
              "#31688e"
             ],
             [
              0.4444444444444444,
              "#26828e"
             ],
             [
              0.5555555555555556,
              "#1f9e89"
             ],
             [
              0.6666666666666666,
              "#35b779"
             ],
             [
              0.7777777777777778,
              "#6ece58"
             ],
             [
              0.8888888888888888,
              "#b5de2b"
             ],
             [
              1,
              "#fde725"
             ]
            ],
            "type": "histogram2dcontour"
           }
          ],
          "mesh3d": [
           {
            "colorbar": {
             "outlinewidth": 1,
             "tickcolor": "rgb(36,36,36)",
             "ticks": "outside"
            },
            "type": "mesh3d"
           }
          ],
          "parcoords": [
           {
            "line": {
             "colorbar": {
              "outlinewidth": 1,
              "tickcolor": "rgb(36,36,36)",
              "ticks": "outside"
             }
            },
            "type": "parcoords"
           }
          ],
          "pie": [
           {
            "automargin": true,
            "type": "pie"
           }
          ],
          "scatter": [
           {
            "fillpattern": {
             "fillmode": "overlay",
             "size": 10,
             "solidity": 0.2
            },
            "type": "scatter"
           }
          ],
          "scatter3d": [
           {
            "line": {
             "colorbar": {
              "outlinewidth": 1,
              "tickcolor": "rgb(36,36,36)",
              "ticks": "outside"
             }
            },
            "marker": {
             "colorbar": {
              "outlinewidth": 1,
              "tickcolor": "rgb(36,36,36)",
              "ticks": "outside"
             }
            },
            "type": "scatter3d"
           }
          ],
          "scattercarpet": [
           {
            "marker": {
             "colorbar": {
              "outlinewidth": 1,
              "tickcolor": "rgb(36,36,36)",
              "ticks": "outside"
             }
            },
            "type": "scattercarpet"
           }
          ],
          "scattergeo": [
           {
            "marker": {
             "colorbar": {
              "outlinewidth": 1,
              "tickcolor": "rgb(36,36,36)",
              "ticks": "outside"
             }
            },
            "type": "scattergeo"
           }
          ],
          "scattergl": [
           {
            "marker": {
             "colorbar": {
              "outlinewidth": 1,
              "tickcolor": "rgb(36,36,36)",
              "ticks": "outside"
             }
            },
            "type": "scattergl"
           }
          ],
          "scattermapbox": [
           {
            "marker": {
             "colorbar": {
              "outlinewidth": 1,
              "tickcolor": "rgb(36,36,36)",
              "ticks": "outside"
             }
            },
            "type": "scattermapbox"
           }
          ],
          "scatterpolar": [
           {
            "marker": {
             "colorbar": {
              "outlinewidth": 1,
              "tickcolor": "rgb(36,36,36)",
              "ticks": "outside"
             }
            },
            "type": "scatterpolar"
           }
          ],
          "scatterpolargl": [
           {
            "marker": {
             "colorbar": {
              "outlinewidth": 1,
              "tickcolor": "rgb(36,36,36)",
              "ticks": "outside"
             }
            },
            "type": "scatterpolargl"
           }
          ],
          "scatterternary": [
           {
            "marker": {
             "colorbar": {
              "outlinewidth": 1,
              "tickcolor": "rgb(36,36,36)",
              "ticks": "outside"
             }
            },
            "type": "scatterternary"
           }
          ],
          "surface": [
           {
            "colorbar": {
             "outlinewidth": 1,
             "tickcolor": "rgb(36,36,36)",
             "ticks": "outside"
            },
            "colorscale": [
             [
              0,
              "#440154"
             ],
             [
              0.1111111111111111,
              "#482878"
             ],
             [
              0.2222222222222222,
              "#3e4989"
             ],
             [
              0.3333333333333333,
              "#31688e"
             ],
             [
              0.4444444444444444,
              "#26828e"
             ],
             [
              0.5555555555555556,
              "#1f9e89"
             ],
             [
              0.6666666666666666,
              "#35b779"
             ],
             [
              0.7777777777777778,
              "#6ece58"
             ],
             [
              0.8888888888888888,
              "#b5de2b"
             ],
             [
              1,
              "#fde725"
             ]
            ],
            "type": "surface"
           }
          ],
          "table": [
           {
            "cells": {
             "fill": {
              "color": "rgb(237,237,237)"
             },
             "line": {
              "color": "white"
             }
            },
            "header": {
             "fill": {
              "color": "rgb(217,217,217)"
             },
             "line": {
              "color": "white"
             }
            },
            "type": "table"
           }
          ]
         },
         "layout": {
          "annotationdefaults": {
           "arrowhead": 0,
           "arrowwidth": 1
          },
          "autotypenumbers": "strict",
          "coloraxis": {
           "colorbar": {
            "outlinewidth": 1,
            "tickcolor": "rgb(36,36,36)",
            "ticks": "outside"
           }
          },
          "colorscale": {
           "diverging": [
            [
             0,
             "rgb(103,0,31)"
            ],
            [
             0.1,
             "rgb(178,24,43)"
            ],
            [
             0.2,
             "rgb(214,96,77)"
            ],
            [
             0.3,
             "rgb(244,165,130)"
            ],
            [
             0.4,
             "rgb(253,219,199)"
            ],
            [
             0.5,
             "rgb(247,247,247)"
            ],
            [
             0.6,
             "rgb(209,229,240)"
            ],
            [
             0.7,
             "rgb(146,197,222)"
            ],
            [
             0.8,
             "rgb(67,147,195)"
            ],
            [
             0.9,
             "rgb(33,102,172)"
            ],
            [
             1,
             "rgb(5,48,97)"
            ]
           ],
           "sequential": [
            [
             0,
             "#440154"
            ],
            [
             0.1111111111111111,
             "#482878"
            ],
            [
             0.2222222222222222,
             "#3e4989"
            ],
            [
             0.3333333333333333,
             "#31688e"
            ],
            [
             0.4444444444444444,
             "#26828e"
            ],
            [
             0.5555555555555556,
             "#1f9e89"
            ],
            [
             0.6666666666666666,
             "#35b779"
            ],
            [
             0.7777777777777778,
             "#6ece58"
            ],
            [
             0.8888888888888888,
             "#b5de2b"
            ],
            [
             1,
             "#fde725"
            ]
           ],
           "sequentialminus": [
            [
             0,
             "#440154"
            ],
            [
             0.1111111111111111,
             "#482878"
            ],
            [
             0.2222222222222222,
             "#3e4989"
            ],
            [
             0.3333333333333333,
             "#31688e"
            ],
            [
             0.4444444444444444,
             "#26828e"
            ],
            [
             0.5555555555555556,
             "#1f9e89"
            ],
            [
             0.6666666666666666,
             "#35b779"
            ],
            [
             0.7777777777777778,
             "#6ece58"
            ],
            [
             0.8888888888888888,
             "#b5de2b"
            ],
            [
             1,
             "#fde725"
            ]
           ]
          },
          "colorway": [
           "#1F77B4",
           "#FF7F0E",
           "#2CA02C",
           "#D62728",
           "#9467BD",
           "#8C564B",
           "#E377C2",
           "#7F7F7F",
           "#BCBD22",
           "#17BECF"
          ],
          "font": {
           "color": "rgb(36,36,36)"
          },
          "geo": {
           "bgcolor": "white",
           "lakecolor": "white",
           "landcolor": "white",
           "showlakes": true,
           "showland": true,
           "subunitcolor": "white"
          },
          "hoverlabel": {
           "align": "left"
          },
          "hovermode": "closest",
          "mapbox": {
           "style": "light"
          },
          "paper_bgcolor": "white",
          "plot_bgcolor": "white",
          "polar": {
           "angularaxis": {
            "gridcolor": "rgb(232,232,232)",
            "linecolor": "rgb(36,36,36)",
            "showgrid": false,
            "showline": true,
            "ticks": "outside"
           },
           "bgcolor": "white",
           "radialaxis": {
            "gridcolor": "rgb(232,232,232)",
            "linecolor": "rgb(36,36,36)",
            "showgrid": false,
            "showline": true,
            "ticks": "outside"
           }
          },
          "scene": {
           "xaxis": {
            "backgroundcolor": "white",
            "gridcolor": "rgb(232,232,232)",
            "gridwidth": 2,
            "linecolor": "rgb(36,36,36)",
            "showbackground": true,
            "showgrid": false,
            "showline": true,
            "ticks": "outside",
            "zeroline": false,
            "zerolinecolor": "rgb(36,36,36)"
           },
           "yaxis": {
            "backgroundcolor": "white",
            "gridcolor": "rgb(232,232,232)",
            "gridwidth": 2,
            "linecolor": "rgb(36,36,36)",
            "showbackground": true,
            "showgrid": false,
            "showline": true,
            "ticks": "outside",
            "zeroline": false,
            "zerolinecolor": "rgb(36,36,36)"
           },
           "zaxis": {
            "backgroundcolor": "white",
            "gridcolor": "rgb(232,232,232)",
            "gridwidth": 2,
            "linecolor": "rgb(36,36,36)",
            "showbackground": true,
            "showgrid": false,
            "showline": true,
            "ticks": "outside",
            "zeroline": false,
            "zerolinecolor": "rgb(36,36,36)"
           }
          },
          "shapedefaults": {
           "fillcolor": "black",
           "line": {
            "width": 0
           },
           "opacity": 0.3
          },
          "ternary": {
           "aaxis": {
            "gridcolor": "rgb(232,232,232)",
            "linecolor": "rgb(36,36,36)",
            "showgrid": false,
            "showline": true,
            "ticks": "outside"
           },
           "baxis": {
            "gridcolor": "rgb(232,232,232)",
            "linecolor": "rgb(36,36,36)",
            "showgrid": false,
            "showline": true,
            "ticks": "outside"
           },
           "bgcolor": "white",
           "caxis": {
            "gridcolor": "rgb(232,232,232)",
            "linecolor": "rgb(36,36,36)",
            "showgrid": false,
            "showline": true,
            "ticks": "outside"
           }
          },
          "title": {
           "x": 0.05
          },
          "xaxis": {
           "automargin": true,
           "gridcolor": "rgb(232,232,232)",
           "linecolor": "rgb(36,36,36)",
           "showgrid": false,
           "showline": true,
           "ticks": "outside",
           "title": {
            "standoff": 15
           },
           "zeroline": false,
           "zerolinecolor": "rgb(36,36,36)"
          },
          "yaxis": {
           "automargin": true,
           "gridcolor": "rgb(232,232,232)",
           "linecolor": "rgb(36,36,36)",
           "showgrid": false,
           "showline": true,
           "ticks": "outside",
           "title": {
            "standoff": 15
           },
           "zeroline": false,
           "zerolinecolor": "rgb(36,36,36)"
          }
         }
        },
        "title": {
         "font": {
          "color": "Black",
          "size": 22
         },
         "text": "<b>Intertopic Distance Map</b>",
         "x": 0.5,
         "xanchor": "center",
         "y": 0.95,
         "yanchor": "top"
        },
        "width": 650,
        "xaxis": {
         "anchor": "y",
         "domain": [
          0,
          1
         ],
         "range": [
          0.23356173783540726,
          18.499413776397706
         ],
         "title": {
          "text": ""
         },
         "visible": false
        },
        "yaxis": {
         "anchor": "x",
         "domain": [
          0,
          1
         ],
         "range": [
          -0.21338714882731438,
          8.740028953552246
         ],
         "title": {
          "text": ""
         },
         "visible": false
        }
       }
      }
     },
     "metadata": {},
     "output_type": "display_data"
    }
   ],
   "source": [
    "topic_model.visualize_topics()"
   ]
  },
  {
   "cell_type": "code",
   "execution_count": 26,
   "metadata": {},
   "outputs": [
    {
     "data": {
      "application/vnd.plotly.v1+json": {
       "config": {
        "plotlyServerURL": "https://plot.ly"
       },
       "data": [
        {
         "hoverinfo": "text",
         "hovertext": [
          "<b>Topic 0</b><br>Words: financial, model, risk, press, oxford",
          "<b>Topic 0</b><br>Words: financial, model, risk, press, oxford",
          "<b>Topic 0</b><br>Words: financial, model, risk, paper, stock",
          "<b>Topic 0</b><br>Words: financial, model, risk, policy, rate",
          "<b>Topic 0</b><br>Words: model, financial, shocks, risk, market",
          "<b>Topic 0</b><br>Words: model, financial, volatility, paper, risk",
          "<b>Topic 0</b><br>Words: model, financial, debt, risk, monetary",
          "<b>Topic 0</b><br>Words: model, financial, shocks, policy, monetary",
          "<b>Topic 0</b><br>Words: financial, model, banks, inflation, policy",
          "<b>Topic 0</b><br>Words: model, financial, risk, inflation, models",
          "<b>Topic 0</b><br>Words: model, financial, policy, risk, shocks",
          "<b>Topic 0</b><br>Words: model, financial, policy, debt, shocks",
          "<b>Topic 0</b><br>Words: financial, banks, model, market, risk",
          "<b>Topic 0</b><br>Words: financial, model, policy, inflation, debt",
          "<b>Topic 0</b><br>Words: model, financial, policy, debt, inflation",
          "<b>Topic 0</b><br>Words: financial, model, banks, shocks, risk",
          "<b>Topic 0</b><br>Words: model, financial, risk, policy, market",
          "<b>Topic 0</b><br>Words: financial, model, market, policy, credit",
          "<b>Topic 0</b><br>Words: model, shocks, policy, monetary, financial",
          "<b>Topic 0</b><br>Words: model, financial, policy, shocks, rate",
          "<b>Topic 0</b><br>Words: financial, risk, shocks, model, policy",
          "<b>Topic 0</b><br>Words: model, risk, debt, financial, policy",
          "<b>Topic 0</b><br>Words: model, financial, policy, monetary, inflation",
          "<b>Topic 0</b><br>Words: model, policy, monetary, risk, financial",
          "<b>Topic 0</b><br>Words: model, financial, policy, shocks, monetary",
          "<b>Topic 0</b><br>Words: model, financial, policy, market, debt",
          "<b>Topic 0</b><br>Words: model, policy, financial, bank, banks",
          "<b>Topic 0</b><br>Words: model, financial, policy, shocks, monetary",
          "<b>Topic 0</b><br>Words: model, monetary, shocks, policy, banks",
          "<b>Topic 0</b><br>Words: model, credit, debt, monetary, risk"
         ],
         "marker": {
          "color": "#E69F00"
         },
         "mode": "lines",
         "name": "0_model_financial_policy_risk",
         "type": "scatter",
         "x": [
          "2011-12-27T23:58:33.600000",
          "2012-05-13T08:48:00",
          "2012-09-23T17:36:00",
          "2013-02-04T02:24:00",
          "2013-06-17T11:12:00",
          "2013-10-28T20:00:00",
          "2014-03-11T04:48:00",
          "2014-07-22T13:36:00",
          "2014-12-02T22:24:00",
          "2015-04-15T07:12:00",
          "2015-08-26T16:00:00",
          "2016-01-07T00:48:00",
          "2016-05-19T09:36:00",
          "2016-09-29T18:24:00",
          "2017-02-10T03:12:00",
          "2017-06-23T12:00:00",
          "2017-11-03T20:48:00",
          "2018-03-17T05:36:00",
          "2018-07-28T14:24:00",
          "2018-12-08T23:12:00",
          "2019-04-21T08:00:00",
          "2019-09-01T16:48:00",
          "2020-01-13T01:36:00",
          "2020-05-25T10:24:00",
          "2020-10-05T19:12:00",
          "2021-02-16T04:00:00",
          "2021-06-29T12:48:00",
          "2021-11-09T21:36:00",
          "2022-03-23T06:24:00",
          "2022-08-03T15:12:00"
         ],
         "y": [
          160,
          233,
          217,
          187,
          186,
          181,
          163,
          158,
          185,
          154,
          180,
          214,
          157,
          209,
          183,
          164,
          229,
          159,
          207,
          197,
          153,
          182,
          180,
          201,
          227,
          167,
          141,
          181,
          172,
          174
         ]
        },
        {
         "hoverinfo": "text",
         "hovertext": [
          "<b>Topic 1</b><br>Words: games, players, agent, subjects, utility",
          "<b>Topic 1</b><br>Words: game, information, agents, agent, equilibrium",
          "<b>Topic 1</b><br>Words: game, agent, players, agents, equilibrium",
          "<b>Topic 1</b><br>Words: preferences, risk, information, utility, choice",
          "<b>Topic 1</b><br>Words: theory, utility, game, social, equilibrium",
          "<b>Topic 1</b><br>Words: agent, game, subjects, choice, equilibrium",
          "<b>Topic 1</b><br>Words: game, social, behavior, equilibrium, choice",
          "<b>Topic 1</b><br>Words: utility, agents, preferences, information, risk",
          "<b>Topic 1</b><br>Words: agent, contract, information, social, behavior",
          "<b>Topic 1</b><br>Words: subjects, players, game, equilibrium, utility",
          "<b>Topic 1</b><br>Words: preferences, agents, subjects, social, experiment",
          "<b>Topic 1</b><br>Words: games, information, players, agents, game",
          "<b>Topic 1</b><br>Words: agent, game, subjects, players, preferences",
          "<b>Topic 1</b><br>Words: social, agent, subjects, agents, show",
          "<b>Topic 1</b><br>Words: agent, information, preferences, auction, players",
          "<b>Topic 1</b><br>Words: agent, agents, behavior, utility, equilibrium",
          "<b>Topic 1</b><br>Words: agents, preferences, information, equilibrium, utility",
          "<b>Topic 1</b><br>Words: risk, subjects, games, game, information",
          "<b>Topic 1</b><br>Words: agent, preferences, show, information, group",
          "<b>Topic 1</b><br>Words: information, games, game, agent, equilibrium",
          "<b>Topic 1</b><br>Words: information, preferences, agents, utility, equilibrium",
          "<b>Topic 1</b><br>Words: information, experiment, game, show, behavior",
          "<b>Topic 1</b><br>Words: game, equilibrium, players, agents, information",
          "<b>Topic 1</b><br>Words: equilibrium, preferences, information, players, social",
          "<b>Topic 1</b><br>Words: agents, agent, information, social, equilibrium",
          "<b>Topic 1</b><br>Words: information, agent, agents, preferences, equilibrium",
          "<b>Topic 1</b><br>Words: information, subjects, game, decision, equilibrium",
          "<b>Topic 1</b><br>Words: information, agents, agent, auction, equilibrium",
          "<b>Topic 1</b><br>Words: preferences, show, game, equilibrium, information",
          "<b>Topic 1</b><br>Words: behavior, preferences, information, subjects, games"
         ],
         "marker": {
          "color": "#56B4E9"
         },
         "mode": "lines",
         "name": "1_information_game_agent_agents",
         "type": "scatter",
         "x": [
          "2011-12-27T23:58:33.600000",
          "2012-05-13T08:48:00",
          "2012-09-23T17:36:00",
          "2013-02-04T02:24:00",
          "2013-06-17T11:12:00",
          "2013-10-28T20:00:00",
          "2014-03-11T04:48:00",
          "2014-07-22T13:36:00",
          "2014-12-02T22:24:00",
          "2015-04-15T07:12:00",
          "2015-08-26T16:00:00",
          "2016-01-07T00:48:00",
          "2016-05-19T09:36:00",
          "2016-09-29T18:24:00",
          "2017-02-10T03:12:00",
          "2017-06-23T12:00:00",
          "2017-11-03T20:48:00",
          "2018-03-17T05:36:00",
          "2018-07-28T14:24:00",
          "2018-12-08T23:12:00",
          "2019-04-21T08:00:00",
          "2019-09-01T16:48:00",
          "2020-01-13T01:36:00",
          "2020-05-25T10:24:00",
          "2020-10-05T19:12:00",
          "2021-02-16T04:00:00",
          "2021-06-29T12:48:00",
          "2021-11-09T21:36:00",
          "2022-03-23T06:24:00",
          "2022-08-03T15:12:00"
         ],
         "y": [
          44,
          69,
          58,
          55,
          52,
          58,
          75,
          55,
          52,
          76,
          42,
          57,
          52,
          37,
          77,
          46,
          74,
          40,
          58,
          47,
          59,
          61,
          56,
          81,
          54,
          55,
          48,
          56,
          66,
          45
         ]
        },
        {
         "hoverinfo": "text",
         "hovertext": [
          "<b>Topic 2</b><br>Words: workers, wage, unemployment, labor, wages",
          "<b>Topic 2</b><br>Words: wage, workers, labor, unemployment, job",
          "<b>Topic 2</b><br>Words: workers, wage, job, wages, employment",
          "<b>Topic 2</b><br>Words: wage, workers, labor, job, wages",
          "<b>Topic 2</b><br>Words: wage, workers, labor, unemployment, wages",
          "<b>Topic 2</b><br>Words: workers, wage, labor, unemployment, employment",
          "<b>Topic 2</b><br>Words: wage, workers, labor, unemployment, wages",
          "<b>Topic 2</b><br>Words: workers, wage, unemployment, job, worker",
          "<b>Topic 2</b><br>Words: unemployment, workers, wage, search, job",
          "<b>Topic 2</b><br>Words: workers, unemployment, labor, wage, job",
          "<b>Topic 2</b><br>Words: labor, workers, unemployment, wage, search",
          "<b>Topic 2</b><br>Words: wage, unemployment, workers, wages, search",
          "<b>Topic 2</b><br>Words: unemployment, workers, labor, wage, search",
          "<b>Topic 2</b><br>Words: unemployment, workers, job, wage, labor",
          "<b>Topic 2</b><br>Words: wage, workers, labor, unemployment, job",
          "<b>Topic 2</b><br>Words: labor, workers, wage, unemployment, job",
          "<b>Topic 2</b><br>Words: workers, unemployment, search, labor, wage",
          "<b>Topic 2</b><br>Words: unemployment, workers, labor, job, wage",
          "<b>Topic 2</b><br>Words: wage, workers, job, labor, wages",
          "<b>Topic 2</b><br>Words: wage, unemployment, labor, employment, workers",
          "<b>Topic 2</b><br>Words: wage, job, workers, unemployment, employment",
          "<b>Topic 2</b><br>Words: workers, wage, labor, unemployment, employment",
          "<b>Topic 2</b><br>Words: workers, wage, employment, unemployment, job",
          "<b>Topic 2</b><br>Words: workers, wage, unemployment, job, labor",
          "<b>Topic 2</b><br>Words: unemployment, workers, labor, wage, job",
          "<b>Topic 2</b><br>Words: wage, workers, job, labor, employment",
          "<b>Topic 2</b><br>Words: workers, labor, unemployment, wage, employment",
          "<b>Topic 2</b><br>Words: wage, workers, wages, labor, employment",
          "<b>Topic 2</b><br>Words: workers, job, unemployment, search, wage",
          "<b>Topic 2</b><br>Words: labor, workers, wage, job, unemployment"
         ],
         "marker": {
          "color": "#009E73"
         },
         "mode": "lines",
         "name": "2_workers_wage_unemployment_labor",
         "type": "scatter",
         "x": [
          "2011-12-27T23:58:33.600000",
          "2012-05-13T08:48:00",
          "2012-09-23T17:36:00",
          "2013-02-04T02:24:00",
          "2013-06-17T11:12:00",
          "2013-10-28T20:00:00",
          "2014-03-11T04:48:00",
          "2014-07-22T13:36:00",
          "2014-12-02T22:24:00",
          "2015-04-15T07:12:00",
          "2015-08-26T16:00:00",
          "2016-01-07T00:48:00",
          "2016-05-19T09:36:00",
          "2016-09-29T18:24:00",
          "2017-02-10T03:12:00",
          "2017-06-23T12:00:00",
          "2017-11-03T20:48:00",
          "2018-03-17T05:36:00",
          "2018-07-28T14:24:00",
          "2018-12-08T23:12:00",
          "2019-04-21T08:00:00",
          "2019-09-01T16:48:00",
          "2020-01-13T01:36:00",
          "2020-05-25T10:24:00",
          "2020-10-05T19:12:00",
          "2021-02-16T04:00:00",
          "2021-06-29T12:48:00",
          "2021-11-09T21:36:00",
          "2022-03-23T06:24:00",
          "2022-08-03T15:12:00"
         ],
         "y": [
          21,
          29,
          22,
          33,
          23,
          23,
          20,
          19,
          14,
          26,
          30,
          32,
          15,
          20,
          22,
          18,
          33,
          30,
          23,
          20,
          27,
          21,
          13,
          23,
          24,
          22,
          18,
          26,
          32,
          28
         ]
        },
        {
         "hoverinfo": "text",
         "hovertext": [
          "<b>Topic 3</b><br>Words: trade, export, firms, exports, countries",
          "<b>Topic 3</b><br>Words: trade, export, countries, distance, firms",
          "<b>Topic 3</b><br>Words: trade, tariff, liberalization, firms, export",
          "<b>Topic 3</b><br>Words: trade, export, import, costs, firms",
          "<b>Topic 3</b><br>Words: trade, firms, countries, exports, export",
          "<b>Topic 3</b><br>Words: trade, countries, export, exports, exporters",
          "<b>Topic 3</b><br>Words: trade, export, firms, exports, countries",
          "<b>Topic 3</b><br>Words: trade, export, firms, model, exports",
          "<b>Topic 3</b><br>Words: trade, export, firms, welfare, countries",
          "<b>Topic 3</b><br>Words: trade, export, firms, exports, countries",
          "<b>Topic 3</b><br>Words: trade, export, costs, exports, firms",
          "<b>Topic 3</b><br>Words: trade, export, goods, firms, tariff",
          "<b>Topic 3</b><br>Words: trade, export, exporters, exports, firms",
          "<b>Topic 3</b><br>Words: trade, tariff, exports, export, tariffs",
          "<b>Topic 3</b><br>Words: trade, export, foreign, firms, exports",
          "<b>Topic 3</b><br>Words: trade, export, tariff, firms, tariffs",
          "<b>Topic 3</b><br>Words: trade, firms, export, quality, countries",
          "<b>Topic 3</b><br>Words: trade, ttip, nontariff, export, countries",
          "<b>Topic 3</b><br>Words: trade, export, firms, exports, countries",
          "<b>Topic 3</b><br>Words: trade, firms, export, exports, costs",
          "<b>Topic 3</b><br>Words: trade, quality, export, firm, internet",
          "<b>Topic 3</b><br>Words: trade, countries, export, firms, firm",
          "<b>Topic 3</b><br>Words: trade, firms, services, tariffs, exports",
          "<b>Topic 3</b><br>Words: trade, export, wto, exports, firms",
          "<b>Topic 3</b><br>Words: trade, export, firms, fdi, ta",
          "<b>Topic 3</b><br>Words: trade, export, firms, exports, model",
          "<b>Topic 3</b><br>Words: trade, export, firms, exporting, tariff",
          "<b>Topic 3</b><br>Words: trade, export, exports, firms, countries",
          "<b>Topic 3</b><br>Words: trade, firms, export, costs, tpu",
          "<b>Topic 3</b><br>Words: trade, export, products, firms, countries"
         ],
         "marker": {
          "color": "#F0E442"
         },
         "mode": "lines",
         "name": "3_trade_export_firms_exports",
         "type": "scatter",
         "x": [
          "2011-12-27T23:58:33.600000",
          "2012-05-13T08:48:00",
          "2012-09-23T17:36:00",
          "2013-02-04T02:24:00",
          "2013-06-17T11:12:00",
          "2013-10-28T20:00:00",
          "2014-03-11T04:48:00",
          "2014-07-22T13:36:00",
          "2014-12-02T22:24:00",
          "2015-04-15T07:12:00",
          "2015-08-26T16:00:00",
          "2016-01-07T00:48:00",
          "2016-05-19T09:36:00",
          "2016-09-29T18:24:00",
          "2017-02-10T03:12:00",
          "2017-06-23T12:00:00",
          "2017-11-03T20:48:00",
          "2018-03-17T05:36:00",
          "2018-07-28T14:24:00",
          "2018-12-08T23:12:00",
          "2019-04-21T08:00:00",
          "2019-09-01T16:48:00",
          "2020-01-13T01:36:00",
          "2020-05-25T10:24:00",
          "2020-10-05T19:12:00",
          "2021-02-16T04:00:00",
          "2021-06-29T12:48:00",
          "2021-11-09T21:36:00",
          "2022-03-23T06:24:00",
          "2022-08-03T15:12:00"
         ],
         "y": [
          19,
          31,
          20,
          27,
          28,
          26,
          23,
          23,
          18,
          23,
          24,
          29,
          23,
          19,
          16,
          19,
          33,
          16,
          24,
          24,
          6,
          11,
          23,
          17,
          12,
          15,
          22,
          21,
          17,
          18
         ]
        },
        {
         "hoverinfo": "text",
         "hovertext": [
          "<b>Topic 4</b><br>Words: price, consumers, consumer, product, demand",
          "<b>Topic 4</b><br>Words: consumers, price, firms, equilibrium, prices",
          "<b>Topic 4</b><br>Words: merger, firms, competition, price, manufacturer",
          "<b>Topic 4</b><br>Words: consumers, demand, firms, mergers, firm",
          "<b>Topic 4</b><br>Words: piracy, customers, customization, competition, firms",
          "<b>Topic 4</b><br>Words: price, manufacturer, retailers, consumers, firms",
          "<b>Topic 4</b><br>Words: price, competition, consumers, transshipment, firms",
          "<b>Topic 4</b><br>Words: consumers, firms, price, market, cartel",
          "<b>Topic 4</b><br>Words: consumers, price, prices, firms, competition",
          "<b>Topic 4</b><br>Words: privatization, consumer, consumers, price, prices",
          "<b>Topic 4</b><br>Words: consumers, market, price, firms, competition",
          "<b>Topic 4</b><br>Words: consumers, price, quality, market, firms",
          "<b>Topic 4</b><br>Words: price, consumers, competition, market, exclusive",
          "<b>Topic 4</b><br>Words: pirate, attacks, vertical, unsuccessful, financialmarket",
          "<b>Topic 4</b><br>Words: consumers, product, products, market, firms",
          "<b>Topic 4</b><br>Words: merger, consumers, price, search, firms",
          "<b>Topic 4</b><br>Words: consumers, competition, advertising, market, price",
          "<b>Topic 4</b><br>Words: competition, product, price, prices, entry",
          "<b>Topic 4</b><br>Words: price, ancillary, competition, consumers, good",
          "<b>Topic 4</b><br>Words: price, firms, consumers, firm, downstream",
          "<b>Topic 4</b><br>Words: consumers, cartels, search, competition, market",
          "<b>Topic 4</b><br>Words: price, dos, buyer, flash, mergers",
          "<b>Topic 4</b><br>Words: consumer, price, firms, beliefs, firm",
          "<b>Topic 4</b><br>Words: vertical, consumers, platform, firm, restaurants",
          "<b>Topic 4</b><br>Words: consumers, price, collusion, platform, mergers",
          "<b>Topic 4</b><br>Words: consumers, price, equilibrium, firms, seller",
          "<b>Topic 4</b><br>Words: price, consumers, dealers, firms, consumer",
          "<b>Topic 4</b><br>Words: consumers, competition, firms, price, consumer",
          "<b>Topic 4</b><br>Words: consumers, welfare, competition, market, price",
          "<b>Topic 4</b><br>Words: compatibility, acquirer, price, product, mergers"
         ],
         "marker": {
          "color": "#D55E00"
         },
         "mode": "lines",
         "name": "4_consumers_price_firms_competition",
         "type": "scatter",
         "x": [
          "2011-12-27T23:58:33.600000",
          "2012-05-13T08:48:00",
          "2012-09-23T17:36:00",
          "2013-02-04T02:24:00",
          "2013-06-17T11:12:00",
          "2013-10-28T20:00:00",
          "2014-03-11T04:48:00",
          "2014-07-22T13:36:00",
          "2014-12-02T22:24:00",
          "2015-04-15T07:12:00",
          "2015-08-26T16:00:00",
          "2016-01-07T00:48:00",
          "2016-05-19T09:36:00",
          "2016-09-29T18:24:00",
          "2017-02-10T03:12:00",
          "2017-06-23T12:00:00",
          "2017-11-03T20:48:00",
          "2018-03-17T05:36:00",
          "2018-07-28T14:24:00",
          "2018-12-08T23:12:00",
          "2019-04-21T08:00:00",
          "2019-09-01T16:48:00",
          "2020-01-13T01:36:00",
          "2020-05-25T10:24:00",
          "2020-10-05T19:12:00",
          "2021-02-16T04:00:00",
          "2021-06-29T12:48:00",
          "2021-11-09T21:36:00",
          "2022-03-23T06:24:00",
          "2022-08-03T15:12:00"
         ],
         "y": [
          16,
          24,
          27,
          16,
          15,
          19,
          20,
          22,
          24,
          13,
          17,
          13,
          13,
          7,
          19,
          14,
          13,
          21,
          13,
          16,
          13,
          12,
          13,
          11,
          17,
          15,
          14,
          13,
          22,
          10
         ]
        },
        {
         "hoverinfo": "text",
         "hovertext": [
          "<b>Topic 5</b><br>Words: emissions, pollution, energy, mortality, environmental",
          "<b>Topic 5</b><br>Words: electricity, energy, emissions, environmental, nuclear",
          "<b>Topic 5</b><br>Words: emissions, energy, vehicle, environmental, deforestation",
          "<b>Topic 5</b><br>Words: emissions, environmental, gas, leakage, pollution",
          "<b>Topic 5</b><br>Words: emissions, energy, environmental, carbon, co2",
          "<b>Topic 5</b><br>Words: energy, environmental, emissions, nonrenewable, emission",
          "<b>Topic 5</b><br>Words: emissions, energy, carbon, climate, pollution",
          "<b>Topic 5</b><br>Words: pollution, environmental, air, emissions, water",
          "<b>Topic 5</b><br>Words: energy, environmental, emissions, carbon, coal",
          "<b>Topic 5</b><br>Words: energy, environmental, pollution, electricity, carbon",
          "<b>Topic 5</b><br>Words: energy, pollution, environmental, emissions, carbon",
          "<b>Topic 5</b><br>Words: emissions, environmental, energy, carbon, pollution",
          "<b>Topic 5</b><br>Words: environmental, electricity, energy, diesel, emissions",
          "<b>Topic 5</b><br>Words: environmental, carbon, sustainable, climate, energy",
          "<b>Topic 5</b><br>Words: energy, emissions, pollution, environmental, fossil",
          "<b>Topic 5</b><br>Words: energy, emissions, environmental, carbon, electricity",
          "<b>Topic 5</b><br>Words: energy, carbon, emissions, conservation, environmental",
          "<b>Topic 5</b><br>Words: environmental, pollution, emissions, ecs, energy",
          "<b>Topic 5</b><br>Words: energy, emissions, pollution, environmental, climate",
          "<b>Topic 5</b><br>Words: energy, carbon, emissions, pollution, environmental",
          "<b>Topic 5</b><br>Words: pollution, environmental, air, carbon, emissions",
          "<b>Topic 5</b><br>Words: emissions, carbon, energy, environmental, pollution",
          "<b>Topic 5</b><br>Words: environmental, emissions, energy, carbon, pollution",
          "<b>Topic 5</b><br>Words: pollution, electricity, emissions, environmental, air",
          "<b>Topic 5</b><br>Words: environmental, emissions, fuel, pollution, energy",
          "<b>Topic 5</b><br>Words: environmental, emissions, pollution, energy, gpgs",
          "<b>Topic 5</b><br>Words: emissions, environmental, carbon, eip, pollution",
          "<b>Topic 5</b><br>Words: emissions, pollution, environmental, carbon, energy",
          "<b>Topic 5</b><br>Words: electricity, environmental, agreements, wetland, investments",
          "<b>Topic 5</b><br>Words: emissions, carbon, energy, pollution, environmental"
         ],
         "marker": {
          "color": "#0072B2"
         },
         "mode": "lines",
         "name": "5_emissions_energy_environmental_polluti...",
         "type": "scatter",
         "x": [
          "2011-12-27T23:58:33.600000",
          "2012-05-13T08:48:00",
          "2012-09-23T17:36:00",
          "2013-02-04T02:24:00",
          "2013-06-17T11:12:00",
          "2013-10-28T20:00:00",
          "2014-03-11T04:48:00",
          "2014-07-22T13:36:00",
          "2014-12-02T22:24:00",
          "2015-04-15T07:12:00",
          "2015-08-26T16:00:00",
          "2016-01-07T00:48:00",
          "2016-05-19T09:36:00",
          "2016-09-29T18:24:00",
          "2017-02-10T03:12:00",
          "2017-06-23T12:00:00",
          "2017-11-03T20:48:00",
          "2018-03-17T05:36:00",
          "2018-07-28T14:24:00",
          "2018-12-08T23:12:00",
          "2019-04-21T08:00:00",
          "2019-09-01T16:48:00",
          "2020-01-13T01:36:00",
          "2020-05-25T10:24:00",
          "2020-10-05T19:12:00",
          "2021-02-16T04:00:00",
          "2021-06-29T12:48:00",
          "2021-11-09T21:36:00",
          "2022-03-23T06:24:00",
          "2022-08-03T15:12:00"
         ],
         "y": [
          12,
          18,
          11,
          13,
          17,
          13,
          17,
          9,
          14,
          20,
          13,
          20,
          10,
          10,
          14,
          17,
          11,
          7,
          13,
          11,
          10,
          13,
          17,
          15,
          13,
          12,
          10,
          10,
          9,
          18
         ]
        },
        {
         "hoverinfo": "text",
         "hovertext": [
          "<b>Topic 6</b><br>Words: school, bolsa, grades, grade, students",
          "<b>Topic 6</b><br>Words: students, school, schools, student, education",
          "<b>Topic 6</b><br>Words: teachers, school, student, students, schools",
          "<b>Topic 6</b><br>Words: school, students, schools, education, college",
          "<b>Topic 6</b><br>Words: school, students, autonomy, ites, student",
          "<b>Topic 6</b><br>Words: school, schools, students, scores, cronyism",
          "<b>Topic 6</b><br>Words: students, school, education, schools, college",
          "<b>Topic 6</b><br>Words: students, college, student, teachers, va",
          "<b>Topic 6</b><br>Words: students, school, schools, ecfa, treatment",
          "<b>Topic 6</b><br>Words: students, school, schools, education, student",
          "<b>Topic 6</b><br>Words: students, student, school, education, schools",
          "<b>Topic 6</b><br>Words: students, school, student, schools, college",
          "<b>Topic 6</b><br>Words: students, school, schools, college, education",
          "<b>Topic 6</b><br>Words: students, school, schools, education, college",
          "<b>Topic 6</b><br>Words: students, school, schools, college, achievement",
          "<b>Topic 6</b><br>Words: students, school, admission, schools, teachers",
          "<b>Topic 6</b><br>Words: school, students, teachers, student, education",
          "<b>Topic 6</b><br>Words: students, schools, preschools, school, teacher",
          "<b>Topic 6</b><br>Words: school, student, students, schools, teachers",
          "<b>Topic 6</b><br>Words: students, school, schools, student, college",
          "<b>Topic 6</b><br>Words: students, school, schools, education, achievement",
          "<b>Topic 6</b><br>Words: education, tuition, students, school, aspirations",
          "<b>Topic 6</b><br>Words: school, students, schools, student, college",
          "<b>Topic 6</b><br>Words: students, school, schools, program, education",
          "<b>Topic 6</b><br>Words: school, college, choice, schools, education",
          "<b>Topic 6</b><br>Words: students, college, schools, school, education",
          "<b>Topic 6</b><br>Words: school, students, universities, colleges, verbal",
          "<b>Topic 6</b><br>Words: students, schools, school, applicants, urm",
          "<b>Topic 6</b><br>Words: students, school, schools, college, student",
          "<b>Topic 6</b><br>Words: students, school, aspirations, schools, college"
         ],
         "marker": {
          "color": "#CC79A7"
         },
         "mode": "lines",
         "name": "6_students_school_schools_student",
         "type": "scatter",
         "x": [
          "2011-12-27T23:58:33.600000",
          "2012-05-13T08:48:00",
          "2012-09-23T17:36:00",
          "2013-02-04T02:24:00",
          "2013-06-17T11:12:00",
          "2013-10-28T20:00:00",
          "2014-03-11T04:48:00",
          "2014-07-22T13:36:00",
          "2014-12-02T22:24:00",
          "2015-04-15T07:12:00",
          "2015-08-26T16:00:00",
          "2016-01-07T00:48:00",
          "2016-05-19T09:36:00",
          "2016-09-29T18:24:00",
          "2017-02-10T03:12:00",
          "2017-06-23T12:00:00",
          "2017-11-03T20:48:00",
          "2018-03-17T05:36:00",
          "2018-07-28T14:24:00",
          "2018-12-08T23:12:00",
          "2019-04-21T08:00:00",
          "2019-09-01T16:48:00",
          "2020-01-13T01:36:00",
          "2020-05-25T10:24:00",
          "2020-10-05T19:12:00",
          "2021-02-16T04:00:00",
          "2021-06-29T12:48:00",
          "2021-11-09T21:36:00",
          "2022-03-23T06:24:00",
          "2022-08-03T15:12:00"
         ],
         "y": [
          7,
          19,
          9,
          15,
          4,
          5,
          19,
          7,
          5,
          20,
          9,
          22,
          12,
          13,
          15,
          9,
          5,
          6,
          15,
          8,
          18,
          6,
          12,
          10,
          8,
          17,
          6,
          10,
          19,
          9
         ]
        },
        {
         "hoverinfo": "text",
         "hovertext": [
          "<b>Topic 7</b><br>Words: children, famine, pill, women, schooling",
          "<b>Topic 7</b><br>Words: child, children, fertility, labor, women",
          "<b>Topic 7</b><br>Words: height, cadre, premium, children, college",
          "<b>Topic 7</b><br>Words: fertility, child, children, health, birth",
          "<b>Topic 7</b><br>Words: marriage, sisters, child, children, schooling",
          "<b>Topic 7</b><br>Words: child, children, marriage, schooling, parents",
          "<b>Topic 7</b><br>Words: children, birth, ocp, women, fertility",
          "<b>Topic 7</b><br>Words: lefties, infant, righties, children, child",
          "<b>Topic 7</b><br>Words: adult, children, leave, birth, ages",
          "<b>Topic 7</b><br>Words: children, marriage, family, women, child",
          "<b>Topic 7</b><br>Words: fgc, women, health, children, child",
          "<b>Topic 7</b><br>Words: fertility, marriage, children, women, birth",
          "<b>Topic 7</b><br>Words: children, child, marriage, women, fertility",
          "<b>Topic 7</b><br>Words: children, child, cognition, fertility, investments",
          "<b>Topic 7</b><br>Words: marriage, children, fertility, child, mothers",
          "<b>Topic 7</b><br>Words: child, fertility, children, birth, onechild",
          "<b>Topic 7</b><br>Words: women, child, fertility, children, family",
          "<b>Topic 7</b><br>Words: children, birth, wealth, fertility, childhood",
          "<b>Topic 7</b><br>Words: fertility, marriage, child, children, daughters",
          "<b>Topic 7</b><br>Words: women, children, birth, marriage, sex",
          "<b>Topic 7</b><br>Words: marriage, children, child, women, health",
          "<b>Topic 7</b><br>Words: women, married, marriage, unmarried, child",
          "<b>Topic 7</b><br>Words: children, marriage, women, fertility, child",
          "<b>Topic 7</b><br>Words: child, children, marriage, labor, fertility",
          "<b>Topic 7</b><br>Words: fertility, child, children, marriage, women",
          "<b>Topic 7</b><br>Words: children, parents, marriage, women, child",
          "<b>Topic 7</b><br>Words: marriage, women, fertility, children, leave",
          "<b>Topic 7</b><br>Words: children, bmi, marriage, child, women",
          "<b>Topic 7</b><br>Words: fertility, marriage, pupils, program, children",
          "<b>Topic 7</b><br>Words: children, parenting, child, women, birth"
         ],
         "marker": {
          "color": "#E69F00"
         },
         "mode": "lines",
         "name": "7_children_child_marriage_fertility",
         "type": "scatter",
         "x": [
          "2011-12-27T23:58:33.600000",
          "2012-05-13T08:48:00",
          "2012-09-23T17:36:00",
          "2013-02-04T02:24:00",
          "2013-06-17T11:12:00",
          "2013-10-28T20:00:00",
          "2014-03-11T04:48:00",
          "2014-07-22T13:36:00",
          "2014-12-02T22:24:00",
          "2015-04-15T07:12:00",
          "2015-08-26T16:00:00",
          "2016-01-07T00:48:00",
          "2016-05-19T09:36:00",
          "2016-09-29T18:24:00",
          "2017-02-10T03:12:00",
          "2017-06-23T12:00:00",
          "2017-11-03T20:48:00",
          "2018-03-17T05:36:00",
          "2018-07-28T14:24:00",
          "2018-12-08T23:12:00",
          "2019-04-21T08:00:00",
          "2019-09-01T16:48:00",
          "2020-01-13T01:36:00",
          "2020-05-25T10:24:00",
          "2020-10-05T19:12:00",
          "2021-02-16T04:00:00",
          "2021-06-29T12:48:00",
          "2021-11-09T21:36:00",
          "2022-03-23T06:24:00",
          "2022-08-03T15:12:00"
         ],
         "y": [
          7,
          12,
          5,
          10,
          10,
          6,
          11,
          5,
          4,
          12,
          4,
          13,
          12,
          7,
          22,
          10,
          6,
          11,
          12,
          11,
          9,
          8,
          13,
          13,
          14,
          18,
          11,
          9,
          5,
          12
         ]
        },
        {
         "hoverinfo": "text",
         "hovertext": [
          "<b>Topic 8</b><br>Words: tax, mcf, taxes, system, income",
          "<b>Topic 8</b><br>Words: tax, taxation, taxes, capital, corporate",
          "<b>Topic 8</b><br>Words: tax, capital, cuts, income, labor",
          "<b>Topic 8</b><br>Words: tax, taxes, income, taxation, optimal",
          "<b>Topic 8</b><br>Words: tax, babs, inheritance, optimal, municipalities",
          "<b>Topic 8</b><br>Words: tax, taxes, income, capital, ssa",
          "<b>Topic 8</b><br>Words: tax, taxes, income, evasion, taxation",
          "<b>Topic 8</b><br>Words: tax, taxation, evasion, compliance, taxes",
          "<b>Topic 8</b><br>Words: tax, avoidance, optimal, taxes, distress",
          "<b>Topic 8</b><br>Words: tax, taxation, taxes, capital, havens",
          "<b>Topic 8</b><br>Words: tax, evasion, taxes, capital, losses",
          "<b>Topic 8</b><br>Words: tax, taxes, evasion, income, revenue",
          "<b>Topic 8</b><br>Words: tax, taxation, taxes, income, rentseeking",
          "<b>Topic 8</b><br>Words: tax, inventors, rates, taxes, taxation",
          "<b>Topic 8</b><br>Words: tax, fd, superstar, externalities, taxes",
          "<b>Topic 8</b><br>Words: tax, taxation, taxes, professions, investment",
          "<b>Topic 8</b><br>Words: tax, taxes, income, proposals, optimal",
          "<b>Topic 8</b><br>Words: tax, taxation, taxpayers, commuting, optimal",
          "<b>Topic 8</b><br>Words: tax, income, revenue, taxation, capital",
          "<b>Topic 8</b><br>Words: tax, taxes, income, evasion, taxation",
          "<b>Topic 8</b><br>Words: tax, taxes, income, taxation, sugarsweetened",
          "<b>Topic 8</b><br>Words: tax, taxes, capital, optimal, taxation",
          "<b>Topic 8</b><br>Words: tax, taxes, evasion, capital, income",
          "<b>Topic 8</b><br>Words: tax, taxation, taxes, capital, income",
          "<b>Topic 8</b><br>Words: tax, taxes, income, compliance, capital",
          "<b>Topic 8</b><br>Words: tax, income, taxation, taxes, taxable",
          "<b>Topic 8</b><br>Words: tax, taxes, relabeling, payroll, airbnb",
          "<b>Topic 8</b><br>Words: tax, taxes, income, corporate, optimal",
          "<b>Topic 8</b><br>Words: tax, input, public, floor, labor",
          "<b>Topic 8</b><br>Words: tax, taxes, income, taxation, capital"
         ],
         "marker": {
          "color": "#56B4E9"
         },
         "mode": "lines",
         "name": "8_tax_taxes_income_taxation",
         "type": "scatter",
         "x": [
          "2011-12-27T23:58:33.600000",
          "2012-05-13T08:48:00",
          "2012-09-23T17:36:00",
          "2013-02-04T02:24:00",
          "2013-06-17T11:12:00",
          "2013-10-28T20:00:00",
          "2014-03-11T04:48:00",
          "2014-07-22T13:36:00",
          "2014-12-02T22:24:00",
          "2015-04-15T07:12:00",
          "2015-08-26T16:00:00",
          "2016-01-07T00:48:00",
          "2016-05-19T09:36:00",
          "2016-09-29T18:24:00",
          "2017-02-10T03:12:00",
          "2017-06-23T12:00:00",
          "2017-11-03T20:48:00",
          "2018-03-17T05:36:00",
          "2018-07-28T14:24:00",
          "2018-12-08T23:12:00",
          "2019-04-21T08:00:00",
          "2019-09-01T16:48:00",
          "2020-01-13T01:36:00",
          "2020-05-25T10:24:00",
          "2020-10-05T19:12:00",
          "2021-02-16T04:00:00",
          "2021-06-29T12:48:00",
          "2021-11-09T21:36:00",
          "2022-03-23T06:24:00",
          "2022-08-03T15:12:00"
         ],
         "y": [
          5,
          11,
          7,
          19,
          8,
          11,
          15,
          12,
          9,
          10,
          10,
          13,
          11,
          8,
          5,
          10,
          9,
          5,
          11,
          11,
          17,
          13,
          8,
          9,
          11,
          8,
          7,
          8,
          6,
          11
         ]
        },
        {
         "hoverinfo": "text",
         "hovertext": [
          "<b>Topic 9</b><br>Words: issues, voters, voting, elections, voter",
          "<b>Topic 9</b><br>Words: political, parties, party, funding, slant",
          "<b>Topic 9</b><br>Words: bodies, voters, voting, expressive, deliberation",
          "<b>Topic 9</b><br>Words: voting, voter, voters, politicians, runoff",
          "<b>Topic 9</b><br>Words: political, elections, reelection, municipal, norms",
          "<b>Topic 9</b><br>Words: candidates, political, voter, voters, electoral",
          "<b>Topic 9</b><br>Words: political, accountability, nvs, citizens, voters",
          "<b>Topic 9</b><br>Words: lobbying, political, politicians, senators, party",
          "<b>Topic 9</b><br>Words: voters, political, newspapers, politicians, voter",
          "<b>Topic 9</b><br>Words: voters, political, information, voting, politicians",
          "<b>Topic 9</b><br>Words: political, voters, advocacy, candidates, elections",
          "<b>Topic 9</b><br>Words: lobbying, voters, locals, political, career",
          "<b>Topic 9</b><br>Words: elections, candidates, mayors, voters, electoral",
          "<b>Topic 9</b><br>Words: voters, voting, media, reach, referenda",
          "<b>Topic 9</b><br>Words: political, turnout, electoral, election, information",
          "<b>Topic 9</b><br>Words: politicians, elections, political, party, electoral",
          "<b>Topic 9</b><br>Words: voters, political, party, electoral, mayors",
          "<b>Topic 9</b><br>Words: voters, voting, elections, vote, political",
          "<b>Topic 9</b><br>Words: political, legislators, voters, elections, vote",
          "<b>Topic 9</b><br>Words: cadenas, party, elections, parties, voters",
          "<b>Topic 9</b><br>Words: voters, turnout, protest, political, populist",
          "<b>Topic 9</b><br>Words: parties, voters, electoral, accused, government",
          "<b>Topic 9</b><br>Words: elections, turnout, party, political, state",
          "<b>Topic 9</b><br>Words: polarization, political, voters, election, party",
          "<b>Topic 9</b><br>Words: political, vote, voters, media, elections",
          "<b>Topic 9</b><br>Words: voters, political, electoral, vote, elections",
          "<b>Topic 9</b><br>Words: shootings, bots, media, mass, political",
          "<b>Topic 9</b><br>Words: political, voters, vote, recycling, party",
          "<b>Topic 9</b><br>Words: voters, competence, transparency, candidates, political",
          "<b>Topic 9</b><br>Words: voters, political, elections, media, voter"
         ],
         "marker": {
          "color": "#009E73"
         },
         "mode": "lines",
         "name": "9_voters_political_elections_electoral",
         "type": "scatter",
         "x": [
          "2011-12-27T23:58:33.600000",
          "2012-05-13T08:48:00",
          "2012-09-23T17:36:00",
          "2013-02-04T02:24:00",
          "2013-06-17T11:12:00",
          "2013-10-28T20:00:00",
          "2014-03-11T04:48:00",
          "2014-07-22T13:36:00",
          "2014-12-02T22:24:00",
          "2015-04-15T07:12:00",
          "2015-08-26T16:00:00",
          "2016-01-07T00:48:00",
          "2016-05-19T09:36:00",
          "2016-09-29T18:24:00",
          "2017-02-10T03:12:00",
          "2017-06-23T12:00:00",
          "2017-11-03T20:48:00",
          "2018-03-17T05:36:00",
          "2018-07-28T14:24:00",
          "2018-12-08T23:12:00",
          "2019-04-21T08:00:00",
          "2019-09-01T16:48:00",
          "2020-01-13T01:36:00",
          "2020-05-25T10:24:00",
          "2020-10-05T19:12:00",
          "2021-02-16T04:00:00",
          "2021-06-29T12:48:00",
          "2021-11-09T21:36:00",
          "2022-03-23T06:24:00",
          "2022-08-03T15:12:00"
         ],
         "y": [
          4,
          7,
          4,
          8,
          6,
          5,
          6,
          9,
          8,
          9,
          9,
          7,
          8,
          9,
          7,
          11,
          9,
          10,
          11,
          5,
          12,
          6,
          9,
          14,
          9,
          16,
          4,
          17,
          7,
          14
         ]
        }
       ],
       "layout": {
        "height": 450,
        "hoverlabel": {
         "bgcolor": "white",
         "font": {
          "family": "Rockwell",
          "size": 16
         }
        },
        "legend": {
         "title": {
          "text": "<b>Global Topic Representation"
         }
        },
        "template": {
         "data": {
          "bar": [
           {
            "error_x": {
             "color": "rgb(36,36,36)"
            },
            "error_y": {
             "color": "rgb(36,36,36)"
            },
            "marker": {
             "line": {
              "color": "white",
              "width": 0.5
             },
             "pattern": {
              "fillmode": "overlay",
              "size": 10,
              "solidity": 0.2
             }
            },
            "type": "bar"
           }
          ],
          "barpolar": [
           {
            "marker": {
             "line": {
              "color": "white",
              "width": 0.5
             },
             "pattern": {
              "fillmode": "overlay",
              "size": 10,
              "solidity": 0.2
             }
            },
            "type": "barpolar"
           }
          ],
          "carpet": [
           {
            "aaxis": {
             "endlinecolor": "rgb(36,36,36)",
             "gridcolor": "white",
             "linecolor": "white",
             "minorgridcolor": "white",
             "startlinecolor": "rgb(36,36,36)"
            },
            "baxis": {
             "endlinecolor": "rgb(36,36,36)",
             "gridcolor": "white",
             "linecolor": "white",
             "minorgridcolor": "white",
             "startlinecolor": "rgb(36,36,36)"
            },
            "type": "carpet"
           }
          ],
          "choropleth": [
           {
            "colorbar": {
             "outlinewidth": 1,
             "tickcolor": "rgb(36,36,36)",
             "ticks": "outside"
            },
            "type": "choropleth"
           }
          ],
          "contour": [
           {
            "colorbar": {
             "outlinewidth": 1,
             "tickcolor": "rgb(36,36,36)",
             "ticks": "outside"
            },
            "colorscale": [
             [
              0,
              "#440154"
             ],
             [
              0.1111111111111111,
              "#482878"
             ],
             [
              0.2222222222222222,
              "#3e4989"
             ],
             [
              0.3333333333333333,
              "#31688e"
             ],
             [
              0.4444444444444444,
              "#26828e"
             ],
             [
              0.5555555555555556,
              "#1f9e89"
             ],
             [
              0.6666666666666666,
              "#35b779"
             ],
             [
              0.7777777777777778,
              "#6ece58"
             ],
             [
              0.8888888888888888,
              "#b5de2b"
             ],
             [
              1,
              "#fde725"
             ]
            ],
            "type": "contour"
           }
          ],
          "contourcarpet": [
           {
            "colorbar": {
             "outlinewidth": 1,
             "tickcolor": "rgb(36,36,36)",
             "ticks": "outside"
            },
            "type": "contourcarpet"
           }
          ],
          "heatmap": [
           {
            "colorbar": {
             "outlinewidth": 1,
             "tickcolor": "rgb(36,36,36)",
             "ticks": "outside"
            },
            "colorscale": [
             [
              0,
              "#440154"
             ],
             [
              0.1111111111111111,
              "#482878"
             ],
             [
              0.2222222222222222,
              "#3e4989"
             ],
             [
              0.3333333333333333,
              "#31688e"
             ],
             [
              0.4444444444444444,
              "#26828e"
             ],
             [
              0.5555555555555556,
              "#1f9e89"
             ],
             [
              0.6666666666666666,
              "#35b779"
             ],
             [
              0.7777777777777778,
              "#6ece58"
             ],
             [
              0.8888888888888888,
              "#b5de2b"
             ],
             [
              1,
              "#fde725"
             ]
            ],
            "type": "heatmap"
           }
          ],
          "heatmapgl": [
           {
            "colorbar": {
             "outlinewidth": 1,
             "tickcolor": "rgb(36,36,36)",
             "ticks": "outside"
            },
            "colorscale": [
             [
              0,
              "#440154"
             ],
             [
              0.1111111111111111,
              "#482878"
             ],
             [
              0.2222222222222222,
              "#3e4989"
             ],
             [
              0.3333333333333333,
              "#31688e"
             ],
             [
              0.4444444444444444,
              "#26828e"
             ],
             [
              0.5555555555555556,
              "#1f9e89"
             ],
             [
              0.6666666666666666,
              "#35b779"
             ],
             [
              0.7777777777777778,
              "#6ece58"
             ],
             [
              0.8888888888888888,
              "#b5de2b"
             ],
             [
              1,
              "#fde725"
             ]
            ],
            "type": "heatmapgl"
           }
          ],
          "histogram": [
           {
            "marker": {
             "line": {
              "color": "white",
              "width": 0.6
             }
            },
            "type": "histogram"
           }
          ],
          "histogram2d": [
           {
            "colorbar": {
             "outlinewidth": 1,
             "tickcolor": "rgb(36,36,36)",
             "ticks": "outside"
            },
            "colorscale": [
             [
              0,
              "#440154"
             ],
             [
              0.1111111111111111,
              "#482878"
             ],
             [
              0.2222222222222222,
              "#3e4989"
             ],
             [
              0.3333333333333333,
              "#31688e"
             ],
             [
              0.4444444444444444,
              "#26828e"
             ],
             [
              0.5555555555555556,
              "#1f9e89"
             ],
             [
              0.6666666666666666,
              "#35b779"
             ],
             [
              0.7777777777777778,
              "#6ece58"
             ],
             [
              0.8888888888888888,
              "#b5de2b"
             ],
             [
              1,
              "#fde725"
             ]
            ],
            "type": "histogram2d"
           }
          ],
          "histogram2dcontour": [
           {
            "colorbar": {
             "outlinewidth": 1,
             "tickcolor": "rgb(36,36,36)",
             "ticks": "outside"
            },
            "colorscale": [
             [
              0,
              "#440154"
             ],
             [
              0.1111111111111111,
              "#482878"
             ],
             [
              0.2222222222222222,
              "#3e4989"
             ],
             [
              0.3333333333333333,
              "#31688e"
             ],
             [
              0.4444444444444444,
              "#26828e"
             ],
             [
              0.5555555555555556,
              "#1f9e89"
             ],
             [
              0.6666666666666666,
              "#35b779"
             ],
             [
              0.7777777777777778,
              "#6ece58"
             ],
             [
              0.8888888888888888,
              "#b5de2b"
             ],
             [
              1,
              "#fde725"
             ]
            ],
            "type": "histogram2dcontour"
           }
          ],
          "mesh3d": [
           {
            "colorbar": {
             "outlinewidth": 1,
             "tickcolor": "rgb(36,36,36)",
             "ticks": "outside"
            },
            "type": "mesh3d"
           }
          ],
          "parcoords": [
           {
            "line": {
             "colorbar": {
              "outlinewidth": 1,
              "tickcolor": "rgb(36,36,36)",
              "ticks": "outside"
             }
            },
            "type": "parcoords"
           }
          ],
          "pie": [
           {
            "automargin": true,
            "type": "pie"
           }
          ],
          "scatter": [
           {
            "fillpattern": {
             "fillmode": "overlay",
             "size": 10,
             "solidity": 0.2
            },
            "type": "scatter"
           }
          ],
          "scatter3d": [
           {
            "line": {
             "colorbar": {
              "outlinewidth": 1,
              "tickcolor": "rgb(36,36,36)",
              "ticks": "outside"
             }
            },
            "marker": {
             "colorbar": {
              "outlinewidth": 1,
              "tickcolor": "rgb(36,36,36)",
              "ticks": "outside"
             }
            },
            "type": "scatter3d"
           }
          ],
          "scattercarpet": [
           {
            "marker": {
             "colorbar": {
              "outlinewidth": 1,
              "tickcolor": "rgb(36,36,36)",
              "ticks": "outside"
             }
            },
            "type": "scattercarpet"
           }
          ],
          "scattergeo": [
           {
            "marker": {
             "colorbar": {
              "outlinewidth": 1,
              "tickcolor": "rgb(36,36,36)",
              "ticks": "outside"
             }
            },
            "type": "scattergeo"
           }
          ],
          "scattergl": [
           {
            "marker": {
             "colorbar": {
              "outlinewidth": 1,
              "tickcolor": "rgb(36,36,36)",
              "ticks": "outside"
             }
            },
            "type": "scattergl"
           }
          ],
          "scattermapbox": [
           {
            "marker": {
             "colorbar": {
              "outlinewidth": 1,
              "tickcolor": "rgb(36,36,36)",
              "ticks": "outside"
             }
            },
            "type": "scattermapbox"
           }
          ],
          "scatterpolar": [
           {
            "marker": {
             "colorbar": {
              "outlinewidth": 1,
              "tickcolor": "rgb(36,36,36)",
              "ticks": "outside"
             }
            },
            "type": "scatterpolar"
           }
          ],
          "scatterpolargl": [
           {
            "marker": {
             "colorbar": {
              "outlinewidth": 1,
              "tickcolor": "rgb(36,36,36)",
              "ticks": "outside"
             }
            },
            "type": "scatterpolargl"
           }
          ],
          "scatterternary": [
           {
            "marker": {
             "colorbar": {
              "outlinewidth": 1,
              "tickcolor": "rgb(36,36,36)",
              "ticks": "outside"
             }
            },
            "type": "scatterternary"
           }
          ],
          "surface": [
           {
            "colorbar": {
             "outlinewidth": 1,
             "tickcolor": "rgb(36,36,36)",
             "ticks": "outside"
            },
            "colorscale": [
             [
              0,
              "#440154"
             ],
             [
              0.1111111111111111,
              "#482878"
             ],
             [
              0.2222222222222222,
              "#3e4989"
             ],
             [
              0.3333333333333333,
              "#31688e"
             ],
             [
              0.4444444444444444,
              "#26828e"
             ],
             [
              0.5555555555555556,
              "#1f9e89"
             ],
             [
              0.6666666666666666,
              "#35b779"
             ],
             [
              0.7777777777777778,
              "#6ece58"
             ],
             [
              0.8888888888888888,
              "#b5de2b"
             ],
             [
              1,
              "#fde725"
             ]
            ],
            "type": "surface"
           }
          ],
          "table": [
           {
            "cells": {
             "fill": {
              "color": "rgb(237,237,237)"
             },
             "line": {
              "color": "white"
             }
            },
            "header": {
             "fill": {
              "color": "rgb(217,217,217)"
             },
             "line": {
              "color": "white"
             }
            },
            "type": "table"
           }
          ]
         },
         "layout": {
          "annotationdefaults": {
           "arrowhead": 0,
           "arrowwidth": 1
          },
          "autotypenumbers": "strict",
          "coloraxis": {
           "colorbar": {
            "outlinewidth": 1,
            "tickcolor": "rgb(36,36,36)",
            "ticks": "outside"
           }
          },
          "colorscale": {
           "diverging": [
            [
             0,
             "rgb(103,0,31)"
            ],
            [
             0.1,
             "rgb(178,24,43)"
            ],
            [
             0.2,
             "rgb(214,96,77)"
            ],
            [
             0.3,
             "rgb(244,165,130)"
            ],
            [
             0.4,
             "rgb(253,219,199)"
            ],
            [
             0.5,
             "rgb(247,247,247)"
            ],
            [
             0.6,
             "rgb(209,229,240)"
            ],
            [
             0.7,
             "rgb(146,197,222)"
            ],
            [
             0.8,
             "rgb(67,147,195)"
            ],
            [
             0.9,
             "rgb(33,102,172)"
            ],
            [
             1,
             "rgb(5,48,97)"
            ]
           ],
           "sequential": [
            [
             0,
             "#440154"
            ],
            [
             0.1111111111111111,
             "#482878"
            ],
            [
             0.2222222222222222,
             "#3e4989"
            ],
            [
             0.3333333333333333,
             "#31688e"
            ],
            [
             0.4444444444444444,
             "#26828e"
            ],
            [
             0.5555555555555556,
             "#1f9e89"
            ],
            [
             0.6666666666666666,
             "#35b779"
            ],
            [
             0.7777777777777778,
             "#6ece58"
            ],
            [
             0.8888888888888888,
             "#b5de2b"
            ],
            [
             1,
             "#fde725"
            ]
           ],
           "sequentialminus": [
            [
             0,
             "#440154"
            ],
            [
             0.1111111111111111,
             "#482878"
            ],
            [
             0.2222222222222222,
             "#3e4989"
            ],
            [
             0.3333333333333333,
             "#31688e"
            ],
            [
             0.4444444444444444,
             "#26828e"
            ],
            [
             0.5555555555555556,
             "#1f9e89"
            ],
            [
             0.6666666666666666,
             "#35b779"
            ],
            [
             0.7777777777777778,
             "#6ece58"
            ],
            [
             0.8888888888888888,
             "#b5de2b"
            ],
            [
             1,
             "#fde725"
            ]
           ]
          },
          "colorway": [
           "#1F77B4",
           "#FF7F0E",
           "#2CA02C",
           "#D62728",
           "#9467BD",
           "#8C564B",
           "#E377C2",
           "#7F7F7F",
           "#BCBD22",
           "#17BECF"
          ],
          "font": {
           "color": "rgb(36,36,36)"
          },
          "geo": {
           "bgcolor": "white",
           "lakecolor": "white",
           "landcolor": "white",
           "showlakes": true,
           "showland": true,
           "subunitcolor": "white"
          },
          "hoverlabel": {
           "align": "left"
          },
          "hovermode": "closest",
          "mapbox": {
           "style": "light"
          },
          "paper_bgcolor": "white",
          "plot_bgcolor": "white",
          "polar": {
           "angularaxis": {
            "gridcolor": "rgb(232,232,232)",
            "linecolor": "rgb(36,36,36)",
            "showgrid": false,
            "showline": true,
            "ticks": "outside"
           },
           "bgcolor": "white",
           "radialaxis": {
            "gridcolor": "rgb(232,232,232)",
            "linecolor": "rgb(36,36,36)",
            "showgrid": false,
            "showline": true,
            "ticks": "outside"
           }
          },
          "scene": {
           "xaxis": {
            "backgroundcolor": "white",
            "gridcolor": "rgb(232,232,232)",
            "gridwidth": 2,
            "linecolor": "rgb(36,36,36)",
            "showbackground": true,
            "showgrid": false,
            "showline": true,
            "ticks": "outside",
            "zeroline": false,
            "zerolinecolor": "rgb(36,36,36)"
           },
           "yaxis": {
            "backgroundcolor": "white",
            "gridcolor": "rgb(232,232,232)",
            "gridwidth": 2,
            "linecolor": "rgb(36,36,36)",
            "showbackground": true,
            "showgrid": false,
            "showline": true,
            "ticks": "outside",
            "zeroline": false,
            "zerolinecolor": "rgb(36,36,36)"
           },
           "zaxis": {
            "backgroundcolor": "white",
            "gridcolor": "rgb(232,232,232)",
            "gridwidth": 2,
            "linecolor": "rgb(36,36,36)",
            "showbackground": true,
            "showgrid": false,
            "showline": true,
            "ticks": "outside",
            "zeroline": false,
            "zerolinecolor": "rgb(36,36,36)"
           }
          },
          "shapedefaults": {
           "fillcolor": "black",
           "line": {
            "width": 0
           },
           "opacity": 0.3
          },
          "ternary": {
           "aaxis": {
            "gridcolor": "rgb(232,232,232)",
            "linecolor": "rgb(36,36,36)",
            "showgrid": false,
            "showline": true,
            "ticks": "outside"
           },
           "baxis": {
            "gridcolor": "rgb(232,232,232)",
            "linecolor": "rgb(36,36,36)",
            "showgrid": false,
            "showline": true,
            "ticks": "outside"
           },
           "bgcolor": "white",
           "caxis": {
            "gridcolor": "rgb(232,232,232)",
            "linecolor": "rgb(36,36,36)",
            "showgrid": false,
            "showline": true,
            "ticks": "outside"
           }
          },
          "title": {
           "x": 0.05
          },
          "xaxis": {
           "automargin": true,
           "gridcolor": "rgb(232,232,232)",
           "linecolor": "rgb(36,36,36)",
           "showgrid": false,
           "showline": true,
           "ticks": "outside",
           "title": {
            "standoff": 15
           },
           "zeroline": false,
           "zerolinecolor": "rgb(36,36,36)"
          },
          "yaxis": {
           "automargin": true,
           "gridcolor": "rgb(232,232,232)",
           "linecolor": "rgb(36,36,36)",
           "showgrid": false,
           "showline": true,
           "ticks": "outside",
           "title": {
            "standoff": 15
           },
           "zeroline": false,
           "zerolinecolor": "rgb(36,36,36)"
          }
         }
        },
        "title": {
         "font": {
          "color": "Black",
          "size": 22
         },
         "text": "<b>Topics over Time</b>",
         "x": 0.4,
         "xanchor": "center",
         "y": 0.95,
         "yanchor": "top"
        },
        "width": 1250,
        "xaxis": {
         "showgrid": true
        },
        "yaxis": {
         "showgrid": true,
         "title": {
          "text": "Frequency"
         }
        }
       }
      }
     },
     "metadata": {},
     "output_type": "display_data"
    }
   ],
   "source": [
    "topic_model.visualize_topics_over_time(topics_over_time, topics=[0,1,2,3,4,5,6,7,8,9])"
   ]
  },
  {
   "cell_type": "code",
   "execution_count": 27,
   "metadata": {},
   "outputs": [
    {
     "data": {
      "text/plain": [
       "{-1: [('growth', 0.01332837719835727),\n",
       "  ('data', 0.012622724311517255),\n",
       "  ('countries', 0.012332411574622313),\n",
       "  ('economic', 0.012173933195447465),\n",
       "  ('find', 0.011740407846997522),\n",
       "  ('model', 0.011664764568511338),\n",
       "  ('using', 0.011053951714759942),\n",
       "  ('effects', 0.011036393433095159),\n",
       "  ('income', 0.01096135412776372),\n",
       "  ('paper', 0.010595958675500602)],\n",
       " 0: [('model', 0.017391281691893953),\n",
       "  ('financial', 0.016360997440543028),\n",
       "  ('policy', 0.013630123803159498),\n",
       "  ('risk', 0.012972489549086865),\n",
       "  ('shocks', 0.012449110217549643),\n",
       "  ('monetary', 0.012392575385174619),\n",
       "  ('market', 0.012287313717136534),\n",
       "  ('debt', 0.01161327994327117),\n",
       "  ('inflation', 0.011456884609441798),\n",
       "  ('paper', 0.011349912312273027)],\n",
       " 1: [('information', 0.017175153320380755),\n",
       "  ('game', 0.015251248028771336),\n",
       "  ('agent', 0.015101048262838613),\n",
       "  ('agents', 0.015016160946649579),\n",
       "  ('preferences', 0.014864005562516797),\n",
       "  ('equilibrium', 0.0147508933171382),\n",
       "  ('show', 0.013116274632981198),\n",
       "  ('games', 0.013064125084368177),\n",
       "  ('players', 0.012972230398907764),\n",
       "  ('social', 0.012703579777728487)],\n",
       " 2: [('workers', 0.048653680285591194),\n",
       "  ('wage', 0.04632724849300953),\n",
       "  ('unemployment', 0.04045538264358913),\n",
       "  ('labor', 0.03756897490374073),\n",
       "  ('job', 0.03186532929796681),\n",
       "  ('employment', 0.028190963225618614),\n",
       "  ('wages', 0.02769116686754616),\n",
       "  ('search', 0.026073218866594097),\n",
       "  ('model', 0.020475112759266993),\n",
       "  ('market', 0.0181834104530573)],\n",
       " 3: [('trade', 0.07870096091087013),\n",
       "  ('export', 0.03556756193816061),\n",
       "  ('firms', 0.028438335987355134),\n",
       "  ('exports', 0.023608975735584545),\n",
       "  ('countries', 0.023596466558991388),\n",
       "  ('model', 0.019826842299002688),\n",
       "  ('costs', 0.017345358729476176),\n",
       "  ('tariff', 0.0173055479261632),\n",
       "  ('tariffs', 0.0172385368045213),\n",
       "  ('exporters', 0.016758664068379298)],\n",
       " 4: [('consumers', 0.03820464370896975),\n",
       "  ('price', 0.033029010122739025),\n",
       "  ('firms', 0.0272665219191402),\n",
       "  ('competition', 0.026262672298739156),\n",
       "  ('market', 0.024920225807737645),\n",
       "  ('product', 0.021255751204059675),\n",
       "  ('consumer', 0.02070449133191129),\n",
       "  ('firm', 0.020287639648868244),\n",
       "  ('prices', 0.01991607346853291),\n",
       "  ('equilibrium', 0.017460177049982845)],\n",
       " 5: [('emissions', 0.04778197588033363),\n",
       "  ('energy', 0.04408436047882198),\n",
       "  ('environmental', 0.04361935154222099),\n",
       "  ('pollution', 0.03519420940481575),\n",
       "  ('carbon', 0.03262129805401362),\n",
       "  ('electricity', 0.023552470457194632),\n",
       "  ('climate', 0.021511345664018185),\n",
       "  ('air', 0.01821453827579741),\n",
       "  ('fuel', 0.017014377607540588),\n",
       "  ('emission', 0.01592930474393584)],\n",
       " 6: [('students', 0.0747347298154305),\n",
       "  ('school', 0.06376475596598254),\n",
       "  ('schools', 0.046715745536135604),\n",
       "  ('student', 0.03445623890593939),\n",
       "  ('education', 0.03391128926314903),\n",
       "  ('college', 0.03381897195805772),\n",
       "  ('teachers', 0.023145275381732548),\n",
       "  ('scores', 0.019336115322229435),\n",
       "  ('achievement', 0.01892543181377809),\n",
       "  ('effects', 0.018092610527176613)],\n",
       " 7: [('children', 0.05042041885186848),\n",
       "  ('child', 0.04574494491541789),\n",
       "  ('marriage', 0.043683146269688576),\n",
       "  ('fertility', 0.0412458199390066),\n",
       "  ('women', 0.03591878523931978),\n",
       "  ('birth', 0.024331511423259334),\n",
       "  ('health', 0.0214399923093914),\n",
       "  ('family', 0.021194845165514776),\n",
       "  ('parents', 0.019657532427511382),\n",
       "  ('mothers', 0.019092265532747496)],\n",
       " 8: [('tax', 0.13814391713665602),\n",
       "  ('taxes', 0.04538405994849257),\n",
       "  ('income', 0.0321328334338757),\n",
       "  ('taxation', 0.030464492074363102),\n",
       "  ('capital', 0.02622212477572666),\n",
       "  ('optimal', 0.02260312654658853),\n",
       "  ('evasion', 0.02120938192802226),\n",
       "  ('rates', 0.014901465450021713),\n",
       "  ('model', 0.014704608941069265),\n",
       "  ('rate', 0.014498564446605008)],\n",
       " 9: [('voters', 0.046401774107288185),\n",
       "  ('political', 0.045816541466469594),\n",
       "  ('elections', 0.033978161025515964),\n",
       "  ('electoral', 0.02697264093625236),\n",
       "  ('party', 0.026211998114895343),\n",
       "  ('vote', 0.02609234859330917),\n",
       "  ('politicians', 0.025820129593620737),\n",
       "  ('election', 0.025053276855919484),\n",
       "  ('voter', 0.024834909633786942),\n",
       "  ('voting', 0.023043868217261503)],\n",
       " 10: [('migration', 0.07306176953320077),\n",
       "  ('immigration', 0.044670714652516756),\n",
       "  ('migrants', 0.042396125120041955),\n",
       "  ('immigrants', 0.03918388127059651),\n",
       "  ('labor', 0.03229295256969523),\n",
       "  ('natives', 0.02485906456954308),\n",
       "  ('workers', 0.021133239793422662),\n",
       "  ('refugees', 0.020574269766145483),\n",
       "  ('countries', 0.01913967356258752),\n",
       "  ('refugee', 0.019093563763837265)],\n",
       " 11: [('inequality', 0.07728308478389152),\n",
       "  ('wealth', 0.06984389943981112),\n",
       "  ('income', 0.0681079776871879),\n",
       "  ('consumption', 0.04112925797295836),\n",
       "  ('households', 0.029097185609122098),\n",
       "  ('top', 0.02853197892660296),\n",
       "  ('distribution', 0.02086485528287644),\n",
       "  ('growth', 0.019918039312142324),\n",
       "  ('household', 0.01879620726980852),\n",
       "  ('data', 0.01694173224760704)],\n",
       " 12: [('health', 0.0725599104804145),\n",
       "  ('insurance', 0.06095826839061337),\n",
       "  ('care', 0.042471094755583624),\n",
       "  ('hospital', 0.03138566557144822),\n",
       "  ('medicare', 0.030106769538290883),\n",
       "  ('hospitals', 0.028795475700144135),\n",
       "  ('medical', 0.027930176464246063),\n",
       "  ('physicians', 0.026496406734378246),\n",
       "  ('patients', 0.026283687692158705),\n",
       "  ('spending', 0.0196014103201956)],\n",
       " 13: [('gender', 0.11320643717872822),\n",
       "  ('women', 0.09662655289437636),\n",
       "  ('female', 0.056220036048142276),\n",
       "  ('men', 0.05476840651938739),\n",
       "  ('gap', 0.04439615419958566),\n",
       "  ('male', 0.026164480274888977),\n",
       "  ('differences', 0.025273025449945297),\n",
       "  ('find', 0.019124354538606406),\n",
       "  ('performance', 0.017682700306911357),\n",
       "  ('less', 0.01696681408695473)],\n",
       " 14: [('agricultural', 0.0703961919189395),\n",
       "  ('land', 0.06474746406293386),\n",
       "  ('farmers', 0.04883325876923981),\n",
       "  ('productivity', 0.03434065414985225),\n",
       "  ('agriculture', 0.02800206895027645),\n",
       "  ('labor', 0.019980572927884306),\n",
       "  ('rural', 0.019271896669909794),\n",
       "  ('fertilizer', 0.019124983501306682),\n",
       "  ('adoption', 0.01652475362651383),\n",
       "  ('production', 0.01648333354156185)],\n",
       " 15: [('crime', 0.09605541810556295),\n",
       "  ('criminal', 0.046101082458240225),\n",
       "  ('police', 0.03811237949581069),\n",
       "  ('incarceration', 0.02582867274588473),\n",
       "  ('crimes', 0.023745866123837306),\n",
       "  ('judges', 0.02373034949739156),\n",
       "  ('prison', 0.020867417019969636),\n",
       "  ('rates', 0.020538707697032307),\n",
       "  ('defendants', 0.01875555636643567),\n",
       "  ('sentencing', 0.018149212659899588)],\n",
       " 16: [('productivity', 0.061785290341319146),\n",
       "  ('growth', 0.04921555369901134),\n",
       "  ('knowledge', 0.0407158974323281),\n",
       "  ('innovation', 0.03621361733166578),\n",
       "  ('firms', 0.03405504785047036),\n",
       "  ('technology', 0.03296649165288359),\n",
       "  ('manufacturing', 0.024415165774425995),\n",
       "  ('firm', 0.022001643437967136),\n",
       "  ('spillovers', 0.021101014800535636),\n",
       "  ('technological', 0.020210492152775393)],\n",
       " 17: [('conflict', 0.07680093261045531),\n",
       "  ('ethnic', 0.045708919715688974),\n",
       "  ('terrorism', 0.038955782701475906),\n",
       "  ('violence', 0.038010317858272163),\n",
       "  ('war', 0.02796739699569301),\n",
       "  ('civil', 0.025196321690982227),\n",
       "  ('political', 0.0245883375253852),\n",
       "  ('attacks', 0.023866496913931112),\n",
       "  ('economic', 0.020898280447550054),\n",
       "  ('military', 0.02025969353460679)],\n",
       " 18: [('patent', 0.13960744900872155),\n",
       "  ('innovation', 0.07832016494872475),\n",
       "  ('patents', 0.07546854074775786),\n",
       "  ('protection', 0.0474418361848838),\n",
       "  ('licensing', 0.03422268319391228),\n",
       "  ('intellectual', 0.03213514592803849),\n",
       "  ('property', 0.026418912718961622),\n",
       "  ('firms', 0.02606605803384185),\n",
       "  ('ipr', 0.024782317337625658),\n",
       "  ('rights', 0.0246858919247672)],\n",
       " 19: [('covid19', 0.055360569421778416),\n",
       "  ('pandemic', 0.04527075965519511),\n",
       "  ('health', 0.040359566501502),\n",
       "  ('disease', 0.03439655036661664),\n",
       "  ('economic', 0.02904813659136671),\n",
       "  ('malaria', 0.02806372647360748),\n",
       "  ('mortality', 0.02237241750456445),\n",
       "  ('infectious', 0.02034635250473667),\n",
       "  ('population', 0.017540692146316806),\n",
       "  ('lockdown', 0.017504923422788532)],\n",
       " 20: [('infrastructure', 0.05023426916685603),\n",
       "  ('cities', 0.049050170676150515),\n",
       "  ('transportation', 0.03124146267739405),\n",
       "  ('road', 0.030845582490490693),\n",
       "  ('agglomeration', 0.029640752577522182),\n",
       "  ('city', 0.02538572953038932),\n",
       "  ('roads', 0.025005992612304552),\n",
       "  ('economic', 0.023945486986747585),\n",
       "  ('spatial', 0.023303864879841422),\n",
       "  ('urban', 0.021219160774253194)],\n",
       " 21: [('retirement', 0.10451710164940156),\n",
       "  ('pension', 0.06173953341866687),\n",
       "  ('security', 0.0464582969073873),\n",
       "  ('longevity', 0.04110109771324675),\n",
       "  ('life', 0.03733075088360834),\n",
       "  ('social', 0.0347621362215422),\n",
       "  ('health', 0.03399046627638711),\n",
       "  ('age', 0.026969468848885073),\n",
       "  ('annuity', 0.023008759361949318),\n",
       "  ('optimal', 0.0228081740161435)],\n",
       " 22: [('poverty', 0.14200577389415955),\n",
       "  ('households', 0.039008723759167314),\n",
       "  ('household', 0.036839081699894624),\n",
       "  ('poor', 0.02930755975166723),\n",
       "  ('income', 0.02291129895306925),\n",
       "  ('savings', 0.022711014338381234),\n",
       "  ('resilience', 0.021750349320633244),\n",
       "  ('data', 0.01781903786099418),\n",
       "  ('traps', 0.01747630475809132),\n",
       "  ('program', 0.01743863027292832)],\n",
       " 23: [('journals', 0.06913509147431429),\n",
       "  ('economics', 0.06220077737354661),\n",
       "  ('papers', 0.06058638129157149),\n",
       "  ('journal', 0.05612966806130604),\n",
       "  ('articles', 0.04768260954637633),\n",
       "  ('citations', 0.044694368960563925),\n",
       "  ('published', 0.04154255795401391),\n",
       "  ('replication', 0.039719151102297484),\n",
       "  ('research', 0.03563142479754071),\n",
       "  ('publication', 0.03321889499688146)],\n",
       " 24: [('price', 0.12026511317129888),\n",
       "  ('prices', 0.07870234217417413),\n",
       "  ('changes', 0.03190354920209784),\n",
       "  ('index', 0.02618668622707372),\n",
       "  ('data', 0.022209360111219843),\n",
       "  ('cost', 0.022133360248839166),\n",
       "  ('goods', 0.02018738913105073),\n",
       "  ('retail', 0.019964206549731474),\n",
       "  ('consumer', 0.0191455821623697),\n",
       "  ('online', 0.018817695468966663)]}"
      ]
     },
     "execution_count": 27,
     "metadata": {},
     "output_type": "execute_result"
    }
   ],
   "source": [
    "topic_model.get_topics()"
   ]
  },
  {
   "cell_type": "code",
   "execution_count": 28,
   "metadata": {},
   "outputs": [
    {
     "data": {
      "application/vnd.plotly.v1+json": {
       "config": {
        "plotlyServerURL": "https://plot.ly"
       },
       "data": [
        {
         "marker": {
          "color": "#D55E00"
         },
         "orientation": "h",
         "type": "bar",
         "x": [
          0.012449110217549643,
          0.012972489549086865,
          0.013630123803159498,
          0.016360997440543028,
          0.017391281691893953
         ],
         "xaxis": "x",
         "y": [
          "shocks  ",
          "risk  ",
          "policy  ",
          "financial  ",
          "model  "
         ],
         "yaxis": "y"
        },
        {
         "marker": {
          "color": "#0072B2"
         },
         "orientation": "h",
         "type": "bar",
         "x": [
          0.014864005562516797,
          0.015016160946649579,
          0.015101048262838613,
          0.015251248028771336,
          0.017175153320380755
         ],
         "xaxis": "x2",
         "y": [
          "preferences  ",
          "agents  ",
          "agent  ",
          "game  ",
          "information  "
         ],
         "yaxis": "y2"
        },
        {
         "marker": {
          "color": "#CC79A7"
         },
         "orientation": "h",
         "type": "bar",
         "x": [
          0.03186532929796681,
          0.03756897490374073,
          0.04045538264358913,
          0.04632724849300953,
          0.048653680285591194
         ],
         "xaxis": "x3",
         "y": [
          "job  ",
          "labor  ",
          "unemployment  ",
          "wage  ",
          "workers  "
         ],
         "yaxis": "y3"
        },
        {
         "marker": {
          "color": "#E69F00"
         },
         "orientation": "h",
         "type": "bar",
         "x": [
          0.023596466558991388,
          0.023608975735584545,
          0.028438335987355134,
          0.03556756193816061,
          0.07870096091087013
         ],
         "xaxis": "x4",
         "y": [
          "countries  ",
          "exports  ",
          "firms  ",
          "export  ",
          "trade  "
         ],
         "yaxis": "y4"
        },
        {
         "marker": {
          "color": "#56B4E9"
         },
         "orientation": "h",
         "type": "bar",
         "x": [
          0.024920225807737645,
          0.026262672298739156,
          0.0272665219191402,
          0.033029010122739025,
          0.03820464370896975
         ],
         "xaxis": "x5",
         "y": [
          "market  ",
          "competition  ",
          "firms  ",
          "price  ",
          "consumers  "
         ],
         "yaxis": "y5"
        },
        {
         "marker": {
          "color": "#009E73"
         },
         "orientation": "h",
         "type": "bar",
         "x": [
          0.03262129805401362,
          0.03519420940481575,
          0.04361935154222099,
          0.04408436047882198,
          0.04778197588033363
         ],
         "xaxis": "x6",
         "y": [
          "carbon  ",
          "pollution  ",
          "environmental  ",
          "energy  ",
          "emissions  "
         ],
         "yaxis": "y6"
        },
        {
         "marker": {
          "color": "#F0E442"
         },
         "orientation": "h",
         "type": "bar",
         "x": [
          0.03391128926314903,
          0.03445623890593939,
          0.046715745536135604,
          0.06376475596598254,
          0.0747347298154305
         ],
         "xaxis": "x7",
         "y": [
          "education  ",
          "student  ",
          "schools  ",
          "school  ",
          "students  "
         ],
         "yaxis": "y7"
        },
        {
         "marker": {
          "color": "#D55E00"
         },
         "orientation": "h",
         "type": "bar",
         "x": [
          0.03591878523931978,
          0.0412458199390066,
          0.043683146269688576,
          0.04574494491541789,
          0.05042041885186848
         ],
         "xaxis": "x8",
         "y": [
          "women  ",
          "fertility  ",
          "marriage  ",
          "child  ",
          "children  "
         ],
         "yaxis": "y8"
        }
       ],
       "layout": {
        "annotations": [
         {
          "font": {
           "size": 16
          },
          "showarrow": false,
          "text": "Topic 0",
          "x": 0.0875,
          "xanchor": "center",
          "xref": "paper",
          "y": 1,
          "yanchor": "bottom",
          "yref": "paper"
         },
         {
          "font": {
           "size": 16
          },
          "showarrow": false,
          "text": "Topic 1",
          "x": 0.36250000000000004,
          "xanchor": "center",
          "xref": "paper",
          "y": 1,
          "yanchor": "bottom",
          "yref": "paper"
         },
         {
          "font": {
           "size": 16
          },
          "showarrow": false,
          "text": "Topic 2",
          "x": 0.6375000000000001,
          "xanchor": "center",
          "xref": "paper",
          "y": 1,
          "yanchor": "bottom",
          "yref": "paper"
         },
         {
          "font": {
           "size": 16
          },
          "showarrow": false,
          "text": "Topic 3",
          "x": 0.9125,
          "xanchor": "center",
          "xref": "paper",
          "y": 1,
          "yanchor": "bottom",
          "yref": "paper"
         },
         {
          "font": {
           "size": 16
          },
          "showarrow": false,
          "text": "Topic 4",
          "x": 0.0875,
          "xanchor": "center",
          "xref": "paper",
          "y": 0.4,
          "yanchor": "bottom",
          "yref": "paper"
         },
         {
          "font": {
           "size": 16
          },
          "showarrow": false,
          "text": "Topic 5",
          "x": 0.36250000000000004,
          "xanchor": "center",
          "xref": "paper",
          "y": 0.4,
          "yanchor": "bottom",
          "yref": "paper"
         },
         {
          "font": {
           "size": 16
          },
          "showarrow": false,
          "text": "Topic 6",
          "x": 0.6375000000000001,
          "xanchor": "center",
          "xref": "paper",
          "y": 0.4,
          "yanchor": "bottom",
          "yref": "paper"
         },
         {
          "font": {
           "size": 16
          },
          "showarrow": false,
          "text": "Topic 7",
          "x": 0.9125,
          "xanchor": "center",
          "xref": "paper",
          "y": 0.4,
          "yanchor": "bottom",
          "yref": "paper"
         }
        ],
        "height": 500,
        "hoverlabel": {
         "bgcolor": "white",
         "font": {
          "family": "Rockwell",
          "size": 16
         }
        },
        "showlegend": false,
        "template": {
         "data": {
          "bar": [
           {
            "error_x": {
             "color": "#2a3f5f"
            },
            "error_y": {
             "color": "#2a3f5f"
            },
            "marker": {
             "line": {
              "color": "white",
              "width": 0.5
             },
             "pattern": {
              "fillmode": "overlay",
              "size": 10,
              "solidity": 0.2
             }
            },
            "type": "bar"
           }
          ],
          "barpolar": [
           {
            "marker": {
             "line": {
              "color": "white",
              "width": 0.5
             },
             "pattern": {
              "fillmode": "overlay",
              "size": 10,
              "solidity": 0.2
             }
            },
            "type": "barpolar"
           }
          ],
          "carpet": [
           {
            "aaxis": {
             "endlinecolor": "#2a3f5f",
             "gridcolor": "#C8D4E3",
             "linecolor": "#C8D4E3",
             "minorgridcolor": "#C8D4E3",
             "startlinecolor": "#2a3f5f"
            },
            "baxis": {
             "endlinecolor": "#2a3f5f",
             "gridcolor": "#C8D4E3",
             "linecolor": "#C8D4E3",
             "minorgridcolor": "#C8D4E3",
             "startlinecolor": "#2a3f5f"
            },
            "type": "carpet"
           }
          ],
          "choropleth": [
           {
            "colorbar": {
             "outlinewidth": 0,
             "ticks": ""
            },
            "type": "choropleth"
           }
          ],
          "contour": [
           {
            "colorbar": {
             "outlinewidth": 0,
             "ticks": ""
            },
            "colorscale": [
             [
              0,
              "#0d0887"
             ],
             [
              0.1111111111111111,
              "#46039f"
             ],
             [
              0.2222222222222222,
              "#7201a8"
             ],
             [
              0.3333333333333333,
              "#9c179e"
             ],
             [
              0.4444444444444444,
              "#bd3786"
             ],
             [
              0.5555555555555556,
              "#d8576b"
             ],
             [
              0.6666666666666666,
              "#ed7953"
             ],
             [
              0.7777777777777778,
              "#fb9f3a"
             ],
             [
              0.8888888888888888,
              "#fdca26"
             ],
             [
              1,
              "#f0f921"
             ]
            ],
            "type": "contour"
           }
          ],
          "contourcarpet": [
           {
            "colorbar": {
             "outlinewidth": 0,
             "ticks": ""
            },
            "type": "contourcarpet"
           }
          ],
          "heatmap": [
           {
            "colorbar": {
             "outlinewidth": 0,
             "ticks": ""
            },
            "colorscale": [
             [
              0,
              "#0d0887"
             ],
             [
              0.1111111111111111,
              "#46039f"
             ],
             [
              0.2222222222222222,
              "#7201a8"
             ],
             [
              0.3333333333333333,
              "#9c179e"
             ],
             [
              0.4444444444444444,
              "#bd3786"
             ],
             [
              0.5555555555555556,
              "#d8576b"
             ],
             [
              0.6666666666666666,
              "#ed7953"
             ],
             [
              0.7777777777777778,
              "#fb9f3a"
             ],
             [
              0.8888888888888888,
              "#fdca26"
             ],
             [
              1,
              "#f0f921"
             ]
            ],
            "type": "heatmap"
           }
          ],
          "heatmapgl": [
           {
            "colorbar": {
             "outlinewidth": 0,
             "ticks": ""
            },
            "colorscale": [
             [
              0,
              "#0d0887"
             ],
             [
              0.1111111111111111,
              "#46039f"
             ],
             [
              0.2222222222222222,
              "#7201a8"
             ],
             [
              0.3333333333333333,
              "#9c179e"
             ],
             [
              0.4444444444444444,
              "#bd3786"
             ],
             [
              0.5555555555555556,
              "#d8576b"
             ],
             [
              0.6666666666666666,
              "#ed7953"
             ],
             [
              0.7777777777777778,
              "#fb9f3a"
             ],
             [
              0.8888888888888888,
              "#fdca26"
             ],
             [
              1,
              "#f0f921"
             ]
            ],
            "type": "heatmapgl"
           }
          ],
          "histogram": [
           {
            "marker": {
             "pattern": {
              "fillmode": "overlay",
              "size": 10,
              "solidity": 0.2
             }
            },
            "type": "histogram"
           }
          ],
          "histogram2d": [
           {
            "colorbar": {
             "outlinewidth": 0,
             "ticks": ""
            },
            "colorscale": [
             [
              0,
              "#0d0887"
             ],
             [
              0.1111111111111111,
              "#46039f"
             ],
             [
              0.2222222222222222,
              "#7201a8"
             ],
             [
              0.3333333333333333,
              "#9c179e"
             ],
             [
              0.4444444444444444,
              "#bd3786"
             ],
             [
              0.5555555555555556,
              "#d8576b"
             ],
             [
              0.6666666666666666,
              "#ed7953"
             ],
             [
              0.7777777777777778,
              "#fb9f3a"
             ],
             [
              0.8888888888888888,
              "#fdca26"
             ],
             [
              1,
              "#f0f921"
             ]
            ],
            "type": "histogram2d"
           }
          ],
          "histogram2dcontour": [
           {
            "colorbar": {
             "outlinewidth": 0,
             "ticks": ""
            },
            "colorscale": [
             [
              0,
              "#0d0887"
             ],
             [
              0.1111111111111111,
              "#46039f"
             ],
             [
              0.2222222222222222,
              "#7201a8"
             ],
             [
              0.3333333333333333,
              "#9c179e"
             ],
             [
              0.4444444444444444,
              "#bd3786"
             ],
             [
              0.5555555555555556,
              "#d8576b"
             ],
             [
              0.6666666666666666,
              "#ed7953"
             ],
             [
              0.7777777777777778,
              "#fb9f3a"
             ],
             [
              0.8888888888888888,
              "#fdca26"
             ],
             [
              1,
              "#f0f921"
             ]
            ],
            "type": "histogram2dcontour"
           }
          ],
          "mesh3d": [
           {
            "colorbar": {
             "outlinewidth": 0,
             "ticks": ""
            },
            "type": "mesh3d"
           }
          ],
          "parcoords": [
           {
            "line": {
             "colorbar": {
              "outlinewidth": 0,
              "ticks": ""
             }
            },
            "type": "parcoords"
           }
          ],
          "pie": [
           {
            "automargin": true,
            "type": "pie"
           }
          ],
          "scatter": [
           {
            "fillpattern": {
             "fillmode": "overlay",
             "size": 10,
             "solidity": 0.2
            },
            "type": "scatter"
           }
          ],
          "scatter3d": [
           {
            "line": {
             "colorbar": {
              "outlinewidth": 0,
              "ticks": ""
             }
            },
            "marker": {
             "colorbar": {
              "outlinewidth": 0,
              "ticks": ""
             }
            },
            "type": "scatter3d"
           }
          ],
          "scattercarpet": [
           {
            "marker": {
             "colorbar": {
              "outlinewidth": 0,
              "ticks": ""
             }
            },
            "type": "scattercarpet"
           }
          ],
          "scattergeo": [
           {
            "marker": {
             "colorbar": {
              "outlinewidth": 0,
              "ticks": ""
             }
            },
            "type": "scattergeo"
           }
          ],
          "scattergl": [
           {
            "marker": {
             "colorbar": {
              "outlinewidth": 0,
              "ticks": ""
             }
            },
            "type": "scattergl"
           }
          ],
          "scattermapbox": [
           {
            "marker": {
             "colorbar": {
              "outlinewidth": 0,
              "ticks": ""
             }
            },
            "type": "scattermapbox"
           }
          ],
          "scatterpolar": [
           {
            "marker": {
             "colorbar": {
              "outlinewidth": 0,
              "ticks": ""
             }
            },
            "type": "scatterpolar"
           }
          ],
          "scatterpolargl": [
           {
            "marker": {
             "colorbar": {
              "outlinewidth": 0,
              "ticks": ""
             }
            },
            "type": "scatterpolargl"
           }
          ],
          "scatterternary": [
           {
            "marker": {
             "colorbar": {
              "outlinewidth": 0,
              "ticks": ""
             }
            },
            "type": "scatterternary"
           }
          ],
          "surface": [
           {
            "colorbar": {
             "outlinewidth": 0,
             "ticks": ""
            },
            "colorscale": [
             [
              0,
              "#0d0887"
             ],
             [
              0.1111111111111111,
              "#46039f"
             ],
             [
              0.2222222222222222,
              "#7201a8"
             ],
             [
              0.3333333333333333,
              "#9c179e"
             ],
             [
              0.4444444444444444,
              "#bd3786"
             ],
             [
              0.5555555555555556,
              "#d8576b"
             ],
             [
              0.6666666666666666,
              "#ed7953"
             ],
             [
              0.7777777777777778,
              "#fb9f3a"
             ],
             [
              0.8888888888888888,
              "#fdca26"
             ],
             [
              1,
              "#f0f921"
             ]
            ],
            "type": "surface"
           }
          ],
          "table": [
           {
            "cells": {
             "fill": {
              "color": "#EBF0F8"
             },
             "line": {
              "color": "white"
             }
            },
            "header": {
             "fill": {
              "color": "#C8D4E3"
             },
             "line": {
              "color": "white"
             }
            },
            "type": "table"
           }
          ]
         },
         "layout": {
          "annotationdefaults": {
           "arrowcolor": "#2a3f5f",
           "arrowhead": 0,
           "arrowwidth": 1
          },
          "autotypenumbers": "strict",
          "coloraxis": {
           "colorbar": {
            "outlinewidth": 0,
            "ticks": ""
           }
          },
          "colorscale": {
           "diverging": [
            [
             0,
             "#8e0152"
            ],
            [
             0.1,
             "#c51b7d"
            ],
            [
             0.2,
             "#de77ae"
            ],
            [
             0.3,
             "#f1b6da"
            ],
            [
             0.4,
             "#fde0ef"
            ],
            [
             0.5,
             "#f7f7f7"
            ],
            [
             0.6,
             "#e6f5d0"
            ],
            [
             0.7,
             "#b8e186"
            ],
            [
             0.8,
             "#7fbc41"
            ],
            [
             0.9,
             "#4d9221"
            ],
            [
             1,
             "#276419"
            ]
           ],
           "sequential": [
            [
             0,
             "#0d0887"
            ],
            [
             0.1111111111111111,
             "#46039f"
            ],
            [
             0.2222222222222222,
             "#7201a8"
            ],
            [
             0.3333333333333333,
             "#9c179e"
            ],
            [
             0.4444444444444444,
             "#bd3786"
            ],
            [
             0.5555555555555556,
             "#d8576b"
            ],
            [
             0.6666666666666666,
             "#ed7953"
            ],
            [
             0.7777777777777778,
             "#fb9f3a"
            ],
            [
             0.8888888888888888,
             "#fdca26"
            ],
            [
             1,
             "#f0f921"
            ]
           ],
           "sequentialminus": [
            [
             0,
             "#0d0887"
            ],
            [
             0.1111111111111111,
             "#46039f"
            ],
            [
             0.2222222222222222,
             "#7201a8"
            ],
            [
             0.3333333333333333,
             "#9c179e"
            ],
            [
             0.4444444444444444,
             "#bd3786"
            ],
            [
             0.5555555555555556,
             "#d8576b"
            ],
            [
             0.6666666666666666,
             "#ed7953"
            ],
            [
             0.7777777777777778,
             "#fb9f3a"
            ],
            [
             0.8888888888888888,
             "#fdca26"
            ],
            [
             1,
             "#f0f921"
            ]
           ]
          },
          "colorway": [
           "#636efa",
           "#EF553B",
           "#00cc96",
           "#ab63fa",
           "#FFA15A",
           "#19d3f3",
           "#FF6692",
           "#B6E880",
           "#FF97FF",
           "#FECB52"
          ],
          "font": {
           "color": "#2a3f5f"
          },
          "geo": {
           "bgcolor": "white",
           "lakecolor": "white",
           "landcolor": "white",
           "showlakes": true,
           "showland": true,
           "subunitcolor": "#C8D4E3"
          },
          "hoverlabel": {
           "align": "left"
          },
          "hovermode": "closest",
          "mapbox": {
           "style": "light"
          },
          "paper_bgcolor": "white",
          "plot_bgcolor": "white",
          "polar": {
           "angularaxis": {
            "gridcolor": "#EBF0F8",
            "linecolor": "#EBF0F8",
            "ticks": ""
           },
           "bgcolor": "white",
           "radialaxis": {
            "gridcolor": "#EBF0F8",
            "linecolor": "#EBF0F8",
            "ticks": ""
           }
          },
          "scene": {
           "xaxis": {
            "backgroundcolor": "white",
            "gridcolor": "#DFE8F3",
            "gridwidth": 2,
            "linecolor": "#EBF0F8",
            "showbackground": true,
            "ticks": "",
            "zerolinecolor": "#EBF0F8"
           },
           "yaxis": {
            "backgroundcolor": "white",
            "gridcolor": "#DFE8F3",
            "gridwidth": 2,
            "linecolor": "#EBF0F8",
            "showbackground": true,
            "ticks": "",
            "zerolinecolor": "#EBF0F8"
           },
           "zaxis": {
            "backgroundcolor": "white",
            "gridcolor": "#DFE8F3",
            "gridwidth": 2,
            "linecolor": "#EBF0F8",
            "showbackground": true,
            "ticks": "",
            "zerolinecolor": "#EBF0F8"
           }
          },
          "shapedefaults": {
           "line": {
            "color": "#2a3f5f"
           }
          },
          "ternary": {
           "aaxis": {
            "gridcolor": "#DFE8F3",
            "linecolor": "#A2B1C6",
            "ticks": ""
           },
           "baxis": {
            "gridcolor": "#DFE8F3",
            "linecolor": "#A2B1C6",
            "ticks": ""
           },
           "bgcolor": "white",
           "caxis": {
            "gridcolor": "#DFE8F3",
            "linecolor": "#A2B1C6",
            "ticks": ""
           }
          },
          "title": {
           "x": 0.05
          },
          "xaxis": {
           "automargin": true,
           "gridcolor": "#EBF0F8",
           "linecolor": "#EBF0F8",
           "ticks": "",
           "title": {
            "standoff": 15
           },
           "zerolinecolor": "#EBF0F8",
           "zerolinewidth": 2
          },
          "yaxis": {
           "automargin": true,
           "gridcolor": "#EBF0F8",
           "linecolor": "#EBF0F8",
           "ticks": "",
           "title": {
            "standoff": 15
           },
           "zerolinecolor": "#EBF0F8",
           "zerolinewidth": 2
          }
         }
        },
        "title": {
         "font": {
          "color": "Black",
          "size": 22
         },
         "text": "Topic Word Scores",
         "x": 0.5,
         "xanchor": "center",
         "yanchor": "top"
        },
        "width": 1000,
        "xaxis": {
         "anchor": "y",
         "domain": [
          0,
          0.175
         ],
         "showgrid": true
        },
        "xaxis2": {
         "anchor": "y2",
         "domain": [
          0.275,
          0.45
         ],
         "showgrid": true
        },
        "xaxis3": {
         "anchor": "y3",
         "domain": [
          0.55,
          0.7250000000000001
         ],
         "showgrid": true
        },
        "xaxis4": {
         "anchor": "y4",
         "domain": [
          0.825,
          1
         ],
         "showgrid": true
        },
        "xaxis5": {
         "anchor": "y5",
         "domain": [
          0,
          0.175
         ],
         "showgrid": true
        },
        "xaxis6": {
         "anchor": "y6",
         "domain": [
          0.275,
          0.45
         ],
         "showgrid": true
        },
        "xaxis7": {
         "anchor": "y7",
         "domain": [
          0.55,
          0.7250000000000001
         ],
         "showgrid": true
        },
        "xaxis8": {
         "anchor": "y8",
         "domain": [
          0.825,
          1
         ],
         "showgrid": true
        },
        "yaxis": {
         "anchor": "x",
         "domain": [
          0.6000000000000001,
          1
         ],
         "showgrid": true
        },
        "yaxis2": {
         "anchor": "x2",
         "domain": [
          0.6000000000000001,
          1
         ],
         "showgrid": true
        },
        "yaxis3": {
         "anchor": "x3",
         "domain": [
          0.6000000000000001,
          1
         ],
         "showgrid": true
        },
        "yaxis4": {
         "anchor": "x4",
         "domain": [
          0.6000000000000001,
          1
         ],
         "showgrid": true
        },
        "yaxis5": {
         "anchor": "x5",
         "domain": [
          0,
          0.4
         ],
         "showgrid": true
        },
        "yaxis6": {
         "anchor": "x6",
         "domain": [
          0,
          0.4
         ],
         "showgrid": true
        },
        "yaxis7": {
         "anchor": "x7",
         "domain": [
          0,
          0.4
         ],
         "showgrid": true
        },
        "yaxis8": {
         "anchor": "x8",
         "domain": [
          0,
          0.4
         ],
         "showgrid": true
        }
       }
      }
     },
     "metadata": {},
     "output_type": "display_data"
    }
   ],
   "source": [
    "topic_model.visualize_barchart()"
   ]
  },
  {
   "cell_type": "code",
   "execution_count": 36,
   "metadata": {},
   "outputs": [],
   "source": [
    "fig = topic_model.visualize_heatmap()\n",
    "fig.write_html(\"similarity.html\")"
   ]
  },
  {
   "cell_type": "code",
   "execution_count": 30,
   "metadata": {},
   "outputs": [
    {
     "data": {
      "text/plain": [
       "['paper revisits relationship interest rates exchange rates small open emerging economy using wavelet-based methodologies . based data romania , results confirm theoretical predictions interest rate - exchange rate relationship turmoil policy changes . short term , relationship negative , confirming sticky-price models , long term , relationship positive , confirming purchasing power parity theory . beginning turmoil , exchange rate movements generally take lead interest rates first month , monetary authorities take lead afterwards . results reveal small open emerging economy direct inflation targeting monetary policy regime , relationship exchange rates interest rate fundamentally different advanced economy . also , results stress necessity central bank must pay simultaneous attention variables order achieve monetary policy targets .',\n",
       " 'paper studies monetary policy jointly affects asset prices real economy united states . develop estimator uses high-frequency surprises proxy structural monetary policy shocks . achieved integrating surprises vector autoregressive model exogenous variable . use current short-term rate surprises least affected information effect . allowing time-varying model parameters , find compared response output , reaction stock house prices monetary policy shocks particularly low 2007â€ “ 2009 financial crisis .',\n",
       " \"paper examines dynamic behaviour bank lending channel mean various quantiles sample european banks , making use quantiles regression methodology , spanning period 2000–2012 . first case , bank lending channel exists . contrast , policy interest rates estimated lower quantiles rates approach zero lower bound , monetary policy 's capacity influence banking loans seems lose momentum found completely ineffective critical policy interest rate . results remain robust different bank characteristics capitalisation , asset size , liquidity , well alternative scenarios concerning definition monetary decisions construction lending activities . empirical findings also survived robustness checks , different methodological approach , role securitisation role non-conventional monetary policy measures . empirical findings expected significant context recent global financial crisis central banks push policy interest rates close zero . distressed financial environment , changes bank lending terms form explicit component macroeconomic models describe monetary policy rules used policy advice .\"]"
      ]
     },
     "execution_count": 30,
     "metadata": {},
     "output_type": "execute_result"
    }
   ],
   "source": [
    "topic_model.get_representative_docs()[0]"
   ]
  },
  {
   "cell_type": "code",
   "execution_count": 31,
   "metadata": {},
   "outputs": [
    {
     "data": {
      "text/html": [
       "<div>\n",
       "<style scoped>\n",
       "    .dataframe tbody tr th:only-of-type {\n",
       "        vertical-align: middle;\n",
       "    }\n",
       "\n",
       "    .dataframe tbody tr th {\n",
       "        vertical-align: top;\n",
       "    }\n",
       "\n",
       "    .dataframe thead th {\n",
       "        text-align: right;\n",
       "    }\n",
       "</style>\n",
       "<table border=\"1\" class=\"dataframe\">\n",
       "  <thead>\n",
       "    <tr style=\"text-align: right;\">\n",
       "      <th></th>\n",
       "      <th>Document</th>\n",
       "      <th>Topic</th>\n",
       "    </tr>\n",
       "  </thead>\n",
       "  <tbody>\n",
       "    <tr>\n",
       "      <th>0</th>\n",
       "      <td>fisher et al . ( 2012 ) â€ “ â€ “ henceforth ,...</td>\n",
       "      <td>-1</td>\n",
       "    </tr>\n",
       "    <tr>\n",
       "      <th>1</th>\n",
       "      <td>propose model delegated asset management expla...</td>\n",
       "      <td>0</td>\n",
       "    </tr>\n",
       "    <tr>\n",
       "      <th>2</th>\n",
       "      <td>article studies dynamic agency problem risk-av...</td>\n",
       "      <td>1</td>\n",
       "    </tr>\n",
       "    <tr>\n",
       "      <th>3</th>\n",
       "      <td>using 219-year sample , find us output growth ...</td>\n",
       "      <td>0</td>\n",
       "    </tr>\n",
       "    <tr>\n",
       "      <th>4</th>\n",
       "      <td>model long-run firm performance , management c...</td>\n",
       "      <td>0</td>\n",
       "    </tr>\n",
       "    <tr>\n",
       "      <th>5</th>\n",
       "      <td>study examines whether pre-crisis internationa...</td>\n",
       "      <td>0</td>\n",
       "    </tr>\n",
       "    <tr>\n",
       "      <th>6</th>\n",
       "      <td>report experiment subjects indifferent real-mo...</td>\n",
       "      <td>1</td>\n",
       "    </tr>\n",
       "    <tr>\n",
       "      <th>7</th>\n",
       "      <td>compare market prices risk economies identical...</td>\n",
       "      <td>0</td>\n",
       "    </tr>\n",
       "    <tr>\n",
       "      <th>8</th>\n",
       "      <td>presence background risk increases self-protec...</td>\n",
       "      <td>1</td>\n",
       "    </tr>\n",
       "    <tr>\n",
       "      <th>9</th>\n",
       "      <td>widely recognized 2006 massachusetts health re...</td>\n",
       "      <td>12</td>\n",
       "    </tr>\n",
       "    <tr>\n",
       "      <th>10</th>\n",
       "      <td>decompose aggregate market variance average co...</td>\n",
       "      <td>0</td>\n",
       "    </tr>\n",
       "    <tr>\n",
       "      <th>11</th>\n",
       "      <td>using micro-founded model likelihood-based inf...</td>\n",
       "      <td>0</td>\n",
       "    </tr>\n",
       "    <tr>\n",
       "      <th>12</th>\n",
       "      <td>comment highlights different ways coding crisi...</td>\n",
       "      <td>17</td>\n",
       "    </tr>\n",
       "    <tr>\n",
       "      <th>13</th>\n",
       "      <td>investor protection associated greater investm...</td>\n",
       "      <td>0</td>\n",
       "    </tr>\n",
       "    <tr>\n",
       "      <th>14</th>\n",
       "      <td>assess employment impact lisbon strategy , exa...</td>\n",
       "      <td>2</td>\n",
       "    </tr>\n",
       "    <tr>\n",
       "      <th>15</th>\n",
       "      <td>micro-founded model allows changes monetary/fi...</td>\n",
       "      <td>0</td>\n",
       "    </tr>\n",
       "    <tr>\n",
       "      <th>16</th>\n",
       "      <td>data used economists broadly divided two categ...</td>\n",
       "      <td>-1</td>\n",
       "    </tr>\n",
       "    <tr>\n",
       "      <th>17</th>\n",
       "      <td>prevalence internet-based sales highlighted wo...</td>\n",
       "      <td>3</td>\n",
       "    </tr>\n",
       "    <tr>\n",
       "      <th>18</th>\n",
       "      <td>present model equilibrium movement capital ass...</td>\n",
       "      <td>0</td>\n",
       "    </tr>\n",
       "    <tr>\n",
       "      <th>19</th>\n",
       "      <td>paper , derive experimentally test theoretical...</td>\n",
       "      <td>0</td>\n",
       "    </tr>\n",
       "  </tbody>\n",
       "</table>\n",
       "</div>"
      ],
      "text/plain": [
       "                                             Document  Topic\n",
       "0   fisher et al . ( 2012 ) â€ “ â€ “ henceforth ,...     -1\n",
       "1   propose model delegated asset management expla...      0\n",
       "2   article studies dynamic agency problem risk-av...      1\n",
       "3   using 219-year sample , find us output growth ...      0\n",
       "4   model long-run firm performance , management c...      0\n",
       "5   study examines whether pre-crisis internationa...      0\n",
       "6   report experiment subjects indifferent real-mo...      1\n",
       "7   compare market prices risk economies identical...      0\n",
       "8   presence background risk increases self-protec...      1\n",
       "9   widely recognized 2006 massachusetts health re...     12\n",
       "10  decompose aggregate market variance average co...      0\n",
       "11  using micro-founded model likelihood-based inf...      0\n",
       "12  comment highlights different ways coding crisi...     17\n",
       "13  investor protection associated greater investm...      0\n",
       "14  assess employment impact lisbon strategy , exa...      2\n",
       "15  micro-founded model allows changes monetary/fi...      0\n",
       "16  data used economists broadly divided two categ...     -1\n",
       "17  prevalence internet-based sales highlighted wo...      3\n",
       "18  present model equilibrium movement capital ass...      0\n",
       "19  paper , derive experimentally test theoretical...      0"
      ]
     },
     "execution_count": 31,
     "metadata": {},
     "output_type": "execute_result"
    }
   ],
   "source": [
    "# get the most significant topic an abstract belongs to \n",
    "df_rep = pd.DataFrame({\"Document\": abstracts, \"Topic\": topics})\n",
    "df_rep.head(20)"
   ]
  },
  {
   "cell_type": "code",
   "execution_count": 38,
   "metadata": {},
   "outputs": [
    {
     "data": {
      "text/plain": [
       "15400"
      ]
     },
     "execution_count": 38,
     "metadata": {},
     "output_type": "execute_result"
    }
   ],
   "source": [
    "# sum of all freq equal to the number of docs\n",
    "sum([topic_model.get_topic_freq(topic=i-1) for i in range(26)])"
   ]
  },
  {
   "cell_type": "code",
   "execution_count": 39,
   "metadata": {},
   "outputs": [
    {
     "data": {
      "text/plain": [
       "5501"
      ]
     },
     "execution_count": 39,
     "metadata": {},
     "output_type": "execute_result"
    }
   ],
   "source": [
    "topic_model.get_topic_freq(topic=0)"
   ]
  },
  {
   "cell_type": "code",
   "execution_count": 33,
   "metadata": {},
   "outputs": [
    {
     "data": {
      "text/plain": [
       "5501"
      ]
     },
     "execution_count": 33,
     "metadata": {},
     "output_type": "execute_result"
    }
   ],
   "source": [
    "sum([item == 0 for item in df_rep[\"Topic\"]])"
   ]
  }
 ],
 "metadata": {
  "kernelspec": {
   "display_name": "base",
   "language": "python",
   "name": "python3"
  },
  "language_info": {
   "codemirror_mode": {
    "name": "ipython",
    "version": 3
   },
   "file_extension": ".py",
   "mimetype": "text/x-python",
   "name": "python",
   "nbconvert_exporter": "python",
   "pygments_lexer": "ipython3",
   "version": "3.9.12"
  },
  "orig_nbformat": 4,
  "vscode": {
   "interpreter": {
    "hash": "49cb93f377a7abe7414b7b0f21fb3017538004a126cf690fb524202736b7fb92"
   }
  }
 },
 "nbformat": 4,
 "nbformat_minor": 2
}
